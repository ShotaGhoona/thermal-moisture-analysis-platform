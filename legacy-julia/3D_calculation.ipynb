{
 "cells": [
  {
   "attachments": {},
   "cell_type": "markdown",
   "metadata": {},
   "source": [
    "</br>\n",
    "\n",
    "# Sampleプログラム：3次元熱水分同時移動解析  "
   ]
  },
  {
   "cell_type": "markdown",
   "metadata": {},
   "source": [
    "### やること\n",
    "- 3次元データの入力関係\n",
    "- 常微分方程式による解法\n",
    "- 境界条件の入力関係"
   ]
  },
  {
   "attachments": {},
   "cell_type": "markdown",
   "metadata": {
    "tags": []
   },
   "source": [
    "## 手順0：計算に必要なモジュールを読み込む  "
   ]
  },
  {
   "cell_type": "code",
   "execution_count": 3,
   "metadata": {},
   "outputs": [
    {
     "name": "stderr",
     "output_type": "stream",
     "text": [
      "\u001b[32m\u001b[1m    Updating\u001b[22m\u001b[39m registry at `C:\\Users\\takat\\.julia\\registries\\General.toml`\n",
      "\u001b[32m\u001b[1m   Resolving\u001b[22m\u001b[39m package versions...\n",
      "\u001b[32m\u001b[1m   Installed\u001b[22m\u001b[39m libfdk_aac_jll ─────────────── v2.0.3+0\n",
      "\u001b[32m\u001b[1m   Installed\u001b[22m\u001b[39m LoggingExtras ──────────────── v1.1.0\n",
      "\u001b[32m\u001b[1m   Installed\u001b[22m\u001b[39m Libmount_jll ───────────────── v2.40.2+0\n",
      "\u001b[32m\u001b[1m   Installed\u001b[22m\u001b[39m JpegTurbo_jll ──────────────── v3.0.4+0\n",
      "\u001b[32m\u001b[1m   Installed\u001b[22m\u001b[39m x265_jll ───────────────────── v3.5.0+0\n",
      "\u001b[32m\u001b[1m   Installed\u001b[22m\u001b[39m LERC_jll ───────────────────── v4.0.0+0\n",
      "\u001b[32m\u001b[1m   Installed\u001b[22m\u001b[39m libdecor_jll ───────────────── v0.2.2+0\n",
      "\u001b[32m\u001b[1m   Installed\u001b[22m\u001b[39m Xorg_xkbcomp_jll ───────────── v1.4.6+0\n",
      "\u001b[32m\u001b[1m   Installed\u001b[22m\u001b[39m Unitful ────────────────────── v1.21.1\n",
      "\u001b[32m\u001b[1m   Installed\u001b[22m\u001b[39m ConcurrentUtilities ────────── v2.4.2\n",
      "\u001b[32m\u001b[1m   Installed\u001b[22m\u001b[39m Opus_jll ───────────────────── v1.3.3+0\n",
      "\u001b[32m\u001b[1m   Installed\u001b[22m\u001b[39m Measures ───────────────────── v0.3.2\n",
      "\u001b[32m\u001b[1m   Installed\u001b[22m\u001b[39m RelocatableFolders ─────────── v1.0.1\n",
      "\u001b[32m\u001b[1m   Installed\u001b[22m\u001b[39m Xorg_xcb_util_wm_jll ───────── v0.4.1+1\n",
      "\u001b[32m\u001b[1m   Installed\u001b[22m\u001b[39m Grisu ──────────────────────── v1.0.2\n",
      "\u001b[32m\u001b[1m   Installed\u001b[22m\u001b[39m RecipesPipeline ────────────── v0.6.12\n",
      "\u001b[32m\u001b[1m   Installed\u001b[22m\u001b[39m PlotUtils ──────────────────── v1.4.3\n",
      "\u001b[32m\u001b[1m   Installed\u001b[22m\u001b[39m Xorg_xcb_util_image_jll ────── v0.4.0+1\n",
      "\u001b[32m\u001b[1m   Installed\u001b[22m\u001b[39m Contour ────────────────────── v0.6.3\n",
      "\u001b[32m\u001b[1m   Installed\u001b[22m\u001b[39m DelimitedFiles ─────────────── v1.9.1\n",
      "\u001b[32m\u001b[1m   Installed\u001b[22m\u001b[39m OpenSSL ────────────────────── v1.4.3\n",
      "\u001b[32m\u001b[1m   Installed\u001b[22m\u001b[39m Cairo_jll ──────────────────── v1.18.2+1\n",
      "\u001b[32m\u001b[1m   Installed\u001b[22m\u001b[39m GR_jll ─────────────────────── v0.73.8+0\n",
      "\u001b[32m\u001b[1m   Installed\u001b[22m\u001b[39m GR ─────────────────────────── v0.73.8\n",
      "\u001b[32m\u001b[1m   Installed\u001b[22m\u001b[39m Fontconfig_jll ─────────────── v2.13.96+0\n",
      "\u001b[32m\u001b[1m   Installed\u001b[22m\u001b[39m Xorg_libpthread_stubs_jll ──── v0.1.1+1\n",
      "\u001b[32m\u001b[1m   Installed\u001b[22m\u001b[39m Xorg_libSM_jll ─────────────── v1.2.4+0\n",
      "\u001b[32m\u001b[1m   Installed\u001b[22m\u001b[39m Xorg_libXau_jll ────────────── v1.0.11+1\n",
      "\u001b[32m\u001b[1m   Installed\u001b[22m\u001b[39m EpollShim_jll ──────────────── v0.0.20230411+0\n",
      "\u001b[32m\u001b[1m   Installed\u001b[22m\u001b[39m HTTP ───────────────────────── v1.10.12\n",
      "\u001b[32m\u001b[1m   Installed\u001b[22m\u001b[39m Xorg_libxkbfile_jll ────────── v1.1.2+0\n",
      "\u001b[32m\u001b[1m   Installed\u001b[22m\u001b[39m Xorg_xcb_util_jll ──────────── v0.4.0+1\n",
      "\u001b[32m\u001b[1m   Installed\u001b[22m\u001b[39m Pango_jll ──────────────────── v1.54.1+0\n",
      "\u001b[32m\u001b[1m   Installed\u001b[22m\u001b[39m Xorg_xcb_util_keysyms_jll ──── v0.4.0+1\n",
      "\u001b[32m\u001b[1m   Installed\u001b[22m\u001b[39m Libgpg_error_jll ───────────── v1.50.0+0\n",
      "\u001b[32m\u001b[1m   Installed\u001b[22m\u001b[39m xkbcommon_jll ──────────────── v1.4.1+1\n",
      "\u001b[32m\u001b[1m   Installed\u001b[22m\u001b[39m FFMPEG ─────────────────────── v0.4.2\n",
      "\u001b[32m\u001b[1m   Installed\u001b[22m\u001b[39m Pipe ───────────────────────── v1.3.0\n",
      "\u001b[32m\u001b[1m   Installed\u001b[22m\u001b[39m Xorg_libXinerama_jll ───────── v1.1.4+4\n",
      "\u001b[32m\u001b[1m   Installed\u001b[22m\u001b[39m IrrationalConstants ────────── v0.2.2\n",
      "\u001b[32m\u001b[1m   Installed\u001b[22m\u001b[39m PlotThemes ─────────────────── v3.3.0\n",
      "\u001b[32m\u001b[1m   Installed\u001b[22m\u001b[39m Showoff ────────────────────── v1.0.3\n",
      "\u001b[32m\u001b[1m   Installed\u001b[22m\u001b[39m SimpleBufferStream ─────────── v1.2.0\n",
      "\u001b[32m\u001b[1m   Installed\u001b[22m\u001b[39m HarfBuzz_jll ───────────────── v8.3.1+0\n",
      "\u001b[32m\u001b[1m   Installed\u001b[22m\u001b[39m LZO_jll ────────────────────── v2.10.2+1\n",
      "\u001b[32m\u001b[1m   Installed\u001b[22m\u001b[39m fzf_jll ────────────────────── v0.56.3+0\n",
      "\u001b[32m\u001b[1m   Installed\u001b[22m\u001b[39m NaNMath ────────────────────── v1.0.2\n",
      "\u001b[32m\u001b[1m   Installed\u001b[22m\u001b[39m XZ_jll ─────────────────────── v5.6.3+0\n",
      "\u001b[32m\u001b[1m   Installed\u001b[22m\u001b[39m UnicodeFun ─────────────────── v0.4.1\n",
      "\u001b[32m\u001b[1m   Installed\u001b[22m\u001b[39m FriBidi_jll ────────────────── v1.0.14+0\n",
      "\u001b[32m\u001b[1m   Installed\u001b[22m\u001b[39m JLFzf ──────────────────────── v0.1.9\n",
      "\u001b[32m\u001b[1m   Installed\u001b[22m\u001b[39m StatsAPI ───────────────────── v1.7.0\n",
      "\u001b[32m\u001b[1m   Installed\u001b[22m\u001b[39m Xorg_libxcb_jll ────────────── v1.17.0+1\n",
      "\u001b[32m\u001b[1m   Installed\u001b[22m\u001b[39m libpng_jll ─────────────────── v1.6.44+0\n",
      "\u001b[32m\u001b[1m   Installed\u001b[22m\u001b[39m mtdev_jll ──────────────────── v1.1.6+0\n",
      "\u001b[32m\u001b[1m   Installed\u001b[22m\u001b[39m StatsBase ──────────────────── v0.34.3\n",
      "\u001b[32m\u001b[1m   Installed\u001b[22m\u001b[39m ColorSchemes ───────────────── v3.27.1\n",
      "\u001b[32m\u001b[1m   Installed\u001b[22m\u001b[39m x264_jll ───────────────────── v2021.5.5+0\n",
      "\u001b[32m\u001b[1m   Installed\u001b[22m\u001b[39m FreeType2_jll ──────────────── v2.13.3+1\n",
      "\u001b[32m\u001b[1m   Installed\u001b[22m\u001b[39m Bzip2_jll ──────────────────── v1.0.8+2\n",
      "\u001b[32m\u001b[1m   Installed\u001b[22m\u001b[39m GLFW_jll ───────────────────── v3.4.0+1\n",
      "\u001b[32m\u001b[1m   Installed\u001b[22m\u001b[39m ExceptionUnwrapping ────────── v0.1.11\n",
      "\u001b[32m\u001b[1m   Installed\u001b[22m\u001b[39m Colors ─────────────────────── v0.13.0\n",
      "\u001b[32m\u001b[1m   Installed\u001b[22m\u001b[39m libaom_jll ─────────────────── v3.9.0+0\n",
      "\u001b[32m\u001b[1m   Installed\u001b[22m\u001b[39m gperf_jll ──────────────────── v3.1.1+1\n",
      "\u001b[32m\u001b[1m   Installed\u001b[22m\u001b[39m Scratch ────────────────────── v1.2.1\n",
      "\u001b[32m\u001b[1m   Installed\u001b[22m\u001b[39m Dbus_jll ───────────────────── v1.14.10+0\n",
      "\u001b[32m\u001b[1m   Installed\u001b[22m\u001b[39m ColorTypes ─────────────────── v0.12.0\n",
      "\u001b[32m\u001b[1m   Installed\u001b[22m\u001b[39m Plots ──────────────────────── v1.40.9\n",
      "\u001b[32m\u001b[1m   Installed\u001b[22m\u001b[39m eudev_jll ──────────────────── v3.2.9+0\n",
      "\u001b[32m\u001b[1m   Installed\u001b[22m\u001b[39m TensorCore ─────────────────── v0.1.1\n",
      "\u001b[32m\u001b[1m   Installed\u001b[22m\u001b[39m Xorg_libXext_jll ───────────── v1.3.6+1\n",
      "\u001b[32m\u001b[1m   Installed\u001b[22m\u001b[39m Zstd_jll ───────────────────── v1.5.6+1\n",
      "\u001b[32m\u001b[1m   Installed\u001b[22m\u001b[39m Xorg_xcb_util_cursor_jll ───── v0.1.4+0\n",
      "\u001b[32m\u001b[1m   Installed\u001b[22m\u001b[39m Expat_jll ──────────────────── v2.6.4+0\n",
      "\u001b[32m\u001b[1m   Installed\u001b[22m\u001b[39m Libtiff_jll ────────────────── v4.7.0+0\n",
      "\u001b[32m\u001b[1m   Installed\u001b[22m\u001b[39m libinput_jll ───────────────── v1.18.0+0\n",
      "\u001b[32m\u001b[1m   Installed\u001b[22m\u001b[39m Vulkan_Loader_jll ──────────── v1.3.243+0\n",
      "\u001b[32m\u001b[1m   Installed\u001b[22m\u001b[39m Format ─────────────────────── v1.3.7\n",
      "\u001b[32m\u001b[1m   Installed\u001b[22m\u001b[39m ColorVectorSpace ───────────── v0.11.0\n",
      "\u001b[32m\u001b[1m   Installed\u001b[22m\u001b[39m Libffi_jll ─────────────────── v3.2.2+1\n",
      "\u001b[32m\u001b[1m   Installed\u001b[22m\u001b[39m Qt6ShaderTools_jll ─────────── v6.7.1+1\n",
      "\u001b[32m\u001b[1m   Installed\u001b[22m\u001b[39m Xorg_libXrender_jll ────────── v0.9.11+0\n",
      "\u001b[32m\u001b[1m   Installed\u001b[22m\u001b[39m libevdev_jll ───────────────── v1.11.0+0\n",
      "\u001b[32m\u001b[1m   Installed\u001b[22m\u001b[39m Xorg_libXi_jll ─────────────── v1.7.10+4\n",
      "\u001b[32m\u001b[1m   Installed\u001b[22m\u001b[39m Ogg_jll ────────────────────── v1.3.5+1\n",
      "\u001b[32m\u001b[1m   Installed\u001b[22m\u001b[39m XSLT_jll ───────────────────── v1.1.42+0\n",
      "\u001b[32m\u001b[1m   Installed\u001b[22m\u001b[39m LogExpFunctions ────────────── v0.3.28\n",
      "\u001b[32m\u001b[1m   Installed\u001b[22m\u001b[39m MacroTools ─────────────────── v0.5.13\n",
      "\u001b[32m\u001b[1m   Installed\u001b[22m\u001b[39m Libuuid_jll ────────────────── v2.40.2+0\n",
      "\u001b[32m\u001b[1m   Installed\u001b[22m\u001b[39m Qt6Declarative_jll ─────────── v6.7.1+2\n",
      "\u001b[32m\u001b[1m   Installed\u001b[22m\u001b[39m DocStringExtensions ────────── v0.9.3\n",
      "\u001b[32m\u001b[1m   Installed\u001b[22m\u001b[39m Wayland_protocols_jll ──────── v1.31.0+0\n",
      "\u001b[32m\u001b[1m   Installed\u001b[22m\u001b[39m Xorg_libXcursor_jll ────────── v1.2.0+4\n",
      "\u001b[32m\u001b[1m   Installed\u001b[22m\u001b[39m Xorg_xcb_util_renderutil_jll ─ v0.3.9+1\n",
      "\u001b[32m\u001b[1m   Installed\u001b[22m\u001b[39m Latexify ───────────────────── v0.16.5\n",
      "\u001b[32m\u001b[1m   Installed\u001b[22m\u001b[39m Xorg_libICE_jll ────────────── v1.1.1+0\n",
      "\u001b[32m\u001b[1m   Installed\u001b[22m\u001b[39m libass_jll ─────────────────── v0.15.2+0\n",
      "\u001b[32m\u001b[1m   Installed\u001b[22m\u001b[39m Pixman_jll ─────────────────── v0.43.4+0\n",
      "\u001b[32m\u001b[1m   Installed\u001b[22m\u001b[39m StableRNGs ─────────────────── v1.0.2\n",
      "\u001b[32m\u001b[1m   Installed\u001b[22m\u001b[39m FFMPEG_jll ─────────────────── v4.4.4+1\n",
      "\u001b[32m\u001b[1m   Installed\u001b[22m\u001b[39m XML2_jll ───────────────────── v2.13.5+0\n",
      "\u001b[32m\u001b[1m   Installed\u001b[22m\u001b[39m Graphite2_jll ──────────────── v1.3.14+1\n",
      "\u001b[32m\u001b[1m   Installed\u001b[22m\u001b[39m Gettext_jll ────────────────── v0.21.0+0\n",
      "\u001b[32m\u001b[1m   Installed\u001b[22m\u001b[39m Wayland_jll ────────────────── v1.21.0+1\n",
      "\u001b[32m\u001b[1m   Installed\u001b[22m\u001b[39m Xorg_xtrans_jll ────────────── v1.5.0+1\n",
      "\u001b[32m\u001b[1m   Installed\u001b[22m\u001b[39m BitFlags ───────────────────── v0.1.9\n",
      "\u001b[32m\u001b[1m   Installed\u001b[22m\u001b[39m OpenSSL_jll ────────────────── v3.0.15+1\n",
      "\u001b[32m\u001b[1m   Installed\u001b[22m\u001b[39m Libgcrypt_jll ──────────────── v1.11.0+0\n",
      "\u001b[32m\u001b[1m   Installed\u001b[22m\u001b[39m LLVMOpenMP_jll ─────────────── v18.1.7+0\n",
      "\u001b[32m\u001b[1m   Installed\u001b[22m\u001b[39m RecipesBase ────────────────── v1.3.4\n",
      "\u001b[32m\u001b[1m   Installed\u001b[22m\u001b[39m Xorg_xkeyboard_config_jll ──── v2.39.0+0\n",
      "\u001b[32m\u001b[1m   Installed\u001b[22m\u001b[39m FixedPointNumbers ──────────── v0.8.5\n",
      "\u001b[32m\u001b[1m   Installed\u001b[22m\u001b[39m URIs ───────────────────────── v1.5.1\n",
      "\u001b[32m\u001b[1m   Installed\u001b[22m\u001b[39m Xorg_libXrandr_jll ─────────── v1.5.2+4\n",
      "\u001b[32m\u001b[1m   Installed\u001b[22m\u001b[39m Xorg_libXfixes_jll ─────────── v5.0.3+4\n",
      "\u001b[32m\u001b[1m   Installed\u001b[22m\u001b[39m LAME_jll ───────────────────── v3.100.2+0\n",
      "\u001b[32m\u001b[1m   Installed\u001b[22m\u001b[39m Libiconv_jll ───────────────── v1.17.0+1\n",
      "\u001b[32m\u001b[1m   Installed\u001b[22m\u001b[39m Qt6Base_jll ────────────────── v6.7.1+1\n",
      "\u001b[32m\u001b[1m   Installed\u001b[22m\u001b[39m Glib_jll ───────────────────── v2.82.2+0\n",
      "\u001b[32m\u001b[1m   Installed\u001b[22m\u001b[39m Qt6Wayland_jll ─────────────── v6.7.1+1\n",
      "\u001b[32m\u001b[1m   Installed\u001b[22m\u001b[39m libvorbis_jll ──────────────── v1.3.7+2\n",
      "\u001b[32m\u001b[1m   Installed\u001b[22m\u001b[39m Unzip ──────────────────────── v0.2.0\n",
      "\u001b[32m\u001b[1m   Installed\u001b[22m\u001b[39m Libglvnd_jll ───────────────── v1.7.0+0\n",
      "\u001b[32m\u001b[1m   Installed\u001b[22m\u001b[39m Requires ───────────────────── v1.3.0\n",
      "\u001b[32m\u001b[1m   Installed\u001b[22m\u001b[39m UnitfulLatexify ────────────── v1.6.4\n",
      "\u001b[32m\u001b[1m   Installed\u001b[22m\u001b[39m Xorg_libX11_jll ────────────── v1.8.6+1\n",
      "\u001b[32m\u001b[1m   Installed\u001b[22m\u001b[39m Xorg_libXdmcp_jll ──────────── v1.1.4+1\n",
      "\u001b[32m\u001b[1m    Updating\u001b[22m\u001b[39m `C:\\Users\\takat\\.julia\\environments\\v1.11\\Project.toml`\n",
      "  \u001b[90m[91a5bcdd] \u001b[39m\u001b[92m+ Plots v1.40.9\u001b[39m\n",
      "\u001b[32m\u001b[1m    Updating\u001b[22m\u001b[39m `C:\\Users\\takat\\.julia\\environments\\v1.11\\Manifest.toml`\n",
      "  \u001b[90m[d1d4a3ce] \u001b[39m\u001b[92m+ BitFlags v0.1.9\u001b[39m\n",
      "  \u001b[90m[35d6a980] \u001b[39m\u001b[92m+ ColorSchemes v3.27.1\u001b[39m\n",
      "  \u001b[90m[3da002f7] \u001b[39m\u001b[92m+ ColorTypes v0.12.0\u001b[39m\n",
      "  \u001b[90m[c3611d14] \u001b[39m\u001b[92m+ ColorVectorSpace v0.11.0\u001b[39m\n",
      "  \u001b[90m[5ae59095] \u001b[39m\u001b[92m+ Colors v0.13.0\u001b[39m\n",
      "  \u001b[90m[f0e56b4a] \u001b[39m\u001b[92m+ ConcurrentUtilities v2.4.2\u001b[39m\n",
      "  \u001b[90m[d38c429a] \u001b[39m\u001b[92m+ Contour v0.6.3\u001b[39m\n",
      "  \u001b[90m[8bb1440f] \u001b[39m\u001b[92m+ DelimitedFiles v1.9.1\u001b[39m\n",
      "  \u001b[90m[ffbed154] \u001b[39m\u001b[92m+ DocStringExtensions v0.9.3\u001b[39m\n",
      "  \u001b[90m[460bff9d] \u001b[39m\u001b[92m+ ExceptionUnwrapping v0.1.11\u001b[39m\n",
      "  \u001b[90m[c87230d0] \u001b[39m\u001b[92m+ FFMPEG v0.4.2\u001b[39m\n",
      "  \u001b[90m[53c48c17] \u001b[39m\u001b[92m+ FixedPointNumbers v0.8.5\u001b[39m\n",
      "  \u001b[90m[1fa38f19] \u001b[39m\u001b[92m+ Format v1.3.7\u001b[39m\n",
      "  \u001b[90m[28b8d3ca] \u001b[39m\u001b[92m+ GR v0.73.8\u001b[39m\n",
      "  \u001b[90m[42e2da0e] \u001b[39m\u001b[92m+ Grisu v1.0.2\u001b[39m\n",
      "  \u001b[90m[cd3eb016] \u001b[39m\u001b[92m+ HTTP v1.10.12\u001b[39m\n",
      "  \u001b[90m[92d709cd] \u001b[39m\u001b[92m+ IrrationalConstants v0.2.2\u001b[39m\n",
      "  \u001b[90m[1019f520] \u001b[39m\u001b[92m+ JLFzf v0.1.9\u001b[39m\n",
      "  \u001b[90m[23fbe1c1] \u001b[39m\u001b[92m+ Latexify v0.16.5\u001b[39m\n",
      "  \u001b[90m[2ab3a3ac] \u001b[39m\u001b[92m+ LogExpFunctions v0.3.28\u001b[39m\n",
      "  \u001b[90m[e6f89c97] \u001b[39m\u001b[92m+ LoggingExtras v1.1.0\u001b[39m\n",
      "  \u001b[90m[1914dd2f] \u001b[39m\u001b[92m+ MacroTools v0.5.13\u001b[39m\n",
      "  \u001b[90m[442fdcdd] \u001b[39m\u001b[92m+ Measures v0.3.2\u001b[39m\n",
      "  \u001b[90m[77ba4419] \u001b[39m\u001b[92m+ NaNMath v1.0.2\u001b[39m\n",
      "  \u001b[90m[4d8831e6] \u001b[39m\u001b[92m+ OpenSSL v1.4.3\u001b[39m\n",
      "  \u001b[90m[b98c9c47] \u001b[39m\u001b[92m+ Pipe v1.3.0\u001b[39m\n",
      "  \u001b[90m[ccf2f8ad] \u001b[39m\u001b[92m+ PlotThemes v3.3.0\u001b[39m\n",
      "  \u001b[90m[995b91a9] \u001b[39m\u001b[92m+ PlotUtils v1.4.3\u001b[39m\n",
      "  \u001b[90m[91a5bcdd] \u001b[39m\u001b[92m+ Plots v1.40.9\u001b[39m\n",
      "  \u001b[90m[3cdcf5f2] \u001b[39m\u001b[92m+ RecipesBase v1.3.4\u001b[39m\n",
      "  \u001b[90m[01d81517] \u001b[39m\u001b[92m+ RecipesPipeline v0.6.12\u001b[39m\n",
      "  \u001b[90m[05181044] \u001b[39m\u001b[92m+ RelocatableFolders v1.0.1\u001b[39m\n",
      "  \u001b[90m[ae029012] \u001b[39m\u001b[92m+ Requires v1.3.0\u001b[39m\n",
      "  \u001b[90m[6c6a2e73] \u001b[39m\u001b[92m+ Scratch v1.2.1\u001b[39m\n",
      "  \u001b[90m[992d4aef] \u001b[39m\u001b[92m+ Showoff v1.0.3\u001b[39m\n",
      "  \u001b[90m[777ac1f9] \u001b[39m\u001b[92m+ SimpleBufferStream v1.2.0\u001b[39m\n",
      "  \u001b[90m[860ef19b] \u001b[39m\u001b[92m+ StableRNGs v1.0.2\u001b[39m\n",
      "  \u001b[90m[82ae8749] \u001b[39m\u001b[92m+ StatsAPI v1.7.0\u001b[39m\n",
      "  \u001b[90m[2913bbd2] \u001b[39m\u001b[92m+ StatsBase v0.34.3\u001b[39m\n",
      "  \u001b[90m[62fd8b95] \u001b[39m\u001b[92m+ TensorCore v0.1.1\u001b[39m\n",
      "  \u001b[90m[5c2747f8] \u001b[39m\u001b[92m+ URIs v1.5.1\u001b[39m\n",
      "  \u001b[90m[1cfade01] \u001b[39m\u001b[92m+ UnicodeFun v0.4.1\u001b[39m\n",
      "  \u001b[90m[1986cc42] \u001b[39m\u001b[92m+ Unitful v1.21.1\u001b[39m\n",
      "  \u001b[90m[45397f5d] \u001b[39m\u001b[92m+ UnitfulLatexify v1.6.4\u001b[39m\n",
      "  \u001b[90m[41fe7b60] \u001b[39m\u001b[92m+ Unzip v0.2.0\u001b[39m\n",
      "  \u001b[90m[6e34b625] \u001b[39m\u001b[92m+ Bzip2_jll v1.0.8+2\u001b[39m\n",
      "  \u001b[90m[83423d85] \u001b[39m\u001b[92m+ Cairo_jll v1.18.2+1\u001b[39m\n",
      "  \u001b[90m[ee1fde0b] \u001b[39m\u001b[92m+ Dbus_jll v1.14.10+0\u001b[39m\n",
      "  \u001b[90m[2702e6a9] \u001b[39m\u001b[92m+ EpollShim_jll v0.0.20230411+0\u001b[39m\n",
      "  \u001b[90m[2e619515] \u001b[39m\u001b[92m+ Expat_jll v2.6.4+0\u001b[39m\n",
      "\u001b[33m⌅\u001b[39m \u001b[90m[b22a6f82] \u001b[39m\u001b[92m+ FFMPEG_jll v4.4.4+1\u001b[39m\n",
      "  \u001b[90m[a3f928ae] \u001b[39m\u001b[92m+ Fontconfig_jll v2.13.96+0\u001b[39m\n",
      "  \u001b[90m[d7e528f0] \u001b[39m\u001b[92m+ FreeType2_jll v2.13.3+1\u001b[39m\n",
      "  \u001b[90m[559328eb] \u001b[39m\u001b[92m+ FriBidi_jll v1.0.14+0\u001b[39m\n",
      "  \u001b[90m[0656b61e] \u001b[39m\u001b[92m+ GLFW_jll v3.4.0+1\u001b[39m\n",
      "  \u001b[90m[d2c73de3] \u001b[39m\u001b[92m+ GR_jll v0.73.8+0\u001b[39m\n",
      "  \u001b[90m[78b55507] \u001b[39m\u001b[92m+ Gettext_jll v0.21.0+0\u001b[39m\n",
      "  \u001b[90m[7746bdde] \u001b[39m\u001b[92m+ Glib_jll v2.82.2+0\u001b[39m\n",
      "  \u001b[90m[3b182d85] \u001b[39m\u001b[92m+ Graphite2_jll v1.3.14+1\u001b[39m\n",
      "  \u001b[90m[2e76f6c2] \u001b[39m\u001b[92m+ HarfBuzz_jll v8.3.1+0\u001b[39m\n",
      "  \u001b[90m[aacddb02] \u001b[39m\u001b[92m+ JpegTurbo_jll v3.0.4+0\u001b[39m\n",
      "  \u001b[90m[c1c5ebd0] \u001b[39m\u001b[92m+ LAME_jll v3.100.2+0\u001b[39m\n",
      "  \u001b[90m[88015f11] \u001b[39m\u001b[92m+ LERC_jll v4.0.0+0\u001b[39m\n",
      "  \u001b[90m[1d63c593] \u001b[39m\u001b[92m+ LLVMOpenMP_jll v18.1.7+0\u001b[39m\n",
      "  \u001b[90m[dd4b983a] \u001b[39m\u001b[92m+ LZO_jll v2.10.2+1\u001b[39m\n",
      "\u001b[33m⌅\u001b[39m \u001b[90m[e9f186c6] \u001b[39m\u001b[92m+ Libffi_jll v3.2.2+1\u001b[39m\n",
      "  \u001b[90m[d4300ac3] \u001b[39m\u001b[92m+ Libgcrypt_jll v1.11.0+0\u001b[39m\n",
      "  \u001b[90m[7e76a0d4] \u001b[39m\u001b[92m+ Libglvnd_jll v1.7.0+0\u001b[39m\n",
      "  \u001b[90m[7add5ba3] \u001b[39m\u001b[92m+ Libgpg_error_jll v1.50.0+0\u001b[39m\n",
      "  \u001b[90m[94ce4f54] \u001b[39m\u001b[92m+ Libiconv_jll v1.17.0+1\u001b[39m\n",
      "  \u001b[90m[4b2f31a3] \u001b[39m\u001b[92m+ Libmount_jll v2.40.2+0\u001b[39m\n",
      "  \u001b[90m[89763e89] \u001b[39m\u001b[92m+ Libtiff_jll v4.7.0+0\u001b[39m\n",
      "  \u001b[90m[38a345b3] \u001b[39m\u001b[92m+ Libuuid_jll v2.40.2+0\u001b[39m\n",
      "  \u001b[90m[e7412a2a] \u001b[39m\u001b[92m+ Ogg_jll v1.3.5+1\u001b[39m\n",
      "  \u001b[90m[458c3c95] \u001b[39m\u001b[92m+ OpenSSL_jll v3.0.15+1\u001b[39m\n",
      "  \u001b[90m[91d4177d] \u001b[39m\u001b[92m+ Opus_jll v1.3.3+0\u001b[39m\n",
      "  \u001b[90m[36c8627f] \u001b[39m\u001b[92m+ Pango_jll v1.54.1+0\u001b[39m\n",
      "\u001b[33m⌅\u001b[39m \u001b[90m[30392449] \u001b[39m\u001b[92m+ Pixman_jll v0.43.4+0\u001b[39m\n",
      "  \u001b[90m[c0090381] \u001b[39m\u001b[92m+ Qt6Base_jll v6.7.1+1\u001b[39m\n",
      "  \u001b[90m[629bc702] \u001b[39m\u001b[92m+ Qt6Declarative_jll v6.7.1+2\u001b[39m\n",
      "  \u001b[90m[ce943373] \u001b[39m\u001b[92m+ Qt6ShaderTools_jll v6.7.1+1\u001b[39m\n",
      "  \u001b[90m[e99dba38] \u001b[39m\u001b[92m+ Qt6Wayland_jll v6.7.1+1\u001b[39m\n",
      "  \u001b[90m[a44049a8] \u001b[39m\u001b[92m+ Vulkan_Loader_jll v1.3.243+0\u001b[39m\n",
      "  \u001b[90m[a2964d1f] \u001b[39m\u001b[92m+ Wayland_jll v1.21.0+1\u001b[39m\n",
      "  \u001b[90m[2381bf8a] \u001b[39m\u001b[92m+ Wayland_protocols_jll v1.31.0+0\u001b[39m\n",
      "  \u001b[90m[02c8fc9c] \u001b[39m\u001b[92m+ XML2_jll v2.13.5+0\u001b[39m\n",
      "  \u001b[90m[aed1982a] \u001b[39m\u001b[92m+ XSLT_jll v1.1.42+0\u001b[39m\n",
      "  \u001b[90m[ffd25f8a] \u001b[39m\u001b[92m+ XZ_jll v5.6.3+0\u001b[39m\n",
      "  \u001b[90m[f67eecfb] \u001b[39m\u001b[92m+ Xorg_libICE_jll v1.1.1+0\u001b[39m\n",
      "  \u001b[90m[c834827a] \u001b[39m\u001b[92m+ Xorg_libSM_jll v1.2.4+0\u001b[39m\n",
      "  \u001b[90m[4f6342f7] \u001b[39m\u001b[92m+ Xorg_libX11_jll v1.8.6+1\u001b[39m\n",
      "  \u001b[90m[0c0b7dd1] \u001b[39m\u001b[92m+ Xorg_libXau_jll v1.0.11+1\u001b[39m\n",
      "  \u001b[90m[935fb764] \u001b[39m\u001b[92m+ Xorg_libXcursor_jll v1.2.0+4\u001b[39m\n",
      "  \u001b[90m[a3789734] \u001b[39m\u001b[92m+ Xorg_libXdmcp_jll v1.1.4+1\u001b[39m\n",
      "  \u001b[90m[1082639a] \u001b[39m\u001b[92m+ Xorg_libXext_jll v1.3.6+1\u001b[39m\n",
      "  \u001b[90m[d091e8ba] \u001b[39m\u001b[92m+ Xorg_libXfixes_jll v5.0.3+4\u001b[39m\n",
      "  \u001b[90m[a51aa0fd] \u001b[39m\u001b[92m+ Xorg_libXi_jll v1.7.10+4\u001b[39m\n",
      "  \u001b[90m[d1454406] \u001b[39m\u001b[92m+ Xorg_libXinerama_jll v1.1.4+4\u001b[39m\n",
      "  \u001b[90m[ec84b674] \u001b[39m\u001b[92m+ Xorg_libXrandr_jll v1.5.2+4\u001b[39m\n",
      "  \u001b[90m[ea2f1a96] \u001b[39m\u001b[92m+ Xorg_libXrender_jll v0.9.11+0\u001b[39m\n",
      "  \u001b[90m[14d82f49] \u001b[39m\u001b[92m+ Xorg_libpthread_stubs_jll v0.1.1+1\u001b[39m\n",
      "  \u001b[90m[c7cfdc94] \u001b[39m\u001b[92m+ Xorg_libxcb_jll v1.17.0+1\u001b[39m\n",
      "  \u001b[90m[cc61e674] \u001b[39m\u001b[92m+ Xorg_libxkbfile_jll v1.1.2+0\u001b[39m\n",
      "  \u001b[90m[e920d4aa] \u001b[39m\u001b[92m+ Xorg_xcb_util_cursor_jll v0.1.4+0\u001b[39m\n",
      "  \u001b[90m[12413925] \u001b[39m\u001b[92m+ Xorg_xcb_util_image_jll v0.4.0+1\u001b[39m\n",
      "  \u001b[90m[2def613f] \u001b[39m\u001b[92m+ Xorg_xcb_util_jll v0.4.0+1\u001b[39m\n",
      "  \u001b[90m[975044d2] \u001b[39m\u001b[92m+ Xorg_xcb_util_keysyms_jll v0.4.0+1\u001b[39m\n",
      "  \u001b[90m[0d47668e] \u001b[39m\u001b[92m+ Xorg_xcb_util_renderutil_jll v0.3.9+1\u001b[39m\n",
      "  \u001b[90m[c22f9ab0] \u001b[39m\u001b[92m+ Xorg_xcb_util_wm_jll v0.4.1+1\u001b[39m\n",
      "  \u001b[90m[35661453] \u001b[39m\u001b[92m+ Xorg_xkbcomp_jll v1.4.6+0\u001b[39m\n",
      "  \u001b[90m[33bec58e] \u001b[39m\u001b[92m+ Xorg_xkeyboard_config_jll v2.39.0+0\u001b[39m\n",
      "  \u001b[90m[c5fb5394] \u001b[39m\u001b[92m+ Xorg_xtrans_jll v1.5.0+1\u001b[39m\n",
      "  \u001b[90m[3161d3a3] \u001b[39m\u001b[92m+ Zstd_jll v1.5.6+1\u001b[39m\n",
      "  \u001b[90m[35ca27e7] \u001b[39m\u001b[92m+ eudev_jll v3.2.9+0\u001b[39m\n",
      "  \u001b[90m[214eeab7] \u001b[39m\u001b[92m+ fzf_jll v0.56.3+0\u001b[39m\n",
      "  \u001b[90m[1a1c6b14] \u001b[39m\u001b[92m+ gperf_jll v3.1.1+1\u001b[39m\n",
      "  \u001b[90m[a4ae2306] \u001b[39m\u001b[92m+ libaom_jll v3.9.0+0\u001b[39m\n",
      "  \u001b[90m[0ac62f75] \u001b[39m\u001b[92m+ libass_jll v0.15.2+0\u001b[39m\n",
      "  \u001b[90m[1183f4f0] \u001b[39m\u001b[92m+ libdecor_jll v0.2.2+0\u001b[39m\n",
      "  \u001b[90m[2db6ffa8] \u001b[39m\u001b[92m+ libevdev_jll v1.11.0+0\u001b[39m\n",
      "  \u001b[90m[f638f0a6] \u001b[39m\u001b[92m+ libfdk_aac_jll v2.0.3+0\u001b[39m\n",
      "  \u001b[90m[36db933b] \u001b[39m\u001b[92m+ libinput_jll v1.18.0+0\u001b[39m\n",
      "  \u001b[90m[b53b4c65] \u001b[39m\u001b[92m+ libpng_jll v1.6.44+0\u001b[39m\n",
      "  \u001b[90m[f27f6e37] \u001b[39m\u001b[92m+ libvorbis_jll v1.3.7+2\u001b[39m\n",
      "  \u001b[90m[009596ad] \u001b[39m\u001b[92m+ mtdev_jll v1.1.6+0\u001b[39m\n",
      "\u001b[33m⌅\u001b[39m \u001b[90m[1270edf5] \u001b[39m\u001b[92m+ x264_jll v2021.5.5+0\u001b[39m\n",
      "\u001b[33m⌅\u001b[39m \u001b[90m[dfaa095f] \u001b[39m\u001b[92m+ x265_jll v3.5.0+0\u001b[39m\n",
      "  \u001b[90m[d8fb68d0] \u001b[39m\u001b[92m+ xkbcommon_jll v1.4.1+1\u001b[39m\n",
      "  \u001b[90m[2f01184e] \u001b[39m\u001b[92m+ SparseArrays v1.11.0\u001b[39m\n",
      "  \u001b[90m[05823500] \u001b[39m\u001b[92m+ OpenLibm_jll v0.8.1+2\u001b[39m\n",
      "  \u001b[90m[efcefdf7] \u001b[39m\u001b[92m+ PCRE2_jll v10.42.0+1\u001b[39m\n",
      "  \u001b[90m[bea87d4a] \u001b[39m\u001b[92m+ SuiteSparse_jll v7.7.0+0\u001b[39m\n",
      "\u001b[36m\u001b[1m        Info\u001b[22m\u001b[39m Packages marked with \u001b[33m⌅\u001b[39m have new versions available but compatibility constraints restrict them from upgrading. To see why use `status --outdated -m`\n",
      "\u001b[92m\u001b[1mPrecompiling\u001b[22m\u001b[39m project...\n",
      "    914.8 ms\u001b[32m  ✓ \u001b[39m\u001b[90mStatsAPI\u001b[39m\n",
      "    916.9 ms\u001b[32m  ✓ \u001b[39m\u001b[90mContour\u001b[39m\n",
      "   1609.1 ms\u001b[32m  ✓ \u001b[39m\u001b[90mTensorCore\u001b[39m\n",
      "    903.9 ms\u001b[32m  ✓ \u001b[39m\u001b[90mPipe\u001b[39m\n",
      "   1678.5 ms\u001b[32m  ✓ \u001b[39m\u001b[90mFormat\u001b[39m\n",
      "    848.5 ms\u001b[32m  ✓ \u001b[39m\u001b[90mMeasures\u001b[39m\n",
      "    913.1 ms\u001b[32m  ✓ \u001b[39m\u001b[90mStableRNGs\u001b[39m\n",
      "    921.2 ms\u001b[32m  ✓ \u001b[39m\u001b[90mRequires\u001b[39m\n",
      "   1287.1 ms\u001b[32m  ✓ \u001b[39m\u001b[90mGrisu\u001b[39m\n",
      "    705.8 ms\u001b[32m  ✓ \u001b[39m\u001b[90mSimpleBufferStream\u001b[39m\n",
      "    960.2 ms\u001b[32m  ✓ \u001b[39m\u001b[90mUnzip\u001b[39m\n",
      "   1096.2 ms\u001b[32m  ✓ \u001b[39m\u001b[90mURIs\u001b[39m\n",
      "    922.9 ms\u001b[32m  ✓ \u001b[39m\u001b[90mNaNMath\u001b[39m\n",
      "   1473.5 ms\u001b[32m  ✓ \u001b[39m\u001b[90mIrrationalConstants\u001b[39m\n",
      "    883.8 ms\u001b[32m  ✓ \u001b[39m\u001b[90mDelimitedFiles\u001b[39m\n",
      "    710.2 ms\u001b[32m  ✓ \u001b[39m\u001b[90mBitFlags\u001b[39m\n",
      "   1307.8 ms\u001b[32m  ✓ \u001b[39m\u001b[90mStatistics → SparseArraysExt\u001b[39m\n",
      "   1075.9 ms\u001b[32m  ✓ \u001b[39m\u001b[90mConcurrentUtilities\u001b[39m\n",
      "    763.6 ms\u001b[32m  ✓ \u001b[39m\u001b[90mScratch\u001b[39m\n",
      "    847.0 ms\u001b[32m  ✓ \u001b[39m\u001b[90mLoggingExtras\u001b[39m\n",
      "    958.4 ms\u001b[32m  ✓ \u001b[39m\u001b[90mDocStringExtensions\u001b[39m\n",
      "    916.7 ms\u001b[32m  ✓ \u001b[39m\u001b[90mExceptionUnwrapping\u001b[39m\n",
      "    969.3 ms\u001b[32m  ✓ \u001b[39m\u001b[90mOpenSSL_jll\u001b[39m\n",
      "   1919.5 ms\u001b[32m  ✓ \u001b[39m\u001b[90mUnicodeFun\u001b[39m\n",
      "    964.7 ms\u001b[32m  ✓ \u001b[39m\u001b[90mLibmount_jll\u001b[39m\n",
      "   2819.9 ms\u001b[32m  ✓ \u001b[39m\u001b[90mMacroTools\u001b[39m\n",
      "    892.1 ms\u001b[32m  ✓ \u001b[39m\u001b[90mEpollShim_jll\u001b[39m\n",
      "    992.5 ms\u001b[32m  ✓ \u001b[39m\u001b[90mLLVMOpenMP_jll\u001b[39m\n",
      "    884.5 ms\u001b[32m  ✓ \u001b[39m\u001b[90mXorg_libICE_jll\u001b[39m\n",
      "    832.0 ms\u001b[32m  ✓ \u001b[39m\u001b[90mXorg_libXau_jll\u001b[39m\n",
      "    960.1 ms\u001b[32m  ✓ \u001b[39m\u001b[90mlibpng_jll\u001b[39m\n",
      "    938.2 ms\u001b[32m  ✓ \u001b[39m\u001b[90mlibfdk_aac_jll\u001b[39m\n",
      "    969.1 ms\u001b[32m  ✓ \u001b[39m\u001b[90mLAME_jll\u001b[39m\n",
      "    976.4 ms\u001b[32m  ✓ \u001b[39m\u001b[90mLERC_jll\u001b[39m\n",
      "    884.7 ms\u001b[32m  ✓ \u001b[39m\u001b[90mfzf_jll\u001b[39m\n",
      "    983.8 ms\u001b[32m  ✓ \u001b[39m\u001b[90mJpegTurbo_jll\u001b[39m\n",
      "    971.7 ms\u001b[32m  ✓ \u001b[39m\u001b[90mXZ_jll\u001b[39m\n",
      "    833.9 ms\u001b[32m  ✓ \u001b[39m\u001b[90mXorg_libXdmcp_jll\u001b[39m\n",
      "    974.3 ms\u001b[32m  ✓ \u001b[39m\u001b[90mZstd_jll\u001b[39m\n",
      "    952.7 ms\u001b[32m  ✓ \u001b[39m\u001b[90mlibaom_jll\u001b[39m\n",
      "    909.0 ms\u001b[32m  ✓ \u001b[39m\u001b[90mExpat_jll\u001b[39m\n",
      "    923.7 ms\u001b[32m  ✓ \u001b[39m\u001b[90mLZO_jll\u001b[39m\n",
      "    963.5 ms\u001b[32m  ✓ \u001b[39m\u001b[90mOpus_jll\u001b[39m\n",
      "    873.5 ms\u001b[32m  ✓ \u001b[39m\u001b[90mXorg_xtrans_jll\u001b[39m\n",
      "   1048.9 ms\u001b[32m  ✓ \u001b[39m\u001b[90mLibiconv_jll\u001b[39m\n",
      "   1030.9 ms\u001b[32m  ✓ \u001b[39m\u001b[90mLibgpg_error_jll\u001b[39m\n",
      "    975.4 ms\u001b[32m  ✓ \u001b[39m\u001b[90mXorg_libpthread_stubs_jll\u001b[39m\n",
      "   1012.7 ms\u001b[32m  ✓ \u001b[39m\u001b[90mLibuuid_jll\u001b[39m\n",
      "   1128.9 ms\u001b[32m  ✓ \u001b[39m\u001b[90mFriBidi_jll\u001b[39m\n",
      "   1118.2 ms\u001b[32m  ✓ \u001b[39m\u001b[90mGraphite2_jll\u001b[39m\n",
      "   1118.8 ms\u001b[32m  ✓ \u001b[39m\u001b[90mBzip2_jll\u001b[39m\n",
      "   1137.1 ms\u001b[32m  ✓ \u001b[39m\u001b[90mOgg_jll\u001b[39m\n",
      "   2613.2 ms\u001b[32m  ✓ \u001b[39m\u001b[90mRecipesBase\u001b[39m\n",
      "   1131.8 ms\u001b[32m  ✓ \u001b[39m\u001b[90mmtdev_jll\u001b[39m\n",
      "   1204.6 ms\u001b[32m  ✓ \u001b[39m\u001b[90mgperf_jll\u001b[39m\n",
      "   1238.9 ms\u001b[32m  ✓ \u001b[39m\u001b[90mx265_jll\u001b[39m\n",
      "   1031.2 ms\u001b[32m  ✓ \u001b[39m\u001b[90mlibevdev_jll\u001b[39m\n",
      "   1191.5 ms\u001b[32m  ✓ \u001b[39m\u001b[90mx264_jll\u001b[39m\n",
      "   1162.3 ms\u001b[32m  ✓ \u001b[39m\u001b[90mLibffi_jll\u001b[39m\n",
      "   1117.8 ms\u001b[32m  ✓ \u001b[39m\u001b[90mWayland_protocols_jll\u001b[39m\n",
      "    947.5 ms\u001b[32m  ✓ \u001b[39m\u001b[90mShowoff\u001b[39m\n",
      "    934.5 ms\u001b[32m  ✓ \u001b[39m\u001b[90mRelocatableFolders\u001b[39m\n",
      "   1247.3 ms\u001b[32m  ✓ \u001b[39m\u001b[90mLogExpFunctions\u001b[39m\n",
      "   1757.8 ms\u001b[32m  ✓ \u001b[39m\u001b[90mPixman_jll\u001b[39m\n",
      "   2831.1 ms\u001b[32m  ✓ \u001b[39m\u001b[90mOpenSSL\u001b[39m\n",
      "   3831.7 ms\u001b[32m  ✓ \u001b[39m\u001b[90mFixedPointNumbers\u001b[39m\n",
      "   1130.9 ms\u001b[32m  ✓ \u001b[39m\u001b[90mXorg_libSM_jll\u001b[39m\n",
      "   1501.6 ms\u001b[32m  ✓ \u001b[39m\u001b[90mLibtiff_jll\u001b[39m\n",
      "   4342.9 ms\u001b[32m  ✓ \u001b[39m\u001b[90mLatexify\u001b[39m\n",
      "   2216.4 ms\u001b[32m  ✓ \u001b[39m\u001b[90mJLFzf\u001b[39m\n",
      "   1189.2 ms\u001b[32m  ✓ \u001b[39m\u001b[90mDbus_jll\u001b[39m\n",
      "   1389.3 ms\u001b[32m  ✓ \u001b[39m\u001b[90mXML2_jll\u001b[39m\n",
      "   1292.1 ms\u001b[32m  ✓ \u001b[39m\u001b[90mLibgcrypt_jll\u001b[39m\n",
      "   1310.9 ms\u001b[32m  ✓ \u001b[39m\u001b[90mFreeType2_jll\u001b[39m\n",
      "   1352.1 ms\u001b[32m  ✓ \u001b[39m\u001b[90mlibvorbis_jll\u001b[39m\n",
      "   1101.3 ms\u001b[32m  ✓ \u001b[39m\u001b[90meudev_jll\u001b[39m\n",
      "   1608.0 ms\u001b[32m  ✓ \u001b[39m\u001b[90mLatexify → SparseArraysExt\u001b[39m\n",
      "   2833.7 ms\u001b[32m  ✓ \u001b[39m\u001b[90mColorTypes\u001b[39m\n",
      "   3777.5 ms\u001b[32m  ✓ \u001b[39m\u001b[90mStatsBase\u001b[39m\n",
      "   1537.3 ms\u001b[32m  ✓ \u001b[39m\u001b[90mWayland_jll\u001b[39m\n",
      "   3145.5 ms\u001b[32m  ✓ \u001b[39m\u001b[90mLatexify → DataFramesExt\u001b[39m\n",
      "   3379.7 ms\u001b[32m  ✓ \u001b[39m\u001b[90mGettext_jll\u001b[39m\n",
      "   1689.9 ms\u001b[32m  ✓ \u001b[39m\u001b[90mXSLT_jll\u001b[39m\n",
      "  25862.6 ms\u001b[32m  ✓ \u001b[39m\u001b[90mUnitful\u001b[39m\n",
      "   1805.8 ms\u001b[32m  ✓ \u001b[39m\u001b[90mFontconfig_jll\u001b[39m\n",
      "   1162.9 ms\u001b[32m  ✓ \u001b[39m\u001b[90mlibinput_jll\u001b[39m\n",
      "   1123.0 ms\u001b[32m  ✓ \u001b[39m\u001b[90mColorTypes → StyledStringsExt\u001b[39m\n",
      "   1557.9 ms\u001b[32m  ✓ \u001b[39m\u001b[90mGlib_jll\u001b[39m\n",
      "   1092.0 ms\u001b[32m  ✓ \u001b[39m\u001b[90mXorg_libxcb_jll\u001b[39m\n",
      "   1123.9 ms\u001b[32m  ✓ \u001b[39m\u001b[90mXorg_xcb_util_jll\u001b[39m\n",
      "   2737.7 ms\u001b[32m  ✓ \u001b[39m\u001b[90mUnitfulLatexify\u001b[39m\n",
      "   1247.7 ms\u001b[32m  ✓ \u001b[39m\u001b[90mXorg_libX11_jll\u001b[39m\n",
      "   3110.1 ms\u001b[32m  ✓ \u001b[39m\u001b[90mColorVectorSpace\u001b[39m\n",
      "   1218.1 ms\u001b[32m  ✓ \u001b[39m\u001b[90mXorg_xcb_util_image_jll\u001b[39m\n",
      "   1085.5 ms\u001b[32m  ✓ \u001b[39m\u001b[90mXorg_xcb_util_keysyms_jll\u001b[39m\n",
      "   1062.9 ms\u001b[32m  ✓ \u001b[39m\u001b[90mXorg_xcb_util_renderutil_jll\u001b[39m\n",
      "   1081.8 ms\u001b[32m  ✓ \u001b[39m\u001b[90mXorg_xcb_util_wm_jll\u001b[39m\n",
      "   1131.2 ms\u001b[32m  ✓ \u001b[39m\u001b[90mXorg_libXrender_jll\u001b[39m\n",
      "   1133.5 ms\u001b[32m  ✓ \u001b[39m\u001b[90mXorg_libXext_jll\u001b[39m\n",
      "   1135.6 ms\u001b[32m  ✓ \u001b[39m\u001b[90mXorg_libXfixes_jll\u001b[39m\n",
      "   1313.5 ms\u001b[32m  ✓ \u001b[39m\u001b[90mXorg_libxkbfile_jll\u001b[39m\n",
      "   1360.9 ms\u001b[32m  ✓ \u001b[39m\u001b[90mXorg_xcb_util_cursor_jll\u001b[39m\n",
      "   6537.8 ms\u001b[32m  ✓ \u001b[39m\u001b[90mColors\u001b[39m\n",
      "   1331.3 ms\u001b[32m  ✓ \u001b[39m\u001b[90mXorg_libXinerama_jll\u001b[39m\n",
      "   1301.1 ms\u001b[32m  ✓ \u001b[39m\u001b[90mXorg_libXrandr_jll\u001b[39m\n",
      "   1276.4 ms\u001b[32m  ✓ \u001b[39m\u001b[90mLibglvnd_jll\u001b[39m\n",
      "   1295.3 ms\u001b[32m  ✓ \u001b[39m\u001b[90mXorg_libXcursor_jll\u001b[39m\n",
      "   1913.6 ms\u001b[32m  ✓ \u001b[39m\u001b[90mCairo_jll\u001b[39m\n",
      "   1269.9 ms\u001b[32m  ✓ \u001b[39m\u001b[90mXorg_libXi_jll\u001b[39m\n",
      "   1117.0 ms\u001b[32m  ✓ \u001b[39m\u001b[90mXorg_xkbcomp_jll\u001b[39m\n",
      "   1522.7 ms\u001b[32m  ✓ \u001b[39m\u001b[90mHarfBuzz_jll\u001b[39m\n",
      "   1139.3 ms\u001b[32m  ✓ \u001b[39m\u001b[90mXorg_xkeyboard_config_jll\u001b[39m\n",
      "   1546.0 ms\u001b[32m  ✓ \u001b[39m\u001b[90mlibass_jll\u001b[39m\n",
      "   1628.6 ms\u001b[32m  ✓ \u001b[39m\u001b[90mPango_jll\u001b[39m\n",
      "   1190.7 ms\u001b[32m  ✓ \u001b[39m\u001b[90mxkbcommon_jll\u001b[39m\n",
      "   1852.5 ms\u001b[32m  ✓ \u001b[39m\u001b[90mVulkan_Loader_jll\u001b[39m\n",
      "   1846.9 ms\u001b[32m  ✓ \u001b[39m\u001b[90mlibdecor_jll\u001b[39m\n",
      "   5124.4 ms\u001b[32m  ✓ \u001b[39m\u001b[90mColorSchemes\u001b[39m\n",
      "   2529.6 ms\u001b[32m  ✓ \u001b[39m\u001b[90mFFMPEG_jll\u001b[39m\n",
      "   3303.2 ms\u001b[32m  ✓ \u001b[39m\u001b[90mGLFW_jll\u001b[39m\n",
      "   3138.8 ms\u001b[32m  ✓ \u001b[39m\u001b[90mFFMPEG\u001b[39m\n",
      "   4010.2 ms\u001b[32m  ✓ \u001b[39m\u001b[90mQt6Base_jll\u001b[39m\n",
      "  26953.0 ms\u001b[32m  ✓ \u001b[39m\u001b[90mHTTP\u001b[39m\n",
      "   1879.8 ms\u001b[32m  ✓ \u001b[39m\u001b[90mQt6ShaderTools_jll\u001b[39m\n",
      "   2226.7 ms\u001b[32m  ✓ \u001b[39m\u001b[90mGR_jll\u001b[39m\n",
      "   2303.3 ms\u001b[32m  ✓ \u001b[39m\u001b[90mQt6Declarative_jll\u001b[39m\n",
      "    784.4 ms\u001b[32m  ✓ \u001b[39m\u001b[90mQt6Wayland_jll\u001b[39m\n",
      "   5287.8 ms\u001b[32m  ✓ \u001b[39m\u001b[90mGR\u001b[39m\n",
      "  14223.3 ms\u001b[32m  ✓ \u001b[39m\u001b[90mPlotUtils\u001b[39m\n",
      "   3388.9 ms\u001b[32m  ✓ \u001b[39m\u001b[90mPlotThemes\u001b[39m\n",
      "   4818.7 ms\u001b[32m  ✓ \u001b[39m\u001b[90mRecipesPipeline\u001b[39m\n",
      "  63084.5 ms\u001b[32m  ✓ \u001b[39mPlots\n",
      "   4355.7 ms\u001b[32m  ✓ \u001b[39mPlots → UnitfulExt\n",
      "   3848.0 ms\u001b[32m  ✓ \u001b[39mPlots → IJuliaExt\n",
      "  134 dependencies successfully precompiled in 137 seconds. 80 already precompiled.\n"
     ]
    }
   ],
   "source": [
    "using Pkg\n",
    "Pkg.add(\"Plots\")"
   ]
  },
  {
   "cell_type": "code",
   "execution_count": 4,
   "metadata": {},
   "outputs": [
    {
     "name": "stderr",
     "output_type": "stream",
     "text": [
      "\u001b[32m\u001b[1m   Resolving\u001b[22m\u001b[39m package versions...\n",
      "\u001b[32m\u001b[1m   Installed\u001b[22m\u001b[39m ArgCheck ─────── v2.4.0\n",
      "\u001b[32m\u001b[1m   Installed\u001b[22m\u001b[39m ZipFile ──────── v0.10.1\n",
      "\u001b[32m\u001b[1m   Installed\u001b[22m\u001b[39m XLSX ─────────── v0.10.4\n",
      "\u001b[32m\u001b[1m   Installed\u001b[22m\u001b[39m EzXML ────────── v1.2.0\n",
      "\u001b[32m\u001b[1m   Installed\u001b[22m\u001b[39m ZipArchives ──── v2.4.0\n",
      "\u001b[32m\u001b[1m   Installed\u001b[22m\u001b[39m CodecInflate64 ─ v0.1.3\n",
      "\u001b[32m\u001b[1m   Installed\u001b[22m\u001b[39m InputBuffers ─── v1.0.0\n",
      "\u001b[32m\u001b[1m    Updating\u001b[22m\u001b[39m `C:\\Users\\takat\\.julia\\environments\\v1.11\\Project.toml`\n",
      "  \u001b[90m[fdbf4ff8] \u001b[39m\u001b[92m+ XLSX v0.10.4\u001b[39m\n",
      "\u001b[32m\u001b[1m    Updating\u001b[22m\u001b[39m `C:\\Users\\takat\\.julia\\environments\\v1.11\\Manifest.toml`\n",
      "  \u001b[90m[dce04be8] \u001b[39m\u001b[92m+ ArgCheck v2.4.0\u001b[39m\n",
      "  \u001b[90m[6309b1aa] \u001b[39m\u001b[92m+ CodecInflate64 v0.1.3\u001b[39m\n",
      "  \u001b[90m[8f5d6c58] \u001b[39m\u001b[92m+ EzXML v1.2.0\u001b[39m\n",
      "  \u001b[90m[0c81fc1b] \u001b[39m\u001b[92m+ InputBuffers v1.0.0\u001b[39m\n",
      "  \u001b[90m[fdbf4ff8] \u001b[39m\u001b[92m+ XLSX v0.10.4\u001b[39m\n",
      "  \u001b[90m[49080126] \u001b[39m\u001b[92m+ ZipArchives v2.4.0\u001b[39m\n",
      "  \u001b[90m[a5390f91] \u001b[39m\u001b[92m+ ZipFile v0.10.1\u001b[39m\n",
      "\u001b[92m\u001b[1mPrecompiling\u001b[22m\u001b[39m project...\n",
      "    872.3 ms\u001b[32m  ✓ \u001b[39m\u001b[90mArgCheck\u001b[39m\n",
      "    779.8 ms\u001b[32m  ✓ \u001b[39m\u001b[90mInputBuffers\u001b[39m\n",
      "    908.2 ms\u001b[32m  ✓ \u001b[39m\u001b[90mZipFile\u001b[39m\n",
      "    973.4 ms\u001b[32m  ✓ \u001b[39m\u001b[90mCodecInflate64\u001b[39m\n",
      "   1132.8 ms\u001b[32m  ✓ \u001b[39m\u001b[90mEzXML\u001b[39m\n",
      "   4433.3 ms\u001b[32m  ✓ \u001b[39m\u001b[90mZipArchives\u001b[39m\n",
      "   1282.9 ms\u001b[32m  ✓ \u001b[39mXLSX\n",
      "  7 dependencies successfully precompiled in 7 seconds. 214 already precompiled.\n"
     ]
    }
   ],
   "source": [
    "Pkg.add(\"XLSX\")"
   ]
  },
  {
   "cell_type": "code",
   "execution_count": null,
   "metadata": {},
   "outputs": [
    {
     "name": "stderr",
     "output_type": "stream",
     "text": [
      "WARNING: replacing module Lewis_relation.\n",
      "WARNING: replacing module property_conversion.\n",
      "WARNING: replacing module water_property.\n",
      "WARNING: replacing module Lewis_relation.\n"
     ]
    },
    {
     "ename": "LoadError",
     "evalue": "LoadError: UndefVarError: `Climate` not defined in `Main`\nSuggestion: check for spelling errors or missing imports.\nin expression starting at c:\\Users\\takat\\OneDrive - Kyoto University\\ドキュメント\\解析プログラム\\[Julia]熱水分同時移動標準解析プログラム\\[Julia]熱水分同時移動解析標準プログラムver2.2.1\\module\\boundary_condition.jl:112",
     "output_type": "error",
     "traceback": [
      "LoadError: UndefVarError: `Climate` not defined in `Main`\nSuggestion: check for spelling errors or missing imports.\nin expression starting at c:\\Users\\takat\\OneDrive - Kyoto University\\ドキュメント\\解析プログラム\\[Julia]熱水分同時移動標準解析プログラム\\[Julia]熱水分同時移動解析標準プログラムver2.2.1\\module\\boundary_condition.jl:112",
      "",
      "Stacktrace:",
      " [1] top-level scope",
      "   @ c:\\Users\\takat\\OneDrive - Kyoto University\\ドキュメント\\解析プログラム\\[Julia]熱水分同時移動標準解析プログラム\\[Julia]熱水分同時移動解析標準プログラムver2.2.1\\module\\boundary_condition.jl:112",
      " [2] include(fname::String)",
      "   @ Main .\\sysimg.jl:38",
      " [3] top-level scope",
      "   @ In[1]:5"
     ]
    }
   ],
   "source": [
    "using Dates # 解析内時間を計算するためのモジュール\n",
    "using Plots\n",
    "using XLSX\n",
    "include(\"./module/cell.jl\"); # 多孔質材料の構成要素を表すモジュール\n",
    "include(\"./module/air.jl\");  # 空間の構成要素を表すモジュール\n",
    "include(\"./module/boundary_condition.jl\"); # 境界条件を表すモジュール\n",
    "include(\"./module/transfer_in_media.jl\"); # 材料中における熱・水分の移動を表すモジュール\n",
    "include(\"./module/climate.jl\"); # 気象データを取り扱うモジュール\n",
    "include(\"./logger.jl\"); # 計算結果を保存するモジュール"
   ]
  },
  {
   "attachments": {},
   "cell_type": "markdown",
   "metadata": {
    "tags": []
   },
   "source": [
    "## 手順１：計算対象モデルを構築する  "
   ]
  },
  {
   "cell_type": "markdown",
   "metadata": {},
   "source": [
    "3次元のモデリング方法はその選択肢がいくつかあるが、ここではinput_data内の3D_dataを活用した入力方法について示す。  \n",
    "なお、壁の基本構造は1次元の解析と同じであるが、Cell構造体に加え、Air構造体、また断熱や断湿などの境界条件を表すBoundaryCondition構造体から構成される配列をtarget_modelとする。\n",
    "\n",
    "3次元データの入力方法だが、./input_data/3D_data/2D_property_data内の \n",
    "- 2D_property_data_番号.csv\n",
    "というファイルおよび、./input_data/3D_data内の下記のファイルからそれぞれモデリングを行う。\n",
    "- dx_data.csv\n",
    "- dy_data.csv\n",
    "- dz_data.csv\n",
    "- property_information.csv  \n",
    "\n",
    "基本的な方針は、2次元平面で描かれるデータを複数つなぎ合わせることで3次元のデータを表現することとなる。  \n",
    "2D_property_dataは2次元（x軸断面）のデータを表し、CSVファイルの横方向がy軸、縦方向がz軸に相当する。  \n",
    "このファイルに、壁および境界面のプロパティ番号を記入する。  \n",
    "\n",
    "ここで記入したプロパティ番号はproperty_information.csvにて定義を行い、  \n",
    "多孔質材料である場合は材料の名称を、空気である場合はその名称を、境界である場合は境界の名称を記載する。  \n",
    "また、モデリングデータの寸法情報はそれぞれdx,dy,dz_data内に格納されており、2D_property_dataと合わせた寸法情報を記入すること。  \n",
    "（空間や境界条件の寸法は便宜上0を入れておくと良い。）"
   ]
  },
  {
   "cell_type": "markdown",
   "metadata": {},
   "source": [
    "## 1.1 空間の質点の定義"
   ]
  },
  {
   "cell_type": "markdown",
   "metadata": {},
   "source": [
    "3次元の計算を行うにあたり室空気の定義を行う。  \n",
    "これは、CV中のCell構造体と異なり、室空気は1質点系として近似することに由来する。  \n",
    "室空気はAir構造体により設定し、空間情報（体積）、熱力学的状態量、伝達係数の主に3つを有する。  \n",
    "Air構造体の詳細はair.ipynbのファイルを確認すること。  \n",
    "\n",
    "なお、室空気は後述のproperty_informationとの対応関係を考慮し辞書型にて定義する。"
   ]
  },
  {
   "cell_type": "code",
   "execution_count": 4,
   "metadata": {},
   "outputs": [
    {
     "data": {
      "text/plain": [
       "Air(0, \"air_out\", 0.0, 0.0, 0.0, 0.0, 293.15, 0.6, 0.0, 0.0, 101325.0, 0.0, 0.0, 0.0, 0.0, 0.0, 0.0, 0.0, 0.0)"
      ]
     },
     "execution_count": 4,
     "metadata": {},
     "output_type": "execute_result"
    }
   ],
   "source": [
    "# 室空気を辞書型として定義\n",
    "air = Dict()\n",
    "\n",
    "# キーの値はproperty_information内のnameと対応させる。\n",
    "air[\"air_in\"]   = Air( name = \"air_in\", temp = 10.0 + 273.15, rh = 0.6 )\n",
    "air[\"air_mid\"]  = Air( name = \"air_mid\",temp = 15.0 + 273.15, rh = 0.6 )\n",
    "air[\"air_out\"]  = Air( name = \"air_out\",temp = 20.0 + 273.15, rh = 0.6 )"
   ]
  },
  {
   "cell_type": "markdown",
   "metadata": {},
   "source": [
    "## 1.2 3次元データ読み込みのための関数"
   ]
  },
  {
   "cell_type": "code",
   "execution_count": null,
   "metadata": {},
   "outputs": [
    {
     "data": {
      "text/plain": [
       "read_multi2D_geometry_data (generic function with 2 methods)"
      ]
     },
     "execution_count": 5,
     "metadata": {},
     "output_type": "execute_result"
    }
   ],
   "source": [
    "function read_multi2D_geometry_data(file_number::Int, temp_init::Float64, rh_init::Float64)\n",
    "\n",
    "    # 3次元のプロパティ情報の読み込み\n",
    "    file_path = \"./input_data/3D_data/2D_property_data/2D_property_data.xlsx\"\n",
    "    xf = XLSX.readxlsx(file_path)\n",
    "    readed_property_data = [ Matrix(DataFrame(XLSX.readtable(file_path, string(i), header = false))) for i = 1 : length(XLSX.sheetnames(xf)) ]\n",
    "    #readed_property_data = [ CSV.File(\"./input_data/3D_data/2D_property_data/\"*\"2D_property_data_\"*string(i)*\".csv\", header = false) for i = 1 : file_number ]\n",
    "    property_data = permutedims([ readed_property_data[x][y,z] for x = 1:length(readed_property_data), y = 1:length(readed_property_data[1][:,1]), z = 1:length(readed_property_data[1][1,:]) ], [1,3,2] )\n",
    "    property_info = DataFrame(CSV.File(\"./input_data/3D_data/property_information.csv\", header = 1))\n",
    "    property_name = [ filter(row -> row.number == property_data[x,y,z], property_info).name[1] for x = 1:length(readed_property_data), y = 1:length(readed_property_data[1][1,:]), z = 1:length(readed_property_data[1][:,1]) ]\n",
    "\n",
    "    # 各CVの大きさ（dx, dy, dz）情報の読み込み\n",
    "    dx_data = CSV.File(\"./input_data/3D_data/dx_data.csv\", header = 1)\n",
    "    dy_data = CSV.File(\"./input_data/3D_data/dy_data.csv\", header = 1)\n",
    "    dz_data = CSV.File(\"./input_data/3D_data/dz_data.csv\", header = 1)\n",
    "    \n",
    "    # Cellおよび空間を含めた構造体の作成\n",
    "    target_model = [if property_data[x,y,z] < 20; BC_Neumann() \n",
    "                    elseif property_data[x,y,z] < 100;BC_Robin() \n",
    "                    else; Cell() end \n",
    "                    for x = 1 : length(property_data[:,1,1]), y = 1 : length(property_data[1,:,1]), z = 1 : length(property_data[1,1,:]) ]    \n",
    "\n",
    "    # 各CVの情報を入力する。\n",
    "    #for x = 1 : length(dx_data.i) , y = 1 : length(dy_data.i), z = 1 : length(dz_data.i)\n",
    "    for x = 1 : length(target_model[:,1,1]) , y = 1 : length(target_model[1,:,1]), z = 1 : length(target_model[1,1,:])\n",
    "        # 第二種境界条件情報の読み取り\n",
    "        if property_data[x,y,z] < 20\n",
    "\n",
    "        # 各点における空間情報の読み取り\n",
    "        elseif property_data[x,y,z] < 100\n",
    "            target_model[x, y, z].air = air[filter(row -> row.number == property_data[x,y,z], property_info).name[1]]\n",
    "            target_model[x, y, z].air.dx  = dx_data.dx[x]\n",
    "            target_model[x, y, z].air.dy  = dy_data.dy[y]\n",
    "            target_model[x, y, z].air.dz  = dz_data.dz[z]\n",
    "            target_model[x, y, z].air.vol = target_model[x, y, z].air.vol + dx_data.dx[x] * dy_data.dy[y] * dz_data.dz[z]\n",
    "            if filter(row -> row.number == property_data[x,y,z], property_info).alphac[1]≠0; target_model[x,y,z].alphac = filter(row -> row.number == property_data[x,y,z], property_info).alphac[1] end\n",
    "            # 放射熱伝達率が0とすると値が4.4にされてしまうので注意\n",
    "            if filter(row -> row.number == property_data[x,y,z], property_info).alphar[1]≠0; target_model[x,y,z].alphar = filter(row -> row.number == property_data[x,y,z], property_info).alphar[1] end\n",
    "            if filter(row -> row.number == property_data[x,y,z], property_info).alpha[1]≠0; target_model[x,y,z].alpha = filter(row -> row.number == property_data[x,y,z], property_info).alpha[1]\n",
    "            else target_model[x,y,z].alpha = target_model[x,y,z].alphac + target_model[x,y,z].alphar end\n",
    "            if filter(row -> row.number == property_data[x,y,z], property_info).aldm[1]≠0; target_model[x,y,z].aldm = filter(row -> row.number == property_data[x,y,z], property_info).aldm[1]\n",
    "            else target_model[x,y,z].aldm = aldm_by_alphac(target_model[x,y,z]) end\n",
    "\n",
    "        # 各点における壁番号の読み取り\n",
    "        # なお、i,dx,dx2,temp,miu（水分化学ポテンシャル）,material_nameは入力必須項目である。\n",
    "        else\n",
    "            target_model[x, y, z].i   = [ x, y, z ]\n",
    "            target_model[x, y, z].dx  = dx_data.dx[x]\n",
    "            target_model[x, y, z].dx2 = dx_data.dx2[x]\n",
    "            target_model[x, y, z].dy  = dy_data.dy[y]\n",
    "            target_model[x, y, z].dy2 = dy_data.dy2[y]\n",
    "            target_model[x, y, z].dz  = dz_data.dz[z]\n",
    "            target_model[x, y, z].dz2 = dz_data.dz2[z]\n",
    "            # 位置座標の設定\n",
    "            if x > 2 && x < length(target_model[:,1,1]) -1\n",
    "                #println(target_model[x, y, z])\n",
    "                #target_model[x, y, z].xyz[1] = target_model[x-1, y, z].xyz[1] + target_model[x, y, z].dx - target_model[x, y, z].dx2 \n",
    "            end\n",
    "            if y > 2 && x < length(target_model[1,:,1]) -1\n",
    "                #println(target_model[x, y, z])\n",
    "                #target_model[x, y, z].xyz[2] = target_model[x, y-1, z].xyz[2] + target_model[x, y, z].dy - target_model[x, y, z].dy2 \n",
    "            end\n",
    "            if z > 2 && x < length(target_model[1,1,:]) -1\n",
    "                #println(target_model[x, y, z])\n",
    "                #target_model[x, y, z].xyz[3] = target_model[x, y, z-1].xyz[3] + target_model[x, y, z].dz - target_model[x, y, z].dz2 \n",
    "            end\n",
    "            target_model[x, y, z].temp= temp_init\n",
    "            target_model[x, y, z].rh  = rh_init\n",
    "            target_model[x, y, z].miu = convertRH2Miu( temp = target_model[x, y, z].temp, rh = target_model[x, y, z].rh )\n",
    "            target_model[x, y, z].material_name = filter(row -> row.number == property_data[x,y,z], property_info).name[1]\n",
    "        end\n",
    "    end\n",
    "    \n",
    "    return target_model\n",
    "end \n",
    "read_multi2D_geometry_data(;file_number::Int, temp_init::Float64, rh_init::Float64) = read_multi2D_geometry_data(file_number, temp_init, rh_init)"
   ]
  },
  {
   "cell_type": "code",
   "execution_count": 6,
   "metadata": {},
   "outputs": [
    {
     "ename": "LoadError",
     "evalue": "UndefVarError: `XLSX` not defined in `Main`\nSuggestion: check for spelling errors or missing imports.",
     "output_type": "error",
     "traceback": [
      "UndefVarError: `XLSX` not defined in `Main`\nSuggestion: check for spelling errors or missing imports.",
      "",
      "Stacktrace:",
      " [1] read_multi2D_geometry_data(file_number::Int64, temp_init::Float64, rh_init::Float64)",
      "   @ Main .\\In[5]:5",
      " [2] #read_multi2D_geometry_data#152",
      "   @ .\\In[5]:75 [inlined]",
      " [3] top-level scope",
      "   @ In[6]:1"
     ]
    }
   ],
   "source": [
    "target_model = read_multi2D_geometry_data(file_number = 7, temp_init = 15.0 + 273.15, rh_init = 0.6)"
   ]
  },
  {
   "cell_type": "code",
   "execution_count": 7,
   "metadata": {},
   "outputs": [
    {
     "ename": "LoadError",
     "evalue": "UndefVarError: `target_model` not defined in `Main`\nSuggestion: check for spelling errors or missing imports.",
     "output_type": "error",
     "traceback": [
      "UndefVarError: `target_model` not defined in `Main`\nSuggestion: check for spelling errors or missing imports.",
      "",
      "Stacktrace:",
      " [1] top-level scope",
      "   @ In[7]:1"
     ]
    }
   ],
   "source": [
    "target_model[:, :, 1]"
   ]
  },
  {
   "attachments": {},
   "cell_type": "markdown",
   "metadata": {
    "tags": []
   },
   "source": [
    "## 手順２：流量計算式および収支式を構築する"
   ]
  },
  {
   "cell_type": "code",
   "execution_count": 5,
   "metadata": {},
   "outputs": [
    {
     "data": {
      "text/plain": [
       "cal3D_new_temp_miu (generic function with 1 method)"
      ]
     },
     "execution_count": 5,
     "metadata": {},
     "output_type": "execute_result"
    }
   ],
   "source": [
    "function cal3D_new_temp_miu( target_model, dt )\n",
    "    ###################################\n",
    "    #　初期設定    \n",
    "    ntemp = [ 0.0 for x = 2 : length(target_model[:,1,1])-1, y = 2 : length(target_model[1,:,1])-1, z = 2 : length(target_model[1,1,:])-1 ]\n",
    "    nmiu  = [ 0.0 for x = 2 : length(target_model[:,1,1])-1, y = 2 : length(target_model[1,:,1])-1, z = 2 : length(target_model[1,1,:])-1 ]\n",
    "    for x = 1 : length(target_model[:,1,1]), y = 1 : length(target_model[1,:,1]) - 1, z = 1 : length(target_model[1,1,:])\n",
    "        if typeof(target_model[x,y,z]) == BC_Robin\n",
    "            target_model[x,y,z].air.H_wall = 0.0\n",
    "            target_model[x,y,z].air.J_wall = 0.0\n",
    "        end\n",
    "    end\n",
    "\n",
    "    # 変数の設定\n",
    "    qx  = ones(length(target_model[:,1,1])-1, length(target_model[1,:,1]),   length(target_model[1,1,:])   )\n",
    "    qy  = ones(length(target_model[:,1,1]),   length(target_model[1,:,1])-1, length(target_model[1,1,:])   )\n",
    "    qz  = ones(length(target_model[:,1,1]),   length(target_model[1,:,1]),   length(target_model[1,1,:])-1 )\n",
    "    jvx = ones(length(target_model[:,1,1])-1, length(target_model[1,:,1]),   length(target_model[1,1,:])   )\n",
    "    jvy = ones(length(target_model[:,1,1]),   length(target_model[1,:,1])-1, length(target_model[1,1,:])   )\n",
    "    jvz = ones(length(target_model[:,1,1]),   length(target_model[1,:,1]),   length(target_model[1,1,:])-1 )\n",
    "    jlx = ones(length(target_model[:,1,1])-1, length(target_model[1,:,1]),   length(target_model[1,1,:])   )\n",
    "    jly = ones(length(target_model[:,1,1]),   length(target_model[1,:,1])-1, length(target_model[1,1,:])   )\n",
    "    jlz = ones(length(target_model[:,1,1]),   length(target_model[1,:,1]),   length(target_model[1,1,:])-1 )\n",
    "\n",
    "    ###################################\n",
    "    # 壁体内部の流量計算\n",
    "    # x軸方向\n",
    "    for x = 1 : length(target_model[:,1,1]) - 1, y = 1 : length(target_model[1,:,1]), z = 1 : length(target_model[1,1,:])\n",
    "        qx[x,y,z]  =  cal_qx( target_model[x,y,z], target_model[x+1,y,z] )\n",
    "        jvx[x,y,z] = cal_jvx( target_model[x,y,z], target_model[x+1,y,z] )\n",
    "        jlx[x,y,z] = cal_jlx( target_model[x,y,z], target_model[x+1,y,z], 0.0 )\n",
    "        # 空気層に流入・流出する熱流量・水分流量の計算\n",
    "        if typeof(target_model[x,y,z]) == BC_Robin && typeof(target_model[x+1,y,z]) == Cell\n",
    "            target_model[x,y,z].air.H_wall = target_model[x,y,z].air.H_wall - dy(target_model[x+1,y,z])*dz(target_model[x+1,y,z])*qx[x,y,z]\n",
    "            target_model[x,y,z].air.J_wall = target_model[x,y,z].air.J_wall - dy(target_model[x+1,y,z])*dz(target_model[x+1,y,z])*jvx[x,y,z]\n",
    "        elseif typeof(target_model[x+1,y,z]) == BC_Robin && typeof(target_model[x,y,z]) == Cell\n",
    "            target_model[x+1,y,z].air.H_wall = target_model[x+1,y,z].air.H_wall + dy(target_model[x,y,z])*dz(target_model[x,y,z])*qx[x,y,z]\n",
    "            target_model[x+1,y,z].air.J_wall = target_model[x+1,y,z].air.J_wall + dy(target_model[x,y,z])*dz(target_model[x,y,z])*jvx[x,y,z]\n",
    "        end\n",
    "    end\n",
    "\n",
    "    # y軸方向\n",
    "    for x = 1 : length(target_model[:,1,1]), y = 1 : length(target_model[1,:,1]) - 1, z = 1 : length(target_model[1,1,:])\n",
    "        qy[x,y,z]  =  cal_qy( target_model[x,y,z], target_model[x,y+1,z] )\n",
    "        jvy[x,y,z] = cal_jvy( target_model[x,y,z], target_model[x,y+1,z] )\n",
    "        jly[x,y,z] = cal_jly( target_model[x,y,z], target_model[x,y+1,z], 0.0 )\n",
    "        # 空気層に流入・流出する熱流量・水分流量の計算\n",
    "        if typeof(target_model[x,y,z]) == BC_Robin && typeof(target_model[x,y+1,z]) == Cell\n",
    "            target_model[x,y,z].air.H_wall = target_model[x,y,z].air.H_wall - dx(target_model[x,y+1,z])*dz(target_model[x,y+1,z])*qy[x,y,z]\n",
    "            target_model[x,y,z].air.J_wall = target_model[x,y,z].air.J_wall - dx(target_model[x,y+1,z])*dz(target_model[x,y+1,z])*jvy[x,y,z]\n",
    "        elseif typeof(target_model[x,y+1,z]) == BC_Robin && typeof(target_model[x,y,z]) == Cell\n",
    "            target_model[x,y+1,z].air.H_wall = target_model[x,y+1,z].air.H_wall + dx(target_model[x,y,z])*dz(target_model[x,y,z])*qy[x,y,z]\n",
    "            target_model[x,y+1,z].air.J_wall = target_model[x,y+1,z].air.J_wall + dx(target_model[x,y,z])*dz(target_model[x,y,z])*jvy[x,y,z]\n",
    "        end\n",
    "    end\n",
    "    \n",
    "    # z軸方向\n",
    "    for x = 1 : length(target_model[:,1,1]), y = 1 : length(target_model[1,:,1]), z = 1 : length(target_model[1,1,:]) - 1\n",
    "        qz[x,y,z]  =  cal_qz( target_model[x,y,z], target_model[x,y,z+1] )\n",
    "        jvz[x,y,z] = cal_jvz( target_model[x,y,z], target_model[x,y,z+1] )\n",
    "        jlz[x,y,z] = cal_jlz( target_model[x,y,z], target_model[x,y,z+1], 1.0 )\n",
    "        # 空気層に流入・流出する熱流量・水分流量の計算\n",
    "        if typeof(target_model[x,y,z]) == BC_Robin && typeof(target_model[x,y,z+1]) == Cell\n",
    "            target_model[x,y,z].air.H_wall = target_model[x,y,z].air.H_wall - dx(target_model[x,y,z+1])*dy(target_model[x,y,z+1])*qz[x,y,z]\n",
    "            target_model[x,y,z].air.J_wall = target_model[x,y,z].air.J_wall - dx(target_model[x,y,z+1])*dy(target_model[x,y,z+1])*jvz[x,y,z]\n",
    "        elseif typeof(target_model[x,y,z+1]) == BC_Robin && typeof(target_model[x,y,z]) == Cell\n",
    "            target_model[x,y,z+1].air.H_wall = target_model[x,y,z+1].air.H_wall + dx(target_model[x,y,z])*dy(target_model[x,y,z])*qz[x,y,z]\n",
    "            target_model[x,y,z+1].air.J_wall = target_model[x,y,z+1].air.J_wall + dx(target_model[x,y,z])*dy(target_model[x,y,z])*jvz[x,y,z]\n",
    "        end\n",
    "    end\n",
    "\n",
    "    ###################################\n",
    "    # 熱・水分の収支計算\n",
    "    for x = 2 : length(target_model[:,1,1])-1, y = 2 : length(target_model[1,:,1])-1, z = 2 : length(target_model[1,1,:])-1\n",
    "        if typeof(target_model[x,y,z]) == Cell\n",
    "            ntemp[x-1,y-1,z-1] = cal_newtemp( cell = target_model[x,y,z], \n",
    "                dqx = ( qx[x-1,y,z] - qx[x,y,z] ), dqy = ( qy[x,y-1,z] - qy[x,y,z] ), dqz = ( qz[x,y,z-1] - qz[x,y,z] ) , \n",
    "                djvx  = - (jvx[x-1,y,z] -jvx[x,y,z] ), djvy = - (jvy[x,y-1,z] -jvy[x,y,z] ), djvz = - (jvz[x,y,z-1] -jvz[x,y,z] ) , time = dt )\n",
    "            nmiu[x-1,y-1,z-1]  = cal_newmiu(  cell = target_model[x,y,z], \n",
    "                djwx = (jvx[x-1,y,z] -jvx[x,y,z] ) + (jlx[x-1,y,z] -jlx[x,y,z] ),\n",
    "                djwy = (jvy[x,y-1,z] -jvy[x,y,z] ) + (jly[x,y-1,z] -jly[x,y,z] ),\n",
    "                djwz = (jvz[x,y,z-1] -jvz[x,y,z] ) + (jlz[x,y,z-1] -jlz[x,y,z] ), time = dt ) \n",
    "        elseif typeof(target_model[x,y,z]) == BC_Robin\n",
    "            ntemp[x-1,y-1,z-1] = cal_newtemp(target_model[x,y,z].air, dt)\n",
    "            nmiu[x-1,y-1,z-1]  = convertRH2Miu( temp=temp(target_model[x,y,z].air), rh =cal_newRH(target_model[x,y,z].air, dt) )\n",
    "        end\n",
    "    end\n",
    "        \n",
    "    return ntemp, nmiu\n",
    "end"
   ]
  },
  {
   "cell_type": "markdown",
   "metadata": {},
   "source": [
    "    # 熱・水分の収支計算\n",
    "    ntemp = [ cal_newtemp( cell = target_model[x,y,z], \n",
    "        dqx = ( qx[x-1,y,z] - qx[x,y,z] ), dqy = ( qy[x,y-1,z] - qy[x,y,z] ), dqz = ( qz[x,y,z-1] - qz[x,y,z] ) , \n",
    "        djvx  = (jvx[x-1,y,z] -jvx[x,y,z] ), djvy = (jvy[x,y-1,z] -jvy[x,y,z] ), djvz = (jvz[x,y,z-1] -jvz[x,y,z] ) , time = dt ) \n",
    "        for x = 2 : length(target_model[:,1,1])-1, y = 2 : length(target_model[1,:,1])-1, z = 2 : length(target_model[1,1,:])-1 ]\n",
    "    nmiu  = [ cal_newmiu(  cell = target_model[x,y,z], \n",
    "        djwx = (jvx[x-1,y,z] -jvx[x,y,z] ) + (jlx[x-1,y,z] -jlx[x,y,z] ),\n",
    "        djwy = (jvy[x,y-1,z] -jvy[x,y,z] ) + (jly[x,y-1,z] -jly[x,y,z] ),\n",
    "        djwz = (jvz[x,y,z-1] -jvz[x,y,z] ) + (jlz[x,y,z-1] -jlz[x,y,z] ), time = dt ) \n",
    "        for x = 2 : length(target_model[:,1,1])-1, y = 2 : length(target_model[1,:,1])-1, z = 2 : length(target_model[1,1,:])-1 ]"
   ]
  },
  {
   "attachments": {},
   "cell_type": "markdown",
   "metadata": {
    "tags": []
   },
   "source": [
    "## 手順３：計算時間に関する設定  \n",
    "\n",
    "手順３～５のうちいくつかは必要に応じて設定する項目である。  \n"
   ]
  },
  {
   "attachments": {},
   "cell_type": "markdown",
   "metadata": {},
   "source": [
    "#### 初期時刻の設定  \n",
    "計算回数を設定するため初期時刻を以下のように設定する。  \n",
    "※2023/06/17修正"
   ]
  },
  {
   "cell_type": "code",
   "execution_count": 6,
   "metadata": {},
   "outputs": [
    {
     "data": {
      "text/plain": [
       "2004-08-01T00:00:00"
      ]
     },
     "execution_count": 6,
     "metadata": {},
     "output_type": "execute_result"
    }
   ],
   "source": [
    "date = DateTime(2004,8,1,0,0,0)"
   ]
  },
  {
   "attachments": {},
   "cell_type": "markdown",
   "metadata": {},
   "source": [
    "#### 終了時刻の設定  \n",
    "同様に終了時刻も設定しておく。"
   ]
  },
  {
   "cell_type": "code",
   "execution_count": null,
   "metadata": {},
   "outputs": [
    {
     "data": {
      "text/plain": [
       "2004-08-02T00:00:00"
      ]
     },
     "execution_count": 7,
     "metadata": {},
     "output_type": "execute_result"
    }
   ],
   "source": [
    "#end_date = DateTime(2004,8,4,00,00,00)\n",
    "end_date = DateTime(2004,8,1,00,10,00)"
   ]
  },
  {
   "attachments": {},
   "cell_type": "markdown",
   "metadata": {
    "tags": []
   },
   "source": [
    "## 手順４：気象条件に関する設定  \n",
    "気象条件に関する諸設定として、\n",
    "1. 気象データの読み込み\n",
    "2. 気象データを解析内時間に合わせて線形内挿する\n",
    "といった動作が必要となる。  \n",
    "特に2.については計算が複雑なため、climate_data.ipynbにその計算方法について示してある。  \n",
    "\n",
    "なお、読み込んだ気象データはJuliaの標準パッケージであるDataFramesの形式となる。  \n",
    "読み込み方は、関数input_climate_data()を用い、input_data内にある気象データ（CSV形式）のディレクトリを指定する。  \n",
    "なお、juliaはヘッダー名称が必須のため、必ず1行目にヘッダー名を記載すること。  \n",
    "(以下の例では「input_data」フォルダ内にある気象データを読み込むことを想定する。)  \n",
    "※1 読み込めるのはcsvファイルだけであるためExcelファイルは読み込めない。  \n",
    "※2 入力される温度・相対湿度は「℃」セルシウス度、「％」相対湿度を想定している。  \n",
    "温度をケルビンあるいは相対湿度を無次元「－」で利用する場合は要注意"
   ]
  },
  {
   "cell_type": "code",
   "execution_count": 8,
   "metadata": {},
   "outputs": [
    {
     "name": "stdout",
     "output_type": "stream",
     "text": [
      "temp is not same\n",
      "rh is not same\n"
     ]
    },
    {
     "data": {
      "text/plain": [
       "10"
      ]
     },
     "execution_count": 8,
     "metadata": {},
     "output_type": "execute_result"
    }
   ],
   "source": [
    "climate_data_in  = input_climate_data(\n",
    "    file_name = \"./input_data/climate_data/climate_data_nijo_otsune.csv\", \n",
    "    header = 3 );\n",
    "\n",
    "climate_data_in.air = air[\"air_in\"]\n",
    "\n",
    "# ロギングインターバルの確認\n",
    "climate_data_in.logging_interval"
   ]
  },
  {
   "attachments": {},
   "cell_type": "markdown",
   "metadata": {},
   "source": [
    "### 外気側環境条件"
   ]
  },
  {
   "cell_type": "code",
   "execution_count": 9,
   "metadata": {},
   "outputs": [
    {
     "name": "stdout",
     "output_type": "stream",
     "text": [
      "temp is not same\n",
      "rh is not same\n"
     ]
    },
    {
     "data": {
      "text/plain": [
       "10"
      ]
     },
     "execution_count": 9,
     "metadata": {},
     "output_type": "execute_result"
    }
   ],
   "source": [
    "climate_data_out = input_climate_data( \n",
    "    file_name = \"./input_data/climate_data/climate_data_nijo_otsune.csv\", \n",
    "    header = 3);\n",
    "\n",
    "climate_data_out.air = air[\"air_out\"]\n",
    "\n",
    "# ロギングインターバルの確認\n",
    "climate_data_in.logging_interval"
   ]
  },
  {
   "attachments": {},
   "cell_type": "markdown",
   "metadata": {
    "tags": []
   },
   "source": [
    "## 手順５：計算結果の保存"
   ]
  },
  {
   "attachments": {},
   "cell_type": "markdown",
   "metadata": {
    "jp-MarkdownHeadingCollapsed": true,
    "tags": []
   },
   "source": [
    "まずはじめに計算開始前に計算結果を出力するファイルをオープンする。  \n",
    "ファイルのオープンはopen関数を用いる。  \n",
    "\n",
    "opne(file名, mode)  \n",
    "なおmodeには以下の種類がある。\n",
    "\n",
    "- r：読込みモード\n",
    "- w：書込みモード(ファイルが存在する場合は上書き)\n",
    "- a：追記モード\n",
    "- r+：読込みと書込みどちらも可能なモード(ファイルが存在しない場合はエラー)\n",
    "- w+：読込みと書込みどちらも可能なモード(ファイルが存在しない場合は新規作成)\n",
    "- +：読込みと追記のどちらも可能なモード\n",
    "\n",
    "※モード指定しない場合、デフォルトでは\"r\"(読込みモード)となる。  "
   ]
  },
  {
   "attachments": {},
   "cell_type": "markdown",
   "metadata": {},
   "source": [
    "## 5.1 計算結果の出力先ファイルのオープン"
   ]
  },
  {
   "cell_type": "code",
   "execution_count": 10,
   "metadata": {},
   "outputs": [],
   "source": [
    "#logger_temp = set_logger( \"result_sample_temp\", 10.0, air_in, wall, air_out )\n",
    "#logger_rh   = set_logger( \"result_sample_rh\", 10.0, air_in, wall, air_out )\n",
    "#logger_pv   = set_logger( \"result_sample_pv\", 10.0, air_in, wall, air_out )"
   ]
  },
  {
   "attachments": {},
   "cell_type": "markdown",
   "metadata": {},
   "source": [
    "## 5.2 ヘッダーの書き込み"
   ]
  },
  {
   "cell_type": "code",
   "execution_count": 11,
   "metadata": {},
   "outputs": [],
   "source": [
    "#write_header_to_logger( logger_temp )\n",
    "#write_header_to_logger( logger_rh   )\n",
    "#write_header_to_logger( logger_pv   )"
   ]
  },
  {
   "attachments": {},
   "cell_type": "markdown",
   "metadata": {},
   "source": [
    "## 5.3 値（初期値）の書き込み"
   ]
  },
  {
   "cell_type": "code",
   "execution_count": 12,
   "metadata": {},
   "outputs": [],
   "source": [
    "#write_temp_to_logger( logger_temp, Dates.format(date, \"yyyy/mm/dd HH:MM\") )\n",
    "#write_RH_to_logger(   logger_rh, Dates.format(date, \"yyyy/mm/dd HH:MM\") )\n",
    "#write_Pv_to_logger(   logger_pv, Dates.format(date, \"yyyy/mm/dd HH:MM\") )"
   ]
  },
  {
   "attachments": {},
   "cell_type": "markdown",
   "metadata": {
    "tags": []
   },
   "source": [
    "## 手順６：繰り返し（ループ）計算  \n",
    "\n",
    "ループ計算は手順３で設定した終了時刻まで計算を行うようなプログラムである。  \n",
    "なお、計算開始から終了まで時間がかかる時はデータを全てロギングするとデータ量が膨大となるため、ある程度期間を指定したほうが良い。  \n",
    "（例えば下記の「#５：データのロギング」にて、if date.year == end_data.year のように条件づけるなど）"
   ]
  },
  {
   "cell_type": "markdown",
   "metadata": {},
   "source": [
    "#### 計算刻みdtの設定  \n",
    "数値解析における微小時間変化dtを以下にて設定する。"
   ]
  },
  {
   "cell_type": "code",
   "execution_count": 13,
   "metadata": {},
   "outputs": [
    {
     "data": {
      "text/plain": [
       "0.0"
      ]
     },
     "execution_count": 13,
     "metadata": {},
     "output_type": "execute_result"
    }
   ],
   "source": [
    "#dt = 0.002\n",
    "dt = 1.0\n",
    "total_time = 0.0"
   ]
  },
  {
   "cell_type": "code",
   "execution_count": null,
   "metadata": {
    "tags": []
   },
   "outputs": [
    {
     "name": "stdout",
     "output_type": "stream",
     "text": [
      "2004/08/01 00:00 外気：温度28.8[℃] 湿度0.72[-]\n",
      "2004/08/01 00:10 外気：温度29.1[℃] 湿度0.59[-]\n",
      "2004/08/01 00:20 外気：温度29.1[℃] 湿度0.59[-]\n"
     ]
    }
   ],
   "source": [
    "# 計算回数の設定\n",
    "while date ≠ end_date\n",
    "    \n",
    "    # １：環境データの入力\n",
    "    reset_climate_data( climate_data_in )\n",
    "    reset_climate_data( climate_data_out )\n",
    "    \n",
    "    # ２：新値の計算\n",
    "    ntemp, nmiu = cal3D_new_temp_miu( target_model, dt )\n",
    "    \n",
    "    # ３：値の上書き\n",
    "    for x = 2 : length(target_model[:,1,1])-1, y = 2 : length(target_model[1,:,1])-1, z = 2 : length(target_model[1,1,:])-1        \n",
    "        if typeof(target_model[x,y,z]) == Cell\n",
    "            target_model[x,y,z].temp = ntemp[x-1,y-1,z-1]\n",
    "            target_model[x,y,z].miu  = nmiu[x-1,y-1,z-1]\n",
    "        elseif typeof(target_model[x,y,z]) == BC_Robin\n",
    "            target_model[x,y,z].air.temp = ntemp[x-1,y-1,z-1]\n",
    "            target_model[x,y,z].air.rh  = convertMiu2RH( temp = ntemp[x-1,y-1,z-1], miu = nmiu[x-1,y-1,z-1] )\n",
    "        end\n",
    "    end\n",
    "    \n",
    "    # 計算時刻の表示\n",
    "    # 日本語は避けた方が無難\n",
    "    #if hour(date) == 0 && minute(date) == 0 && second(date) == 0 && millisecond(date) == 0;\n",
    "    if mod(minute(date),10) == 0 && second(date) == 0 && millisecond(date) == 0;\n",
    "        println(Dates.format(date, \"yyyy/mm/dd HH:MM\"), \" 外気：温度\" *  string( round(air[\"air_out\"].temp -273.15, digits = 1 ) ) * \"[℃]\" * \" 湿度\" * string( round( air[\"air_out\"].rh, digits = 2 ) ) * \"[-]\" )\n",
    "    end\n",
    "        \n",
    "    # ４：時間経過の計算および時間刻みの更新\n",
    "    #date = date + Second(dt)\n",
    "    date = date + Millisecond(dt*1000)\n",
    "    total_time = total_time + dt\n",
    "    climate_data_in.date    = date\n",
    "    climate_data_out.date   = date\n",
    "    #if total_time > 30.0; dt = 0.005\n",
    "    #elseif total_time > 180.0; dt = 0.01\n",
    "    #end\n",
    "    # 1秒以下の場合、Millisecondを使う。\n",
    "\n",
    "    # ５：データのロギング  \n",
    "    if mod(minute(date),10) == 0 && second(date) == 0 && millisecond(date) == 0\n",
    "        # ファイルの作成\n",
    "        data_temp = open(\"./output_data/temp_data_\"*string(month(date))*\"_\"*string(day(date))*\"_\"*string(hour(date))*\"_\"*string(minute(date))*\".csv\", \"w\")\n",
    "        data_rh = open(\"./output_data/rh_data_\"*string(month(date))*\"_\"*string(day(date))*\"_\"*string(hour(date))*\"_\"*string(minute(date))*\".csv\", \"w\")\n",
    "        # データの書き込み\n",
    "        for x = 2 : length(target_model[:,1,1])-1\n",
    "            println(data_temp, \"x=\", x )\n",
    "            println(data_rh,   \"x=\", x )\n",
    "            for y = 2 : length(target_model[1,:,1])-1\n",
    "                for z = 2 : length(target_model[1,1,:])-1        \n",
    "                    println(data_temp, x, \",\", y, \",\", z, \",\", temp(target_model[x,y,z]) - 273.15 )\n",
    "                    println(data_rh,   x, \",\", y, \",\", z, \",\", rh(target_model[x,y,z]) )\n",
    "                end\n",
    "            end\n",
    "        end\n",
    "        close(data_temp)\n",
    "        close(data_rh)\n",
    "    end\n",
    "    \n",
    "end"
   ]
  },
  {
   "cell_type": "code",
   "execution_count": null,
   "metadata": {},
   "outputs": [],
   "source": [
    "target_model[2,2:end-1,2:end-1]"
   ]
  },
  {
   "cell_type": "code",
   "execution_count": null,
   "metadata": {},
   "outputs": [],
   "source": [
    "#データ作成\n",
    "Y = 2 : length(target_model[1,:,1])-1\n",
    "Z = 2 : length(target_model[1,1,:])-1\n",
    "value = permutedims([temp(target_model[4,y,z]) for y in Y, z in Z ], [2,1])\n",
    "#各プロット\n",
    "p1=heatmap(value,title=\"heatmap\")                            #ヒートマップ heatmap(2次元データ,...)\n",
    "#p2=contour(value,Y,Z,title=\"contour\")                        #コンター図   contour(xデータ,y,z,...)\n",
    "#p3=wireframe(value,Y,Z,title=\"wireframe\")                    #3Dのワイヤーフレーム表記\n",
    "#p4=surface(value,Y,Z,title=\"surface\")                        #3Dの曲面表示\n",
    "#plot(p1,p2,p3,p4,layout=(1,4),size=(1500,250),fmt=:png)  #1×4表記 (少し重たくなるので、後述のフォーマットpng)\n"
   ]
  },
  {
   "cell_type": "code",
   "execution_count": null,
   "metadata": {},
   "outputs": [],
   "source": [
    "[ temp(target_model[2,y,z]) for y = 2:9, z = 2:17 ]"
   ]
  },
  {
   "cell_type": "code",
   "execution_count": null,
   "metadata": {},
   "outputs": [],
   "source": [
    "[ target_model[2,y,z].miu for y = 2:9, z = 2:17 ]"
   ]
  },
  {
   "cell_type": "code",
   "execution_count": null,
   "metadata": {},
   "outputs": [],
   "source": [
    "date"
   ]
  },
  {
   "cell_type": "code",
   "execution_count": null,
   "metadata": {},
   "outputs": [],
   "source": []
  }
 ],
 "metadata": {
  "kernelspec": {
   "display_name": "Julia 1.11.0",
   "language": "julia",
   "name": "julia-1.11"
  },
  "language_info": {
   "file_extension": ".jl",
   "mimetype": "application/julia",
   "name": "julia",
   "version": "1.11.0"
  }
 },
 "nbformat": 4,
 "nbformat_minor": 4
}
