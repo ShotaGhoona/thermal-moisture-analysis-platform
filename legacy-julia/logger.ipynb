{
 "cells": [
  {
   "cell_type": "markdown",
   "metadata": {},
   "source": [
    "# 計算結果の記録を扱う（ロガー）モジュール"
   ]
  },
  {
   "cell_type": "code",
   "execution_count": 1,
   "metadata": {},
   "outputs": [
    {
     "name": "stderr",
     "output_type": "stream",
     "text": [
      "WARNING: replacing module Lewis_relation.\n",
      "WARNING: replacing module property_conversion.\n",
      "WARNING: replacing module water_property.\n",
      "WARNING: replacing module Lewis_relation.\n"
     ]
    },
    {
     "ename": "LoadError",
     "evalue": "LoadError: UndefVarError: Climate not defined\nin expression starting at d:\\OneDrive - Kyoto University\\ドキュメント\\解析プログラム\\[Julia]熱水分同時移動標準解析プログラム\\[Julia]熱水分同時移動解析標準プログラムver2.2.1\\module\\boundary_condition.jl:118",
     "output_type": "error",
     "traceback": [
      "LoadError: UndefVarError: Climate not defined\nin expression starting at d:\\OneDrive - Kyoto University\\ドキュメント\\解析プログラム\\[Julia]熱水分同時移動標準解析プログラム\\[Julia]熱水分同時移動解析標準プログラムver2.2.1\\module\\boundary_condition.jl:118",
      "",
      "Stacktrace:",
      " [1] top-level scope",
      "   @ d:\\OneDrive - Kyoto University\\ドキュメント\\解析プログラム\\[Julia]熱水分同時移動標準解析プログラム\\[Julia]熱水分同時移動解析標準プログラムver2.2.1\\module\\boundary_condition.jl:118",
      " [2] include(fname::String)",
      "   @ Base.MainInclude .\\client.jl:451",
      " [3] top-level scope",
      "   @ In[1]:4",
      " [4] eval",
      "   @ .\\boot.jl:373 [inlined]",
      " [5] include_string(mapexpr::typeof(REPL.softscope), mod::Module, code::String, filename::String)",
      "   @ Base .\\loading.jl:1196"
     ]
    }
   ],
   "source": [
    "using Dates\n",
    "include(\"./module/cell.jl\");\n",
    "include(\"./module/air.jl\");\n",
    "include(\"./module/boundary_condition.jl\");"
   ]
  },
  {
   "cell_type": "markdown",
   "metadata": {},
   "source": [
    "## 1. Logger構造体の作成\n",
    "- file:データを格納するファイルの情報\n",
    "- file_name:データを格納するファイルの名称\n",
    "- logging_interval:データのロギング間隔\n",
    "- logging_data:ロギングするデータ（Cell構造体あるいはAir構造体を入力する）\n",
    "- data_type:ロギングするデータの種類を入力する。temp, rh, miu, phiのいずれかとし、配列表記で入力する。複数のデータの種類を入力しても良い。"
   ]
  },
  {
   "cell_type": "code",
   "execution_count": 2,
   "metadata": {},
   "outputs": [],
   "source": [
    "mutable struct Logger\n",
    "    file::Array{IOStream,1}         # データを格納するcsvファイル\n",
    "    file_name::String               # csvファイルの名称\n",
    "    logging_interval::Float64       # データのロギング間隔\n",
    "    data_type::Array{String,1}      # ロギングするデータの種類\n",
    "    logging_data::Any               # ロギングするデータ\n",
    "end"
   ]
  },
  {
   "cell_type": "markdown",
   "metadata": {},
   "source": [
    "## 2. ロガーのセット"
   ]
  },
  {
   "cell_type": "markdown",
   "metadata": {},
   "source": [
    "### 2.1 基本となるロガーの設定方法  \n",
    "\n",
    "ファイルのオープンはopen関数を用いる。  \n",
    "\n",
    "opne(file名, mode)  \n",
    "なおmodeには以下の種類がある。\n",
    "\n",
    "- r：読込みモード\n",
    "- w：書込みモード(ファイルが存在する場合は上書き)\n",
    "- a：追記モード\n",
    "- r+：読込みと書込みどちらも可能なモード(ファイルが存在しない場合はエラー)\n",
    "- w+：読込みと書込みどちらも可能なモード(ファイルが存在しない場合は新規作成)\n",
    "- +：読込みと追記のどちらも可能なモード\n",
    "\n",
    "※モード指定しない場合、デフォルトでは\"r\"(読込みモード)となる。 "
   ]
  },
  {
   "cell_type": "code",
   "execution_count": 16,
   "metadata": {},
   "outputs": [
    {
     "data": {
      "text/plain": [
       "set_logger (generic function with 2 methods)"
      ]
     },
     "execution_count": 16,
     "metadata": {},
     "output_type": "execute_result"
    }
   ],
   "source": [
    "function set_logger( file_name::String, logging_interval, data_type::Array{String,1}, logging_data )\n",
    "    # ファイルの作成\n",
    "    if data_type == [\"room_analysis\"]\n",
    "        file = [ open(\"./output_data/\"*file_name*string(i)*\".csv\", \"w\") for i = 1 : length(logging_data.rooms) ]\n",
    "    else\n",
    "        file = [ open(\"./output_data/\"*file_name*\".csv\", \"w\") ]\n",
    "    end\n",
    "    # 書き込む情報の作成\n",
    "    logger = Logger(file, file_name, logging_interval, data_type, logging_data)    \n",
    "    return logger\n",
    "end"
   ]
  },
  {
   "cell_type": "markdown",
   "metadata": {},
   "source": [
    "### 2.2 複数のCellを内包するリストであるwallを引数とした場合"
   ]
  },
  {
   "cell_type": "markdown",
   "metadata": {},
   "source": [
    "set_logger( file_name::String, logging_interval, data_type::Array{String,1}, wall::Array{Cell,1} ) = set_logger( file_name, logging_interval, data_type, wall )"
   ]
  },
  {
   "cell_type": "markdown",
   "metadata": {},
   "source": [
    "### 2.3 wallおよび空間情報を引数とした場合"
   ]
  },
  {
   "cell_type": "markdown",
   "metadata": {},
   "source": [
    "function set_logger( file_name::String, logging_interval, data_type::Array{String,1}, air_in::Air, wall::Array{Cell,1}, air_out::Air )\n",
    "    logging_data = []\n",
    "    append!(logging_data, [air_in])\n",
    "    append!(logging_data, wall )\n",
    "    append!(logging_data, [air_out])\n",
    "    set_logger( file_name, logging_interval, data_type, logging_data )\n",
    "end"
   ]
  },
  {
   "cell_type": "markdown",
   "metadata": {},
   "source": [
    "### 2.4 可変長引数とした場合"
   ]
  },
  {
   "cell_type": "code",
   "execution_count": 4,
   "metadata": {},
   "outputs": [
    {
     "data": {
      "text/plain": [
       "set_logger (generic function with 2 methods)"
      ]
     },
     "execution_count": 4,
     "metadata": {},
     "output_type": "execute_result"
    }
   ],
   "source": [
    "function set_logger( file_name::String, logging_interval, data_type::Array{String,1}, data... )\n",
    "    return set_logger( file_name, logging_interval, data_type, vcat(data...) )\n",
    "end"
   ]
  },
  {
   "cell_type": "markdown",
   "metadata": {},
   "source": [
    "## 3. ヘッダーの書き込み"
   ]
  },
  {
   "cell_type": "markdown",
   "metadata": {},
   "source": [
    "### 3.1 ヘッダー名を指定する場合"
   ]
  },
  {
   "cell_type": "code",
   "execution_count": 5,
   "metadata": {},
   "outputs": [
    {
     "data": {
      "text/plain": [
       "write_header_to_logger (generic function with 1 method)"
      ]
     },
     "execution_count": 5,
     "metadata": {},
     "output_type": "execute_result"
    }
   ],
   "source": [
    "function write_header_to_logger( logger, header )\n",
    "    for i = 1 : length(header)\n",
    "        print(logger.file, header[i], \",\" )\n",
    "    end\n",
    "    println(logger.file)\n",
    "end"
   ]
  },
  {
   "cell_type": "markdown",
   "metadata": {},
   "source": [
    "### 3.2 Logger内にlogging_dataが存在する場合"
   ]
  },
  {
   "cell_type": "code",
   "execution_count": 6,
   "metadata": {},
   "outputs": [
    {
     "data": {
      "text/plain": [
       "write_header_to_logger (generic function with 2 methods)"
      ]
     },
     "execution_count": 6,
     "metadata": {},
     "output_type": "execute_result"
    }
   ],
   "source": [
    "function write_header_to_logger( logger::Logger )\n",
    "    if logger.data_type == [\"room_analysis\"]\n",
    "        write_header_room_analysis( logger )\n",
    "    else\n",
    "        write_header_basic( logger )\n",
    "    end\n",
    "end"
   ]
  },
  {
   "cell_type": "markdown",
   "metadata": {},
   "source": [
    "#### 3.2.1 基本的なヘッダー記述方法"
   ]
  },
  {
   "cell_type": "code",
   "execution_count": 7,
   "metadata": {},
   "outputs": [
    {
     "data": {
      "text/plain": [
       "write_header_basic (generic function with 1 method)"
      ]
     },
     "execution_count": 7,
     "metadata": {},
     "output_type": "execute_result"
    }
   ],
   "source": [
    "function write_header_basic( logger::Logger )\n",
    "    \n",
    "    for n = 1 : length(logger.file)\n",
    "\n",
    "        # date行は飛ばす\n",
    "        print(logger.file[n], \",\" )\n",
    "        log_num = length(logger.data_type)\n",
    "            \n",
    "        # 各種位置情報の書き出し\n",
    "        for i = 1 : length(logger.logging_data)\n",
    "            for j = 1 : log_num\n",
    "                if typeof(logger.logging_data[i]) == Air\n",
    "                    print(logger.file[n], logger.logging_data[i].name, \",\" )\n",
    "                elseif typeof(logger.logging_data[i]) == BC_Dirichlet\n",
    "                    print(logger.file[n], logger.logging_data[i].name, \",\" )\n",
    "                elseif typeof(logger.logging_data[i]) == BC_Neumann\n",
    "                    print(logger.file[n], logger.logging_data[i].name, \",\" )\n",
    "                elseif typeof(logger.logging_data[i]) == BC_Robin\n",
    "                    print(logger.file[n], logger.logging_data[i].air.name, \",\" )\n",
    "                elseif typeof(logger.logging_data[i]) == Room\n",
    "                    print(logger.file[n], \"room\"*string(num(logger.logging_data[i])), \",\" )\n",
    "                elseif typeof(logger.logging_data[i]) == Cell\n",
    "                    print(logger.file[n], \"wall\"*string(logger.logging_data[i].i[1]), \",\" )\n",
    "                end\n",
    "            end\n",
    "        end       \n",
    "        println(logger.file[n])\n",
    "\n",
    "        # 時刻データの書き出し\n",
    "        print(logger.file[n], \" ,\" )\n",
    "\n",
    "        # 記録するデータの種類を書き出す\n",
    "        for i = 1 : length(logger.logging_data)\n",
    "            for j = 1 : log_num\n",
    "                print(logger.file[n], logger.data_type[j], \",\")\n",
    "            end\n",
    "        end       \n",
    "\n",
    "        println(logger.file[n])\n",
    "\n",
    "    end\n",
    "    \n",
    "end"
   ]
  },
  {
   "cell_type": "markdown",
   "metadata": {},
   "source": [
    "#### 3.2.2 室内環境分析用のヘッダー記述方法"
   ]
  },
  {
   "cell_type": "code",
   "execution_count": 8,
   "metadata": {},
   "outputs": [
    {
     "data": {
      "text/plain": [
       "write_header_room_analysis (generic function with 1 method)"
      ]
     },
     "execution_count": 8,
     "metadata": {},
     "output_type": "execute_result"
    }
   ],
   "source": [
    "# ----------------\n",
    "# 出力内容\n",
    "# 室の温湿度・周辺壁の温度・相対湿度・絶対湿度　＋　熱流・水分流量、　換気流量、\n",
    "# ----------------\n",
    "\n",
    "function write_header_room_analysis( logger::Logger )\n",
    "\n",
    "    network = logger.logging_data\n",
    "    first_header_name  = String[]\n",
    "    second_header_name = String[]\n",
    "\n",
    "    # 各部屋に対する計算\n",
    "    for r = 1 : length(network.rooms)\n",
    "        \n",
    "        # 空のヘッダーの作成\n",
    "        first_header_name  = String[]\n",
    "        second_header_name = String[]\n",
    "\n",
    "        # 時刻・各部屋の情報の入力\n",
    "        push!(first_header_name,  \" \")\n",
    "        push!(second_header_name, \" \")\n",
    "        for element = [ \"temp\", \"rh\", \"ah\" ]\n",
    "            push!(first_header_name,  \"room\"*string(r) )\n",
    "            push!(second_header_name, element)\n",
    "        end\n",
    "\n",
    "        # インシデンス行列により壁と面するかの判定\n",
    "        for i = 1 : length(network.walls)\n",
    "            if network.IC_walls[r,i] == 1\n",
    "                wall_num = string(i) * \"_IP\"\n",
    "            elseif network.IC_walls[r,i] == -1\n",
    "                wall_num = string(i) * \"_IM\"\n",
    "            else\n",
    "                continue # 以下の動作をスキップ\n",
    "            end\n",
    "            # 値の書き込み\n",
    "            for element = [ \"temp\", \"rh\", \"ah\", \"Hw\", \"Jwv\", \"Jwl\" ]\n",
    "                push!(first_header_name,  \"wall\"*string(wall_num) )\n",
    "                push!(second_header_name, element)\n",
    "            end\n",
    "        end\n",
    "\n",
    "        # インシデンス行列により部屋との換気が生じているかの判定\n",
    "        for i = 1 : length(network.openings)\n",
    "            if network.IC_openings[r,i] == 1\n",
    "                room_num = IM(network.openings[i])\n",
    "            elseif network.IC_openings[r,i] == -1\n",
    "                room_num = IP(network.openings[i])\n",
    "            else\n",
    "                continue # 以下の動作をスキップ\n",
    "            end\n",
    "            # 値の書き込み\n",
    "            for element = [ \"temp\", \"rh\", \"ah\" ]\n",
    "                push!(first_header_name,  \"room\"*string(room_num) )\n",
    "                push!(second_header_name, element)\n",
    "            end\n",
    "            for element = [ \"Hv\", \"Jv\" ]\n",
    "                push!(first_header_name,  \"opening\"*string(i) )\n",
    "                push!(second_header_name, element)\n",
    "            end\n",
    "        end\n",
    "\n",
    "        # 発熱源・発湿源\n",
    "        push!(first_header_name,  \"Heat source\", \"Moisture source\" )\n",
    "        push!(second_header_name, \"Hin\", \"Jin\")\n",
    "\n",
    "        # 第一ヘッダーを記述\n",
    "        for header_name = first_header_name\n",
    "            print( logger.file[r], header_name,  \" , \" )\n",
    "        end\n",
    "        println( logger.file[r])\n",
    "\n",
    "        # 第二ヘッダーを記述\n",
    "        for header_name = second_header_name\n",
    "            print( logger.file[r], header_name,  \" , \" )\n",
    "        end\n",
    "        println( logger.file[r] )\n",
    "\n",
    "    end\n",
    "\n",
    "end"
   ]
  },
  {
   "cell_type": "markdown",
   "metadata": {},
   "source": [
    "## 4. 値の書き込み"
   ]
  },
  {
   "cell_type": "markdown",
   "metadata": {},
   "source": [
    "### 4.1 Loggerを用いた書き込み方法"
   ]
  },
  {
   "cell_type": "code",
   "execution_count": null,
   "metadata": {},
   "outputs": [],
   "source": [
    "function write_data_to_logger( logger::Logger, date::DateTime )\n",
    "    # ロギングインターバル時に起動\n",
    "    if mod(minute(date), Int(logger.logging_interval)) == 0 && second(date) == 0 && millisecond(date) == 0\n",
    "       if logger.data_type == [\"room_analysis\"]        \n",
    "            write_data_for_room_analysis( logger )\n",
    "        else\n",
    "            write_data_basic( logger, date )\n",
    "        end\n",
    "    end\n",
    "end"
   ]
  },
  {
   "cell_type": "code",
   "execution_count": 9,
   "metadata": {},
   "outputs": [
    {
     "data": {
      "text/plain": [
       "write_data_to_logger (generic function with 1 method)"
      ]
     },
     "execution_count": 9,
     "metadata": {},
     "output_type": "execute_result"
    }
   ],
   "source": [
    "function write_data_basic( logger::Logger, date::DateTime )\n",
    "\n",
    "    for n = 1 : length(logger.file)\n",
    "\n",
    "        # 時刻の書き出し\n",
    "        print(logger.file[n], Dates.format(date, \"yyyy/mm/dd HH:MM\"), \",\")\n",
    "\n",
    "        # 記録するデータを書き出す\n",
    "        try \n",
    "            if logger.data_type == [\"temp\"]\n",
    "                for i = 1 : length(logger.logging_data); print(logger.file[n], round(temp(logger.logging_data[i]) - 273.15, digits = 3), \",\" ) end\n",
    "            elseif logger.data_type == [\"rh\"]\n",
    "                for i = 1 : length(logger.logging_data); print(logger.file[n], round(rh(logger.logging_data[i]), digits = 3), \",\" ) end\n",
    "            elseif logger.data_type == [\"pv\"]\n",
    "                for i = 1 : length(logger.logging_data); print(logger.file[n], round(pv(logger.logging_data[i]), digits = 5), \",\" ) end\n",
    "            elseif logger.data_type == [\"ah\"]\n",
    "                for i = 1 : length(logger.logging_data); print(logger.file[n], round(ah(logger.logging_data[i]), digits = 5), \",\" ) end\n",
    "            elseif logger.data_type == [\"miu\"]\n",
    "                for i = 1 : length(logger.logging_data); print(logger.file[n], round(miu(logger.logging_data[i]), digits = 5), \",\" ) end\n",
    "            elseif logger.data_type == [\"phi\"]\n",
    "                for i = 1 : length(logger.logging_data); print(logger.file[n], round(phi(logger.logging_data[i]), digits = 3), \",\" ) end\n",
    "            elseif logger.data_type == [\"temp\",\"rh\",\"ah\"]\n",
    "                for i = 1 : length(logger.logging_data)\n",
    "                    print(logger.file[n], round(temp(logger.logging_data[i]) - 273.15, digits = 3), \",\" )\n",
    "                    print(logger.file[n], round(rh(logger.logging_data[i]), digits = 3), \",\" ) \n",
    "                    print(logger.file[n], round(ah(logger.logging_data[i]), digits = 5), \",\" ) \n",
    "                end\n",
    "            elseif logger.data_type == [\"temp\",\"rh\",\"phi\"]\n",
    "                for i = 1 : length(logger.logging_data)\n",
    "                    print(logger.file[n], round(temp(logger.logging_data[i]) - 273.15, digits = 3), \",\" )\n",
    "                    print(logger.file[n], round(rh(logger.logging_data[i]), digits = 3), \",\" ) \n",
    "                    try print(logger.file[n], round(phi(logger.logging_data[i]), digits = 5), \",\" ) \n",
    "                    catch\n",
    "                        print(logger.file[n], \"Error\", \",\" ) \n",
    "                    end\n",
    "                end\n",
    "            elseif logger.data_type == [\"temp\",\"rh\",\"ah\",\"phi\"]\n",
    "                for i = 1 : length(logger.logging_data)\n",
    "                    print(logger.file[n], round(temp(logger.logging_data[i]) - 273.15, digits = 3), \",\" )\n",
    "                    print(logger.file[n], round(rh(logger.logging_data[i]), digits = 3), \",\" ) \n",
    "                    print(logger.file[n], round(ah(logger.logging_data[i]), digits = 5), \",\" ) \n",
    "                    try print(logger.file[n], round(phi(logger.logging_data[i]), digits = 5), \",\" ) \n",
    "                    catch\n",
    "                        print(logger.file[n], \"Error\", \",\" ) \n",
    "                    end\n",
    "                end\n",
    "            end       \n",
    "        catch\n",
    "            print(logger.file[n], \"Error\", \",\" ) \n",
    "        end\n",
    "        println(logger.file[n])\n",
    "\n",
    "    end\n",
    "\n",
    "end "
   ]
  },
  {
   "cell_type": "markdown",
   "metadata": {},
   "source": [
    "### 4.1 基準となる書き込み方法"
   ]
  },
  {
   "cell_type": "code",
   "execution_count": 10,
   "metadata": {},
   "outputs": [
    {
     "data": {
      "text/plain": [
       "write_rawdata_to_logger (generic function with 1 method)"
      ]
     },
     "execution_count": 10,
     "metadata": {},
     "output_type": "execute_result"
    }
   ],
   "source": [
    "function write_rawdata_to_logger( logger, data )\n",
    "    for i = 1 : length(data)\n",
    "        print(logger.file, data[i], \",\" )\n",
    "    end\n",
    "    println(logger.file)\n",
    "end"
   ]
  },
  {
   "cell_type": "markdown",
   "metadata": {},
   "source": [
    "### 4.2 温度の書き込み"
   ]
  },
  {
   "cell_type": "code",
   "execution_count": 11,
   "metadata": {},
   "outputs": [
    {
     "data": {
      "text/plain": [
       "write_temp_to_logger (generic function with 1 method)"
      ]
     },
     "execution_count": 11,
     "metadata": {},
     "output_type": "execute_result"
    }
   ],
   "source": [
    "function write_temp_to_logger( logger::Logger, date )\n",
    "    print(logger.file, date, \",\")\n",
    "    for i = 1 : length(logger.logging_data)\n",
    "        print(logger.file, round(temp(logger.logging_data[i]) - 273.15, digits = 2), \",\" )\n",
    "    end\n",
    "    println(logger.file)\n",
    "end"
   ]
  },
  {
   "cell_type": "markdown",
   "metadata": {},
   "source": [
    "### 4.3 相対湿度の書き込み"
   ]
  },
  {
   "cell_type": "code",
   "execution_count": 12,
   "metadata": {},
   "outputs": [
    {
     "data": {
      "text/plain": [
       "write_RH_to_logger (generic function with 1 method)"
      ]
     },
     "execution_count": 12,
     "metadata": {},
     "output_type": "execute_result"
    }
   ],
   "source": [
    "function write_RH_to_logger( logger::Logger, date )\n",
    "    print(logger.file, date, \",\")\n",
    "    for i = 1 : length(logger.logging_data)\n",
    "        print(logger.file, round(rh(logger.logging_data[i]), digits = 2), \",\" )\n",
    "    end\n",
    "    println(logger.file)\n",
    "end"
   ]
  },
  {
   "cell_type": "markdown",
   "metadata": {},
   "source": [
    "### 4.4 水蒸気圧の書き込み"
   ]
  },
  {
   "cell_type": "code",
   "execution_count": 13,
   "metadata": {},
   "outputs": [
    {
     "data": {
      "text/plain": [
       "write_Pv_to_logger (generic function with 1 method)"
      ]
     },
     "execution_count": 13,
     "metadata": {},
     "output_type": "execute_result"
    }
   ],
   "source": [
    "function write_Pv_to_logger( logger::Logger, date )\n",
    "    print(logger.file, date, \",\")\n",
    "    for i = 1 : length(logger.logging_data)\n",
    "        print(logger.file, round(pv(logger.logging_data[i]), digits = 2), \",\" )\n",
    "    end\n",
    "    println(logger.file)\n",
    "end"
   ]
  },
  {
   "cell_type": "markdown",
   "metadata": {},
   "source": [
    "### 4.5 水分化学ポテンシャルの書き込み"
   ]
  },
  {
   "cell_type": "code",
   "execution_count": 14,
   "metadata": {},
   "outputs": [
    {
     "data": {
      "text/plain": [
       "write_Miu_to_logger (generic function with 1 method)"
      ]
     },
     "execution_count": 14,
     "metadata": {},
     "output_type": "execute_result"
    }
   ],
   "source": [
    "function write_Miu_to_logger( logger::Logger, date )\n",
    "    print(logger.file, date, \",\")\n",
    "    for i = 1 : length(logger.logging_data)\n",
    "        print(logger.file, round(miu(logger.logging_data[i]), digits = 2), \",\" )\n",
    "    end\n",
    "    println(logger.file)\n",
    "end"
   ]
  },
  {
   "cell_type": "markdown",
   "metadata": {},
   "source": [
    "### 4.6 室内環境分析用の出力方法"
   ]
  },
  {
   "cell_type": "code",
   "execution_count": 15,
   "metadata": {},
   "outputs": [
    {
     "data": {
      "text/plain": [
       "write_data_for_room_analysis (generic function with 1 method)"
      ]
     },
     "execution_count": 15,
     "metadata": {},
     "output_type": "execute_result"
    }
   ],
   "source": [
    "function write_data_for_room_analysis( logger::Logger )\n",
    "\n",
    "    network = logger.logging_data\n",
    "\n",
    "    # 各部屋に対する計算\n",
    "    for r = 1 : length(network.rooms)\n",
    "\n",
    "        # 時刻の入力\n",
    "        print( logger.file[r], Dates.format(network.climate.date, \"yyyy/mm/dd HH:MM\"), \",\")\n",
    "\n",
    "        # 各部屋の温湿度の入力\n",
    "        print( logger.file[r],  temp(network.rooms[r])-273.15, \",\")\n",
    "        print( logger.file[r],  rh(network.rooms[r]), \",\")\n",
    "        print( logger.file[r],  ah(network.rooms[r]), \",\")\n",
    "\n",
    "        ############################################\n",
    "        # インシデンス行列により壁と面するかの判定\n",
    "        for i = 1 : length(network.walls)\n",
    "            # 上流側の壁と面する場合\n",
    "            if network.IC_walls[r,i] == 1\n",
    "                qa = - cal_q( network.walls[i].target_model[1], network.walls[i].target_model[2])\n",
    "                jv = - cal_jv( network.walls[i].target_model[1], network.walls[i].target_model[2])\n",
    "                jl = - cal_jl( network.walls[i].target_model[1], network.walls[i].target_model[2], sin(network.walls[i].ION / (180.0/pi)))\n",
    "                #println(\" room = \", temp(network.walls[i].target_model[1])-273.15, \" room = \", temp(network.walls[i].target_model[2])-273.15)\n",
    "                #println(\" r = \", r, \" i = \",i, \" qa = \",qa)\n",
    "            elseif network.IC_walls[r,i] == -1\n",
    "                qa = cal_q( network.walls[i].target_model[end-1], network.walls[i].target_model[end])\n",
    "                jv = cal_jv( network.walls[i].target_model[end-1], network.walls[i].target_model[end])\n",
    "                jl = cal_jl( network.walls[i].target_model[end-1], network.walls[i].target_model[end], sin(network.walls[i].ION / (180.0/pi)))\n",
    "            else\n",
    "                continue # 以下の動作をスキップ\n",
    "            end\n",
    "            print( logger.file[r],  temp(network.walls[i].target_model[2])-273.15, \",\")\n",
    "            print( logger.file[r],  rh(network.walls[i].target_model[2]), \",\")\n",
    "            print( logger.file[r],  ah(network.walls[i].target_model[2]), \",\")\n",
    "            print( logger.file[r],  area(network.walls[i]) * qa, \",\")\n",
    "            print( logger.file[r],  area(network.walls[i]) * jv, \",\")\n",
    "            print( logger.file[r],  area(network.walls[i]) * jl, \",\")        \n",
    "        end\n",
    "\n",
    "        #########################################\n",
    "        # インシデンス行列により部屋との換気が生じているかの判定\n",
    "        for i = 1 : length(network.openings)\n",
    "            # 空気の比熱容量：乾き空気＋水蒸気の比熱\n",
    "            ca_IP   = 1005.0 + 1846.0 * ah(room_IP(network.openings[i]))\n",
    "            ca_IM   = 1005.0 + 1846.0 * ah(room_IM(network.openings[i]))\n",
    "            # 空気の密度：ボイルシャルルの法則より\n",
    "            rho_IP  =  353.25 / temp(room_IP(network.openings[i]))\n",
    "            rho_IM  =  353.25 / temp(room_IM(network.openings[i]))\n",
    "            # 上流側に室がある場合\n",
    "            if network.IC_openings[r,i] == 1 \n",
    "                # 換気量の計算\n",
    "                Qvent_in  =   Qup(network.openings[i]) * ca_IM  * rho_IM * temp(room_IM(network.openings[i]))\n",
    "                Qvent_out = - Qdw(network.openings[i]) * ca_IP  * rho_IP * temp(room_IP(network.openings[i]))\n",
    "                Jvent_in  =   Qup(network.openings[i]) * rho_IM * ah(room_IM(network.openings[i]))\n",
    "                Jvent_out = - Qdw(network.openings[i]) * rho_IP * ah(room_IP(network.openings[i]))                \n",
    "                print( logger.file[r],  temp(room_IM(network.openings[i]))-273.15, \",\")\n",
    "                print( logger.file[r],  rh(room_IM(network.openings[i])), \",\")\n",
    "                print( logger.file[r],  ah(room_IM(network.openings[i])), \",\")\n",
    "            # 下流側に室がある場合\n",
    "            elseif network.IC_openings[r,i] == -1\n",
    "                # 換気量の計算\n",
    "                Qvent_in  =   Qdw(network.openings[i]) * ca_IP  * rho_IP * temp(room_IP(network.openings[i]))\n",
    "                Qvent_out = - Qup(network.openings[i]) * ca_IM  * rho_IM * temp(room_IM(network.openings[i]))\n",
    "                Jvent_in  =   Qdw(network.openings[i]) * rho_IP * ah(room_IP(network.openings[i]))              \n",
    "                Jvent_out = - Qup(network.openings[i]) * rho_IM * ah(room_IM(network.openings[i]))\n",
    "                print( logger.file[r],  temp(room_IP(network.openings[i]))-273.15, \",\")\n",
    "                print( logger.file[r],  rh(room_IP(network.openings[i])), \",\")\n",
    "                print( logger.file[r],  ah(room_IP(network.openings[i])), \",\")\n",
    "            else\n",
    "                continue # 以下の動作をスキップ\n",
    "            end\n",
    "            print( logger.file[r],  Qvent_in + Qvent_out, \",\")\n",
    "            print( logger.file[r],  Jvent_in + Jvent_out, \",\")\n",
    "        end\n",
    "\n",
    "        #########################################\n",
    "        # 発熱源・発湿源\n",
    "        print( logger.file[r],  H_in(network.rooms[r].air), \",\")\n",
    "        print( logger.file[r],  J_in(network.rooms[r].air), \",\")\n",
    "\n",
    "        println(logger.file[r])\n",
    "\n",
    "    end\n",
    "\n",
    "end"
   ]
  },
  {
   "cell_type": "code",
   "execution_count": null,
   "metadata": {},
   "outputs": [],
   "source": []
  }
 ],
 "metadata": {
  "kernelspec": {
   "display_name": "Julia 1.11.0",
   "language": "julia",
   "name": "julia-1.11"
  },
  "language_info": {
   "file_extension": ".jl",
   "mimetype": "application/julia",
   "name": "julia",
   "version": "1.7.3"
  }
 },
 "nbformat": 4,
 "nbformat_minor": 2
}
