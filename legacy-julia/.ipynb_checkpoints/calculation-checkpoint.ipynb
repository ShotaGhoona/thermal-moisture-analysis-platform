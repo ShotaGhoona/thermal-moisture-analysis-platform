{
 "cells": [
  {
   "cell_type": "markdown",
   "metadata": {},
   "source": [
    "</br>\n",
    "\n",
    "# Sampleプログラム：1次元水平壁内熱水分同時移動解析  \n",
    "version1.5 1次元熱水分同時移動計算を行う"
   ]
  },
  {
   "cell_type": "markdown",
   "metadata": {
    "tags": []
   },
   "source": [
    "## 計算に必要なモジュールを読み込む  \n",
    "- core_system(熱水分同時移動に必要な計算モジュール)  \n",
    "- timer(時間差分計算を行う際に必要な計算モジュール：気象データの読み込み方などが記載されている)\n",
    "- logger(計算結果を補完するのに必要な計算モジュール)"
   ]
  },
  {
   "cell_type": "markdown",
   "metadata": {},
   "source": [
    "※2021/01/12 加筆・修正  \n",
    "初めて本プログラムを使う際は以下のセルをMarkdownからCodeに変更し、CSVおよびDataFramesパッケージをインストールすること"
   ]
  },
  {
   "cell_type": "markdown",
   "metadata": {},
   "source": [
    "using Pkg\n",
    "Pkg.add(\"CSV\")\n",
    "Pkg.add(\"DataFrames\")"
   ]
  },
  {
   "cell_type": "code",
   "execution_count": 1,
   "metadata": {},
   "outputs": [],
   "source": [
    "include(\"./module/timer.jl\")\n",
    "include(\"./module/climate_data.jl\");"
   ]
  },
  {
   "cell_type": "markdown",
   "metadata": {
    "tags": []
   },
   "source": [
    "## 手順１：壁を構築する  "
   ]
  },
  {
   "cell_type": "markdown",
   "metadata": {},
   "source": [
    "壁は一次元でかつ水平なものを想定する。  \n",
    "壁の厚みは20cmとし、以下のような設定とする。  \n",
    "\n",
    "- 壁の分割数は11（表面の壁厚は内部の半分1mm）とする。\n",
    "- 材料は土壁(mud_wall)とする。  \n",
    "\n",
    "なお、/input_data/wall_data内に壁の使用は書いておき、そちらから壁のモデリングを行う。"
   ]
  },
  {
   "cell_type": "code",
   "execution_count": 7,
   "metadata": {},
   "outputs": [
    {
     "name": "stderr",
     "output_type": "stream",
     "text": [
      "WARNING: replacing module property_conversion.\n",
      "WARNING: replacing module water_property.\n"
     ]
    },
    {
     "data": {
      "text/plain": [
       "cal_newmols (generic function with 3 methods)"
      ]
     },
     "execution_count": 7,
     "metadata": {},
     "output_type": "execute_result"
    }
   ],
   "source": [
    "include(\"./module/cell.jl\")"
   ]
  },
  {
   "cell_type": "code",
   "execution_count": 8,
   "metadata": {},
   "outputs": [],
   "source": [
    "wall = [ Cell() for i = 1 : 10 ];"
   ]
  },
  {
   "cell_type": "code",
   "execution_count": 9,
   "metadata": {},
   "outputs": [],
   "source": [
    "for j = 1 : 10\n",
    "    wall[j].i = j\n",
    "    wall[j].dx = 0.001\n",
    "    wall[j].dy = 0.0\n",
    "    wall[j].dz = 0.0\n",
    "    wall[j].dx2 = 0.001\n",
    "    wall[j].dy2 = 0.0\n",
    "    wall[j].dz2 = 0.0\n",
    "    wall[j].temp = 10.0 + 273.15\n",
    "    wall[j].rh = 0.6\n",
    "    wall[j].material_name = \"mud_wall\"\n",
    "end"
   ]
  },
  {
   "cell_type": "code",
   "execution_count": 10,
   "metadata": {},
   "outputs": [
    {
     "data": {
      "text/plain": [
       "0.23"
      ]
     },
     "execution_count": 10,
     "metadata": {},
     "output_type": "execute_result"
    }
   ],
   "source": [
    "lam(wall[1])"
   ]
  },
  {
   "cell_type": "markdown",
   "metadata": {
    "tags": []
   },
   "source": [
    "## 手順２：空間側の情報を設定する"
   ]
  },
  {
   "cell_type": "markdown",
   "metadata": {},
   "source": [
    "壁は表面（配列の1側）、裏面（配列のend側）ともに空気に接するものとする。  \n",
    "このとき、表面側を室内側、裏面側を外気とし以下のように設定する。  \n",
    "\n",
    "- air_in （室内側空気）：対流熱伝達率4.9\n",
    "- air_out（外気側空気）：対流熱伝達率18.6  \n",
    "\n",
    "なお、初期の温度、相対湿度に関しては手順で測定データを用いるため適当な値を用いてよい。"
   ]
  },
  {
   "cell_type": "code",
   "execution_count": 11,
   "metadata": {},
   "outputs": [
    {
     "name": "stderr",
     "output_type": "stream",
     "text": [
      "WARNING: replacing module Lewis_relation.\n"
     ]
    },
    {
     "data": {
      "text/plain": [
       "air_construction (generic function with 1 method)"
      ]
     },
     "execution_count": 11,
     "metadata": {},
     "output_type": "execute_result"
    }
   ],
   "source": [
    "include(\"./module/air.jl\")"
   ]
  },
  {
   "cell_type": "code",
   "execution_count": 12,
   "metadata": {},
   "outputs": [
    {
     "data": {
      "text/plain": [
       "Air(\"室内\", 1.0, 283.15, 0.7, 9.3, 4.9, 4.4, 3.352802002761082e-8)"
      ]
     },
     "execution_count": 12,
     "metadata": {},
     "output_type": "execute_result"
    }
   ],
   "source": [
    "air_in = air_construction( \n",
    "    name = \"室内\", \n",
    "    temp = 10.0 + 273.15,\n",
    "    rh = 0.7,\n",
    "    alphac = 4.9\n",
    ")"
   ]
  },
  {
   "cell_type": "code",
   "execution_count": 14,
   "metadata": {},
   "outputs": [
    {
     "data": {
      "text/plain": [
       "Air(\"外気\", 1.0, 293.15, 0.6, 9.3, 4.9, 4.4, 3.238430452266076e-8)"
      ]
     },
     "execution_count": 14,
     "metadata": {},
     "output_type": "execute_result"
    }
   ],
   "source": [
    "air_out = air_construction( \n",
    "    name = \"外気\", \n",
    "    temp = 20.0 + 273.15, \n",
    "    rh = 0.6, \n",
    "    alphac = 4.9\n",
    ")"
   ]
  },
  {
   "cell_type": "markdown",
   "metadata": {
    "tags": []
   },
   "source": [
    "## 手順３：流量計算式および収支式を構築する"
   ]
  },
  {
   "cell_type": "markdown",
   "metadata": {},
   "source": [
    "流量計算式および収支計算式は一般的な第三種境界条件とする。  \n",
    "日射や降雨等を考慮せず、水平な壁の場合は以下のような式となる。 "
   ]
  },
  {
   "cell_type": "code",
   "execution_count": 15,
   "metadata": {},
   "outputs": [
    {
     "name": "stderr",
     "output_type": "stream",
     "text": [
      "WARNING: replacing module property_conversion.\n",
      "WARNING: replacing module water_property.\n",
      "WARNING: replacing module Lewis_relation.\n"
     ]
    },
    {
     "data": {
      "text/plain": [
       "-3.9436465446369213e-7"
      ]
     },
     "execution_count": 15,
     "metadata": {},
     "output_type": "execute_result"
    }
   ],
   "source": [
    "include(\"./module/transfer_in_media.jl\")"
   ]
  },
  {
   "cell_type": "markdown",
   "metadata": {},
   "source": [
    "# 乙守君へ  \n",
    "下記の関数内にある流量などの計算が上手く回るかを確かめてください。"
   ]
  },
  {
   "cell_type": "code",
   "execution_count": null,
   "metadata": {},
   "outputs": [],
   "source": [
    "function cal_new_temp_miu_neumann( wall, air_tip, air_end, dt )\n",
    "    ###################################\n",
    "    # 壁体内部の流量計算\n",
    "    qs = [ cal_qs( wall[i], wall[i+1] ) for i = 1:length(wall)-1 ]\n",
    "    jv = [ cal_jv( wall[i], wall[i+1] ) for i = 1:length(wall)-1 ]\n",
    "    jl = [ cal_jl( wall[i], wall[i+1], 0.0 ) for i = 1:length(wall)-1 ]\n",
    "    \n",
    "    ###################################\n",
    "    # 境界における流量計算　⇒　日射や降雨がある場合は以下の境界条件を修正する。\n",
    "    # 先端部\n",
    "    prepend!(qs, cal_qs_air( air_tip, wall[1]))\n",
    "    prepend!(jv, cal_jv_air( air_tip, wall[1]))\n",
    "    prepend!(jl, 0.0);\n",
    "    # 終端部\n",
    "    append!(qs, cal_qs_air( wall[end], air_end))\n",
    "    append!(jv, cal_jv_air( wall[end], air_end))\n",
    "    append!(jl, 0.0);\n",
    "    \n",
    "    ###################################\n",
    "    # 熱・水分の収支計算\n",
    "    ntemp = [ cal_newtemp( cell = wall[i], qs_mns = qs[i], qs_pls = qs[i+1], jv_mns = jv[i], jv_pls = jv[i+1], time = dt ) for i = 1:length(wall) ]\n",
    "    nmiu  = [ cal_newmiu(  cell = wall[i], jv_mns = jv[i], jv_pls = jv[i+1], jl_mns = jl[i], jl_pls = jl[i+1], time = dt ) for i = 1:length(wall) ]    \n",
    "    \n",
    "    return ntemp, nmiu\n",
    "end"
   ]
  },
  {
   "cell_type": "markdown",
   "metadata": {
    "tags": []
   },
   "source": [
    "## 手順４：計算時間に関する設定  \n",
    "\n",
    "手順４～６のうちいくつかは必要に応じて設定する項目である。  \n"
   ]
  },
  {
   "cell_type": "markdown",
   "metadata": {},
   "source": [
    "#### 計算刻みdtの設定  \n",
    "数値解析における微小時間変化dtを以下にて設定する。"
   ]
  },
  {
   "cell_type": "code",
   "execution_count": null,
   "metadata": {},
   "outputs": [],
   "source": [
    "dt = 2.0"
   ]
  },
  {
   "cell_type": "markdown",
   "metadata": {},
   "source": [
    "#### 初期時刻の設定  \n",
    "計算回数を設定するため初期時刻を以下のように設定する。  \n",
    "詳細はtimer.ipynbを参照のこと。  \n",
    "※時刻に関しては設定しなくても問題は無い。"
   ]
  },
  {
   "cell_type": "code",
   "execution_count": null,
   "metadata": {},
   "outputs": [],
   "source": [
    "date = construct_Calendar( \n",
    "    year  = 2004, \n",
    "    month = 8, \n",
    "    day   = 1, \n",
    "    hour  = 0, \n",
    "    min   = 0, \n",
    "    sec   = 0 ) "
   ]
  },
  {
   "cell_type": "markdown",
   "metadata": {},
   "source": [
    "#### 終了時刻の設定  \n",
    "同様に終了時刻も設定しておく。"
   ]
  },
  {
   "cell_type": "code",
   "execution_count": null,
   "metadata": {},
   "outputs": [],
   "source": [
    "end_date = construct_Calendar( \n",
    "    year  = 2005,\n",
    "    month = 1, \n",
    "    day   = 1, \n",
    "    hour  = 0, \n",
    "    min   = 0, \n",
    "    sec   = 0 ) "
   ]
  },
  {
   "cell_type": "markdown",
   "metadata": {
    "tags": []
   },
   "source": [
    "## 手順５：気象条件に関する設定  \n",
    "気象条件の読み込みはJuliaの標準パッケージであるDataFramesおよびCSVを用いて行う。  \n",
    "必要なデータが入っているディレクトリおよびファイル名を指定してデータを読み込む。  \n",
    "(以下の例では「input_data」フォルダ内の「climate_data_miyama_doma.csv」)　　\n",
    "※1 読み込めるのはcsvファイルだけであるためExcelファイルは読み込めない。\n",
    "\n",
    "※2 入力される温度・相対湿度は「℃」セルシウス度、「％」相対湿度を想定している。  \n",
    "温度をケルビンあるいは相対湿度を無次元「－」で利用する場合は要注意"
   ]
  },
  {
   "cell_type": "markdown",
   "metadata": {},
   "source": [
    "## 室内側環境条件"
   ]
  },
  {
   "cell_type": "code",
   "execution_count": null,
   "metadata": {},
   "outputs": [],
   "source": [
    "climate_data_in  = input_climate_data(\n",
    "    file_name = \"./input_data/climate_data_nijo_otsune.csv\", \n",
    "    header = 1 );"
   ]
  },
  {
   "cell_type": "code",
   "execution_count": null,
   "metadata": {},
   "outputs": [],
   "source": [
    "# ロギングインターバルの確認\n",
    "log_int_in = cal_logging_interval_min( climate_data_in )"
   ]
  },
  {
   "cell_type": "markdown",
   "metadata": {},
   "source": [
    "### 外気側環境条件"
   ]
  },
  {
   "cell_type": "code",
   "execution_count": null,
   "metadata": {},
   "outputs": [],
   "source": [
    "climate_data_out = input_climate_data( \n",
    "    file_name = \"./input_data/climate_data_nijo_otsune.csv\", \n",
    "    header = 1);"
   ]
  },
  {
   "cell_type": "code",
   "execution_count": null,
   "metadata": {},
   "outputs": [],
   "source": [
    "# ロギングインターバルの確認\n",
    "log_int_out = cal_logging_interval_min( climate_data_out )\n",
    "# 入力する環境データのロギングインターバルが違う場合後々設定する必要がある。"
   ]
  },
  {
   "cell_type": "markdown",
   "metadata": {
    "tags": []
   },
   "source": [
    "## 手順６：計算結果の保存"
   ]
  },
  {
   "cell_type": "markdown",
   "metadata": {
    "jp-MarkdownHeadingCollapsed": true,
    "tags": []
   },
   "source": [
    "まずはじめに計算開始前に計算結果を出力するファイルをオープンする。  \n",
    "ファイルのオープンはopen関数を用いる。  \n",
    "\n",
    "opne(file名, mode)  \n",
    "なおmodeには以下の種類がある。\n",
    "\n",
    "- r：読込みモード\n",
    "- w：書込みモード(ファイルが存在する場合は上書き)\n",
    "- a：追記モード\n",
    "- r+：読込みと書込みどちらも可能なモード(ファイルが存在しない場合はエラー)\n",
    "- w+：読込みと書込みどちらも可能なモード(ファイルが存在しない場合は新規作成)\n",
    "- +：読込みと追記のどちらも可能なモード\n",
    "\n",
    "※モード指定しない場合、デフォルトでは\"r\"(読込みモード)となる。  "
   ]
  },
  {
   "cell_type": "markdown",
   "metadata": {},
   "source": [
    "## 6.1 計算結果の出力先ファイルのオープン"
   ]
  },
  {
   "cell_type": "code",
   "execution_count": null,
   "metadata": {},
   "outputs": [],
   "source": [
    "result_wall_temp = open(\"./output_data/result_wall_mud_temp.csv\", \"w\")\n",
    "result_wall_rh = open(\"./output_data/result_wall_mud_rh.csv\", \"w\")\n",
    "result_wall_pv = open(\"./output_data/result_wall_mud_pv.csv\", \"w\")"
   ]
  },
  {
   "cell_type": "markdown",
   "metadata": {},
   "source": [
    "## 6.2 ヘッダーの書き込み"
   ]
  },
  {
   "cell_type": "code",
   "execution_count": null,
   "metadata": {},
   "outputs": [],
   "source": [
    "function write_header( file_name )\n",
    "    print(file_name, \"time\", \",\" )\n",
    "    print(file_name, \"indoor\", \",\" )\n",
    "    for j = 1 : length(wall)\n",
    "        print(file_name, \"wall[\" * string(j) * \"]\", \",\" )\n",
    "    end\n",
    "    print(file_name, \"outdoor\", \",\" )\n",
    "    println(file_name)\n",
    "end"
   ]
  },
  {
   "cell_type": "code",
   "execution_count": null,
   "metadata": {},
   "outputs": [],
   "source": [
    "write_header(result_wall_temp);\n",
    "write_header(result_wall_rh);\n",
    "write_header(result_wall_pv);"
   ]
  },
  {
   "cell_type": "markdown",
   "metadata": {},
   "source": [
    "## 6.3 値（初期値）の書き込み"
   ]
  },
  {
   "cell_type": "markdown",
   "metadata": {},
   "source": [
    "#### 温度の出力"
   ]
  },
  {
   "cell_type": "code",
   "execution_count": null,
   "metadata": {},
   "outputs": [],
   "source": [
    "#function write_value(file_name::string, air_in::Air, wall::Array{Cell, 1}, air_out::Air)\n",
    "function write_value_temp(file_name, air_in, wall, air_out)\n",
    "    print(file_name, string(date.year) * \"/\" * string(date.month) * \"/\" * string(date.day) * \" \" * string(date.hour) * \":\" * string(date.min) * \":\" * string(date.sec), \",\" )\n",
    "    print(file_name, air_in.temp - 273.15, \",\" )\n",
    "    for j = 1 : length(wall)\n",
    "        print(file_name, wall[j].temp - 273.15, \",\" )\n",
    "    end\n",
    "    print(file_name, air_out.temp - 273.15, \",\" )\n",
    "    println(file_name)\n",
    "end"
   ]
  },
  {
   "cell_type": "code",
   "execution_count": null,
   "metadata": {},
   "outputs": [],
   "source": [
    "write_value_temp(result_wall_temp, air_in, wall, air_out)"
   ]
  },
  {
   "cell_type": "markdown",
   "metadata": {},
   "source": [
    "#### 相対湿度の出力"
   ]
  },
  {
   "cell_type": "code",
   "execution_count": null,
   "metadata": {},
   "outputs": [],
   "source": [
    "function write_value_rh(file_name, air_in, wall, air_out)\n",
    "    print(file_name, string(date.year) * \"/\" * string(date.month) * \"/\" * string(date.day) * \" \" * string(date.hour) * \":\" * string(date.min) * \":\" * string(date.sec), \",\" )\n",
    "    print(file_name, air_in.rh, \",\" )\n",
    "    for j = 1 : length(wall)\n",
    "        print(file_name, Porous_material_based_miu.rh(wall[j]), \",\" )\n",
    "    end\n",
    "    print(file_name, air_out.rh, \",\" )\n",
    "    println(file_name)\n",
    "end"
   ]
  },
  {
   "cell_type": "code",
   "execution_count": null,
   "metadata": {},
   "outputs": [],
   "source": [
    "write_value_rh(result_wall_rh, air_in, wall, air_out)"
   ]
  },
  {
   "cell_type": "markdown",
   "metadata": {},
   "source": [
    "#### 水蒸気圧の出力"
   ]
  },
  {
   "cell_type": "code",
   "execution_count": null,
   "metadata": {},
   "outputs": [],
   "source": [
    "function write_value_pv(file_name, air_in, wall, air_out)\n",
    "    print(file_name, string(date.year) * \"/\" * string(date.month) * \"/\" * string(date.day) * \" \" * string(date.hour) * \":\" * string(date.min) * \":\" * string(date.sec), \",\" )\n",
    "    print(file_name, Air_based_RH.pv(air_in), \",\" )\n",
    "    for j = 1 : length(wall)\n",
    "        print(file_name, Porous_material_based_miu.pv(wall[j]), \",\" )\n",
    "    end\n",
    "    print(file_name, Air_based_RH.pv(air_in), \",\" )\n",
    "    println(file_name)\n",
    "end"
   ]
  },
  {
   "cell_type": "code",
   "execution_count": null,
   "metadata": {},
   "outputs": [],
   "source": [
    "write_value_pv(result_wall_pv, air_in, wall, air_out)"
   ]
  },
  {
   "cell_type": "markdown",
   "metadata": {
    "tags": []
   },
   "source": [
    "## 手順７：繰り返し（ループ）計算  \n",
    "\n",
    "ループ計算は手順４で設定した終了時刻まで計算を行うようなプログラムである。  \n",
    "なお、計算開始から終了まで時間がかかる時はデータを全てロギングするとデータ量が膨大となるため、ある程度期間を指定したほうが良い。  \n",
    "（例えば下記の「#５：データのロギング」にて、if date.year == end_data.year のように条件づけるなど）"
   ]
  },
  {
   "cell_type": "code",
   "execution_count": null,
   "metadata": {
    "tags": []
   },
   "outputs": [],
   "source": [
    "# 計算回数の設定\n",
    "while date.year ≠ end_date.year || date.month ≠ end_date.month || date.day ≠ end_date.day || date.hour ≠ end_date.hour || date.min ≠ end_date.min\n",
    "#while date.year ≠ end_date.year || date.month ≠ 2 || date.day ≠ end_date.day || date.hour ≠ end_date.hour || date.min ≠ end_date.min\n",
    "    \n",
    "    # １：環境データの入力\n",
    "    #temp_in, pv_in, rh_in = cal_temp_rh_pv_by_climate_data( climate_data_in, date, log_int_in ) # 最後の引数はロギング間隔\n",
    "    #temp_out, pv_out, rh_out = cal_temp_rh_pv_by_climate_data( climate_data_in, date, log_int_out ) # 最後の引数はロギング間隔\n",
    "    #air_in.temp  = temp_in + 273.15\n",
    "    #air_in.rh    = rh_in\n",
    "    #air_out.temp = temp_out + 273.15\n",
    "    #air_out.rh   = rh_out\n",
    "    \n",
    "    # ２：新値の計算\n",
    "    ntemp, nmiu = cal_new_temp_miu_neumann( wall, air_in, air_out, dt )\n",
    "    \n",
    "    # ３：値の上書き\n",
    "    for i = 1:length(wall)\n",
    "        wall[i].temp = ntemp[i]\n",
    "        wall[i].miu  = nmiu[i]\n",
    "    end\n",
    "    \n",
    "    # 計算時刻の表示\n",
    "    # 日本語は避けた方が無難\n",
    "    if date.hour == 0 && date.min == 0 && date.sec == 0 && date.dec == 0;\n",
    "        println(string(date.year)*\"年\"*string(date.month)*\"月\"*string(date.day)*\"日 \"*string(date.hour)*\"時\"*string(date.min)*\"分\"*string(date.sec)*\"秒\" * \n",
    "            \" 外気：温度\" *  string( round(air_out.temp -273.15, digits = 1 ) ) * \"[℃]\" * \" 湿度\" * string( round( air_out.rh, digits = 2 ) ) * \"[-]\" )\n",
    "    end\n",
    "        \n",
    "    # ４：時間経過の計算\n",
    "    date = cal_time_after_dt( date = date, dt = dt )\n",
    "    \n",
    "    # ５：データのロギング  \n",
    "    if mod(date.min, 10) == 0 && date.sec == 0 && date.dec == 0\n",
    "        # 温度・相対湿度・水蒸気圧\n",
    "        write_value_temp(result_wall_temp, air_in, wall, air_out)\n",
    "        write_value_rh(result_wall_rh, air_in, wall, air_out)\n",
    "        write_value_pv(result_wall_pv, air_in, wall, air_out)\n",
    "    end\n",
    "    \n",
    "end"
   ]
  },
  {
   "cell_type": "code",
   "execution_count": null,
   "metadata": {},
   "outputs": [],
   "source": [
    "close(result_wall_temp)\n",
    "close(result_wall_rh)\n",
    "close(result_wall_pv)"
   ]
  },
  {
   "cell_type": "code",
   "execution_count": null,
   "metadata": {},
   "outputs": [],
   "source": [
    "date"
   ]
  },
  {
   "cell_type": "code",
   "execution_count": null,
   "metadata": {},
   "outputs": [],
   "source": []
  },
  {
   "cell_type": "code",
   "execution_count": null,
   "metadata": {},
   "outputs": [],
   "source": []
  }
 ],
 "metadata": {
  "kernelspec": {
   "display_name": "Julia 1.7.3",
   "language": "julia",
   "name": "julia-1.7"
  },
  "language_info": {
   "file_extension": ".jl",
   "mimetype": "application/julia",
   "name": "julia",
   "version": "1.7.3"
  }
 },
 "nbformat": 4,
 "nbformat_minor": 4
}
