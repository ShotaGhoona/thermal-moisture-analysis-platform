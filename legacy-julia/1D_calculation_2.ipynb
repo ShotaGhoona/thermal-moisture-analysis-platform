{
 "cells": [
  {
   "attachments": {},
   "cell_type": "markdown",
   "metadata": {},
   "source": [
    "</br>\n",
    "\n",
    "# Sampleプログラム：1次元水平壁内熱水分同時移動解析  \n",
    "version 2.0 1次元熱水分同時移動計算を行う"
   ]
  },
  {
   "attachments": {},
   "cell_type": "markdown",
   "metadata": {},
   "source": [
    "※2021/01/12 加筆・修正  \n",
    "初めて本プログラムを使う際は以下のセルをMarkdownからCodeに変更し、CSVおよびDataFramesパッケージをインストールすること"
   ]
  },
  {
   "attachments": {},
   "cell_type": "markdown",
   "metadata": {},
   "source": [
    "using Pkg\n",
    "Pkg.add(\"CSV\")\n",
    "Pkg.add(\"DataFrames\")"
   ]
  },
  {
   "attachments": {},
   "cell_type": "markdown",
   "metadata": {
    "tags": []
   },
   "source": [
    "## 手順0：計算に必要なモジュールを読み込む  "
   ]
  },
  {
   "cell_type": "code",
   "execution_count": 2,
   "metadata": {},
   "outputs": [
    {
     "name": "stderr",
     "output_type": "stream",
     "text": [
      "WARNING: replacing module property_conversion.\n",
      "WARNING: replacing module water_property.\n",
      "WARNING: replacing module Lewis_relation.\n",
      "WARNING: replacing module Lewis_relation.\n",
      "WARNING: replacing module property_conversion.\n",
      "WARNING: replacing module water_property.\n",
      "WARNING: replacing module Lewis_relation.\n"
     ]
    },
    {
     "ename": "LoadError",
     "evalue": "LoadError: UndefVarError: `Climate` not defined in `Main`\nSuggestion: check for spelling errors or missing imports.\nin expression starting at /Users/yamashitashota/Doc/ghoona/uni/thermal-analysis/legacy-julia/module/boundary_condition.jl:132",
     "output_type": "error",
     "traceback": [
      "LoadError: UndefVarError: `Climate` not defined in `Main`\n",
      "Suggestion: check for spelling errors or missing imports.\n",
      "in expression starting at /Users/yamashitashota/Doc/ghoona/uni/thermal-analysis/legacy-julia/module/boundary_condition.jl:132\n",
      "\n",
      "Stacktrace:\n",
      " [1] top-level scope\n",
      "   @ ~/Doc/ghoona/uni/thermal-analysis/legacy-julia/module/boundary_condition.jl:132"
     ]
    }
   ],
   "source": [
    "using Dates # 解析内時間を計算するためのモジュール\n",
    "include(\"./module/cell.jl\"); # 多孔質材料の構成要素を表すモジュール\n",
    "include(\"./module/air.jl\");  # 空間の構成要素を表すモジュール\n",
    "include(\"./module/boundary_condition.jl\"); # 境界条件を表すモジュール\n",
    "include(\"./module/transfer_in_media.jl\"); # 材料中における熱・水分の移動を表すモジュール\n",
    "include(\"./module/climate.jl\"); # 気象データを取り扱うモジュール\n",
    "include(\"./logger.jl\"); # 計算結果を保存するモジュール"
   ]
  },
  {
   "attachments": {},
   "cell_type": "markdown",
   "metadata": {
    "tags": []
   },
   "source": [
    "## 手順１：解析対象モデルの構築"
   ]
  },
  {
   "attachments": {},
   "cell_type": "markdown",
   "metadata": {},
   "source": [
    "### 1.1 壁の構築\n",
    "Cell構造体から構成される配列であるwall（壁）を作成する。  \n",
    "Cell構造体は空間情報、熱力学的状態量、材料名称の主に3つを有し、これらの情報から各物性値を求めることができる。  \n",
    "Cell構造体の詳細はcell.ipynbのファイルを確認すること。  \n",
    "wallの作成方法は、主に下記の3つがある。  \n",
    "1. 手動で壁の各コントールボリュームの幅、温度、相対湿度、材料名を記述する方法\n",
    "2. 壁の幅と分割数、初期の温度、相対湿度、材料名を記入し、コントロールボリュームを自動で作成する方法\n",
    "3. ./input_data/wall_data内に格納されたcsvファイルから各コントロールボリュームの情報を読み込む方法\n",
    "\n",
    "ここでは最も一般的な1.の方法でwallを作成する。"
   ]
  },
  {
   "cell_type": "code",
   "execution_count": 3,
   "metadata": {},
   "outputs": [],
   "source": [
    "# L個のCell構造体から構成されるwallを作成\n",
    "L = 6\n",
    "width = 0.005\n",
    "wall = [ Cell() for i = 1 : L ];"
   ]
  },
  {
   "cell_type": "code",
   "execution_count": 4,
   "metadata": {},
   "outputs": [],
   "source": [
    "# 各CVの情報を入力する。なお、i,dx,dx2,temp,miu（水分化学ポテンシャル）,material_nameは入力必須項目である。\n",
    "for i = 1 : L\n",
    "    wall[i].i = [ i, 1, 1 ]\n",
    "    if i == 1 || i == L     wall[i].dx  = ( width / ( L - 1 ) / 2 )\n",
    "    else                    wall[i].dx = width / ( L - 1 ) end\n",
    "    if i == 1               wall[i].dx2 = 0.0\n",
    "    elseif i == L           wall[i].dx2 = wall[i].dx2\n",
    "    else                    wall[i].dx2 = wall[i].dx / 2 end\n",
    "    wall[i].temp = 10.0 + 273.15\n",
    "    wall[i].rh = 0.6\n",
    "    wall[i].miu = convertRH2Miu( temp = wall[i].temp, rh = wall[i].rh )\n",
    "    wall[i].material_name = \"mud_wall\"\n",
    "end"
   ]
  },
  {
   "attachments": {},
   "cell_type": "markdown",
   "metadata": {},
   "source": [
    "### 1.2 境界条件と空間の構成要素の設定\n",
    "\n",
    "Air構造体を作成する。  \n",
    "Air構造体は空間情報（体積）、熱力学的状態量、伝達係数の主に3つを有する。  \n",
    "Air構造体の詳細はair.ipynbのファイルを確認すること。  \n",
    "Air構造体は手動で情報を入力する必要があり、\n",
    "\n",
    "壁は表面（配列の1側）、裏面（配列のend側）ともに空気に接するものとする。  \n",
    "このとき、表面側を室内側、裏面側を外気とし以下のように設定する。  \n",
    "\n",
    "- air_in （室内側空気）：対流熱伝達率4.9\n",
    "- air_out（外気側空気）：対流熱伝達率18.6  \n",
    "\n",
    "なお、初期の温度、相対湿度に関しては測定した気象データを用いるため適当な値とした。"
   ]
  },
  {
   "cell_type": "code",
   "execution_count": 5,
   "metadata": {},
   "outputs": [
    {
     "data": {
      "text/plain": [
       "2.8834097223745298e-8"
      ]
     },
     "metadata": {},
     "output_type": "display_data"
    }
   ],
   "source": [
    "air_in = BC_Robin()\n",
    "air_in.air.name = \"indoor\"      # 名称\n",
    "air_in.air.temp = 10.0 + 273.15 # 温度\n",
    "air_in.air.rh   = 0.7           # 相対湿度\n",
    "air_in.alphac = 4.9             # 対流熱伝達率\n",
    "air_in.alphar = 4.4             # 放射熱伝達率\n",
    "air_in.alpha  = air_in.alphac + air_in.alphar   # 総合熱伝達率\n",
    "air_in.aldm   = aldm_by_alphac(air_in)          # 湿気伝達率（ルイス関係より算出）"
   ]
  },
  {
   "cell_type": "code",
   "execution_count": 6,
   "metadata": {},
   "outputs": [
    {
     "data": {
      "text/plain": [
       "2.8834097223745298e-8"
      ]
     },
     "metadata": {},
     "output_type": "display_data"
    }
   ],
   "source": [
    "air_out = BC_Robin()\n",
    "air_out.air.name = \"outdoor\"     # 名称\n",
    "air_out.air.temp = 20.0 + 273.15 # 温度\n",
    "air_out.air.rh   = 0.6           # 相対湿度\n",
    "air_out.alphac = 4.9             # 対流熱伝達率\n",
    "air_out.alphar = 4.4             # 放射熱伝達率\n",
    "air_out.alpha  = air_in.alphac + air_in.alphar   # 総合熱伝達率\n",
    "air_out.aldm   = aldm_by_alphac(air_in)          # 湿気伝達率（ルイス関係より算出）"
   ]
  },
  {
   "cell_type": "markdown",
   "metadata": {},
   "source": [
    "### 1.3 解析対象モデルの作成（壁と境界条件の結合）\n",
    "1.1および1.2にて作成した壁および境界条件を結合し、解析対象モデルとする。"
   ]
  },
  {
   "cell_type": "code",
   "execution_count": 7,
   "metadata": {},
   "outputs": [
    {
     "data": {
      "text/plain": [
       "8-element Vector{Any}:\n",
       " BC_Robin(\"NoName\", Air(0, \"indoor\", 0.0, 0.0, 0.0, 0.0, 283.15, 0.7, 0.0, 0.0, 101325.0, 0.0, 0.0, 0.0, 0.0, 0.0, 0.0, 0.0, 0.0, 0.0), Cell([1, 1, 1], [0.0, 0.0, 0.0], 1.0, 1.0, 1.0, 1.0, 1.0, 1.0, 0.0, 0.0, 0.0, 0.0, 0.0, 101325.0, \"NoName\", [[0.0, 0.0, 0.0], [0.0, 0.0, 0.0]], [[0.0, 0.0, 0.0], [0.0, 0.0, 0.0]], [[0.0, 0.0, 0.0], [0.0, 0.0, 0.0]]), 0.0, 0.0, 0.0, 0.0, 9.3, 4.9, 4.4, 2.8834097223745298e-8, Dict(\"LATIl\" => 360.0, \"e\" => 0.0, \"ALTIs\" => -180.0, \"LATIs\" => -180.0, \"a\" => 0.0, \"ALTIl\" => 360.0), 0.0, 0.0)\n",
       " Cell([1, 1, 1], [0.0, 0.0, 0.0], 0.0005, 1.0, 1.0, 0.0, 1.0, 1.0, 283.15, -66807.7360789275, 0.6, 0.0, 0.0, 101325.0, \"mud_wall\", [[0.0, 0.0, 0.0], [0.0, 0.0, 0.0]], [[0.0, 0.0, 0.0], [0.0, 0.0, 0.0]], [[0.0, 0.0, 0.0], [0.0, 0.0, 0.0]])\n",
       " Cell([2, 1, 1], [0.0, 0.0, 0.0], 0.001, 1.0, 1.0, 0.0005, 1.0, 1.0, 283.15, -66807.7360789275, 0.6, 0.0, 0.0, 101325.0, \"mud_wall\", [[0.0, 0.0, 0.0], [0.0, 0.0, 0.0]], [[0.0, 0.0, 0.0], [0.0, 0.0, 0.0]], [[0.0, 0.0, 0.0], [0.0, 0.0, 0.0]])\n",
       " Cell([3, 1, 1], [0.0, 0.0, 0.0], 0.001, 1.0, 1.0, 0.0005, 1.0, 1.0, 283.15, -66807.7360789275, 0.6, 0.0, 0.0, 101325.0, \"mud_wall\", [[0.0, 0.0, 0.0], [0.0, 0.0, 0.0]], [[0.0, 0.0, 0.0], [0.0, 0.0, 0.0]], [[0.0, 0.0, 0.0], [0.0, 0.0, 0.0]])\n",
       " Cell([4, 1, 1], [0.0, 0.0, 0.0], 0.001, 1.0, 1.0, 0.0005, 1.0, 1.0, 283.15, -66807.7360789275, 0.6, 0.0, 0.0, 101325.0, \"mud_wall\", [[0.0, 0.0, 0.0], [0.0, 0.0, 0.0]], [[0.0, 0.0, 0.0], [0.0, 0.0, 0.0]], [[0.0, 0.0, 0.0], [0.0, 0.0, 0.0]])\n",
       " Cell([5, 1, 1], [0.0, 0.0, 0.0], 0.001, 1.0, 1.0, 0.0005, 1.0, 1.0, 283.15, -66807.7360789275, 0.6, 0.0, 0.0, 101325.0, \"mud_wall\", [[0.0, 0.0, 0.0], [0.0, 0.0, 0.0]], [[0.0, 0.0, 0.0], [0.0, 0.0, 0.0]], [[0.0, 0.0, 0.0], [0.0, 0.0, 0.0]])\n",
       " Cell([6, 1, 1], [0.0, 0.0, 0.0], 0.0005, 1.0, 1.0, 1.0, 1.0, 1.0, 283.15, -66807.7360789275, 0.6, 0.0, 0.0, 101325.0, \"mud_wall\", [[0.0, 0.0, 0.0], [0.0, 0.0, 0.0]], [[0.0, 0.0, 0.0], [0.0, 0.0, 0.0]], [[0.0, 0.0, 0.0], [0.0, 0.0, 0.0]])\n",
       " BC_Robin(\"NoName\", Air(0, \"outdoor\", 0.0, 0.0, 0.0, 0.0, 293.15, 0.6, 0.0, 0.0, 101325.0, 0.0, 0.0, 0.0, 0.0, 0.0, 0.0, 0.0, 0.0, 0.0), Cell([1, 1, 1], [0.0, 0.0, 0.0], 1.0, 1.0, 1.0, 1.0, 1.0, 1.0, 0.0, 0.0, 0.0, 0.0, 0.0, 101325.0, \"NoName\", [[0.0, 0.0, 0.0], [0.0, 0.0, 0.0]], [[0.0, 0.0, 0.0], [0.0, 0.0, 0.0]], [[0.0, 0.0, 0.0], [0.0, 0.0, 0.0]]), 0.0, 0.0, 0.0, 0.0, 9.3, 4.9, 4.4, 2.8834097223745298e-8, Dict(\"LATIl\" => 360.0, \"e\" => 0.0, \"ALTIs\" => -180.0, \"LATIs\" => -180.0, \"a\" => 0.0, \"ALTIl\" => 360.0), 0.0, 0.0)"
      ]
     },
     "metadata": {},
     "output_type": "display_data"
    }
   ],
   "source": [
    "target_model = vcat(air_in, wall, air_out)"
   ]
  },
  {
   "attachments": {},
   "cell_type": "markdown",
   "metadata": {
    "tags": []
   },
   "source": [
    "## 手順２：流量計算式および収支式を構築する"
   ]
  },
  {
   "attachments": {},
   "cell_type": "markdown",
   "metadata": {},
   "source": [
    "流量計算式および収支計算式は一般的な第三種境界条件とする。  \n",
    "日射や降雨等を考慮せず、水平な壁の場合は以下のような式となる。 \n",
    "この部分は必要な計算に応じて適宜修正すること。"
   ]
  },
  {
   "cell_type": "code",
   "execution_count": 8,
   "metadata": {},
   "outputs": [
    {
     "data": {
      "text/plain": [
       "cal_new_temp_miu_neumann (generic function with 1 method)"
      ]
     },
     "metadata": {},
     "output_type": "display_data"
    }
   ],
   "source": [
    "function cal_new_temp_miu_neumann( target_model, dt )\n",
    "    ###################################\n",
    "    # 壁体内部の流量計算\n",
    "    q =  [ cal_q( target_model[i], target_model[i+1] ) for i = 1:length(target_model)-1 ]\n",
    "    jv = [ cal_jv( target_model[i], target_model[i+1] ) for i = 1:length(target_model)-1 ]\n",
    "    jl = [ cal_jl( target_model[i], target_model[i+1], 0.0 ) for i = 1:length(target_model)-1 ]\n",
    "\n",
    "    ###################################\n",
    "    # 熱・水分の収支計算\n",
    "    ntemp = [ cal_newtemp( target_model[i+1], q[i] - q[i+1], - ( jv[i] - jv[i+1] ), dt ) for i = 1:length(target_model)-2 ]\n",
    "    nmiu  = [ cal_newmiu(  target_model[i+1], jv[i] - jv[i+1], jl[i] - jl[i+1], dt ) for i = 1:length(target_model)-2 ]    \n",
    "    \n",
    "    return ntemp, nmiu\n",
    "end"
   ]
  },
  {
   "attachments": {},
   "cell_type": "markdown",
   "metadata": {
    "tags": []
   },
   "source": [
    "## 手順３：計算条件に関する設定  \n"
   ]
  },
  {
   "attachments": {},
   "cell_type": "markdown",
   "metadata": {},
   "source": [
    "計算条件として、主に下記の設定を行う。\n",
    "- dt : 計算の時間刻み \n",
    "- date : 計算開始時刻\n",
    "- end_date : 計算終了時刻  \n",
    "\n",
    "なお、dtは実数（小数点以下も可）、dateはJuliaのDateTimeを使って設定すること。"
   ]
  },
  {
   "cell_type": "code",
   "execution_count": 9,
   "metadata": {},
   "outputs": [
    {
     "data": {
      "text/plain": [
       "2012-04-08T00:00:00"
      ]
     },
     "metadata": {},
     "output_type": "display_data"
    }
   ],
   "source": [
    "# 計算の時間刻み\n",
    "dt = 2.0\n",
    "\n",
    "# 計算開始時刻\n",
    "date = DateTime(2012,4,1,0,0,0)\n",
    "\n",
    "# 計算終了時刻\n",
    "end_date = DateTime(2012,4,8,00,00,00)"
   ]
  },
  {
   "attachments": {},
   "cell_type": "markdown",
   "metadata": {
    "tags": []
   },
   "source": [
    "## 手順４：外界気象条件に関する設定  \n",
    "\n",
    "外界気象の扱い方の詳細はclimate.ipynbに示してあるため、詳細はそちらを参照のこと。\n",
    "\n",
    "読み込み方は、関数input_climate_data()を用い、input_data/climate_data内にある気象データ（CSV形式）のディレクトリを指定する。  \n",
    "ヘッダー位置（header）はデフォルトで3行目としてあるため、変更が必要な場合記載すること。 \n",
    "読み込んだ気象データはClimate型として保存される。  \n",
    "\n",
    "※1 読み込めるのはcsvファイルだけであるためExcelファイルは読み込めない。  \n",
    "※2 入力される温度・相対湿度は「℃」セルシウス度、「％」の単位を想定している。  \n",
    "温度をケルビンあるいは相対湿度を無次元「－」で利用する場合は要注意のこと。"
   ]
  },
  {
   "cell_type": "markdown",
   "metadata": {},
   "source": [
    "### 室内側環境条件の読み込み"
   ]
  },
  {
   "cell_type": "code",
   "execution_count": 10,
   "metadata": {},
   "outputs": [
    {
     "ename": "UndefVarError",
     "evalue": "UndefVarError: `input_climate_data` not defined in `Main`\nSuggestion: check for spelling errors or missing imports.",
     "output_type": "error",
     "traceback": [
      "UndefVarError: `input_climate_data` not defined in `Main`\n",
      "Suggestion: check for spelling errors or missing imports.\n",
      "\n",
      "Stacktrace:\n",
      " [1] top-level scope\n",
      "   @ ~/Doc/ghoona/uni/thermal-analysis/legacy-julia/jl_notebook_cell_df34fa98e69747e1a8f8a730347b8e2f_X31sZmlsZQ==.jl:1"
     ]
    }
   ],
   "source": [
    "climate_data_in  = input_climate_data(\n",
    "    file_name = \"./input_data/climate_data/sample_climate_data.csv\", \n",
    "    header = 3 );\n",
    "\n",
    "climate_data_in.air = air_in.air\n",
    "\n",
    "# ロギングインターバルの確認\n",
    "climate_data_in.logging_interval"
   ]
  },
  {
   "attachments": {},
   "cell_type": "markdown",
   "metadata": {},
   "source": [
    "### 外気側環境条件の読み込み"
   ]
  },
  {
   "cell_type": "code",
   "execution_count": 11,
   "metadata": {},
   "outputs": [
    {
     "ename": "UndefVarError",
     "evalue": "UndefVarError: `input_climate_data` not defined in `Main`\nSuggestion: check for spelling errors or missing imports.",
     "output_type": "error",
     "traceback": [
      "UndefVarError: `input_climate_data` not defined in `Main`\n",
      "Suggestion: check for spelling errors or missing imports.\n",
      "\n",
      "Stacktrace:\n",
      " [1] top-level scope\n",
      "   @ ~/Doc/ghoona/uni/thermal-analysis/legacy-julia/jl_notebook_cell_df34fa98e69747e1a8f8a730347b8e2f_X33sZmlsZQ==.jl:1"
     ]
    }
   ],
   "source": [
    "climate_data_out = input_climate_data( \n",
    "    file_name = \"./input_data/climate_data/sample_climate_data.csv\", \n",
    "    header = 3);\n",
    "\n",
    "climate_data_out.air = air_out.air\n",
    "\n",
    "# ロギングインターバルの確認\n",
    "climate_data_out.logging_interval"
   ]
  },
  {
   "attachments": {},
   "cell_type": "markdown",
   "metadata": {
    "tags": []
   },
   "source": [
    "## 手順５：計算結果の保存"
   ]
  },
  {
   "cell_type": "markdown",
   "metadata": {},
   "source": [
    "計算結果の保存方法はlogger.ipynbファイルに記載してある。  \n",
    "\n",
    "基本的な手順としては、open関数を用いて計算結果を保存するファイルを開き、print関数を用いて計算結果をファイルに書き込むという手順である。  "
   ]
  },
  {
   "cell_type": "code",
   "execution_count": 12,
   "metadata": {},
   "outputs": [
    {
     "ename": "UndefVarError",
     "evalue": "UndefVarError: `set_logger` not defined in `Main`\nSuggestion: check for spelling errors or missing imports.",
     "output_type": "error",
     "traceback": [
      "UndefVarError: `set_logger` not defined in `Main`\n",
      "Suggestion: check for spelling errors or missing imports.\n",
      "\n",
      "Stacktrace:\n",
      " [1] top-level scope\n",
      "   @ ~/Doc/ghoona/uni/thermal-analysis/legacy-julia/jl_notebook_cell_df34fa98e69747e1a8f8a730347b8e2f_X36sZmlsZQ==.jl:2"
     ]
    }
   ],
   "source": [
    "# ロガーの設定\n",
    "logger_room = set_logger( \"result_sample\", 10.0, [\"temp\",\"rh\",\"ah\"], target_model )\n",
    "\n",
    "# ヘッダーの書き込み\n",
    "write_header_to_logger( logger_room )\n",
    "\n",
    "# 初期値の書き込み\n",
    "write_data_to_logger( logger_room, date )"
   ]
  },
  {
   "attachments": {},
   "cell_type": "markdown",
   "metadata": {
    "tags": []
   },
   "source": [
    "## 手順６：繰り返し（ループ）計算  \n",
    "\n",
    "ループ計算は手順３で設定した終了時刻まで計算を行うようなプログラムである。  "
   ]
  },
  {
   "cell_type": "code",
   "execution_count": 13,
   "metadata": {
    "tags": []
   },
   "outputs": [
    {
     "ename": "UndefVarError",
     "evalue": "UndefVarError: `reset_climate_data` not defined in `Main`\nSuggestion: check for spelling errors or missing imports.",
     "output_type": "error",
     "traceback": [
      "UndefVarError: `reset_climate_data` not defined in `Main`\n",
      "Suggestion: check for spelling errors or missing imports.\n",
      "\n",
      "Stacktrace:\n",
      " [1] top-level scope\n",
      "   @ ~/Doc/ghoona/uni/thermal-analysis/legacy-julia/jl_notebook_cell_df34fa98e69747e1a8f8a730347b8e2f_X41sZmlsZQ==.jl:5"
     ]
    }
   ],
   "source": [
    "# 計算回数の設定\n",
    "while date ≠ end_date\n",
    "    \n",
    "    # １：環境データの更新\n",
    "    reset_climate_data( climate_data_in )\n",
    "    reset_climate_data( climate_data_out )\n",
    "\n",
    "    # ２：新値の計算\n",
    "    ntemp, nmiu = cal_new_temp_miu_neumann( target_model, dt )\n",
    "    \n",
    "    # ３：値の上書き\n",
    "    for i = 1:length(wall)\n",
    "        wall[i].temp = ntemp[i]\n",
    "        wall[i].miu  = nmiu[i]\n",
    "    end\n",
    "    \n",
    "    # 計算時刻の表示\n",
    "    # 日本語は避けた方が無難\n",
    "    if hour(date) == 0 && minute(date) == 0 && second(date) == 0 && millisecond(date) == 0;\n",
    "        println(Dates.format(date, \"yyyy/mm/dd HH:MM\"), \" 外気：温度\" *  string( round(air_out.air.temp -273.15, digits = 1 ) ) * \"[℃]\" * \" 湿度\" * string( round( air_out.air.rh, digits = 2 ) ) * \"[-]\" )\n",
    "    end\n",
    "        \n",
    "    # ４：時間経過の計算\n",
    "    date = date + Millisecond(dt*1000)\n",
    "    climate_data_in.date    = date\n",
    "    climate_data_out.date   = date\n",
    "    # 1秒以下の場合、Millisecondを使う。\n",
    "    \n",
    "    # ５：データのロギング  \n",
    "    if mod(minute(date), 5) == 0 && second(date) == 0 && millisecond(date) == 0\n",
    "        # 温度・相対湿度・水蒸気圧\n",
    "        write_data_to_logger( logger_room, date )\n",
    "    end\n",
    "    \n",
    "end"
   ]
  },
  {
   "cell_type": "code",
   "execution_count": 14,
   "metadata": {},
   "outputs": [
    {
     "ename": "UndefVarError",
     "evalue": "UndefVarError: `logger_room` not defined in `Main`\nSuggestion: check for spelling errors or missing imports.",
     "output_type": "error",
     "traceback": [
      "UndefVarError: `logger_room` not defined in `Main`\n",
      "Suggestion: check for spelling errors or missing imports.\n",
      "\n",
      "Stacktrace:\n",
      " [1] top-level scope\n",
      "   @ ~/Doc/ghoona/uni/thermal-analysis/legacy-julia/jl_notebook_cell_df34fa98e69747e1a8f8a730347b8e2f_X42sZmlsZQ==.jl:1"
     ]
    }
   ],
   "source": [
    "close(logger_room.file)"
   ]
  },
  {
   "cell_type": "code",
   "execution_count": 15,
   "metadata": {},
   "outputs": [
    {
     "data": {
      "text/plain": [
       "2012-04-01T00:00:00"
      ]
     },
     "metadata": {},
     "output_type": "display_data"
    }
   ],
   "source": [
    "date"
   ]
  },
  {
   "cell_type": "code",
   "execution_count": 16,
   "metadata": {},
   "outputs": [],
   "source": []
  }
 ],
 "metadata": {
  "kernelspec": {
   "display_name": "Julia 1.11.5",
   "language": "julia",
   "name": "julia-1.11"
  },
  "language_info": {
   "file_extension": ".jl",
   "mimetype": "application/julia",
   "name": "julia",
   "version": "1.11.5"
  }
 },
 "nbformat": 4,
 "nbformat_minor": 4
}
