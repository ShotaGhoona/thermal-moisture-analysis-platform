{
 "cells": [
  {
   "cell_type": "markdown",
   "metadata": {},
   "source": [
    "</br>\n",
    "\n",
    "# 物性値チェック用のプログラム"
   ]
  },
  {
   "cell_type": "code",
   "execution_count": 1,
   "metadata": {},
   "outputs": [
    {
     "data": {
      "text/plain": [
       "cal_newmols (generic function with 3 methods)"
      ]
     },
     "metadata": {},
     "output_type": "display_data"
    }
   ],
   "source": [
    "using DataFrames\n",
    "using CSV\n",
    "include(\"./module/cell.jl\")"
   ]
  },
  {
   "cell_type": "markdown",
   "metadata": {},
   "source": [
    "物性値の算出条件（温度・水分条件）を決める。"
   ]
  },
  {
   "cell_type": "code",
   "execution_count": 2,
   "metadata": {},
   "outputs": [],
   "source": [
    "itemp = 20.0 + 273.15\n",
    "irh = [ Float64(i/10000.0) for i = 1:9999 ]\n",
    "push!(irh, 0.99999)\n",
    "push!(irh, 0.999999)\n",
    "push!(irh, 0.9999999);"
   ]
  },
  {
   "cell_type": "markdown",
   "metadata": {},
   "source": [
    "出力したい物性値名を書く。"
   ]
  },
  {
   "cell_type": "code",
   "execution_count": 3,
   "metadata": {},
   "outputs": [
    {
     "data": {
      "text/plain": [
       "\"paper\""
      ]
     },
     "metadata": {},
     "output_type": "display_data"
    }
   ],
   "source": [
    "m_name = \"paper\""
   ]
  },
  {
   "cell_type": "markdown",
   "metadata": {},
   "source": [
    "cellクラスを用いて計算する。"
   ]
  },
  {
   "cell_type": "code",
   "execution_count": 4,
   "metadata": {},
   "outputs": [],
   "source": [
    "cells = [ Cell( dx = 1.0, dx2 = 1.0, temp = itemp, miu=convertRH2Miu( temp = itemp, rh = irh[i] ), material_name = m_name ) for i = 1:length(irh) ];"
   ]
  },
  {
   "cell_type": "markdown",
   "metadata": {},
   "source": [
    "配列を作り直す"
   ]
  },
  {
   "cell_type": "code",
   "execution_count": 5,
   "metadata": {},
   "outputs": [
    {
     "data": {
      "text/plain": [
       "\"./output_data/material property/paper.csv\""
      ]
     },
     "metadata": {},
     "output_type": "display_data"
    }
   ],
   "source": [
    "pd = DataFrame( temp = [  temp(cells[i]) - 273.15 for i = 1:length(cells) ] )\n",
    "pd.rh  = [ rh(cells[i]) for i = 1:length(cells) ]\n",
    "pd.miu = [ miu(cells[i]) for i = 1:length(cells) ]\n",
    "pd.pv  = [ pv(cells[i]) for i = 1:length(cells) ]\n",
    "pd.phi = [ phi(cells[i]) for i = 1:length(cells) ]\n",
    "pd.dphi= [ dphi(cells[i]) for i = 1:length(cells) ]\n",
    "pd.crow= [ crow(cells[i]) for i = 1:length(cells) ] \n",
    "pd.lam = [ lam(cells[i]) for i = 1:length(cells) ] \n",
    "pd.dw  = [ dw(cells[i]) for i = 1:length(cells) ] \n",
    "pd.dp  = [ dp(cells[i]) for i = 1:length(cells) ] \n",
    "pd.ldml= [ ldml(cells[i]) for i = 1:length(cells) ] \n",
    "pd.ldmg= [ ldmg(cells[i]) for i = 1:length(cells) ]\n",
    "pd.ldtg= [ ldtg(cells[i]) for i = 1:length(cells) ]\n",
    "CSV.write(\"./output_data/material property/\"*string(m_name)*\".csv\",pd )"
   ]
  },
  {
   "cell_type": "code",
   "execution_count": 6,
   "metadata": {},
   "outputs": [
    {
     "data": {
      "text/html": [
       "<div><div style = \"float: left;\"><span>10002×13 DataFrame</span></div><div style = \"float: right;\"><span style = \"font-style: italic;\">9977 rows omitted</span></div><div style = \"clear: both;\"></div></div><div class = \"data-frame\" style = \"overflow-x: scroll;\"><table class = \"data-frame\" style = \"margin-bottom: 6px;\"><thead><tr class = \"header\"><th class = \"rowNumber\" style = \"font-weight: bold; text-align: right;\">Row</th><th style = \"text-align: left;\">temp</th><th style = \"text-align: left;\">rh</th><th style = \"text-align: left;\">miu</th><th style = \"text-align: left;\">pv</th><th style = \"text-align: left;\">phi</th><th style = \"text-align: left;\">dphi</th><th style = \"text-align: left;\">crow</th><th style = \"text-align: left;\">lam</th><th style = \"text-align: left;\">dw</th><th style = \"text-align: left;\">dp</th><th style = \"text-align: left;\">ldml</th><th style = \"text-align: left;\">ldmg</th><th style = \"text-align: left;\">ldtg</th></tr><tr class = \"subheader headerLastRow\"><th class = \"rowNumber\" style = \"font-weight: bold; text-align: right;\"></th><th title = \"Float64\" style = \"text-align: left;\">Float64</th><th title = \"Float64\" style = \"text-align: left;\">Float64</th><th title = \"Float64\" style = \"text-align: left;\">Float64</th><th title = \"Float64\" style = \"text-align: left;\">Float64</th><th title = \"Float64\" style = \"text-align: left;\">Float64</th><th title = \"Float64\" style = \"text-align: left;\">Float64</th><th title = \"Float64\" style = \"text-align: left;\">Float64</th><th title = \"Float64\" style = \"text-align: left;\">Float64</th><th title = \"Float64\" style = \"text-align: left;\">Float64</th><th title = \"Float64\" style = \"text-align: left;\">Float64</th><th title = \"Float64\" style = \"text-align: left;\">Float64</th><th title = \"Float64\" style = \"text-align: left;\">Float64</th><th title = \"Float64\" style = \"text-align: left;\">Float64</th></tr></thead><tbody><tr><td class = \"rowNumber\" style = \"font-weight: bold; text-align: right;\">1</td><td style = \"text-align: right;\">20.0</td><td style = \"text-align: right;\">0.0001</td><td style = \"text-align: right;\">-1.24711e6</td><td style = \"text-align: right;\">0.23388</td><td style = \"text-align: right;\">0.00431017</td><td style = \"text-align: right;\">7.51093e-11</td><td style = \"text-align: right;\">7.98043e5</td><td style = \"text-align: right;\">0.131353</td><td style = \"text-align: right;\">0.0</td><td style = \"text-align: right;\">8.25e-12</td><td style = \"text-align: right;\">0.0</td><td style = \"text-align: right;\">1.42502e-17</td><td style = \"text-align: right;\">1.80139e-13</td></tr><tr><td class = \"rowNumber\" style = \"font-weight: bold; text-align: right;\">2</td><td style = \"text-align: right;\">20.0</td><td style = \"text-align: right;\">0.0002</td><td style = \"text-align: right;\">-1.15325e6</td><td style = \"text-align: right;\">0.467761</td><td style = \"text-align: right;\">0.00432034</td><td style = \"text-align: right;\">1.50219e-10</td><td style = \"text-align: right;\">7.98085e5</td><td style = \"text-align: right;\">0.131357</td><td style = \"text-align: right;\">0.0</td><td style = \"text-align: right;\">8.25e-12</td><td style = \"text-align: right;\">0.0</td><td style = \"text-align: right;\">2.85004e-17</td><td style = \"text-align: right;\">3.51154e-13</td></tr><tr><td class = \"rowNumber\" style = \"font-weight: bold; text-align: right;\">3</td><td style = \"text-align: right;\">20.0</td><td style = \"text-align: right;\">0.0003</td><td style = \"text-align: right;\">-1.09835e6</td><td style = \"text-align: right;\">0.701641</td><td style = \"text-align: right;\">0.00433051</td><td style = \"text-align: right;\">2.25328e-10</td><td style = \"text-align: right;\">7.98128e5</td><td style = \"text-align: right;\">0.13136</td><td style = \"text-align: right;\">0.0</td><td style = \"text-align: right;\">8.25e-12</td><td style = \"text-align: right;\">0.0</td><td style = \"text-align: right;\">4.27505e-17</td><td style = \"text-align: right;\">5.18725e-13</td></tr><tr><td class = \"rowNumber\" style = \"font-weight: bold; text-align: right;\">4</td><td style = \"text-align: right;\">20.0</td><td style = \"text-align: right;\">0.0004</td><td style = \"text-align: right;\">-1.0594e6</td><td style = \"text-align: right;\">0.935521</td><td style = \"text-align: right;\">0.00434068</td><td style = \"text-align: right;\">3.00437e-10</td><td style = \"text-align: right;\">7.9817e5</td><td style = \"text-align: right;\">0.131363</td><td style = \"text-align: right;\">0.0</td><td style = \"text-align: right;\">8.25e-12</td><td style = \"text-align: right;\">0.0</td><td style = \"text-align: right;\">5.70007e-17</td><td style = \"text-align: right;\">6.84059e-13</td></tr><tr><td class = \"rowNumber\" style = \"font-weight: bold; text-align: right;\">5</td><td style = \"text-align: right;\">20.0</td><td style = \"text-align: right;\">0.0005</td><td style = \"text-align: right;\">-1.02918e6</td><td style = \"text-align: right;\">1.1694</td><td style = \"text-align: right;\">0.00435085</td><td style = \"text-align: right;\">3.75546e-10</td><td style = \"text-align: right;\">7.98213e5</td><td style = \"text-align: right;\">0.131366</td><td style = \"text-align: right;\">0.0</td><td style = \"text-align: right;\">8.25e-12</td><td style = \"text-align: right;\">0.0</td><td style = \"text-align: right;\">7.12509e-17</td><td style = \"text-align: right;\">8.4773e-13</td></tr><tr><td class = \"rowNumber\" style = \"font-weight: bold; text-align: right;\">6</td><td style = \"text-align: right;\">20.0</td><td style = \"text-align: right;\">0.0006</td><td style = \"text-align: right;\">-1.0045e6</td><td style = \"text-align: right;\">1.40328</td><td style = \"text-align: right;\">0.00436102</td><td style = \"text-align: right;\">4.50656e-10</td><td style = \"text-align: right;\">7.98255e5</td><td style = \"text-align: right;\">0.131369</td><td style = \"text-align: right;\">0.0</td><td style = \"text-align: right;\">8.25e-12</td><td style = \"text-align: right;\">0.0</td><td style = \"text-align: right;\">8.55011e-17</td><td style = \"text-align: right;\">1.01008e-12</td></tr><tr><td class = \"rowNumber\" style = \"font-weight: bold; text-align: right;\">7</td><td style = \"text-align: right;\">20.0</td><td style = \"text-align: right;\">0.0007</td><td style = \"text-align: right;\">-9.83624e5</td><td style = \"text-align: right;\">1.63716</td><td style = \"text-align: right;\">0.00437119</td><td style = \"text-align: right;\">5.25765e-10</td><td style = \"text-align: right;\">798298.0</td><td style = \"text-align: right;\">0.131373</td><td style = \"text-align: right;\">0.0</td><td style = \"text-align: right;\">8.25e-12</td><td style = \"text-align: right;\">0.0</td><td style = \"text-align: right;\">9.97513e-17</td><td style = \"text-align: right;\">1.17132e-12</td></tr><tr><td class = \"rowNumber\" style = \"font-weight: bold; text-align: right;\">8</td><td style = \"text-align: right;\">20.0</td><td style = \"text-align: right;\">0.0008</td><td style = \"text-align: right;\">-9.65543e5</td><td style = \"text-align: right;\">1.87104</td><td style = \"text-align: right;\">0.00438136</td><td style = \"text-align: right;\">6.00874e-10</td><td style = \"text-align: right;\">7.98341e5</td><td style = \"text-align: right;\">0.131376</td><td style = \"text-align: right;\">0.0</td><td style = \"text-align: right;\">8.25e-12</td><td style = \"text-align: right;\">0.0</td><td style = \"text-align: right;\">1.14001e-16</td><td style = \"text-align: right;\">1.33162e-12</td></tr><tr><td class = \"rowNumber\" style = \"font-weight: bold; text-align: right;\">9</td><td style = \"text-align: right;\">20.0</td><td style = \"text-align: right;\">0.0009</td><td style = \"text-align: right;\">-949595.0</td><td style = \"text-align: right;\">2.10492</td><td style = \"text-align: right;\">0.00439153</td><td style = \"text-align: right;\">6.75983e-10</td><td style = \"text-align: right;\">7.98383e5</td><td style = \"text-align: right;\">0.131379</td><td style = \"text-align: right;\">0.0</td><td style = \"text-align: right;\">8.25e-12</td><td style = \"text-align: right;\">0.0</td><td style = \"text-align: right;\">1.28252e-16</td><td style = \"text-align: right;\">1.49109e-12</td></tr><tr><td class = \"rowNumber\" style = \"font-weight: bold; text-align: right;\">10</td><td style = \"text-align: right;\">20.0</td><td style = \"text-align: right;\">0.001</td><td style = \"text-align: right;\">-9.35329e5</td><td style = \"text-align: right;\">2.3388</td><td style = \"text-align: right;\">0.0044017</td><td style = \"text-align: right;\">7.51093e-10</td><td style = \"text-align: right;\">7.98426e5</td><td style = \"text-align: right;\">0.131382</td><td style = \"text-align: right;\">0.0</td><td style = \"text-align: right;\">8.25e-12</td><td style = \"text-align: right;\">0.0</td><td style = \"text-align: right;\">1.42502e-16</td><td style = \"text-align: right;\">1.64984e-12</td></tr><tr><td class = \"rowNumber\" style = \"font-weight: bold; text-align: right;\">11</td><td style = \"text-align: right;\">20.0</td><td style = \"text-align: right;\">0.0011</td><td style = \"text-align: right;\">-9.22424e5</td><td style = \"text-align: right;\">2.57268</td><td style = \"text-align: right;\">0.00441187</td><td style = \"text-align: right;\">8.26202e-10</td><td style = \"text-align: right;\">7.98468e5</td><td style = \"text-align: right;\">0.131385</td><td style = \"text-align: right;\">0.0</td><td style = \"text-align: right;\">8.25e-12</td><td style = \"text-align: right;\">0.0</td><td style = \"text-align: right;\">1.56752e-16</td><td style = \"text-align: right;\">1.80792e-12</td></tr><tr><td class = \"rowNumber\" style = \"font-weight: bold; text-align: right;\">12</td><td style = \"text-align: right;\">20.0</td><td style = \"text-align: right;\">0.0012</td><td style = \"text-align: right;\">-9.10642e5</td><td style = \"text-align: right;\">2.80656</td><td style = \"text-align: right;\">0.00442204</td><td style = \"text-align: right;\">9.01311e-10</td><td style = \"text-align: right;\">7.98511e5</td><td style = \"text-align: right;\">0.131389</td><td style = \"text-align: right;\">0.0</td><td style = \"text-align: right;\">8.25e-12</td><td style = \"text-align: right;\">0.0</td><td style = \"text-align: right;\">1.71002e-16</td><td style = \"text-align: right;\">1.9654e-12</td></tr><tr><td class = \"rowNumber\" style = \"font-weight: bold; text-align: right;\">13</td><td style = \"text-align: right;\">20.0</td><td style = \"text-align: right;\">0.0013</td><td style = \"text-align: right;\">-8.99804e5</td><td style = \"text-align: right;\">3.04044</td><td style = \"text-align: right;\">0.00443221</td><td style = \"text-align: right;\">9.76421e-10</td><td style = \"text-align: right;\">7.98553e5</td><td style = \"text-align: right;\">0.131392</td><td style = \"text-align: right;\">0.0</td><td style = \"text-align: right;\">8.25e-12</td><td style = \"text-align: right;\">0.0</td><td style = \"text-align: right;\">1.85252e-16</td><td style = \"text-align: right;\">2.12234e-12</td></tr><tr><td style = \"text-align: right;\">&vellip;</td><td style = \"text-align: right;\">&vellip;</td><td style = \"text-align: right;\">&vellip;</td><td style = \"text-align: right;\">&vellip;</td><td style = \"text-align: right;\">&vellip;</td><td style = \"text-align: right;\">&vellip;</td><td style = \"text-align: right;\">&vellip;</td><td style = \"text-align: right;\">&vellip;</td><td style = \"text-align: right;\">&vellip;</td><td style = \"text-align: right;\">&vellip;</td><td style = \"text-align: right;\">&vellip;</td><td style = \"text-align: right;\">&vellip;</td><td style = \"text-align: right;\">&vellip;</td><td style = \"text-align: right;\">&vellip;</td></tr><tr><td class = \"rowNumber\" style = \"font-weight: bold; text-align: right;\">9991</td><td style = \"text-align: right;\">20.0</td><td style = \"text-align: right;\">0.9991</td><td style = \"text-align: right;\">-121.917</td><td style = \"text-align: right;\">2336.7</td><td style = \"text-align: right;\">0.105908</td><td style = \"text-align: right;\">7.50417e-7</td><td style = \"text-align: right;\">1.22334e6</td><td style = \"text-align: right;\">0.163255</td><td style = \"text-align: right;\">0.0</td><td style = \"text-align: right;\">8.25e-12</td><td style = \"text-align: right;\">0.0</td><td style = \"text-align: right;\">1.42374e-13</td><td style = \"text-align: right;\">1.19415e-9</td></tr><tr><td class = \"rowNumber\" style = \"font-weight: bold; text-align: right;\">9992</td><td style = \"text-align: right;\">20.0</td><td style = \"text-align: right;\">0.9992</td><td style = \"text-align: right;\">-108.366</td><td style = \"text-align: right;\">2336.93</td><td style = \"text-align: right;\">0.105919</td><td style = \"text-align: right;\">7.50492e-7</td><td style = \"text-align: right;\">1.22338e6</td><td style = \"text-align: right;\">0.163258</td><td style = \"text-align: right;\">0.0</td><td style = \"text-align: right;\">8.25e-12</td><td style = \"text-align: right;\">0.0</td><td style = \"text-align: right;\">1.42388e-13</td><td style = \"text-align: right;\">1.19427e-9</td></tr><tr><td class = \"rowNumber\" style = \"font-weight: bold; text-align: right;\">9993</td><td style = \"text-align: right;\">20.0</td><td style = \"text-align: right;\">0.9993</td><td style = \"text-align: right;\">-94.8151</td><td style = \"text-align: right;\">2337.17</td><td style = \"text-align: right;\">0.105929</td><td style = \"text-align: right;\">7.50567e-7</td><td style = \"text-align: right;\">1.22342e6</td><td style = \"text-align: right;\">0.163262</td><td style = \"text-align: right;\">0.0</td><td style = \"text-align: right;\">8.25e-12</td><td style = \"text-align: right;\">0.0</td><td style = \"text-align: right;\">1.42402e-13</td><td style = \"text-align: right;\">1.19438e-9</td></tr><tr><td class = \"rowNumber\" style = \"font-weight: bold; text-align: right;\">9994</td><td style = \"text-align: right;\">20.0</td><td style = \"text-align: right;\">0.9994</td><td style = \"text-align: right;\">-81.266</td><td style = \"text-align: right;\">2337.4</td><td style = \"text-align: right;\">0.105939</td><td style = \"text-align: right;\">7.50642e-7</td><td style = \"text-align: right;\">1.22347e6</td><td style = \"text-align: right;\">0.163265</td><td style = \"text-align: right;\">0.0</td><td style = \"text-align: right;\">8.25e-12</td><td style = \"text-align: right;\">0.0</td><td style = \"text-align: right;\">1.42416e-13</td><td style = \"text-align: right;\">1.19449e-9</td></tr><tr><td class = \"rowNumber\" style = \"font-weight: bold; text-align: right;\">9995</td><td style = \"text-align: right;\">20.0</td><td style = \"text-align: right;\">0.9995</td><td style = \"text-align: right;\">-67.7183</td><td style = \"text-align: right;\">2337.63</td><td style = \"text-align: right;\">0.105949</td><td style = \"text-align: right;\">7.50717e-7</td><td style = \"text-align: right;\">1.22351e6</td><td style = \"text-align: right;\">0.163268</td><td style = \"text-align: right;\">0.0</td><td style = \"text-align: right;\">8.25e-12</td><td style = \"text-align: right;\">0.0</td><td style = \"text-align: right;\">1.42431e-13</td><td style = \"text-align: right;\">1.1946e-9</td></tr><tr><td class = \"rowNumber\" style = \"font-weight: bold; text-align: right;\">9996</td><td style = \"text-align: right;\">20.0</td><td style = \"text-align: right;\">0.9996</td><td style = \"text-align: right;\">-54.1719</td><td style = \"text-align: right;\">2337.87</td><td style = \"text-align: right;\">0.105959</td><td style = \"text-align: right;\">7.50792e-7</td><td style = \"text-align: right;\">1.22355e6</td><td style = \"text-align: right;\">0.163271</td><td style = \"text-align: right;\">0.0</td><td style = \"text-align: right;\">8.25e-12</td><td style = \"text-align: right;\">0.0</td><td style = \"text-align: right;\">1.42445e-13</td><td style = \"text-align: right;\">1.19472e-9</td></tr><tr><td class = \"rowNumber\" style = \"font-weight: bold; text-align: right;\">9997</td><td style = \"text-align: right;\">20.0</td><td style = \"text-align: right;\">0.9997</td><td style = \"text-align: right;\">-40.6269</td><td style = \"text-align: right;\">2338.1</td><td style = \"text-align: right;\">0.105969</td><td style = \"text-align: right;\">7.50867e-7</td><td style = \"text-align: right;\">1.22359e6</td><td style = \"text-align: right;\">0.163274</td><td style = \"text-align: right;\">0.0</td><td style = \"text-align: right;\">8.25e-12</td><td style = \"text-align: right;\">0.0</td><td style = \"text-align: right;\">1.42459e-13</td><td style = \"text-align: right;\">1.19483e-9</td></tr><tr><td class = \"rowNumber\" style = \"font-weight: bold; text-align: right;\">9998</td><td style = \"text-align: right;\">20.0</td><td style = \"text-align: right;\">0.9998</td><td style = \"text-align: right;\">-27.0833</td><td style = \"text-align: right;\">2338.34</td><td style = \"text-align: right;\">0.10598</td><td style = \"text-align: right;\">7.50942e-7</td><td style = \"text-align: right;\">1.22364e6</td><td style = \"text-align: right;\">0.163278</td><td style = \"text-align: right;\">0.0</td><td style = \"text-align: right;\">8.25e-12</td><td style = \"text-align: right;\">0.0</td><td style = \"text-align: right;\">1.42473e-13</td><td style = \"text-align: right;\">1.19494e-9</td></tr><tr><td class = \"rowNumber\" style = \"font-weight: bold; text-align: right;\">9999</td><td style = \"text-align: right;\">20.0</td><td style = \"text-align: right;\">0.9999</td><td style = \"text-align: right;\">-13.5409</td><td style = \"text-align: right;\">2338.57</td><td style = \"text-align: right;\">0.10599</td><td style = \"text-align: right;\">7.51018e-7</td><td style = \"text-align: right;\">1.22368e6</td><td style = \"text-align: right;\">0.163281</td><td style = \"text-align: right;\">0.0</td><td style = \"text-align: right;\">8.25e-12</td><td style = \"text-align: right;\">0.0</td><td style = \"text-align: right;\">1.42488e-13</td><td style = \"text-align: right;\">1.19506e-9</td></tr><tr><td class = \"rowNumber\" style = \"font-weight: bold; text-align: right;\">10000</td><td style = \"text-align: right;\">20.0</td><td style = \"text-align: right;\">0.99999</td><td style = \"text-align: right;\">-1.35403</td><td style = \"text-align: right;\">2338.78</td><td style = \"text-align: right;\">0.105999</td><td style = \"text-align: right;\">7.51085e-7</td><td style = \"text-align: right;\">1.22372e6</td><td style = \"text-align: right;\">0.163284</td><td style = \"text-align: right;\">0.0</td><td style = \"text-align: right;\">8.25e-12</td><td style = \"text-align: right;\">0.0</td><td style = \"text-align: right;\">1.425e-13</td><td style = \"text-align: right;\">1.19516e-9</td></tr><tr><td class = \"rowNumber\" style = \"font-weight: bold; text-align: right;\">10001</td><td style = \"text-align: right;\">20.0</td><td style = \"text-align: right;\">0.999999</td><td style = \"text-align: right;\">-0.135403</td><td style = \"text-align: right;\">2338.8</td><td style = \"text-align: right;\">0.106</td><td style = \"text-align: right;\">7.51092e-7</td><td style = \"text-align: right;\">1.22372e6</td><td style = \"text-align: right;\">0.163284</td><td style = \"text-align: right;\">0.0</td><td style = \"text-align: right;\">8.25e-12</td><td style = \"text-align: right;\">0.0</td><td style = \"text-align: right;\">1.42502e-13</td><td style = \"text-align: right;\">1.19517e-9</td></tr><tr><td class = \"rowNumber\" style = \"font-weight: bold; text-align: right;\">10002</td><td style = \"text-align: right;\">20.0</td><td style = \"text-align: right;\">1.0</td><td style = \"text-align: right;\">-0.0135403</td><td style = \"text-align: right;\">2338.8</td><td style = \"text-align: right;\">0.106</td><td style = \"text-align: right;\">7.51093e-7</td><td style = \"text-align: right;\">1.22372e6</td><td style = \"text-align: right;\">0.163284</td><td style = \"text-align: right;\">0.0</td><td style = \"text-align: right;\">8.25e-12</td><td style = \"text-align: right;\">0.0</td><td style = \"text-align: right;\">1.42502e-13</td><td style = \"text-align: right;\">1.19517e-9</td></tr></tbody></table></div>"
      ],
      "text/latex": [
       "\\begin{tabular}{r|ccccccccc}\n",
       "\t& temp & rh & miu & pv & phi & dphi & crow & lam & \\\\\n",
       "\t\\hline\n",
       "\t& Float64 & Float64 & Float64 & Float64 & Float64 & Float64 & Float64 & Float64 & \\\\\n",
       "\t\\hline\n",
       "\t1 & 20.0 & 0.0001 & -1.24711e6 & 0.23388 & 0.00431017 & 7.51093e-11 & 7.98043e5 & 0.131353 & $\\dots$ \\\\\n",
       "\t2 & 20.0 & 0.0002 & -1.15325e6 & 0.467761 & 0.00432034 & 1.50219e-10 & 7.98085e5 & 0.131357 & $\\dots$ \\\\\n",
       "\t3 & 20.0 & 0.0003 & -1.09835e6 & 0.701641 & 0.00433051 & 2.25328e-10 & 7.98128e5 & 0.13136 & $\\dots$ \\\\\n",
       "\t4 & 20.0 & 0.0004 & -1.0594e6 & 0.935521 & 0.00434068 & 3.00437e-10 & 7.9817e5 & 0.131363 & $\\dots$ \\\\\n",
       "\t5 & 20.0 & 0.0005 & -1.02918e6 & 1.1694 & 0.00435085 & 3.75546e-10 & 7.98213e5 & 0.131366 & $\\dots$ \\\\\n",
       "\t6 & 20.0 & 0.0006 & -1.0045e6 & 1.40328 & 0.00436102 & 4.50656e-10 & 7.98255e5 & 0.131369 & $\\dots$ \\\\\n",
       "\t7 & 20.0 & 0.0007 & -9.83624e5 & 1.63716 & 0.00437119 & 5.25765e-10 & 798298.0 & 0.131373 & $\\dots$ \\\\\n",
       "\t8 & 20.0 & 0.0008 & -9.65543e5 & 1.87104 & 0.00438136 & 6.00874e-10 & 7.98341e5 & 0.131376 & $\\dots$ \\\\\n",
       "\t9 & 20.0 & 0.0009 & -949595.0 & 2.10492 & 0.00439153 & 6.75983e-10 & 7.98383e5 & 0.131379 & $\\dots$ \\\\\n",
       "\t10 & 20.0 & 0.001 & -9.35329e5 & 2.3388 & 0.0044017 & 7.51093e-10 & 7.98426e5 & 0.131382 & $\\dots$ \\\\\n",
       "\t11 & 20.0 & 0.0011 & -9.22424e5 & 2.57268 & 0.00441187 & 8.26202e-10 & 7.98468e5 & 0.131385 & $\\dots$ \\\\\n",
       "\t12 & 20.0 & 0.0012 & -9.10642e5 & 2.80656 & 0.00442204 & 9.01311e-10 & 7.98511e5 & 0.131389 & $\\dots$ \\\\\n",
       "\t13 & 20.0 & 0.0013 & -8.99804e5 & 3.04044 & 0.00443221 & 9.76421e-10 & 7.98553e5 & 0.131392 & $\\dots$ \\\\\n",
       "\t14 & 20.0 & 0.0014 & -8.8977e5 & 3.27433 & 0.00444238 & 1.05153e-9 & 798596.0 & 0.131395 & $\\dots$ \\\\\n",
       "\t15 & 20.0 & 0.0015 & -8.80428e5 & 3.50821 & 0.00445255 & 1.12664e-9 & 7.98639e5 & 0.131398 & $\\dots$ \\\\\n",
       "\t16 & 20.0 & 0.0016 & -8.71689e5 & 3.74209 & 0.00446272 & 1.20175e-9 & 7.98681e5 & 0.131401 & $\\dots$ \\\\\n",
       "\t17 & 20.0 & 0.0017 & -8.6348e5 & 3.97597 & 0.00447289 & 1.27686e-9 & 7.98724e5 & 0.131404 & $\\dots$ \\\\\n",
       "\t18 & 20.0 & 0.0018 & -855741.0 & 4.20985 & 0.00448306 & 1.35197e-9 & 7.98766e5 & 0.131408 & $\\dots$ \\\\\n",
       "\t19 & 20.0 & 0.0019 & -8.4842e5 & 4.44373 & 0.00449323 & 1.42708e-9 & 7.98809e5 & 0.131411 & $\\dots$ \\\\\n",
       "\t20 & 20.0 & 0.002 & -8.41475e5 & 4.67761 & 0.0045034 & 1.50219e-9 & 7.98851e5 & 0.131414 & $\\dots$ \\\\\n",
       "\t21 & 20.0 & 0.0021 & -8.34869e5 & 4.91149 & 0.00451357 & 1.57729e-9 & 798894.0 & 0.131417 & $\\dots$ \\\\\n",
       "\t22 & 20.0 & 0.0022 & -8.2857e5 & 5.14537 & 0.00452374 & 1.6524e-9 & 7.98937e5 & 0.13142 & $\\dots$ \\\\\n",
       "\t23 & 20.0 & 0.0023 & -8.22551e5 & 5.37925 & 0.00453391 & 1.72751e-9 & 7.98979e5 & 0.131424 & $\\dots$ \\\\\n",
       "\t24 & 20.0 & 0.0024 & -8.16788e5 & 5.61313 & 0.00454408 & 1.80262e-9 & 7.99022e5 & 0.131427 & $\\dots$ \\\\\n",
       "\t$\\dots$ & $\\dots$ & $\\dots$ & $\\dots$ & $\\dots$ & $\\dots$ & $\\dots$ & $\\dots$ & $\\dots$ &  \\\\\n",
       "\\end{tabular}\n"
      ],
      "text/plain": [
       "\u001b[1m10002×13 DataFrame\u001b[0m\n",
       "\u001b[1m   Row \u001b[0m│\u001b[1m temp    \u001b[0m\u001b[1m rh       \u001b[0m\u001b[1m miu             \u001b[0m\u001b[1m pv          \u001b[0m\u001b[1m phi        \u001b[0m\u001b[1m dphi    \u001b[0m ⋯\n",
       "       │\u001b[90m Float64 \u001b[0m\u001b[90m Float64  \u001b[0m\u001b[90m Float64         \u001b[0m\u001b[90m Float64     \u001b[0m\u001b[90m Float64    \u001b[0m\u001b[90m Float64 \u001b[0m ⋯\n",
       "───────┼────────────────────────────────────────────────────────────────────────\n",
       "     1 │    20.0  0.0001         -1.24711e6     0.23388   0.00431017  7.51093e ⋯\n",
       "     2 │    20.0  0.0002         -1.15325e6     0.467761  0.00432034  1.50219e\n",
       "     3 │    20.0  0.0003         -1.09835e6     0.701641  0.00433051  2.25328e\n",
       "     4 │    20.0  0.0004         -1.0594e6      0.935521  0.00434068  3.00437e\n",
       "     5 │    20.0  0.0005         -1.02918e6     1.1694    0.00435085  3.75546e ⋯\n",
       "     6 │    20.0  0.0006         -1.0045e6      1.40328   0.00436102  4.50656e\n",
       "     7 │    20.0  0.0007         -9.83624e5     1.63716   0.00437119  5.25765e\n",
       "     8 │    20.0  0.0008         -9.65543e5     1.87104   0.00438136  6.00874e\n",
       "   ⋮   │    ⋮        ⋮             ⋮              ⋮           ⋮            ⋮   ⋱\n",
       "  9996 │    20.0  0.9996        -54.1719     2337.87      0.105959    7.50792e ⋯\n",
       "  9997 │    20.0  0.9997        -40.6269     2338.1       0.105969    7.50867e\n",
       "  9998 │    20.0  0.9998        -27.0833     2338.34      0.10598     7.50942e\n",
       "  9999 │    20.0  0.9999        -13.5409     2338.57      0.10599     7.51018e\n",
       " 10000 │    20.0  0.99999        -1.35403    2338.78      0.105999    7.51085e ⋯\n",
       " 10001 │    20.0  0.999999       -0.135403   2338.8       0.106       7.51092e\n",
       " 10002 │    20.0  1.0            -0.0135403  2338.8       0.106       7.51093e\n",
       "\u001b[36m                                                 8 columns and 9987 rows omitted\u001b[0m"
      ]
     },
     "metadata": {},
     "output_type": "display_data"
    }
   ],
   "source": [
    "pd"
   ]
  },
  {
   "cell_type": "code",
   "execution_count": 7,
   "metadata": {},
   "outputs": [],
   "source": []
  }
 ],
 "metadata": {
  "kernelspec": {
   "display_name": "Julia 1.11.2",
   "language": "julia",
   "name": "julia-1.11"
  },
  "language_info": {
   "file_extension": ".jl",
   "mimetype": "application/julia",
   "name": "julia",
   "version": "1.11.2"
  }
 },
 "nbformat": 4,
 "nbformat_minor": 4
}
