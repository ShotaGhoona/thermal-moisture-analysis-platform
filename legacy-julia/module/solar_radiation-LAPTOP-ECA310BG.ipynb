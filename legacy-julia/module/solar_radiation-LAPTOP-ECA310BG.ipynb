{
 "cells": [
  {
   "cell_type": "markdown",
   "id": "02e81b56-98c9-4767-b1b2-1f3c5a496058",
   "metadata": {},
   "source": [
    "# 太陽位置の計算と日射量計算プログラム"
   ]
  },
  {
   "cell_type": "markdown",
   "id": "863f84ac-c4ba-455b-8176-c08684543f2b",
   "metadata": {},
   "source": [
    "### 太陽定数"
   ]
  },
  {
   "cell_type": "code",
   "execution_count": 1,
   "id": "1f968f10-752c-4859-a731-1be90843f4fd",
   "metadata": {},
   "outputs": [
    {
     "data": {
      "text/plain": [
       "1367.0"
      ]
     },
     "metadata": {},
     "output_type": "display_data"
    }
   ],
   "source": [
    "const JSTD = 1367.0"
   ]
  },
  {
   "cell_type": "markdown",
   "id": "259934fb-0451-4eac-9c9d-7f20ba4f8c57",
   "metadata": {},
   "source": [
    "## 1. 日射量計算の基本式"
   ]
  },
  {
   "cell_type": "markdown",
   "id": "7f054b00",
   "metadata": {},
   "source": [
    "全日射は直達日射と天空（散乱）日射に分けることができる。  "
   ]
  },
  {
   "cell_type": "markdown",
   "id": "3d869360-550d-43b2-9202-ee25cc62d27c",
   "metadata": {},
   "source": [
    "### 1.1 Bouguerの式"
   ]
  },
  {
   "cell_type": "markdown",
   "id": "821dfbae",
   "metadata": {},
   "source": [
    "$$\n",
    "    J_{dir} = J_{STD} P ^ {\\frac{1}{sinH}}\n",
    "$$"
   ]
  },
  {
   "cell_type": "markdown",
   "id": "c10cd684-2b75-42a1-b1d0-3bbfcfc5a6d5",
   "metadata": {},
   "source": [
    "- SINH:太陽高度のサイン\n",
    "- P:大気透過率\n",
    "- SOLDN:法線面直達日射量（Bouguer の式）\n",
    "- SOLSN:法線面天空日射量（Berlage の式）"
   ]
  },
  {
   "cell_type": "code",
   "execution_count": 2,
   "id": "31fb5ac8-78c3-46b3-b154-e61664c40f59",
   "metadata": {},
   "outputs": [
    {
     "data": {
      "text/plain": [
       "cal_soldn (generic function with 2 methods)"
      ]
     },
     "metadata": {},
     "output_type": "display_data"
    }
   ],
   "source": [
    "function cal_soldn( P::Float64, SINH::Float64 )\n",
    "    return JSTD * P ^ ( 1.0 / SINH )\n",
    "end\n",
    "cal_soldn(; P::Float64, SINH::Float64 ) = cal_soldn( P, SINH )"
   ]
  },
  {
   "cell_type": "code",
   "execution_count": 3,
   "id": "5db8cda8-b5cc-4cac-8f24-2bed43be3763",
   "metadata": {},
   "outputs": [
    {
     "data": {
      "text/plain": [
       "942.4359108075473"
      ]
     },
     "metadata": {},
     "output_type": "display_data"
    }
   ],
   "source": [
    "cal_soldn( P = 0.8, SINH = 0.6 )"
   ]
  },
  {
   "cell_type": "markdown",
   "id": "37f5a6e4-ea37-401f-933a-e5c9b5aeaf2e",
   "metadata": {
    "tags": []
   },
   "source": [
    "### 1.2 Berlageの式"
   ]
  },
  {
   "cell_type": "markdown",
   "id": "c68e664a",
   "metadata": {},
   "source": [
    "$$\n",
    "    J_{dif} = \\frac{1}{2}J_{STD}sinH\\frac{1-P^{\\frac{1}{sinH}}}{1-1.4log_eP}\n",
    "$$"
   ]
  },
  {
   "cell_type": "code",
   "execution_count": 4,
   "id": "09bbe61f-b865-479c-ad57-b397b3843862",
   "metadata": {},
   "outputs": [
    {
     "data": {
      "text/plain": [
       "cal_solsn (generic function with 2 methods)"
      ]
     },
     "metadata": {},
     "output_type": "display_data"
    }
   ],
   "source": [
    "function cal_solsn( P::Float64, SINH::Float64 )\n",
    "    return 1.0 / 2.0 * JSTD * SINH * ( 1.0 - P ^ ( 1.0 / SINH ) ) / ( 1.0 - 1.4 *  log(P) )\n",
    "end\n",
    "cal_solsn(; P::Float64, SINH::Float64 ) = cal_solsn( P, SINH )"
   ]
  },
  {
   "cell_type": "code",
   "execution_count": 5,
   "id": "858e18f9-0bf6-485a-b8fe-303bb1e09df4",
   "metadata": {},
   "outputs": [
    {
     "data": {
      "text/plain": [
       "97.05054285290045"
      ]
     },
     "metadata": {},
     "output_type": "display_data"
    }
   ],
   "source": [
    "cal_solsn( P = 0.8, SINH = 0.6 )"
   ]
  },
  {
   "cell_type": "markdown",
   "id": "891d21fa-4f27-4b88-9821-2971f8e8107c",
   "metadata": {},
   "source": [
    "## 2. 太陽位置の計算プログラム"
   ]
  },
  {
   "cell_type": "markdown",
   "id": "6ee80cf5",
   "metadata": {},
   "source": [
    "$$ \n",
    "    \\sin H = \\sin \\phi \\sin \\delta + \\cos \\phi \\cos \\delta \\cos t\n",
    "$$\n",
    "\n",
    "$$ \n",
    "    \\sin A = \\frac { \\cos \\delta \\sin t } { \\cos H }\n",
    "$$\n",
    "\n",
    "$$ \n",
    "    \\cos A = \\frac { \\sin h \\sin \\delta - \\sin \\delta } { \\cos h \\cos \\phi }\n",
    "$$"
   ]
  },
  {
   "cell_type": "markdown",
   "id": "b72f1a02",
   "metadata": {},
   "source": [
    "$$\n",
    "    t = 15(T_m - 12) + (L - L_0) + E_t\n",
    "$$"
   ]
  },
  {
   "cell_type": "markdown",
   "id": "8d892073-192c-4bf6-a7a3-68da39680d51",
   "metadata": {},
   "source": [
    "- PHI:計算対象地点の緯度（度）\n",
    "- LON:計算対象地点の経度（度）\n",
    "- TM:標準時（時）\n",
    "- LONS:標準時の地点の経度（度） = 135.0\n",
    "- SINH:太陽高度のサイン\n",
    "- COSH:太陽高度のコサイン\n",
    "- SINDLT:赤緯のサイン\n",
    "- COSDLT:赤緯のコサイン\n",
    "- ET:均時差（度）（時角）1°が4分\n",
    "- T:時角（度）"
   ]
  },
  {
   "cell_type": "code",
   "execution_count": 6,
   "id": "b95cb21d-3eba-40dd-a16f-74e44fd9d98d",
   "metadata": {},
   "outputs": [
    {
     "data": {
      "text/plain": [
       "SUNLHA (generic function with 2 methods)"
      ]
     },
     "metadata": {},
     "output_type": "display_data"
    }
   ],
   "source": [
    "function SUNLHA( PHI::Float64, LON::Float64, TM::Float64, LONS::Float64, SINDLT::Float64, COSDLT::Float64, ET::Float64 )\n",
    "    #RAD = 2.0 * PI / 360.0\n",
    "\n",
    "    T = 15.0 * ( TM - 12.0 ) + ( LON - LONS ) + ET\n",
    "    \n",
    "    PHIRAD = PHI # * RAD\n",
    "    TRAD   = T   # * RAD\n",
    "    \n",
    "    SINH   = sind(PHIRAD) * SINDLT + cosd(PHIRAD) * COSDLT * cosd(TRAD)\n",
    "    COSH   = ( 1.0 - SINH ^ 2.0) ^ (1/2)\n",
    "    SINA   = COSDLT * sind( TRAD ) / COSH\n",
    "    COSA   = ( SINH * sind( PHIRAD ) - SINDLT ) / ( COSH * cosd( PHIRAD ) )\n",
    "    \n",
    "    return SINH, COSH, SINA, COSA\n",
    "end\n",
    "SUNLHA(; PHI::Float64, LON::Float64, TM::Float64, LONS::Float64, SINDLT::Float64, COSDLT::Float64, ET::Float64 ) = SUNLHA( PHI, LON, TM, LONS, SINDLT, COSDLT, ET )"
   ]
  },
  {
   "cell_type": "markdown",
   "id": "0e6e3b7b-ba74-458c-abc6-750193f091c8",
   "metadata": {},
   "source": [
    "### 赤緯と均時差の計算プログラム"
   ]
  },
  {
   "cell_type": "markdown",
   "id": "66eeb1a3",
   "metadata": {},
   "source": [
    "$$\n",
    "    \\sin \\delta = \\cos ( \\nu + \\epsilon ) \\sin \\delta _0\n",
    "$$"
   ]
  },
  {
   "cell_type": "markdown",
   "id": "19e5c99e-a70b-42a8-9c69-1deb2d19a98a",
   "metadata": {},
   "source": [
    "- YEAR:西暦\n",
    "- NDAY:年間通し日\n",
    "- SINDLT:赤緯のサイン\n",
    "- COSDLT:赤緯のコサイン\n",
    "- ET:均時差（度）（時角）1°が4分"
   ]
  },
  {
   "cell_type": "code",
   "execution_count": 7,
   "id": "d8b057bf-c3c3-4289-b5d9-c08bcf981f7f",
   "metadata": {},
   "outputs": [
    {
     "data": {
      "text/plain": [
       "SUNLD (generic function with 2 methods)"
      ]
     },
     "metadata": {},
     "output_type": "display_data"
    }
   ],
   "source": [
    "function SUNLD( YEAR::Int, NDAY::Int )\n",
    "\n",
    "    RAD = 2.0 * pi / 360.0\n",
    "    DLTO= -23.43930 * RAD\n",
    "    \n",
    "    N = YEAR - 1968.0\n",
    "\n",
    "    DO1 = 3.710 + 0.25960 * N - floor( ( N + 3.0 ) / 4.0 )\n",
    "    \n",
    "    M = 0.98560 * ( NDAY - DO1 )\n",
    "    \n",
    "    EPS = 12.39010 + 0.0172 * ( N + M / 360.0 )\n",
    "    V   = M + 1.9140 * sind( M ) + 0.02 * sind( 2.0 * M )\n",
    "    VEPS= ( V + EPS ) * RAD\n",
    "    \n",
    "    ET = (M - V) - atan( 0.0430 * sin( 2.0 * VEPS ) / ( 1.0 - 0.0430 * cos( 2.0 * VEPS ) ) ) / RAD\n",
    "    \n",
    "    SINDLT = cos(VEPS) * sin(DLTO)\n",
    "    COSDLT = ( abs( 1.0- SINDLT ^ 2.0 ) )^( 1/2 )\n",
    "    \n",
    "    return SINDLT, COSDLT, ET\n",
    "end\n",
    "SUNLD(; YEAR::Int, NDAY::Int ) = SUNLD( YEAR, NDAY )"
   ]
  },
  {
   "cell_type": "markdown",
   "id": "62c7dbb8",
   "metadata": {},
   "source": [
    "### 2.2 太陽高度の計算"
   ]
  },
  {
   "cell_type": "code",
   "execution_count": 8,
   "id": "eeaea776",
   "metadata": {},
   "outputs": [
    {
     "data": {
      "text/plain": [
       "cal_ALTI (generic function with 2 methods)"
      ]
     },
     "metadata": {},
     "output_type": "display_data"
    }
   ],
   "source": [
    "function cal_ALTI(SINH::Float64)\n",
    "    return asin(SINH) * 180 / pi\n",
    "end\n",
    "cal_ALTI(;SINH::Float64) = cal_ALTI(SINH)"
   ]
  },
  {
   "cell_type": "markdown",
   "id": "4abc53d4",
   "metadata": {},
   "source": [
    "### 2.3 太陽方位角の計算"
   ]
  },
  {
   "cell_type": "code",
   "execution_count": 9,
   "id": "f54e2f66",
   "metadata": {},
   "outputs": [
    {
     "data": {
      "text/plain": [
       "cal_LATI (generic function with 2 methods)"
      ]
     },
     "metadata": {},
     "output_type": "display_data"
    }
   ],
   "source": [
    "function cal_LATI(COSA::Float64, SINA::Float64)\n",
    "    if SINA >= 0.0\n",
    "        LATI = 90.0 - atan( COSA / SINA ) * 180 / pi\n",
    "    elseif SINA <= 0.0\n",
    "        LATI = -90.0 - atan( COSA / SINA ) * 180 / pi\n",
    "    end\n",
    "    return LATI\n",
    "end\n",
    "cal_LATI(;COSA::Float64, SINA::Float64) = cal_LATI(COSA, SINA)"
   ]
  },
  {
   "cell_type": "markdown",
   "id": "733f9c89-e002-4f67-83ea-8298cc506900",
   "metadata": {},
   "source": [
    "#### Appendix. NDAY（積算日数）の計算"
   ]
  },
  {
   "cell_type": "code",
   "execution_count": 10,
   "id": "69a6f085-6f9e-44b6-9b5e-d6540f4586c0",
   "metadata": {},
   "outputs": [
    {
     "data": {
      "text/plain": [
       "cal_NDAY (generic function with 2 methods)"
      ]
     },
     "metadata": {},
     "output_type": "display_data"
    }
   ],
   "source": [
    "function cal_NDAY( year::Int, month::Int, day::Int )\n",
    "    if month == 1;      NDAY = day\n",
    "    elseif month == 2;  NDAY = 31 + day\n",
    "    elseif month == 3;  NDAY = 59 + day\n",
    "    elseif month == 4;  NDAY = 90 + day\n",
    "    elseif month == 5;  NDAY =120 + day\n",
    "    elseif month == 6;  NDAY =151 + day\n",
    "    elseif month == 7;  NDAY =181 + day\n",
    "    elseif month == 8;  NDAY =212 + day\n",
    "    elseif month == 9;  NDAY =243 + day\n",
    "    elseif month == 10; NDAY =273 + day\n",
    "    elseif month == 11; NDAY =304 + day\n",
    "    elseif month == 12; NDAY =334 + day\n",
    "    end\n",
    "    \n",
    "    # うるう年の計算\n",
    "    if ( ( mod(year,4)==0 && mod(year,100)≠0) || ( mod(year,400)==0 ) ) && ( month > 2 )\n",
    "        NDAY = NDAY + 1\n",
    "    end\n",
    "    \n",
    "    return NDAY\n",
    "end\n",
    "cal_NDAY(; year::Int, month::Int, day::Int ) = cal_NDAY( year, month, day )"
   ]
  },
  {
   "cell_type": "markdown",
   "id": "798bead0-a268-46f0-9554-505730e019dc",
   "metadata": {},
   "source": [
    "### 計算の確認"
   ]
  },
  {
   "cell_type": "code",
   "execution_count": 11,
   "id": "2ecad6a0-7319-48f3-88f2-d23bd8103780",
   "metadata": {},
   "outputs": [
    {
     "name": "stdout",
     "output_type": "stream",
     "text": [
      "32.37611354311369\n",
      "0.6715704788474401\n"
     ]
    }
   ],
   "source": [
    "SINDLT, COSDLT, ET = SUNLD( YEAR = 2022, NDAY = 5 )\n",
    "LON  = 135.678 # 桂キャンパスの経度\n",
    "PHI  = 34.983  # 桂キャンパスの緯度\n",
    "LONS = 135.0\n",
    "TM = 12.0\n",
    "SINH, COSH, SINA, COSA = SUNLHA( PHI, LON, TM, LONS, SINDLT, COSDLT, ET )\n",
    "println( asind(SINH) )\n",
    "println( acosd(COSA) )"
   ]
  },
  {
   "cell_type": "markdown",
   "id": "bb54cbee-792d-4146-a0b3-cc4be0083b88",
   "metadata": {},
   "source": [
    "## 3. 壁面に入射する日射量の計算  \n",
    "\n",
    "参考：エース建築環境工学I pp.29-30|"
   ]
  },
  {
   "cell_type": "markdown",
   "id": "515784c6",
   "metadata": {},
   "source": [
    "### 3.1 ある時刻における法線面日射量・天空日射量、太陽高度・方位角の算出"
   ]
  },
  {
   "cell_type": "markdown",
   "id": "2ee3fb80",
   "metadata": {},
   "source": [
    "\n",
    "- SOLDN；法線面直達日射量（Bouguer の式より算出）\n",
    "- SOLSN：法線面天空日射量（Berlage の式より算出）"
   ]
  },
  {
   "cell_type": "code",
   "execution_count": 12,
   "id": "621a9ace",
   "metadata": {},
   "outputs": [
    {
     "data": {
      "text/plain": [
       "cal_solar_radiation (generic function with 2 methods)"
      ]
     },
     "metadata": {},
     "output_type": "display_data"
    }
   ],
   "source": [
    "function cal_solar_radiation( year::Int, month::Int, day::Int, hour::Int, min::Int, sec::Int, \n",
    "    PHI::Float64, LON::Float64, LONS::Float64, P::Float64 )\n",
    "\n",
    "    NDAY  = cal_NDAY( year, month, day )\n",
    "    \n",
    "    # 地方標準時\n",
    "    TM = Float64(hour) + Float64(min) / 60.0 + Float64(sec) / 3600.0\n",
    "    \n",
    "    # 赤緯の計算\n",
    "    SINDLT, COSDLT, ET = SUNLD( YEAR = year, NDAY = NDAY )\n",
    "    \n",
    "    # 太陽高度・太陽方位角の計算\n",
    "    SINH, COSH, SINA, COSA = SUNLHA( PHI, LON, TM, LONS, SINDLT, COSDLT, ET )\n",
    "\n",
    "    # 2024/11/28追記：壁面日射量が合わなかったため修正\n",
    "    #LATI = 180.0 - acos(COSA) * 180.0 / pi\n",
    "    if SINA >= 0.0\n",
    "        LATI = 90.0 - atan(COSA/SINA) * 180.0 / pi\n",
    "    elseif SINA < 0.0\n",
    "        LATI = - 90.0 - atan(COSA/SINA) * 180.0 / pi\n",
    "    end\n",
    "    ALTI = asin(SINH) * 180.0 / pi\n",
    "    \n",
    "    # 日射量の計算\n",
    "    # 太陽高度が0以上のとき\n",
    "    if SINH > 0\n",
    "        SOLDN = cal_soldn( P, SINH )\n",
    "        SOLSN = cal_solsn( P, SINH )\n",
    "    # 太陽が沈んでいるとき\n",
    "    else\n",
    "        SOLDN = 0.0\n",
    "        SOLSN = 0.0\n",
    "    end\n",
    "    \n",
    "    return SOLDN, SOLSN, LATI, ALTI\n",
    "end\n",
    "cal_solar_radiation(; year::Int, month::Int, day::Int, hour::Int, min::Int, sec::Int, PHI::Float64, LON::Float64, LONS::Float64, P::Float64) = cal_solar_radiation( year, month, day, hour, min, sec, PHI, LON, LONS, P)"
   ]
  },
  {
   "cell_type": "markdown",
   "id": "e7691692",
   "metadata": {},
   "source": [
    "### 3.2 壁面に入射する日射量"
   ]
  },
  {
   "cell_type": "markdown",
   "id": "de98b561",
   "metadata": {},
   "source": [
    "#### 3.2.1 壁面（傾斜面）への直達日射量  \n",
    "\n",
    "$$ \n",
    "    J_{di} = J_{STD_d} cos(i) \n",
    "$$\n",
    "\n",
    "##### 傾斜面への太陽光線の入射角\n",
    "\n",
    "$$ cos(i) = cos(\\theta_e)sin(h)+sin(\\theta_e)cos(h)cos(\\alpha_s - \\theta_a) $$\n",
    "\n",
    "- RADDN：直達日射量\n",
    "- RADSN：天空放射量\n",
    "- $\\theta_a$：傾斜面の方位角\n",
    "- $\\theta_e$：傾斜角  "
   ]
  },
  {
   "cell_type": "code",
   "execution_count": 13,
   "id": "686d66d7",
   "metadata": {},
   "outputs": [
    {
     "data": {
      "text/plain": [
       "cal_direct_solar_radiation_at_wall (generic function with 6 methods)"
      ]
     },
     "metadata": {},
     "output_type": "display_data"
    }
   ],
   "source": [
    "function cal_direct_solar_radiation_at_wall( SOLDN::Float64, ALTI::Float64, LATI::Float64, θe::Float64, θa::Float64,\n",
    "    LATI_started::Float64 = -180.0, LATI_limited::Float64 = 360.0, ALTI_started::Float64 = -180.0, ALTI_limited::Float64 = 360.0 )\n",
    "    RAD = 180 / pi\n",
    "    COSI = cos( θe / RAD ) * sin( ALTI / RAD ) + sin( θe / RAD ) * cos( ALTI / RAD ) * cos( ( LATI - θa ) / RAD )\n",
    "\n",
    "    if (COSI >= 0.0)\n",
    "        # 直達日射の遮蔽がない場合\n",
    "        if LATI >= LATI_started && LATI <= LATI_limited && ALTI >= ALTI_started && ALTI <= ALTI_limited\n",
    "            RADDN = SOLDN * COSI\n",
    "        # 直達日射の遮蔽がある場合\n",
    "        else\n",
    "            RADDN = 0.0\n",
    "        end\n",
    "    else\n",
    "        RADDN = 0.0\n",
    "    end    \n",
    "\n",
    "    return RADDN\n",
    "end\n",
    "\n",
    "cal_direct_solar_radiation_at_wall(; SOLDN::Float64, ALTI::Float64, LATI::Float64, θe::Float64, θa::Float64,\n",
    "    LATI_started::Float64 = -180.0, LATI_limited::Float64 = 360.0, ALTI_started::Float64 = -180.0, ALTI_limited::Float64 = 360.0 ) = \n",
    "        cal_direct_solar_radiation_at_wall( SOLDN, ALTI, LATI, θe, θa, LATI_started, LATI_limited, ALTI_started, ALTI_limited )"
   ]
  },
  {
   "cell_type": "code",
   "execution_count": 14,
   "id": "3c62e1f3",
   "metadata": {},
   "outputs": [
    {
     "data": {
      "text/plain": [
       "17.364817766693033"
      ]
     },
     "metadata": {},
     "output_type": "display_data"
    }
   ],
   "source": [
    "cal_direct_solar_radiation_at_wall( SOLDN = 100.0, ALTI = 10.0, LATI = 10.0, θe = 0.0, θa = 0.0 )"
   ]
  },
  {
   "cell_type": "markdown",
   "id": "d671e3cb",
   "metadata": {},
   "source": [
    "#### 3.2.2 壁面（傾斜面）への天空日射量  \n",
    "\n",
    "$$ \n",
    "    J_{si} = J_{H} \\Bigl( \\frac{ 1 + \\cos \\theta_e }{ 2 } \\Bigl )\n",
    "$$"
   ]
  },
  {
   "cell_type": "code",
   "execution_count": 15,
   "id": "30a580a9",
   "metadata": {},
   "outputs": [
    {
     "data": {
      "text/plain": [
       "cal_diffused_solar_radiation_at_wall (generic function with 2 methods)"
      ]
     },
     "metadata": {},
     "output_type": "display_data"
    }
   ],
   "source": [
    "function cal_diffused_solar_radiation_at_wall( SOLSN::Float64, θe::Float64 )\n",
    "    RAD = 180 / pi\n",
    "    # RADSN = SOLSN * ( abs( ( 180.0 - γ ) / 180.0 ) )\n",
    "    RADSN = SOLSN * ( ( 1.0 + cos( θe / RAD ) ) / 2.0 )\n",
    "    return RADSN\n",
    "end\n",
    "cal_diffused_solar_radiation_at_wall(; SOLSN::Float64, θe::Float64 ) = cal_diffused_solar_radiation_at_wall( SOLSN, θe )"
   ]
  },
  {
   "cell_type": "markdown",
   "id": "7fd86325",
   "metadata": {},
   "source": [
    "### 3.2.3 地面からの反射日射\n",
    "地面からの反射日射は、地面が均等拡散面であると仮定し以下のように与える。\n",
    "$$\n",
    "    J_r = \\rho J_H \\Bigl( \\frac{  1 - \\cos \\theta_e }{ 2 } \\Bigl )\n",
    "$$"
   ]
  },
  {
   "cell_type": "code",
   "execution_count": 16,
   "id": "90e5f4d1",
   "metadata": {},
   "outputs": [
    {
     "data": {
      "text/plain": [
       "cal_reflected_solar_radiation_by_ground (generic function with 2 methods)"
      ]
     },
     "metadata": {},
     "output_type": "display_data"
    }
   ],
   "source": [
    "function cal_reflected_solar_radiation_by_ground( rho::Float64, SOLDN::Float64, SOLSN::Float64, θe::Float64 )\n",
    "    return rho * ( SOLSN + SOLDN ) * ( ( 1.0 - cos( θe / (180 / pi) ) ) / 2.0 )\n",
    "end\n",
    "cal_reflected_solar_radiation_by_ground(; SOLDN::Float64, SOLSN::Float64, θe::Float64, rho::Float64 = 0.2 ) = cal_reflected_solar_radiation_by_ground( rho, SOLDN, SOLSN, θe )"
   ]
  },
  {
   "cell_type": "markdown",
   "id": "b2c71315",
   "metadata": {},
   "source": [
    "## 4. 夜間放射の計算式"
   ]
  },
  {
   "cell_type": "markdown",
   "id": "f7ba715b",
   "metadata": {},
   "source": [
    "### 4.1 放射（輻射）の基礎式"
   ]
  },
  {
   "cell_type": "markdown",
   "id": "5af3d4c2",
   "metadata": {},
   "source": [
    "物体からの放射熱量は一般に以下のように表される。\n",
    "$$\n",
    "    Q_r = \\varepsilon \\sigma T^{4}\n",
    "$$\n",
    "\n",
    "- $T$：温度[K]\n",
    "- $\\varepsilon$：物質の長波放射率[-]\n",
    "- $\\sigma$：ステファンボルツマン定数[W/m<sup>-2</sup>K<sup>4</sup>]"
   ]
  },
  {
   "cell_type": "code",
   "execution_count": 17,
   "id": "45224876",
   "metadata": {},
   "outputs": [
    {
     "data": {
      "text/plain": [
       "cal_flux_thermal_radiation (generic function with 1 method)"
      ]
     },
     "metadata": {},
     "output_type": "display_data"
    }
   ],
   "source": [
    "function cal_flux_thermal_radiation( temp::Float64, ε::Float64 )\n",
    "    return ε * temp ^ 4 * 5.67e-8\n",
    "end"
   ]
  },
  {
   "cell_type": "markdown",
   "id": "04871495",
   "metadata": {},
   "source": [
    "### 4.2 大気放射"
   ]
  },
  {
   "cell_type": "markdown",
   "id": "f0b76cb4",
   "metadata": {},
   "source": [
    "Bruntの式は、地表面からの長波放射とそれに対する大気の放射効果（大気放射）を評価するために用いられる経験式の一つである。  \n",
    "参考：高橋尚人ら, \"曇天時における大気放射量推定に関する研究\", 雪氷研究大会（2013）  \n",
    "\n",
    "Bruntは水蒸気圧に応じた大気の放射率の表現として以下の形を提案している。\n",
    "$$\n",
    "    \\varepsilon_a = a + b \\sqrt{f}\n",
    "$$\n",
    "\n",
    "- $f$：水蒸気圧[Pa]  \n",
    "\n",
    "なお、a, bは経験定数であり地域が条件により異なる。  \n",
    "例えば、山本・Bruntの式の場合、大気放射は以下のように与えられる。\n",
    "\n",
    "$$\n",
    "    Q_{ra} = \\sigma T_{a}^{4} ( 0.51 + 0.0066 \\sqrt{f} )\n",
    "$$\n",
    "\n"
   ]
  },
  {
   "cell_type": "code",
   "execution_count": 18,
   "id": "e4500e33",
   "metadata": {},
   "outputs": [
    {
     "data": {
      "text/plain": [
       "cal_flux_thermal_radiation_in_atmospher_cloudless (generic function with 1 method)"
      ]
     },
     "metadata": {},
     "output_type": "display_data"
    }
   ],
   "source": [
    "function cal_flux_thermal_radiation_in_atmospher_cloudless( temp::Float64, f::Float64 )\n",
    "    return 5.67e-8 * temp ^4 * ( 0.51 + 0.0066 * f^(1/2) ) \n",
    "end"
   ]
  },
  {
   "cell_type": "markdown",
   "id": "5f88843c",
   "metadata": {},
   "source": [
    "ただし、Bruntの式は晴天時を対象とした式である。  \n",
    "そのため、曇天時長波放射量推定式がいくつか提案されており、ここでは以下に示すSellersの式を用いる。\n",
    "\n",
    "$$\n",
    "    Q_{ra}^{'} = 0.75 n^2 \\sigma T_{a}^{4} + Q_{ra} ( 1 - 0.75 n^2 )\n",
    "$$\n",
    "\n",
    "- $n$：（下層）雲量  \n",
    "\n",
    "※ただし、雲量は通常0~10の値を取るため、最大で1となるよう補正した。"
   ]
  },
  {
   "cell_type": "code",
   "execution_count": 19,
   "id": "2d86ca38",
   "metadata": {},
   "outputs": [
    {
     "data": {
      "text/plain": [
       "cal_flux_thermal_radiation_in_atmospher_cloudy (generic function with 1 method)"
      ]
     },
     "metadata": {},
     "output_type": "display_data"
    }
   ],
   "source": [
    "function cal_flux_thermal_radiation_in_atmospher_cloudy( temp::Float64, f::Float64, n::Int )\n",
    "    return 0.75 * (n/10)^2 * 5.67e-8 * temp ^4 + ( 1.0 - 0.75 * (n/10)^2 ) * cal_flux_thermal_radiation_in_atmospher_cloudless( temp, f )\n",
    "end"
   ]
  },
  {
   "cell_type": "markdown",
   "id": "80ce113c",
   "metadata": {},
   "source": [
    "#### 4.3 傾斜角を考慮した実効放射"
   ]
  },
  {
   "cell_type": "markdown",
   "id": "a686c304",
   "metadata": {},
   "source": [
    "傾斜面の場合、天空率が変化するため実効放射には形態係数を乗じる必要がある。  \n",
    "周辺地盤および建物の表面温度が計算対象の壁面表面温度と同一であると仮定すれば、傾斜角$\\beta$の面の実効放射以下のように与えられる。  \n",
    "\n",
    "$$\n",
    "    J_{er} = \\phi J_{er}^{'} = \\Bigl( \\frac{ 1 + \\cos \\theta_e }{ 2 } \\Bigl ) J_{er}^{'}\n",
    "$$\n",
    "\n",
    "なお、$\\phi$は形態係数である。  "
   ]
  },
  {
   "cell_type": "markdown",
   "id": "5b00cf9e",
   "metadata": {},
   "source": [
    "また壁面に入射する正味の熱放射は与式より以下のように与えられる。  \n",
    "\n",
    "$$\n",
    "    J_{er}^{'} = Q_{ra}^{'} - Q_r\n",
    "$$\n",
    "\n",
    "従って、壁面における実効放射は以下のように与えられる。\n",
    "\n",
    "$$\n",
    "    J_{er} = \\Bigl( \\frac{ 1 + \\cos \\theta_e }{ 2 } \\Bigl ) ( Q_{ra}^{'} - Q_r )\n",
    "$$"
   ]
  },
  {
   "cell_type": "code",
   "execution_count": 20,
   "id": "05096b0e",
   "metadata": {},
   "outputs": [
    {
     "data": {
      "text/plain": [
       "cal_effective_thermal_radiation_at_wall (generic function with 2 methods)"
      ]
     },
     "metadata": {},
     "output_type": "display_data"
    }
   ],
   "source": [
    "function cal_effective_thermal_radiation_at_wall( temp_wall::Float64, temp_air::Float64, ε::Float64, pv::Float64, n::Int, θe::Float64 )\n",
    "    Qr      = cal_flux_thermal_radiation( temp_wall, ε )\n",
    "    Qrad    = cal_flux_thermal_radiation_in_atmospher_cloudy( temp_air, pv, n )\n",
    "    return ( ( 1.0 + cos( θe / (180 / pi) ) ) / 2.0 ) * ( Qrad - Qr )\n",
    "end\n",
    "\n",
    "cal_effective_thermal_radiation_at_wall(; temp_wall::Float64, temp_air::Float64, ε::Float64, pv::Float64, n::Int, θe::Float64 ) = cal_effective_thermal_radiation_at_wall( temp_wall, temp_air, ε, pv, n, θe )"
   ]
  },
  {
   "cell_type": "code",
   "execution_count": 21,
   "id": "5a8926d1",
   "metadata": {},
   "outputs": [],
   "source": []
  }
 ],
 "metadata": {
  "kernelspec": {
   "display_name": "Julia 1.11.0",
   "language": "julia",
   "name": "julia-1.11"
  },
  "language_info": {
   "file_extension": ".jl",
   "mimetype": "application/julia",
   "name": "julia",
   "version": "1.11.0"
  }
 },
 "nbformat": 4,
 "nbformat_minor": 5
}
