{
 "cells": [
  {
   "cell_type": "code",
   "execution_count": 1,
   "metadata": {},
   "outputs": [
    {
     "name": "stderr",
     "output_type": "stream",
     "text": [
      "WARNING: replacing module Lewis_relation.\n",
      "WARNING: replacing module Lewis_relation.\n",
      "WARNING: replacing module Lewis_relation.\n",
      "WARNING: replacing module Lewis_relation.\n"
     ]
    },
    {
     "data": {
      "text/plain": [
       "aldm_by_alphac (generic function with 1 method)"
      ]
     },
     "metadata": {},
     "output_type": "display_data"
    }
   ],
   "source": [
    "include(\"cell.jl\")\n",
    "include(\"air.jl\")\n",
    "include(\"boundary_condition.jl\")\n",
    "#include(\"wall.jl\")"
   ]
  },
  {
   "cell_type": "markdown",
   "metadata": {},
   "source": [
    "\n",
    "# 1. Heat and Mass Transferモジュール\n",
    "\n",
    "【概要】  \n",
    "多孔質材料中における熱水分同時移動計算は、\n",
    "- 熱水分移動の支配方程式\n",
    "- 材料の熱水分状態量と物性値の関係\n",
    "- 差分法による数値計算\n",
    "- Lewis関係など空気（流体）の移動力学\n",
    "など多様な要素から構成される。  \n",
    "\n",
    "本モジュールは中でも前進型有限差分法による熱水分移動を記述するためのモジュールである。 "
   ]
  },
  {
   "cell_type": "markdown",
   "metadata": {
    "jp-MarkdownHeadingCollapsed": true,
    "tags": []
   },
   "source": [
    "\n",
    "- $q_s$ 熱流（固体熱伝導）[J/m2s]\n",
    "- $j_v$ 水蒸気流 [kg/m2s]\n",
    "- $j_l$ 液水流 [kg/m2s]\n",
    "  "
   ]
  },
  {
   "cell_type": "markdown",
   "metadata": {},
   "source": [
    "\n",
    "## Appendix.） 事前準備：物性値の平均化方法   \n",
    "差分法では流量を計算するにあたり、2質点間の物性値が必要となるが、2質点間の物性値は通常各質点における物性値を平均化することで得られる。  \n",
    "以下では物性値の平均化方法について以下の2通りを示す。"
   ]
  },
  {
   "cell_type": "markdown",
   "metadata": {},
   "source": [
    "### A.1 調和平均  \n",
    "\n",
    "2質点間の物性値が大きく異なる際に採用される平均化方法である。  \n",
    "2質点間の流れが定常と仮定すると、その間の物性値は調和平均を用いて以下のように与えられる。  \n",
    "\n",
    "熱伝導抵抗：  $R[m^2K/W] =\\frac{ dx_{l+1} } { \\lambda_{l+1} } + \\frac{ dx_{l} }{ \\lambda_{l} }  $  \n",
    "\n",
    "これは熱抵抗と同様の考え方であり、各質点の物性値の抵抗値の和として表すことができる。  \n",
    "\n",
    "同様に水分に関しても抵抗値の和として計算することで物性値を平均化することができる。  \n",
    "ここで熱伝導率・水分伝導率を合わせて$\\lambda$と表記すると、平均の伝導率は以下のように表すことができる。  \n",
    "\n",
    "平均の伝導率：  $\\lambda =\\frac{ dx_{l+1} + dx_{l} }{\\frac{ dx_{l+1} } { \\lambda_{l+1} } + \\frac{ dx_{l} }{ \\lambda_{l} } } $  \n"
   ]
  },
  {
   "cell_type": "code",
   "execution_count": 2,
   "metadata": {},
   "outputs": [
    {
     "data": {
      "text/plain": [
       "sum_resistance (generic function with 1 method)"
      ]
     },
     "metadata": {},
     "output_type": "display_data"
    }
   ],
   "source": [
    "# 抵抗値の平均化\n",
    "function sum_resistance( ;val_mns::Float64, val_pls::Float64, len_mns::Float64, len_pls::Float64 );\n",
    "    #if val_mns <= 0 or val_pls <= 0:\n",
    "    #    lam = 0.0 \n",
    "    #else:\n",
    "    return (len_mns + len_pls) / ( len_mns / val_mns + len_pls / val_pls )\n",
    "end"
   ]
  },
  {
   "cell_type": "markdown",
   "metadata": {},
   "source": [
    "### A.2 加重平均あるいは算術平均\n",
    "一方でセルの長さに応じた物性値の加重平均を取るという考え方もある。  \n",
    "この平均化の仕方は一方の伝導率が他方に比べあまりにも値が小さく、現実にそぐわない場合などに用いられる。\n",
    "\n",
    "物性値の加重平均：　　$\\lambda_{ave}=\\frac{\\lambda_{l+1} dx_{l+1} + \\lambda_{l} dx_{l} }{ dx_{l+1} + dx_{l} }$  \n"
   ]
  },
  {
   "cell_type": "code",
   "execution_count": 3,
   "metadata": {},
   "outputs": [
    {
     "data": {
      "text/plain": [
       "cal_transmittance (generic function with 1 method)"
      ]
     },
     "metadata": {},
     "output_type": "display_data"
    }
   ],
   "source": [
    "# 加重平均による平均化\n",
    "function cal_mean_average( ;val_mns::Float64, val_pls::Float64, len_mns::Float64, len_pls::Float64 );\n",
    "    return ( val_mns * len_mns + val_pls * len_pls ) / ( len_mns + len_pls )\n",
    "end\n",
    "\n",
    "# （境界面）貫流値として足し合わせる場合\n",
    "function cal_transmittance( ;alpha::Float64, lam::Float64, dx2::Float64 )\n",
    "    return ( 1.0 ) / ( 1.0 / alpha + dx / ( 2.0 * lam ) )\n",
    "end"
   ]
  },
  {
   "cell_type": "markdown",
   "metadata": {},
   "source": [
    "\n",
    "# 2. 熱流 \n"
   ]
  },
  {
   "cell_type": "markdown",
   "metadata": {},
   "source": [
    "## 2.1 熱伝導（フーリエの法則）  \n",
    "### 2.1.1 基礎方程式\n",
    "定義：$\\dot q = -\\lambda\\nabla・T$  \n",
    "$\\dot q$：単位時間当たりの熱流量の密度[W/m2]  \n",
    "$\\lambda$：熱伝導率[W/mK]  \n",
    "$T$：絶対温度[K]  "
   ]
  },
  {
   "cell_type": "code",
   "execution_count": 4,
   "metadata": {},
   "outputs": [
    {
     "data": {
      "text/plain": [
       "cal_heat_conduction (generic function with 1 method)"
      ]
     },
     "metadata": {},
     "output_type": "display_data"
    }
   ],
   "source": [
    "# $$$$$$ 熱 $$$$$$\n",
    "# 熱伝導：基礎式\n",
    "cal_heat_conduction( ;lam::Float64, dtemp::Float64, dx2::Float64 ) = - lam * dtemp / dx2"
   ]
  },
  {
   "cell_type": "markdown",
   "metadata": {},
   "source": [
    "### 2.1.2 差分化方程式\n",
    "#### その１）調和平均による計算  \n",
    "定義：$\\dot q = -\\lambda_{ave.} \\frac{T_{l+1}-T_{l}} {dx_{l+1}+dx_{l}}$  \n",
    "$\\lambda_{ave.}$：平均の熱伝導率  \n",
    "$l, l+1$：ある点のセル・隣接する点のセル  \n",
    "$dx$：セルの質点からセル境界までの距離"
   ]
  },
  {
   "cell_type": "code",
   "execution_count": 5,
   "metadata": {},
   "outputs": [
    {
     "data": {
      "text/plain": [
       "cal_heat_conduction_diff (generic function with 1 method)"
      ]
     },
     "metadata": {},
     "output_type": "display_data"
    }
   ],
   "source": [
    "# 差分方程式（質点の位置に注意）\n",
    "function cal_heat_conduction_diff( ;lam_mns::Float64, lam_pls::Float64, temp_mns::Float64, temp_pls::Float64, dx2_mns::Float64, dx2_pls::Float64 )\n",
    "    lam = sum_resistance( val_mns = lam_mns, val_pls = lam_pls, len_mns = dx2_mns, len_pls = dx2_pls )\n",
    "    return cal_heat_conduction( lam = lam, dtemp = temp_pls - temp_mns, dx2 = dx2_mns + dx2_pls )\n",
    "end"
   ]
  },
  {
   "cell_type": "markdown",
   "metadata": {
    "tags": []
   },
   "source": [
    "#### その２）加重平均による計算  "
   ]
  },
  {
   "cell_type": "code",
   "execution_count": 6,
   "metadata": {},
   "outputs": [
    {
     "data": {
      "text/plain": [
       "cal_heat_conduction_diff_meanAve (generic function with 1 method)"
      ]
     },
     "metadata": {},
     "output_type": "display_data"
    }
   ],
   "source": [
    "# 加重平均による計算方法\n",
    "function cal_heat_conduction_diff_meanAve( ;lam_mns::Float64, lam_pls::Float64, temp_mns::Float64, temp_pls::Float64, dx2_mns::Float64, dx2_pls::Float64 )\n",
    "    lam = cal_mean_average( val_mns = lam_mns, val_pls = lam_pls, len_mns = dx2_mns, len_pls = dx2_pls )\n",
    "    return cal_heat_conduction( lam = lam, dtemp = temp_pls - temp_mns, dx2 = dx2_mns + dx2_pls )\n",
    "end"
   ]
  },
  {
   "cell_type": "markdown",
   "metadata": {
    "tags": []
   },
   "source": [
    "### 2.1.3 構造体cellを用いた式\n",
    "        \n",
    "引数（キーワード引数）：  \n",
    "- cell_mns: mns側に来るCell構造体を入力\n",
    "- cell_pls: pls側に来るCell構造体を入力\n",
    "\n",
    "戻り値：\n",
    "- 実数Float64（熱流量）\n",
    "\n",
    "※調和平均を採用"
   ]
  },
  {
   "cell_type": "code",
   "execution_count": null,
   "metadata": {},
   "outputs": [
    {
     "data": {
      "text/plain": [
       "cal_q (generic function with 2 methods)"
      ]
     },
     "metadata": {},
     "output_type": "display_data"
    }
   ],
   "source": [
    "function cal_q( cell_mns::Cell, cell_pls::Cell )\n",
    "    return cal_heat_conduction_diff( lam_mns = lam(cell_mns), lam_pls= lam(cell_pls), \n",
    "        temp_mns = temp(cell_mns), temp_pls = temp(cell_pls), \n",
    "        dx2_mns = dx(cell_mns) - dx2(cell_mns), dx2_pls = dx2(cell_pls) )\n",
    "end\n",
    "cal_q(;cell_mns, cell_pls ) = cal_q( cell_mns, cell_pls )"
   ]
  },
  {
   "cell_type": "markdown",
   "metadata": {},
   "source": [
    "#### 多次元計算用"
   ]
  },
  {
   "cell_type": "code",
   "execution_count": null,
   "metadata": {},
   "outputs": [
    {
     "data": {
      "text/plain": [
       "cal_qy (generic function with 2 methods)"
      ]
     },
     "metadata": {},
     "output_type": "display_data"
    }
   ],
   "source": [
    "# x軸方向\n",
    "function cal_qx( cell_mns::Cell, cell_pls::Cell )\n",
    "    return cal_heat_conduction_diff( lam_mns = lam(cell_mns), lam_pls= lam(cell_pls), \n",
    "        temp_mns = temp(cell_mns), temp_pls = temp(cell_pls), \n",
    "        dx2_mns = dx(cell_mns) - dx2(cell_mns), dx2_pls = dx2(cell_pls) )\n",
    "end\n",
    "cal_qx(;cell_mns, cell_pls ) = cal_qx( cell_mns, cell_pls )\n",
    "# y軸方向\n",
    "function cal_qy( cell_mns::Cell, cell_pls::Cell )\n",
    "    return cal_heat_conduction_diff( lam_mns = lam(cell_mns), lam_pls= lam(cell_pls), \n",
    "        temp_mns = temp(cell_mns), temp_pls = temp(cell_pls), \n",
    "        dx2_mns = dy(cell_mns) - dy2(cell_mns), dx2_pls = dy2(cell_pls) )\n",
    "end\n",
    "cal_qy(;cell_mns, cell_pls ) = cal_qy( cell_mns, cell_pls )\n",
    "# x軸方向\n",
    "function cal_qz( cell_mns::Cell, cell_pls::Cell )\n",
    "    return cal_heat_conduction_diff( lam_mns = lam(cell_mns), lam_pls= lam(cell_pls), \n",
    "        temp_mns = temp(cell_mns), temp_pls = temp(cell_pls), \n",
    "        dx2_mns = dz(cell_mns) - dz2(cell_mns), dx2_pls = dz2(cell_pls) )\n",
    "end\n",
    "cal_qy(;cell_mns, cell_pls ) = cal_qy( cell_mns, cell_pls )"
   ]
  },
  {
   "cell_type": "markdown",
   "metadata": {},
   "source": [
    "※cell間の物性値の計算方法として加重平均を採用する場合はこちら"
   ]
  },
  {
   "cell_type": "code",
   "execution_count": null,
   "metadata": {},
   "outputs": [
    {
     "data": {
      "text/plain": [
       "cal_q_meanAve (generic function with 2 methods)"
      ]
     },
     "metadata": {},
     "output_type": "display_data"
    }
   ],
   "source": [
    "function cal_q_meanAve( cell_mns::Cell, cell_pls::Cell )\n",
    "    return cal_heat_conduction_diff_meanAve( lam_mns = lam(cell_mns), lam_pls= lam(cell_pls), \n",
    "        temp_mns = temp(cell_mns), temp_pls = temp(cell_pls), \n",
    "        dx2_mns = dx(cell_mns) - dx2(cell_mns), dx2_pls = dx2(cell_pls) )\n",
    "end\n",
    "cal_q_meanAve(; cell_mns, cell_pls ) = cal_q_meanAve(cell_mns, cell_pls)"
   ]
  },
  {
   "cell_type": "markdown",
   "metadata": {},
   "source": [
    "## 2.2 熱伝達・熱貫流  \n",
    "### 2.2.1 基礎方程式\n",
    "\n",
    "定義：$\\dot q = \\alpha(T_{air} - T_{wall})$  \n",
    "空気に接する壁表面には空気の熱伝達層が存在すると考えた場合、もしくは質点間の熱貫流率として計算した場合の熱流。  \n",
    "ここでは便宜上、空気と壁表面の熱伝達を想定し、空気から壁表面への熱流を正とした。\n",
    "\n",
    "$\\dot q$：単位時間当たりの熱流量の密度[W/m2]  ]\n",
    "$\\alpha$：熱伝達率・熱貫流率[W/m2K]  \n",
    "$T_{air}$：空気の絶対温度[K]  \n",
    "$T_{wall}$：壁表面の絶対温度[K]  "
   ]
  },
  {
   "cell_type": "code",
   "execution_count": 10,
   "metadata": {},
   "outputs": [
    {
     "data": {
      "text/plain": [
       "cal_heat_transfer (generic function with 1 method)"
      ]
     },
     "metadata": {},
     "output_type": "display_data"
    }
   ],
   "source": [
    "######################\n",
    "# 熱伝達：基礎式\n",
    "cal_heat_transfer( ;alpha::Float64, dtemp::Float64 ) = - alpha *  dtemp"
   ]
  },
  {
   "cell_type": "markdown",
   "metadata": {},
   "source": [
    "### 2.2.2 差分化方程式"
   ]
  },
  {
   "cell_type": "code",
   "execution_count": 11,
   "metadata": {},
   "outputs": [
    {
     "data": {
      "text/plain": [
       "cal_heat_transfer_diff (generic function with 1 method)"
      ]
     },
     "metadata": {},
     "output_type": "display_data"
    }
   ],
   "source": [
    "#cal_heat_transfer( ;alpha::Float64, temp_mns::Float64, temp_pls::Float64 ) = cal_heat_transfer( alpha = alpha, dtemp = temp_pls - temp_mns )\n",
    "cal_heat_transfer_diff( ;alpha::Float64, temp_mns::Float64, temp_pls::Float64 ) = cal_heat_transfer( alpha = alpha, dtemp = temp_pls - temp_mns )"
   ]
  },
  {
   "cell_type": "markdown",
   "metadata": {},
   "source": [
    "あるいは、質点の位置に応じて下記のような記述方法が出来る。"
   ]
  },
  {
   "cell_type": "code",
   "execution_count": 12,
   "metadata": {},
   "outputs": [
    {
     "data": {
      "text/plain": [
       "cal_heat_transfer_mnswall (generic function with 1 method)"
      ]
     },
     "metadata": {},
     "output_type": "display_data"
    }
   ],
   "source": [
    "# 質点が材料内部にある場合（壁は右（pls）側）\n",
    "function cal_heat_transfer_plswall( ;alpha_mns::Float64, lam_pls::Float64, temp_mns::Float64, temp_pls::Float64, dx2_pls::Float64 );\n",
    "    alpha = cal_transmittance( alpha = alpha_mns, lam = lam_pls, dx2 = dx2_pls )\n",
    "    return cal_heat_transfer( alpha = alpha, dtemp = temp_pls - temp_mns )\n",
    "end\n",
    "\n",
    "# 質点が材料内部にある場合（壁は左（mns）側）\n",
    "function cal_heat_transfer_mnswall( ;alpha_pls::Float64, lam_mns::Float64, temp_mns::Float64, temp_pls::Float64, dx2_mns::Float64 );\n",
    "    alpha = cal_transmittance( alpha = alpha_pls, lam = lam_mns, dx2 = dx2_mns )\n",
    "    return cal_heat_transfer( alpha = alpha, dtemp = temp_pls - temp_mns )\n",
    "end"
   ]
  },
  {
   "cell_type": "markdown",
   "metadata": {
    "tags": []
   },
   "source": [
    "### 2.2.3 構造体cellを用いた式\n",
    "        \n",
    "引数（キーワード引数）：  \n",
    "- cell_mns: mns側に来るCellあるいはBC_Robin構造体を入力\n",
    "- cell_pls: pls側に来るCellあるいはBC_Robin構造体を入力\n",
    "\n",
    "なお、境界面における熱伝達は空気がpls側かmns側のどちらに来るかで計算式が変化する。  \n",
    "そのためここでは多重ディスパッチを用いることでこの問題を解消した。  \n",
    "（以下はmns側が空気の場合）\n",
    "\n",
    "戻り値：\n",
    "- 実数Float64（熱流量）\n",
    "\n",
    "※調和平均を採用"
   ]
  },
  {
   "cell_type": "code",
   "execution_count": null,
   "metadata": {},
   "outputs": [
    {
     "data": {
      "text/plain": [
       "cal_qz (generic function with 3 methods)"
      ]
     },
     "metadata": {},
     "output_type": "display_data"
    }
   ],
   "source": [
    "# Cell-BC_Robin間\n",
    "# mns側が空気\n",
    "function cal_q( cell_mns::BC_Robin, cell_pls::Cell )\n",
    "    return cal_heat_transfer_diff( \n",
    "        alpha    = alpha(cell_mns), \n",
    "        temp_mns = temp(cell_mns.air), \n",
    "        temp_pls = temp(cell_pls) ) + cell_mns.q_added\n",
    "end\n",
    "cal_qx( cell_mns::BC_Robin, cell_pls::Cell ) = cal_q( cell_mns, cell_pls )\n",
    "cal_qy( cell_mns::BC_Robin, cell_pls::Cell ) = cal_q( cell_mns, cell_pls )\n",
    "cal_qz( cell_mns::BC_Robin, cell_pls::Cell ) = cal_q( cell_mns, cell_pls )\n",
    "\n",
    "# pls側が空気\n",
    "function cal_q( cell_mns::Cell, cell_pls::BC_Robin )\n",
    "    return cal_heat_transfer_diff( \n",
    "        alpha    = alpha(cell_pls), \n",
    "        temp_mns = temp(cell_mns), \n",
    "        temp_pls = temp(cell_pls.air) ) - cell_pls.q_added\n",
    "end\n",
    "cal_qx( cell_mns::Cell, cell_pls::BC_Robin ) = cal_q( cell_mns, cell_pls )\n",
    "cal_qy( cell_mns::Cell, cell_pls::BC_Robin ) = cal_q( cell_mns, cell_pls )\n",
    "cal_qz( cell_mns::Cell, cell_pls::BC_Robin ) = cal_q( cell_mns, cell_pls )"
   ]
  },
  {
   "cell_type": "code",
   "execution_count": null,
   "metadata": {},
   "outputs": [
    {
     "data": {
      "text/plain": [
       "cal_qz (generic function with 9 methods)"
      ]
     },
     "metadata": {},
     "output_type": "display_data"
    }
   ],
   "source": [
    "# Cell-第一種境界条件間\n",
    "cal_q(  cell_mns::Cell, cell_pls::BC_Dirichlet ) = cal_q( cell_mns, cell_pls.cell )\n",
    "cal_q(  cell_mns::BC_Dirichlet, cell_pls::Cell ) = cal_q( cell_mns.cell, cell_pls )\n",
    "# Cell-第二種境界条件間\n",
    "cal_q(  cell_mns::Cell, cell_pls::BC_Neumann ) = cell_pls.q\n",
    "cal_q(  cell_mns::BC_Neumann, cell_pls::Cell ) = cell_mns.q\n",
    "# BC_Robin-BC_Robin間\n",
    "cal_q(  cell_mns::BC_Robin, cell_pls::BC_Robin ) = 0.0\n",
    "# 第二種境界条件-第二種境界条件間\n",
    "cal_q(  cell_mns::BC_Neumann, cell_pls::BC_Neumann ) = 0.0\n",
    "# BC_Robin-第二種境界条件間\n",
    "cal_q(  cell_mns::BC_Robin, cell_pls::BC_Neumann ) = 0.0\n",
    "cal_q(  cell_mns::BC_Neumann, cell_pls::BC_Robin ) = 0.0\n",
    "\n",
    "# 3次元用\n",
    "# Cell-第一種境界条件間\n",
    "cal_qx(  cell_mns::Cell, cell_pls::BC_Dirichlet ) = cal_q( cell_mns, cell_pls.cell )\n",
    "cal_qx(  cell_mns::BC_Dirichlet, cell_pls::Cell ) = cal_q( cell_mns.cell, cell_pls )\n",
    "cal_qy(  cell_mns::Cell, cell_pls::BC_Dirichlet ) = cal_q( cell_mns, cell_pls.cell )\n",
    "cal_qy(  cell_mns::BC_Dirichlet, cell_pls::Cell ) = cal_q( cell_mns.cell, cell_pls )\n",
    "cal_qz(  cell_mns::Cell, cell_pls::BC_Dirichlet ) = cal_q( cell_mns, cell_pls.cell )\n",
    "cal_qz(  cell_mns::BC_Dirichlet, cell_pls::Cell ) = cal_q( cell_mns.cell, cell_pls )\n",
    "# Cell-第二種境界条件間\n",
    "cal_qx(  cell_mns::Cell, cell_pls::BC_Neumann ) = cell_pls.q\n",
    "cal_qx(  cell_mns::BC_Neumann, cell_pls::Cell ) = cell_mns.q\n",
    "cal_qy(  cell_mns::Cell, cell_pls::BC_Neumann ) = cell_pls.q\n",
    "cal_qy(  cell_mns::BC_Neumann, cell_pls::Cell ) = cell_mns.q\n",
    "cal_qz(  cell_mns::Cell, cell_pls::BC_Neumann ) = cell_pls.q\n",
    "cal_qz(  cell_mns::BC_Neumann, cell_pls::Cell ) = cell_mns.q\n",
    "# BC_Robin-BC_Robin間\n",
    "cal_qx(  cell_mns::BC_Robin, cell_pls::BC_Robin ) = 0.0\n",
    "cal_qy(  cell_mns::BC_Robin, cell_pls::BC_Robin ) = 0.0\n",
    "cal_qz(  cell_mns::BC_Robin, cell_pls::BC_Robin ) = 0.0\n",
    "# 第二種境界条件-第二種境界条件間\n",
    "cal_qx(  cell_mns::BC_Neumann, cell_pls::BC_Neumann ) = 0.0\n",
    "cal_qy(  cell_mns::BC_Neumann, cell_pls::BC_Neumann ) = 0.0\n",
    "cal_qz(  cell_mns::BC_Neumann, cell_pls::BC_Neumann ) = 0.0\n",
    "# BC_Robin-第二種境界条件間\n",
    "cal_qx(  cell_mns::BC_Robin, cell_pls::BC_Neumann ) = 0.0\n",
    "cal_qx(  cell_mns::BC_Neumann, cell_pls::BC_Robin ) = 0.0\n",
    "cal_qy(  cell_mns::BC_Robin, cell_pls::BC_Neumann ) = 0.0\n",
    "cal_qy(  cell_mns::BC_Neumann, cell_pls::BC_Robin ) = 0.0\n",
    "cal_qz(  cell_mns::BC_Robin, cell_pls::BC_Neumann ) = 0.0\n",
    "cal_qz(  cell_mns::BC_Neumann, cell_pls::BC_Robin ) = 0.0"
   ]
  },
  {
   "cell_type": "markdown",
   "metadata": {},
   "source": [
    "### ※cal_qについて  \n",
    "cal_qは複数の関数が存在するが、多重ディスパッチで定義されるため、mnsとplsの引数の型に応じて適宜使用する関数が変化する。  \n",
    "従って、同一の名称として定義しても問題ない。"
   ]
  },
  {
   "cell_type": "markdown",
   "metadata": {},
   "source": [
    "\n",
    "# 3. 水蒸気移動  \n"
   ]
  },
  {
   "cell_type": "markdown",
   "metadata": {},
   "source": [
    "## 3.1 水蒸気流（水蒸気圧勾配・固体内）  \n",
    "### 3.1.1 基礎方程式\n",
    "定義：$J_v = -\\lambda^{'}_{p}\\nabla・P_v$  \n",
    "$J_v$：気相水分流量[kg/m2s]  \n",
    "$\\lambda^{'}_{p}$：水蒸気圧勾配に関する気相水分伝導率[kg/msPa]  \n",
    "$P_v$：水蒸気圧[Pa]  "
   ]
  },
  {
   "cell_type": "code",
   "execution_count": 15,
   "metadata": {},
   "outputs": [
    {
     "data": {
      "text/plain": [
       "cal_vapour_permeance_pressure (generic function with 1 method)"
      ]
     },
     "metadata": {},
     "output_type": "display_data"
    }
   ],
   "source": [
    "##############################################\n",
    "# $$$$$$ 湿気（水蒸気） $$$$$$\n",
    "# 湿気伝導（圧力差流れ）：基礎式\n",
    "cal_vapour_permeance_pressure( ;dp::Float64, dpv::Float64, dx2::Float64 ) = - dp * dpv / dx2"
   ]
  },
  {
   "cell_type": "markdown",
   "metadata": {},
   "source": [
    "### 3.1.2 差分化方程式"
   ]
  },
  {
   "cell_type": "code",
   "execution_count": 16,
   "metadata": {},
   "outputs": [
    {
     "data": {
      "text/plain": [
       "cal_vapour_permeance_pressure_diff (generic function with 1 method)"
      ]
     },
     "metadata": {},
     "output_type": "display_data"
    }
   ],
   "source": [
    "# 差分方程式\n",
    "function cal_vapour_permeance_pressure_diff( ;dp_mns::Float64, dp_pls::Float64, pv_mns::Float64, pv_pls::Float64, dx2_mns::Float64, dx2_pls::Float64 )\n",
    "    dp = sum_resistance( val_mns = dp_mns, val_pls = dp_pls, len_mns = dx2_mns, len_pls = dx2_pls )\n",
    "    return cal_vapour_permeance_pressure( dp = dp, dpv = pv_pls - pv_mns, dx2 = dx2_mns + dx2_pls )\n",
    "end"
   ]
  },
  {
   "cell_type": "markdown",
   "metadata": {},
   "source": [
    "## 3.2水蒸気流（水分化学ポテンシャル・温度勾配・固体内）  \n",
    "### 3.2.1 基礎方程式\n",
    "定義：$J_v = -\\lambda ^{'}_{\\mu g}\\nabla \\mu - \\lambda ^{'}_{T g}\\nabla T$  \n",
    "$J_v$：気相水分流量[kg/m2s]  \n",
    "$\\mu$：水分化学ポテンシャル[J/kg]  \n",
    "$T$：絶対温度[K]  \n",
    "$\\lambda ^{'}_{\\mu g}$：水分化学ポテンシャル勾配に対する気相水分伝導率[kg/ms(J/kg)]  \n",
    "$\\lambda ^{'}_{T g}$：温度勾配に対する気相水分伝導率[kg/ms(K)]  "
   ]
  },
  {
   "cell_type": "code",
   "execution_count": 17,
   "metadata": {},
   "outputs": [
    {
     "data": {
      "text/plain": [
       "cal_vapour_permeance_potential (generic function with 1 method)"
      ]
     },
     "metadata": {},
     "output_type": "display_data"
    }
   ],
   "source": [
    "# 湿気伝導（水分化学ポテンシャル流れ）\n",
    "cal_vapour_permeance_potential( ;ldmg::Float64, ldtg::Float64, dmiu::Float64, dtemp::Float64, dx2::Float64 ) = - ( ldmg * dmiu / dx2 + ldtg * dtemp / dx2 )"
   ]
  },
  {
   "cell_type": "markdown",
   "metadata": {},
   "source": [
    "### 3.2.2 差分化方程式"
   ]
  },
  {
   "cell_type": "code",
   "execution_count": 18,
   "metadata": {},
   "outputs": [
    {
     "data": {
      "text/plain": [
       "cal_vapour_permeance_potential_diff_meanAve (generic function with 1 method)"
      ]
     },
     "metadata": {},
     "output_type": "display_data"
    }
   ],
   "source": [
    "# 差分方程式\n",
    "function cal_vapour_permeance_potential_diff( ;ldmg_mns::Float64, ldmg_pls::Float64, ldtg_mns::Float64, ldtg_pls::Float64, miu_mns::Float64, miu_pls::Float64, temp_mns::Float64, temp_pls::Float64, dx2_mns::Float64, dx2_pls::Float64 )\n",
    "    ldmg = sum_resistance( val_mns = ldmg_mns, val_pls = ldmg_pls, len_mns = dx2_mns, len_pls = dx2_pls )\n",
    "    ldtg = sum_resistance( val_mns = ldtg_mns, val_pls = ldtg_pls, len_mns = dx2_mns, len_pls = dx2_pls )\n",
    "    return cal_vapour_permeance_potential( ldmg = ldmg, ldtg = ldtg, dmiu = miu_pls - miu_mns, dtemp = temp_pls - temp_mns, dx2 = dx2 = dx2_mns + dx2_pls )\n",
    "end\n",
    "\n",
    "# 加重平均による計算方法\n",
    "function cal_vapour_permeance_potential_diff_meanAve( ;ldmg_mns::Float64, ldmg_pls::Float64, ldtg_mns::Float64, ldtg_pls::Float64, miu_mns::Float64, miu_pls::Float64, temp_mns::Float64, temp_pls::Float64, dx2_mns::Float64, dx2_pls::Float64 )\n",
    "    ldmg = cal_mean_average( val_mns = ldmg_mns, val_pls = ldmg_pls, len_mns = dx2_mns, len_pls = dx2_pls )\n",
    "    ldtg = cal_mean_average( val_mns = ldtg_mns, val_pls = ldtg_pls, len_mns = dx2_mns, len_pls = dx2_pls )\n",
    "    return cal_vapour_permeance_potential( ldmg = ldmg, ldtg = ldtg, dmiu = miu_pls - miu_mns, dtemp = temp_pls - temp_mns, dx2 = dx2 = dx2_mns + dx2_pls )\n",
    "end"
   ]
  },
  {
   "cell_type": "markdown",
   "metadata": {},
   "source": [
    "### 3.2.3 構造体cellを用いた式\n",
    "        \n",
    "引数（キーワード引数）：  \n",
    "- cell_mns: mns側に来るCell構造体を入力\n",
    "- cell_pls: pls側に来るCell構造体を入力\n",
    "\n",
    "戻り値：\n",
    "- 実数Float64（水蒸気流量）"
   ]
  },
  {
   "cell_type": "code",
   "execution_count": null,
   "metadata": {},
   "outputs": [
    {
     "data": {
      "text/plain": [
       "cal_jv (generic function with 2 methods)"
      ]
     },
     "metadata": {},
     "output_type": "display_data"
    }
   ],
   "source": [
    "function cal_jv( cell_mns::Cell, cell_pls::Cell )\n",
    "    cal_vapour_permeance_potential_diff(\n",
    "        ldmg_mns = ldmg(cell_mns), ldmg_pls = ldmg(cell_pls), \n",
    "        ldtg_mns = ldtg(cell_mns), ldtg_pls = ldtg(cell_pls), \n",
    "        miu_mns  = miu(cell_mns),  miu_pls  = miu(cell_pls), \n",
    "        temp_mns = temp(cell_mns), temp_pls = temp(cell_pls), \n",
    "        dx2_mns  = dx(cell_mns) - dx2(cell_mns), dx2_pls = dx2(cell_pls) )\n",
    "end\n",
    "cal_jv(; cell_mns, cell_pls ) = cal_jv(cell_mns, cell_pls)"
   ]
  },
  {
   "cell_type": "markdown",
   "metadata": {},
   "source": [
    "#### 多次元計算用"
   ]
  },
  {
   "cell_type": "code",
   "execution_count": null,
   "metadata": {},
   "outputs": [
    {
     "data": {
      "text/plain": [
       "cal_jvz (generic function with 2 methods)"
      ]
     },
     "metadata": {},
     "output_type": "display_data"
    }
   ],
   "source": [
    "# Cell-Cell間\n",
    "# x軸方向\n",
    "function cal_jvx( cell_mns::Cell, cell_pls::Cell )\n",
    "    cal_vapour_permeance_potential_diff(\n",
    "        ldmg_mns = ldmg(cell_mns), ldmg_pls = ldmg(cell_pls), \n",
    "        ldtg_mns = ldtg(cell_mns), ldtg_pls = ldtg(cell_pls), \n",
    "        miu_mns  = miu(cell_mns),  miu_pls  = miu(cell_pls), \n",
    "        temp_mns = temp(cell_mns), temp_pls = temp(cell_pls), \n",
    "        dx2_mns  = dx(cell_mns) - dx2(cell_mns), dx2_pls = dx2(cell_pls) )\n",
    "end\n",
    "cal_jvx(; cell_mns, cell_pls ) = cal_jvx(cell_mns, cell_pls)\n",
    "# y軸方向\n",
    "function cal_jvy( cell_mns::Cell, cell_pls::Cell )\n",
    "    cal_vapour_permeance_potential_diff(\n",
    "        ldmg_mns = ldmg(cell_mns), ldmg_pls = ldmg(cell_pls), \n",
    "        ldtg_mns = ldtg(cell_mns), ldtg_pls = ldtg(cell_pls), \n",
    "        miu_mns  = miu(cell_mns),  miu_pls  = miu(cell_pls), \n",
    "        temp_mns = temp(cell_mns), temp_pls = temp(cell_pls), \n",
    "        dx2_mns  = dy(cell_mns) - dy2(cell_mns), dx2_pls = dy2(cell_pls) )\n",
    "end\n",
    "cal_jvy(; cell_mns, cell_pls ) = cal_jvy(cell_mns, cell_pls)\n",
    "# x軸方向\n",
    "function cal_jvz( cell_mns::Cell, cell_pls::Cell )\n",
    "    cal_vapour_permeance_potential_diff(\n",
    "        ldmg_mns = ldmg(cell_mns), ldmg_pls = ldmg(cell_pls), \n",
    "        ldtg_mns = ldtg(cell_mns), ldtg_pls = ldtg(cell_pls), \n",
    "        miu_mns  = miu(cell_mns),  miu_pls  = miu(cell_pls), \n",
    "        temp_mns = temp(cell_mns), temp_pls = temp(cell_pls), \n",
    "        dx2_mns  = dz(cell_mns) - dz2(cell_mns), dx2_pls = dz2(cell_pls) )\n",
    "end\n",
    "cal_jvz(; cell_mns, cell_pls ) = cal_jvz(cell_mns, cell_pls)"
   ]
  },
  {
   "cell_type": "markdown",
   "metadata": {},
   "source": [
    "※cell間の物性値の計算方法として加重平均を採用する場合はこちら"
   ]
  },
  {
   "cell_type": "code",
   "execution_count": 21,
   "metadata": {},
   "outputs": [
    {
     "data": {
      "text/plain": [
       "cal_jv_meanAve (generic function with 2 methods)"
      ]
     },
     "metadata": {},
     "output_type": "display_data"
    }
   ],
   "source": [
    "function cal_jv_meanAve( cell_mns::Cell, cell_pls::Cell )\n",
    "    cal_vapour_permeance_potential_diff_meanAve( \n",
    "        ldmg_mns = ldmg(cell_mns), ldmg_pls = ldmg(cell_pls), \n",
    "        ldtg_mns = ldtg(cell_mns), ldtg_pls = ldtg(cell_pls), \n",
    "        miu_mns  = miu(cell_mns),  miu_pls  = miu(cell_pls), \n",
    "        temp_mns = temp(cell_mns), temp_pls = temp(cell_pls), \n",
    "        dx2_mns  = dx(cell_mns) - dx2(cell_mns), dx2_pls = dx2(cell_pls) )\n",
    "end\n",
    "cal_jv_meanAve(; cell_mns, cell_pls ) = cal_jv_meanAve( cell_mns, cell_pls)"
   ]
  },
  {
   "cell_type": "markdown",
   "metadata": {},
   "source": [
    "## 3.3 湿気伝達・湿気貫流  \n",
    "### 3.3.1 基礎方程式\n",
    "定義：$J_v = \\alpha^{'}_{m}(P_{v_{air}} - P_{v_{wall}})$  \n",
    "空気に接する壁表面には空気の湿気伝達層が存在すると考えた場合の水分流（水蒸気流）、もしくは質点間の湿気貫流率として計算した場合の水分流。  \n",
    "ここでは便宜上、空気と壁表面の水分伝達を想定し、空気から壁表面への水分流を正とした。\n",
    "\n",
    "$J_v$：単位時間当たりの水分流量[kg/m2s]  \n",
    "$\\alpha^{'}_{m}$：湿気伝達率[kg/m2s(Pa)]  \n",
    "$P_{v_{air}}$：空気の水蒸気圧[Pa]  \n",
    "$P_{v_{wall}}$：壁表面の水蒸気圧[Pa]  "
   ]
  },
  {
   "cell_type": "code",
   "execution_count": 22,
   "metadata": {},
   "outputs": [
    {
     "data": {
      "text/plain": [
       "cal_vapour_transfer_pressure (generic function with 1 method)"
      ]
     },
     "metadata": {},
     "output_type": "display_data"
    }
   ],
   "source": [
    "######################\n",
    "# 湿気伝達（圧力差流れ）\n",
    "cal_vapour_transfer_pressure( ;aldm::Float64, dpv::Float64 ) = - aldm * dpv"
   ]
  },
  {
   "cell_type": "markdown",
   "metadata": {},
   "source": [
    "### 3.3.2 差分化方程式"
   ]
  },
  {
   "cell_type": "code",
   "execution_count": 23,
   "metadata": {},
   "outputs": [
    {
     "data": {
      "text/plain": [
       "cal_vapour_transfer_pressure_diff (generic function with 1 method)"
      ]
     },
     "metadata": {},
     "output_type": "display_data"
    }
   ],
   "source": [
    "function cal_vapour_transfer_pressure_diff( ;aldm::Float64, pv_mns::Float64, pv_pls::Float64 );\n",
    "    return cal_vapour_transfer_pressure( aldm = aldm, dpv = pv_pls - pv_mns )\n",
    "end"
   ]
  },
  {
   "cell_type": "markdown",
   "metadata": {},
   "source": [
    "あるいは、質点の位置に応じて下記のような記述方法が出来る。"
   ]
  },
  {
   "cell_type": "code",
   "execution_count": 24,
   "metadata": {},
   "outputs": [
    {
     "data": {
      "text/plain": [
       "cal_vapour_transfer_pressure_mnswall (generic function with 1 method)"
      ]
     },
     "metadata": {},
     "output_type": "display_data"
    }
   ],
   "source": [
    "# 質点が材料内部にある場合（壁は右（pls）側）\n",
    "function cal_vapour_transfer_pressure_plswall( ;aldm_mns::Float64, dp_pls::Float64, pv_mns::Float64, pv_pls::Float64, dx2_pls::Float64 );\n",
    "    aldm = cal_transmittance( alpha = aldm_mns, lam = dp_pls, dx2 = dx2_pls )\n",
    "    return cal_vapour_transfer_pressure( aldm = aldm, dpv = pv_pls - pv_mns )\n",
    "end\n",
    "\n",
    "# 質点が材料内部にある場合（壁は左（mns）側）\n",
    "function cal_vapour_transfer_pressure_mnswall( ;aldm_pls::Float64, dp_mns::Float64, pv_mns::Float64, pv_pls::Float64, dx2_mns::Float64 );\n",
    "    aldm = cal_transmittance( alpha = aldm_pls, lam = dp_mns, dx2 = dx2_mns )\n",
    "    return cal_vapour_transfer_pressure( aldm = aldm, dpv = pv_pls - pv_mns )\n",
    "end"
   ]
  },
  {
   "cell_type": "markdown",
   "metadata": {},
   "source": [
    "### 3.3.3 構造体cellを用いた式 \n",
    "        \n",
    "引数（キーワード引数）：  \n",
    "- cell_mns: mns側に来るCellあるいはBC_Robin構造体を入力\n",
    "- cell_pls: pls側に来るCellあるいはBC_Robin構造体を入力\n",
    "\n",
    "戻り値：\n",
    "- 実数Float64（水蒸気流量）"
   ]
  },
  {
   "cell_type": "code",
   "execution_count": null,
   "metadata": {},
   "outputs": [
    {
     "data": {
      "text/plain": [
       "cal_jvz (generic function with 4 methods)"
      ]
     },
     "metadata": {},
     "output_type": "display_data"
    }
   ],
   "source": [
    "# Cell-BC_Robin間\n",
    "# mns側が空気\n",
    "function cal_jv( cell_mns::BC_Robin, cell_pls::Cell )\n",
    "    cal_vapour_transfer_pressure_diff( aldm = aldm(cell_mns), \n",
    "        pv_mns = pv(cell_mns.air), pv_pls = pv(cell_pls) ) + cell_mns.jv_added\n",
    "end\n",
    "cal_jvx( cell_mns::BC_Robin, cell_pls::Cell ) = cal_jv( cell_mns, cell_pls )\n",
    "cal_jvy( cell_mns::BC_Robin, cell_pls::Cell ) = cal_jv( cell_mns, cell_pls )\n",
    "cal_jvz( cell_mns::BC_Robin, cell_pls::Cell ) = cal_jv( cell_mns, cell_pls )\n",
    "\n",
    "# pls側が空気\n",
    "function cal_jv( cell_mns::Cell, cell_pls::BC_Robin )\n",
    "    cal_vapour_transfer_pressure_diff( aldm = aldm(cell_pls), \n",
    "        pv_mns = pv(cell_mns), pv_pls = pv(cell_pls.air) ) - cell_pls.jv_added\n",
    "end\n",
    "cal_jvx( cell_mns::Cell, cell_pls::BC_Robin ) = cal_jv( cell_mns, cell_pls )\n",
    "cal_jvy( cell_mns::Cell, cell_pls::BC_Robin ) = cal_jv( cell_mns, cell_pls )\n",
    "cal_jvz( cell_mns::Cell, cell_pls::BC_Robin ) = cal_jv( cell_mns, cell_pls )"
   ]
  },
  {
   "cell_type": "code",
   "execution_count": null,
   "metadata": {},
   "outputs": [
    {
     "data": {
      "text/plain": [
       "cal_jvz (generic function with 10 methods)"
      ]
     },
     "metadata": {},
     "output_type": "display_data"
    }
   ],
   "source": [
    "# Cell-第一種境界条件間\n",
    "cal_jv(  cell_mns::Cell, cell_pls::BC_Dirichlet ) = cal_jv( cell_mns, cell_pls.cell )\n",
    "cal_jv(  cell_mns::BC_Dirichlet, cell_pls::Cell ) = cal_jv( cell_mns.cell, cell_pls )\n",
    "# Cell-第二種境界条件間\n",
    "cal_jv(  cell_mns::Cell, cell_pls::BC_Neumann ) = cell_pls.jv\n",
    "cal_jv(  cell_mns::BC_Neumann, cell_pls::Cell ) = cell_mns.jv\n",
    "# BC_Robin-BC_Robin間\n",
    "cal_jv(  cell_mns::BC_Robin, cell_pls::BC_Robin ) = 0.0\n",
    "# 第二種境界条件-第二種境界条件間\n",
    "cal_jv(  cell_mns::BC_Neumann, cell_pls::BC_Neumann ) = 0.0\n",
    "# BC_Robin-第二種境界条件間\n",
    "cal_jv(  cell_mns::BC_Robin, cell_pls::BC_Neumann ) = 0.0\n",
    "cal_jv(  cell_mns::BC_Neumann, cell_pls::BC_Robin ) = 0.0\n",
    "\n",
    "# 3次元用\n",
    "# Cell-第一種境界条件間\n",
    "cal_jvx(  cell_mns::Cell, cell_pls::BC_Dirichlet ) = cal_jv( cell_mns, cell_pls.cell )\n",
    "cal_jvx(  cell_mns::BC_Dirichlet, cell_pls::Cell ) = cal_jv( cell_mns.cell, cell_pls )\n",
    "cal_jvy(  cell_mns::Cell, cell_pls::BC_Dirichlet ) = cal_jv( cell_mns, cell_pls.cell )\n",
    "cal_jvy(  cell_mns::BC_Dirichlet, cell_pls::Cell ) = cal_jv( cell_mns.cell, cell_pls )\n",
    "cal_jvz(  cell_mns::Cell, cell_pls::BC_Dirichlet ) = cal_jv( cell_mns, cell_pls.cell )\n",
    "cal_jvz(  cell_mns::BC_Dirichlet, cell_pls::Cell ) = cal_jv( cell_mns.cell, cell_pls )\n",
    "# Cell-第二種境界条件間\n",
    "cal_jvx(  cell_mns::Cell, cell_pls::BC_Neumann ) = cell_pls.jv\n",
    "cal_jvx(  cell_mns::BC_Neumann, cell_pls::Cell ) = cell_mns.jv\n",
    "cal_jvy(  cell_mns::Cell, cell_pls::BC_Neumann ) = cell_pls.jv\n",
    "cal_jvy(  cell_mns::BC_Neumann, cell_pls::Cell ) = cell_mns.jv\n",
    "cal_jvz(  cell_mns::Cell, cell_pls::BC_Neumann ) = cell_pls.jv\n",
    "cal_jvz(  cell_mns::BC_Neumann, cell_pls::Cell ) = cell_mns.jv\n",
    "# BC_Robin-BC_Robin間\n",
    "cal_jvx(  cell_mns::BC_Robin, cell_pls::BC_Robin ) = 0.0\n",
    "cal_jvy(  cell_mns::BC_Robin, cell_pls::BC_Robin ) = 0.0\n",
    "cal_jvz(  cell_mns::BC_Robin, cell_pls::BC_Robin ) = 0.0\n",
    "# 第二種境界条件-第二種境界条件間\n",
    "cal_jvx(  cell_mns::BC_Neumann, cell_pls::BC_Neumann ) = 0.0\n",
    "cal_jvy(  cell_mns::BC_Neumann, cell_pls::BC_Neumann ) = 0.0\n",
    "cal_jvz(  cell_mns::BC_Neumann, cell_pls::BC_Neumann ) = 0.0\n",
    "# BC_Robin-第二種境界条件間\n",
    "cal_jvx(  cell_mns::BC_Robin, cell_pls::BC_Neumann ) = 0.0\n",
    "cal_jvx(  cell_mns::BC_Neumann, cell_pls::BC_Robin ) = 0.0\n",
    "cal_jvy(  cell_mns::BC_Robin, cell_pls::BC_Neumann ) = 0.0\n",
    "cal_jvy(  cell_mns::BC_Neumann, cell_pls::BC_Robin ) = 0.0\n",
    "cal_jvz(  cell_mns::BC_Robin, cell_pls::BC_Neumann ) = 0.0\n",
    "cal_jvz(  cell_mns::BC_Neumann, cell_pls::BC_Robin ) = 0.0"
   ]
  },
  {
   "cell_type": "markdown",
   "metadata": {},
   "source": [
    "### Appendix.3) 水分化学ポテンシャルを用いた湿気伝達の式  \n",
    "\n",
    "※気液界面ではあまり使われない。  \n",
    "（微分の関係で誤差が大きくなるため。）"
   ]
  },
  {
   "cell_type": "code",
   "execution_count": 27,
   "metadata": {},
   "outputs": [
    {
     "data": {
      "text/plain": [
       "cal_vapour_transfer_potential_mnswall (generic function with 1 method)"
      ]
     },
     "metadata": {},
     "output_type": "display_data"
    }
   ],
   "source": [
    "######################\n",
    "# 湿気伝達（化学ポテンシャル差流れ）\n",
    "cal_vapour_transfer_potential( ;aldmg::Float64, aldtg::Float64, dmiu::Float64, dtemp::Float64 ) = - aldmg * dmiu - aldtg * dtemp\n",
    "\n",
    "function cal_vapour_transfer_potential_diff( ;aldmg::Float64, aldtg::Float64, miu_mns::Float64, miu_pls::Float64, temp_mns::Float64, temp_pls::Float64 );\n",
    "    return cal_vapour_transfer_potential( aldmg = aldmg, aldtg = aldtg, dmiu = miu_pls - miu_mns, dtemp = temp_pls - temp_mns )\n",
    "end\n",
    "\n",
    "# 質点が材料内部にある場合（壁は右（pls）側）\n",
    "function cal_vapour_transfer_potential_plswall( ;aldmg_mns::Float64, aldtg_mns::Float64, ldmg_pls::Float64, ldtg_pls::Float64, miu_mns::Float64, miu_pls::Float64, temp_mns::Float64, temp_pls::Float64, dx2_pls::Float64 );\n",
    "    aldmg = cal_transmittance( alpha = aldmg_mns, lam = ldmg_pls, dx2 = dx2_pls )\n",
    "    aldtg = cal_transmittance( alpha = aldtg_mns, lam = ldtg_pls, dx2 = dx2_pls )\n",
    "    return cal_vapour_transfer_potential( aldmg = aldmg, aldtg = aldtg, dmiu = miu_pls - miu_mns, dtemp = temp_pls - temp_mns )\n",
    "end\n",
    "\n",
    "# 質点が材料内部にある場合（壁は左（mns）側）\n",
    "function cal_vapour_transfer_potential_mnswall( ;aldmg_pls::Float64, aldtg_pls::Float64, ldmg_mns::Float64, ldtg_mns::Float64, miu_mns::Float64, miu_pls::Float64, temp_mns::Float64, temp_pls::Float64, dx2_mns::Float64 );\n",
    "    aldmg = cal_transmittance( alpha = aldmg_pls, lam = ldmg_mns, dx2 = dx2_pls )\n",
    "    aldtg = cal_transmittance( alpha = aldtg_pls, lam = ldtg_mns, dx2 = dx2_pls )\n",
    "    return cal_vapour_transfer_potential( aldmg = aldmg, aldtg = aldtg, dmiu = miu_pls - miu_mns, dtemp = temp_pls - temp_mns )\n",
    "end"
   ]
  },
  {
   "cell_type": "markdown",
   "metadata": {},
   "source": [
    "\n",
    "# 4. 液水移動  \n"
   ]
  },
  {
   "cell_type": "markdown",
   "metadata": {},
   "source": [
    "## 4.1 液水移動（水分化学ポテンシャル勾配・固体内）  \n",
    "### 4.1.1 基礎方程式\n",
    "定義：$J_l = -\\lambda^{'}_{\\mu_l}(\\nabla・\\mu - n_x g)$    \n",
    "\n",
    "$J_l$：液相水分流量[kg/m2s]  \n",
    "$\\lambda^{'}_{\\mu l}$：水分化学ポテンシャル勾配に関する液相水分伝導率[kg/ms(J/kg)]  \n",
    "$\\mu$：液水の化学ポテンシャル[J/kg]  \n",
    "$n_x$：重力加速度に対する応答（重力加速度に対して水平なら1、垂直なら0）"
   ]
  },
  {
   "cell_type": "code",
   "execution_count": 28,
   "metadata": {},
   "outputs": [
    {
     "data": {
      "text/plain": [
       "cal_liquid_conduction_potential (generic function with 1 method)"
      ]
     },
     "metadata": {},
     "output_type": "display_data"
    }
   ],
   "source": [
    "##############################################\n",
    "# $$$$$$ 水（液水） $$$$$$\n",
    "# 液水伝導：基礎式\n",
    "cal_liquid_conduction_potential( ;ldml::Float64, dmiu::Float64, dx2::Float64, nx = 0.0 ) = - ldml * ( dmiu / dx2 - nx * 9.806650 )"
   ]
  },
  {
   "cell_type": "markdown",
   "metadata": {},
   "source": [
    "### 4.1.2 差分化方程式"
   ]
  },
  {
   "cell_type": "code",
   "execution_count": 29,
   "metadata": {},
   "outputs": [
    {
     "data": {
      "text/plain": [
       "cal_liquid_conduction_potential_diff_meanAve (generic function with 1 method)"
      ]
     },
     "metadata": {},
     "output_type": "display_data"
    }
   ],
   "source": [
    "# 差分方程式\n",
    "function cal_liquid_conduction_potential_diff( ;ldml_mns::Float64, ldml_pls::Float64, miu_mns::Float64, miu_pls::Float64, dx2_mns::Float64, dx2_pls::Float64, nx = 0.0 ) # nxは特に指定が無い場合0\n",
    "    ldml = sum_resistance( val_mns = ldml_mns, val_pls = ldml_pls, len_mns = dx2_mns, len_pls = dx2_pls )\n",
    "    return cal_liquid_conduction_potential( ldml = ldml, dmiu = miu_pls - miu_mns, dx2 = dx2_mns + dx2_pls, nx = nx )\n",
    "end\n",
    "\n",
    "# 加重平均による計算方法\n",
    "function cal_liquid_conduction_potential_diff_meanAve( ;ldml_mns::Float64, ldml_pls::Float64, miu_mns::Float64, miu_pls::Float64, dx2_mns::Float64, dx2_pls::Float64, nx = 0.0 ) # nxは特に指定が無い場合0\n",
    "    ldml = cal_mean_average( val_mns = ldml_mns, val_pls = ldml_pls, len_mns = dx2_mns, len_pls = dx2_pls )\n",
    "    return cal_liquid_conduction_potential( ldml = ldml, dmiu = miu_pls - miu_mns, dx2 = dx2_mns + dx2_pls, nx = nx )\n",
    "end"
   ]
  },
  {
   "cell_type": "markdown",
   "metadata": {},
   "source": [
    "### 4.1.3 構造体cellを用いた式\n",
    "        \n",
    "引数（キーワード引数）：  \n",
    "- cell_mns: mns側に来るCell構造体を入力\n",
    "- cell_pls: pls側に来るCell構造体を入力\n",
    "- nx: 重力に対する応答方向を表す。水平の場合0、垂直方向の場合1であり、垂直下向きを正とする。  \n",
    "\n",
    "戻り値：\n",
    "- 実数Float64（液水流量）"
   ]
  },
  {
   "cell_type": "code",
   "execution_count": 30,
   "metadata": {},
   "outputs": [
    {
     "data": {
      "text/plain": [
       "cal_jl (generic function with 3 methods)"
      ]
     },
     "metadata": {},
     "output_type": "display_data"
    }
   ],
   "source": [
    "function cal_jl( cell_mns::Cell, cell_pls::Cell, nx = 0.0 )\n",
    "    cal_liquid_conduction_potential_diff( \n",
    "        ldml_mns = ldml(cell_mns), ldml_pls = ldml(cell_pls), \n",
    "        miu_mns = miu(cell_mns), miu_pls = miu(cell_pls), \n",
    "        dx2_mns = dx(cell_mns) - dx2(cell_mns), dx2_pls = dx2(cell_pls), nx = nx )\n",
    "end\n",
    "cal_jl(; cell_mns, cell_pls, nx = 0.0 ) = cal_jl(cell_mns, cell_pls, nx)"
   ]
  },
  {
   "cell_type": "markdown",
   "metadata": {},
   "source": [
    "#### 多次元計算用"
   ]
  },
  {
   "cell_type": "code",
   "execution_count": 31,
   "metadata": {},
   "outputs": [
    {
     "data": {
      "text/plain": [
       "cal_jlz (generic function with 3 methods)"
      ]
     },
     "metadata": {},
     "output_type": "display_data"
    }
   ],
   "source": [
    "# x軸方向\n",
    "function cal_jlx( cell_mns::Cell, cell_pls::Cell, nx = 0.0 )\n",
    "    cal_liquid_conduction_potential_diff( \n",
    "        ldml_mns = ldml(cell_mns), ldml_pls = ldml(cell_pls), \n",
    "        miu_mns = miu(cell_mns), miu_pls = miu(cell_pls), \n",
    "        dx2_mns = dx(cell_mns) - dx2(cell_mns), dx2_pls = dx2(cell_pls), nx = nx )\n",
    "end\n",
    "cal_jlx(; cell_mns, cell_pls, nx = 0.0 ) = cal_jlx(cell_mns, cell_pls, nx)\n",
    "# y軸方向\n",
    "function cal_jly( cell_mns::Cell, cell_pls::Cell, nx = 0.0 )\n",
    "    cal_liquid_conduction_potential_diff( \n",
    "        ldml_mns = ldml(cell_mns), ldml_pls = ldml(cell_pls), \n",
    "        miu_mns = miu(cell_mns), miu_pls = miu(cell_pls), \n",
    "        dx2_mns = dy(cell_mns) - dy2(cell_mns), dx2_pls = dy2(cell_pls), nx = nx )\n",
    "end\n",
    "cal_jly(; cell_mns, cell_pls, nx = 0.0 ) = cal_jly(cell_mns, cell_pls, nx)\n",
    "# x軸方向\n",
    "function cal_jlz( cell_mns::Cell, cell_pls::Cell, nx = 1.0 )\n",
    "    cal_liquid_conduction_potential_diff( \n",
    "        ldml_mns = ldml(cell_mns), ldml_pls = ldml(cell_pls), \n",
    "        miu_mns = miu(cell_mns), miu_pls = miu(cell_pls), \n",
    "        dx2_mns = dz(cell_mns) - dz2(cell_mns), dx2_pls = dz2(cell_pls), nx = nx )\n",
    "end\n",
    "cal_jlz(; cell_mns, cell_pls, nx = 1.0 ) = cal_jlz(cell_mns, cell_pls, nz)"
   ]
  },
  {
   "cell_type": "markdown",
   "metadata": {},
   "source": [
    "なお、液水は空気中は移動できないため、"
   ]
  },
  {
   "cell_type": "code",
   "execution_count": null,
   "metadata": {},
   "outputs": [
    {
     "data": {
      "text/plain": [
       "cal_jlz (generic function with 19 methods)"
      ]
     },
     "metadata": {},
     "output_type": "display_data"
    }
   ],
   "source": [
    "# 1次元用\n",
    "# Cell-第一種境界条件間\n",
    "cal_jl(  cell_mns::Cell, cell_pls::BC_Dirichlet, nx = 0.0 ) = cal_jl( cell_mns, cell_pls.cell, nx )\n",
    "cal_jl(  cell_mns::BC_Dirichlet, cell_pls::Cell, nx = 0.0 ) = cal_jl( cell_mns.cell, cell_pls, nx )\n",
    "# Cell-BC_Robin間\n",
    "cal_jl(  cell_mns::BC_Robin, cell_pls::Cell, nx = 0.0 ) = cell_mns.jl_added\n",
    "cal_jl(  cell_mns::Cell, cell_pls::BC_Robin, nx = 0.0 ) = - cell_pls.jl_added\n",
    "# Cell-第二種境界条件間\n",
    "cal_jl(  cell_mns::Cell, cell_pls::BC_Neumann, nx = 0.0 ) = cell_pls.jl\n",
    "cal_jl(  cell_mns::BC_Neumann, cell_pls::Cell, nx = 0.0 ) = cell_mns.jl\n",
    "# BC_Robin-BC_Robin間\n",
    "cal_jl(  cell_mns::BC_Robin, cell_pls::BC_Robin, nx = 0.0 ) = 0.0\n",
    "# 第二種境界条件-第二種境界条件間\n",
    "cal_jl(  cell_mns::BC_Neumann, cell_pls::BC_Neumann, nx = 0.0 ) = 0.0\n",
    "# BC_Robin-第二種境界条件間\n",
    "cal_jl(  cell_mns::BC_Robin, cell_pls::BC_Neumann, nx = 0.0 ) = 0.0\n",
    "cal_jl(  cell_mns::BC_Neumann, cell_pls::BC_Robin, nx = 0.0 ) = 0.0\n",
    "\n",
    "# 3次元用\n",
    "# Cell-第一種境界条件間\n",
    "cal_jlx(  cell_mns::Cell, cell_pls::BC_Dirichlet, nx = 0.0 ) = cal_jl( cell_mns, cell_pls.cell, nx )\n",
    "cal_jlx(  cell_mns::BC_Dirichlet, cell_pls::Cell, nx = 0.0 ) = cal_jl( cell_mns.cell, cell_pls, nx )\n",
    "cal_jly(  cell_mns::Cell, cell_pls::BC_Dirichlet, nx = 0.0 ) = cal_jl( cell_mns, cell_pls.cell, nx )\n",
    "cal_jly(  cell_mns::BC_Dirichlet, cell_pls::Cell, nx = 0.0 ) = cal_jl( cell_mns.cell, cell_pls, nx )\n",
    "cal_jlz(  cell_mns::Cell, cell_pls::BC_Dirichlet, nx = 0.0 ) = cal_jl( cell_mns, cell_pls.cell, nx )\n",
    "cal_jlz(  cell_mns::BC_Dirichlet, cell_pls::Cell, nx = 0.0 ) = cal_jl( cell_mns.cell, cell_pls, nx )\n",
    "# Cell-BC_Robin間\n",
    "cal_jlx( cell_mns::Cell, cell_pls::BC_Robin, nx = 0.0 ) = - cell_pls.jl_added\n",
    "cal_jly( cell_mns::Cell, cell_pls::BC_Robin, nx = 0.0 ) = - cell_pls.jl_added\n",
    "cal_jlz( cell_mns::Cell, cell_pls::BC_Robin, nx = 0.0 ) = - cell_pls.jl_added\n",
    "cal_jlx( cell_mns::BC_Robin, cell_pls::Cell, nx = 0.0 ) = cell_mns.jl_added\n",
    "cal_jly( cell_mns::BC_Robin, cell_pls::Cell, nx = 0.0 ) = cell_mns.jl_added\n",
    "cal_jlz( cell_mns::BC_Robin, cell_pls::Cell, nx = 0.0 ) = cell_mns.jl_added\n",
    "# Cell-第二種境界条件間\n",
    "cal_jlx(  cell_mns::Cell, cell_pls::BC_Neumann, nx = 0.0 ) = cell_pls.jl\n",
    "cal_jlx(  cell_mns::BC_Neumann, cell_pls::Cell, nx = 0.0 ) = cell_mns.jl\n",
    "cal_jly(  cell_mns::Cell, cell_pls::BC_Neumann, nx = 0.0 ) = cell_pls.jl\n",
    "cal_jly(  cell_mns::BC_Neumann, cell_pls::Cell, nx = 0.0 ) = cell_mns.jl\n",
    "cal_jlz(  cell_mns::Cell, cell_pls::BC_Neumann, nx = 0.0 ) = cell_pls.jl\n",
    "cal_jlz(  cell_mns::BC_Neumann, cell_pls::Cell, nx = 0.0 ) = cell_mns.jl\n",
    "# BC_Robin-BC_Robin間\n",
    "cal_jlx(  cell_mns::BC_Robin, cell_pls::BC_Robin, nx = 0.0 ) = 0.0\n",
    "cal_jly(  cell_mns::BC_Robin, cell_pls::BC_Robin, nx = 0.0 ) = 0.0\n",
    "cal_jlz(  cell_mns::BC_Robin, cell_pls::BC_Robin, nx = 0.0 ) = 0.0\n",
    "# 第二種境界条件-第二種境界条件間\n",
    "cal_jlx(  cell_mns::BC_Neumann, cell_pls::BC_Neumann, nx = 0.0 ) = 0.0\n",
    "cal_jly(  cell_mns::BC_Neumann, cell_pls::BC_Neumann, nx = 0.0 ) = 0.0\n",
    "cal_jlz(  cell_mns::BC_Neumann, cell_pls::BC_Neumann, nx = 0.0 ) = 0.0\n",
    "# BC_Robin-第二種境界条件間\n",
    "cal_jlx(  cell_mns::BC_Robin, cell_pls::BC_Neumann, nx = 0.0 ) = 0.0\n",
    "cal_jlx(  cell_mns::BC_Neumann, cell_pls::BC_Robin, nx = 0.0 ) = 0.0\n",
    "cal_jly(  cell_mns::BC_Robin, cell_pls::BC_Neumann, nx = 0.0 ) = 0.0\n",
    "cal_jly(  cell_mns::BC_Neumann, cell_pls::BC_Robin, nx = 0.0 ) = 0.0\n",
    "cal_jlz(  cell_mns::BC_Robin, cell_pls::BC_Neumann, nx = 0.0 ) = 0.0\n",
    "cal_jlz(  cell_mns::BC_Neumann, cell_pls::BC_Robin, nx = 0.0 ) = 0.0"
   ]
  },
  {
   "cell_type": "markdown",
   "metadata": {},
   "source": [
    "※cell間の物性値の計算方法として加重平均を採用する場合はこちら"
   ]
  },
  {
   "cell_type": "code",
   "execution_count": 33,
   "metadata": {},
   "outputs": [
    {
     "data": {
      "text/plain": [
       "cal_jl_meanAve (generic function with 3 methods)"
      ]
     },
     "metadata": {},
     "output_type": "display_data"
    }
   ],
   "source": [
    "function cal_jl_meanAve( cell_mns::Cell, cell_pls::Cell, nx = 0.0 )\n",
    "    cal_liquid_conduction_potential_diff_meanAve( \n",
    "        ldml_mns = ldml(cell_mns), ldml_pls = ldml(cell_pls), \n",
    "        miu_mns = miu(cell_mns), miu_pls = miu(cell_pls), \n",
    "        dx2_mns = dx(cell_mns) - dx2(cell_mns), dx2_pls = dx2(cell_pls), nx = nx )\n",
    "end\n",
    "cal_jl_meanAve(; cell_mns::Cell, cell_pls::Cell, nx = 0.0 ) = cal_jl_meanAve( cell_mns, cell_pls, nx)"
   ]
  },
  {
   "cell_type": "code",
   "execution_count": 34,
   "metadata": {},
   "outputs": [],
   "source": []
  },
  {
   "cell_type": "markdown",
   "metadata": {},
   "source": [
    "# ５. 溶液移動  "
   ]
  },
  {
   "cell_type": "markdown",
   "metadata": {},
   "source": [
    "## 5.1 溶液移動（圧力勾配・固体内・体積流量）  \n",
    "### 5.1.1 基礎方程式\n",
    "定義： $J_{vol} = - \\frac{K}{\\rho_{sw} g} (\\nabla・p_c - n_z \\rho_{sw} g)$ \n",
    "\n",
    "$J_{vol}$：溶液体積流量[m3/m2s]  \n",
    "$\\lambda^{'}_{\\mu l}$：水分化学ポテンシャル勾配に関する液相水分伝導率[kg/ms(J/kg)]  \n",
    "$\\mu$：液水の化学ポテンシャル[J/kg]  \n",
    "$n_x$：重力加速度に対する応答（重力加速度に対して水平なら1、垂直なら0）"
   ]
  },
  {
   "cell_type": "code",
   "execution_count": 35,
   "metadata": {},
   "outputs": [
    {
     "data": {
      "text/plain": [
       "cal_solusion_conduction (generic function with 1 method)"
      ]
     },
     "metadata": {},
     "output_type": "display_data"
    }
   ],
   "source": [
    "##############################################\n",
    "# $$$$$$ 溶液 $$$$$$\n",
    "# 溶液伝導：基礎式\n",
    "cal_solusion_conduction( ;dsw::Float64, dplc::Float64, dx2::Float64, rowsw::Float64, nx = 0.0 ) = - dsw * ( dplc / dx2 - nx * rowsw * 9.806650 )"
   ]
  },
  {
   "cell_type": "markdown",
   "metadata": {},
   "source": [
    "### 5.1.2 差分化方程式"
   ]
  },
  {
   "cell_type": "code",
   "execution_count": 36,
   "metadata": {},
   "outputs": [
    {
     "data": {
      "text/plain": [
       "cal_solusion_conduction_diff_meanAve (generic function with 1 method)"
      ]
     },
     "metadata": {},
     "output_type": "display_data"
    }
   ],
   "source": [
    "# 差分方程式\n",
    "function cal_solusion_conduction_diff( ;dsw_mns::Float64, dsw_pls::Float64, plc_mns::Float64, plc_pls::Float64, dx2_mns::Float64, dx2_pls::Float64, rowsw::Float64, nx = 0.0 ) # nxは特に指定が無い場合0\n",
    "    dsw = sum_resistance( val_mns = dsw_mns, val_pls = dsw_pls, len_mns = dx2_mns, len_pls = dx2_pls )\n",
    "    return cal_solusion_conduction( dsw = dsw, dplc = plc_pls - plc_mns, dx2 = dx2_mns + dx2_pls, rowsw = rowsw, nx = nx )\n",
    "end\n",
    "\n",
    "# 加重平均による計算方法\n",
    "function cal_solusion_conduction_diff_meanAve( ;dsw_mns::Float64, dsw_pls::Float64, plc_mns::Float64, plc_pls::Float64, dx2_mns::Float64, dx2_pls::Float64, rowsw::Float64, nx = 0.0 ) # nxは特に指定が無い場合0\n",
    "    dsw = cal_mean_average( val_mns = dsw_mns, val_pls = dsw_pls, len_mns = dx2_mns, len_pls = dx2_pls )\n",
    "    return cal_solusion_conduction( dsw = dsw, dplc = plc_pls - plc_mns, dx2 = dx2_mns + dx2_pls, rowsw = rowsw, nx = nx )\n",
    "end"
   ]
  },
  {
   "cell_type": "markdown",
   "metadata": {},
   "source": [
    "### 5.1.3 構造体cellを用いた式\n",
    "        \n",
    "引数（キーワード引数）：  \n",
    "- cell_mns: mns側に来るCell構造体を入力\n",
    "- cell_pls: pls側に来るCell構造体を入力\n",
    "- nx: 重力に対する応答方向を表す。水平の場合0、垂直方向の場合1であり、垂直下向きを正とする。  \n",
    "\n",
    "戻り値：\n",
    "- 実数Float64（溶液体積流量）"
   ]
  },
  {
   "cell_type": "code",
   "execution_count": 37,
   "metadata": {},
   "outputs": [
    {
     "data": {
      "text/plain": [
       "cal_Jvol (generic function with 3 methods)"
      ]
     },
     "metadata": {},
     "output_type": "display_data"
    }
   ],
   "source": [
    "function cal_Jvol( cell_mns::Cell, cell_pls::Cell, nx = 0.0 )\n",
    "    cal_solusion_conduction_diff( \n",
    "        dsw_mns = dsw(cell_mns), \n",
    "        dsw_pls = dsw(cell_pls), 　#粘性による移動係数の変化もここで加える\n",
    "        plc_mns = plc(cell_mns), plc_pls = plc(cell_pls), \n",
    "        dx2_mns = dx2(cell_mns), dx2_pls = dx2(cell_pls), rowsw = (rowsw(cell_mns) + rowsw(cell_pls)) / 2, nx = nx )　\n",
    "end\n",
    "cal_Jvol(; cell_mns, cell_pls, nx = 0.0 ) = cal_Jvol(cell_mns, cell_pls, nx)"
   ]
  },
  {
   "cell_type": "markdown",
   "metadata": {},
   "source": [
    "なお、溶液は空気中は移動できないため、"
   ]
  },
  {
   "cell_type": "code",
   "execution_count": 38,
   "metadata": {},
   "outputs": [
    {
     "data": {
      "text/plain": [
       "cal_Jvol (generic function with 7 methods)"
      ]
     },
     "metadata": {},
     "output_type": "display_data"
    }
   ],
   "source": [
    "cal_Jvol( cell_mns::Cell, cell_pls::BC_Robin,  nx = 0.0 ) = 0.0\n",
    "cal_Jvol( cell_mns::BC_Robin,  cell_pls::Cell, nx = 0.0 ) = 0.0"
   ]
  },
  {
   "cell_type": "markdown",
   "metadata": {},
   "source": [
    "※cell間の物性値の計算方法として加重平均を採用する場合はこちら"
   ]
  },
  {
   "cell_type": "code",
   "execution_count": 39,
   "metadata": {},
   "outputs": [
    {
     "data": {
      "text/plain": [
       "cal_Jvol_meanAve (generic function with 3 methods)"
      ]
     },
     "metadata": {},
     "output_type": "display_data"
    }
   ],
   "source": [
    "function cal_Jvol_meanAve( cell_mns::Cell, cell_pls::Cell, nx = 0.0 )\n",
    "    cal_solusion_conduction_diff_meanAve( \n",
    "        dsw_mns = dsw(cell_mns), \n",
    "        dsw_pls = dsw(cell_pls), 　#粘性による移動係数の変化もここで加える\n",
    "        plc_mns = plc(cell_mns), plc_pls = plc(cell_pls), \n",
    "        dx2_mns = dx2(cell_mns), dx2_pls = dx2(cell_pls), rowsw = (rowsw(cell_mns) + rowsw(cell_pls)) / 2, nx = nx )\n",
    "end\n",
    "cal_Jvol_meanAve(; cell_mns::Cell, cell_pls::Cell, nx = 0.0 ) = cal_Jvol_meanAve( cell_mns, cell_pls, nx)"
   ]
  },
  {
   "cell_type": "markdown",
   "metadata": {},
   "source": [
    "## 5.2 水の移動（固体内・モル流量）  \n",
    "### 5.2.1 基礎方程式\n",
    "\n",
    "定義：$j_w = {\\frac{1 - (1-{\\sigma}) \\bar v_s C_s}{\\bar v_w}} J_{vol} + \\frac{\\bar v_s}{\\bar v_w} D_s \\nabla・C_s$\n",
    "\n",
    "$j_w$：水のモル流量[mol/m2s]  \n",
    "$\\sigma$：反射係数  \n",
    "$\\bar v_s$：塩の部分モル体積[m3/mol]  \n",
    "$\\bar v_w$：水の部分モル体積[m3/mol]  \n",
    "$C_s$：塩濃度[mol/m3]  \n",
    "$D_s$：塩の拡散係数[m2/s]"
   ]
  },
  {
   "cell_type": "code",
   "execution_count": 40,
   "metadata": {},
   "outputs": [
    {
     "data": {
      "text/plain": [
       "cal_water_conduction (generic function with 1 method)"
      ]
     },
     "metadata": {},
     "output_type": "display_data"
    }
   ],
   "source": [
    "##############################################\n",
    "# 水の移動：基礎式\n",
    "function cal_water_conduction( ;Jvol::Float64, ds::Float64, dcs::Float64, dx2::Float64, cs::Float64, vs::Float64, vw::Float64, sigma::Float64 )\n",
    "    jw_adv = (1 - (1 - sigma) * vs * cs) / vw * Jvol\n",
    "    jw_diff = vs / vw * ds * dcs / dx2\n",
    "    jw = jw_adv + jw_diff\n",
    "    return jw, jw_adv, jw_diff\n",
    "end                "
   ]
  },
  {
   "cell_type": "markdown",
   "metadata": {},
   "source": [
    "### 5.2.2 差分化方程式"
   ]
  },
  {
   "cell_type": "code",
   "execution_count": 41,
   "metadata": {},
   "outputs": [
    {
     "data": {
      "text/plain": [
       "cal_water_conduction_diff_meanAve (generic function with 1 method)"
      ]
     },
     "metadata": {},
     "output_type": "display_data"
    }
   ],
   "source": [
    "# 差分方程式\n",
    "function cal_water_conduction_diff( ;Jvol::Float64, ds_mns::Float64, ds_pls::Float64, cs_mns::Float64, cs_pls::Float64, \n",
    "                                                dx2_mns::Float64, dx2_pls::Float64, cs::Float64, vs::Float64, vw::Float64, sigma::Float64 )\n",
    "    ds = sum_resistance( val_mns = ds_mns, val_pls = ds_pls, len_mns = dx2_mns, len_pls = dx2_pls )\n",
    "    return cal_water_conduction( Jvol = Jvol, ds = ds, dcs = cs_pls - cs_mns, dx2 = dx2_mns + dx2_pls, cs = cs, vs = vs, vw = vw, sigma = sigma )\n",
    "end\n",
    "\n",
    "# 加重平均による計算方法\n",
    "function cal_water_conduction_diff_meanAve( ;Jvol::Float64, ds_mns::Float64, ds_pls::Float64, cs_mns::Float64, cs_pls::Float64, \n",
    "                                                   dx2_mns::Float64, dx2_pls::Float64, cs::Float64, vs::Float64, vw::Float64, sigma::Float64 ) \n",
    "    ds = cal_mean_average( val_mns = ds_mns, val_pls = ds_pls, len_mns = dx2_mns, len_pls = dx2_pls )\n",
    "    return cal_water_conduction( Jvol = Jvol, ds = ds, dcs = cs_pls - cs_mns, dx2 = dx2_mns + dx2_pls, cs = cs, vs = vs, vw = vw, sigma = sigma )\n",
    "end"
   ]
  },
  {
   "cell_type": "markdown",
   "metadata": {},
   "source": [
    "### 5.2.3 構造体cellを用いた式\n",
    "        \n",
    "引数（キーワード引数）：  \n",
    "- cell_mns: mns側に来るCell構造体を入力\n",
    "- cell_pls: pls側に来るCell構造体を入力  \n",
    "\n",
    "戻り値：\n",
    "- 実数Float64（水のモル流量）"
   ]
  },
  {
   "cell_type": "code",
   "execution_count": 42,
   "metadata": {},
   "outputs": [
    {
     "data": {
      "text/plain": [
       "cal_jw (generic function with 2 methods)"
      ]
     },
     "metadata": {},
     "output_type": "display_data"
    }
   ],
   "source": [
    "function cal_jw( cell_mns::Cell, cell_pls::Cell, Jvol )\n",
    "    \n",
    "    if Jvol > 0.0; cs_in = cs_vol(cell_mns)\n",
    "        else; cs_in = cs_vol(cell_pls)\n",
    "    end\n",
    "        \n",
    "    cal_water_conduction_diff( \n",
    "        Jvol = Jvol,\n",
    "        ds_mns = ds(cell_mns), ds_pls = ds(cell_pls), \n",
    "        cs_mns = cs_vol(cell_mns), cs_pls = cs_vol(cell_pls), \n",
    "        dx2_mns = dx(cell_mns) - dx2(cell_mns), dx2_pls = dx2(cell_pls), \n",
    "        cs = cs_in, vs = (vs(cell_mns) + vs(cell_pls)) / 2, vw = (vw(cell_mns) + vw(cell_pls)) / 2, sigma = sigma(cell_mns) )\n",
    "end\n",
    "cal_jw(; cell_mns, cell_pls, Jvol ) = cal_jw( cell_mns, cell_pls, Jvol )"
   ]
  },
  {
   "cell_type": "markdown",
   "metadata": {},
   "source": [
    "なお、溶液は空気中は移動できないため、"
   ]
  },
  {
   "cell_type": "code",
   "execution_count": 43,
   "metadata": {},
   "outputs": [
    {
     "data": {
      "text/plain": [
       "cal_jw (generic function with 4 methods)"
      ]
     },
     "metadata": {},
     "output_type": "display_data"
    }
   ],
   "source": [
    "cal_jw( cell_mns::Cell, cell_pls::BC_Robin,  Jvol ) = 0.0\n",
    "cal_jw( cell_mns::BC_Robin,  cell_pls::Cell, Jvol ) = 0.0"
   ]
  },
  {
   "cell_type": "markdown",
   "metadata": {},
   "source": [
    "※cell間の物性値の計算方法として加重平均を採用する場合はこちら"
   ]
  },
  {
   "cell_type": "code",
   "execution_count": 44,
   "metadata": {},
   "outputs": [
    {
     "data": {
      "text/plain": [
       "cal_jw_meanAve (generic function with 2 methods)"
      ]
     },
     "metadata": {},
     "output_type": "display_data"
    }
   ],
   "source": [
    "function cal_jw_meanAve( cell_mns::Cell, cell_pls::Cell, Jvol )\n",
    "    \n",
    "    if Jvol > 0.0; cs_in = cs_vol(cell_mns)\n",
    "        else; cs_in = cs_vol(cell_pls)\n",
    "    end\n",
    "    \n",
    "    cal_water_conduction_diff_meanAve( \n",
    "        Jvol = Jvol,\n",
    "        ds_mns = ds(cell_mns), ds_pls = ds(cell_pls), \n",
    "        cs_mns = cs_vol(cell_mns), cs_pls = cs_vol(cell_pls), \n",
    "        dx2_mns = dx(cell_mns) - dx2(cell_mns), dx2_pls = dx2(cell_pls), \n",
    "        cs = cs_in, vs = (vs(cell_mns) + vs(cell_pls)) / 2, vw = (vw(cell_mns) + vw(cell_pls)) / 2, sigma = sigma(cell_mns) )\n",
    "end\n",
    "cal_jw_meanAve(; cell_mns, cell_pls, Jvol ) = cal_jw_meanAve(cell_mns, cell_pls, Jvol )"
   ]
  },
  {
   "cell_type": "markdown",
   "metadata": {},
   "source": [
    "## 5.3 塩の移動（固体内・モル流量）  \n",
    "### 5.3.1 基礎方程式\n",
    "\n",
    "定義：$j_s = (1-{\\sigma}) C_s J_{vol} - D_s \\nabla・C_s$\n",
    "\n",
    "$j_s$：塩のモル流量[mol/m2s]  \n",
    "$\\sigma$：反射係数   \n",
    "$C_s$：塩濃度[mol/m3]  \n",
    "$D_s$：塩の拡散係数[m2/s]"
   ]
  },
  {
   "cell_type": "code",
   "execution_count": 45,
   "metadata": {},
   "outputs": [
    {
     "data": {
      "text/plain": [
       "cal_salt_conduction (generic function with 1 method)"
      ]
     },
     "metadata": {},
     "output_type": "display_data"
    }
   ],
   "source": [
    "##############################################\n",
    "# 塩の移動：基礎式\n",
    "function cal_salt_conduction( ;Jvol::Float64, ds::Float64, dcs::Float64, dx2::Float64, cs::Float64, sigma::Float64 )\n",
    "    # 高取修正\n",
    "    js_adv = (1 - sigma) * cs * Jvol\n",
    "    js_diff= - ds * dcs / dx2\n",
    "    js = js_adv + js_diff\n",
    "    return js, js_adv, js_diff\n",
    "end      "
   ]
  },
  {
   "cell_type": "code",
   "execution_count": 46,
   "metadata": {},
   "outputs": [
    {
     "data": {
      "text/plain": [
       "(-0.10200000000000001, -0.1, -0.002)"
      ]
     },
     "metadata": {},
     "output_type": "display_data"
    }
   ],
   "source": [
    "a, b, c = cal_salt_conduction( Jvol = -10.0e-2, ds = 0.001, dcs = 0.2 , dx2 = 0.1, cs = 1.0 , sigma = 0.0)"
   ]
  },
  {
   "cell_type": "markdown",
   "metadata": {},
   "source": [
    "### 5.3.2 差分化方程式"
   ]
  },
  {
   "cell_type": "code",
   "execution_count": 47,
   "metadata": {},
   "outputs": [
    {
     "data": {
      "text/plain": [
       "cal_salt_conduction_diff_meanAve (generic function with 1 method)"
      ]
     },
     "metadata": {},
     "output_type": "display_data"
    }
   ],
   "source": [
    "# 差分方程式\n",
    "function cal_salt_conduction_diff( ;Jvol::Float64, ds_mns::Float64, ds_pls::Float64, cs_mns::Float64, cs_pls::Float64, \n",
    "                                                dx2_mns::Float64, dx2_pls::Float64, cs::Float64, sigma::Float64 )\n",
    "    ds = sum_resistance( val_mns = ds_mns, val_pls = ds_pls, len_mns = dx2_mns, len_pls = dx2_pls )\n",
    "    return cal_salt_conduction( Jvol = Jvol, ds = ds, dcs = cs_pls - cs_mns, dx2 = dx2_mns + dx2_pls, cs = cs, sigma = sigma )\n",
    "end\n",
    "\n",
    "# 加重平均による計算方法\n",
    "function cal_salt_conduction_diff_meanAve( ;Jvol::Float64, ds_mns::Float64, ds_pls::Float64, cs_mns::Float64, cs_pls::Float64, \n",
    "                                                   dx2_mns::Float64, dx2_pls::Float64, cs::Float64, sigma::Float64 ) \n",
    "    ds = cal_mean_average( val_mns = ds_mns, val_pls = ds_pls, len_mns = dx2_mns, len_pls = dx2_pls )\n",
    "    return cal_salt_conduction( Jvol = Jvol, ds = ds, dcs = cs_pls - cs_mns, dx2 = dx2_mns + dx2_pls, cs = cs, sigma = sigma )\n",
    "end"
   ]
  },
  {
   "cell_type": "markdown",
   "metadata": {},
   "source": [
    "### 5.3.3 構造体cellを用いた式\n",
    "        \n",
    "引数（キーワード引数）：  \n",
    "- cell_mns: mns側に来るCell構造体を入力\n",
    "- cell_pls: pls側に来るCell構造体を入力  \n",
    "\n",
    "戻り値：\n",
    "- 実数Float64（塩のモル流量）"
   ]
  },
  {
   "cell_type": "code",
   "execution_count": 48,
   "metadata": {},
   "outputs": [
    {
     "data": {
      "text/plain": [
       "cal_js (generic function with 2 methods)"
      ]
     },
     "metadata": {},
     "output_type": "display_data"
    }
   ],
   "source": [
    "function cal_js( cell_mns::Cell, cell_pls::Cell, Jvol )\n",
    "    \n",
    "    if Jvol > 0.0; cs_in = cs_vol(cell_mns)\n",
    "        else; cs_in = cs_vol(cell_pls)\n",
    "    end\n",
    "    \n",
    "    cal_salt_conduction_diff( \n",
    "        Jvol = Jvol,\n",
    "        ds_mns = ds(cell_mns), ds_pls = ds(cell_pls), \n",
    "        cs_mns = cs_vol(cell_mns), cs_pls = cs_vol(cell_pls), \n",
    "        dx2_mns = dx(cell_mns) - dx2(cell_mns), dx2_pls = dx2(cell_pls), cs = cs_in, sigma = sigma(cell_mns) )\n",
    "end\n",
    "cal_js(; cell_mns, cell_pls, Jvol ) = cal_js( cell_mns, cell_pls, Jvol )"
   ]
  },
  {
   "cell_type": "markdown",
   "metadata": {},
   "source": [
    "なお、溶液は空気中は移動できないため、"
   ]
  },
  {
   "cell_type": "code",
   "execution_count": 49,
   "metadata": {},
   "outputs": [
    {
     "data": {
      "text/plain": [
       "cal_js (generic function with 4 methods)"
      ]
     },
     "metadata": {},
     "output_type": "display_data"
    }
   ],
   "source": [
    "cal_js( cell_mns::Cell, cell_pls::BC_Robin,  Jvol ) = 0.0\n",
    "cal_js( cell_mns::BC_Robin,  cell_pls::Cell, Jvol ) = 0.0"
   ]
  },
  {
   "cell_type": "markdown",
   "metadata": {},
   "source": [
    "※cell間の物性値の計算方法として加重平均を採用する場合はこちら"
   ]
  },
  {
   "cell_type": "code",
   "execution_count": 50,
   "metadata": {},
   "outputs": [
    {
     "data": {
      "text/plain": [
       "cal_js_meanAve (generic function with 2 methods)"
      ]
     },
     "metadata": {},
     "output_type": "display_data"
    }
   ],
   "source": [
    "function cal_js_meanAve( cell_mns::Cell, cell_pls::Cell, Jvol )\n",
    "    \n",
    "    if Jvol > 0.0; cs_in = cs_vol(cell_mns)\n",
    "        else; cs_in = cs_vol(cell_pls)\n",
    "    end\n",
    "    \n",
    "    cal_salt_conduction_diff_meanAve( \n",
    "        Jvol = Jvol,\n",
    "        ds_mns = ds(cell_mns), ds_pls = ds(cell_pls), \n",
    "        cs_mns = cs_vol(cell_mns), cs_pls = cs_vol(cell_pls), \n",
    "        dx2_mns = dx(cell_mns) - dx2(cell_mns), dx2_pls = dx2(cell_pls), cs = cs_in, sigma = sigma(cell_mns) )\n",
    "end\n",
    "cal_js_meanAve(; cell_mns, cell_pls, Jvol ) = cal_js_meanAve(cell_mns, cell_pls, Jvol )"
   ]
  },
  {
   "cell_type": "markdown",
   "metadata": {},
   "source": [
    "# 6. 常微分方程式の解を用いた熱水分収支式  \n",
    "※ODE：Ordinary Differential Equation（常微分方程式） "
   ]
  },
  {
   "cell_type": "markdown",
   "metadata": {},
   "source": [
    "## 6.1 熱収支式\n",
    "### 6.1.1 基礎方程式  \n",
    "\n",
    "熱収支式はその一般系として以下のように記述することができる。  \n",
    "\n",
    "$$ A_1 \\frac{\\partial T_{(x,y,z)}}{\\partial t} = c_1 T_{(x,y,z)} + c_2 $$ \n",
    "\n",
    "このとき、隣接する点の温度・湿度を一定値とみなせば、常微分方程式として解くことができる。  \n",
    "常微分方程式の解は以下のように与えられる。  \n",
    "\n",
    "$$ T_{(x,y,z)}^{t+\\Delta t} = \\Bigl( T_{(x,y,z)}^t + \\frac{c_2}{c_1} \\Bigl) exp \\Bigl( \\frac{c_1}{A_1}\\Delta t \\Bigl) - \\frac{c_2}{c_1} $$ \n",
    "\n",
    "なお、この解は多孔質材料中、空気中どちらにでも適用可能である。"
   ]
  },
  {
   "cell_type": "code",
   "execution_count": 51,
   "metadata": {},
   "outputs": [
    {
     "data": {
      "text/plain": [
       "cal_newtemp_by_ODE (generic function with 6 methods)"
      ]
     },
     "metadata": {},
     "output_type": "display_data"
    }
   ],
   "source": [
    "function cal_newtemp_by_ODE(temp::Float64, A1::Float64, c1::Float64, c2::Float64, dt::Float64 )\n",
    "    return ( temp + c2 / c1 ) * exp( c1/A1*dt ) - c2 / c1\n",
    "end\n",
    "cal_newtemp_by_ODE(;temp::Float64, A1::Float64, c1::Float64, c2::Float64, dt::Float64 ) = cal_newtemp_by_ODE(temp, A1, c1, c2, dt )"
   ]
  },
  {
   "cell_type": "markdown",
   "metadata": {},
   "source": [
    "### 6.1.2 各種係数の与え方"
   ]
  },
  {
   "cell_type": "markdown",
   "metadata": {},
   "source": [
    "#### 6.1.2.1 係数$A_1$の与え方"
   ]
  },
  {
   "cell_type": "markdown",
   "metadata": {},
   "source": [
    "係数$A_1$は以下のように与えられる。  \n",
    "\n",
    "##### a) 多孔質材料中"
   ]
  },
  {
   "cell_type": "markdown",
   "metadata": {},
   "source": [
    "$$ A_1 = c\\rho V$$  "
   ]
  },
  {
   "cell_type": "code",
   "execution_count": 52,
   "metadata": {},
   "outputs": [
    {
     "data": {
      "text/plain": [
       "cal_A1 (generic function with 2 methods)"
      ]
     },
     "metadata": {},
     "output_type": "display_data"
    }
   ],
   "source": [
    "cal_A1(c::Float64, rho::Float64, V::Float64) = c * rho * V\n",
    "cal_A1(cell::Cell) = crow(cell) * vol(cell)"
   ]
  },
  {
   "cell_type": "markdown",
   "metadata": {},
   "source": [
    "##### b) 空気中  \n"
   ]
  },
  {
   "cell_type": "code",
   "execution_count": 53,
   "metadata": {},
   "outputs": [
    {
     "data": {
      "text/plain": [
       "cal_A1 (generic function with 3 methods)"
      ]
     },
     "metadata": {},
     "output_type": "display_data"
    }
   ],
   "source": [
    "cal_A1(cell::BC_Robin) = (1005.0 + 1846.0 * ah(cell) ) * ( 353.25/temp(cell) ) * vol(cell)"
   ]
  },
  {
   "cell_type": "markdown",
   "metadata": {},
   "source": [
    "#### 6.1.2.2 $c_1$の与え方\n",
    "$c_1$は以下のように与えられる。\n",
    "\n",
    "##### a) 多孔質材料中\n",
    "\n",
    "$$ c_{1} = - \\sum_{l}^{x,y,z} \\sum_{k=0}^{1} \\Bigl ( \\frac{\\lambda_{(l-k)}}{dl2_{(l-k)}} + r \\frac{\\lambda_{T_g(l-k)}^{'}}{dl2_{(l-k)}} \\Bigl ) $$  \n"
   ]
  },
  {
   "cell_type": "markdown",
   "metadata": {},
   "source": [
    "\n",
    "$$ c_1 = \\sum_{i = x,y,z} \\Bigl ( c_{1(i)}^{+} + c_{1(i)}^{-} \\Bigl ) $$  \n",
    "\n",
    "ただし、\n",
    "$$ c_{1(x)}^{-} = - \\Bigl ( \\frac{\\lambda_{(x-1)}}{dx2_{(x-1)}} + r \\frac{\\lambda_{Tg(x-1)}^{'}}{dx2_{(x-1)}} \\Bigl ) $$  \n",
    "$$ c_{1(x)}^{+} = - \\Bigl ( \\frac{\\lambda_{(x)}}{dx2_{(x)}} + r \\frac{\\lambda_{Tg(x)}^{'}}{dx2_{(x)}} \\Bigl ) $$  "
   ]
  },
  {
   "cell_type": "code",
   "execution_count": 54,
   "metadata": {},
   "outputs": [
    {
     "data": {
      "text/plain": [
       "cal_c1x_pls (generic function with 2 methods)"
      ]
     },
     "metadata": {},
     "output_type": "display_data"
    }
   ],
   "source": [
    "function cal_c1x(cell_mns::Cell, cell::Cell, cell_pls::Cell)\n",
    "    return cal_c1x_mns(cell, cell_mns) + cal_c1x_pls(cell, cell_pls)\n",
    "end\n",
    "\n",
    "function cal_c1x_mns(cell::Cell, cell_mns::Cell)\n",
    "    r = ( 597.5 - 0.559 * ( temp(cell) - 273.15 ) ) * 4.18605E+3\n",
    "    dlam_mns  = 1.0 / ( dlamx_mns(cell) + dlamx_pls(cell_mns)  )\n",
    "    dldtg_mns = 1.0 / ( dldtgx_mns(cell) + dldtgx_pls(cell_mns)  )\n",
    "    return - ( dlam_mns + r * dldtg_mns )\n",
    "end\n",
    "\n",
    "function cal_c1x_pls(cell::Cell, cell_pls::Cell)\n",
    "    r = ( 597.5 - 0.559 * ( temp(cell) - 273.15 ) ) * 4.18605E+3\n",
    "    dlam_pls  = 1.0 / ( dlamx_pls(cell) + dlamx_mns(cell_pls)  )\n",
    "    dldtg_pls = 1.0 / ( dldtgx_pls(cell) + dldtgx_mns(cell_pls)  )\n",
    "    return - ( dlam_pls + r * dldtg_pls )\n",
    "end"
   ]
  },
  {
   "cell_type": "markdown",
   "metadata": {},
   "source": [
    "##### b) 空気境界\n",
    "\n",
    "$$ c_{1(x)}^{-} = - ( \\alpha + r \\alpha_{T}^{'} ) $$  \n",
    "$$ c_{1(x)}^{+} = - ( \\alpha + r \\alpha_{T}^{'} ) $$  "
   ]
  },
  {
   "cell_type": "code",
   "execution_count": 55,
   "metadata": {},
   "outputs": [
    {
     "data": {
      "text/plain": [
       "cal_c1x_pls (generic function with 2 methods)"
      ]
     },
     "metadata": {},
     "output_type": "display_data"
    }
   ],
   "source": [
    "cal_c1x(cell_mns::BC_Robin, cell::Cell, cell_pls::Cell)     = cal_c1x_mns(cell, cell_mns) + cal_c1x_pls(cell, cell_pls)\n",
    "cal_c1x(cell_mns::Cell,     cell::Cell, cell_pls::BC_Robin) = cal_c1x_mns(cell, cell_mns) + cal_c1x_pls(cell, cell_pls)\n",
    "cal_c1x(cell_mns::BC_Robin, cell::Cell, cell_pls::BC_Robin) = cal_c1x_mns(cell, cell_mns) + cal_c1x_pls(cell, cell_pls)\n",
    "\n",
    "function cal_c1x_mns(cell::Cell, cell_mns::BC_Robin)\n",
    "    r = ( 597.5 - 0.559 * ( temp(cell) - 273.15 ) ) * 4.18605E+3\n",
    "    return - ( alpha(cell_mns) + r * aldt(cell_mns) )\n",
    "end\n",
    "\n",
    "function cal_c1x_pls(cell::Cell, cell_pls::BC_Robin)\n",
    "    r = ( 597.5 - 0.559 * ( temp(cell) - 273.15 ) ) * 4.18605E+3\n",
    "    return - ( alpha(cell_pls) + r * aldt(cell_pls) )\n",
    "end"
   ]
  },
  {
   "cell_type": "markdown",
   "metadata": {},
   "source": [
    "##### c) 空気中  \n",
    "\n",
    "$$ c_1 = -\\Sigma_{k=1}^{m}S_k \\alpha -\\Sigma_{j=1}^{n} Q_{ij} c_a \\rho $$"
   ]
  },
  {
   "cell_type": "code",
   "execution_count": 56,
   "metadata": {},
   "outputs": [
    {
     "data": {
      "text/plain": [
       "cal_c1_vent (generic function with 1 method)"
      ]
     },
     "metadata": {},
     "output_type": "display_data"
    }
   ],
   "source": [
    "# メイン\n",
    "function cal_c1(cell::BC_Robin, cell_trans::Array{Cell,1}, cell_vent::Array{BC_Robin,1}, Q_vent::Array{Float64,1})\n",
    "    return cal_c1_trans(cell, cell_trans) + cal_c1_vent( cell, cell_vent, Q_vent)\n",
    "end\n",
    "\n",
    "# 伝達成分\n",
    "function cal_c1_trans(cell::BC_Robin, cell_else::Array{Cell,1})\n",
    "    return - sum( [ alpha(cell) for i = 1:length(cell_else) ] )\n",
    "end\n",
    "\n",
    "# 換気成分\n",
    "function cal_c1_vent( cell::BC_Robin, cell_else::Array{BC_Robin,1}, Q_vent::Array{Float64,1})\n",
    "    return - sum( [ Q_vent[i] * (1005.0 + 1846.0 * ah(cell)) * (353.25/temp(cell)) for i = 1:length(cell_else) ] )\n",
    "end"
   ]
  },
  {
   "cell_type": "markdown",
   "metadata": {},
   "source": [
    "#### 6.1.2.3 $c_2$の与え方\n",
    "$c_2$は以下のように与えられる。\n",
    "\n",
    "##### a) 多孔質材料中"
   ]
  },
  {
   "cell_type": "markdown",
   "metadata": {},
   "source": [
    "$$ c_2 = \\sum_{i = x,y,z} \\Bigl ( c_{2(i)}^{+} + c_{2(i)}^{-} \\Bigl ) $$  \n",
    "ただし、\n",
    "$$ c_{2(x)}^{-} = \\Bigl ( \\frac{\\lambda_{(x-1)}}{dx2_{(x-1)}} + r \\frac{\\lambda_{Tg(x-1)}^{'}}{dx2_{(x-1)}} \\Bigl ) T_{(x-1)} \n",
    "- r \\frac{\\lambda_{\\mu g(x-1)}^{'}}{dx2_{(x-1)}} \\Bigl ( \\mu_{(x)} - \\mu_{(x-1)} \\Bigl )$$  \n",
    "$$ c_{2(x)}^{+} = \\Bigl ( \\frac{\\lambda_{(x)}}{dx2_{(x)}} + r \\frac{\\lambda_{Tg(x)}^{'}}{dx2_{(x)}} \\Bigl ) T_{(x+1)} \n",
    "- r \\frac{\\lambda_{\\mu g(x)}^{'}}{dx2_{(x)}} \\Bigl ( \\mu_{(x)} - \\mu_{(x+1)} \\Bigl )$$  "
   ]
  },
  {
   "cell_type": "code",
   "execution_count": 57,
   "metadata": {},
   "outputs": [
    {
     "data": {
      "text/plain": [
       "cal_c2x_pls (generic function with 2 methods)"
      ]
     },
     "metadata": {},
     "output_type": "display_data"
    }
   ],
   "source": [
    "function cal_c2x(cell_mns::Cell, cell::Cell, cell_pls::Cell)\n",
    "    return cal_c2x_mns(cell, cell_mns) + cal_c2x_pls(cell, cell_pls)\n",
    "end\n",
    "\n",
    "function cal_c2x_mns(cell::Cell, cell_mns::Cell)\n",
    "    r = ( 597.5 - 0.559 * ( temp(cell) - 273.15 ) ) * 4.18605E+3\n",
    "    dlam_mns  = 1.0 / ( dlamx_mns(cell) + dlamx_pls(cell_mns)  )\n",
    "    dldtg_mns = 1.0 / ( dldtgx_mns(cell) + dldtgx_pls(cell_mns)  )\n",
    "    dldmg_mns = 1.0 / ( dldmgx_mns(cell) + dldmgx_pls(cell_mns)  )\n",
    "    return ( dlam_mns + r * dldtg_mns ) * temp(cell_mns) - r * dldmg_mns * ( miu(cell) - miu(cell_mns) )\n",
    "end\n",
    "\n",
    "function cal_c2x_pls(cell::Cell, cell_pls::Cell)\n",
    "    r = ( 597.5 - 0.559 * ( temp(cell) - 273.15 ) ) * 4.18605E+3\n",
    "    dlam_pls  = 1.0 / ( dlamx_pls(cell) + dlamx_mns(cell_pls)  )\n",
    "    dldtg_pls = 1.0 / ( dldtgx_pls(cell) + dldtgx_mns(cell_pls)  )\n",
    "    dldmg_pls = 1.0 / ( dldmgx_pls(cell) + dldmgx_mns(cell_pls)  )\n",
    "    return ( dlam_pls + r * dldtg_pls ) * temp(cell_pls) - r * dldmg_pls * ( miu(cell) - miu(cell_pls) )\n",
    "end"
   ]
  },
  {
   "cell_type": "markdown",
   "metadata": {},
   "source": [
    "##### b)空気境界\n",
    "\n",
    "$$ c_{2(x)}^{-} = ( \\alpha + r \\alpha_{T}^{'} ) T_{(x-1)} - r \\alpha_{\\mu}^{'} \\Bigl ( \\mu_{(x)} - \\mu_{(x-1)} \\Bigl )$$  \n",
    "$$ c_{2(x)}^{+} = ( \\alpha + r \\alpha_{T}^{'} ) T_{(x+1)} - r \\alpha_{\\mu}^{'} \\Bigl ( \\mu_{(x)} - \\mu_{(x+1)} \\Bigl ) $$  "
   ]
  },
  {
   "cell_type": "code",
   "execution_count": 58,
   "metadata": {},
   "outputs": [
    {
     "data": {
      "text/plain": [
       "cal_c2x_pls (generic function with 2 methods)"
      ]
     },
     "metadata": {},
     "output_type": "display_data"
    }
   ],
   "source": [
    "cal_c2x(cell_mns::BC_Robin, cell::Cell, cell_pls::Cell)     = cal_c2x_mns(cell, cell_mns) + cal_c2x_pls(cell, cell_pls)\n",
    "cal_c2x(cell_mns::Cell,     cell::Cell, cell_pls::BC_Robin) = cal_c2x_mns(cell, cell_mns) + cal_c2x_pls(cell, cell_pls)\n",
    "cal_c2x(cell_mns::BC_Robin, cell::Cell, cell_pls::BC_Robin) = cal_c2x_mns(cell, cell_mns) + cal_c2x_pls(cell, cell_pls)\n",
    "\n",
    "function cal_c2x_mns(cell::Cell, cell_mns::BC_Robin)\n",
    "    r = ( 597.5 - 0.559 * ( temp(cell) - 273.15 ) ) * 4.18605E+3\n",
    "    return ( alpha(cell_mns) + r * aldt(cell_mns) ) * temp(cell_mns) - r * aldmu(cell_mns) * ( miu(cell) - miu(cell_mns) )\n",
    "end\n",
    "\n",
    "function cal_c2x_pls(cell::Cell, cell_pls::BC_Robin)\n",
    "    r = ( 597.5 - 0.559 * ( temp(cell) - 273.15 ) ) * 4.18605E+3\n",
    "    return ( alpha(cell_pls) + r * aldt(cell_pls) ) * temp(cell_pls) - r * aldmu(cell_pls) * ( miu(cell) - miu(cell_pls) )\n",
    "end"
   ]
  },
  {
   "cell_type": "markdown",
   "metadata": {},
   "source": [
    "##### c) 空気中  \n",
    "\n",
    "$$ c_2 = \\Sigma_{k=1}^{m}S_k \\alpha T_k + \\Sigma_{j=1}^{n} Q_{ij} c_a \\rho T_j + H $$"
   ]
  },
  {
   "cell_type": "code",
   "execution_count": 59,
   "metadata": {},
   "outputs": [
    {
     "data": {
      "text/plain": [
       "cal_c2_source (generic function with 1 method)"
      ]
     },
     "metadata": {},
     "output_type": "display_data"
    }
   ],
   "source": [
    "# メイン\n",
    "function cal_c2(cell::BC_Robin, cell_trans::Array{Cell,1}, cell_vent::Array{BC_Robin,1}, Q_vent::Array{Float64,1}, Hi::Float64)\n",
    "    return cal_c2_trans(cell, cell_trans) + cal_c2_vent( cell, cell_vent, Q_vent) + cal_c2_source(Hi)\n",
    "end\n",
    "\n",
    "# 伝達成分\n",
    "function cal_c2_trans(cell::BC_Robin, cell_else::Array{Cell,1})\n",
    "    return sum( [alpha(cell) * temp(cell_else[i]) for i = 1:length(cell_else) ] )\n",
    "end\n",
    "\n",
    "# 換気成分\n",
    "function cal_c2_vent( cell::BC_Robin, cell_else::Array{BC_Robin,1}, Q_vent::Array{Float64,1})\n",
    "    return sum( [ Q_vent[i] * (1005.0+1846.0*ah(cell_else[i])) * (353.25/temp(cell_else[i])) * temp(cell_else[i]) for i = 1:length(cell_else) ] )\n",
    "end\n",
    "\n",
    "function cal_c2_source(Hi::Float64)\n",
    "    return Hi\n",
    "end"
   ]
  },
  {
   "cell_type": "markdown",
   "metadata": {},
   "source": [
    "### 6.1.3 計算式"
   ]
  },
  {
   "cell_type": "code",
   "execution_count": 60,
   "metadata": {},
   "outputs": [
    {
     "data": {
      "text/plain": [
       "cal_newtemp_by_ODE (generic function with 7 methods)"
      ]
     },
     "metadata": {},
     "output_type": "display_data"
    }
   ],
   "source": [
    "# 多孔質材料中\n",
    "cal_newtemp_by_ODE(cell_mns::Cell,     cell::Cell, cell_pls::Cell,     nx::Float64, dt::Float64 ) = cal_newtemp_by_ODE(temp(cell), cal_A1(cell), cal_c1x(cell_mns, cell, cell_pls), cal_c2x(cell_mns, cell, cell_pls), dt )\n",
    "cal_newtemp_by_ODE(cell_mns::BC_Robin, cell::Cell, cell_pls::Cell,     nx::Float64, dt::Float64 ) = cal_newtemp_by_ODE(temp(cell), cal_A1(cell), cal_c1x(cell_mns, cell, cell_pls), cal_c2x(cell_mns, cell, cell_pls), dt )\n",
    "cal_newtemp_by_ODE(cell_mns::Cell,     cell::Cell, cell_pls::BC_Robin, nx::Float64, dt::Float64 ) = cal_newtemp_by_ODE(temp(cell), cal_A1(cell), cal_c1x(cell_mns, cell, cell_pls), cal_c2x(cell_mns, cell, cell_pls), dt )\n",
    "cal_newtemp_by_ODE(cell_mns::BC_Robin, cell::Cell, cell_pls::BC_Robin, nx::Float64, dt::Float64 ) = cal_newtemp_by_ODE(temp(cell), cal_A1(cell), cal_c1x(cell_mns, cell, cell_pls), cal_c2x(cell_mns, cell, cell_pls), dt )\n",
    "\n",
    "# 空気中\n",
    "function cal_newtemp_by_ODE(cell::BC_Robin, cell_trans::Array{Cell,1}, cell_vent::Array{BC_Robin,1}, Q_vent::Array{Float64,1}, Hi::Float64, dt::Float64)\n",
    "     return cal_newtemp_by_ODE( temp(cell), cal_A1(cell), \n",
    "            cal_c1(cell, cell_trans, cell_vent, Q_vent), \n",
    "            cal_c2(cell, cell_trans, cell_vent, Q_vent, Hi), dt )\n",
    "end"
   ]
  },
  {
   "cell_type": "markdown",
   "metadata": {},
   "source": [
    "## 6.2 水分収支式\n",
    "### 6.2.1 基礎方程式  \n",
    "\n",
    "水分収支式はその一般系として以下のように記述することができる。  \n",
    "\n",
    "$$ A_2 \\frac{\\partial \\mu_{(x,y,z)}}{\\partial t} = c_3 \\mu_{(x,y,z)} + c_4 $$ \n",
    "\n",
    "このとき、隣接する点の温度・湿度を一定値とみなせば、常微分方程式として解くことができる。  \n",
    "常微分方程式の解は以下のように与えられる。  \n",
    "\n",
    "$$ \\mu_{(x,y,z)}^{t+\\Delta t} = \\Bigl( \\mu_{(x,y,z)}^t + \\frac{c_4}{c_3} \\Bigl) exp \\Bigl( \\frac{c_3}{A_2}\\Delta t \\Bigl) - \\frac{c_4}{c_3} $$ \n"
   ]
  },
  {
   "cell_type": "code",
   "execution_count": 61,
   "metadata": {},
   "outputs": [
    {
     "data": {
      "text/plain": [
       "cal_newmiu_by_ODE (generic function with 6 methods)"
      ]
     },
     "metadata": {},
     "output_type": "display_data"
    }
   ],
   "source": [
    "function cal_newmiu_by_ODE(miu::Float64, A2::Float64, c3::Float64, c4::Float64, dt::Float64 )\n",
    "    return ( miu + c4 / c3 ) * exp( c3 / A2*dt ) - c4 / c3\n",
    "end\n",
    "cal_newmiu_by_ODE(;miu::Float64, A2::Float64, c3::Float64, c4::Float64, dt::Float64 ) = cal_newmiu_by_ODE(miu, A2, c3, c4, dt)"
   ]
  },
  {
   "cell_type": "markdown",
   "metadata": {},
   "source": [
    "### 6.2.2 各種係数の与え方"
   ]
  },
  {
   "cell_type": "markdown",
   "metadata": {},
   "source": [
    "#### 6.2.2.1 $A_2$の与え方  \n",
    "##### a) 多孔質材料中"
   ]
  },
  {
   "cell_type": "code",
   "execution_count": 62,
   "metadata": {},
   "outputs": [
    {
     "data": {
      "text/plain": [
       "cal_A2 (generic function with 2 methods)"
      ]
     },
     "metadata": {},
     "output_type": "display_data"
    }
   ],
   "source": [
    "cal_A2(rhow::Float64, V::Float64, dphi::Float64) = rhow * V * dphi\n",
    "cal_A2(cell::Cell) = 998.0 * vol(cell) * dphi(cell)"
   ]
  },
  {
   "cell_type": "markdown",
   "metadata": {},
   "source": [
    "##### b) 空気中"
   ]
  },
  {
   "cell_type": "code",
   "execution_count": 63,
   "metadata": {},
   "outputs": [
    {
     "data": {
      "text/plain": [
       "cal_A2 (generic function with 3 methods)"
      ]
     },
     "metadata": {},
     "output_type": "display_data"
    }
   ],
   "source": [
    "cal_A2(cell::Air) = ( 353.25/temp(cell) ) * vol(cell)\n",
    "cal_A2(cell::BC_Robin) = ( 353.25/temp(cell) ) * vol(cell)"
   ]
  },
  {
   "cell_type": "markdown",
   "metadata": {},
   "source": [
    "#### 6.2.2.2 $c_3$の与え方\n",
    "##### a) 多孔質材料中\n",
    "$c_3$は以下のように与えられる。\n",
    "\n",
    "$$ c_3 = \\sum_{i = x,y,z} \\Bigl ( c_{3(i)}^{+} + c_{3(i)}^{-} \\Bigl ) $$  "
   ]
  },
  {
   "cell_type": "markdown",
   "metadata": {},
   "source": [
    "\n",
    "ただし、\n",
    "\n",
    "$$ c_{3(x)} = - \\Bigl( \\frac{\\lambda_{\\mu(x)}^{'}}{dx2_{(x)}} + \\frac{\\lambda_{\\mu(x-1)}^{'}}{dx2_{(x-1)}} \\Bigl) $$\n",
    "$$ c_{3(x)}^{-} = - \\frac{\\lambda_{\\mu(x-1)}^{'}}{dx2_{(x-1)}} $$  \n",
    "$$ c_{3(x)}^{+} = - \\frac{\\lambda_{\\mu(x)}^{'}}{dx2_{(x)}}  $$  "
   ]
  },
  {
   "cell_type": "code",
   "execution_count": 64,
   "metadata": {},
   "outputs": [
    {
     "data": {
      "text/plain": [
       "cal_c3x_pls (generic function with 2 methods)"
      ]
     },
     "metadata": {},
     "output_type": "display_data"
    }
   ],
   "source": [
    "function cal_c3x(cell_mns::Cell, cell::Cell, cell_pls::Cell)\n",
    "    return cal_c3x_mns(cell, cell_mns) + cal_c3x_pls(cell, cell_pls)\n",
    "end\n",
    "\n",
    "function cal_c3x_mns(cell::Cell, cell_mns::Cell)\n",
    "    dldmg_mns  = 1.0 / ( dldmgx_mns(cell) + dldmgx_pls(cell_mns)  )\n",
    "    dldml_mns  = 1.0 / ( dldmlx_mns(cell) + dldmlx_pls(cell_mns)  )\n",
    "    return - ( dldmg_mns + dldml_mns )\n",
    "end\n",
    "\n",
    "function cal_c3x_pls(cell::Cell, cell_pls::Cell)\n",
    "    dldmg_pls  = 1.0 / ( dldmgx_pls(cell) + dldmgx_mns(cell_pls)  )\n",
    "    dldml_pls  = 1.0 / ( dldmlx_pls(cell) + dldmlx_mns(cell_pls)  )\n",
    "    return - ( dldmg_pls + dldml_pls )\n",
    "end"
   ]
  },
  {
   "cell_type": "markdown",
   "metadata": {},
   "source": [
    "##### b) 空気境界\n",
    "\n",
    "$$ c_{3(x)}^{-} = - \\alpha_{\\mu}^{'}$$  \n",
    "$$ c_{3(x)}^{+} = - \\alpha_{\\mu}^{'} $$  "
   ]
  },
  {
   "cell_type": "code",
   "execution_count": 65,
   "metadata": {},
   "outputs": [
    {
     "data": {
      "text/plain": [
       "cal_c3x_pls (generic function with 2 methods)"
      ]
     },
     "metadata": {},
     "output_type": "display_data"
    }
   ],
   "source": [
    "cal_c3x(cell_mns::BC_Robin, cell::Cell, cell_pls::Cell)     = cal_c3x_mns(cell, cell_mns) + cal_c3x_pls(cell, cell_pls)\n",
    "cal_c3x(cell_mns::Cell,     cell::Cell, cell_pls::BC_Robin) = cal_c3x_mns(cell, cell_mns) + cal_c3x_pls(cell, cell_pls)\n",
    "cal_c3x(cell_mns::BC_Robin, cell::Cell, cell_pls::BC_Robin) = cal_c3x_mns(cell, cell_mns) + cal_c3x_pls(cell, cell_pls)\n",
    "\n",
    "function cal_c3x_mns(cell::Cell, cell_mns::BC_Robin)\n",
    "    return - aldmu(cell_mns)\n",
    "end\n",
    "\n",
    "function cal_c3x_pls(cell::Cell, cell_pls::BC_Robin)\n",
    "    return - aldmu(cell_pls)\n",
    "end"
   ]
  },
  {
   "cell_type": "markdown",
   "metadata": {},
   "source": [
    "##### c) 空気中  \n",
    "\n",
    "$$ c_3 = -\\Sigma_{k=1}^{m}S_k \\alpha_{X}^{'} -\\Sigma_{j=1}^{n} Q_{ij} \\rho $$"
   ]
  },
  {
   "cell_type": "code",
   "execution_count": 66,
   "metadata": {},
   "outputs": [
    {
     "data": {
      "text/plain": [
       "cal_c3_vent (generic function with 1 method)"
      ]
     },
     "metadata": {},
     "output_type": "display_data"
    }
   ],
   "source": [
    "# メイン\n",
    "function cal_c3(cell::BC_Robin, cell_trans::Array{Cell,1}, cell_vent::Array{BC_Robin,1}, Q_vent::Array{Float64,1})\n",
    "    return cal_c3_trans(cell, cell_trans) + cal_c3_vent( cell, cell_vent, Q_vent)\n",
    "end\n",
    "\n",
    "# 伝達成分\n",
    "function cal_c3_trans(cell::BC_Robin, cell_else::Array{Cell,1})\n",
    "    return - sum( [ aldm(cell)/cal_dah_dpv(pv(cell), patm(cell) ) for i = 1:length(cell_else) ] )\n",
    "end\n",
    "\n",
    "# 換気成分\n",
    "function cal_c3_vent( cell::BC_Robin, cell_else::Array{BC_Robin,1}, Q_vent::Array{Float64,1})\n",
    "    return - sum( [ Q_vent[i] * (353.25/temp(cell)) for i = 1:length(cell_else) ] )\n",
    "end"
   ]
  },
  {
   "cell_type": "markdown",
   "metadata": {},
   "source": [
    "#### 6.2.2.3 $c_4$の与え方\n",
    "##### a) 多孔質材料中\n",
    "$c_4$は以下のように与えられる。\n",
    "\n",
    "$$ c_4 = \\sum_{i = x,y,z} \\Bigl ( c_{4(i)}^{+} + c_{4(i)}^{-} \\Bigl ) $$  "
   ]
  },
  {
   "cell_type": "markdown",
   "metadata": {},
   "source": [
    "ただし、\n",
    "$$c_{4(x)} = \\Bigl( \\frac{\\lambda_{\\mu(x)}'}{dx2_{(x)}} \\mu_{(x+1)} + \\frac{\\lambda_{\\mu(x-1)}'}{dx2_{(x-1)}} \\mu_{(x-1)} \\Bigl) + \\Bigl( \\frac{\\lambda_{T(x)}'}{dx2_{(x)}} (T_{(x+1)}-T_{(x)}) + \\frac{\\lambda_{T(x-1)}'}{dx2_{(x-1)}} (T_{(x)}-T_{(x-1)}) \\Bigl) -\\Bigl( - \\frac{\\lambda_{\\mu(x)}'}{dx2_{(x)}} + \\frac{\\lambda_{\\mu(x-1)}'}{dx2_{(x-1)}} \\Bigl)n_x g $$\n",
    "$$ c_{4(x)}^{-} = \\frac{\\lambda_{\\mu(l-1)}'}{dx2_{(x-1)}} ( \\mu_{(x-1)} - n_x g ) + \\frac{\\lambda_{T(x-1)}'}{dx2_{(x-1)}} (T_{(x)}-T_{(x-1)})$$  \n",
    "$$ c_{4(x)}^{+} = \\frac{\\lambda_{\\mu(l)}'}{dx2_{(x)}} ( \\mu_{(x+1)} + n_x g ) + \\frac{\\lambda_{T(x)}'}{dx2_{(x)}} (T_{(x+1)}-T_{(x)})$$  "
   ]
  },
  {
   "cell_type": "code",
   "execution_count": 67,
   "metadata": {},
   "outputs": [
    {
     "data": {
      "text/plain": [
       "cal_c4x_pls (generic function with 2 methods)"
      ]
     },
     "metadata": {},
     "output_type": "display_data"
    }
   ],
   "source": [
    "function cal_c4x(cell_mns::Cell, cell::Cell, cell_pls::Cell, nx::Float64)\n",
    "    return cal_c4x_mns(cell, cell_mns, nx) + cal_c4x_pls(cell, cell_pls, nx)\n",
    "end\n",
    "\n",
    "function cal_c4x_mns(cell::Cell, cell_mns::Cell, nx::Float64 )\n",
    "    dldmg_mns  = 1.0 / ( dldmgx_mns(cell) + dldmgx_pls(cell_mns)  )\n",
    "    dldml_mns  = 1.0 / ( dldmlx_mns(cell) + dldmlx_pls(cell_mns)  )\n",
    "    dldtg_mns  = 1.0 / ( dldtgx_mns(cell) + dldtgx_pls(cell_mns)  )\n",
    "    return ( dldmg_mns + dldml_mns ) * miu(cell_mns) - dldml_mns * nx * 9.806650 + dldtg_mns * ( temp(cell) - temp(cell_mns) )\n",
    "end\n",
    "\n",
    "function cal_c4x_pls(cell::Cell, cell_pls::Cell, nx::Float64 )\n",
    "    dldmg_pls  = 1.0 / ( dldmgx_pls(cell) + dldmgx_mns(cell_pls)  )\n",
    "    dldml_pls  = 1.0 / ( dldmlx_pls(cell) + dldmlx_mns(cell_pls)  )\n",
    "    dldtg_pls  = 1.0 / ( dldtgx_pls(cell) + dldtgx_mns(cell_pls)  )\n",
    "    return ( dldmg_pls + dldml_pls ) * miu(cell_pls) + dldml_pls * nx * 9.806650 + dldtg_pls * ( temp(cell_pls) - temp(cell) )\n",
    "end"
   ]
  },
  {
   "cell_type": "markdown",
   "metadata": {},
   "source": [
    "##### b)空気境界\n",
    "\n",
    "$$ c_{4(x)}^{-} = \\alpha_{\\mu}{'} \\mu_{(x-1)} + \\alpha_{T}^{'}(T_{(x)}-T_{(x-1)})$$  \n",
    "$$ c_{4(x)}^{+} = \\alpha_{\\mu}{'} \\mu_{(x+1)} + \\alpha_{T}^{'}(T_{(x+1)}-T_{(x)}) $$  "
   ]
  },
  {
   "cell_type": "code",
   "execution_count": 68,
   "metadata": {},
   "outputs": [
    {
     "data": {
      "text/plain": [
       "cal_c4x_pls (generic function with 2 methods)"
      ]
     },
     "metadata": {},
     "output_type": "display_data"
    }
   ],
   "source": [
    "cal_c4x(cell_mns::BC_Robin, cell::Cell, cell_pls::Cell,     nx::Float64 ) = cal_c4x_mns(cell, cell_mns, nx) + cal_c4x_pls(cell, cell_pls, nx)\n",
    "cal_c4x(cell_mns::Cell,     cell::Cell, cell_pls::BC_Robin, nx::Float64 ) = cal_c4x_mns(cell, cell_mns, nx) + cal_c4x_pls(cell, cell_pls, nx)\n",
    "cal_c4x(cell_mns::BC_Robin, cell::Cell, cell_pls::BC_Robin, nx::Float64 ) = cal_c4x_mns(cell, cell_mns, nx) + cal_c4x_pls(cell, cell_pls, nx)\n",
    "\n",
    "function cal_c4x_mns(cell::Cell, cell_mns::BC_Robin, nx::Float64 )\n",
    "    return aldmu(cell_mns) * miu(cell_mns) + aldt(cell_mns) * ( temp(cell) - temp(cell_mns) )\n",
    "end\n",
    "\n",
    "function cal_c4x_pls(cell::Cell, cell_pls::BC_Robin, nx::Float64 )\n",
    "    return aldmu(cell_pls) * miu(cell_pls) + aldt(cell_pls) * ( temp(cell) - temp(cell_pls) )\n",
    "end"
   ]
  },
  {
   "cell_type": "markdown",
   "metadata": {},
   "source": [
    "##### c) 空気中  \n",
    "\n",
    "$$ c_4 = \\Sigma_{k=1}^{m}S_k \\alpha_{X}^{'} X_k + \\Sigma_{j=1}^{n} Q_{ij} \\rho X_k + H^{'} $$"
   ]
  },
  {
   "cell_type": "code",
   "execution_count": 69,
   "metadata": {},
   "outputs": [
    {
     "data": {
      "text/plain": [
       "cal_c4_source (generic function with 1 method)"
      ]
     },
     "metadata": {},
     "output_type": "display_data"
    }
   ],
   "source": [
    "# メイン\n",
    "function cal_c4(cell::BC_Robin, cell_trans::Array{Cell,1}, cell_vent::Array{BC_Robin,1}, Q_vent::Array{Float64,1}, Hi::Float64)\n",
    "    return cal_c4_trans(cell, cell_trans) + cal_c4_vent( cell, cell_vent, Q_vent) + cal_c4_source(Hi)\n",
    "end\n",
    "\n",
    "# 伝達成分\n",
    "function cal_c4_trans(cell::BC_Robin, cell_else::Array{Cell,1})\n",
    "    return sum( [ aldm(cell)/cal_dah_dpv(pv(cell), patm(cell) ) * ah(cell_else[i]) for i = 1:length(cell_else) ] )\n",
    "end\n",
    "\n",
    "# 換気成分\n",
    "function cal_c4_vent( cell::BC_Robin, cell_else::Array{BC_Robin,1}, Q_vent::Array{Float64,1})\n",
    "    return sum( [ Q_vent[i] * (353.25/temp(cell_else[i])) * ah(cell_else[i]) for i = 1:length(cell_else) ] )\n",
    "end\n",
    "\n",
    "function cal_c4_source(Hi::Float64)\n",
    "    return Hi\n",
    "end"
   ]
  },
  {
   "cell_type": "markdown",
   "metadata": {},
   "source": [
    "### 6.2.3 計算式"
   ]
  },
  {
   "cell_type": "code",
   "execution_count": 70,
   "metadata": {},
   "outputs": [
    {
     "data": {
      "text/plain": [
       "cal_newAH_by_ODE (generic function with 1 method)"
      ]
     },
     "metadata": {},
     "output_type": "display_data"
    }
   ],
   "source": [
    "# 多孔質材料中\n",
    "cal_newmiu_by_ODE(cell_mns::Cell,     cell::Cell, cell_pls::Cell,     nx::Float64, dt::Float64 )  = cal_newmiu_by_ODE(miu(cell), cal_A2(cell), cal_c3x(cell_mns, cell, cell_pls), cal_c4x(cell_mns, cell, cell_pls, nx), dt )\n",
    "cal_newmiu_by_ODE(cell_mns::BC_Robin, cell::Cell, cell_pls::Cell,     nx::Float64, dt::Float64 )  = cal_newmiu_by_ODE(miu(cell), cal_A2(cell), cal_c3x(cell_mns, cell, cell_pls), cal_c4x(cell_mns, cell, cell_pls, nx), dt )\n",
    "cal_newmiu_by_ODE(cell_mns::Cell,     cell::Cell, cell_pls::BC_Robin, nx::Float64, dt::Float64 )  = cal_newmiu_by_ODE(miu(cell), cal_A2(cell), cal_c3x(cell_mns, cell, cell_pls), cal_c4x(cell_mns, cell, cell_pls, nx), dt )\n",
    "cal_newmiu_by_ODE(cell_mns::BC_Robin, cell::Cell, cell_pls::BC_Robin, nx::Float64, dt::Float64 )  = cal_newmiu_by_ODE(miu(cell), cal_A2(cell), cal_c3x(cell_mns, cell, cell_pls), cal_c4x(cell_mns, cell, cell_pls, nx), dt )\n",
    "\n",
    "# 空気中\n",
    "function cal_newAH_by_ODE(cell::BC_Robin, cell_trans::Array{Cell,1}, cell_vent::Array{BC_Robin,1}, Q_vent::Array{Float64,1}, Hi::Float64, dt::Float64)\n",
    "    return cal_newmiu_by_ODE( ah(cell), cal_A2(cell), \n",
    "           cal_c3(cell, cell_trans, cell_vent, Q_vent), \n",
    "           cal_c4(cell, cell_trans, cell_vent, Q_vent, Hi), dt )\n",
    "end"
   ]
  },
  {
   "cell_type": "markdown",
   "metadata": {},
   "source": [
    "## 検証"
   ]
  },
  {
   "cell_type": "code",
   "execution_count": 71,
   "metadata": {},
   "outputs": [
    {
     "name": "stderr",
     "output_type": "stream",
     "text": [
      "WARNING: replacing module Lewis_relation.\n",
      "WARNING: replacing module Lewis_relation.\n",
      "WARNING: replacing module Lewis_relation.\n",
      "WARNING: replacing module property_conversion.\n",
      "WARNING: replacing module water_property.\n",
      "WARNING: replacing module Lewis_relation.\n",
      "WARNING: replacing module Lewis_relation.\n",
      "WARNING: replacing module Lewis_relation.\n",
      "WARNING: replacing module Lewis_relation.\n",
      "WARNING: replacing module Lewis_relation.\n"
     ]
    },
    {
     "data": {
      "text/plain": [
       "56-element Vector{Any}:\n",
       " BC_Robin(\"NoName\", Air(\"air_in\", 1, 0.0, 0.0, 0.0, 1.0, 293.15, 0.45, 101325.0, 0.0, 0.0, 0.0, 0.0, 0.0, 0.0), Cell([1, 1, 1], [0.0, 0.0, 0.0], 1.0, 1.0, 1.0, 1.0, 1.0, 1.0, 0.0, 0.0, 0.0, 0.0, 0.0, 101325.0, \"NoName\", [[0.0, 0.0, 0.0], [0.0, 0.0, 0.0]], [[0.0, 0.0, 0.0], [0.0, 0.0, 0.0]], [[0.0, 0.0, 0.0], [0.0, 0.0, 0.0]]), 0.0, 0.0, 0.0, 9.3, 4.4, 4.9, 2.90797836530015e-8, \"E\", 0.0, 0.0)\n",
       " Cell([2, 1, 1], [0.0, 0.0, 0.0], 0.001, 1.0, 1.0, 0.0, 1.0, 1.0, 293.15, -108120.1202194354, 0.0, 0.0, 0.0, 101325.0, \"plasterboard\", [[0.0, 0.0, 0.0], [0.0, 0.0, 0.0]], [[0.0, 0.0, 0.0], [0.0, 0.0, 0.0]], [[0.0, 0.0, 0.0], [0.0, 0.0, 0.0]])\n",
       " Cell([3, 1, 1], [0.0, 0.0, 0.0], 0.001, 1.0, 1.0, 0.0005, 1.0, 1.0, 293.15, -108120.1202194354, 0.0, 0.0, 0.0, 101325.0, \"plasterboard\", [[0.0, 0.0, 0.0], [0.0, 0.0, 0.0]], [[0.0, 0.0, 0.0], [0.0, 0.0, 0.0]], [[0.0, 0.0, 0.0], [0.0, 0.0, 0.0]])\n",
       " Cell([4, 1, 1], [0.0, 0.0, 0.0], 0.001, 1.0, 1.0, 0.0005, 1.0, 1.0, 293.15, -108120.1202194354, 0.0, 0.0, 0.0, 101325.0, \"plasterboard\", [[0.0, 0.0, 0.0], [0.0, 0.0, 0.0]], [[0.0, 0.0, 0.0], [0.0, 0.0, 0.0]], [[0.0, 0.0, 0.0], [0.0, 0.0, 0.0]])\n",
       " Cell([5, 1, 1], [0.0, 0.0, 0.0], 0.001, 1.0, 1.0, 0.0005, 1.0, 1.0, 293.15, -108120.1202194354, 0.0, 0.0, 0.0, 101325.0, \"plasterboard\", [[0.0, 0.0, 0.0], [0.0, 0.0, 0.0]], [[0.0, 0.0, 0.0], [0.0, 0.0, 0.0]], [[0.0, 0.0, 0.0], [0.0, 0.0, 0.0]])\n",
       " Cell([6, 1, 1], [0.0, 0.0, 0.0], 0.001, 1.0, 1.0, 0.0005, 1.0, 1.0, 293.15, -108120.1202194354, 0.0, 0.0, 0.0, 101325.0, \"plasterboard\", [[0.0, 0.0, 0.0], [0.0, 0.0, 0.0]], [[0.0, 0.0, 0.0], [0.0, 0.0, 0.0]], [[0.0, 0.0, 0.0], [0.0, 0.0, 0.0]])\n",
       " Cell([7, 1, 1], [0.0, 0.0, 0.0], 0.001, 1.0, 1.0, 0.0005, 1.0, 1.0, 293.15, -108120.1202194354, 0.0, 0.0, 0.0, 101325.0, \"plasterboard\", [[0.0, 0.0, 0.0], [0.0, 0.0, 0.0]], [[0.0, 0.0, 0.0], [0.0, 0.0, 0.0]], [[0.0, 0.0, 0.0], [0.0, 0.0, 0.0]])\n",
       " Cell([8, 1, 1], [0.0, 0.0, 0.0], 0.001, 1.0, 1.0, 0.0005, 1.0, 1.0, 293.15, -108120.1202194354, 0.0, 0.0, 0.0, 101325.0, \"plasterboard\", [[0.0, 0.0, 0.0], [0.0, 0.0, 0.0]], [[0.0, 0.0, 0.0], [0.0, 0.0, 0.0]], [[0.0, 0.0, 0.0], [0.0, 0.0, 0.0]])\n",
       " Cell([9, 1, 1], [0.0, 0.0, 0.0], 0.001, 1.0, 1.0, 0.0005, 1.0, 1.0, 293.15, -108120.1202194354, 0.0, 0.0, 0.0, 101325.0, \"plasterboard\", [[0.0, 0.0, 0.0], [0.0, 0.0, 0.0]], [[0.0, 0.0, 0.0], [0.0, 0.0, 0.0]], [[0.0, 0.0, 0.0], [0.0, 0.0, 0.0]])\n",
       " Cell([10, 1, 1], [0.0, 0.0, 0.0], 0.001, 1.0, 1.0, 0.0005, 1.0, 1.0, 293.15, -108120.1202194354, 0.0, 0.0, 0.0, 101325.0, \"plasterboard\", [[0.0, 0.0, 0.0], [0.0, 0.0, 0.0]], [[0.0, 0.0, 0.0], [0.0, 0.0, 0.0]], [[0.0, 0.0, 0.0], [0.0, 0.0, 0.0]])\n",
       " ⋮\n",
       " Cell([48, 1, 1], [0.0, 0.0, 0.0], 0.001, 1.0, 1.0, 0.001, 1.0, 1.0, 293.15, -108120.1202194354, 0.0, 0.0, 0.0, 101325.0, \"breathable_water_proof_sheet\", [[0.0, 0.0, 0.0], [0.0, 0.0, 0.0]], [[0.0, 0.0, 0.0], [0.0, 0.0, 0.0]], [[0.0, 0.0, 0.0], [0.0, 0.0, 0.0]])\n",
       " BC_Robin(\"NoName\", Air(\"air_mid\", 1, 0.0, 0.0, 0.0, 0.018, 293.15, 0.45, 101325.0, 0.0, 0.0, 0.0, 0.0, 0.0, 0.0), Cell([1, 1, 1], [0.0, 0.0, 0.0], 1.0, 1.0, 1.0, 1.0, 1.0, 1.0, 0.0, 0.0, 0.0, 0.0, 0.0, 101325.0, \"NoName\", [[0.0, 0.0, 0.0], [0.0, 0.0, 0.0]], [[0.0, 0.0, 0.0], [0.0, 0.0, 0.0]], [[0.0, 0.0, 0.0], [0.0, 0.0, 0.0]]), 0.0, 0.0, 0.0, 4.4, 4.4, 0.0, 2.90797836530015e-8, \"E\", 0.0, 0.0)\n",
       " Cell([50, 1, 1], [0.0, 0.0, 0.0], 0.0015, 1.0, 1.0, 0.0, 1.0, 1.0, 293.15, -108120.1202194354, 0.0, 0.0, 0.0, 101325.0, \"ceramic_siding\", [[0.0, 0.0, 0.0], [0.0, 0.0, 0.0]], [[0.0, 0.0, 0.0], [0.0, 0.0, 0.0]], [[0.0, 0.0, 0.0], [0.0, 0.0, 0.0]])\n",
       " Cell([51, 1, 1], [0.0, 0.0, 0.0], 0.002, 1.0, 1.0, 0.001, 1.0, 1.0, 293.15, -108120.1202194354, 0.0, 0.0, 0.0, 101325.0, \"ceramic_siding\", [[0.0, 0.0, 0.0], [0.0, 0.0, 0.0]], [[0.0, 0.0, 0.0], [0.0, 0.0, 0.0]], [[0.0, 0.0, 0.0], [0.0, 0.0, 0.0]])\n",
       " Cell([52, 1, 1], [0.0, 0.0, 0.0], 0.002, 1.0, 1.0, 0.001, 1.0, 1.0, 293.15, -108120.1202194354, 0.0, 0.0, 0.0, 101325.0, \"ceramic_siding\", [[0.0, 0.0, 0.0], [0.0, 0.0, 0.0]], [[0.0, 0.0, 0.0], [0.0, 0.0, 0.0]], [[0.0, 0.0, 0.0], [0.0, 0.0, 0.0]])\n",
       " Cell([53, 1, 1], [0.0, 0.0, 0.0], 0.002, 1.0, 1.0, 0.001, 1.0, 1.0, 293.15, -108120.1202194354, 0.0, 0.0, 0.0, 101325.0, \"ceramic_siding\", [[0.0, 0.0, 0.0], [0.0, 0.0, 0.0]], [[0.0, 0.0, 0.0], [0.0, 0.0, 0.0]], [[0.0, 0.0, 0.0], [0.0, 0.0, 0.0]])\n",
       " Cell([54, 1, 1], [0.0, 0.0, 0.0], 0.002, 1.0, 1.0, 0.001, 1.0, 1.0, 293.15, -108120.1202194354, 0.0, 0.0, 0.0, 101325.0, \"ceramic_siding\", [[0.0, 0.0, 0.0], [0.0, 0.0, 0.0]], [[0.0, 0.0, 0.0], [0.0, 0.0, 0.0]], [[0.0, 0.0, 0.0], [0.0, 0.0, 0.0]])\n",
       " Cell([55, 1, 1], [0.0, 0.0, 0.0], 0.0015, 1.0, 1.0, 0.0015, 1.0, 1.0, 293.15, -108120.1202194354, 0.0, 0.0, 0.0, 101325.0, \"ceramic_siding\", [[0.0, 0.0, 0.0], [0.0, 0.0, 0.0]], [[0.0, 0.0, 0.0], [0.0, 0.0, 0.0]], [[0.0, 0.0, 0.0], [0.0, 0.0, 0.0]])\n",
       " BC_Robin(\"NoName\", Air(\"air_out\", 1, 0.0, 0.0, 0.0, 1.0, 293.15, 0.45, 101325.0, 0.0, 0.0, 0.0, 0.0, 0.0, 0.0), Cell([1, 1, 1], [0.0, 0.0, 0.0], 1.0, 1.0, 1.0, 1.0, 1.0, 1.0, 0.0, 0.0, 0.0, 0.0, 0.0, 101325.0, \"NoName\", [[0.0, 0.0, 0.0], [0.0, 0.0, 0.0]], [[0.0, 0.0, 0.0], [0.0, 0.0, 0.0]], [[0.0, 0.0, 0.0], [0.0, 0.0, 0.0]]), 0.0, 0.0, 0.0, 27.4, 4.4, 23.0, 2.90797836530015e-8, \"E\", 0.0, 0.0)"
      ]
     },
     "metadata": {},
     "output_type": "display_data"
    }
   ],
   "source": [
    "using Dates # 解析内時間を計算するためのモジュール\n",
    "include(\"../module/air.jl\");  # 空間の構成要素を表すモジュール\n",
    "include(\"../module/boundary_condition.jl\"); # 境界条件を表すモジュール\n",
    "include(\"../module/transfer_in_media.jl\"); # 材料中における熱・水分の移動を表すモジュール\n",
    "include(\"../module/climate_data.jl\"); # 気象データを取り扱うモジュール\n",
    "include(\"../logger.jl\"); # 計算結果を保存するモジュール\n",
    "target_model = input_cell_data(\"../input_data/1D_model/WG_benchmark_stage0.csv\")"
   ]
  },
  {
   "cell_type": "code",
   "execution_count": 73,
   "metadata": {},
   "outputs": [
    {
     "data": {
      "text/plain": [
       "-10000.0"
      ]
     },
     "metadata": {},
     "output_type": "display_data"
    }
   ],
   "source": [
    "target_model[1].air.temp = 300.15\n",
    "target_model[1].air.rh = 0.4\n",
    "target_model[end].air.temp = 300.15\n",
    "target_model[end].air.rh = 0.4\n",
    "target_model[4].temp = 300.15\n",
    "target_model[4].miu  = -10000.0"
   ]
  },
  {
   "cell_type": "code",
   "execution_count": 74,
   "metadata": {},
   "outputs": [
    {
     "name": "stdout",
     "output_type": "stream",
     "text": [
      "293.15   -108120.1202194354"
     ]
    }
   ],
   "source": [
    "print(temp(target_model[2]),\"   \", miu(target_model[2]))"
   ]
  },
  {
   "cell_type": "code",
   "execution_count": 75,
   "metadata": {},
   "outputs": [
    {
     "data": {
      "text/plain": [
       "-0.003341587760073147"
      ]
     },
     "metadata": {},
     "output_type": "display_data"
    }
   ],
   "source": [
    "cal_c1x_mns( target_model[2], target_model[1]) / cal_c2x_mns(target_model[2], target_model[1])"
   ]
  },
  {
   "cell_type": "code",
   "execution_count": 76,
   "metadata": {},
   "outputs": [
    {
     "data": {
      "text/plain": [
       "-293.15"
      ]
     },
     "metadata": {},
     "output_type": "display_data"
    }
   ],
   "source": [
    "cal_c2x_pls(target_model[2], target_model[3]) / cal_c1x_pls( target_model[2], target_model[3])"
   ]
  },
  {
   "cell_type": "code",
   "execution_count": 77,
   "metadata": {},
   "outputs": [
    {
     "name": "stdout",
     "output_type": "stream",
     "text": [
      "293.66849007328113\n",
      "-108120.12045544012\n"
     ]
    }
   ],
   "source": [
    "cal_A1(target_model[2])\n",
    "cal_A2(target_model[2])\n",
    "cal_c1x(target_model[1], target_model[2], target_model[3])\n",
    "cal_c2x(target_model[1], target_model[2], target_model[3])\n",
    "cal_c3x(target_model[1], target_model[2], target_model[3])\n",
    "cal_c4x(target_model[1], target_model[2], target_model[3], 0.0)\n",
    "println(cal_newtemp_by_ODE(target_model[1], target_model[2], target_model[3], 0.0, 10.0))\n",
    "println(cal_newmiu_by_ODE(target_model[1], target_model[2], target_model[3], 0.0, 10.0))"
   ]
  },
  {
   "cell_type": "code",
   "execution_count": 78,
   "metadata": {},
   "outputs": [
    {
     "name": "stdout",
     "output_type": "stream",
     "text": [
      "297.5160549418253\n",
      "-108120.07667439966\n"
     ]
    }
   ],
   "source": [
    "println(cal_newtemp_by_ODE(target_model[2], target_model[3], target_model[4], 0.0, 10.0))\n",
    "println(cal_newmiu_by_ODE(target_model[2], target_model[3], target_model[4], 0.0, 1000.0))"
   ]
  },
  {
   "cell_type": "code",
   "execution_count": 79,
   "metadata": {},
   "outputs": [
    {
     "data": {
      "text/plain": [
       "-5.711849491824129e-5"
      ]
     },
     "metadata": {},
     "output_type": "display_data"
    }
   ],
   "source": [
    "cal_A1(target_model[end-1])\n",
    "cal_A2(target_model[end-1])\n",
    "cal_c1x(target_model[end-2], target_model[end-1], target_model[end])\n",
    "cal_c2x(target_model[end-2], target_model[end-1], target_model[end])\n",
    "cal_c3x(target_model[end-2], target_model[end-1], target_model[end])\n",
    "cal_c4x(target_model[end-2], target_model[end-1], target_model[end], 0.0)"
   ]
  },
  {
   "cell_type": "code",
   "execution_count": 80,
   "metadata": {},
   "outputs": [
    {
     "name": "stdout",
     "output_type": "stream",
     "text": [
      "293.62633211631027\n",
      "-108120.12037677188\n"
     ]
    }
   ],
   "source": [
    "println(cal_newtemp_by_ODE(target_model[end-2], target_model[end-1], target_model[end], 0.0, 10.0))\n",
    "println(cal_newmiu_by_ODE(target_model[end-2], target_model[end-1], target_model[end], 0.0, 10.0))"
   ]
  }
 ],
 "metadata": {
  "kernelspec": {
   "display_name": "Julia 1.7.3",
   "language": "julia",
   "name": "julia-1.7"
  },
  "language_info": {
   "file_extension": ".jl",
   "mimetype": "application/julia",
   "name": "julia",
   "version": "1.7.3"
  }
 },
 "nbformat": 4,
 "nbformat_minor": 4
}
