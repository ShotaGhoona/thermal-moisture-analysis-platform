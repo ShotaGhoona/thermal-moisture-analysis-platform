{
 "cells": [
  {
   "cell_type": "markdown",
   "metadata": {
    "vscode": {
     "languageId": "julia"
    }
   },
   "source": [
    "<br>\n",
    "\n",
    "# 開口条件（Opening）"
   ]
  },
  {
   "cell_type": "markdown",
   "metadata": {},
   "source": [
    "## 1. 開口条件を定義する構造体  "
   ]
  },
  {
   "cell_type": "code",
   "execution_count": null,
   "metadata": {},
   "outputs": [
    {
     "name": "stderr",
     "output_type": "stream",
     "text": [
      "WARNING: replacing module Lewis_relation.\n",
      "WARNING: replacing module Lewis_relation.\n"
     ]
    },
    {
     "data": {
      "text/plain": [
       "Opening"
      ]
     },
     "execution_count": 1,
     "metadata": {},
     "output_type": "execute_result"
    }
   ],
   "source": [
    "include(\"room.jl\")\n",
    "include(\"climate.jl\")\n",
    "\n",
    "# 隙間・開口の構造\n",
    "Base.@kwdef mutable struct Opening\n",
    "    # 入力情報\n",
    "    BC::Int     = 1     # 枝番号\n",
    "    IP::Int     = 1     # 上流側室番号\n",
    "    IM::Int     = 1     # 下流側室番号\n",
    "    Type::String    = \"NaN\"# 計算タイプ（gap：隙間、opening：開口、constant：換気量入力、fan：換気ファンなど）\n",
    "    Qup::Float64    = 0.0  # 上流室方向流量[m3/s] \n",
    "    Qdw::Float64    = 0.0  # 下流室方向流量[m3/s] \n",
    "    ION::String     = \"NaN\"# 壁の向き（VT:鉛直壁の開口　HN：天井開口）\n",
    "    DIR_IP::String  = \"NaN\"   # 上流側開口方位\n",
    "    DIR_IM::String  = \"NaN\"   # 下流側開口方位\n",
    "    B::Float64  = 0.0   # 開口の幅[m]\n",
    "    S::Float64  = 2     # 縦隙間本数(扉なら２, 引き違いなら３)\n",
    "    H::Float64  = 0.0   # 開口高さ（HU-HD）計算により求めるため入力値としては不要\n",
    "    HU::Float64 = 0.0   # 開口高さ（開口上側）[m]\n",
    "    HD::Float64 = 0.0   # 開口高さ（開口下側）[m]\n",
    "    #HS::Float64 = 0.0   # 床面差[m]\n",
    "    M::Float64  = 0.0   # 隙間特性値\n",
    "    MM::Float64 = 0.0   # 隙間特性値(開口下端)\n",
    "    α::Float64  = 0.0   # 流量係数\n",
    "    A::Float64  = 0.0   # 開口面積\n",
    "    SV::Float64 = 0.0   # 縦開口面積\n",
    "    SH::Float64 = 0.0   # 横開口面積\n",
    "    QOO::Float64= 0.0   # 容積流量(9.8Pa時) ⇒　2024/12/06使わない方向で検討中\n",
    "    QU::Float64 = 0.0   # 開口下端容積流量(9.8Pa時) ⇒　2024/12/06使わない方向で検討中\n",
    "    QV::Float64= 0.0    # 縦方向開口流量(9.8Pa時)\n",
    "    QH::Float64 = 0.0   # 横方向開口流量(9.8Pa時)\n",
    "    WC_IP::Float64  = 0.0   # 上流側風圧係数\n",
    "    WC_IM::Float64  = 0.0   # 下流側風圧係数\n",
    "    V_SM::Int   = 0.0       # 同様枝数\n",
    "\n",
    "    # 計算情報\n",
    "    room_IP::Union{Room, Climate}   = Room() # 上流側室情報\n",
    "    room_IM::Union{Room, Climate}   = Room() # 下流側室情報\n",
    "    dP::Float64 = 0.0   # 圧力差\n",
    "    flux::Dict{String, Float64} = Dict( \"W\"     => 0.0, # 開口の正味流量\n",
    "                                        \"WU\"    => 0.0, # 開口の正方向流量\n",
    "                                        \"WD\"    => 0.0, # 開口の負方向流量\n",
    "                                        \"DW\"    => 0.0, # 開口の正味流量の圧力差微分\n",
    "                                        \"DWU\"   => 0.0, # 開口の正方向流量の圧力差微分\n",
    "                                        \"DWD\"   => 0.0) # 開口の負方向量の圧力差微分\n",
    "\n",
    "end"
   ]
  },
  {
   "cell_type": "code",
   "execution_count": 2,
   "metadata": {},
   "outputs": [
    {
     "data": {
      "text/plain": [
       "Qdw (generic function with 1 method)"
      ]
     },
     "execution_count": 2,
     "metadata": {},
     "output_type": "execute_result"
    }
   ],
   "source": [
    "########################################\n",
    "# 出力用の関数\n",
    "IP(opening::Opening)        = opening.IP\n",
    "IM(opening::Opening)        = opening.IM\n",
    "room_IP(opening::Opening)   = opening.room_IP\n",
    "room_IM(opening::Opening)   = opening.room_IM\n",
    "WC_IP(opening::Opening)     = opening.WC_IP\n",
    "WC_IM(opening::Opening)     = opening.WC_IM\n",
    "DIR_IP(opening::Opening)    = opening.DIR_IP\n",
    "DIR_IM(opening::Opening)    = opening.DIR_IM\n",
    "Type(opening::Opening)      = opening.Type\n",
    "Qup(opening::Opening)       = opening.Qup\n",
    "Qdw(opening::Opening)       = opening.Qdw"
   ]
  },
  {
   "cell_type": "markdown",
   "metadata": {},
   "source": [
    "## 2. 隙間・情報のデータセットの入力\n",
    "\n",
    "ここでは/input_data/opening_condition.csvに事前に入力された壁の情報から、構造体Openingに値を入力するための関数を示す。"
   ]
  },
  {
   "cell_type": "code",
   "execution_count": null,
   "metadata": {},
   "outputs": [
    {
     "data": {
      "text/plain": [
       "input_opening_data (generic function with 3 methods)"
      ]
     },
     "execution_count": 3,
     "metadata": {},
     "output_type": "execute_result"
    }
   ],
   "source": [
    "function input_opening_data(file_name::String, header::Int = 3)\n",
    "    \n",
    "    # 入力ファイルの読み込み\n",
    "    # 相対パスを入力の上指定さえれている場合、\n",
    "    if contains(file_name, \"./\")\n",
    "        file_directory = file_name\n",
    "    # ファイル名＋csvの形で書かれている場合、\n",
    "    elseif contains(file_name, \".csv\")\n",
    "        file_directory = \"../input_data/building_network_model/\"*string(file_name)\n",
    "    # ファイル名のみが書かれている場合、\n",
    "    else\n",
    "        file_directory = \"../input_data/building_network_model/\"*string(file_name)*\".csv\"        \n",
    "    end\n",
    "    \n",
    "    input_data = CSV.File( file_directory, header = header) |> DataFrame\n",
    "    \n",
    "    # 空の壁データを作成\n",
    "    data = [ Opening() for i = 1 : length(input_data.BC) ]\n",
    "    \n",
    "    # 入力ファイルに従ってデータを上書き\n",
    "    for i = 1 : length(input_data.BC)\n",
    "        #####################################\n",
    "        # 壁の基本情報の入力\n",
    "        data[i].BC   = input_data.BC[i]\n",
    "        data[i].IP   = input_data.IP[i]\n",
    "        data[i].IM   = input_data.IM[i]\n",
    "        data[i].Type = input_data.Type[i]\n",
    "        data[i].Qup  = input_data.Qup[i]\n",
    "        data[i].Qdw  = input_data.Qdw[i]\n",
    "        data[i].ION  = input_data.ION[i]\n",
    "        try data[i].DIR_IP  = input_data.DIR_IP[i] catch end\n",
    "        try data[i].DIR_IM  = input_data.DIR_IM[i] catch end\n",
    "        data[i].B    = input_data.B[i]\n",
    "        data[i].S    = input_data.S[i]\n",
    "        data[i].HU   = input_data.HU[i]\n",
    "        data[i].HD   = input_data.HD[i]\n",
    "        try data[i].HS   = input_data.HS[i] catch end\n",
    "        data[i].M    = input_data.M[i]\n",
    "        data[i].MM   = input_data.MM[i]\n",
    "        data[i].α    = input_data.alpha[i]\n",
    "        data[i].A    = input_data.A[i]\n",
    "        data[i].SV   = input_data.SV[i]\n",
    "        data[i].SH   = input_data.SH[i]\n",
    "        try data[i].QOO  = input_data.QOO[i] catch end\n",
    "        try data[i].QU   = input_data.QU[i] catch end\n",
    "        try data[i].QV  = input_data.QV[i] catch end\n",
    "        try data[i].QH   = input_data.QH[i] catch end\n",
    "        try data[i].WC   = input_data.WC[i] catch end\n",
    "        try data[i].WC_IP   = input_data.WC_IP[i]  catch end\n",
    "        try data[i].WC_IM   = input_data.WC_IM[i]  catch end\n",
    "        data[i].V_SM = input_data.V_SM[i]\n",
    "    \n",
    "        # 壁の方位は？IP, IMを用いて方位を定義すべき？\n",
    "    end\n",
    "    return data\n",
    "end\n",
    "\n",
    "input_opening_data(;file_name::String, header::Int = 3) = input_opening_data(file_name, header)"
   ]
  },
  {
   "cell_type": "code",
   "execution_count": 4,
   "metadata": {},
   "outputs": [
    {
     "data": {
      "text/plain": [
       "6-element Vector{Opening}:\n",
       " Opening(1, 1, 2, \"constant\", 0.2222, 0.2222, \"VT\", \"N\", \"S\", 0.998, 2, 0.0, 1.999, 0.001, 1.5, 1.5, 0.0, 0.0, 0.0, 0.0, 15.0, 15.0, 0.0, 0.0, 1, Room(0, \"no name\", Air(0, \"NoName\", 0.0, 0.0, 0.0, 0.0, 0.0, 0.0, 0.0, 0.0, 101325.0, 0.0, 0.0, 0.0, 0.0, 0.0, 0.0, 0.0, 0.0, 0.0), 0.0, 0.0, 0.0, 0.0, 0.0, 0.0, \"OFF\"), Room(0, \"no name\", Air(0, \"NoName\", 0.0, 0.0, 0.0, 0.0, 0.0, 0.0, 0.0, 0.0, 101325.0, 0.0, 0.0, 0.0, 0.0, 0.0, 0.0, 0.0, 0.0, 0.0), 0.0, 0.0, 0.0, 0.0, 0.0, 0.0, \"OFF\"), 0.0)\n",
       " Opening(2, 1, 3, \"constant\", 0.021, 0.021, \"VT\", \"E\", \"W\", 0.79, 2, 0.0, 1.995, 0.01, 1.8, 1.8, 0.0, 0.0, 0.0, 0.0, 15.0, 15.0, 0.0, 0.0, 1, Room(0, \"no name\", Air(0, \"NoName\", 0.0, 0.0, 0.0, 0.0, 0.0, 0.0, 0.0, 0.0, 101325.0, 0.0, 0.0, 0.0, 0.0, 0.0, 0.0, 0.0, 0.0, 0.0), 0.0, 0.0, 0.0, 0.0, 0.0, 0.0, \"OFF\"), Room(0, \"no name\", Air(0, \"NoName\", 0.0, 0.0, 0.0, 0.0, 0.0, 0.0, 0.0, 0.0, 101325.0, 0.0, 0.0, 0.0, 0.0, 0.0, 0.0, 0.0, 0.0, 0.0), 0.0, 0.0, 0.0, 0.0, 0.0, 0.0, \"OFF\"), 0.0)\n",
       " Opening(3, 2, 3, \"constant\", 0.021, 0.021, \"VT\", \"E\", \"W\", 0.79, 2, 0.0, 1.995, 0.01, 1.8, 1.8, 0.0, 0.0, 0.0, 0.0, 15.0, 15.0, 0.0, 0.0, 1, Room(0, \"no name\", Air(0, \"NoName\", 0.0, 0.0, 0.0, 0.0, 0.0, 0.0, 0.0, 0.0, 101325.0, 0.0, 0.0, 0.0, 0.0, 0.0, 0.0, 0.0, 0.0, 0.0), 0.0, 0.0, 0.0, 0.0, 0.0, 0.0, \"OFF\"), Room(0, \"no name\", Air(0, \"NoName\", 0.0, 0.0, 0.0, 0.0, 0.0, 0.0, 0.0, 0.0, 101325.0, 0.0, 0.0, 0.0, 0.0, 0.0, 0.0, 0.0, 0.0, 0.0), 0.0, 0.0, 0.0, 0.0, 0.0, 0.0, \"OFF\"), 0.0)\n",
       " Opening(4, 1, 4, \"constant\", 0.021, 0.021, \"VT\", \"W\", \"E\", 0.79, 2, 0.0, 1.995, 0.01, 1.8, 1.8, 0.0, 0.0, 0.0, 0.0, 15.0, 15.0, 0.0, 0.0, 1, Room(0, \"no name\", Air(0, \"NoName\", 0.0, 0.0, 0.0, 0.0, 0.0, 0.0, 0.0, 0.0, 101325.0, 0.0, 0.0, 0.0, 0.0, 0.0, 0.0, 0.0, 0.0, 0.0), 0.0, 0.0, 0.0, 0.0, 0.0, 0.0, \"OFF\"), Room(0, \"no name\", Air(0, \"NoName\", 0.0, 0.0, 0.0, 0.0, 0.0, 0.0, 0.0, 0.0, 101325.0, 0.0, 0.0, 0.0, 0.0, 0.0, 0.0, 0.0, 0.0, 0.0), 0.0, 0.0, 0.0, 0.0, 0.0, 0.0, \"OFF\"), 0.0)\n",
       " Opening(5, 2, 4, \"constant\", 0.021, 0.021, \"VT\", \"W\", \"E\", 0.79, 2, 0.0, 1.995, 0.01, 1.8, 1.8, 0.0, 0.0, 0.0, 0.0, 15.0, 15.0, 0.0, 0.0, 1, Room(0, \"no name\", Air(0, \"NoName\", 0.0, 0.0, 0.0, 0.0, 0.0, 0.0, 0.0, 0.0, 101325.0, 0.0, 0.0, 0.0, 0.0, 0.0, 0.0, 0.0, 0.0, 0.0), 0.0, 0.0, 0.0, 0.0, 0.0, 0.0, \"OFF\"), Room(0, \"no name\", Air(0, \"NoName\", 0.0, 0.0, 0.0, 0.0, 0.0, 0.0, 0.0, 0.0, 101325.0, 0.0, 0.0, 0.0, 0.0, 0.0, 0.0, 0.0, 0.0, 0.0), 0.0, 0.0, 0.0, 0.0, 0.0, 0.0, \"OFF\"), 0.0)\n",
       " Opening(6, 3, 4, \"constant\", 0.021, 0.021, \"VT\", \"S\", \"N\", 0.79, 2, 0.0, 1.995, 0.01, 1.8, 1.8, 0.0, 0.0, 0.0, 0.0, 15.0, 15.0, 0.0, 0.0, 1, Room(0, \"no name\", Air(0, \"NoName\", 0.0, 0.0, 0.0, 0.0, 0.0, 0.0, 0.0, 0.0, 101325.0, 0.0, 0.0, 0.0, 0.0, 0.0, 0.0, 0.0, 0.0, 0.0), 0.0, 0.0, 0.0, 0.0, 0.0, 0.0, \"OFF\"), Room(0, \"no name\", Air(0, \"NoName\", 0.0, 0.0, 0.0, 0.0, 0.0, 0.0, 0.0, 0.0, 101325.0, 0.0, 0.0, 0.0, 0.0, 0.0, 0.0, 0.0, 0.0, 0.0), 0.0, 0.0, 0.0, 0.0, 0.0, 0.0, \"OFF\"), 0.0)"
      ]
     },
     "execution_count": 4,
     "metadata": {},
     "output_type": "execute_result"
    }
   ],
   "source": [
    "# 読み込み例\n",
    "using CSV\n",
    "using DataFrames\n",
    "openings = input_opening_data(\"../input_data/building_network_model/opening_condition.csv\")"
   ]
  },
  {
   "cell_type": "code",
   "execution_count": null,
   "metadata": {},
   "outputs": [],
   "source": []
  }
 ],
 "metadata": {
  "kernelspec": {
   "display_name": "Julia 1.11.0",
   "language": "julia",
   "name": "julia-1.11"
  },
  "language_info": {
   "file_extension": ".jl",
   "mimetype": "application/julia",
   "name": "julia",
   "version": "1.11.0"
  }
 },
 "nbformat": 4,
 "nbformat_minor": 2
}
