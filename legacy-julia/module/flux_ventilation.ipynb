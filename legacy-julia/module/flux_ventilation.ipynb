{
 "cells": [
  {
   "cell_type": "markdown",
   "id": "ef692cd2-e321-4a76-8b08-c15bea57a4cc",
   "metadata": {},
   "source": [
    "# 換気量計算モジュール"
   ]
  },
  {
   "cell_type": "markdown",
   "id": "7519425d-843d-4d9d-aa04-0cb922cc648c",
   "metadata": {},
   "source": [
    "## $\\S1$：換気量計算における基礎式"
   ]
  },
  {
   "cell_type": "markdown",
   "id": "523bade5-d47f-4039-a2c3-9b5471aa992f",
   "metadata": {},
   "source": [
    "建物内の通気量の計算方法には以下の2つの方法がある。\n",
    "- ①通気率$Q_0$および隙間特性値$n$をもとにした計算。\n",
    "- ②相当隙間面積$\\alpha A$をもとにした計算。  \n",
    "\n",
    "①はJISやISOにおける気密測定において用いられる式である。  \n",
    "また、推測にはなるが②はベルヌーイの式より算出された理論式であり、①は実際の隙間において生じる開口部との摩擦損損失を考慮するための実験式であると推測される。  \n",
    "鳥海ら(2016)によると、①式はクラックや隙間のような狭い開口に用いられるべき乗則であり、②式は大きな開口に用いられる二乗則であるとされている。\n",
    "\n",
    "②は①における隙間特性値$n=2$と固定した場合の式に等しく、開口部の面積$A$が分かれば未知パラメーターが流量係数$\\alpha$のみとなるため、与える隙間条件が単純となり、隙間の特性も感覚的にわかりやすくなる。両式の差については宮坂ら(2000)により検討がなされており、住宅内における換気計算においては差が小さいことが示されている。\n",
    "\n",
    "【参考文献】\n",
    "- エース建築環境工学II 13.2章 式(13.8)から(13.27)\n",
    "- 宮坂ら(2001)建築学会近畿支部研究報告集\n",
    "- 藤田・松下(2014)黄表紙\n",
    "- 鳥海ら(2016), 「集合住宅における隙間の評価法に関する研究」, 日本建築学会環境系論文集  \n",
    "など\n",
    "\n",
    "\n",
    "<img src=\"picture/換気量の計算式.png\" width=\"70%\">"
   ]
  },
  {
   "cell_type": "markdown",
   "id": "99539f6a",
   "metadata": {},
   "source": [
    "なお、換気量の計算を考える際にはベルヌーイの式が重要となる。\n",
    "ベルヌーイの式は力学的エネルギー保存の法則を圧力の形で表現したものである。  \n",
    "特に、ダクト内を通る空気の圧力損失等を考慮すれば以下のように表すことができる。\n",
    "\n",
    "$$ p_1 + \\frac{1}{{2}}\\rho v_1^2 + \\rho g h_1 = p_2 + \\frac{1}{{2}}\\rho v_2^2 + \\rho g h_2 + \\Delta p_e $$  "
   ]
  },
  {
   "cell_type": "markdown",
   "id": "01691e06",
   "metadata": {},
   "source": [
    "また、圧力損失が無く、圧力差により空気が駆動されると仮定すれば与式は以下のようになる。\n",
    "$$ p_1 - p_2 = \\frac{1}{{2}}\\rho v^2 $$  \n",
    "\n",
    "従って、圧力差による空気の流れは以下のように与えられる。  \n",
    "$$ v = \\sqrt{\\frac{2}{\\rho}} (\\Delta p)^{\\frac{1}{2}}$$  \n"
   ]
  },
  {
   "cell_type": "markdown",
   "id": "1bc16264",
   "metadata": {},
   "source": [
    "### $\\S 1.1$ 換気回数を用いた基礎式"
   ]
  },
  {
   "cell_type": "markdown",
   "id": "76443c57",
   "metadata": {},
   "source": [
    "$$ Q = \\frac{1}{3600}\\frac{V}{n} $$  \n",
    "\n",
    "- $Q$：換気量[m<sup>3</sup>/s]   \n",
    "- $V$：室容積[m<sup>3</sup>]  \n",
    "- $n：換気回数[1/h]  \n",
    "\n",
    "※換気回数は通常1時間当たりの空気の交換回数として表される。"
   ]
  },
  {
   "cell_type": "code",
   "execution_count": 1,
   "id": "a62e7f42",
   "metadata": {},
   "outputs": [
    {
     "data": {
      "text/plain": [
       "cal_air_flux_by_VR (generic function with 2 methods)"
      ]
     },
     "execution_count": 1,
     "metadata": {},
     "output_type": "execute_result"
    }
   ],
   "source": [
    "cal_air_flux_by_VR( n::Float64, V::Float64 ) = 1.0 / 3600.0 * (dp)^(1/n)\n",
    "cal_air_flux_by_VR(;n::Float64, V::Float64 ) = cal_air_flux_by_VR( n, V )"
   ]
  },
  {
   "cell_type": "markdown",
   "id": "d631a6d9",
   "metadata": {},
   "source": [
    "### $\\S 1.2$ 隙間を通じた換気（漏気）に関する基礎式"
   ]
  },
  {
   "cell_type": "markdown",
   "id": "2e94cb35-fe82-4800-9e7b-3adf15c69638",
   "metadata": {},
   "source": [
    "$$ Q = k^{'} \\Delta p^{\\frac{1}{n}} $$  \n",
    "\n",
    "- $Q$：空気流量（または通気量）[m<sup>3</sup>/s]または[m<sup>3</sup>/h]   \n",
    "- $k^{'}$：すきまの特性値（差圧1Pa時における通気量）[m<sup>3</sup>/sPa]または[m<sup>3</sup>/hPa]  \n",
    "- $\\Delta p$：室間の差圧[Pa]  \n",
    "- $n$：隙間の特性値(1～2)"
   ]
  },
  {
   "cell_type": "code",
   "execution_count": 2,
   "id": "bf6e81d5",
   "metadata": {},
   "outputs": [
    {
     "data": {
      "text/plain": [
       "cal_air_flux_by_leakage (generic function with 2 methods)"
      ]
     },
     "execution_count": 2,
     "metadata": {},
     "output_type": "execute_result"
    }
   ],
   "source": [
    "cal_air_flux_by_leakage( k::Float64, dp::Float64, n::Float64 ) = k * (dp)^(1/n)\n",
    "cal_air_flux_by_leakage(;k::Float64, dp::Float64, n::Float64 ) = cal_air_flux_by_leakage( k, dp, n )"
   ]
  },
  {
   "cell_type": "markdown",
   "id": "bc73c48e",
   "metadata": {},
   "source": [
    "圧力差に対する依存性  \n",
    "\n",
    "$$ \\frac{\\partial Q}{\\partial p} = \\frac{1}{n} k^{'} (\\Delta p)^{\\frac{1-n}{n}} $$"
   ]
  },
  {
   "cell_type": "code",
   "execution_count": 3,
   "id": "46db4ecc",
   "metadata": {},
   "outputs": [
    {
     "data": {
      "text/plain": [
       "cal_dQdp_by_leakage (generic function with 2 methods)"
      ]
     },
     "execution_count": 3,
     "metadata": {},
     "output_type": "execute_result"
    }
   ],
   "source": [
    "cal_dQdp_by_leakage( k::Float64, dp::Float64, n::Float64 ) = k / n * dp ^ ((1-n)/n)\n",
    "cal_dQdp_by_leakage(;k::Float64, dp::Float64, n::Float64 ) = cal_dQdp( k, dp, n ) "
   ]
  },
  {
   "cell_type": "markdown",
   "id": "7509c796",
   "metadata": {},
   "source": [
    "実計算上における通気量・隙間特性値の取り扱いについて示す。  \n",
    "建物の通気量・隙間特性値を開口部ごとに測定することは現実的ではない。  \n",
    "そこで、単位長さあたりの通気量$q_0$を用い、通気量を以下のように与える。\n",
    "\n",
    "$$ Q = q_0 L (\\Delta p)^{1/n} $$  \n",
    "\n",
    "- $q_0$：単位長さあたりの通気量[m<sup>2</sup>/ms]または[m<sup>2</sup>/mh]\n",
    "- $L$：隙間の長さ[m]"
   ]
  },
  {
   "cell_type": "markdown",
   "id": "9cee9d23",
   "metadata": {},
   "source": [
    "このようにすることで、開口部の隙間特性に関する文献値を参照することができる。  \n",
    "なお、宮坂(2002)修士論文により開口部の隙間特性値の文献値がまとめられている。\n",
    "<img src=\"picture/隙間特性値一覧_宮坂.png\" width=\"70%\">"
   ]
  },
  {
   "cell_type": "markdown",
   "id": "5abe2222",
   "metadata": {},
   "source": [
    "### $\\S 1.3$ 有効開口面積$\\alpha A$を用いた計算式"
   ]
  },
  {
   "cell_type": "markdown",
   "id": "63becd06",
   "metadata": {},
   "source": [
    "ベルヌーイの式をもとに空気の流速に（有効開口）面積を乗じることで開口部における流量を計算することができる。\n",
    "\n",
    "$$ \n",
    "    Q = \\alpha A \\sqrt{\\frac{2}{\\rho}}(\\Delta p)^{\\frac{1}{2}} \\\n",
    "$$  \n",
    "\n",
    "- $\\alpha$：流量係数   \n",
    "- $A$：隙間面積[m<sup>2</sup>]\n",
    "- $\\rho$：空気の密度[kg/m<sup>3</sup>]\n",
    "- $\\Delta p$：室間の差圧[Pa]  \n",
    "\n",
    "※$\\alpha A$を相当隙間面積あるいは有効開口面積と呼ぶ。"
   ]
  },
  {
   "cell_type": "code",
   "execution_count": 4,
   "id": "3cdd8eaf",
   "metadata": {},
   "outputs": [
    {
     "data": {
      "text/plain": [
       "cal_air_flux_by_opening (generic function with 2 methods)"
      ]
     },
     "execution_count": 4,
     "metadata": {},
     "output_type": "execute_result"
    }
   ],
   "source": [
    "cal_air_flux_by_opening( alpha::Float64, A::Float64, rho::Float64, dp::Float64 ) = alpha * A * (2/rho)^(1/2) * dp ^ (1/2)\n",
    "cal_air_flux_by_opening(;alpha::Float64, A::Float64, rho::Float64, dp::Float64 ) = cal_air_flux_by_opening( alpha, A, rho, dp )"
   ]
  },
  {
   "cell_type": "markdown",
   "id": "6363f120",
   "metadata": {},
   "source": [
    "圧力差に対する依存性  \n",
    "\n",
    "$$ \\frac{\\partial Q}{\\partial p} = \\frac{1}{2} \\alpha A \\sqrt{\\frac{2}{\\rho}} (\\Delta p)^{-\\frac{1}{2}} $$"
   ]
  },
  {
   "cell_type": "markdown",
   "id": "9a1462b8",
   "metadata": {},
   "source": [
    "### $\\S 1.4$ 流量係数と隙間特性値の関係  \n",
    "\n",
    "【参考文献】\n",
    "- 宮坂ら(2001)建築学会近畿支部研究報告集"
   ]
  },
  {
   "cell_type": "markdown",
   "id": "0d3cac5a",
   "metadata": {},
   "source": [
    "隙間特性値$n=2$とすると、$\\S 3.2$と$\\S 3.1$の式は等しくなる。  \n",
    "従って、$\\S 3.2$に示すような建築物における一般的な開口においても換気量は以下のように記述することが出来る。\n",
    "\n",
    "$Q = Q_o * (\\Delta p)^{1/2} = \\alpha A \\sqrt{ \\frac{2}{\\rho} } (\\Delta p)^{1/2}$  \n",
    "\n",
    "よって流れに対して有効な開口面積$\\alpha A$（以下隙間相当面積）と隙間特性値$Q_o, n$には以下の関係が成り立つ。  \n",
    "\n",
    "$\\alpha A = \\sqrt{\\frac{\\rho}{2}} Q_o (p)^{\\frac{1}{n} - \\frac{1}{2} }$\n",
    "\n",
    "この式より隙間相当面積$\\alpha A$は圧力差$p$によって変化することが分かる。  \n",
    "そのため、この式を用いる場合、基準圧力差に対する隙間特性値$\\alpha A$を示すことが一般的であり、基準圧力差として日本では9.8Pa、カナダでは10.0Pa、アメリカでは4.0Paが用いられる。"
   ]
  },
  {
   "cell_type": "code",
   "execution_count": null,
   "id": "5d63337e",
   "metadata": {},
   "outputs": [
    {
     "data": {
      "text/plain": [
       "cal_effective_opening_area (generic function with 1 method)"
      ]
     },
     "metadata": {},
     "output_type": "display_data"
    }
   ],
   "source": [
    "function cal_effective_opening_area( rho, Qo, dp, n )\n",
    "    return ( rho / 2.0 )^(1/2) * Qo * dp ^( 1/n - 1/2 )\n",
    "end"
   ]
  },
  {
   "cell_type": "markdown",
   "id": "197f358f",
   "metadata": {},
   "source": [
    "この差はnが小さくなるほど（クラックのような隙間になるほど）大きくなる。  \n",
    "一方、宮坂ら(2001)は隙間相当面積が一定値で与えられると換気計算において取り扱いが容易になることから、  \n",
    "$n=2$とし、  \n",
    "\n",
    "$\\alpha A = \\sqrt{\\frac{\\rho}{2}} Q_o$  \n",
    "\n",
    "として隙間相当面積を求めたうえで計算を行った場合と、  \n",
    "$n≠2$とし$Q_o$と$n$を用いた方法との比較を行い、差異がほとんど無いことを検証している。"
   ]
  },
  {
   "cell_type": "code",
   "execution_count": null,
   "id": "7a19ae71",
   "metadata": {},
   "outputs": [],
   "source": []
  },
  {
   "cell_type": "markdown",
   "id": "efd961f9",
   "metadata": {},
   "source": [
    "## $\\S 4$ 実際の建物開口における換気・流量計数の取り扱い方\n",
    "\n",
    "【参考文献】\n",
    "- エース建築環境工学II 13.2章 式(13.26),(13.27)"
   ]
  },
  {
   "cell_type": "markdown",
   "id": "d7a69717",
   "metadata": {},
   "source": [
    "#### $\\S 3.5.1 $ 数値計算における基礎式\n",
    "\n",
    "流量計算は小開口または隙間を持つ場合とクラックで計算方法が幾分か異なる。  \n",
    "例えば、前者は開口の面積や幅といった空間パラメータが必要になる一方で、クラックの場合は壁全体から換気が行われるためこれらのパラメータが不必要となる。  \n",
    "\n",
    "ここで本プログラムでは流量の計算を統一するするため下記の関数を用いている。\n",
    "\n",
    "流量の計算ではクラック法を用いて以下の式を用いられる。  \n",
    "このとき、qは単位体積長さあたりの通気量であり$q = Q/L$[m3/s m]とすると、\n",
    "\n",
    "基礎式：（修正）  \n",
    "$$\n",
    "    Q = Q_0 (\\Delta p)^{1/n} = q_0 L (\\Delta p)^{1/n}\n",
    "$$  \n",
    "\n",
    "従って、$ Q_0 = q_0 L $である。   \n",
    "なお、aは経験常数であり、指数n（隙間特性値）は1~2の値をとる。  \n",
    "\n",
    "流量を計算するモジュール内ではこの式を基本とした計算がなされている。\n",
    "\n",
    "従って、隙間特性値$n$および経験常数$a$が必要となる。  \n",
    "隙間特性値$n$は通常入力パラメータとして与えるため、以下では経験常数$a$を求める方法について示す。\n"
   ]
  },
  {
   "cell_type": "markdown",
   "id": "df20cdce",
   "metadata": {},
   "source": [
    "### $\\S 3.5.2 $ 入力条件の違いによる経験常数$a$の決定方法  \n"
   ]
  },
  {
   "cell_type": "markdown",
   "id": "32e79acc",
   "metadata": {},
   "source": [
    "#### 1. 入力値：隙間相当面積\n",
    "\n",
    "前述のように隙間相当面積が一定値として扱えるものと仮定すれば n = 2より、  \n",
    "\n",
    "$$\n",
    "    q_0 = \\frac{Q_o}{L} =  \\frac{\\alpha A}{L} \\sqrt{\\frac{2}{\\rho}} \n",
    "$$  \n",
    "\n",
    "経験常数は上記のように与えられる。"
   ]
  },
  {
   "cell_type": "code",
   "execution_count": null,
   "id": "29cccd86",
   "metadata": {},
   "outputs": [
    {
     "data": {
      "text/plain": [
       "cal_a_by_effective_opening_area (generic function with 1 method)"
      ]
     },
     "metadata": {},
     "output_type": "display_data"
    }
   ],
   "source": [
    "function cal_a_by_effective_opening_area( alpha, A, L, rho )\n",
    "    return alpha * A / L * ( 2.0 / rho )^2\n",
    "end"
   ]
  },
  {
   "cell_type": "markdown",
   "id": "b09ac612",
   "metadata": {},
   "source": [
    "#### 2. 入力値：基準圧力差(9.8Pa)あたりの換気量  \n",
    "\n",
    "入力値として基準圧力差(9.8Pa)あたりの換気量が与えられているとする。  \n",
    "このときの換気量は以下のように表される。\n",
    "\n",
    "$Q_{9.8Pa}^{'} = Q_o * (9.8[Pa])^{\\frac{1}{n}}$  \n",
    "\n",
    "従って、1Paあたりの換気量は、\n",
    "\n",
    "$Q_o = Q_{9.8Pa}^{'} * (\\frac{1}{9.8[Pa]})$  \n",
    "\n",
    "なお、換気量として[m3/h]が用いられることも多いため、これを[m3/s]に変換することも必要である。"
   ]
  },
  {
   "cell_type": "markdown",
   "id": "ad7f0b5f",
   "metadata": {},
   "source": [
    "\n",
    "1Pa時の流量とするとp = 1であり、  \n",
    "\n",
    "$ ⇒　QV = \\alpha SV \\sqrt{ \\frac{2}{\\rho} }$  \n",
    "$ ⇒　QH = \\alpha SH \\sqrt{ \\frac{2}{\\rho} }$  \n",
    "\n",
    "- AI：流量係数[-] ※AIと書いた場合、特に初期条件を決定するための流量計数alpha initial?を意味するとのこと\n",
    "- QV：縦方向開口1Pa時[m^3/s]を長辺長さで割ったもの[m^3/s m]\n",
    "- QH：横方向開口の1Pa時[m^3/s]を長辺長さで割ったもの[m^3/s m]\n",
    "- SV：縦開口面積合計[m^2]\n",
    "- SH：横開口面積[m^2]"
   ]
  },
  {
   "cell_type": "code",
   "execution_count": null,
   "id": "4532dbb8",
   "metadata": {},
   "outputs": [
    {
     "data": {
      "text/plain": [
       "cal_QH (generic function with 1 method)"
      ]
     },
     "metadata": {},
     "output_type": "display_data"
    }
   ],
   "source": [
    "cal_QV(AI, SV, RAW) = AI * SV / 10.0^3 * ( 2.0 / RAW )^( 1/2 )\n",
    "cal_QH(AI, SH, RAW) = AI * SH / 10.0^3 * ( 2.0 / RAW )^( 1/2 )"
   ]
  },
  {
   "cell_type": "markdown",
   "id": "00cc1129",
   "metadata": {},
   "source": [
    "\n",
    "#### ※未完成：圧力を基準圧力9.8Paで割る理由がわからない。\n",
    "\n",
    "基準圧力差$Q_o$を用いて換気量を計算する場合、\n",
    "\n",
    "$Q = Q_o * (\\frac{1}{g})^{\\frac{1}{n}}*\\frac{1}{3600}$  \n",
    "\n",
    "\n",
    "入力値：9.8Pa時における流量[m3/h]を、1Pa時における[m3/s]に変換  \n",
    "それを長辺の長さで割っている。※(式末尾の/ ( HU(i) - HD(i) )に相当。これを加えない記述もある）  \n",
    "\n",
    "\n",
    "開口幅[mm]をを1Pa時における[m^3/s]を長辺の長さで割ったもの[m^2/s]に変換、RAWは２０℃における流量だったとおもう、、、\n"
   ]
  },
  {
   "cell_type": "code",
   "execution_count": null,
   "id": "b26b91f1",
   "metadata": {},
   "outputs": [
    {
     "data": {
      "text/plain": [
       "cal_QU (generic function with 1 method)"
      ]
     },
     "metadata": {},
     "output_type": "display_data"
    }
   ],
   "source": [
    "cal_QOO( QOO, G, M ) = QOO * (1/G) ^ (1/M) / 3600.0\n",
    "cal_QU( QU, G, M )   = QU * (1/G) ^ (1/M) / 3600.0"
   ]
  },
  {
   "cell_type": "markdown",
   "id": "2c41651d",
   "metadata": {},
   "source": [
    "cal_QOO = [ QOO[i] * ( 1/G )^( 1/M[i] ) / 3600.0 / ( HU(i) - HD(i) ) for i = 1:length(M) ]  \n",
    "cal_QU  = [ QU[i]  * ( 1/G )^( 1/MM[i]) / 3600.0 / B[i] for i = 1:length[MM] ]"
   ]
  },
  {
   "cell_type": "code",
   "execution_count": null,
   "id": "7754eba6",
   "metadata": {},
   "outputs": [],
   "source": []
  },
  {
   "cell_type": "code",
   "execution_count": null,
   "id": "82d6449b",
   "metadata": {},
   "outputs": [],
   "source": []
  },
  {
   "cell_type": "code",
   "execution_count": null,
   "id": "545935c4",
   "metadata": {},
   "outputs": [],
   "source": []
  },
  {
   "cell_type": "code",
   "execution_count": null,
   "id": "b48f3caa",
   "metadata": {},
   "outputs": [],
   "source": []
  },
  {
   "cell_type": "code",
   "execution_count": null,
   "id": "cfb49d57",
   "metadata": {},
   "outputs": [],
   "source": []
  },
  {
   "cell_type": "markdown",
   "id": "9d8e9bb2",
   "metadata": {},
   "source": [
    "## $\\S 2.$ 実際の開口における換気量の計算"
   ]
  },
  {
   "cell_type": "markdown",
   "id": "fabe6c30",
   "metadata": {},
   "source": [
    "実際の開口における換気量を計算する場合、その計算方法はやや複雑である。  \n",
    "その一因として、位置圧の存在がある。  \n",
    "開口の上流側と下流側で温度に差がある場合、位置圧差は高さごとに異なる。  \n",
    "そのため、高さごとに換気量が異なるため、高さを考慮した換気量の計算が必要となるのである。"
   ]
  },
  {
   "cell_type": "markdown",
   "id": "e998f857",
   "metadata": {},
   "source": [
    "<img src=\"picture/差圧の発生メカニズム.png\" width=\"70%\">"
   ]
  },
  {
   "cell_type": "markdown",
   "id": "a50b1f0d",
   "metadata": {},
   "source": [
    "以下では、温度差の有無および中性帯の高さに応じた換気量の計算方法について示す。  "
   ]
  },
  {
   "cell_type": "markdown",
   "id": "823c94be",
   "metadata": {},
   "source": [
    "<img src=\"picture/中性帯ごとの分類.png\" width=\"50%\">"
   ]
  },
  {
   "cell_type": "markdown",
   "id": "a53f847a",
   "metadata": {},
   "source": [
    "※風上法で計算を行う必要があるため、どちらの密度を採用するかの情報が必要となる点には留意すべき。"
   ]
  },
  {
   "cell_type": "markdown",
   "id": "10223a25-0c07-4e04-8197-94c4f9b9d28c",
   "metadata": {},
   "source": [
    "### $\\S 2.1$ 温度差がないときor天井壁のとき"
   ]
  },
  {
   "cell_type": "markdown",
   "id": "66b8a291",
   "metadata": {},
   "source": [
    "<img src=\"picture/隙間変数の名称.png\" width=\"40%\">"
   ]
  },
  {
   "cell_type": "markdown",
   "id": "8ac00693",
   "metadata": {},
   "source": [
    "### $\\S 2.1.1 $ 隙間における換気量"
   ]
  },
  {
   "cell_type": "markdown",
   "id": "d277bc41",
   "metadata": {},
   "source": [
    "また、閉じた窓や扉などの隙間を想定すれば、同形状の隙間が複数存在する。  \n",
    "そこで、縦方向の隙間における質量流量[kg/m<sup>3</sup>]を以下のように、\n",
    "\n",
    "$$ SS = \\rho q_v SH (\\Delta p)^{1/MM} $$\n",
    "\n",
    "横方向における隙間の流量を以下のように与える。\n",
    "\n",
    "$$ SU = \\rho q_h B (\\Delta p)^{1/MM} $$  \n",
    "$$ UC = \\rho q_h B (\\Delta p)^{1/MM} $$  \n",
    "\n",
    "- SS : 縦開口流量[kg/s]\n",
    "- SU,UC  : 上辺、下辺流量[kg/s]\n",
    "- $\\rho$ : 風上側空気の密度[kg/m<sup>3</sup>]\n",
    "- $q_v, q_h$ : 縦方向、横方向における差圧1Pa時における通気量[m<sup>2</sup>/s]\n",
    "- S：縦隙間本数[-]\n",
    "- H：開口高さ[m]\n",
    "- B：開口の幅[m]\n",
    "\n",
    "なお、窓や扉のような開口を想定しているため横方向の隙間は上辺と下辺の2つのみとなっている。  \n",
    "もし複雑な形状を扱う場合、$q_v, q_h$のいずれかを0とし、隙間情報を2つ以上に分けるか、別の関数を作成することを推奨する。"
   ]
  },
  {
   "cell_type": "code",
   "execution_count": 5,
   "id": "1e341382-9355-4a03-999f-dc22b179cc3d",
   "metadata": {},
   "outputs": [
    {
     "data": {
      "text/plain": [
       "Main.flux_leakage_isothermal"
      ]
     },
     "execution_count": 5,
     "metadata": {},
     "output_type": "execute_result"
    }
   ],
   "source": [
    "module flux_leakage_isothermal\n",
    "    SU(RAW::Float64, QH::Float64, B::Float64, DP::Float64, MM::Float64)     =   RAW * QH * B * abs(DP)^(1/MM)\n",
    "    SS(RAW::Float64, QV::Float64, S::Float64, H::Float64,  DP::Float64, M::Float64)   = RAW * QV * S * H * abs(DP)^(1/M)\n",
    "    UC(RAW::Float64, QH::Float64, B::Float64, DP::Float64, MM::Float64)     =   RAW * QH * B * abs(DP)^(1/MM)\n",
    "    \n",
    "    function WU(RAW::Float64, QH::Float64, QV::Float64, B::Float64, S::Float64, H::Float64, DP::Float64, M::Float64, MM::Float64)\n",
    "        return SU(RAW, QH, B, DP, MM) + SS(RAW, QV, S, H,  DP, M) + UC(RAW, QH, B, DP, MM)\n",
    "    end\n",
    "    \n",
    "    # DPによる微分\n",
    "    DSU(RAW::Float64, QH::Float64, B::Float64, DP::Float64, MM::Float64)   =   RAW * QH * B / MM * abs(DP) ^ ((1-MM)/MM)\n",
    "    DSS(RAW::Float64, QV::Float64, S::Float64, H::Float64,  DP::Float64, M::Float64)  = RAW * QV * S * H / M * abs(DP) ^ ((1-M)/M)\n",
    "    DUC(RAW::Float64, QH::Float64, B::Float64, DP::Float64, MM::Float64)   =   RAW * QH * B / MM * abs(DP) ^ ((1-MM)/MM)\n",
    "    \n",
    "    function DWU(RAW::Float64, QH::Float64, QV::Float64, B::Float64, S::Float64, H::Float64, DP::Float64, M::Float64, MM::Float64)\n",
    "        return DSU(RAW, QH, B, DP, MM) + DSS(RAW, QV, S, H,  DP, M) + DUC(RAW, QH, B, DP, MM)\n",
    "    end\n",
    "end"
   ]
  },
  {
   "cell_type": "markdown",
   "id": "2ea5755f",
   "metadata": {},
   "source": [
    "#### $\\S 2.1.2$ 開口における換気量  \n",
    "\n",
    "$$ WU = \\alpha A \\sqrt{2\\rho}(\\Delta p)^{\\frac{1}{2}} $$  \n",
    "\n",
    "- WU : 開口流量[kg/s]\n",
    "- $\\alpha$：流量係数   \n",
    "- $A$：隙間面積[m<sup>2</sup>]\n",
    "- $\\rho$：空気の密度[kg/m<sup>3</sup>]\n",
    "- $\\Delta p$：室間の差圧[Pa]  \n",
    "\n",
    "※通気量Q[m<sup>3</sup>/s]に密度を乗じている点に注意。"
   ]
  },
  {
   "cell_type": "code",
   "execution_count": 6,
   "id": "ed31c058",
   "metadata": {},
   "outputs": [
    {
     "data": {
      "text/plain": [
       "Main.flux_ventilation_isothermal"
      ]
     },
     "execution_count": 6,
     "metadata": {},
     "output_type": "execute_result"
    }
   ],
   "source": [
    "module flux_ventilation_isothermal\n",
    "    WU( A::Float64, B::Float64, H::Float64, DP::Float64, RAW::Float64)   = A * B * H * (2/RAW)^(1/2) * abs(DP) ^ (1/2)\n",
    "    DWU(A::Float64, B::Float64, H::Float64, DP::Float64, RAW::Float64)   = A * B * H * ( 2.0 * RAW )^0.5 / 2.0 * abs(DP) ^ ((1-2)/2)\n",
    "end"
   ]
  },
  {
   "cell_type": "markdown",
   "id": "3638c739-2962-4737-b5ef-fd37e436f532",
   "metadata": {},
   "source": [
    "\n",
    "### $\\S 2.2$ 温度差があり、中立軸高さが上下端外にあるとき"
   ]
  },
  {
   "cell_type": "markdown",
   "id": "094360a8",
   "metadata": {},
   "source": [
    "#### $\\S 2.2.1 $ 隙間における換気量"
   ]
  },
  {
   "cell_type": "markdown",
   "id": "de293987-5b1e-405c-9d68-f7aa73e8843f",
   "metadata": {},
   "source": [
    "$$\n",
    "    SS = \\rho QH B (\\Delta \\rho g h_{nu})^{1/MM}\\\n",
    "$$  \n",
    "\n",
    "$$\n",
    "    SU = \\rho S M Q_v  \\bigl( \\int_{0}^{H_{nu}} |{\\Delta p}|^{\\frac{1}{n}} dh - \\int_{0}^{H_{nud}} |{\\Delta p}|^{\\frac{1}{n}} dh \\bigl) \n",
    "$$\n",
    "\n",
    "ただし、HNU = abs( HU - HN )であり、上端から中立軸高さまでの距離を示す。\n",
    "\n",
    "ここで$\\Delta p = \\Delta \\rho g h$とすると、\n",
    "\n",
    "$$\n",
    "    SU = \\frac{ M }{ 1 + M } \\rho  S  Q_V (\\Delta \\rho g)^{1/M}   | H_{nu}^{\\frac{1+M}{M}} - H_{nd}^{\\frac{1+M}{M}} |\n",
    "$$\n",
    "\n",
    "- SU : 上辺流量\n",
    "- B：開口の幅\n",
    "- S：縦隙間本数\n",
    "- H：開口高さ\n",
    "- M : 縦方向隙間特性値[-]  \n",
    "- HN  = DP / ( DRAW * G ) #中立軸高さ\n",
    "- HND = abs( HD - HN ) # 下端から中立軸高さまでの距離"
   ]
  },
  {
   "cell_type": "code",
   "execution_count": 7,
   "id": "f8a11b92-6417-4210-965b-57ea0d88a37c",
   "metadata": {},
   "outputs": [
    {
     "data": {
      "text/plain": [
       "Main.flux_leakage_noniso_uniflow"
      ]
     },
     "execution_count": 7,
     "metadata": {},
     "output_type": "execute_result"
    }
   ],
   "source": [
    "module flux_leakage_noniso_uniflow\n",
    "\n",
    "const G = 9.80665\n",
    "\n",
    "function cal_SS(RAW::Float64, DRAW::Float64, QV::Float64, S::Float64, HNU::Float64, HND::Float64, M::Float64)\n",
    "    return RAW * QV * S * M / ( 1.0+M ) * ( abs(DRAW)*G )^( 1.0/M ) * abs( HNU^( (1.0+M)/M ) - HND^( (1.0+M)/M) )\n",
    "end\n",
    "\n",
    "# 上辺と縦開口部分の隙間を通る流量。隙間と下辺の隙間で隙間特性値が分けてある。SU:[kg/s]\n",
    "SU(RAW::Float64, DRAW::Float64, QH::Float64, B::Float64, HNU::Float64, MM::Float64)  = RAW * QH * B * ( abs(DRAW) * G * HNU)^( 1.0/MM )\n",
    "SS(RAW::Float64, DRAW::Float64, QV::Float64, S::Float64, HNU::Float64, HND::Float64, M::Float64)  = cal_SS(RAW, DRAW, QV, S, HNU, HND, M)\n",
    "\n",
    "#下辺の隙間を通る流量\n",
    "UC(RAW::Float64, DRAW::Float64, QH::Float64, B::Float64, HND::Float64, MM::Float64) = RAW * QH * B * ( abs(DRAW) * G * HND )^( 1.0/MM )\n",
    "\n",
    "# 枝の正味流量[kg/s]\n",
    "function WU(RAW::Float64, DRAW::Float64, QH::Float64, QV::Float64, B::Float64, S::Float64, HNU::Float64, HND::Float64, M::Float64, MM::Float64)\n",
    "    return SU(RAW, DRAW, QH, B, HNU, MM) + SS(RAW, DRAW, QV, S, HNU, HND, M) + UC(RAW, DRAW, QH, B, HND, MM)\n",
    "end\n",
    "\n",
    "# DPによる微分\n",
    "DSU(RAW::Float64, DRAW::Float64, QH::Float64, B::Float64, HNU::Float64, MM::Float64)   = RAW * QH * B * ( abs(DRAW ) * G * HNU )^( (1.0-MM ) / MM ) / MM\n",
    "DSS(RAW::Float64, DRAW::Float64, QV::Float64, S::Float64, HNU::Float64, HND::Float64, M::Float64) = S * RAW * QV * ( abs(DRAW) * G )^( (1.0-M)/M ) * abs( HNU^( 1.0/M ) - HND^( 1.0/M ) )\n",
    "DUC(RAW::Float64, DRAW::Float64, QH::Float64, B::Float64, HND::Float64, MM::Float64)   = RAW * QH * B * ( abs(DRAW) * G * HND )^( ( 1.0-MM ) /MM ) / MM\n",
    "\n",
    "function DWU(RAW::Float64, DRAW::Float64, QH::Float64, QV::Float64, B::Float64, S::Float64, HNU::Float64, HND::Float64, M::Float64, MM::Float64)\n",
    "    return DSU(RAW, DRAW, QH, B, HNU, MM) + DSS(RAW, DRAW, QV, S, HNU, HND, M) + DUC(RAW, DRAW, QH, B, HND, MM)\n",
    "end\n",
    "\n",
    "end"
   ]
  },
  {
   "cell_type": "markdown",
   "id": "61e04dff",
   "metadata": {},
   "source": [
    "#### $\\S 2.2.2$ 開口における換気量"
   ]
  },
  {
   "cell_type": "markdown",
   "id": "17de2588",
   "metadata": {},
   "source": [
    "$$\n",
    "    Q = \\alpha b \\sqrt{\\frac{2}{\\rho}} \\int_{h_{1}}^{h_{2}} | \\Delta \\rho g h|^{\\frac{1}{2}} dh \n",
    "$$  \n",
    "\n",
    "これを積分すると、以下のようになる。  \n",
    "\n",
    "$$\n",
    "    Q = \\frac{2}{3} \\alpha b \\sqrt{2 \\rho_i |\\Delta \\rho | g } \\bigl| |h_{2}- h_{n}|^{ \\frac{3}{2} } - |h_{1} - h_{n}|^{ \\frac{3}{2} } \\bigl| \n",
    "$$"
   ]
  },
  {
   "cell_type": "code",
   "execution_count": 8,
   "id": "4cac77ea",
   "metadata": {},
   "outputs": [
    {
     "data": {
      "text/plain": [
       "Main.flux_ventilation_noniso_uniflow"
      ]
     },
     "execution_count": 8,
     "metadata": {},
     "output_type": "execute_result"
    }
   ],
   "source": [
    "module flux_ventilation_noniso_uniflow\n",
    "\n",
    "const G = 9.80665\n",
    "\n",
    "# 中立軸高さが上下端の外側にあるとき：式は同じだが密度の取り方（上流側か下流側か）が異なる\n",
    "WU(A::Float64, B::Float64, DRAW::Float64, RAW::Float64, HNU::Float64, HND::Float64) = 2.0 / 3.0 * A * B * (2.0 * RAW * abs(DRAW) * G )^0.5 * abs( HNU^1.5 - HND^1.5 )\n",
    "#WD(A::Float64, B::Float64, DRAW::Float64, RAW::Float64, HNU::Float64, HND::Float64) = 2.0 / 3.0 * A * B * (2.0 * RAW * abs(DRAW) * G )^0.5 * abs( HNU^1.5 - HND^1.5 )\n",
    "DWU(A::Float64, B::Float64, DRAW::Float64, RAW::Float64, HNU::Float64, HND::Float64)= A* B * (2.0 * RAW)^0.5 * ( abs(DRAW) * G )^(-0.5) * abs( HNU^0.5 - HND^0.5 )\n",
    "#DWD(A::Float64, B::Float64, DRAW::Float64, RAW::Float64, HNU::Float64, HND::Float64)= A* B * (2.0 * RAW)^0.5 * ( abs(DRAW) * G )^(-0.5) * abs( HNU^0.5 - HND^0.5 )\n",
    "\n",
    "end"
   ]
  },
  {
   "cell_type": "markdown",
   "id": "8c60ac3a-450e-4e27-ab12-d72eb0193593",
   "metadata": {},
   "source": [
    "### $\\S 2.3$温度差があり、中立軸高さが上下端の間にあるとき"
   ]
  },
  {
   "cell_type": "markdown",
   "id": "e597d963",
   "metadata": {},
   "source": [
    "#### $\\S 2.3.1 $ 隙間における換気量"
   ]
  },
  {
   "cell_type": "code",
   "execution_count": 9,
   "id": "92ea952c-4dc3-4f96-842a-9c6263f02403",
   "metadata": {},
   "outputs": [
    {
     "data": {
      "text/plain": [
       "Main.flux_leakage_noniso_crossflow"
      ]
     },
     "execution_count": 9,
     "metadata": {},
     "output_type": "execute_result"
    }
   ],
   "source": [
    "module flux_leakage_noniso_crossflow\n",
    "\n",
    "const G = 9.80665\n",
    "\n",
    "# 上辺と縦開口部（中性帯より上側）の隙間を通る流量。隙間と下辺の隙間で隙間特性値が分けてある。SU:[kg/s]\n",
    "SU(RAW::Float64, DRAW::Float64, QH::Float64, B::Float64, HNU::Float64, MM::Float64)     = RAW * QH * B * ( abs(DRAW) * G * HNU )^( 1.0/MM )\n",
    "SSU(RAW::Float64, DRAW::Float64, QV::Float64, S::Float64, HNU::Float64, M::Float64) = RAW * QV * S * M * ( abs(DRAW) * G )^( 1.0/M ) * HNU^( ( 1.0+M ) / M ) / ( 1.0+M )\n",
    "# 下辺と縦開口部（中性帯より下側）の隙間を通る流量\n",
    "UC(RAW::Float64, DRAW::Float64, QH::Float64, B::Float64, HND::Float64, MM::Float64) = RAW * QH * B * ( abs(DRAW) * G * HND )^( 1.0/MM )\n",
    "SSD(RAW::Float64, DRAW::Float64, QV::Float64, S::Float64, HND::Float64, M::Float64) = RAW * QV * S * M * ( abs(DRAW) * G )^( 1.0/M ) * HND^( ( 1.0+M ) / M ) / ( 1.0+M )\n",
    "\n",
    "# 枝の正味流量[kg/s]\n",
    "function WU(RAW::Float64, DRAW::Float64, QH::Float64, QV::Float64, B::Float64, S::Float64, HNU::Float64, HND::Float64, M::Float64, MM::Float64)\n",
    "    return SU(RAW, DRAW, QH, B, HNU, MM) + SSU(RAW, DRAW, QV, S, HNU, M)\n",
    "end\n",
    "function WD(RAW::Float64, DRAW::Float64, QH::Float64, QV::Float64, B::Float64, S::Float64, HNU::Float64, HND::Float64, M::Float64, MM::Float64)\n",
    "    return UC(RAW, DRAW, QH, B, HND, MM) + SSD(RAW, DRAW, QV, S, HND, M)\n",
    "end\n",
    "\n",
    "# DPによる微分\n",
    "DSU(RAW::Float64, DRAW::Float64, QH::Float64, B::Float64, HNU::Float64, MM::Float64)   = RAW * QH * B * ( abs(DRAW ) * G * HNU )^( (1.0-MM ) / MM ) / MM\n",
    "DSSU(RAW::Float64, DRAW::Float64, QV::Float64, S::Float64, HNU::Float64, M::Float64) = S * RAW * QV * ( abs(DRAW) * G )^( ( 1.0-M ) / M ) * HNU^( 1.0/M )\n",
    "DUC(RAW::Float64, DRAW::Float64, QH::Float64, B::Float64, HND::Float64, MM::Float64)   = RAW * QH * B * ( abs(DRAW) * G * HND )^( ( 1.0-MM ) /MM ) / MM\n",
    "DSSD(RAW::Float64, DRAW::Float64, QV::Float64, S::Float64, HND::Float64, M::Float64) = S * RAW * QV * ( abs(DRAW) * G )^( ( 1.0-M ) / M ) * HND^( 1.0/M )\n",
    "\n",
    "function DWU(RAW::Float64, DRAW::Float64, QH::Float64, QV::Float64, B::Float64, S::Float64, HNU::Float64, HND::Float64, M::Float64, MM::Float64)\n",
    "    return DSU(RAW, DRAW, QH, B, HNU, MM) + DSSU(RAW, DRAW, QV, S, HNU, M)\n",
    "end\n",
    "function DWD(RAW::Float64, DRAW::Float64, QH::Float64, QV::Float64, B::Float64, S::Float64, HNU::Float64, HND::Float64, M::Float64, MM::Float64)\n",
    "    return DUC(RAW, DRAW, QH, B, HND, MM) + DSSD(RAW, DRAW, QV, S, HND, M)\n",
    "end\n",
    "\n",
    "end"
   ]
  },
  {
   "cell_type": "markdown",
   "id": "b2551297",
   "metadata": {},
   "source": [
    "#### $\\S 2.3.2$ 開口における換気量"
   ]
  },
  {
   "cell_type": "code",
   "execution_count": 10,
   "id": "910a5eb5",
   "metadata": {},
   "outputs": [
    {
     "data": {
      "text/plain": [
       "Main.flux_ventilation_noniso_crossflow"
      ]
     },
     "execution_count": 10,
     "metadata": {},
     "output_type": "execute_result"
    }
   ],
   "source": [
    "module flux_ventilation_noniso_crossflow\n",
    "\n",
    "const G = 9.80665\n",
    "\n",
    "# 中立軸高さが上下端の内側にあるとき：\n",
    "WU(A::Float64, B::Float64, DRAW::Float64, RAW::Float64, Hight::Float64) = 2.0 / 3.0 * A * B * ( 2.0 * abs(DRAW) * G )^0.5 * RAW^0.5 * Hight^1.5\n",
    "WD(A::Float64, B::Float64, DRAW::Float64, RAW::Float64, Hight::Float64) = 2.0 / 3.0 * A * B * ( 2.0 * abs(DRAW) * G )^0.5 * RAW^0.5 * Hight^1.5\n",
    "DWU(A::Float64, B::Float64, DRAW::Float64, RAW::Float64, Hight::Float64)= A* B * 2.0^0.5 * ( abs(DRAW) * G )^(-0.5) * ( RAW * Hight )^0.5\n",
    "DWD(A::Float64, B::Float64, DRAW::Float64, RAW::Float64, Hight::Float64)= A* B * 2.0^0.5 * ( abs(DRAW) * G )^(-0.5) * ( RAW * Hight )^0.5\n",
    "\n",
    "end"
   ]
  },
  {
   "cell_type": "code",
   "execution_count": null,
   "id": "0dd67ea4",
   "metadata": {},
   "outputs": [],
   "source": []
  },
  {
   "cell_type": "markdown",
   "id": "28c315a7",
   "metadata": {},
   "source": [
    "<br>\n",
    "\n",
    "## $\\S3$ 圧力の計算方法"
   ]
  },
  {
   "cell_type": "markdown",
   "id": "51b4094b",
   "metadata": {},
   "source": [
    "### $\\S 3.1$ 起圧力[Pa]の計算  "
   ]
  },
  {
   "cell_type": "markdown",
   "id": "f119a7e6",
   "metadata": {},
   "source": [
    "#### 関数名（Fortran時）：SUBROUTINE PSCAL"
   ]
  },
  {
   "cell_type": "markdown",
   "id": "050ce918",
   "metadata": {},
   "source": [
    "床面圧力とは、床高さ密度差による圧力 - 外部風による圧力であり、室の床高さを考慮した圧力のことを指す。  \n",
    "床面圧力は位置圧の差として以下のように表される。  \n",
    "\n",
    "$$\n",
    "    P_s = \\rho_a g H_s\n",
    "$$\n",
    "\n",
    "なお空気の密度$\\rho_a$は、状態方程式（ボイル-シャルルの法則）に従うものとし、基準温度（0℃）における密度を1.293[kg/m3]とすれば以下のように与えられる。  \n",
    "\n",
    "$$\n",
    "    \\rho_a = \\frac{353.25}{T}\n",
    "$$  "
   ]
  },
  {
   "cell_type": "markdown",
   "id": "4d5afff6",
   "metadata": {},
   "source": [
    "- PS：起圧力[Pa] 外気の圧力を基準としている。\n",
    "- HS：床面差(開口を挟んだ室同士の床面の高さの差)[m]\n",
    "- WIN_V：風速[m/s]\n",
    "- WC：風圧係数[-]"
   ]
  },
  {
   "cell_type": "code",
   "execution_count": null,
   "id": "075863fe",
   "metadata": {},
   "outputs": [
    {
     "data": {
      "text/plain": [
       "Main.zone_Ps"
      ]
     },
     "metadata": {},
     "output_type": "display_data"
    }
   ],
   "source": [
    "function cal_Pressuremotive_force(temp::Float64, HS::Float64)\n",
    "    rhoa = 353.25 / temp\n",
    "    return rhoa * 9.80665 * HS\n",
    "end"
   ]
  },
  {
   "cell_type": "markdown",
   "id": "bb7017ae",
   "metadata": {},
   "source": [
    "### $\\S 3.2 $ 風圧力の計算  \n",
    "※エース建築環境工学II 13章を参照のこと。  "
   ]
  },
  {
   "cell_type": "markdown",
   "id": "02a7f546",
   "metadata": {},
   "source": [
    "<img src=\"picture/fuuatsu_keisu.png\" width=\"70%\">  \n",
    "\n",
    "参照：エース建築環境工学II p.159 図13.4"
   ]
  },
  {
   "cell_type": "markdown",
   "id": "faeee0dd",
   "metadata": {},
   "source": [
    "一般に建物などの表面では外気風のもつ運動エネルギーは一部が静圧に変換される。  \n",
    "この割合を風圧係数Cとよび、建物の形状、表面の位置、風向により異なる値をとる。  \n",
    "建物から十分離れその影響を受けない風を自由風といい、この流速をV[m/s]とすると、壁面に働く風圧$p_w$は、  \n",
    "\n",
    "$$\n",
    "    p_w = C p_v = C \\Bigl( \\frac{\\rho}{2}V^2 \\Bigl)\n",
    "$$  \n",
    "\n",
    "ここで$p_w$：壁面に働く風圧[Pa]、$p_v$：自由風の動圧[Pa]である。  \n"
   ]
  },
  {
   "cell_type": "code",
   "execution_count": 1,
   "id": "f3c5c85f",
   "metadata": {},
   "outputs": [
    {
     "data": {
      "text/plain": [
       "cal_wind_pressure_force (generic function with 1 method)"
      ]
     },
     "execution_count": 1,
     "metadata": {},
     "output_type": "execute_result"
    }
   ],
   "source": [
    "# 風圧力の計算\n",
    "function cal_wind_pressure_force(C::Float64, rho::Float64, v::Float64)\n",
    "    return (1.0 / 2.0) * C * rho * v ^ 2.0\n",
    "end\n",
    "cal_wind_pressure_force(; C::Float64, rho::Float64, v::Float64) = cal_wind_pressure_force(C, rho, v)"
   ]
  },
  {
   "cell_type": "markdown",
   "id": "86308236",
   "metadata": {},
   "source": [
    "\n",
    "なお、通常建物において風圧係数Cは、\n",
    "- 風上側：0 <= C <=1\n",
    "- 風下側：C <= 0\n",
    "\n",
    "となる。ここで図13.4より風向による風圧係数を以下のようにモジュールとして定義する。"
   ]
  },
  {
   "cell_type": "code",
   "execution_count": null,
   "id": "646ffef0",
   "metadata": {},
   "outputs": [
    {
     "data": {
      "text/plain": [
       "cal_wind_pressure_coefficient (generic function with 2 methods)"
      ]
     },
     "metadata": {},
     "output_type": "display_data"
    }
   ],
   "source": [
    "# AfW：Angle from Wind direction\n",
    "function cal_wind_pressure_coefficient( AfW::Float64 )\n",
    "    if AfW < -180.0\n",
    "        AfW = AfW + 360.0\n",
    "    end\n",
    "    # 0°~30°\n",
    "    if ( -30.0 <= AfW && AfW <= 30  ) || ( 330.0 <= AfW )\n",
    "        C = 0.75\n",
    "    # 30°~75°\n",
    "    elseif ( -75.0 <= AfW && AfW <= -30.0  )\n",
    "        C = 1.25 + 0.75 / 45.0 * AfW\n",
    "    elseif ( 30.0 <= AfW && AfW <= 75.0  )\n",
    "        C = 1.25 - 0.75 / 45.0 * AfW\n",
    "    elseif ( 285.0 <= AfW && AfW <= 330.0  )\n",
    "        C = 1.25 + 0.75 / 45.0 * ( AfW - 360.0 )\n",
    "    # 75°~90°\n",
    "    elseif ( -90.0 <= AfW && AfW <= -75.0  )\n",
    "        C = 2.0 + 0.4 / 15.0 * AfW\n",
    "    elseif ( 75.0 <= AfW && AfW <= 90.0  )\n",
    "        C = 2.0 - 0.4 / 15.0 * AfW\n",
    "    elseif ( 270.0 <= AfW && AfW <= 285.0  )\n",
    "        C = 2.0 + 0.4 / 15.0 * ( AfW - 360.0 )\n",
    "    # 90°~105°\n",
    "    elseif ( -105.0 <= AfW && AfW <= -90.0  )\n",
    "        C = 0.2 + 0.1 / 15.0 * AfW\n",
    "    elseif ( 90.0 <= AfW && AfW <= 105.0  )\n",
    "        C = 0.2 - 0.1 / 15.0 * AfW\n",
    "    elseif ( 255.0 <= AfW && AfW <= 270.0  )\n",
    "        C = 0.2 + 0.1 / 15.0 * ( AfW - 360.0 )\n",
    "    # 90°~105°\n",
    "    elseif ( -180.0 <= AfW && AfW <= -105.0  ) || ( 105.0 <= AfW && AfW <= 255.0 )\n",
    "        C = -0.5\n",
    "    end\n",
    "    return C\n",
    "end"
   ]
  },
  {
   "cell_type": "markdown",
   "id": "321876f4-1041-416a-8081-ba23171777e4",
   "metadata": {},
   "source": [
    "</br>  \n",
    "\n",
    "## $\\S 4$ 換気量計算"
   ]
  },
  {
   "cell_type": "markdown",
   "id": "ace20b9a-52bb-4d95-b9d7-580a9e75097d",
   "metadata": {},
   "source": [
    "#### 入力変数名  \n",
    "\n",
    "- ION：開口向き（VT：鉛直壁、HN：天井開口））  \n",
    "※ 以前は0：鉛直壁、1：天井開口とされていた。  \n",
    "- Type：開口状態（gap：隙間、opening：開口、constant：換気回数、fan：換気ファンなど） \n",
    "※ 以前はDという名称で、0：閉　１：開　2以上とされていた。\n",
    "※ 天井壁またはD(I)＝５のとき（これが何さしてるかはわからない）A(I)＝0.5   開いているときまたは、D(I)＝２の時,A(I)＝0.7：A(I):流量係数）\n",
    "- A : α：流量係数[-]\n",
    "- B : 開口幅[mm]\n",
    "- S : 縦開口本数\n",
    "- HU : 開口上辺高さ[m]\n",
    "- HD : 開口下辺高さ[m]\n",
    "- M : 縦方向隙間特性値[-]\n",
    "- MM : 横方向隙間特性値[-]\n",
    "- RAW2_IP：枝上流側密度\n",
    "- RAW2_IM：枝下流側密度\n",
    "- DP：起圧力差\n",
    "- DRAW：枝上流空気の密度-下流空気の密度\n",
    "- QV : 縦方向開口1Pa時[m<sup>3</sup>/s]を長辺長さで割ったもの[m<sup>2</sup>/s]\n",
    "- QH : 横方向開口の1Pa時[m<sup>3</sup>/s]を長辺長さで割ったもの[m<sup>2</sup>/s]"
   ]
  },
  {
   "cell_type": "markdown",
   "id": "38f03b01-9bcc-4e81-a356-0c9c4c1f4ea5",
   "metadata": {},
   "source": [
    "#### 出力変数\n",
    "- W : 開口の正味流量\n",
    "- WU : 開口正方向流量\n",
    "- WD : 開口負方向流量\n",
    "- DW : 開口[∂f/∂p]  \n",
    "- DWU : 開口正方向[∂f/∂p]\n",
    "- DWD : 開口負方向[∂f/∂p]"
   ]
  },
  {
   "cell_type": "code",
   "execution_count": 11,
   "id": "af6ba193-66f8-4346-93f3-302b12c1973b",
   "metadata": {},
   "outputs": [
    {
     "data": {
      "text/plain": [
       "cal_flux_ventilation (generic function with 2 methods)"
      ]
     },
     "execution_count": 11,
     "metadata": {},
     "output_type": "execute_result"
    }
   ],
   "source": [
    "function cal_flux_ventilation( ION, Type, DP, DRAW, A, B, S, HU, HD, M, MM, RAW_IP, RAW_IM, QV, QH )\n",
    "    \n",
    "    # 重力加速度\n",
    "    G = 9.80665\n",
    "\n",
    "    # 開口の高さ＝開口上端高さー開口下端高さ\n",
    "    H = HU - HD\n",
    "    \n",
    "    #####################################    \n",
    "    #鉛直開口\n",
    "    if ION == \"VT\"\n",
    "        ############\n",
    "        # 温度差なし\n",
    "        if DRAW == 0.0\n",
    "\n",
    "            # 仮定した起圧力と実際の気圧力との差がないとき\n",
    "            if DP == 0.0\n",
    "                WU  = 0.0\n",
    "                WD  = 0.0\n",
    "                DWU = 1.0e-5\n",
    "                DWD = 1.0e-5\n",
    "\n",
    "            # 起圧力差DPが正の時\n",
    "            elseif DP > 0\n",
    "                WD  = 0.0\n",
    "                DWD = 0.0\n",
    "                # 1) 隙間における漏気\n",
    "                if Type == \"gap\"\n",
    "                    WU  = flux_leakage_isothermal.WU(RAW_IP, QH, QV, B, S, H, DP, M, MM)\n",
    "                    DWU = flux_leakage_isothermal.DWU(RAW_IP, QH, QV, B, S, H, DP, M, MM)\n",
    "                # 2) 開口における漏気\n",
    "                elseif Type == \"opening\"\n",
    "                    WU  = flux_ventilation_isothermal.WU(A, B, H, DP, RAW_IP)\n",
    "                    DWU = flux_ventilation_isothermal.DWU(A, B, H, DP, RAW_IP)\n",
    "                end\n",
    "            # 起圧力差DPが負の時\n",
    "            elseif DP < 0\n",
    "                WU  = 0.0\n",
    "                DWU = 0.0\n",
    "                # 1) 隙間における漏気\n",
    "                if Type == \"gap\"\n",
    "                    WD  = flux_leakage_isothermal.WU(RAW_IM, QH, QV, B, S, H, DP, M, MM)\n",
    "                    DWD = flux_leakage_isothermal.DWU(RAW_IM, QH, QV, B, S, H, DP, M, MM)\n",
    "                # 2) 開口における漏気\n",
    "                elseif Type == \"opening\"\n",
    "                    WD  = flux_ventilation_isothermal.WU(A, B, H, DP, RAW_IM)\n",
    "                    DWD = flux_ventilation_isothermal.DWU(A, B, H, DP, RAW_IM)\n",
    "                end\n",
    "            end\n",
    "            \n",
    "        ############\n",
    "        # 温度差が存在するとき\n",
    "        else\n",
    "            HN  = DP / ( DRAW * G ) #中立軸高さ\n",
    "            HNU = abs( HU - HN ) # 上端から中立軸高さまでの距離\n",
    "            HND = abs( HD - HN ) # 下端から中立軸高さまでの距離\n",
    "            \n",
    "            # 中立軸高さが上下端外にあるとき　＆　上流側？への流れのとき（上流・下流の向きは用件等）\n",
    "            if (DRAW < 0 && HN <= HD) || ( DRAW > 0 && HN >= HU )\n",
    "                WD  = 0.0\n",
    "                DWD = 0.0\n",
    "                # 1) 隙間における漏気\n",
    "                if Type == \"gap\"\n",
    "                    WU  = flux_leakage_noniso_uniflow.WU(RAW_IP, DRAW, QH, QV, B, S, HNU, HND, M, MM)\n",
    "                    DWU = flux_leakage_noniso_uniflow.DWU(RAW_IP, DRAW, QH, QV, B, S, HNU, HND, M, MM)\n",
    "                # 2) 開口における漏気\n",
    "                elseif Type == \"opening\"\n",
    "                    WU  = flux_ventilation_noniso_uniflow.WU(A, B, DRAW, RAW_IP, HNU, HND)\n",
    "                    DWU = flux_ventilation_noniso_uniflow.DWU(A, B, DRAW, RAW_IP, HNU, HND)\n",
    "                end\n",
    "\n",
    "            # 中立軸高さが上下端外にあるとき　＆　下流側？への流れのとき\n",
    "            elseif ( DRAW < 0 && HN >= HU ) || ( DRAW > 0 && HN <= HD )\n",
    "                WU  = 0.0\n",
    "                DWU = 0.0\n",
    "                # 1) 隙間における漏気\n",
    "                if Type == \"gap\"\n",
    "                    WD  = flux_leakage_noniso_uniflow.WU(RAW_IM, DRAW, QH, QV, B, S, HNU, HND, M, MM)\n",
    "                    DWD = flux_leakage_noniso_uniflow.DWU(RAW_IM, DRAW, QH, QV, B, S, HNU, HND, M, MM)\n",
    "                # 2) 開口における漏気\n",
    "                elseif Type == \"opening\"\n",
    "                    WD  = flux_ventilation_noniso_uniflow.WU(A, B, DRAW, RAW_IM, HNU, HND)\n",
    "                    DWD = flux_ventilation_noniso_uniflow.DWU(A, B, DRAW, RAW_IM, HNU, HND)\n",
    "                end\n",
    "            \n",
    "            # 中立軸高さが上下端内にあるとき　＆　密度差が負のとき\n",
    "            elseif DRAW < 0 && HD < HN && HN < HU \n",
    "                # 1) 隙間における漏気\n",
    "                if Type == \"gap\"\n",
    "                    WU  = flux_leakage_noniso_crossflow.WU( RAW_IP, DRAW, QH, QV, B, S, HNU, HND, M, MM)\n",
    "                    WD  = flux_leakage_noniso_crossflow.WD( RAW_IM, DRAW, QH, QV, B, S, HNU, HND, M, MM)\n",
    "                    DWU = flux_leakage_noniso_crossflow.DWU(RAW_IP, DRAW, QH, QV, B, S, HNU, HND, M, MM)\n",
    "                    DWD = flux_leakage_noniso_crossflow.DWD(RAW_IM, DRAW, QH, QV, B, S, HNU, HND, M, MM)\n",
    "                # 2) 開口における漏気\n",
    "                elseif Type == \"opening\"\n",
    "                    WU  = flux_ventilation_noniso_crossflow.WU( A, B, DRAW, RAW_IP, HNU )\n",
    "                    WD  = flux_ventilation_noniso_crossflow.WD( A, B, DRAW, RAW_IM, HND )\n",
    "                    DWU = flux_ventilation_noniso_crossflow.DWU( A, B, DRAW, RAW_IP, HNU )\n",
    "                    DWD = flux_ventilation_noniso_crossflow.DWD( A, B, DRAW, RAW_IM, HND )\n",
    "                end\n",
    "                \n",
    "            # 中立軸高さが上下端内にあるとき　＆　密度差が負のとき\n",
    "            elseif DRAW > 0 && HD < HN && HN < HU\n",
    "                # 1) 隙間における漏気\n",
    "                if Type == \"gap\"\n",
    "                    WU  = flux_leakage_noniso_crossflow.WD( RAW_IP, DRAW, QH, QV, B, S, HNU, HND, M, MM)\n",
    "                    WD  = flux_leakage_noniso_crossflow.WU( RAW_IM, DRAW, QH, QV, B, S, HNU, HND, M, MM)\n",
    "                    DWU = flux_leakage_noniso_crossflow.DWD(RAW_IP, DRAW, QH, QV, B, S, HNU, HND, M, MM)\n",
    "                    DWD = flux_leakage_noniso_crossflow.DWU(RAW_IM, DRAW, QH, QV, B, S, HNU, HND, M, MM)\n",
    "                # 2) 開口における漏気\n",
    "                elseif Type == \"opening\"\n",
    "                    WU  = flux_ventilation_noniso_crossflow.WU( A, B, DRAW, RAW_IP, HND )\n",
    "                    WD  = flux_ventilation_noniso_crossflow.WD( A, B, DRAW, RAW_IM, HNU )\n",
    "                    DWU = flux_ventilation_noniso_crossflow.DWU( A, B, DRAW, RAW_IP, HND )\n",
    "                    DWD = flux_ventilation_noniso_crossflow.DWD( A, B, DRAW, RAW_IM, HNU )\n",
    "                end\n",
    "            end\n",
    "        end\n",
    "\n",
    "    elseif ION == 1\n",
    "        println(\"まだ実装されてないよ\")        \n",
    "    end\n",
    "\n",
    "    W   = WU - WD # Wを矢印の方向に合わせて、正負を変換している。\n",
    "    DW  = DWU + DWD # 微分の計算\n",
    "    \n",
    "    return W, WU, WD, DW, DWU, DWD\n",
    "end\n",
    "\n",
    "cal_flux_ventilation(; ION, Type, DP, DRAW, A, B, S, HU, HD, M, MM, RAW_IP, RAW_IM, QV, QH) = cal_flux_ventilation( ION, Type, DP, DRAW, A, B, S, HU, HD, M, MM, RAW_IP, RAW_IM, QV, QH )"
   ]
  },
  {
   "cell_type": "code",
   "execution_count": 12,
   "id": "f8433a56-b37e-4a7b-b90b-9028ffb81cac",
   "metadata": {},
   "outputs": [
    {
     "data": {
      "text/plain": [
       "(-6.409261176238541, 0.0, 6.409261176238541, 1.4614107443030637, 0.0, 1.4614107443030637)"
      ]
     },
     "execution_count": 12,
     "metadata": {},
     "output_type": "execute_result"
    }
   ],
   "source": [
    "test_vf = cal_flux_ventilation( \n",
    "    ION = \"VT\", \n",
    "    Type= \"gap\", \n",
    "    DP  = 0.0, \n",
    "    DRAW= 0.1, \n",
    "    A   = 3.0, \n",
    "    B   = 1.0, \n",
    "    S   = 0.0, \n",
    "    HU  = 5.0, \n",
    "    HD  = 1.0, \n",
    "    M   = 2.0, \n",
    "    MM  = 2.0, \n",
    "    RAW_IP = 2.0, \n",
    "    RAW_IM = 2.0, \n",
    "    QV      = 1.0, \n",
    "    QH      = 1.0 )"
   ]
  },
  {
   "cell_type": "code",
   "execution_count": null,
   "id": "ef48ce9a-709c-41ff-80d5-578190e80e15",
   "metadata": {},
   "outputs": [],
   "source": []
  },
  {
   "cell_type": "code",
   "execution_count": null,
   "id": "4c578be0",
   "metadata": {},
   "outputs": [],
   "source": []
  },
  {
   "cell_type": "code",
   "execution_count": null,
   "id": "2176644e",
   "metadata": {},
   "outputs": [],
   "source": []
  }
 ],
 "metadata": {
  "kernelspec": {
   "display_name": "Julia 1.11.0",
   "language": "julia",
   "name": "julia-1.11"
  },
  "language_info": {
   "file_extension": ".jl",
   "mimetype": "application/julia",
   "name": "julia",
   "version": "1.11.0"
  }
 },
 "nbformat": 4,
 "nbformat_minor": 5
}
