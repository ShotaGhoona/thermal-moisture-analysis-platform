{
 "cells": [
  {
   "cell_type": "markdown",
   "id": "14ec33a1-2486-4891-b083-25a0cb4410f3",
   "metadata": {},
   "source": [
    "# input_data内に格納されたファイルを入力するための関数群"
   ]
  },
  {
   "cell_type": "markdown",
   "id": "7a8df9a2-7251-4974-9f0f-c46698f11838",
   "metadata": {},
   "source": [
    "### 1. Cellのデータセット  \n",
    "\n",
    "cell構造体を入力するための関数。  \n",
    "入力データは\"./input_data/wall_data\"内に格納しておき、  \n",
    "引数としてファイル名（拡張子名.csvを除く）を入力する。  \n",
    "\n",
    "なお、引数として、wall, file_nameをともに入れることで、  \n",
    "該当のwall構造体にcell構造体を組み込むことが出来る。\n"
   ]
  },
  {
   "cell_type": "code",
   "execution_count": 5,
   "id": "bf9e2ce8-3cb3-4603-8088-c3fec681595b",
   "metadata": {},
   "outputs": [
    {
     "data": {
      "text/plain": [
       "input_cell_data (generic function with 2 methods)"
      ]
     },
     "execution_count": 5,
     "metadata": {},
     "output_type": "execute_result"
    }
   ],
   "source": [
    "function input_cell_data(file_name::String)\n",
    "    # 入力ファイルの読み込み\n",
    "    file_directory = \"./input_data/wall_data/\"*string(file_name)*\".csv\"\n",
    "    input_data = CSV.File( file_directory, header = 3) |> DataFrame\n",
    "    # 空の開口条件データを作成\n",
    "    cell = [ Cell() for i = 1 : length(input_data.i) ]\n",
    "    \n",
    "    # 入力ファイルに従ってデータを上書き\n",
    "    for i = 1 : length(input_data.i)\n",
    "        cell[i].i    = input_data.i[i]\n",
    "        cell[i].dx   = input_data.dx[i]\n",
    "        cell[i].temp = input_data.temp[i] + 273.15\n",
    "        cell[i].material_name = input_data.material_name[i]\n",
    "        cell[i].miu  = vapour.convertRH2Miu( temp = cell[i].temp, rh = input_data.rh[i] / 100 )\n",
    "        # 質点からの距離の設定\n",
    "        try \n",
    "            cell[i].dx2 = input_data.dx2[i]\n",
    "        catch\n",
    "            if i == 1 || i == length(input_data.i)\n",
    "                cell[i].dx2= cell[i].dx\n",
    "            else\n",
    "                cell[i].dx2= cell[i].dx / 2\n",
    "            end\n",
    "        end\n",
    "    end\n",
    "    return cell\n",
    "end\n",
    "\n",
    "function input_cell_data(;wall::Condition, file_name::String)\n",
    "    wall.cell = input_cell_data(file_name)\n",
    "end"
   ]
  },
  {
   "cell_type": "code",
   "execution_count": 6,
   "id": "9137c605-9767-49af-bc6c-10f7752b2820",
   "metadata": {},
   "outputs": [
    {
     "ename": "LoadError",
     "evalue": "UndefVarError: wall1 not defined",
     "output_type": "error",
     "traceback": [
      "UndefVarError: wall1 not defined",
      "",
      "Stacktrace:",
      " [1] top-level scope",
      "   @ In[6]:1",
      " [2] eval",
      "   @ .\\boot.jl:360 [inlined]",
      " [3] include_string(mapexpr::typeof(REPL.softscope), mod::Module, code::String, filename::String)",
      "   @ Base .\\loading.jl:1116"
     ]
    }
   ],
   "source": [
    "input_cell_data(wall1)"
   ]
  },
  {
   "cell_type": "code",
   "execution_count": null,
   "id": "76623d49-7f98-48e6-845e-489a23cab65b",
   "metadata": {},
   "outputs": [],
   "source": []
  }
 ],
 "metadata": {
  "kernelspec": {
   "display_name": "Julia 1.6.2",
   "language": "julia",
   "name": "julia-1.6"
  },
  "language_info": {
   "file_extension": ".jl",
   "mimetype": "application/julia",
   "name": "julia",
   "version": "1.6.2"
  }
 },
 "nbformat": 4,
 "nbformat_minor": 5
}
