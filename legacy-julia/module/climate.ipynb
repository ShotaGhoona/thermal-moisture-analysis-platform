{
 "cells": [
  {
   "cell_type": "markdown",
   "id": "57028e7b-332e-4ed0-8739-284b34c46b62",
   "metadata": {},
   "source": [
    "<br>\n",
    "\n",
    "# 外界気象データを扱うモジュール  "
   ]
  },
  {
   "cell_type": "markdown",
   "id": "20da8f47",
   "metadata": {},
   "source": [
    "本モジュールの概略を説明する。  \n",
    "本モジュールは外気気象データを取り扱うモジュールである。  \n",
    "\n",
    "外界気象は室内空間（Room）や壁体（Wall）、開口（Opening）などのモジュールとはやや異なる性質を有する。  \n",
    "外界気象は境界条件として測定値を用いるため、測定値をデータセットして入力し、各時刻に応じた値を計算する必要がある。  "
   ]
  },
  {
   "cell_type": "code",
   "execution_count": 1,
   "id": "ea557777",
   "metadata": {},
   "outputs": [
    {
     "name": "stderr",
     "output_type": "stream",
     "text": [
      "WARNING: replacing module Lewis_relation.\n",
      "WARNING: replacing module Lewis_relation.\n",
      "WARNING: replacing module property_conversion.\n",
      "WARNING: replacing module water_property.\n",
      "WARNING: replacing module Lewis_relation.\n"
     ]
    },
    {
     "data": {
      "text/plain": [
       "convertAH2RH (generic function with 1 method)"
      ]
     },
     "execution_count": 1,
     "metadata": {},
     "output_type": "execute_result"
    }
   ],
   "source": [
    "using CSV\n",
    "using DataFrames\n",
    "using Dates\n",
    "using StringEncodings\n",
    "include(\"air.jl\")\n",
    "include(\"solar_radiation.jl\")\n",
    "include(\"wall.jl\")\n",
    "include(\"./function/vapour.jl\")"
   ]
  },
  {
   "cell_type": "markdown",
   "id": "db58d2e5",
   "metadata": {},
   "source": [
    "## 1. 外界気象を定義する構造体  "
   ]
  },
  {
   "cell_type": "markdown",
   "id": "b28690c1",
   "metadata": {},
   "source": [
    "外界気象を定義する構造体Climateの説明を行う。  \n",
    "ここでは入力条件として外界気象の情報を以下のように与えるものとした。"
   ]
  },
  {
   "cell_type": "code",
   "execution_count": 2,
   "id": "5c5dcf8a",
   "metadata": {},
   "outputs": [
    {
     "data": {
      "text/plain": [
       "Climate"
      ]
     },
     "execution_count": 2,
     "metadata": {},
     "output_type": "execute_result"
    }
   ],
   "source": [
    "# 気象の構造\n",
    "Base.@kwdef mutable struct Climate\n",
    "    date::DateTime  = DateTime( 2000, 1, 1, 0, 0, 0 )           # 日時\n",
    "    location::Dict{String, Any} = Dict( \"city\"  =>  \"Kyoto\",    # 都市名\n",
    "                                        \"lon\"   =>  135.678,    # 緯度\n",
    "                                        \"phi\"   =>  34.983,     # 経度\n",
    "                                        \"lons\"  =>  135.0)      # 地方標準時の地点の経度\n",
    "    air::Air        = Air(name = \"climate\")     # 温度・湿度等の情報\n",
    "    Jp::Float64     = 0.0       # 降水量[mm/h]\n",
    "    Js::Float64     = 0.0       # 積雪量[mm/h]\n",
    "    WS::Float64     = 0.0       # 風速[m/s]\n",
    "    WD::String      = \"東\"       # 風向（N,NNE,NE,ENE,E,ESE,SE,SSE,S,SSW,SW,WSW,W,WNW,NW,NNW）\n",
    "    tau::Float64    = 0.0       # 大気透過率[-]\n",
    "    solar::Dict{String, Float64}    = Dict( \"SOLDN\" => 0.0,\n",
    "                                            \"SOLSN\" => 0.0,\n",
    "                                            \"LATI\"  => 0.0,\n",
    "                                            \"ALTI\"  => 0.0)\n",
    "    rho::Float64    = 0.0       # 地表面日射反射率[-]\n",
    "    cloudiness::Int = 0         # 雲量[-]\n",
    "    input_data::DataFrame   = DataFrame()   # 入力する外気気象データ\n",
    "    input_data_type::Array{Symbol,1}   = [] # 入力する外気気象データの種類\n",
    "    logging_interval::Int   = 0             # 外気気象データの測定間隔\n",
    "end"
   ]
  },
  {
   "cell_type": "code",
   "execution_count": 3,
   "id": "7b2111fd",
   "metadata": {},
   "outputs": [
    {
     "data": {
      "text/plain": [
       "cal_direction (generic function with 1 method)"
      ]
     },
     "execution_count": 3,
     "metadata": {},
     "output_type": "execute_result"
    }
   ],
   "source": [
    "#### 方位に関する定義\n",
    "direction = Dict(   \"N\" => 0.0, \"NNE\" => 22.5, \"NE\" => 45.0, \"ENE\" => 67.5, \n",
    "                    \"E\" => 90.0, \"ESE\" => 112.5, \"SE\" => 135.0, \"SSE\" => 157.5, \n",
    "                    \"S\" => 180.0, \"SSW\" => 202.5, \"SW\" => 225.0, \"WSW\" => 247.5, \n",
    "                    \"W\" => 270.0, \"WNW\" => 292.5, \"NW\" => 315.0, \"NNW\" => 337.5)\n",
    "                    \n",
    "direction_JP = Dict(\"北\" => 0.0, \"北北東\" => 22.5, \"北東\" => 45.0, \"東北東\" => 67.5, \n",
    "                    \"東\" => 90.0, \"東南東\" => 112.5, \"南東\" => 135.0, \"南南東\" => 157.5, \n",
    "                    \"南\" => 180.0, \"南南西\" => 202.5, \"南西\" => 225.0, \"西南西\" => 247.5, \n",
    "                    \"西\" => 270.0, \"西北西\" => 292.5, \"北西\" => 315.0, \"北北西\" => 337.5,\n",
    "                    \"静穏\" => 0.0)\n",
    "\n",
    "cal_direction( direction_name::String ) = direction[direction_name]"
   ]
  },
  {
   "cell_type": "code",
   "execution_count": 4,
   "id": "fedfbfef",
   "metadata": {},
   "outputs": [
    {
     "data": {
      "text/plain": [
       "time_elapses (generic function with 1 method)"
      ]
     },
     "execution_count": 4,
     "metadata": {},
     "output_type": "execute_result"
    }
   ],
   "source": [
    "########################################\n",
    "# 出力用の関数\n",
    "date(climate::Climate)  = climate.date\n",
    "location(climate::Climate) = climate.location\n",
    "air(climate::Climate)   = climate.air\n",
    "temp(climate::Climate)  = temp(climate.air)\n",
    "rh(climate::Climate)    = rh(climate.air)\n",
    "ah(climate::Climate)    = ah(climate.air)\n",
    "pv(climate::Climate)    = pv(climate.air)\n",
    "p_atm(climate::Climate) = p_atm(climate.air)\n",
    "Jp(climate::Climate)    = climate.Jp\n",
    "Js(climate::Climate)    = climate.Js\n",
    "WS(climate::Climate)    = climate.WS\n",
    "WD(climate::Climate)    = climate.WD\n",
    "θwd(climate::Climate)   = direction_JP[WD(climate)]\n",
    "tau(climate::Climate)   = climate.tau\n",
    "solar(climate::Climate) = climate.solar\n",
    "rho(climate::Climate)   = climate.rho\n",
    "cloudiness(climate::Climate)        = climate.cloudiness\n",
    "input_data(climate::Climate)        = climate.input_data\n",
    "input_data_type(climate::Climate)   = climate.input_data_type\n",
    "logging_interval(climate::Climate)  = climate.logging_interval\n",
    "\n",
    "########################################\n",
    "# 入力用の関数\n",
    "function set_date(climate::Climate, date::DateTime) \n",
    "    climate.date        = date  end\n",
    "function set_location(climate::Climate, location::Dict{String, Any}) \n",
    "    climate.location    = location  end\n",
    "function set_air(climate::Climate, air::Air) \n",
    "    climate.air         = air  end\n",
    "function set_temp(climate::Climate, temp::Float64) \n",
    "    climate.air.temp    = temp  end\n",
    "function set_rh(climate::Climate, rh::Float64) \n",
    "    climate.air.rh      = rh  end\n",
    "function set_pv(climate::Climate, pv::Float64) \n",
    "    climate.air.pv      = pv  end\n",
    "function set_ah(climate::Climate, ah::Float64) \n",
    "    climate.air.ah      = ah  end\n",
    "\n",
    "########################################\n",
    "# 時間経過に関する関数\n",
    "function time_elapses(climate::Climate, dt::Float64)\n",
    "    climate.date    = climate.date + Millisecond(dt*1000)   end"
   ]
  },
  {
   "cell_type": "markdown",
   "id": "bfcb9beb-03c1-43d6-a286-e87a4ca378c9",
   "metadata": {},
   "source": [
    "## 2. 気象データの入力\n",
    "### ― 気象庁の測定データをもとに －"
   ]
  },
  {
   "cell_type": "markdown",
   "id": "955e5dbb-ad7c-43cc-bc0b-584a4a226e2c",
   "metadata": {},
   "source": [
    "外界気象データは、主に以下の3つの経路で入手することが一般的である。  \n",
    "- 気象ステーション等による実測  \n",
    "- 気象庁のデータを活用\n",
    "- 設計用気象データの活用  \n",
    "\n",
    "以下では気象庁において測定されているデータを参考にデータの読み込み方法を定めた。  \n",
    "\n",
    "気象庁 - 過去の気象データ検索  \n",
    "http://www.data.jma.go.jp/obd/stats/etrn/index.php\n",
    "\n",
    "気象庁 - 過去の気象データ・ダウンロード  \n",
    "http://www.data.jma.go.jp/gmd/risk/obsdl/index.php\n"
   ]
  },
  {
   "cell_type": "markdown",
   "id": "c554276d-4e34-4d7c-9f1d-4b76bdaf2a9d",
   "metadata": {
    "tags": []
   },
   "source": [
    "これらの入力データは\"./input_data\"内に格納しておく。  \n",
    "このファイルの読み込み方法として下記の関数を定義しておこう。  \n",
    "例えば、climate_data.csvというファイルを格納しているのであれば、  \n",
    "本関数の引数はfile_name = \"climate_data.csv\"となる。  \n",
    "\n",
    "### ※ヘッダーの位置はまちまちなので、入力する環境条件ごとにheaderの数字を変更すること"
   ]
  },
  {
   "cell_type": "code",
   "execution_count": 5,
   "id": "19c24b53",
   "metadata": {},
   "outputs": [
    {
     "data": {
      "text/plain": [
       "time_elapses (generic function with 1 method)"
      ]
     },
     "execution_count": 5,
     "metadata": {},
     "output_type": "execute_result"
    }
   ],
   "source": [
    "# 時間経過に関する関数\n",
    "function time_elapses(climate::Climate, dt::Float64)\n",
    "    climate.date    = climate.date + Millisecond(dt*1000)   end"
   ]
  },
  {
   "cell_type": "code",
   "execution_count": 6,
   "metadata": {},
   "outputs": [
    {
     "data": {
      "text/plain": [
       "cal_logging_interval_min (generic function with 1 method)"
      ]
     },
     "execution_count": 6,
     "metadata": {},
     "output_type": "execute_result"
    }
   ],
   "source": [
    "# データのロギング間隔を取得する関数\n",
    "function cal_logging_interval_min( data::DataFrame )\n",
    "    return Int(( hour(data.date[2]) - hour(data.date[1]) ) * 60 + ( minute(data.date[2]) - minute(data.date[1]) ))\n",
    "end"
   ]
  },
  {
   "cell_type": "code",
   "execution_count": 7,
   "id": "8e739275-b977-4cf9-a572-ba8c47b253a8",
   "metadata": {},
   "outputs": [
    {
     "data": {
      "text/plain": [
       "input_climate_data (generic function with 3 methods)"
      ]
     },
     "execution_count": 7,
     "metadata": {},
     "output_type": "execute_result"
    }
   ],
   "source": [
    "# 気象データをinputする関数\n",
    "function input_climate_data(file_name::String, header::Int = 3)\n",
    "\n",
    "    ###################################\n",
    "    # 入力ファイルの読み込み\n",
    "    # 相対パスを入力の上指定さえれている場合、\n",
    "    if contains(file_name, \"./\")\n",
    "        file_directory = file_name\n",
    "        \n",
    "    # ファイル名＋csvの形で書かれている場合、\n",
    "    elseif contains(file_name, \".csv\")\n",
    "        file_directory = \"./input_data/climate_data/\"*string(file_name)\n",
    "        \n",
    "    # ファイル名のみが書かれている場合、\n",
    "    else\n",
    "        file_directory = \"./input_data/climate_data/\"*string(file_name)*\".csv\"        \n",
    "    end\n",
    "    \n",
    "    ###################################\n",
    "    # 入力ファイルの読み込み：日本語対応\n",
    "    input_data = CSV.File(open(file_directory, enc\"Shift_JIS\"), header = header) |> DataFrame\n",
    "    # ⇒ DateTime型への変換\n",
    "    input_data.date = DateTime.( input_data[!,1], dateformat\"y/m/d HH:MM\")\n",
    "    ###################################\n",
    "\n",
    "    # 入力するデータのタイプの確認\n",
    "    data_type = []\n",
    "    for names = names( input_data )\n",
    "        if input_data[!,names] == 1\n",
    "            # println( names, \" is same\")\n",
    "        elseif all( ismissing, input_data[!,names])\n",
    "            # println( names, \" is missing\")\n",
    "        elseif names == \"date\"\n",
    "\n",
    "        else\n",
    "            # println( names, \" is not same\")\n",
    "            push!(data_type, names)\n",
    "        end\n",
    "    end\n",
    "    push!(data_type, :pv) # 水蒸気圧についても更新\n",
    "    push!(data_type, :ah) # 絶対湿度についても更新\n",
    "\n",
    "    # 水蒸気圧・絶対湿度の算出\n",
    "    input_data.pv = [ convertRH2Pv( temp = input_data.temp[i] + 273.15, rh = input_data.rh[i]/100 ) for i = 1 : length(input_data.temp) ]\n",
    "    input_data.ah = [ convertRH2AH( temp = input_data.temp[i] + 273.15, rh = input_data.rh[i]/100 ) for i = 1 : length(input_data.temp) ]\n",
    "\n",
    "    # データのロギングインターバルの変更\n",
    "    logging_interval = cal_logging_interval_min( input_data )\n",
    "\n",
    "    ##################################\n",
    "    # 気象構造の設定\n",
    "    climate = Climate(\n",
    "        date = input_data.date[1] ,\n",
    "        input_data = input_data, \n",
    "        input_data_type = Symbol.(data_type),\n",
    "        logging_interval = logging_interval)\n",
    "\n",
    "    reset_climate_data( climate )\n",
    "\n",
    "    return climate\n",
    "end\n",
    "\n",
    "input_climate_data(; file_name::String, header::Int = 3) = input_climate_data(file_name, header)"
   ]
  },
  {
   "cell_type": "markdown",
   "id": "a4b1cee1-fe4a-421d-8d78-c9b593466e6e",
   "metadata": {},
   "source": [
    "\n",
    "### Appendix. DataFramesを用いた値の抽出"
   ]
  },
  {
   "cell_type": "markdown",
   "id": "484e8e7b-15dc-4883-9b65-e8ff2fe46df8",
   "metadata": {},
   "source": [
    "DataFramesにおけるデータの抽出方法について示しておく。  \n",
    "入力する環境データは、時刻と紐づけれるよう年月日時分秒の情報も入力しておく。\n",
    "\n",
    "DataFramesは[]内に条件を指定することで条件抽出が可能となるため、以下のような関数を用いることである時刻における値を抽出することが出来る。\n",
    "\n",
    "参考：Juliaで遊んでみた - データフレーム操作編\n",
    "https://qiita.com/HiroyukiTachikawa/items/e01917ade931031ec6a1#4%E3%83%87%E3%83%BC%E3%82%BF%E6%8A%BD%E5%87%BA"
   ]
  },
  {
   "cell_type": "code",
   "execution_count": 8,
   "id": "d0f606c0",
   "metadata": {},
   "outputs": [
    {
     "data": {
      "text/plain": [
       "extract_pv_by_climate_data (generic function with 1 method)"
      ]
     },
     "execution_count": 8,
     "metadata": {},
     "output_type": "execute_result"
    }
   ],
   "source": [
    "# ある時刻におけるすべての列を取得する方法\n",
    "function get_row_at_date( climate_data::DataFrame, date::DateTime )\n",
    "    return climate_data[ climate_data[!, :date] .== date, : ]\n",
    "end\n",
    "\n",
    "# 指定した列の値を取得する方法\n",
    "function get_value_by_column_name( data::DataFrame, name::String )\n",
    "    return data[!, name]\n",
    "end\n",
    "\n",
    "# 以下現状（2024/11/21）使わない関数群\n",
    "# 温度の抽出\n",
    "function extract_temp_by_climate_data( climate_data::DataFrame, date::DateTime )\n",
    "    return climate_data.temp[climate_data.date.==date,:][1] #[1]はmatrixをスカラーに変換するため\n",
    "end\n",
    "\n",
    "# 相対湿度の抽出\n",
    "function extract_rh_by_climate_data( climate_data::DataFrame, date::DateTime )\n",
    "    return climate_data.rh[climate_data.date.==date,:][1]\n",
    "end\n",
    "\n",
    "# 水蒸気圧の抽出\n",
    "function extract_pv_by_climate_data( climate_data::DataFrame, date::DateTime )\n",
    "    return climate_data.pv[climate_data.date.==date,:][1]\n",
    "end"
   ]
  },
  {
   "cell_type": "markdown",
   "id": "a775efc9-a741-473e-bac8-b1302ea38088",
   "metadata": {},
   "source": [
    "## 3. 環境データの直線内挿（線形補間）  \n",
    "\n",
    "環境データは、数値解析の時間刻みに合うように測定間隔ごとのデータを補間（内挿）する必要がある。  \n",
    "以下では、一般的な補間方法である線形補間（Linear Interpolate(Lerp)）方法について示す。 \n"
   ]
  },
  {
   "cell_type": "markdown",
   "id": "d761cb5b-e085-47e0-8f8d-7431c90701d8",
   "metadata": {},
   "source": [
    "### 3.1 線形補完の基礎方程式"
   ]
  },
  {
   "cell_type": "markdown",
   "id": "e21630c9-5c95-4d21-b7b9-08898059ecc3",
   "metadata": {},
   "source": [
    "線形補完の基本的な概念を下の図に示す。  \n",
    "t1およびt2の値が既知であるとき、ti時における値yiは以下の関係で結ばれる。\n"
   ]
  },
  {
   "cell_type": "markdown",
   "id": "8d45e236-2c58-47b6-808e-a2129b1755ea",
   "metadata": {},
   "source": [
    "<img src=\"picture/線形内挿.png\" width=\"40%\">"
   ]
  },
  {
   "cell_type": "markdown",
   "id": "03d235ae-7def-4de6-9353-85c0a72439f9",
   "metadata": {},
   "source": [
    "\n",
    "$$\\frac{ y_i - y_1 }{ y_2 - y_1 } = \\frac{ t_i - t_1 }{ t_2 - t_1 }$$  \n",
    "\n",
    "すなわち、ある時刻$t_i$における値$y_i$は以下のように求められる。\n",
    "\n",
    "$$ y_i = y_1 + (y_2 - y_1)\\frac{ t_i - t_1 }{ t_2 - t_1 }$$"
   ]
  },
  {
   "cell_type": "code",
   "execution_count": 9,
   "id": "5cca0c9b-db65-46eb-b7d2-cf79180647c4",
   "metadata": {},
   "outputs": [
    {
     "data": {
      "text/plain": [
       "cal_lerp (generic function with 1 method)"
      ]
     },
     "execution_count": 9,
     "metadata": {},
     "output_type": "execute_result"
    }
   ],
   "source": [
    "function cal_lerp(; y1::Float64, y2::Float64, t1::Float64, t2::Float64, ti::Float64 )\n",
    "    return y1 + ( y2 - y1 ) * ( ti - t1 ) / ( t2 - t1 )\n",
    "end"
   ]
  },
  {
   "cell_type": "markdown",
   "id": "f49fbe8d-e30b-4020-93ad-b4b43d7c8c33",
   "metadata": {},
   "source": [
    "### 3.2 環境データの線形内挿  \n",
    "\n",
    "上記の関数を環境データで置き換えた場合、各変数は下記のように定義できる。\n",
    "- interval($t_2- t_1$)：データの測定間隔\n",
    "- remainder($t_i- t_1$)：現在時刻を測定間隔で割ったものの余り\n"
   ]
  },
  {
   "cell_type": "code",
   "execution_count": 10,
   "id": "2679e105-1ea9-4d4b-859c-ca4fa4dfdc15",
   "metadata": {},
   "outputs": [
    {
     "data": {
      "text/plain": [
       "cal_lerp (generic function with 1 method)"
      ]
     },
     "execution_count": 10,
     "metadata": {},
     "output_type": "execute_result"
    }
   ],
   "source": [
    "function cal_lerp(; y1::Float64, y2::Float64, interval::Float64, remainder::Float64 )\n",
    "    return y1 + ( y2 - y1 ) * ( remainder ) / ( interval )\n",
    "end"
   ]
  },
  {
   "cell_type": "markdown",
   "id": "f241ef7f-4309-4089-bf54-8926f171acee",
   "metadata": {},
   "source": [
    "## 4. ある時刻における温度・湿度を求める関数"
   ]
  },
  {
   "cell_type": "markdown",
   "id": "ae1bfd42-26e4-4afc-bfae-c6d171000920",
   "metadata": {},
   "source": [
    "### 4.1 直前の測定データの日時を求める関数  \n",
    "まず、ある時刻における値を求めるには、その直前のロギングインターバル時($t_i$)を求める必要がある。これを以下のように関数化する。"
   ]
  },
  {
   "cell_type": "markdown",
   "id": "d48f946c-18db-4ba1-a47e-223a1f14cdea",
   "metadata": {},
   "source": [
    "※logging_interval_minは分で入力する"
   ]
  },
  {
   "cell_type": "code",
   "execution_count": 11,
   "id": "241b9858-6cdc-4742-9d4e-5a29dec9b44e",
   "metadata": {},
   "outputs": [
    {
     "data": {
      "text/plain": [
       "cal_before_date (generic function with 1 method)"
      ]
     },
     "execution_count": 11,
     "metadata": {},
     "output_type": "execute_result"
    }
   ],
   "source": [
    "function cal_before_date( date::DateTime, logging_interval_min::Int )\n",
    "    min   =  \n",
    "        if logging_interval_min == 60\n",
    "            0 \n",
    "        else \n",
    "            minute(date) - mod(minute(date), logging_interval_min)\n",
    "        end\n",
    "    return DateTime( year(date), month(date), day(date), hour(date), min, 0 )\n",
    "end"
   ]
  },
  {
   "cell_type": "code",
   "execution_count": 12,
   "id": "0feee15b-80f8-409c-a306-3071f5107721",
   "metadata": {},
   "outputs": [
    {
     "data": {
      "text/plain": [
       "cal_after_date (generic function with 1 method)"
      ]
     },
     "execution_count": 12,
     "metadata": {},
     "output_type": "execute_result"
    }
   ],
   "source": [
    "function cal_after_date( date_before::DateTime, logging_interval_min::Int )\n",
    "    return date_before + Minute(logging_interval_min)   \n",
    "end"
   ]
  },
  {
   "cell_type": "markdown",
   "id": "bf76fbbb-7227-4e04-920b-578dc479a994",
   "metadata": {},
   "source": [
    "### 4.2 ある時刻における値を求める関数"
   ]
  },
  {
   "cell_type": "markdown",
   "id": "e40c49f8",
   "metadata": {},
   "source": [
    "※2024/11/22時点　削除予定"
   ]
  },
  {
   "cell_type": "markdown",
   "id": "33199344-ac5d-4953-a2db-7a2e4cfb8450",
   "metadata": {},
   "source": [
    "#### 入力引数  \n",
    "- climate_data：環境データ（DataFrames）\n",
    "- date：現在の時刻（Calendar）\n",
    "- logging_interval_min：分数標記のロギング間隔（通常環境データを取得する際に得られる）  \n",
    "\n",
    "#### 出力値  \n",
    "- temp, pv, rhの配列"
   ]
  },
  {
   "cell_type": "code",
   "execution_count": 13,
   "id": "9ed522ea-45b8-4953-95a7-d5bf78af1f3d",
   "metadata": {},
   "outputs": [
    {
     "data": {
      "text/plain": [
       "cal_temp_rh_pv_by_climate_data (generic function with 1 method)"
      ]
     },
     "execution_count": 13,
     "metadata": {},
     "output_type": "execute_result"
    }
   ],
   "source": [
    "function cal_temp_rh_pv_by_climate_data( climate::Climate, date::DateTime )\n",
    "    \n",
    "    # 直前の測定データの日時を求める\n",
    "    date_before = cal_before_date( date, climate.logging_interval )\n",
    "    \n",
    "    # 直後の測定データの日時を求める\n",
    "    date_after  = cal_after_date( date_before, climate.logging_interval )\n",
    "    \n",
    "    # 直線内挿による現在の値の入力\n",
    "    temp = cal_lerp(\n",
    "        y1 = extract_temp_by_climate_data( climate.data, date_before ), \n",
    "        y2 = extract_temp_by_climate_data( climate.data, date_after ),\n",
    "        interval  = float(climate.logging_interval),\n",
    "        remainder = float(mod(minute(date), climate.logging_interval) ))\n",
    "    \n",
    "    pv = cal_lerp(\n",
    "        y1 = extract_pv_by_climate_data( climate.data, date_before ), \n",
    "        y2 = extract_pv_by_climate_data( climate.data, date_after ),\n",
    "        interval  = float(climate.logging_interval),\n",
    "        remainder = float(mod(minute(date), climate.logging_interval) ))\n",
    "    \n",
    "    rh = convertPv2RH( temp = temp + 273.15 , pv = pv )\n",
    "    return temp, pv, rh\n",
    "end"
   ]
  },
  {
   "cell_type": "markdown",
   "id": "874e3d91",
   "metadata": {},
   "source": [
    "### 4.3 Climate構造体中の値を新値で更新する"
   ]
  },
  {
   "cell_type": "code",
   "execution_count": 14,
   "id": "fed43ecf",
   "metadata": {},
   "outputs": [
    {
     "data": {
      "text/plain": [
       "reset_climate_data (generic function with 1 method)"
      ]
     },
     "execution_count": 14,
     "metadata": {},
     "output_type": "execute_result"
    }
   ],
   "source": [
    "function reset_climate_data( climate::Climate )\n",
    "    \n",
    "    # 直前・直後の測定データの日時を求める\n",
    "    date_before = cal_before_date( climate.date, climate.logging_interval )\n",
    "    date_after  = cal_after_date( date_before, climate.logging_interval )\n",
    "\n",
    "    # 直前・直後のデータを取得\n",
    "    data_before = get_row_at_date( climate.input_data, date_before )\n",
    "    data_after  = get_row_at_date( climate.input_data, date_after )\n",
    "\n",
    "    # 現在値を書き換える（オプション情報）\n",
    "    for field_name = climate.input_data_type\n",
    "        # temp, rh, p_atmはair構造体の中の変数\n",
    "        if field_name == :temp\n",
    "            setfield!( climate.air, field_name, cal_lerp(\n",
    "                y1 = float(data_before[!,field_name][1]), \n",
    "                y2 = float(data_after[!,field_name][1]),\n",
    "                interval  = float(climate.logging_interval),\n",
    "                remainder = float(mod(minute(climate.date), climate.logging_interval))) + 273.15)\n",
    "        elseif field_name == :rh || field_name == :p_atm || field_name == :pv || field_name == :ah\n",
    "            setfield!( climate.air, field_name, cal_lerp(\n",
    "                y1 = float(data_before[!,field_name][1]), \n",
    "                y2 = float(data_after[!,field_name][1]),\n",
    "                interval  = float(climate.logging_interval),\n",
    "                remainder = float(mod(minute(climate.date), climate.logging_interval))))\n",
    "        # その他はclimate構造体の中の変数\n",
    "        elseif field_name == :WD\n",
    "            setfield!( climate, field_name, String(data_before[!,field_name][1]) )         \n",
    "        else\n",
    "            setfield!( climate, field_name, cal_lerp(\n",
    "                y1 = float(data_before[!,field_name][1]), \n",
    "                y2 = float(data_after[!,field_name][1]),\n",
    "                interval  = float(climate.logging_interval),\n",
    "                remainder = float(mod(minute(climate.date), climate.logging_interval))))\n",
    "            # 大気透過率を更新する場合、日射量の計算を行う\n",
    "            if field_name == :tau\n",
    "                climate.solar[\"SOLDN\"], climate.solar[\"SOLSN\"], climate.solar[\"LATI\"], climate.solar[\"ALTI\"] = \n",
    "                    cal_solar_radiation( \n",
    "                        year = year(climate.date), month = month(climate.date), day = day(climate.date), \n",
    "                        hour = hour(climate.date), min = minute(climate.date), sec = second(climate.date), \n",
    "                        PHI = climate.location[\"phi\"], LON = climate.location[\"lon\"], LONS = climate.location[\"lons\"], \n",
    "                        P   = climate.tau )\n",
    "            end\n",
    "        end\n",
    "    end\n",
    "    # 相対湿度に関しては水蒸気圧から再度計算しなおす\n",
    "    setfield!( climate.air, :rh, convertPv2RH( temp = climate.air.temp , pv = climate.air.pv ) )\n",
    "end"
   ]
  },
  {
   "cell_type": "code",
   "execution_count": 16,
   "id": "b9ef291e",
   "metadata": {},
   "outputs": [
    {
     "data": {
      "text/plain": [
       "Climate(DateTime(\"2012-01-01T00:00:00\"), Dict{String, Any}(\"city\" => \"Kyoto\", \"phi\" => 34.983, \"lon\" => 135.678, \"lons\" => 135.0), Air(0, \"climate\", 0.0, 0.0, 0.0, 0.0, 296.15, 0.75, 2107.83143992347, 0.013214156124990986, 101325.0, 0.0, 0.0, 0.0, 0.0, 0.0, 0.0, 0.0, 0.0, 0.0), 0.0, 0.0, 0.0, \"E\", 0.0, Dict(\"SOLDN\" => 0.0, \"LATI\" => 0.0, \"SOLSN\" => 0.0, \"ALTI\" => 0.0), 0.0, 0, \u001b[1m1441×13 DataFrame\u001b[0m\n",
       "\u001b[1m  Row \u001b[0m│\u001b[1m date                \u001b[0m\u001b[1m temp  \u001b[0m\u001b[1m rh    \u001b[0m\u001b[1m p_atm   \u001b[0m\u001b[1m Jp      \u001b[0m\u001b[1m Js      \u001b[0m\u001b[1m WS      \u001b[0m\u001b[1m\u001b[0m ⋯\n",
       "      │\u001b[90m DateTime            \u001b[0m\u001b[90m Int64 \u001b[0m\u001b[90m Int64 \u001b[0m\u001b[90m Missing \u001b[0m\u001b[90m Missing \u001b[0m\u001b[90m Missing \u001b[0m\u001b[90m Missing \u001b[0m\u001b[90m\u001b[0m ⋯\n",
       "──────┼─────────────────────────────────────────────────────────────────────────\n",
       "    1 │ 2012-01-01T00:00:00     23     75 \u001b[90m missing \u001b[0m\u001b[90m missing \u001b[0m\u001b[90m missing \u001b[0m\u001b[90m missing \u001b[0m\u001b[90m\u001b[0m ⋯\n",
       "    2 │ 2012-01-01T00:05:00     23     75 \u001b[90m missing \u001b[0m\u001b[90m missing \u001b[0m\u001b[90m missing \u001b[0m\u001b[90m missing \u001b[0m\u001b[90m\u001b[0m\n",
       "    3 │ 2012-01-01T00:10:00     23     75 \u001b[90m missing \u001b[0m\u001b[90m missing \u001b[0m\u001b[90m missing \u001b[0m\u001b[90m missing \u001b[0m\u001b[90m\u001b[0m\n",
       "    4 │ 2012-01-01T00:15:00     23     75 \u001b[90m missing \u001b[0m\u001b[90m missing \u001b[0m\u001b[90m missing \u001b[0m\u001b[90m missing \u001b[0m\u001b[90m\u001b[0m\n",
       "    5 │ 2012-01-01T00:20:00     23     75 \u001b[90m missing \u001b[0m\u001b[90m missing \u001b[0m\u001b[90m missing \u001b[0m\u001b[90m missing \u001b[0m\u001b[90m\u001b[0m ⋯\n",
       "    6 │ 2012-01-01T00:25:00     23     75 \u001b[90m missing \u001b[0m\u001b[90m missing \u001b[0m\u001b[90m missing \u001b[0m\u001b[90m missing \u001b[0m\u001b[90m\u001b[0m\n",
       "    7 │ 2012-01-01T00:30:00     23     75 \u001b[90m missing \u001b[0m\u001b[90m missing \u001b[0m\u001b[90m missing \u001b[0m\u001b[90m missing \u001b[0m\u001b[90m\u001b[0m\n",
       "    8 │ 2012-01-01T00:35:00     23     75 \u001b[90m missing \u001b[0m\u001b[90m missing \u001b[0m\u001b[90m missing \u001b[0m\u001b[90m missing \u001b[0m\u001b[90m\u001b[0m\n",
       "    9 │ 2012-01-01T00:40:00     23     75 \u001b[90m missing \u001b[0m\u001b[90m missing \u001b[0m\u001b[90m missing \u001b[0m\u001b[90m missing \u001b[0m\u001b[90m\u001b[0m ⋯\n",
       "   10 │ 2012-01-01T00:45:00     23     75 \u001b[90m missing \u001b[0m\u001b[90m missing \u001b[0m\u001b[90m missing \u001b[0m\u001b[90m missing \u001b[0m\u001b[90m\u001b[0m\n",
       "   11 │ 2012-01-01T00:50:00     23     75 \u001b[90m missing \u001b[0m\u001b[90m missing \u001b[0m\u001b[90m missing \u001b[0m\u001b[90m missing \u001b[0m\u001b[90m\u001b[0m\n",
       "  ⋮   │          ⋮             ⋮      ⋮       ⋮        ⋮        ⋮        ⋮     ⋱\n",
       " 1432 │ 2012-01-05T23:15:00     23     50 \u001b[90m missing \u001b[0m\u001b[90m missing \u001b[0m\u001b[90m missing \u001b[0m\u001b[90m missing \u001b[0m\u001b[90m\u001b[0m\n",
       " 1433 │ 2012-01-05T23:20:00     23     50 \u001b[90m missing \u001b[0m\u001b[90m missing \u001b[0m\u001b[90m missing \u001b[0m\u001b[90m missing \u001b[0m\u001b[90m\u001b[0m ⋯\n",
       " 1434 │ 2012-01-05T23:25:00     23     50 \u001b[90m missing \u001b[0m\u001b[90m missing \u001b[0m\u001b[90m missing \u001b[0m\u001b[90m missing \u001b[0m\u001b[90m\u001b[0m\n",
       " 1435 │ 2012-01-05T23:30:00     23     50 \u001b[90m missing \u001b[0m\u001b[90m missing \u001b[0m\u001b[90m missing \u001b[0m\u001b[90m missing \u001b[0m\u001b[90m\u001b[0m\n",
       " 1436 │ 2012-01-05T23:35:00     23     50 \u001b[90m missing \u001b[0m\u001b[90m missing \u001b[0m\u001b[90m missing \u001b[0m\u001b[90m missing \u001b[0m\u001b[90m\u001b[0m\n",
       " 1437 │ 2012-01-05T23:40:00     23     50 \u001b[90m missing \u001b[0m\u001b[90m missing \u001b[0m\u001b[90m missing \u001b[0m\u001b[90m missing \u001b[0m\u001b[90m\u001b[0m ⋯\n",
       " 1438 │ 2012-01-05T23:45:00     23     50 \u001b[90m missing \u001b[0m\u001b[90m missing \u001b[0m\u001b[90m missing \u001b[0m\u001b[90m missing \u001b[0m\u001b[90m\u001b[0m\n",
       " 1439 │ 2012-01-05T23:50:00     23     50 \u001b[90m missing \u001b[0m\u001b[90m missing \u001b[0m\u001b[90m missing \u001b[0m\u001b[90m missing \u001b[0m\u001b[90m\u001b[0m\n",
       " 1440 │ 2012-01-05T23:55:00     23     50 \u001b[90m missing \u001b[0m\u001b[90m missing \u001b[0m\u001b[90m missing \u001b[0m\u001b[90m missing \u001b[0m\u001b[90m\u001b[0m\n",
       " 1441 │ 2012-01-06T00:00:00     23     50 \u001b[90m missing \u001b[0m\u001b[90m missing \u001b[0m\u001b[90m missing \u001b[0m\u001b[90m missing \u001b[0m\u001b[90m\u001b[0m ⋯\n",
       "\u001b[36m                                                 6 columns and 1420 rows omitted\u001b[0m, [:temp, :rh, :pv, :ah], 5)"
      ]
     },
     "execution_count": 16,
     "metadata": {},
     "output_type": "execute_result"
    }
   ],
   "source": [
    "# 検証\n",
    "test = input_climate_data( file_name = \"../input_data/climate_data/sample_climate_data_test.csv\", header = 3)\n"
   ]
  },
  {
   "cell_type": "code",
   "execution_count": null,
   "id": "02ffe9cd",
   "metadata": {},
   "outputs": [
    {
     "data": {
      "text/html": [
       "<div><div style = \"float: left;\"><span>8784×13 DataFrame</span></div><div style = \"float: right;\"><span style = \"font-style: italic;\">8759 rows omitted</span></div><div style = \"clear: both;\"></div></div><div class = \"data-frame\" style = \"overflow-x: scroll;\"><table class = \"data-frame\" style = \"margin-bottom: 6px;\"><thead><tr class = \"header\"><th class = \"rowNumber\" style = \"font-weight: bold; text-align: right;\">Row</th><th style = \"text-align: left;\">date</th><th style = \"text-align: left;\">temp</th><th style = \"text-align: left;\">rh</th><th style = \"text-align: left;\">p_atm</th><th style = \"text-align: left;\">Jp</th><th style = \"text-align: left;\">Js</th><th style = \"text-align: left;\">WS</th><th style = \"text-align: left;\">WD</th><th style = \"text-align: left;\">Qs</th><th style = \"text-align: left;\">tau</th><th style = \"text-align: left;\">cloudiness</th><th style = \"text-align: left;\">pv</th><th style = \"text-align: left;\">ah</th></tr><tr class = \"subheader headerLastRow\"><th class = \"rowNumber\" style = \"font-weight: bold; text-align: right;\"></th><th title = \"DateTime\" style = \"text-align: left;\">DateTime</th><th title = \"Float64\" style = \"text-align: left;\">Float64</th><th title = \"Int64\" style = \"text-align: left;\">Int64</th><th title = \"Missing\" style = \"text-align: left;\">Missing</th><th title = \"Float64\" style = \"text-align: left;\">Float64</th><th title = \"Missing\" style = \"text-align: left;\">Missing</th><th title = \"Float64\" style = \"text-align: left;\">Float64</th><th title = \"String15\" style = \"text-align: left;\">String15</th><th title = \"Missing\" style = \"text-align: left;\">Missing</th><th title = \"Float64\" style = \"text-align: left;\">Float64</th><th title = \"Missing\" style = \"text-align: left;\">Missing</th><th title = \"Float64\" style = \"text-align: left;\">Float64</th><th title = \"Float64\" style = \"text-align: left;\">Float64</th></tr></thead><tbody><tr><td class = \"rowNumber\" style = \"font-weight: bold; text-align: right;\">1</td><td style = \"text-align: left;\">2012-01-01T00:00:00</td><td style = \"text-align: right;\">3.7</td><td style = \"text-align: right;\">77</td><td style = \"font-style: italic; text-align: right;\">missing</td><td style = \"text-align: right;\">0.0</td><td style = \"font-style: italic; text-align: right;\">missing</td><td style = \"text-align: right;\">1.3</td><td style = \"text-align: left;\">北</td><td style = \"font-style: italic; text-align: right;\">missing</td><td style = \"text-align: right;\">1.0e-50</td><td style = \"font-style: italic; text-align: right;\">missing</td><td style = \"text-align: right;\">613.29</td><td style = \"text-align: right;\">0.00378771</td></tr><tr><td class = \"rowNumber\" style = \"font-weight: bold; text-align: right;\">2</td><td style = \"text-align: left;\">2012-01-01T01:00:00</td><td style = \"text-align: right;\">3.9</td><td style = \"text-align: right;\">74</td><td style = \"font-style: italic; text-align: right;\">missing</td><td style = \"text-align: right;\">0.0</td><td style = \"font-style: italic; text-align: right;\">missing</td><td style = \"text-align: right;\">1.3</td><td style = \"text-align: left;\">北</td><td style = \"font-style: italic; text-align: right;\">missing</td><td style = \"text-align: right;\">1.0e-50</td><td style = \"font-style: italic; text-align: right;\">missing</td><td style = \"text-align: right;\">597.756</td><td style = \"text-align: right;\">0.0036912</td></tr><tr><td class = \"rowNumber\" style = \"font-weight: bold; text-align: right;\">3</td><td style = \"text-align: left;\">2012-01-01T02:00:00</td><td style = \"text-align: right;\">3.7</td><td style = \"text-align: right;\">76</td><td style = \"font-style: italic; text-align: right;\">missing</td><td style = \"text-align: right;\">0.0</td><td style = \"font-style: italic; text-align: right;\">missing</td><td style = \"text-align: right;\">1.9</td><td style = \"text-align: left;\">北北西</td><td style = \"font-style: italic; text-align: right;\">missing</td><td style = \"text-align: right;\">1.0e-50</td><td style = \"font-style: italic; text-align: right;\">missing</td><td style = \"text-align: right;\">605.325</td><td style = \"text-align: right;\">0.00373822</td></tr><tr><td class = \"rowNumber\" style = \"font-weight: bold; text-align: right;\">4</td><td style = \"text-align: left;\">2012-01-01T03:00:00</td><td style = \"text-align: right;\">4.2</td><td style = \"text-align: right;\">74</td><td style = \"font-style: italic; text-align: right;\">missing</td><td style = \"text-align: right;\">0.0</td><td style = \"font-style: italic; text-align: right;\">missing</td><td style = \"text-align: right;\">1.0</td><td style = \"text-align: left;\">北北西</td><td style = \"font-style: italic; text-align: right;\">missing</td><td style = \"text-align: right;\">1.0e-50</td><td style = \"font-style: italic; text-align: right;\">missing</td><td style = \"text-align: right;\">610.493</td><td style = \"text-align: right;\">0.00377033</td></tr><tr><td class = \"rowNumber\" style = \"font-weight: bold; text-align: right;\">5</td><td style = \"text-align: left;\">2012-01-01T04:00:00</td><td style = \"text-align: right;\">5.0</td><td style = \"text-align: right;\">71</td><td style = \"font-style: italic; text-align: right;\">missing</td><td style = \"text-align: right;\">0.0</td><td style = \"font-style: italic; text-align: right;\">missing</td><td style = \"text-align: right;\">1.6</td><td style = \"text-align: left;\">北</td><td style = \"font-style: italic; text-align: right;\">missing</td><td style = \"text-align: right;\">1.0e-50</td><td style = \"font-style: italic; text-align: right;\">missing</td><td style = \"text-align: right;\">619.466</td><td style = \"text-align: right;\">0.00382608</td></tr><tr><td class = \"rowNumber\" style = \"font-weight: bold; text-align: right;\">6</td><td style = \"text-align: left;\">2012-01-01T05:00:00</td><td style = \"text-align: right;\">4.7</td><td style = \"text-align: right;\">73</td><td style = \"font-style: italic; text-align: right;\">missing</td><td style = \"text-align: right;\">0.0</td><td style = \"font-style: italic; text-align: right;\">missing</td><td style = \"text-align: right;\">1.1</td><td style = \"text-align: left;\">北北西</td><td style = \"font-style: italic; text-align: right;\">missing</td><td style = \"text-align: right;\">1.0e-50</td><td style = \"font-style: italic; text-align: right;\">missing</td><td style = \"text-align: right;\">623.712</td><td style = \"text-align: right;\">0.00385247</td></tr><tr><td class = \"rowNumber\" style = \"font-weight: bold; text-align: right;\">7</td><td style = \"text-align: left;\">2012-01-01T06:00:00</td><td style = \"text-align: right;\">4.7</td><td style = \"text-align: right;\">71</td><td style = \"font-style: italic; text-align: right;\">missing</td><td style = \"text-align: right;\">0.0</td><td style = \"font-style: italic; text-align: right;\">missing</td><td style = \"text-align: right;\">0.8</td><td style = \"text-align: left;\">東北東</td><td style = \"font-style: italic; text-align: right;\">missing</td><td style = \"text-align: right;\">1.0e-50</td><td style = \"font-style: italic; text-align: right;\">missing</td><td style = \"text-align: right;\">606.624</td><td style = \"text-align: right;\">0.00374629</td></tr><tr><td class = \"rowNumber\" style = \"font-weight: bold; text-align: right;\">8</td><td style = \"text-align: left;\">2012-01-01T07:00:00</td><td style = \"text-align: right;\">4.4</td><td style = \"text-align: right;\">75</td><td style = \"font-style: italic; text-align: right;\">missing</td><td style = \"text-align: right;\">0.0</td><td style = \"font-style: italic; text-align: right;\">missing</td><td style = \"text-align: right;\">1.3</td><td style = \"text-align: left;\">北</td><td style = \"font-style: italic; text-align: right;\">missing</td><td style = \"text-align: right;\">0.139735</td><td style = \"font-style: italic; text-align: right;\">missing</td><td style = \"text-align: right;\">627.484</td><td style = \"text-align: right;\">0.00387591</td></tr><tr><td class = \"rowNumber\" style = \"font-weight: bold; text-align: right;\">9</td><td style = \"text-align: left;\">2012-01-01T08:00:00</td><td style = \"text-align: right;\">5.2</td><td style = \"text-align: right;\">72</td><td style = \"font-style: italic; text-align: right;\">missing</td><td style = \"text-align: right;\">0.0</td><td style = \"font-style: italic; text-align: right;\">missing</td><td style = \"text-align: right;\">1.1</td><td style = \"text-align: left;\">北</td><td style = \"font-style: italic; text-align: right;\">missing</td><td style = \"text-align: right;\">0.606535</td><td style = \"font-style: italic; text-align: right;\">missing</td><td style = \"text-align: right;\">637.007</td><td style = \"text-align: right;\">0.00393511</td></tr><tr><td class = \"rowNumber\" style = \"font-weight: bold; text-align: right;\">10</td><td style = \"text-align: left;\">2012-01-01T09:00:00</td><td style = \"text-align: right;\">5.7</td><td style = \"text-align: right;\">71</td><td style = \"font-style: italic; text-align: right;\">missing</td><td style = \"text-align: right;\">0.0</td><td style = \"font-style: italic; text-align: right;\">missing</td><td style = \"text-align: right;\">1.5</td><td style = \"text-align: left;\">北北東</td><td style = \"font-style: italic; text-align: right;\">missing</td><td style = \"text-align: right;\">0.591268</td><td style = \"font-style: italic; text-align: right;\">missing</td><td style = \"text-align: right;\">650.369</td><td style = \"text-align: right;\">0.00401818</td></tr><tr><td class = \"rowNumber\" style = \"font-weight: bold; text-align: right;\">11</td><td style = \"text-align: left;\">2012-01-01T10:00:00</td><td style = \"text-align: right;\">6.4</td><td style = \"text-align: right;\">72</td><td style = \"font-style: italic; text-align: right;\">missing</td><td style = \"text-align: right;\">0.0</td><td style = \"font-style: italic; text-align: right;\">missing</td><td style = \"text-align: right;\">0.9</td><td style = \"text-align: left;\">北</td><td style = \"font-style: italic; text-align: right;\">missing</td><td style = \"text-align: right;\">0.602292</td><td style = \"font-style: italic; text-align: right;\">missing</td><td style = \"text-align: right;\">692.24</td><td style = \"text-align: right;\">0.00427866</td></tr><tr><td class = \"rowNumber\" style = \"font-weight: bold; text-align: right;\">12</td><td style = \"text-align: left;\">2012-01-01T11:00:00</td><td style = \"text-align: right;\">7.6</td><td style = \"text-align: right;\">68</td><td style = \"font-style: italic; text-align: right;\">missing</td><td style = \"text-align: right;\">0.0</td><td style = \"font-style: italic; text-align: right;\">missing</td><td style = \"text-align: right;\">0.7</td><td style = \"text-align: left;\">東北東</td><td style = \"font-style: italic; text-align: right;\">missing</td><td style = \"text-align: right;\">0.728154</td><td style = \"font-style: italic; text-align: right;\">missing</td><td style = \"text-align: right;\">709.902</td><td style = \"text-align: right;\">0.0043886</td></tr><tr><td class = \"rowNumber\" style = \"font-weight: bold; text-align: right;\">13</td><td style = \"text-align: left;\">2012-01-01T12:00:00</td><td style = \"text-align: right;\">8.7</td><td style = \"text-align: right;\">65</td><td style = \"font-style: italic; text-align: right;\">missing</td><td style = \"text-align: right;\">0.0</td><td style = \"font-style: italic; text-align: right;\">missing</td><td style = \"text-align: right;\">0.7</td><td style = \"text-align: left;\">東</td><td style = \"font-style: italic; text-align: right;\">missing</td><td style = \"text-align: right;\">0.779247</td><td style = \"font-style: italic; text-align: right;\">missing</td><td style = \"text-align: right;\">731.285</td><td style = \"text-align: right;\">0.00452175</td></tr><tr><td style = \"text-align: right;\">&vellip;</td><td style = \"text-align: right;\">&vellip;</td><td style = \"text-align: right;\">&vellip;</td><td style = \"text-align: right;\">&vellip;</td><td style = \"text-align: right;\">&vellip;</td><td style = \"text-align: right;\">&vellip;</td><td style = \"text-align: right;\">&vellip;</td><td style = \"text-align: right;\">&vellip;</td><td style = \"text-align: right;\">&vellip;</td><td style = \"text-align: right;\">&vellip;</td><td style = \"text-align: right;\">&vellip;</td><td style = \"text-align: right;\">&vellip;</td><td style = \"text-align: right;\">&vellip;</td><td style = \"text-align: right;\">&vellip;</td></tr><tr><td class = \"rowNumber\" style = \"font-weight: bold; text-align: right;\">8773</td><td style = \"text-align: left;\">2012-12-31T12:00:00</td><td style = \"text-align: right;\">5.9</td><td style = \"text-align: right;\">41</td><td style = \"font-style: italic; text-align: right;\">missing</td><td style = \"text-align: right;\">0.0</td><td style = \"font-style: italic; text-align: right;\">missing</td><td style = \"text-align: right;\">5.5</td><td style = \"text-align: left;\">西</td><td style = \"font-style: italic; text-align: right;\">missing</td><td style = \"text-align: right;\">0.678128</td><td style = \"font-style: italic; text-align: right;\">missing</td><td style = \"text-align: right;\">380.806</td><td style = \"text-align: right;\">0.00234646</td></tr><tr><td class = \"rowNumber\" style = \"font-weight: bold; text-align: right;\">8774</td><td style = \"text-align: left;\">2012-12-31T13:00:00</td><td style = \"text-align: right;\">4.2</td><td style = \"text-align: right;\">63</td><td style = \"font-style: italic; text-align: right;\">missing</td><td style = \"text-align: right;\">0.0</td><td style = \"font-style: italic; text-align: right;\">missing</td><td style = \"text-align: right;\">5.0</td><td style = \"text-align: left;\">西</td><td style = \"font-style: italic; text-align: right;\">missing</td><td style = \"text-align: right;\">0.743336</td><td style = \"font-style: italic; text-align: right;\">missing</td><td style = \"text-align: right;\">519.744</td><td style = \"text-align: right;\">0.00320698</td></tr><tr><td class = \"rowNumber\" style = \"font-weight: bold; text-align: right;\">8775</td><td style = \"text-align: left;\">2012-12-31T14:00:00</td><td style = \"text-align: right;\">3.8</td><td style = \"text-align: right;\">66</td><td style = \"font-style: italic; text-align: right;\">missing</td><td style = \"text-align: right;\">0.0</td><td style = \"font-style: italic; text-align: right;\">missing</td><td style = \"text-align: right;\">4.6</td><td style = \"text-align: left;\">西</td><td style = \"font-style: italic; text-align: right;\">missing</td><td style = \"text-align: right;\">0.636535</td><td style = \"font-style: italic; text-align: right;\">missing</td><td style = \"text-align: right;\">529.394</td><td style = \"text-align: right;\">0.00326684</td></tr><tr><td class = \"rowNumber\" style = \"font-weight: bold; text-align: right;\">8776</td><td style = \"text-align: left;\">2012-12-31T15:00:00</td><td style = \"text-align: right;\">4.0</td><td style = \"text-align: right;\">66</td><td style = \"font-style: italic; text-align: right;\">missing</td><td style = \"text-align: right;\">0.0</td><td style = \"font-style: italic; text-align: right;\">missing</td><td style = \"text-align: right;\">3.1</td><td style = \"text-align: left;\">西</td><td style = \"font-style: italic; text-align: right;\">missing</td><td style = \"text-align: right;\">0.376033</td><td style = \"font-style: italic; text-align: right;\">missing</td><td style = \"text-align: right;\">536.897</td><td style = \"text-align: right;\">0.00331338</td></tr><tr><td class = \"rowNumber\" style = \"font-weight: bold; text-align: right;\">8777</td><td style = \"text-align: left;\">2012-12-31T16:00:00</td><td style = \"text-align: right;\">3.6</td><td style = \"text-align: right;\">61</td><td style = \"font-style: italic; text-align: right;\">missing</td><td style = \"text-align: right;\">0.0</td><td style = \"font-style: italic; text-align: right;\">missing</td><td style = \"text-align: right;\">3.4</td><td style = \"text-align: left;\">西</td><td style = \"font-style: italic; text-align: right;\">missing</td><td style = \"text-align: right;\">0.123901</td><td style = \"font-style: italic; text-align: right;\">missing</td><td style = \"text-align: right;\">482.439</td><td style = \"text-align: right;\">0.0029757</td></tr><tr><td class = \"rowNumber\" style = \"font-weight: bold; text-align: right;\">8778</td><td style = \"text-align: left;\">2012-12-31T17:00:00</td><td style = \"text-align: right;\">3.3</td><td style = \"text-align: right;\">64</td><td style = \"font-style: italic; text-align: right;\">missing</td><td style = \"text-align: right;\">0.0</td><td style = \"font-style: italic; text-align: right;\">missing</td><td style = \"text-align: right;\">4.1</td><td style = \"text-align: left;\">西</td><td style = \"font-style: italic; text-align: right;\">missing</td><td style = \"text-align: right;\">1.0e-50</td><td style = \"font-style: italic; text-align: right;\">missing</td><td style = \"text-align: right;\">495.554</td><td style = \"text-align: right;\">0.00305699</td></tr><tr><td class = \"rowNumber\" style = \"font-weight: bold; text-align: right;\">8779</td><td style = \"text-align: left;\">2012-12-31T18:00:00</td><td style = \"text-align: right;\">3.2</td><td style = \"text-align: right;\">64</td><td style = \"font-style: italic; text-align: right;\">missing</td><td style = \"text-align: right;\">0.0</td><td style = \"font-style: italic; text-align: right;\">missing</td><td style = \"text-align: right;\">4.7</td><td style = \"text-align: left;\">西北西</td><td style = \"font-style: italic; text-align: right;\">missing</td><td style = \"text-align: right;\">1.0e-50</td><td style = \"font-style: italic; text-align: right;\">missing</td><td style = \"text-align: right;\">492.061</td><td style = \"text-align: right;\">0.00303534</td></tr><tr><td class = \"rowNumber\" style = \"font-weight: bold; text-align: right;\">8780</td><td style = \"text-align: left;\">2012-12-31T19:00:00</td><td style = \"text-align: right;\">2.3</td><td style = \"text-align: right;\">67</td><td style = \"font-style: italic; text-align: right;\">missing</td><td style = \"text-align: right;\">0.0</td><td style = \"font-style: italic; text-align: right;\">missing</td><td style = \"text-align: right;\">3.6</td><td style = \"text-align: left;\">西北西</td><td style = \"font-style: italic; text-align: right;\">missing</td><td style = \"text-align: right;\">1.0e-50</td><td style = \"font-style: italic; text-align: right;\">missing</td><td style = \"text-align: right;\">483.227</td><td style = \"text-align: right;\">0.00298058</td></tr><tr><td class = \"rowNumber\" style = \"font-weight: bold; text-align: right;\">8781</td><td style = \"text-align: left;\">2012-12-31T20:00:00</td><td style = \"text-align: right;\">2.8</td><td style = \"text-align: right;\">53</td><td style = \"font-style: italic; text-align: right;\">missing</td><td style = \"text-align: right;\">0.0</td><td style = \"font-style: italic; text-align: right;\">missing</td><td style = \"text-align: right;\">3.1</td><td style = \"text-align: left;\">西北西</td><td style = \"font-style: italic; text-align: right;\">missing</td><td style = \"text-align: right;\">1.0e-50</td><td style = \"font-style: italic; text-align: right;\">missing</td><td style = \"text-align: right;\">396.097</td><td style = \"text-align: right;\">0.00244105</td></tr><tr><td class = \"rowNumber\" style = \"font-weight: bold; text-align: right;\">8782</td><td style = \"text-align: left;\">2012-12-31T21:00:00</td><td style = \"text-align: right;\">2.7</td><td style = \"text-align: right;\">52</td><td style = \"font-style: italic; text-align: right;\">missing</td><td style = \"text-align: right;\">0.0</td><td style = \"font-style: italic; text-align: right;\">missing</td><td style = \"text-align: right;\">4.2</td><td style = \"text-align: left;\">西北西</td><td style = \"font-style: italic; text-align: right;\">missing</td><td style = \"text-align: right;\">1.0e-50</td><td style = \"font-style: italic; text-align: right;\">missing</td><td style = \"text-align: right;\">385.872</td><td style = \"text-align: right;\">0.0023778</td></tr><tr><td class = \"rowNumber\" style = \"font-weight: bold; text-align: right;\">8783</td><td style = \"text-align: left;\">2012-12-31T22:00:00</td><td style = \"text-align: right;\">0.8</td><td style = \"text-align: right;\">67</td><td style = \"font-style: italic; text-align: right;\">missing</td><td style = \"text-align: right;\">0.0</td><td style = \"font-style: italic; text-align: right;\">missing</td><td style = \"text-align: right;\">3.7</td><td style = \"text-align: left;\">西</td><td style = \"font-style: italic; text-align: right;\">missing</td><td style = \"text-align: right;\">1.0e-50</td><td style = \"font-style: italic; text-align: right;\">missing</td><td style = \"text-align: right;\">433.934</td><td style = \"text-align: right;\">0.00267523</td></tr><tr><td class = \"rowNumber\" style = \"font-weight: bold; text-align: right;\">8784</td><td style = \"text-align: left;\">2012-12-31T23:00:00</td><td style = \"text-align: right;\">1.7</td><td style = \"text-align: right;\">60</td><td style = \"font-style: italic; text-align: right;\">missing</td><td style = \"text-align: right;\">0.0</td><td style = \"font-style: italic; text-align: right;\">missing</td><td style = \"text-align: right;\">4.9</td><td style = \"text-align: left;\">西</td><td style = \"font-style: italic; text-align: right;\">missing</td><td style = \"text-align: right;\">1.0e-50</td><td style = \"font-style: italic; text-align: right;\">missing</td><td style = \"text-align: right;\">414.577</td><td style = \"text-align: right;\">0.00255541</td></tr></tbody></table></div>"
      ],
      "text/latex": [
       "\\begin{tabular}{r|ccccccccc}\n",
       "\t& date & temp & rh & p\\_atm & Jp & Js & WS & WD & \\\\\n",
       "\t\\hline\n",
       "\t& DateTime & Float64 & Int64 & Missing & Float64 & Missing & Float64 & String15 & \\\\\n",
       "\t\\hline\n",
       "\t1 & 2012-01-01T00:00:00 & 3.7 & 77 & \\emph{missing} & 0.0 & \\emph{missing} & 1.3 & 北 & $\\dots$ \\\\\n",
       "\t2 & 2012-01-01T01:00:00 & 3.9 & 74 & \\emph{missing} & 0.0 & \\emph{missing} & 1.3 & 北 & $\\dots$ \\\\\n",
       "\t3 & 2012-01-01T02:00:00 & 3.7 & 76 & \\emph{missing} & 0.0 & \\emph{missing} & 1.9 & 北北西 & $\\dots$ \\\\\n",
       "\t4 & 2012-01-01T03:00:00 & 4.2 & 74 & \\emph{missing} & 0.0 & \\emph{missing} & 1.0 & 北北西 & $\\dots$ \\\\\n",
       "\t5 & 2012-01-01T04:00:00 & 5.0 & 71 & \\emph{missing} & 0.0 & \\emph{missing} & 1.6 & 北 & $\\dots$ \\\\\n",
       "\t6 & 2012-01-01T05:00:00 & 4.7 & 73 & \\emph{missing} & 0.0 & \\emph{missing} & 1.1 & 北北西 & $\\dots$ \\\\\n",
       "\t7 & 2012-01-01T06:00:00 & 4.7 & 71 & \\emph{missing} & 0.0 & \\emph{missing} & 0.8 & 東北東 & $\\dots$ \\\\\n",
       "\t8 & 2012-01-01T07:00:00 & 4.4 & 75 & \\emph{missing} & 0.0 & \\emph{missing} & 1.3 & 北 & $\\dots$ \\\\\n",
       "\t9 & 2012-01-01T08:00:00 & 5.2 & 72 & \\emph{missing} & 0.0 & \\emph{missing} & 1.1 & 北 & $\\dots$ \\\\\n",
       "\t10 & 2012-01-01T09:00:00 & 5.7 & 71 & \\emph{missing} & 0.0 & \\emph{missing} & 1.5 & 北北東 & $\\dots$ \\\\\n",
       "\t11 & 2012-01-01T10:00:00 & 6.4 & 72 & \\emph{missing} & 0.0 & \\emph{missing} & 0.9 & 北 & $\\dots$ \\\\\n",
       "\t12 & 2012-01-01T11:00:00 & 7.6 & 68 & \\emph{missing} & 0.0 & \\emph{missing} & 0.7 & 東北東 & $\\dots$ \\\\\n",
       "\t13 & 2012-01-01T12:00:00 & 8.7 & 65 & \\emph{missing} & 0.0 & \\emph{missing} & 0.7 & 東 & $\\dots$ \\\\\n",
       "\t14 & 2012-01-01T13:00:00 & 10.2 & 52 & \\emph{missing} & 0.0 & \\emph{missing} & 1.7 & 西南西 & $\\dots$ \\\\\n",
       "\t15 & 2012-01-01T14:00:00 & 9.9 & 59 & \\emph{missing} & 0.0 & \\emph{missing} & 3.2 & 南西 & $\\dots$ \\\\\n",
       "\t16 & 2012-01-01T15:00:00 & 8.9 & 67 & \\emph{missing} & 0.0 & \\emph{missing} & 3.3 & 西南西 & $\\dots$ \\\\\n",
       "\t17 & 2012-01-01T16:00:00 & 9.1 & 64 & \\emph{missing} & 0.0 & \\emph{missing} & 3.1 & 西南西 & $\\dots$ \\\\\n",
       "\t18 & 2012-01-01T17:00:00 & 8.6 & 59 & \\emph{missing} & 0.0 & \\emph{missing} & 1.6 & 西南西 & $\\dots$ \\\\\n",
       "\t19 & 2012-01-01T18:00:00 & 8.2 & 56 & \\emph{missing} & 0.0 & \\emph{missing} & 2.7 & 西南西 & $\\dots$ \\\\\n",
       "\t20 & 2012-01-01T19:00:00 & 7.3 & 59 & \\emph{missing} & 0.0 & \\emph{missing} & 2.3 & 南西 & $\\dots$ \\\\\n",
       "\t21 & 2012-01-01T20:00:00 & 7.0 & 61 & \\emph{missing} & 0.0 & \\emph{missing} & 2.9 & 西南西 & $\\dots$ \\\\\n",
       "\t22 & 2012-01-01T21:00:00 & 7.0 & 62 & \\emph{missing} & 0.0 & \\emph{missing} & 2.4 & 西南西 & $\\dots$ \\\\\n",
       "\t23 & 2012-01-01T22:00:00 & 8.3 & 53 & \\emph{missing} & 0.0 & \\emph{missing} & 1.8 & 西 & $\\dots$ \\\\\n",
       "\t24 & 2012-01-01T23:00:00 & 9.0 & 46 & \\emph{missing} & 0.0 & \\emph{missing} & 3.9 & 西 & $\\dots$ \\\\\n",
       "\t25 & 2012-01-02T00:00:00 & 8.7 & 45 & \\emph{missing} & 0.0 & \\emph{missing} & 2.8 & 西 & $\\dots$ \\\\\n",
       "\t26 & 2012-01-02T01:00:00 & 7.8 & 44 & \\emph{missing} & 0.0 & \\emph{missing} & 2.8 & 西 & $\\dots$ \\\\\n",
       "\t27 & 2012-01-02T02:00:00 & 6.8 & 41 & \\emph{missing} & 0.0 & \\emph{missing} & 1.7 & 西南西 & $\\dots$ \\\\\n",
       "\t28 & 2012-01-02T03:00:00 & 5.5 & 36 & \\emph{missing} & 0.0 & \\emph{missing} & 1.5 & 西 & $\\dots$ \\\\\n",
       "\t29 & 2012-01-02T04:00:00 & 4.6 & 41 & \\emph{missing} & 0.0 & \\emph{missing} & 4.9 & 西 & $\\dots$ \\\\\n",
       "\t30 & 2012-01-02T05:00:00 & 4.7 & 40 & \\emph{missing} & 0.0 & \\emph{missing} & 2.7 & 西南西 & $\\dots$ \\\\\n",
       "\t$\\dots$ & $\\dots$ & $\\dots$ & $\\dots$ & $\\dots$ & $\\dots$ & $\\dots$ & $\\dots$ & $\\dots$ &  \\\\\n",
       "\\end{tabular}\n"
      ],
      "text/plain": [
       "\u001b[1m8784×13 DataFrame\u001b[0m\n",
       "\u001b[1m  Row \u001b[0m│\u001b[1m date                \u001b[0m\u001b[1m temp    \u001b[0m\u001b[1m rh    \u001b[0m\u001b[1m p_atm   \u001b[0m\u001b[1m Jp      \u001b[0m\u001b[1m Js      \u001b[0m\u001b[1m WS    \u001b[0m ⋯\n",
       "      │\u001b[90m DateTime            \u001b[0m\u001b[90m Float64 \u001b[0m\u001b[90m Int64 \u001b[0m\u001b[90m Missing \u001b[0m\u001b[90m Float64 \u001b[0m\u001b[90m Missing \u001b[0m\u001b[90m Float6\u001b[0m ⋯\n",
       "──────┼─────────────────────────────────────────────────────────────────────────\n",
       "    1 │ 2012-01-01T00:00:00      3.7     77 \u001b[90m missing \u001b[0m     0.0 \u001b[90m missing \u001b[0m     1. ⋯\n",
       "    2 │ 2012-01-01T01:00:00      3.9     74 \u001b[90m missing \u001b[0m     0.0 \u001b[90m missing \u001b[0m     1.\n",
       "    3 │ 2012-01-01T02:00:00      3.7     76 \u001b[90m missing \u001b[0m     0.0 \u001b[90m missing \u001b[0m     1.\n",
       "    4 │ 2012-01-01T03:00:00      4.2     74 \u001b[90m missing \u001b[0m     0.0 \u001b[90m missing \u001b[0m     1.\n",
       "    5 │ 2012-01-01T04:00:00      5.0     71 \u001b[90m missing \u001b[0m     0.0 \u001b[90m missing \u001b[0m     1. ⋯\n",
       "    6 │ 2012-01-01T05:00:00      4.7     73 \u001b[90m missing \u001b[0m     0.0 \u001b[90m missing \u001b[0m     1.\n",
       "    7 │ 2012-01-01T06:00:00      4.7     71 \u001b[90m missing \u001b[0m     0.0 \u001b[90m missing \u001b[0m     0.\n",
       "    8 │ 2012-01-01T07:00:00      4.4     75 \u001b[90m missing \u001b[0m     0.0 \u001b[90m missing \u001b[0m     1.\n",
       "    9 │ 2012-01-01T08:00:00      5.2     72 \u001b[90m missing \u001b[0m     0.0 \u001b[90m missing \u001b[0m     1. ⋯\n",
       "   10 │ 2012-01-01T09:00:00      5.7     71 \u001b[90m missing \u001b[0m     0.0 \u001b[90m missing \u001b[0m     1.\n",
       "   11 │ 2012-01-01T10:00:00      6.4     72 \u001b[90m missing \u001b[0m     0.0 \u001b[90m missing \u001b[0m     0.\n",
       "  ⋮   │          ⋮              ⋮       ⋮       ⋮        ⋮        ⋮        ⋮   ⋱\n",
       " 8775 │ 2012-12-31T14:00:00      3.8     66 \u001b[90m missing \u001b[0m     0.0 \u001b[90m missing \u001b[0m     4.\n",
       " 8776 │ 2012-12-31T15:00:00      4.0     66 \u001b[90m missing \u001b[0m     0.0 \u001b[90m missing \u001b[0m     3. ⋯\n",
       " 8777 │ 2012-12-31T16:00:00      3.6     61 \u001b[90m missing \u001b[0m     0.0 \u001b[90m missing \u001b[0m     3.\n",
       " 8778 │ 2012-12-31T17:00:00      3.3     64 \u001b[90m missing \u001b[0m     0.0 \u001b[90m missing \u001b[0m     4.\n",
       " 8779 │ 2012-12-31T18:00:00      3.2     64 \u001b[90m missing \u001b[0m     0.0 \u001b[90m missing \u001b[0m     4.\n",
       " 8780 │ 2012-12-31T19:00:00      2.3     67 \u001b[90m missing \u001b[0m     0.0 \u001b[90m missing \u001b[0m     3. ⋯\n",
       " 8781 │ 2012-12-31T20:00:00      2.8     53 \u001b[90m missing \u001b[0m     0.0 \u001b[90m missing \u001b[0m     3.\n",
       " 8782 │ 2012-12-31T21:00:00      2.7     52 \u001b[90m missing \u001b[0m     0.0 \u001b[90m missing \u001b[0m     4.\n",
       " 8783 │ 2012-12-31T22:00:00      0.8     67 \u001b[90m missing \u001b[0m     0.0 \u001b[90m missing \u001b[0m     3.\n",
       " 8784 │ 2012-12-31T23:00:00      1.7     60 \u001b[90m missing \u001b[0m     0.0 \u001b[90m missing \u001b[0m     4. ⋯\n",
       "\u001b[36m                                                 7 columns and 8763 rows omitted\u001b[0m"
      ]
     },
     "execution_count": 16,
     "metadata": {},
     "output_type": "execute_result"
    }
   ],
   "source": [
    "input_data(test)"
   ]
  },
  {
   "cell_type": "code",
   "execution_count": null,
   "id": "1ed97411",
   "metadata": {},
   "outputs": [],
   "source": []
  }
 ],
 "metadata": {
  "kernelspec": {
   "display_name": "Julia 1.11.0",
   "language": "julia",
   "name": "julia-1.11"
  },
  "language_info": {
   "file_extension": ".jl",
   "mimetype": "application/julia",
   "name": "julia",
   "version": "1.11.0"
  }
 },
 "nbformat": 4,
 "nbformat_minor": 5
}
