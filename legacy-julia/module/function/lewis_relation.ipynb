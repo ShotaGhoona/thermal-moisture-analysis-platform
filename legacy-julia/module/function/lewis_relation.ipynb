{
 "cells": [
  {
   "cell_type": "markdown",
   "metadata": {},
   "source": [
    "## Lewis関係に関するモジュール  \n",
    "参考：鉾井修一ら；エース環境工学Ⅱ  \n",
    "\n",
    "湿気の移動は物質伝達の一種であり、熱対流との間に相似則が存在する。すなわち、熱伝達の場合の温度差に対応する水蒸気圧の差に比例して水蒸気が移動する。$p_o, p_i$を境界層の外の水蒸気圧、壁面の水蒸気圧とすると、壁面境界層を横切る水分流$J_w$は以下のように表される。  \n",
    "\n",
    "$J_w = \\alpha^{'}(p_o - p_i)\\equiv (1/ r^{'})(p_o - p_i)$\n",
    "\n",
    "熱伝達率に対応する$\\alpha^{'}$を湿気伝達率（water vapor transfer coefficient）あるいは透湿係数といい、その逆数$r^{'}$を湿気伝達抵抗あるいは湿気抵抗という。  \n",
    "熱と水分拡散のアナロジーより、次式のルイスの関係（Lewis relation）が得られる。  \n",
    "\n",
    "$Le = \\alpha_c / (\\alpha^{'}C_p\\rho R_v T)$  \n",
    "\n",
    "ここで$\\alpha_c$：対流熱伝達率、T：絶対温度である。"
   ]
  },
  {
   "cell_type": "markdown",
   "metadata": {},
   "source": [
    "$L_e$：ルイス数（Lewis number）  \n",
    "$C_p$：（乾燥空気の）定圧比熱  \n",
    "$\\rho$：（乾燥）空気の密度  \n",
    "$R_v$：水蒸気のガス定数"
   ]
  },
  {
   "cell_type": "markdown",
   "metadata": {},
   "source": [
    "ルイスの関係（Lewis relation）\n",
    "\n",
    "$ \\alpha^{'} = \\alpha_c / ( Le C_p\\rho R_v T)$  "
   ]
  },
  {
   "cell_type": "code",
   "execution_count": null,
   "metadata": {},
   "outputs": [],
   "source": [
    "module Lewis_relation\n",
    "\n",
    "# ルイス数\n",
    "const Le = 1.0\n",
    "\n",
    "# 乾燥空気の定圧比熱\n",
    "const cp = 1006.0\n",
    "\n",
    "# 乾燥空気の密度\n",
    "const row = 1.293\n",
    "\n",
    "# 水の気体定数\n",
    "const Rv = 8.31441 / 0.01802\n",
    "\n",
    "# ルイスの関係（Lewis relation）\n",
    "cal_aldm( ; temp, alpha ) = alpha / ( Le * cp * row * Rv * temp )\n",
    "\n",
    "end"
   ]
  },
  {
   "cell_type": "code",
   "execution_count": null,
   "metadata": {},
   "outputs": [],
   "source": [
    "# 使用例\n",
    "Lewis_relation.cal_aldm( alpha = 4.4 , temp = 283.15 )"
   ]
  },
  {
   "cell_type": "code",
   "execution_count": null,
   "metadata": {},
   "outputs": [],
   "source": []
  }
 ],
 "metadata": {
  "kernelspec": {
   "display_name": "Julia 1.6.1",
   "language": "julia",
   "name": "julia-1.6"
  },
  "language_info": {
   "file_extension": ".jl",
   "mimetype": "application/julia",
   "name": "julia",
   "version": "1.6.1"
  }
 },
 "nbformat": 4,
 "nbformat_minor": 4
}
