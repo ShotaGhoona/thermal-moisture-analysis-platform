{
 "cells": [
  {
   "cell_type": "code",
   "execution_count": null,
   "metadata": {},
   "outputs": [],
   "source": []
  },
  {
   "cell_type": "markdown",
   "metadata": {},
   "source": [
    "# 流量を管理するモジュール  \n",
    "\n",
    "本モジュールで計算できる流量は2020/09/05現在以下の3つである。\n",
    "\n",
    "- $q_s$ 熱流（固体熱伝導）[J/m2s]\n",
    "- $j_v$ 水蒸気流 [kg/m2s]\n",
    "- $j_l$ 液水流 [kg/m2s]\n",
    "  \n",
    "このファイルでは各流量計算の基礎式のみをまとめることとする。"
   ]
  },
  {
   "cell_type": "markdown",
   "metadata": {},
   "source": [
    "## 1. 熱移動の基礎式"
   ]
  },
  {
   "cell_type": "markdown",
   "metadata": {},
   "source": [
    "#### 差分化その1\n",
    "定義：$\\dot q = -\\lambda_{ave.} \\frac{T_{l+1}-T_{l}} {dx_{l+1}+dx_{l}}$  \n",
    "$\\lambda_{ave.}$：平均の熱伝導率  \n",
    "$l, l+1$：ある点のセル・隣接する点のセル  \n",
    "$dx$：セルの質点からセル境界までの距離"
   ]
  },
  {
   "cell_type": "markdown",
   "metadata": {},
   "source": [
    "### 1.1 熱伝導（フーリエの法則）  \n",
    "定義：$\\dot q = -\\lambda\\nabla・T$  \n",
    "$\\dot q$：単位時間当たりの熱流量の密度[W/m2]  \n",
    "$\\lambda$：熱伝導率[W/mK]  \n",
    "$T$：絶対温度[K]  "
   ]
  },
  {
   "cell_type": "markdown",
   "metadata": {},
   "source": [
    "#### 差分化その2\n",
    "定義：$\\dot q = -K(T_{l+1}-T_{l})$  \n",
    "$K$：熱貫流率[W/K]  \n",
    "一般的にはこちらを採用。異種材料間の熱の移動は熱抵抗値の和として計算。"
   ]
  },
  {
   "cell_type": "markdown",
   "metadata": {},
   "source": [
    "### 1.2 熱伝達・熱貫流  \n",
    "\n",
    "定義：$\\dot q = \\alpha(T_{air} - T_{wall})$  \n",
    "空気に接する壁表面には空気の熱伝達層が存在すると考えた場合、もしくは質点間の熱貫流率として計算した場合の熱流。  \n",
    "ここでは便宜上、空気と壁表面の熱伝達を想定し、空気から壁表面への熱流を正とした。\n",
    "\n",
    "$\\dot q$：単位時間当たりの熱流量の密度[W/m2]  ]\n",
    "$\\alpha$：熱伝達率・熱貫流率[W/m2K]  \n",
    "$T_{air}$：空気の絶対温度[K]  \n",
    "$T_{wall}$：壁表面の絶対温度[K]  "
   ]
  },
  {
   "cell_type": "markdown",
   "metadata": {},
   "source": [
    "\n",
    "<br />\n",
    "\n",
    "## 2. 水蒸気移動  \n",
    "\n",
    "元原理：6.1節を参照"
   ]
  },
  {
   "cell_type": "markdown",
   "metadata": {},
   "source": [
    "### 2.1 水蒸気移動（水蒸気圧勾配・固体内）  \n",
    "定義：$J_v = -\\lambda^{'}_{p}\\nabla・P_v$  \n",
    "$J_v$：気相水分流量[kg/m2s]  \n",
    "$\\lambda^{'}_{p}$：水蒸気圧勾配に関する気相水分伝導率[kg/msPa]  \n",
    "$P_v$：水蒸気圧[Pa]  "
   ]
  },
  {
   "cell_type": "markdown",
   "metadata": {},
   "source": [
    "### 2.2水蒸気移動（水分化学ポテンシャル・温度勾配・固体内）  \n",
    "定義：$J_v = -\\lambda ^{'}_{\\mu g}\\nabla \\mu - \\lambda ^{'}_{T g}\\nabla T$  \n",
    "$J_v$：気相水分流量[kg/m2s]  \n",
    "$\\mu$：水分化学ポテンシャル[J/kg]  \n",
    "$T$：絶対温度[K]  \n",
    "$\\lambda ^{'}_{\\mu g}$：水分化学ポテンシャル勾配に対する気相水分伝導率[kg/ms(J/kg)]  \n",
    "$\\lambda ^{'}_{T g}$：温度勾配に対する気相水分伝導率[kg/ms(K)]  "
   ]
  },
  {
   "cell_type": "markdown",
   "metadata": {},
   "source": [
    "### 2.3 湿気伝達・湿気貫流  \n",
    "定義：$J_v = \\alpha^{'}_{m}(P_{v_{air}} - P_{v_{wall}})$  \n",
    "空気に接する壁表面には空気の湿気伝達層が存在すると考えた場合の水分流（水蒸気流）、もしくは質点間の湿気貫流率として計算した場合の水分流。  \n",
    "ここでは便宜上、空気と壁表面の水分伝達を想定し、空気から壁表面への水分流を正とした。\n",
    "\n",
    "$J_v$：単位時間当たりの水分流量[kg/m2s]  \n",
    "$\\alpha^{'}_{m}$：湿気伝達率[kg/m2s(Pa)]  \n",
    "$P_{v_{air}}$：空気の水蒸気圧[Pa]  \n",
    "$P_{v_{wall}}$：壁表面の水蒸気圧[Pa]  "
   ]
  },
  {
   "cell_type": "markdown",
   "metadata": {},
   "source": [
    "\n",
    "<br />\n",
    "\n",
    "## 3 液水移動  \n",
    "元原理：ダルシー則　補足6.2節を参照"
   ]
  },
  {
   "cell_type": "markdown",
   "metadata": {},
   "source": [
    "### 3.1 液水移動（水分化学ポテンシャル勾配・固体内）  \n",
    "定義：$J_l = -\\lambda^{'}_{\\mu_l}(\\nabla・\\mu - n_x g)$    \n",
    "\n",
    "$J_l$：液相水分流量[kg/m2s]  \n",
    "$\\lambda^{'}_{\\mu l}$：水分化学ポテンシャル勾配に関する液相水分伝導率[kg/ms(J/kg)]  \n",
    "$\\mu$：液水の化学ポテンシャル[J/kg]  \n",
    "$n_x$：重力加速度に対する応答（重力加速度に対して水平なら1、垂直なら0）"
   ]
  },
  {
   "cell_type": "markdown",
   "metadata": {},
   "source": [
    "\n",
    "<br />\n",
    "\n",
    "## Appendix. 物性値の平均化方法   \n",
    "セル間の物性値を計算するにあたり2つのセルの物性値を平均化する必要がある。  \n",
    "この際、平均化の方法についてはいくつかやり方が存在するがここでは以下の2つの方法について示す。"
   ]
  },
  {
   "cell_type": "markdown",
   "metadata": {},
   "source": [
    "### A.1 抵抗値として重ね合わせる  \n",
    "セル間の流量が一定の場合、その間の物性値は各セルの物性値の抵抗値の和として表すことができる。したがって、  \n",
    "\n",
    "熱伝導抵抗：  $R[m^2K/W] =\\frac{ dx_{l+1} } { \\lambda_{l+1} } + \\frac{ dx_{l} }{ \\lambda_{l} }  $  \n",
    "\n",
    "同様に水分に関しても抵抗値の和として計算することで物性値を平均化することができる。  \n",
    "ここで熱伝導率・水分伝導率を合わせて$\\lambda$と表記すると、平均の伝導率は以下のように表すことができる。  \n",
    "\n",
    "平均の伝導率：  $\\lambda =\\frac{ dx_{l+1} + dx_{l} }{\\frac{ dx_{l+1} } { \\lambda_{l+1} } + \\frac{ dx_{l} }{ \\lambda_{l} } } $  \n",
    "\n",
    "※　伝導率が0の場合、エラー出力とした。"
   ]
  },
  {
   "cell_type": "markdown",
   "metadata": {},
   "source": [
    "#### ※片方が空気の場合  \n",
    "材料が空気と接する場合、空気から材料表面への熱移動は熱伝達及び放射により生じ、材料中から材料表面までは熱伝導によって生じる。  \n",
    "このような場合、材料表面に質点を置くことが一般的であるが、質点の位置をCellクラスに入れることは非常に手間がかかる。  \n",
    "そのためここでは空気から材料中への熱流が定常状態であるとし、熱抵抗の和として計算を行うこととする。   \n",
    "空気および材料の熱貫流率は以下の式で表される。  \n",
    "\n",
    "熱貫流率：$K =\\frac{ 1 }{ \\frac{ 1 }{ \\alpha } + \\frac{ dx_{l} }{ 2\\lambda_{l} } } $  \n"
   ]
  },
  {
   "cell_type": "markdown",
   "metadata": {},
   "source": [
    "### A.2 調和平均を取る  \n",
    "一方でセルの長さに応じた物性値の調和平均を取るという考え方もある。\n",
    "この平均化の仕方は伝導率の差が小さい時は問題ないが、差が大きくなると抵抗値の考え方と大きくずれてくる。\n",
    "\n",
    "物性値の調和平均：　　$\\lambda_{ave}=\\frac{\\lambda_{l+1} dx_{l+1} + \\lambda_{l} dx_{l} }{ dx_{l+1} + dx_{l} }$  \n"
   ]
  },
  {
   "cell_type": "code",
   "execution_count": 1,
   "metadata": {},
   "outputs": [
    {
     "data": {
      "text/plain": [
       "Main.Flux"
      ]
     },
     "execution_count": 1,
     "metadata": {},
     "output_type": "execute_result"
    }
   ],
   "source": [
    "module Flux\n",
    "\n",
    "const grav = 9.806650\n",
    "\n",
    "# 抵抗値の平均化\n",
    "function sum_resistance( ;val_mns::Float64, val_pls::Float64, len_mns::Float64, len_pls::Float64 );\n",
    "    #if val_mns <= 0 or val_pls <= 0:\n",
    "    #    lam = 0.0 \n",
    "    #else:\n",
    "    return (len_mns + len_pls) / ( len_mns / val_mns + len_pls / val_pls )\n",
    "end\n",
    "\n",
    "# 調和平均による平均化\n",
    "function cal_mean_average( ;val_mns::Float64, val_pls::Float64, len_mns::Float64, len_pls::Float64 );\n",
    "    return ( val_mns * len_mns + val_pls * len_pls ) / ( len_mns + len_pls )\n",
    "end\n",
    "\n",
    "# （境界面）貫流値として足し合わせる場合\n",
    "function cal_transmittance( ;alpha::Float64, lam::Float64, dx2::Float64 )\n",
    "    return ( 1.0 ) / ( 1.0 / alpha + dx / ( 2.0 * lam ) )\n",
    "end\n",
    "\n",
    "##############################################\n",
    "# $$$$$$ 熱 $$$$$$\n",
    "# 熱伝導\n",
    "# 基礎式\n",
    "cal_heat_conduction( ;lam::Float64, dtemp::Float64, dx2::Float64 ) = - lam * dtemp / dx2\n",
    "\n",
    "# 差分方程式（質点の位置に注意）\n",
    "function cal_heat_conduction_diff( ;lam_mns, lam_pls, temp_mns, temp_pls, dx2_mns, dx2_pls )\n",
    "    lam = sum_resistance( val_mns = lam_mns, val_pls = lam_pls, len_mns = dx2_mns, len_pls = dx2_pls )\n",
    "    return cal_heat_conduction( lam = lam, dtemp = temp_pls - temp_mns, dx2 = dx2_mns + dx2_pls )\n",
    "end\n",
    "\n",
    "# 調和平均による計算方法\n",
    "function cal_heat_conduction_diff_meanAve( ;lam_mns, lam_pls, temp_mns, temp_pls, dx2_mns, dx2_pls )\n",
    "    lam = cal_mean_average( val_mns = lam_mns, val_pls = lam_pls, len_mns = dx2_mns, len_pls = dx2_pls )\n",
    "    return cal_heat_conduction( lam = lam, dtemp = temp_pls - temp_mns, dx2 = dx2_mns + dx2_pls )\n",
    "end\n",
    "\n",
    "######################\n",
    "# 熱伝達\n",
    "# 質点を境界に置く場合\n",
    "cal_heat_transfer( ;alpha::Float64, dtemp::Float64 ) = - alpha *  dtemp \n",
    "\n",
    "function cal_heat_transfer_diff( ;alpha, temp_mns, temp_pls );\n",
    "    return cal_heat_transfer( alpha = alpha, dtemp = temp_pls - temp_mns )\n",
    "end\n",
    "\n",
    "# 質点が材料内部にある場合（壁は右（pls）側）\n",
    "function cal_heat_transfer_plswall( ;alpha_mns, lam_pls, temp_mns, temp_pls, dx2_pls );\n",
    "    alpha = cal_transmittance( alpha = alpha_mns, lam = lam_pls, dx2 = dx2_pls )\n",
    "    return cal_heat_transfer( alpha = alpha, dtemp = temp_pls - temp_mns )\n",
    "end\n",
    "\n",
    "# 質点が材料内部にある場合（壁は左（mns）側）\n",
    "function cal_heat_transfer_mnswall( ;alpha_pls, lam_mns, temp_mns, temp_pls, dx2_mns );\n",
    "    alpha = cal_transmittance( alpha = alpha_pls, lam = lam_mns, dx2 = dx2_mns )\n",
    "    return cal_heat_transfer( alpha = alpha, dtemp = temp_pls - temp_mns )\n",
    "end\n",
    "\n",
    "\n",
    "##############################################\n",
    "# $$$$$$ 湿気（水蒸気） $$$$$$\n",
    "# 湿気伝導（圧力差流れ）\n",
    "# 基礎式\n",
    "cal_vapour_permeance_pressure( ;dp::Float64, dpv::Float64, dx2::Float64 ) = - dp * dpv / dx2\n",
    "\n",
    "# 差分方程式\n",
    "function cal_vapour_permeance_pressure_diff( ;dp_mns, dp_pls, pv_mns, pv_pls, dx2_mns, dx2_pls )\n",
    "    dp = sum_resistance( val_mns = dp_mns, val_pls = dp_pls, len_mns = dx2_mns, len_pls = dx2_pls )\n",
    "    return cal_vapour_permeance_pressure( dp = dp, dpv = pv_pls - pv_mns, dx2 = dx2_mns + dx2_pls )\n",
    "end\n",
    "\n",
    "# 湿気伝導（水分化学ポテンシャル流れ）\n",
    "cal_vapour_permeance_potential( ;ldmg, ldtg, dmiu, dtemp, dx2 ) = - ( ldmg * dmiu / dx2 + ldtg * dtemp / dx2 )\n",
    "\n",
    "# 差分方程式\n",
    "function cal_vapour_permeance_potential_diff( ;ldmg_mns, ldmg_pls, ldtg_mns, ldtg_pls, miu_mns, miu_pls, temp_mns, temp_pls, dx2_mns, dx2_pls )\n",
    "    ldmg = sum_resistance( val_mns = ldmg_mns, val_pls = ldmg_pls, len_mns = dx2_mns, len_pls = dx2_pls )\n",
    "    ldtg = sum_resistance( val_mns = ldtg_mns, val_pls = ldtg_pls, len_mns = dx2_mns, len_pls = dx2_pls )\n",
    "    return cal_vapour_permeance_potential( ldmg = ldmg, ldtg = ldtg, dmiu = miu_pls - miu_mns, dtemp = temp_pls - temp_mns, dx2 = dx2 = dx2_mns + dx2_pls )\n",
    "end\n",
    "\n",
    "# 調和平均による計算方法\n",
    "function cal_vapour_permeance_potential_diff_meanAve( ;ldmg_mns, ldmg_pls, ldtg_mns, ldtg_pls, miu_mns, miu_pls, temp_mns, temp_pls, dx2_mns, dx2_pls )\n",
    "    ldmg = cal_mean_average( val_mns = ldmg_mns, val_pls = ldmg_pls, len_mns = dx2_mns, len_pls = dx2_pls )\n",
    "    ldtg = cal_mean_average( val_mns = ldtg_mns, val_pls = ldtg_pls, len_mns = dx2_mns, len_pls = dx2_pls )\n",
    "    return cal_vapour_permeance_potential( ldmg = ldmg, ldtg = ldtg, dmiu = miu_pls - miu_mns, dtemp = temp_pls - temp_mns, dx2 = dx2 = dx2_mns + dx2_pls )\n",
    "end\n",
    "\n",
    "######################\n",
    "# 湿気伝達（圧力差流れ）\n",
    "cal_vapour_transfer_pressure( ;aldm::Float64, dpv::Float64 ) = - aldm * dpv\n",
    "\n",
    "function cal_vapour_transfer_pressure_diff( ;aldm, pv_mns, pv_pls );\n",
    "    return cal_vapour_transfer_pressure( aldm = aldm, dpv = pv_pls - pv_mns )\n",
    "end\n",
    "\n",
    "# 質点が材料内部にある場合（壁は右（pls）側）\n",
    "function cal_vapour_transfer_pressure_plswall( ;aldm_mns, dp_pls, pv_mns, pv_pls, dx2_pls );\n",
    "    aldm = cal_transmittance( alpha = aldm_mns, lam = dp_pls, dx2 = dx2_pls )\n",
    "    return cal_vapour_transfer_pressure( aldm = aldm, dpv = pv_pls - pv_mns )\n",
    "end\n",
    "\n",
    "# 質点が材料内部にある場合（壁は左（mns）側）\n",
    "function cal_vapour_transfer_pressure_mnswall( ;aldm_pls, dp_mns, pv_mns, pv_pls, dx2_mns );\n",
    "    aldm = cal_transmittance( alpha = aldm_pls, lam = dp_mns, dx2 = dx2_mns )\n",
    "    return cal_vapour_transfer_pressure( aldm = aldm, dpv = pv_pls - pv_mns )\n",
    "end\n",
    "\n",
    "######################\n",
    "# 湿気伝達（化学ポテンシャル差流れ）\n",
    "cal_vapour_transfer_potential( ;aldmg::Float64, aldtg::Float64, dmiu::Float64, dtemp::Float64 ) = - aldmg * dmiu - aldtg * dtemp\n",
    "\n",
    "function cal_vapour_transfer_potential_diff( ;aldmg, aldtg, miu_mns, miu_pls, temp_mns, temp_pls );\n",
    "    return cal_vapour_transfer_potential( aldmg = aldmg, aldtg = aldtg, dmiu = miu_pls - miu_mns, dtemp = temp_pls - temp_mns )\n",
    "end\n",
    "\n",
    "# 質点が材料内部にある場合（壁は右（pls）側）\n",
    "function cal_vapour_transfer_potential_plswall( ;aldmg_mns, aldtg_mns, ldmg_pls, ldtg_pls, miu_mns, miu_pls, temp_mns, temp_pls, dx2_pls );\n",
    "    aldmg = cal_transmittance( alpha = aldmg_mns, lam = ldmg_pls, dx2 = dx2_pls )\n",
    "    aldtg = cal_transmittance( alpha = aldtg_mns, lam = ldtg_pls, dx2 = dx2_pls )\n",
    "    return cal_vapour_transfer_potential( aldmg = aldmg, aldtg = aldtg, dmiu = miu_pls - miu_mns, dtemp = temp_pls - temp_mns )\n",
    "end\n",
    "\n",
    "# 質点が材料内部にある場合（壁は左（mns）側）\n",
    "function cal_vapour_transfer_potential_mnswall( ;aldmg_pls, aldtg_pls, ldmg_mns, ldtg_mns, miu_mns, miu_pls, temp_mns, temp_pls, dx2_mns );\n",
    "    aldmg = cal_transmittance( alpha = aldmg_pls, lam = ldmg_mns, dx2 = dx2_pls )\n",
    "    aldtg = cal_transmittance( alpha = aldtg_pls, lam = ldtg_mns, dx2 = dx2_pls )\n",
    "    return cal_vapour_transfer_potential( aldmg = aldmg, aldtg = aldtg, dmiu = miu_pls - miu_mns, dtemp = temp_pls - temp_mns )\n",
    "end\n",
    "\n",
    "##############################################\n",
    "# $$$$$$ 水（液水） $$$$$$\n",
    "# 液水伝導\n",
    "# 基礎式\n",
    "cal_liquid_conduction_potential( ;ldml::Float64, dmiu::Float64, dx2::Float64, nx = 0.0 ) = - ldml * ( dmiu / dx2 - nx * grav )\n",
    "\n",
    "# 差分方程式\n",
    "function cal_liquid_conduction_potential_diff( ;ldml_mns, ldml_pls, miu_mns, miu_pls, dx2_mns, dx2_pls, nx = 0.0 ) # nxは特に指定が無い場合0\n",
    "    ldml = sum_resistance( val_mns = ldml_mns, val_pls = ldml_pls, len_mns = dx2_mns, len_pls = dx2_pls )\n",
    "    return cal_liquid_conduction_potential( ldml = ldml, dmiu = miu_pls - miu_mns, dx2 = dx2_mns + dx2_pls, nx = nx )\n",
    "end\n",
    "\n",
    "# 調和平均による計算方法\n",
    "function cal_liquid_conduction_potential_diff_meanAve( ;ldml_mns, ldml_pls, miu_mns, miu_pls, dx2_mns, dx2_pls, nx = 0.0 ) # nxは特に指定が無い場合0\n",
    "    ldml = cal_mean_average( val_mns = ldml_mns, val_pls = ldml_pls, len_mns = dx2_mns, len_pls = dx2_pls )\n",
    "    return cal_liquid_conduction_potential( ldml = ldml, dmiu = miu_pls - miu_mns, dx2 = dx2_mns + dx2_pls, nx = nx )\n",
    "end\n",
    "\n",
    "end"
   ]
  },
  {
   "cell_type": "markdown",
   "metadata": {},
   "source": [
    "## 前進型有限差分法による熱・水分の収支計算するモジュール\n",
    "\n",
    "微小時間後の熱・水分の収支を計算するモジュール。  \n",
    "\n",
    "時間差分、セルの物性値およびセルに対して流出入する流量を入力することで収支式を解く。\n",
    "流量に関してはmns側はセルに流入する方向が正、pls側はセルから流出する方が正、となっている。\n",
    "\n",
    "熱に関しては局所平衡が成り立っていることが前提となり、固相と液相・気相の温度は一致する。  \n",
    "また、蒸発潜熱については水分の蒸発量を水蒸気の収支量から算出することで計算した。\n",
    "\n",
    "水分の収支計算は、\n",
    "\n",
    "- 含水率ベース（高含水率域）\n",
    "- 水分化学ポテンシャルベース（中間）\n",
    "- 水蒸気圧ベース（低含水率域）\n",
    "\n",
    "の3種類が一般的であるが、含水状態によってそれぞれ使い分けが必要である。  \n",
    "それぞれの特徴については私（高取）の知る限りでは、以下のような認識である。\n",
    "\n",
    "- 含水率ベース：低含水域においては変化量が非常に小さいため使用が困難。\n",
    "- 水分化学ポテンシャルベース：広い範囲で使用可能だが、非常に高含水な領域（RH>0.99999、miu>-7）や非常に低含水な領域（RH<0.2）のような状況下では$\\frac{\\partial\\mu}{\\partial \\psi}$が発散するため計算が困難になる。\n",
    "- 水蒸気圧ベース：高含水域においては含水率の方が支配的であること、計算が発散しやすくなることなどがある。\n"
   ]
  },
  {
   "cell_type": "markdown",
   "metadata": {},
   "source": [
    "## 1. 熱・水分の収支式"
   ]
  },
  {
   "cell_type": "markdown",
   "metadata": {},
   "source": [
    "### 1.1 熱収支式  "
   ]
  },
  {
   "cell_type": "markdown",
   "metadata": {},
   "source": [
    "  \n",
    "基礎方程式：$c\\rho\\frac{\\partial T}{\\partial t} = -\\nabla・q + rW$  \n",
    "\n",
    "時間差分解：$T_{t+1} = T_{t} + \\frac{(q(x)-q(x+1) - rW )}{dx}\\frac{dt}{c\\rho}$  \n"
   ]
  },
  {
   "cell_type": "markdown",
   "metadata": {},
   "source": [
    "\n",
    "### 1.2 水分収支式  \n",
    "基礎方程式：$\\frac{\\partial[(\\phi_{0}-\\psi)\\rho_{v}+\\rho_{w}\\psi]}{\\partial t} = -\\nabla・J_w$  \n",
    "\n",
    "$\\phi_{0}$：絶乾時の材料の空隙率[-]  \n",
    "$\\psi$：含水率[-]  \n",
    "$\\phi_{0}-\\psi$：含水率$\\psi$の時の空隙率[-]  \n",
    "$\\rho_w, \\rho_v$：それぞれ液水、水蒸気の密度[kg/m3]  \n",
    "$J_w$：液水の流量\n",
    "\n",
    "水分収支式は上述の式が基礎となるが、上述の場合、液水と水蒸気の量を同時に算出する必要があり計算が非常に複雑となる。そのため一般には水蒸気の変化量は液水の変化量（液水の方が密度が大きいため）に比べ非常に微小であるとすることで以下のように式変形を行った。\n",
    "\n",
    "### 1.2.1 水分化学ポテンシャルベース  \n",
    "\n",
    "$\\rho_{w}\\frac{\\partial\\psi}{\\partial \\mu}\\frac{\\partial\\mu}{\\partial t} = -\\nabla・J_w$  \n",
    "\n",
    "時間差分解：$\\mu_{t+1} = \\mu_{t} + \\frac{J_w(x) -J_w(x+1)}{dx} \\frac{\\partial\\mu}{\\partial \\psi} \\frac{dt}{\\rho_{w}}$  "
   ]
  },
  {
   "cell_type": "markdown",
   "metadata": {
    "jp-MarkdownHeadingCollapsed": true,
    "tags": []
   },
   "source": [
    "\n",
    "### 1.2.2 含水率ベース（高含水域）  \n",
    "$\\rho_w >> \\rho_v,　\\rho_w \\approx const$、より高含水域では、水分の収支式を以下のように近似できる。  \n",
    "\n",
    "$\\rho_{w}\\frac{\\partial\\psi}{\\partial t} = -\\nabla・J_w$  \n",
    "\n",
    "時間差分解：$\\phi_{t+1} = \\phi_{t} - \\frac{J_w(x) -J_w(x+1)}{dx} \\frac{dt}{\\rho_{w}}$"
   ]
  },
  {
   "cell_type": "markdown",
   "metadata": {},
   "source": [
    "\n",
    "### 1.2.3 ハイグロスコピック（蒸気拡散支配領域）    \n",
    "\n",
    "$(\\phi_0\\gamma'+\\kappa) \\frac{\\partial X}{\\partial t} - \\nu \\frac{\\partial T}{\\partial t} = \\lambda'_x\\frac{\\partial^2 X}{\\partial x^2}$  \n",
    "\n",
    "$- r\\kappa \\frac{\\partial X}{\\partial t}  + (c\\rho +r\\nu) \\frac{\\partial T}{\\partial t} = \\lambda \\frac{\\partial^2 T}{\\partial x^2}$  \n",
    "\n",
    "ただし  \n",
    "$\\kappa = \\rho_w (\\frac{\\partial \\psi}{\\partial X})_T$,　  $\\nu = \\rho_w(\\frac{\\partial \\psi}{\\partial T})_X$  \n",
    "\n",
    "$\\gamma'$：乾燥空気の密度[kg/m3]"
   ]
  },
  {
   "cell_type": "code",
   "execution_count": 2,
   "metadata": {},
   "outputs": [
    {
     "data": {
      "text/plain": [
       "Main.balance_equation"
      ]
     },
     "execution_count": 2,
     "metadata": {},
     "output_type": "execute_result"
    }
   ],
   "source": [
    "module balance_equation\n",
    "\n",
    "#Cr：水の比熱(specific heat of water)[J/(kg・K)]\n",
    "const Cr = 4.18605E+3\n",
    "\n",
    "#roww：水の密度(density of water)[kg/m3]\n",
    "const roww = 1000.0\n",
    "\n",
    "# 潜熱変化量\n",
    "latent_heat(temp) = ( 597.5 - 0.559 * ( temp - 273.15 ) ) * Cr\n",
    "latent_heat(;temp) = latent_heat(temp)\n",
    "\n",
    "##########################################\n",
    "# 熱収支式\n",
    "cal_newtemp(crow::Float64, temp::Float64, dq::Float64, W::Float64, dx::Float64, dt::Float64 ) = temp + ( dq - latent_heat( temp ) * W ) / dx * ( dt / crow )\n",
    "    \n",
    "##########################################\n",
    "# 水分化学ポテンシャル収支式\n",
    "cal_newmiu( dphi::Float64, miu::Float64, djw::Float64, dx::Float64, dt::Float64 ) = miu + djw / dx / dphi * ( dt / roww )\n",
    "\n",
    "##########################################\n",
    "# 含水率収支式\n",
    "cal_newphi( phi::Float64, djw::Float64, dx::Float64, dt::Float64 ) = phi + djw / dx * ( dt / roww )\n",
    "\n",
    "end"
   ]
  },
  {
   "cell_type": "markdown",
   "metadata": {},
   "source": [
    "## 常微分方程式の解を用いた計算方法  \n",
    "有限差分法での計算の場合、解の安定性を担保するために物性値や空間刻みの大きさに応じて計算の時間刻みを短くする必要がある。  \n",
    "（参考：フォンノイマンの安定性解析など）  \n",
    "そこで離散化方程式において隣接するコントロールボリュームの状態量を定数と置き、時間に関する状微分方程式の形式とし、その方程式の解を求めることで解の安定性を向上させる方法がある。 \n",
    "\n",
    "【参考文献】中沢康明，岡田康郎, “時変係数熱的系の遷移行列による解法,” 日本建築学会近畿支部研究報告書, pp.105-108, 1975.  \n"
   ]
  },
  {
   "cell_type": "markdown",
   "metadata": {},
   "source": [
    "この計算方法では、熱水分の移動および収支計算を以下のように解く。 \n",
    "\n",
    "$熱収支式：A_1\\frac{dT_{l,m}}{dt}=c_1T_{l,m}+c_2$  \n",
    "\n",
    "$方程式の解：T_{l,m}^t = \\Bigl(T_0 + \\frac{c_2}{c_1}\\Bigl) exp\\Bigl(\\frac{c_1}{A_1}t\\Bigl) - \\frac{c_2}{c_1}$  \n",
    "\n",
    "$水分収支式：A_2\\frac{d\\mu_{l,m}}{dt}=c_3\\mu_{l,m}+c_4$  \n",
    "\n",
    "$方程式の解：\\mu_{l,m}^t = \\Bigl(\\mu_0 + \\frac{c_4}{c_3}\\Bigl) exp\\Bigl(\\frac{c_3}{A_2}t\\Bigl) - \\frac{c_4}{c_3}$  \n"
   ]
  },
  {
   "cell_type": "markdown",
   "metadata": {},
   "source": [
    "なお、$A_1=c\\rho V, A_2=\\rho V \\frac{\\partial \\phi}{\\partial \\mu}$であり、1次元の熱水分移動解析では$V=dx$である。  \n",
    "$c_1, c_2, c_3, c_4$はそれぞれ以下のように表される。  \n",
    "\n",
    "$c_1 = \n",
    "- \\Bigl( \\frac{\\lambda_{(l)}}{dx_{(l)}} + \\frac{\\lambda_{(l-1)}}{dx_{(l-1)}} + r \\Bigl( \\frac{ \\lambda_{Tg(l)} ' }{ dx_{(l)} } + \\frac{ \\lambda_{Tg(l-1)} ' }{ dx_{(l-1)} } \\Bigl) \\Bigl) $\n",
    "\n",
    "$c_2 = \n",
    "\\Bigl( \\frac{\\lambda_{(l)}}{dx_{(l)}} + r \\frac{ \\lambda_{Tg(l)} ' }{ dx_{(l)} } \\Bigl) T_{(l+1)} \n",
    "+ \\Bigl( \\frac{\\lambda_{(l-1)}}{dx_{(l-1)}} + r \\frac{ \\lambda_{Tg(l-1)} ' }{ dx_{(l-1)} } \\Bigl) T_{(l-1)} \n",
    "+ r \\Bigl( \n",
    "\\frac{\\lambda_{\\mu g(l)}' }{dx_{(l)}} (\\mu_{(l+1)} - \\mu_{(l)}) - \n",
    "\\frac{\\lambda_{\\mu g(l-1)}' }{dx_{(l-1)}} (\\mu_{(l)} - \\mu_{(l-1)} ) \\Bigl)$\n",
    "\n",
    "$c_3 = \n",
    "- \\Bigl( \\frac{\\lambda_{\\mu(l)}'}{dx_{(l)}} + \\frac{\\lambda_{\\mu(l-1)}'}{dx_{(l-1)}} \\Bigl)$\n",
    "\n",
    "$c_4 = \n",
    "\\Bigl( \\frac{\\lambda_{\\mu(l)}'}{dx_{(l)}} \\mu_{(l+1)} + \\frac{\\lambda_{\\mu(l-1)}'}{dx_{(l-1)}} \\mu_{(l-1)} \\Bigl)\n",
    "+ \\Bigl( \\frac{\\lambda_{T(l)}'}{dx_{(l)}} (T_{(l+1)}-T_{(l)}) + \\frac{\\lambda_{T(l-1)}'}{dx_{(l-1)}} (T_{(l)}-T_{(l-1)}) \\Bigl) \n",
    "-\\Bigl( - \\frac{\\lambda_{\\mu(l)}'}{dx_{(l)}} + \\frac{\\lambda_{\\mu(l-1)}'}{dx_{(l-1)}} \\Bigl)n_x g $\n"
   ]
  },
  {
   "cell_type": "code",
   "execution_count": 1,
   "metadata": {},
   "outputs": [
    {
     "data": {
      "text/plain": [
       "Main.balance_equation_by_ODE"
      ]
     },
     "execution_count": 1,
     "metadata": {},
     "output_type": "execute_result"
    }
   ],
   "source": [
    "module balance_equation_by_ODE\n",
    "\n",
    "#grav：重力加速度\n",
    "const grav = 9.806650\n",
    "\n",
    "#Cr：水の比熱(specific heat of water)[J/(kg・K)]\n",
    "const Cr = 4.18605E+3\n",
    "\n",
    "#roww：水の密度(density of water)[kg/m3]\n",
    "const roww = 1000.0\n",
    "\n",
    "# 潜熱変化量\n",
    "latent_heat(temp) = ( 597.5 - 0.559 * ( temp - 273.15 ) ) * Cr\n",
    "latent_heat(;temp) = latent_heat(temp)\n",
    "\n",
    "##########################################\n",
    "# 熱収支式\n",
    "function cal_newtemp(temp::Float64, A1::Float64, c1::Float64, c2::Float64, dt::Float64 ) \n",
    "    return ( temp + c2/c1 ) * exp( c1/A1 * dt ) - c2/c1\n",
    "end\n",
    "cal_newtemp(;temp, A1, c1, c2, dt) =  cal_newtemp(temp, A1, c1, c2, dt)\n",
    "\n",
    "##########################################\n",
    "# 水分化学ポテンシャル収支式\n",
    "function cal_newmiu(miu::Float64, A2::Float64, c3::Float64, c4::Float64, dt::Float64 )\n",
    "    return ( miu + c4/c3 ) * exp( c3/A2 * dt ) - c4/c3\n",
    "end\n",
    "cal_newmiu(;miu, A2, c3, c4, dt) = cal_newmiu(miu, A2, c3, c4, dt)\n",
    "\n",
    "##########################################\n",
    "# 定数の計算式\n",
    "function cal_A1(; crow::Float64, vol::Float64 )\n",
    "    return crow * vol\n",
    "end\n",
    "\n",
    "function cal_A2(; vol::Float64, dphi::Float64 )\n",
    "    return roww * vol * dphi\n",
    "end\n",
    "\n",
    "##########################################\n",
    "# 材料内に流量計算の場合\n",
    "# 略称　⇒　mns:minus, pls:plus, cen::center\n",
    "function cal_c1(; lam_mns::Float64, lam_pls::Float64, ldtg_mns::Float64, ldtg_pls::Float64, r::Float64, dx2_mns::Float64, dx2_pls::Float64)\n",
    "    return - ( lam_mns / dx2_mns + lam_pls / dx2_pls + r * ( ldtg_mns / dx2_mns + ldtg_pls / dx2_pls) )\n",
    "end\n",
    "\n",
    "function cal_c2(; temp_mns::Float64, temp_pls::Float64, miu_mns::Float64, miu_pls::Float64, miu_cen::Float64, \n",
    "        lam_mns::Float64, lam_pls::Float64, ldmg_mns::Float64, ldmg_pls::Float64, ldtg_mns::Float64, ldtg_pls::Float64,\n",
    "        r::Float64, dx2_mns::Float64, dx2_pls::Float64)\n",
    "    return ( lam_mns + r*ldtg_mns ) / dx2_mns * temp_mns + ( lam_pls + r*ldtg_pls ) / dx2_pls * temp_pls + \n",
    "    r *( ldmg_pls/dx2_pls * ( miu_pls - miu_cen ) - ldmg_mns/dx2_mns * ( miu_cen - miu_mns ) )\n",
    "end\n",
    "\n",
    "function cal_c3(; ldm_mns::Float64, ldm_pls::Float64, dx2_mns::Float64, dx2_pls::Float64)\n",
    "    return - ( ldm_pls / dx2_pls + ldm_mns / dx2_mns )\n",
    "end\n",
    "\n",
    "function cal_c4(; temp_mns::Float64, temp_pls::Float64, temp_cen::Float64, miu_mns::Float64, miu_pls::Float64,\n",
    "        ldm_mns::Float64, ldm_pls::Float64, ldt_mns::Float64, ldt_pls::Float64, \n",
    "        dx2_mns::Float64, dx2_pls::Float64, nx::Float64)\n",
    "    return ( ldm_mns / dx2_mns * miu_mns + ldm_pls / dx2_pls * miu_pls ) + \n",
    "    ( ldt_pls / dx2_pls * ( temp_pls - temp_cen ) - ldt_mns / dx2_mns * ( temp_cen - temp_mns ) ) - \n",
    "    ( ldm_pls - ldm_mns ) * nx * grav\n",
    "    #( ldm_mns - ldm_pls ) * nx * grav\n",
    "    # 重力項のところ正しい？\n",
    "end\n",
    "\n",
    "##########################################\n",
    "# 空気境界における計算の場合\n",
    "# （多重ディスパッチで実装）\n",
    "function cal_c1_BC(; lam::Float64, alpha::Float64, ldtg::Float64, aldt::Float64 = 0, r::Float64, dx2::Float64)\n",
    "    return - ( alpha + lam / dx2 + r * ( aldt + ldtg / dx2) )\n",
    "end\n",
    "\n",
    "function cal_c2_BC(; temp_wall::Float64, temp_air::Float64, miu_wall::Float64, miu_air::Float64, miu_surf::Float64, \n",
    "        lam::Float64, alpha::Float64, ldmg::Float64, aldmu::Float64, ldtg::Float64, aldt::Float64,\n",
    "        r::Float64, dx2::Float64, heat_gain::Float64 )\n",
    "    return ( alpha + r*aldt ) * temp_air + ( lam + r * ldtg ) / dx2 * temp_wall + \n",
    "    r *( ldmg/dx2 * ( miu_wall - miu_surf ) - aldmu * ( miu_surf - miu_air ) ) + heat_gain\n",
    "end\n",
    "\n",
    "# aldmuの入力値が無い場合断湿境界条件\n",
    "function cal_c3_BC(; ldm::Float64, aldmu::Float64, dx2::Float64)\n",
    "    return - ( aldmu + ldm / dx2 )\n",
    "end\n",
    "\n",
    "function cal_c4_BC(; temp_wall::Float64, temp_air::Float64, temp_surf::Float64, miu_wall::Float64, miu_air::Float64,\n",
    "        ldm::Float64, aldmu::Float64, ldt::Float64, aldt::Float64, dx2::Float64, nx::Float64, moisture_gain::Float64)\n",
    "    return aldmu * miu_air + ldm/dx2 * miu_wall + \n",
    "    ldt / dx2 * ( temp_wall - temp_surf ) - aldt * ( temp_surf - temp_air ) - \n",
    "    ldm * nx * grav + moisture_gain\n",
    "end\n",
    "# 留意事項：+-の符号に注意　⇒　centerに向かう熱流・水分流と考えれば問題ない。・重力項要注意\n",
    "\n",
    "###################################################\n",
    "# 材料物性値の平均化方法\n",
    "# 抵抗値として足し合わせる\n",
    "function sum_resistance( ;val_mns::Float64, val_pls::Float64, len_mns::Float64, len_pls::Float64 );\n",
    "    return (len_mns + len_pls) / ( len_mns / val_mns + len_pls / val_pls )\n",
    "end\n",
    "\n",
    "# 調和平均を取る\n",
    "function cal_mean_average( ;val_mns::Float64, val_pls::Float64, len_mns::Float64, len_pls::Float64 );\n",
    "    return ( val_mns * len_mns + val_pls * len_pls ) / ( len_mns + len_pls )\n",
    "end\n",
    "\n",
    "end"
   ]
  },
  {
   "cell_type": "code",
   "execution_count": null,
   "metadata": {},
   "outputs": [],
   "source": []
  }
 ],
 "metadata": {
  "kernelspec": {
   "display_name": "Julia 1.6.1",
   "language": "julia",
   "name": "julia-1.6"
  },
  "language_info": {
   "file_extension": ".jl",
   "mimetype": "application/julia",
   "name": "julia",
   "version": "1.6.1"
  }
 },
 "nbformat": 4,
 "nbformat_minor": 4
}
