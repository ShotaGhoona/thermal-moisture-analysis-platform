{
 "cells": [
  {
   "cell_type": "markdown",
   "metadata": {},
   "source": [
    "#### 気体定数$R_v$\n",
    "$ \\displaystyle R_v = \\frac{8.314}{0.018}$"
   ]
  },
  {
   "cell_type": "code",
   "execution_count": 3,
   "metadata": {},
   "outputs": [
    {
     "data": {
      "text/plain": [
       "461.58969804618124"
      ]
     },
     "execution_count": 3,
     "metadata": {},
     "output_type": "execute_result"
    }
   ],
   "source": [
    "const Rv = 8.314/0.018"
   ]
  },
  {
   "cell_type": "markdown",
   "metadata": {},
   "source": [
    "# 水蒸気の状態量に関するモジュール"
   ]
  },
  {
   "cell_type": "markdown",
   "metadata": {},
   "source": [
    "## 1. 飽和水蒸気圧 $P_{vs}の計算$  \n",
    "Wexler-Hylandを採用"
   ]
  },
  {
   "cell_type": "code",
   "execution_count": 4,
   "metadata": {},
   "outputs": [
    {
     "data": {
      "text/plain": [
       "cal_Pvs (generic function with 2 methods)"
      ]
     },
     "execution_count": 4,
     "metadata": {},
     "output_type": "execute_result"
    }
   ],
   "source": [
    "function cal_Pvs(temp);\n",
    "    return exp( -5800.22060 / temp + 1.3914993 - 4.8640239E-2 * temp + 4.1764768E-5 * (temp ^ 2.0) - 1.4452093E-8 * (temp ^ 3.0) + 6.5459673 * log(temp) )\n",
    "end\n",
    "\n",
    "# 多重ディスパッチによる別実装\n",
    "cal_Pvs( ;temp ) = cal_Pvs( temp )"
   ]
  },
  {
   "cell_type": "markdown",
   "metadata": {},
   "source": [
    "## 2. 水蒸気圧 $P_vの計算$  \n",
    "### 2.1 温度・相対湿度から求める  \n",
    "$$P_v = RH * P_{vs} $$"
   ]
  },
  {
   "cell_type": "code",
   "execution_count": 5,
   "metadata": {},
   "outputs": [
    {
     "data": {
      "text/plain": [
       "cal_Pv_ByRH (generic function with 2 methods)"
      ]
     },
     "execution_count": 5,
     "metadata": {},
     "output_type": "execute_result"
    }
   ],
   "source": [
    "function cal_Pv_ByRH(temp::Float64, rh::Float64)\n",
    "    return rh * cal_Pvs( temp = temp )\n",
    "end\n",
    "\n",
    "cal_Pv_ByRH( ;temp::Float64, rh::Float64 ) = cal_Pv_ByRH( temp, rh )"
   ]
  },
  {
   "cell_type": "markdown",
   "metadata": {},
   "source": [
    "### 2.2 温度・水分化学ポテンシャル水蒸気圧\n",
    "$$\\mu = R_v T log(RH)$$  \n",
    "$$⇔ P_v = P_v exp \\Bigl( \\frac{\\mu}{R_v T} \\Bigl) $$"
   ]
  },
  {
   "cell_type": "code",
   "execution_count": 6,
   "metadata": {},
   "outputs": [
    {
     "data": {
      "text/plain": [
       "cal_Pv_ByMiu (generic function with 2 methods)"
      ]
     },
     "execution_count": 6,
     "metadata": {},
     "output_type": "execute_result"
    }
   ],
   "source": [
    "function cal_Pv_ByMiu(temp::Float64, miu::Float64 );\n",
    "    rh = exp( miu / Rv / temp )\n",
    "    return rh * cal_Pvs(temp = temp)\n",
    "end\n",
    "\n",
    "cal_Pv_ByMiu(;temp::Float64, miu::Float64 ) = cal_Pv_ByMiu( temp, miu )"
   ]
  },
  {
   "cell_type": "markdown",
   "metadata": {},
   "source": [
    "## 3. 各種依存性\n",
    "### 3.1 飽和水蒸気圧の温度微分 \n",
    "$$\\partial P_{vs} / \\partial T$$  \n",
    "\n",
    "# 2022/05/31 出所要確認（おそらく小椋先生のFortranのプログラム）  \n",
    "# ⇒Wexler Hylandではなさそう"
   ]
  },
  {
   "cell_type": "code",
   "execution_count": 7,
   "metadata": {},
   "outputs": [
    {
     "data": {
      "text/plain": [
       "cal_DPvs (generic function with 2 methods)"
      ]
     },
     "execution_count": 7,
     "metadata": {},
     "output_type": "execute_result"
    }
   ],
   "source": [
    "function cal_DPvs( temp );\n",
    "    DP = 10.795740 * 273.160 / temp / temp - 5.0280 / temp / log(10.0) + \n",
    "    ( 1.50475E-4 ) * 8.2969 / 273.16 * log(10.0)* \n",
    "    ( 10.0 ^ ( -8.29690 * ( temp / 273.160 - 1.0 ) ) ) + \n",
    "    ( 0.42873E-3 ) * 4.769550 * 273.160 / temp / temp * log(10.0) * \n",
    "    ( 10.0 ^ ( 4.769550 * ( 1.0 - 273.160 / temp ) ) )\n",
    "    return cal_Pvs(temp = temp) * DP * log(10.0)\n",
    "end\n",
    "\n",
    "cal_DPvs( ;temp ) = cal_DPvs( temp )"
   ]
  },
  {
   "cell_type": "markdown",
   "metadata": {},
   "source": [
    "### 3.2 水蒸気圧の温度微分 \n",
    "$\\partial P_{v} / \\partial T$  \n",
    "$P_v = P_{vs} exp(\\frac{\\mu}{RvT})$"
   ]
  },
  {
   "cell_type": "code",
   "execution_count": 8,
   "metadata": {},
   "outputs": [
    {
     "data": {
      "text/plain": [
       "cal_DPvDT (generic function with 2 methods)"
      ]
     },
     "execution_count": 8,
     "metadata": {},
     "output_type": "execute_result"
    }
   ],
   "source": [
    "function cal_DPvDT( temp, miu );\n",
    "    pvs  = cal_Pvs( temp )\n",
    "    dpvs = cal_DPvs( temp )\n",
    "    return dpvs * exp( miu / Rv / temp ) - pvs * miu / Rv / temp / temp * exp( miu/ Rv/ temp)\n",
    "end\n",
    "cal_DPvDT(; temp, miu ) = cal_DPvDT( temp, miu )"
   ]
  },
  {
   "cell_type": "code",
   "execution_count": 9,
   "metadata": {},
   "outputs": [
    {
     "data": {
      "text/plain": [
       "cal_DPvDMiu (generic function with 2 methods)"
      ]
     },
     "execution_count": 9,
     "metadata": {},
     "output_type": "execute_result"
    }
   ],
   "source": [
    "function cal_DPvDMiu( temp, miu );\n",
    "    pvs  = cal_Pvs( temp )\n",
    "    return pvs / Rv / temp * exp( miu / Rv / temp )\n",
    "end\n",
    "cal_DPvDMiu(; temp, miu ) = cal_DPvDMiu( temp, miu )"
   ]
  },
  {
   "cell_type": "markdown",
   "metadata": {},
   "source": [
    "### 3.3 相対湿度の水分化学ポテンシャル微分\n",
    "\n",
    "$$ RH = exp(\\frac{\\mu}{R_v T})$$  \n",
    "$$ \\frac{\\partial RH}{\\partial \\mu} = \\frac{1}{R_v T} exp \\Bigl( \\frac{\\mu}{R_v T} \\Bigl) $$"
   ]
  },
  {
   "cell_type": "code",
   "execution_count": 10,
   "metadata": {},
   "outputs": [
    {
     "data": {
      "text/plain": [
       "cal_drh_dmiu (generic function with 2 methods)"
      ]
     },
     "execution_count": 10,
     "metadata": {},
     "output_type": "execute_result"
    }
   ],
   "source": [
    "function cal_drh_dmiu( temp::Float64, miu::Float64 )\n",
    "    return ( 1.0 / Rv / temp ) * exp( miu / Rv / temp )\n",
    "end\n",
    "cal_drh_dmiu(; temp::Float64, miu::Float64 ) = cal_drh_dmiu( temp, miu )"
   ]
  },
  {
   "cell_type": "code",
   "execution_count": null,
   "metadata": {},
   "outputs": [],
   "source": []
  },
  {
   "cell_type": "markdown",
   "metadata": {},
   "source": [
    "### 3.4 絶対湿度の水蒸気圧微分  \n",
    "\n",
    "$$ \\frac{\\partial X}{\\partial P_v} =  \\frac{0.622P_{atm}}{(P_{atm}-P_v)^2}  $$"
   ]
  },
  {
   "cell_type": "code",
   "execution_count": 11,
   "metadata": {},
   "outputs": [
    {
     "data": {
      "text/plain": [
       "cal_dah_dpv (generic function with 3 methods)"
      ]
     },
     "execution_count": 11,
     "metadata": {},
     "output_type": "execute_result"
    }
   ],
   "source": [
    "function cal_dah_dpv(pv::Float64, patm::Float64=101325.0 )\n",
    "    return 0.622 * patm / ( ( patm - pv )^2 )\n",
    "end\n",
    "cal_dah_dpv(;pv::Float64, patm::Float64=101325.0 ) = cal_dah_dpv(pv, patm )"
   ]
  },
  {
   "cell_type": "markdown",
   "metadata": {},
   "source": [
    "### 3.5 絶対湿度の相対湿度微分\n",
    "\n",
    "$$ \\frac{\\partial X}{\\partial h} = \\frac{0.622 p_{vs} p_{atm}}{(p_{atm}-p_{vs} h)^2} $$"
   ]
  },
  {
   "cell_type": "code",
   "execution_count": 12,
   "metadata": {},
   "outputs": [
    {
     "data": {
      "text/plain": [
       "cal_dah_drh (generic function with 3 methods)"
      ]
     },
     "execution_count": 12,
     "metadata": {},
     "output_type": "execute_result"
    }
   ],
   "source": [
    "function cal_dah_drh(temp::Float64, rh::Float64, patm::Float64=101325.0)\n",
    "    pvs = cal_Pvs(temp)\n",
    "    return 0.622 * pvs * patm / ( patm - pvs * rh )^2\n",
    "end\n",
    "cal_dah_drh(;temp::Float64, rh::Float64, patm::Float64=101325.0) = cal_dah_drh(temp, rh, patm)"
   ]
  },
  {
   "cell_type": "code",
   "execution_count": 24,
   "metadata": {},
   "outputs": [
    {
     "data": {
      "text/plain": [
       "0.00873525355908866"
      ]
     },
     "execution_count": 24,
     "metadata": {},
     "output_type": "execute_result"
    }
   ],
   "source": [
    "convertPv2AH( patm = 101325.0, pv = convertRH2Pv( temp =293.15 , rh = 0.6) )"
   ]
  },
  {
   "cell_type": "code",
   "execution_count": 26,
   "metadata": {},
   "outputs": [
    {
     "data": {
      "text/plain": [
       "0.014797852808510065"
      ]
     },
     "execution_count": 26,
     "metadata": {},
     "output_type": "execute_result"
    }
   ],
   "source": [
    "( convertPv2AH( patm = 101325.0, pv = convertRH2Pv( temp =293.15 , rh = 0.7) ) - convertPv2AH( patm = 101325.0, pv = convertRH2Pv( temp =293.15 , rh = 0.6) ) ) /0.1"
   ]
  },
  {
   "cell_type": "code",
   "execution_count": 27,
   "metadata": {},
   "outputs": [
    {
     "data": {
      "text/plain": [
       "0.027426794896347053"
      ]
     },
     "execution_count": 27,
     "metadata": {},
     "output_type": "execute_result"
    }
   ],
   "source": [
    "cal_dah_drh(temp = 303.15, rh = 0.6)"
   ]
  },
  {
   "cell_type": "markdown",
   "metadata": {},
   "source": [
    "## 4. 水蒸気の各状態量の換算関係"
   ]
  },
  {
   "cell_type": "markdown",
   "metadata": {},
   "source": [
    "#### 記号"
   ]
  },
  {
   "cell_type": "markdown",
   "metadata": {},
   "source": [
    "$T$ : Absolute temperature / 絶対温度[K]  \n",
    "$R_v$ : 水蒸気の気体定数[J kg<sup>-1</sup> K<sup>-1</sup>]  \n",
    "$RH$ : 相対湿度[-]  \n",
    "$AH$ : 重量絶対湿度[kg/kg']  \n",
    "$P_v$ : 水蒸気圧[Pa]  \n",
    "$P_{vs}$ : 飽和水蒸気圧[Pa]  \n",
    "$\\mu$ : 水分化学ポテンシャル[J/kg] "
   ]
  },
  {
   "cell_type": "markdown",
   "metadata": {},
   "source": [
    "### 4.1 RH（相対湿度） - Pv（水蒸気圧）関係  "
   ]
  },
  {
   "cell_type": "markdown",
   "metadata": {},
   "source": [
    "$ \\displaystyle P_v = RH \\cdot P_{vs}$"
   ]
  },
  {
   "cell_type": "code",
   "execution_count": 14,
   "metadata": {},
   "outputs": [
    {
     "data": {
      "text/plain": [
       "convertPv2RH (generic function with 1 method)"
      ]
     },
     "execution_count": 14,
     "metadata": {},
     "output_type": "execute_result"
    }
   ],
   "source": [
    "convertRH2Pv( ;temp::Float64, rh::Float64 ) = rh * cal_Pvs( temp = temp )\n",
    "convertRH2Pv( temp::Float64, rh::Float64 )  = convertRH2Pv( temp = temp, rh = rh )\n",
    "convertPv2RH( ;temp::Float64, pv::Float64 ) = pv / cal_Pvs( temp = temp )"
   ]
  },
  {
   "cell_type": "markdown",
   "metadata": {},
   "source": [
    "### 4.2 RH（相対湿度） - Miu（水分化学ポテンシャル）関係  "
   ]
  },
  {
   "cell_type": "markdown",
   "metadata": {},
   "source": [
    "$ \\displaystyle \\mu = R_v \\cdot T \\cdot \\log(RH)$"
   ]
  },
  {
   "cell_type": "code",
   "execution_count": null,
   "metadata": {},
   "outputs": [
    {
     "data": {
      "text/plain": [
       "convertMiu2RH (generic function with 1 method)"
      ]
     },
     "execution_count": 15,
     "metadata": {},
     "output_type": "execute_result"
    }
   ],
   "source": [
    "convertRH2Miu( ;temp::Float64, rh::Float64 )  = Rv * temp * log( rh )\n",
    "convertMiu2RH( ;temp::Float64, miu::Float64 ) =  exp( miu / Rv / temp )\n",
    "convertRH2AH( ;temp::Float64, rh::Float64, patm::Float64 = 101325.0 ) =  convertPv2AH( patm = patm, pv = convertRH2Pv( temp, rh ) )"
   ]
  },
  {
   "cell_type": "markdown",
   "metadata": {},
   "source": [
    "### 4.3 Pv（水蒸気圧） - Miu（水分化学ポテンシャル）関係  "
   ]
  },
  {
   "cell_type": "code",
   "execution_count": 16,
   "metadata": {},
   "outputs": [
    {
     "data": {
      "text/plain": [
       "convertMiu2Pv (generic function with 1 method)"
      ]
     },
     "execution_count": 16,
     "metadata": {},
     "output_type": "execute_result"
    }
   ],
   "source": [
    "function convertPv2Miu( ;temp::Float64, pv::Float64 );\n",
    "    rh = convertPv2RH( temp = temp, pv = pv )\n",
    "    return convertRH2Miu( temp = temp, rh = rh )\n",
    "end\n",
    "\n",
    "function convertMiu2Pv( ;temp::Float64, miu::Float64 );\n",
    "    rh = convertMiu2RH( temp = temp, miu = miu )\n",
    "    return convertRH2Pv( temp = temp, rh = rh )\n",
    "end"
   ]
  },
  {
   "cell_type": "markdown",
   "metadata": {},
   "source": [
    "### 4.4 Pv（水蒸気圧） - AH（絶対湿度）関係  \n",
    "$$ AH = \\frac{0.622 P_v}{P_{atm}-P_v} $$"
   ]
  },
  {
   "cell_type": "markdown",
   "metadata": {},
   "source": [
    "$$ P_v = \\frac{ AH * P_{atm} } { 0.622 + AH } $$"
   ]
  },
  {
   "cell_type": "code",
   "execution_count": 17,
   "metadata": {},
   "outputs": [
    {
     "data": {
      "text/plain": [
       "convertAH2RH (generic function with 1 method)"
      ]
     },
     "execution_count": 17,
     "metadata": {},
     "output_type": "execute_result"
    }
   ],
   "source": [
    "convertPv2AH( ;patm::Float64, pv::Float64 ) = 0.622 * pv / ( patm - pv )\n",
    "convertAH2Pv( ;patm::Float64, ah::Float64 ) = ah * patm / ( 0.622 + ah )\n",
    "convertAH2RH( ;temp::Float64, patm::Float64, ah::Float64 ) = convertPv2RH( temp=temp, pv=convertAH2Pv( patm=patm, ah=ah ))"
   ]
  },
  {
   "cell_type": "markdown",
   "metadata": {},
   "source": [
    "## Example"
   ]
  },
  {
   "cell_type": "markdown",
   "metadata": {},
   "source": [
    "fig = plt.figure(figsize=(15,4))\n",
    "ax = fig.add_subplot(1,2,1)\n",
    "\n",
    "xs = [ n * 0.01 for n in range(27315,37315) ]\n",
    "\n",
    "for RH in [ 0.2, 0.4, 0.6, 0.8, 1.0 ]:\n",
    "    ys = [ convertRH2Pv( x, RH ) for x in xs ]\n",
    "    ax.plot( xs, ys, label = 'RH:' + str(int(RH*100)) + ', %' )\n",
    "\n",
    "ax.set_xticks([ n * 20 + 273.15 for n in range(0, 6) ])\n",
    "ax.set_yticks([ n * 10000 for n in range(0, 11) ])\n",
    "ax.set_xlabel('Absolute temperature, K', fontsize = 15 )\n",
    "ax.set_ylabel('Vapor pressure, Pa', fontsize = 15 )\n",
    "plt.legend()\n",
    "plt.show()"
   ]
  },
  {
   "cell_type": "markdown",
   "metadata": {},
   "source": [
    "fig = plt.figure(figsize=(15,4))\n",
    "ax = fig.add_subplot(1,2,1)\n",
    "\n",
    "xs = [ n * 0.01 for n in range(27315,37315) ]\n",
    "\n",
    "for RH in [ 0.2, 0.4, 0.6, 0.8, 1.0 ]:\n",
    "    ys = [ convertRH2Miu( x, RH ) for x in xs ]\n",
    "    ax.plot( xs, ys, label = 'RH:' + str(int(RH*100)) + ', %' )\n",
    "\n",
    "ax.set_xticks([ n * 20 + 273.15 for n in range(0, 6) ])\n",
    "ax.set_yticks([ n * 10000 for n in range(0, 11) ])\n",
    "ax.set_xlabel('Absolute temperature, K', fontsize = 15 )\n",
    "ax.set_ylabel('Chemical potential, J/kg', fontsize = 15 )\n",
    "plt.legend()\n",
    "plt.show()"
   ]
  },
  {
   "cell_type": "code",
   "execution_count": null,
   "metadata": {},
   "outputs": [],
   "source": []
  }
 ],
 "metadata": {
  "kernelspec": {
   "display_name": "Julia 1.6.7",
   "language": "julia",
   "name": "julia-1.6"
  },
  "language_info": {
   "file_extension": ".jl",
   "mimetype": "application/julia",
   "name": "julia",
   "version": "1.6.7"
  }
 },
 "nbformat": 4,
 "nbformat_minor": 4
}
