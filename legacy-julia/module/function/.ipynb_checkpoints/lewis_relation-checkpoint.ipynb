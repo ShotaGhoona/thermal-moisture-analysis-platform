{
 "cells": [
  {
   "cell_type": "code",
   "execution_count": null,
   "metadata": {},
   "outputs": [],
   "source": []
  },
  {
   "cell_type": "markdown",
   "metadata": {},
   "source": [
    "## Lewis関係に関するモジュール  \n",
    "参考：鉾井修一ら；エース環境工学Ⅱ  \n",
    "\n",
    "湿気の移動は物質伝達の一種であり、熱対流との間に相似則が存在する。すなわち、熱伝達の場合の温度差に対応する水蒸気圧の差に比例して水蒸気が移動する。$p_o, p_i$を境界層の外の水蒸気圧、壁面の水蒸気圧とすると、壁面境界層を横切る水分流$J_w$は以下のように表される。  \n",
    "\n",
    "$J_w = \\alpha^{'}(p_o - p_i)\\equiv (1/ r^{'})(p_o - p_i)$\n",
    "\n",
    "熱伝達率に対応する$\\alpha^{'}$を湿気伝達率（water vapor transfer coefficient）あるいは透湿係数といい、その逆数$r^{'}$を湿気伝達抵抗あるいは湿気抵抗という。  \n",
    "熱と水分拡散のアナロジーより、次式のルイスの関係（Lewis relation）が得られる。  \n",
    "\n",
    "$Le = \\alpha_c / (\\alpha^{'}C_p\\rho R_v T)$  \n",
    "\n",
    "ここで$\\alpha_c$：対流熱伝達率、T：絶対温度である。"
   ]
  },
  {
   "cell_type": "markdown",
   "metadata": {},
   "source": [
    "#### $L_e$：ルイス数（Lewis number）"
   ]
  },
  {
   "cell_type": "code",
   "execution_count": 1,
   "metadata": {},
   "outputs": [],
   "source": [
    "def Le():\n",
    "    return 0.86"
   ]
  },
  {
   "cell_type": "markdown",
   "metadata": {},
   "source": [
    "$C_p$：（乾燥空気の）定圧比熱、"
   ]
  },
  {
   "cell_type": "code",
   "execution_count": 2,
   "metadata": {},
   "outputs": [],
   "source": [
    "def cp():\n",
    "    return 1006.0"
   ]
  },
  {
   "cell_type": "markdown",
   "metadata": {},
   "source": [
    "#### $\\rho$：（乾燥）空気の密度"
   ]
  },
  {
   "cell_type": "code",
   "execution_count": 3,
   "metadata": {},
   "outputs": [],
   "source": [
    "def row():\n",
    "    return 1.293"
   ]
  },
  {
   "cell_type": "markdown",
   "metadata": {},
   "source": [
    "#### $R_v$：水蒸気のガス定数"
   ]
  },
  {
   "cell_type": "code",
   "execution_count": 4,
   "metadata": {},
   "outputs": [],
   "source": [
    "def Rv():\n",
    "    return 8.31441 / 0.01802"
   ]
  },
  {
   "cell_type": "markdown",
   "metadata": {},
   "source": [
    "ルイスの関係（Lewis relation）\n",
    "\n",
    "$ \\alpha^{'} = \\alpha_c / ( Le C_p\\rho R_v T)$  "
   ]
  },
  {
   "cell_type": "code",
   "execution_count": 5,
   "metadata": {},
   "outputs": [],
   "source": [
    "def cal_aldm( alpha, temp ):\n",
    "    return alpha / ( Le() * cp() * row() * Rv() * temp )"
   ]
  },
  {
   "cell_type": "code",
   "execution_count": 8,
   "metadata": {},
   "outputs": [
    {
     "data": {
      "text/plain": [
       "1.5737642053776505e-07"
      ]
     },
     "execution_count": 8,
     "metadata": {},
     "output_type": "execute_result"
    }
   ],
   "source": [
    "# 使用例\n",
    "cal_aldm( alpha = 23.0 , temp = 283.15 )"
   ]
  },
  {
   "cell_type": "code",
   "execution_count": null,
   "metadata": {},
   "outputs": [],
   "source": []
  }
 ],
 "metadata": {
  "kernelspec": {
   "display_name": "Python 3",
   "language": "python",
   "name": "python3"
  },
  "language_info": {
   "codemirror_mode": {
    "name": "ipython",
    "version": 3
   },
   "file_extension": ".py",
   "mimetype": "text/x-python",
   "name": "python",
   "nbconvert_exporter": "python",
   "pygments_lexer": "ipython3",
   "version": "3.6.5"
  }
 },
 "nbformat": 4,
 "nbformat_minor": 2
}
