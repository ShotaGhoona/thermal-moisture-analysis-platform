{
 "cells": [
  {
   "cell_type": "code",
   "execution_count": 1,
   "metadata": {},
   "outputs": [
    {
     "name": "stderr",
     "output_type": "stream",
     "text": [
      "WARNING: replacing module Lewis_relation.\n",
      "WARNING: replacing module Lewis_relation.\n",
      "WARNING: replacing module Lewis_relation.\n"
     ]
    },
    {
     "data": {
      "text/plain": [
       "1.353437216624779e-7"
      ]
     },
     "execution_count": 1,
     "metadata": {},
     "output_type": "execute_result"
    }
   ],
   "source": [
    "include(\"room.jl\")\n",
    "include(\"cell.jl\")\n",
    "#include(\"wall.jl\")\n",
    "include(\"climate.jl\")\n",
    "include(\"solar_radiation.jl\")\n",
    "include(\"wind_driven_rain.jl\")\n",
    "include(\"./function/lewis_relation.jl\")"
   ]
  },
  {
   "cell_type": "markdown",
   "metadata": {},
   "source": [
    "## 1. 境界条件を表す構造体"
   ]
  },
  {
   "cell_type": "markdown",
   "metadata": {},
   "source": [
    "### 1.1 第一種境界条件  \n",
    "※BC:BoundaryCondition"
   ]
  },
  {
   "cell_type": "code",
   "execution_count": 2,
   "metadata": {},
   "outputs": [
    {
     "data": {
      "text/plain": [
       "BC_Dirichlet"
      ]
     },
     "execution_count": 2,
     "metadata": {},
     "output_type": "execute_result"
    }
   ],
   "source": [
    "Base.@kwdef mutable struct BC_Dirichlet\n",
    "    name::String = \"NoName\"\n",
    "    cell::Cell   = Cell()\n",
    "end"
   ]
  },
  {
   "cell_type": "code",
   "execution_count": null,
   "metadata": {},
   "outputs": [],
   "source": [
    "temp(state::BC_Dirichlet)= temp(state.cell)\n",
    "miu(state::BC_Dirichlet) = miu(state.cell)\n",
    "rh(state::BC_Dirichlet) = rh(state.cell)\n",
    "pv(state::BC_Dirichlet)  = pv(state.cell)\n",
    "ah(state::BC_Dirichlet)  = ah(state.cell)\n",
    "phi(state::BC_Dirichlet)  = phi(state.cell)"
   ]
  },
  {
   "cell_type": "markdown",
   "metadata": {},
   "source": [
    "### 1.2 第二種境界条件"
   ]
  },
  {
   "cell_type": "code",
   "execution_count": 3,
   "metadata": {},
   "outputs": [
    {
     "data": {
      "text/plain": [
       "BC_Neumann"
      ]
     },
     "execution_count": 3,
     "metadata": {},
     "output_type": "execute_result"
    }
   ],
   "source": [
    "Base.@kwdef mutable struct BC_Neumann\n",
    "    name::String = \"NoName\"\n",
    "    q::Float64  = 0.0\n",
    "    jv::Float64 = 0.0\n",
    "    jl::Float64 = 0.0\n",
    "end"
   ]
  },
  {
   "cell_type": "code",
   "execution_count": null,
   "metadata": {},
   "outputs": [],
   "source": [
    "temp(state::BC_Neumann)= 0.0\n",
    "miu(state::BC_Neumann) = 0.0\n",
    "rh(state::BC_Neumann) = 0.0\n",
    "pv(state::BC_Neumann)  = 0.0\n",
    "ah(state::BC_Neumann)  = 0.0\n",
    "phi(state::BC_Neumann)  = 0.0"
   ]
  },
  {
   "cell_type": "markdown",
   "metadata": {},
   "source": [
    "### 1.3 第三種境界条件"
   ]
  },
  {
   "cell_type": "code",
   "execution_count": 4,
   "metadata": {},
   "outputs": [
    {
     "data": {
      "text/plain": [
       "BC_Robin"
      ]
     },
     "execution_count": 4,
     "metadata": {},
     "output_type": "execute_result"
    }
   ],
   "source": [
    "Base.@kwdef mutable struct BC_Robin\n",
    "    name::String        = \"NoName\"\n",
    "    air::Air            = Air()\n",
    "    #wall::Cell          = Cell()    # 名称はcellの方が正しい\n",
    "    cell::Cell          = Cell()\n",
    "    q_added::Float64    = 0.0\n",
    "    jv_added::Float64   = 0.0\n",
    "    jl_added::Float64   = 0.0\n",
    "    jl_surf::Float64    = 0.0 # 表面水（結露水）\n",
    "    alpha::Float64      = 9.3\n",
    "    alphac::Float64     = 4.9\n",
    "    alphar::Float64     = 4.4\n",
    "    aldm::Float64       = 3.2e-8\n",
    "    θ::Dict{String, Float64}    = Dict( \"a\" => 0.0, # 方位角：azimuth\n",
    "                                        \"e\" => 0.0, # 仰角　：elevation\n",
    "                                        \"LATIs\" => -180.0,  # 日射が当たり始める方位　  ：LATI_started\n",
    "                                        \"LATIl\" =>  360.0,  # 日射が当たる限界の方位　  ：LATI_limited\n",
    "                                        \"ALTIs\" => -180.0,  # 日射が当たり始める高度    ：ALTI_started\n",
    "                                        \"ALTIl\" =>  360.0)  # 日射が当たる限界の高度    ：ALTI_limited\n",
    "    ar::Float64 = 0.0  # 日射吸収率（absorption rate）\n",
    "    er::Float64 = 0.0  # 放射率（emissivity）\n",
    "end"
   ]
  },
  {
   "cell_type": "markdown",
   "metadata": {},
   "source": [
    "#### 1.3.1 状態量の入出力"
   ]
  },
  {
   "cell_type": "code",
   "execution_count": 5,
   "metadata": {},
   "outputs": [
    {
     "data": {
      "text/plain": [
       "add_jl_surf (generic function with 1 method)"
      ]
     },
     "execution_count": 5,
     "metadata": {},
     "output_type": "execute_result"
    }
   ],
   "source": [
    "# 熱水分状態量\n",
    "temp(state::BC_Robin)= state.air.temp\n",
    "rh(state::BC_Robin) = state.air.rh\n",
    "miu(state::BC_Robin) = convertRH2Miu( temp = temp(state.air), rh = rh(state.air) )\n",
    "pv(state::BC_Robin)  = convertRH2Pv( temp = temp(state.air), rh = rh(state.air) )\n",
    "ah(state::BC_Robin)  = convertPv2AH( patm = p_atm(state.air), pv = pv(state.air) )\n",
    "patm(state::BC_Robin)= state.air.p_atm\n",
    "vol(state::BC_Robin)= state.air.vol\n",
    "material_name(state::BC_Dirichlet)= typeof(state)\n",
    "material_name(state::BC_Neumann)= typeof(state)\n",
    "material_name(state::BC_Robin)= typeof(state)\n",
    "\n",
    "# 移動係数\n",
    "alpha(state::BC_Robin) = state.alphac + state.alphar\n",
    "aldm(state::BC_Robin)  = state.aldm\n",
    "aldt(state::BC_Robin)  = aldm(state) * cal_DPvDT( temp = temp(state.air), miu = miu(state.air) )\n",
    "aldmu(state::BC_Robin) = aldm(state) * cal_DPvDMiu( temp = temp(state.air), miu = miu(state.air) )\n",
    "aldm_by_alphac(state::BC_Robin) = Lewis_relation.cal_aldm( alpha = state.alphac , temp = temp(state.air) )\n",
    "\n",
    "θa(state::BC_Robin)     = state.θ[\"a\"]\n",
    "θe(state::BC_Robin)     = state.θ[\"e\"]\n",
    "LATI_started(state::BC_Robin)   = state.θ[\"LATIs\"]\n",
    "LATI_limited(state::BC_Robin)   = state.θ[\"LATIl\"]\n",
    "ALTI_started(state::BC_Robin)   = state.θ[\"ALTIs\"]\n",
    "ALTI_limited(state::BC_Robin)   = state.θ[\"ALTIl\"]\n",
    "ar(state::BC_Robin)     = state.ar\n",
    "er(state::BC_Robin)     = state.er\n",
    "\n",
    "# 値のセット\n",
    "function set_air(state::BC_Robin, air::Air)\n",
    "    state.air = air end\n",
    "function set_cell(state::BC_Robin, cell::Cell)\n",
    "    state.cell = cell end\n",
    "function set_q_added(state::BC_Robin, q_added::Float64)\n",
    "    state.q_added = q_added end\n",
    "function set_jv_added(state::BC_Robin, jv_added::Float64)\n",
    "    state.jv_added = jv_added end\n",
    "function set_jl_added(state::BC_Robin, jl_added::Float64)\n",
    "    state.jl_added = jl_added end\n",
    "function set_jl_surf(state::BC_Robin, jl_surf::Float64)\n",
    "    state.jl_surf = jl_surf end\n",
    "function set_alpha(state::BC_Robin, alpha::Float64)\n",
    "    state.alpha = alpha end\n",
    "function set_alphac(state::BC_Robin, alphac::Float64)\n",
    "    state.alphac = alphac end\n",
    "function set_alphar(state::BC_Robin, alphar::Float64)\n",
    "    state.alphar = alphar end\n",
    "function set_aldm(state::BC_Robin, aldm::Float64)\n",
    "    state.aldm = aldm end\n",
    "function set_θa(state::BC_Robin, θa::Float64)\n",
    "    state.θ[\"a\"] = θa end\n",
    "function set_θe(state::BC_Robin, θe::Float64)\n",
    "    state.θ[\"e\"] = θe end\n",
    "function set_LATI_started(state::BC_Robin, LATI_started::Float64)\n",
    "    state.θ[\"LATIs\"] = LATI_started end\n",
    "function set_LATI_limited(state::BC_Robin, LATI_limited::Float64)\n",
    "    state.θ[\"LATIl\"] = LATI_limited end\n",
    "function set_ALTI_started(state::BC_Robin, ALTI_started::Float64)\n",
    "    state.θ[\"ALTIs\"] = ALTI_started end\n",
    "function set_ALTI_limited(state::BC_Robin, ALTI_limited::Float64)\n",
    "    state.θ[\"ALTIl\"] = ALTI_limited end\n",
    "function set_ar(state::BC_Robin, ar::Float64)\n",
    "    state.ar = ar end\n",
    "function set_er(state::BC_Robin, er::Float64)\n",
    "    state.er = er end\n",
    "\n",
    "# 値のセット\n",
    "function add_q_added(state::BC_Robin, q_added::Float64)\n",
    "    state.q_added = state.q_added + q_added end\n",
    "function add_jv_added(state::BC_Robin, jv_added::Float64)\n",
    "    state.jv_added = state.jv_added + jv_added end\n",
    "function add_jl_added(state::BC_Robin, jl_added::Float64)\n",
    "    state.jl_added = state.jl_added + jl_added end\n",
    "function add_jl_surf(state::BC_Robin, jl_surf::Float64)\n",
    "    state.jl_surf = state.jl_surf + jl_surf end"
   ]
  },
  {
   "cell_type": "markdown",
   "metadata": {},
   "source": [
    "## 2. 日射量・降水量を境界条件（boundary condition）に入力する関数"
   ]
  },
  {
   "cell_type": "markdown",
   "metadata": {},
   "source": [
    "### 2.1 壁面に入射する日射量の計算"
   ]
  },
  {
   "cell_type": "code",
   "execution_count": 6,
   "metadata": {},
   "outputs": [
    {
     "data": {
      "text/plain": [
       "cal_direct_solar_radiation_at_wall (generic function with 7 methods)"
      ]
     },
     "execution_count": 6,
     "metadata": {},
     "output_type": "execute_result"
    }
   ],
   "source": [
    "# 直達日射量の計算\n",
    "function cal_direct_solar_radiation_at_wall(climate::Climate, BC_Robin::BC_Robin)\n",
    "    Jdi = cal_direct_solar_radiation_at_wall(\n",
    "        SOLDN   = climate.solar[\"SOLDN\"], \n",
    "        ALTI    = climate.solar[\"ALTI\"], \n",
    "        LATI    = climate.solar[\"LATI\"],\n",
    "        θe      = θe(BC_Robin),\n",
    "        θa      = θa(BC_Robin))\n",
    "    return Jdi\n",
    "end"
   ]
  },
  {
   "cell_type": "code",
   "execution_count": 7,
   "metadata": {},
   "outputs": [
    {
     "data": {
      "text/plain": [
       "cal_diffused_solar_radiation_at_wall (generic function with 3 methods)"
      ]
     },
     "execution_count": 7,
     "metadata": {},
     "output_type": "execute_result"
    }
   ],
   "source": [
    "# 天空日射量の計算\n",
    "function cal_diffused_solar_radiation_at_wall(climate::Climate, BC_Robin::BC_Robin)\n",
    "    Jsi = cal_diffused_solar_radiation_at_wall(\n",
    "        SOLSN   = climate.solar[\"SOLSN\"],\n",
    "        θe      = θe(BC_Robin))\n",
    "    return Jsi\n",
    "end"
   ]
  },
  {
   "cell_type": "code",
   "execution_count": 8,
   "metadata": {},
   "outputs": [
    {
     "data": {
      "text/plain": [
       "cal_reflected_solar_radiation_by_ground (generic function with 3 methods)"
      ]
     },
     "execution_count": 8,
     "metadata": {},
     "output_type": "execute_result"
    }
   ],
   "source": [
    "# 地面からの反射日射の計算  \n",
    "function cal_reflected_solar_radiation_by_ground(climate::Climate, BC_Robin::BC_Robin)\n",
    "    Jr  = cal_reflected_solar_radiation_by_ground( \n",
    "        SOLDN   = climate.solar[\"SOLDN\"], \n",
    "        SOLSN   = climate.solar[\"SOLDN\"],\n",
    "        θe      = θe(BC_Robin),\n",
    "        rho     = rho(climate) )\n",
    "    return Jr\n",
    "end"
   ]
  },
  {
   "cell_type": "code",
   "execution_count": 9,
   "metadata": {},
   "outputs": [
    {
     "data": {
      "text/plain": [
       "cal_effective_thermal_radiation_at_wall (generic function with 3 methods)"
      ]
     },
     "execution_count": 9,
     "metadata": {},
     "output_type": "execute_result"
    }
   ],
   "source": [
    "# 実効放射（夜間放射）の計算\n",
    "function cal_effective_thermal_radiation_at_wall(climate::Climate, BC_Robin::BC_Robin)\n",
    "    Jer = cal_effective_thermal_radiation_at_wall( \n",
    "        temp_wall   = temp(BC_Robin.cell),\n",
    "        temp_air    = temp(climate.air), \n",
    "        ε           = er(BC_Robin), \n",
    "        pv          = pv(BC_Robin.air), \n",
    "        n           = cloudiness(climate),\n",
    "        θe          = θe(BC_Robin))\n",
    "    return Jer\n",
    "end "
   ]
  },
  {
   "cell_type": "markdown",
   "metadata": {},
   "source": [
    "### 2.2 傾斜面に当たる降水量\n",
    "\n",
    "傾斜面に当たる降水量$R{e}$は水平面降水量$R_h$と垂直面降水量$R_{wdr}$を用い以下のように表されるものとする。\n",
    "\n",
    "$$\n",
    "    R{e} = R_h \\cos{\\theta_e} + R_{wdr} \\sin{\\theta_e}\n",
    "$$\n",
    "\n",
    "また、降水量$R{e}$[mm/s]と境界面における水分流量$J_{l_{add}}$[kg/m2s]は以下の関係にある。\n",
    "\n",
    "$$\n",
    "    J_{l_{add}} = \\rho_{w} \\frac{R{e}}{1000}\n",
    "$$\n",
    "\n",
    "ただし、$\\rho_{w}$は水の密度である。"
   ]
  },
  {
   "cell_type": "code",
   "execution_count": 10,
   "metadata": {},
   "outputs": [
    {
     "data": {
      "text/plain": [
       "cal_WDR_at_wall (generic function with 3 methods)"
      ]
     },
     "execution_count": 10,
     "metadata": {},
     "output_type": "execute_result"
    }
   ],
   "source": [
    "# 壁面に当たる降水量の計算\n",
    "function cal_effective_rainfall_at_wall(climate::Climate, BC_Robin::BC_Robin, α::Float64 = 0.222)\n",
    "    Rh = climate.Jp / 3600.0    # 1sあたり降水量に変換\n",
    "    Rwdr = cal_WDR_at_wall( Rh, WS(climate), θa(BC_Robin) - θwd(climate) , α )\n",
    "    return Rh * cosd(θe(BC_Robin)) + Rwdr * sind(θe(BC_Robin))\n",
    "end\n",
    "cal_WDR_at_wall(; climate::Climate, BC_Robin::BC_Robin, α::Float64 = 0.222) = cal_WDR_at_wall(climate, BC_Robin, α)"
   ]
  },
  {
   "cell_type": "code",
   "execution_count": 11,
   "metadata": {},
   "outputs": [
    {
     "name": "stderr",
     "output_type": "stream",
     "text": [
      "WARNING: replacing module property_conversion.\n",
      "WARNING: replacing module water_property.\n",
      "WARNING: replacing module Lewis_relation.\n",
      "WARNING: replacing module Lewis_relation.\n",
      "WARNING: replacing module property_conversion.\n",
      "WARNING: replacing module water_property.\n",
      "WARNING: replacing module Lewis_relation.\n"
     ]
    },
    {
     "data": {
      "text/plain": [
       "0.1"
      ]
     },
     "execution_count": 11,
     "metadata": {},
     "output_type": "execute_result"
    }
   ],
   "source": [
    "# 検証\n",
    "include(\"wall.jl\")\n",
    "test_wall = Wall( ION = 30.0 )\n",
    "\n",
    "# climate側の設定\n",
    "test = input_climate_data( file_name = \"../input_data/climate_data/sample_climate_data.csv\", header = 3)\n",
    "test_wall.BC_IP.air =  test.air\n",
    "test.rho  = 0.1\n"
   ]
  },
  {
   "cell_type": "code",
   "execution_count": 12,
   "metadata": {},
   "outputs": [
    {
     "name": "stdout",
     "output_type": "stream",
     "text": [
      "2012-01-19T12:00:00 , WDR 0.0, 降水量 0.0, 風速 3.8\n",
      "2012-01-19T12:30:00 , WDR 2.0e-5, 降水量 7.0e-5, 風速 2.9\n",
      "2012-01-19T13:00:00 , WDR -5.0e-5, 降水量 0.00014, 風速 2.0\n",
      "2012-01-19T13:30:00 , WDR -0.00012, 降水量 0.00028, 風速 2.45\n",
      "2012-01-19T14:00:00 , WDR -0.00021, 降水量 0.00042, 風速 2.9\n",
      "2012-01-19T14:30:00 , WDR -0.00022, 降水量 0.00035, 風速 3.75\n",
      "2012-01-19T15:00:00 , WDR 0.0001, 降水量 0.00028, 風速 4.6\n",
      "2012-01-19T15:30:00 , WDR 0.00011, 降水量 0.00035, 風速 3.8\n",
      "2012-01-19T16:00:00 , WDR 0.0001, 降水量 0.00042, 風速 3.0\n",
      "2012-01-19T16:30:00 , WDR 0.00013, 降水量 0.00042, 風速 3.85\n",
      "2012-01-19T17:00:00 , WDR 0.00016, 降水量 0.00042, 風速 4.7\n",
      "2012-01-19T17:30:00 , WDR 0.00019, 降水量 0.00056, 風速 4.15\n",
      "2012-01-19T18:00:00 , WDR 0.0002, 降水量 0.00069, 風速 3.6\n",
      "2012-01-19T18:30:00 , WDR 0.00024, 降水量 0.00069, 風速 4.25\n",
      "2012-01-19T19:00:00 , WDR 0.00028, 降水量 0.00069, 風速 4.9\n",
      "2012-01-19T19:30:00 , WDR 0.00024, 降水量 0.00069, 風速 4.300000000000001\n",
      "2012-01-19T20:00:00 , WDR 0.00021, 降水量 0.00069, 風速 3.7\n",
      "2012-01-19T20:30:00 , WDR 0.00028, 降水量 0.00069, 風速 4.9\n",
      "2012-01-19T21:00:00 , WDR 0.00035, 降水量 0.00069, 風速 6.1\n",
      "2012-01-19T21:30:00 , WDR 0.00032, 降水量 0.00069, 風速 5.6499999999999995\n",
      "2012-01-19T22:00:00 , WDR 0.00029, 降水量 0.00069, 風速 5.2\n",
      "2012-01-19T22:30:00 , WDR 0.00028, 降水量 0.00062, 風速 5.45\n",
      "2012-01-19T23:00:00 , WDR 0.00026, 降水量 0.00056, 風速 5.7\n",
      "2012-01-19T23:30:00 , WDR 0.0002, 降水量 0.00056, 風速 4.5\n",
      "2012-01-20T00:00:00 , WDR 0.00015, 降水量 0.00056, 風速 3.3\n",
      "2012-01-20T00:30:00 , WDR 0.0002, 降水量 0.00056, 風速 4.5\n",
      "2012-01-20T01:00:00 , WDR 0.00026, 降水量 0.00056, 風速 5.7\n",
      "2012-01-20T01:30:00 , WDR 0.00014, 降水量 0.00035, 風速 4.85\n",
      "2012-01-20T02:00:00 , WDR 5.0e-5, 降水量 0.00014, 風速 4.0\n",
      "2012-01-20T02:30:00 , WDR 2.0e-5, 降水量 7.0e-5, 風速 3.45\n",
      "2012-01-20T03:00:00 , WDR 0.0, 降水量 0.0, 風速 2.9\n",
      "2012-01-20T03:30:00 , WDR 0.0, 降水量 0.0, 風速 2.5\n",
      "2012-01-20T04:00:00 , WDR 0.0, 降水量 0.0, 風速 2.1\n",
      "2012-01-20T04:30:00 , WDR 0.0, 降水量 0.0, 風速 2.4000000000000004\n",
      "2012-01-20T05:00:00 , WDR 0.0, 降水量 0.0, 風速 2.7\n",
      "2012-01-20T05:30:00 , WDR 0.0, 降水量 0.0, 風速 2.9\n",
      "2012-01-20T06:00:00 , WDR 0.0, 降水量 0.0, 風速 3.1\n",
      "2012-01-20T06:30:00 , WDR 0.0, 降水量 0.0, 風速 2.75\n",
      "2012-01-20T07:00:00 , WDR 0.0, 降水量 0.0, 風速 2.4\n",
      "2012-01-20T07:30:00 , WDR 0.0, 降水量 0.0, 風速 2.25\n",
      "2012-01-20T08:00:00 , WDR 0.0, 降水量 0.0, 風速 2.1\n",
      "2012-01-20T08:30:00 , WDR 0.0, 降水量 0.0, 風速 3.0\n",
      "2012-01-20T09:00:00 , WDR 0.0, 降水量 0.0, 風速 3.9\n",
      "2012-01-20T09:30:00 , WDR 0.0, 降水量 0.0, 風速 2.85\n",
      "2012-01-20T10:00:00 , WDR 0.0, 降水量 0.0, 風速 1.8\n",
      "2012-01-20T10:30:00 , WDR 0.0, 降水量 0.0, 風速 2.4\n",
      "2012-01-20T11:00:00 , WDR 0.0, 降水量 0.0, 風速 3.0\n",
      "2012-01-20T11:30:00 , WDR 0.0, 降水量 0.0, 風速 2.55\n"
     ]
    }
   ],
   "source": [
    "# BCの構築\n",
    "test_wall.cell[1].temp    = 280.15\n",
    "test_wall.BC_IP.θ[\"e\"] = 90.0\n",
    "test_wall.BC_IP.θ[\"a\"] = 270.0\n",
    "\n",
    "test_wall.BC_IP.cell.temp =  280.15\n",
    "test_wall.BC_IP.ar      =  0.9\n",
    "test_wall.BC_IP.er      =  0.9\n",
    "\n",
    "test.date = test.date + Day(18)\n",
    "test.date = test.date + Hour(12)\n",
    "for i = 1 : 2 * 24\n",
    "    for I = [ :BC_IP, :BC_IM ]\n",
    "        set_q_added( getfield(test_wall, I), 0.0)\n",
    "    end\n",
    "    \n",
    "    reset_climate_data( test )\n",
    "    Jdi = cal_direct_solar_radiation_at_wall(       test, test_wall.BC_IP   )\n",
    "    Jsi = cal_diffused_solar_radiation_at_wall(     test, test_wall.BC_IP   )\n",
    "    Jr  = cal_reflected_solar_radiation_by_ground(  test, test_wall.BC_IP   )\n",
    "    Jer = cal_effective_thermal_radiation_at_wall(  test, test_wall.BC_IP   )\n",
    "    Re  = cal_effective_rainfall_at_wall( test, test_wall.BC_IP )\n",
    "\n",
    "    #println(test.date,\" , \", temp(test_wall.cell[1]) - 273.15,\" , \", temp(test.air) - 273.15,\" , \", Jer ) # + test.solar[\"SOLSN\"] )\n",
    "    #println(test.date,\" , \", Jdi,\" , \", Jsi,\" , \", Jr,\" , \", Jer,\" , \", test.solar[\"SOLDN\"],\" , \", test.solar[\"SOLSN\"] ) # + test.solar[\"SOLSN\"] )\n",
    "    println(test.date,\" , WDR \", round(Re, digits = 5), \", 降水量 \",   round(test.Jp/3600.0, digits = 5), \", 風速 \",  WS(test) ) # + test.solar[\"SOLSN\"] )\n",
    "    test.date = test.date + Minute(30)\n",
    "end"
   ]
  },
  {
   "cell_type": "code",
   "execution_count": 13,
   "metadata": {},
   "outputs": [
    {
     "data": {
      "text/plain": [
       "-169.80698839945723"
      ]
     },
     "execution_count": 13,
     "metadata": {},
     "output_type": "execute_result"
    }
   ],
   "source": [
    "cal_effective_thermal_radiation_at_wall( \n",
    "        temp_wall   = 300.14, \n",
    "        temp_air    = 293.14, \n",
    "        ε           = 0.9, \n",
    "        pv          = 1000.0, \n",
    "        n           = 0, \n",
    "        θe          = 0.0)"
   ]
  },
  {
   "cell_type": "code",
   "execution_count": 14,
   "metadata": {},
   "outputs": [
    {
     "data": {
      "text/plain": [
       "-56.133817949290005"
      ]
     },
     "execution_count": 14,
     "metadata": {},
     "output_type": "execute_result"
    }
   ],
   "source": [
    "cal_effective_thermal_radiation_at_wall(  test, test_wall.BC_IP   )"
   ]
  },
  {
   "cell_type": "code",
   "execution_count": null,
   "metadata": {},
   "outputs": [],
   "source": []
  }
 ],
 "metadata": {
  "kernelspec": {
   "display_name": "Julia 1.11.0",
   "language": "julia",
   "name": "julia-1.11"
  },
  "language_info": {
   "file_extension": ".jl",
   "mimetype": "application/julia",
   "name": "julia",
   "version": "1.11.0"
  }
 },
 "nbformat": 4,
 "nbformat_minor": 2
}
