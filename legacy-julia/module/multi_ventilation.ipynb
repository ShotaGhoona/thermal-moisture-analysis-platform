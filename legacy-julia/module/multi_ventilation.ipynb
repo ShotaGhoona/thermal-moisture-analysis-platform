{
 "cells": [
  {
   "cell_type": "code",
   "execution_count": 1,
   "metadata": {},
   "outputs": [
    {
     "name": "stderr",
     "output_type": "stream",
     "text": [
      "WARNING: replacing module Lewis_relation.\n",
      "WARNING: replacing module Lewis_relation.\n",
      "WARNING: replacing module Lewis_relation.\n",
      "WARNING: replacing module property_conversion.\n",
      "WARNING: replacing module water_property.\n",
      "WARNING: replacing module Lewis_relation.\n",
      "WARNING: replacing module Lewis_relation.\n",
      "WARNING: replacing module Lewis_relation.\n",
      "WARNING: replacing module Lewis_relation.\n",
      "WARNING: replacing module flux_leakage_isothermal.\n",
      "WARNING: replacing module flux_ventilation_isothermal.\n",
      "WARNING: replacing module flux_leakage_noniso_uniflow.\n",
      "WARNING: replacing module flux_ventilation_noniso_uniflow.\n",
      "WARNING: replacing module flux_leakage_noniso_crossflow.\n",
      "WARNING: replacing module flux_ventilation_noniso_crossflow.\n"
     ]
    },
    {
     "data": {
      "text/plain": [
       "(-6.409261176238541, 0.0, 6.409261176238541, 1.4614107443030637, 0.0, 1.4614107443030637)"
      ]
     },
     "execution_count": 1,
     "metadata": {},
     "output_type": "execute_result"
    }
   ],
   "source": [
    "using DataFrames\n",
    "using CSV\n",
    "using LinearAlgebra\n",
    "include(\"flux_ventilation.jl\")\n",
    "include(\"building_network_model.jl\")\n",
    "include(\"flux_ventilation.jl\")"
   ]
  },
  {
   "cell_type": "markdown",
   "metadata": {},
   "source": [
    "# 多数室換気計算プログラム"
   ]
  },
  {
   "cell_type": "markdown",
   "metadata": {},
   "source": [
    "本プログラムでは多数室における換気計算方法について示す。  \n",
    "なお、各計算においては主に以下のプログラムを参照のこと\n",
    "- building_network_model.ipynb：換気回路網に関するモデル化方法を表す\n",
    "- opening.ipynb：開口の条件を表す\n",
    "- flux_ventilation.ipynb：開口における流量の計算式を表す  \n",
    "\n",
    "なお、ここではBNM(Building Network Model)が構築されていることを前提とした関数化を行う。  \n",
    "以下、多数室換気計算における主な計算の流れを示す。"
   ]
  },
  {
   "cell_type": "code",
   "execution_count": 2,
   "metadata": {},
   "outputs": [
    {
     "data": {
      "text/plain": [
       "BNM(Room[Room(1, \"outdoor\", Air(0, \"climate\", 0.0, 0.0, 0.0, 0.0, 276.84999999999997, 0.77, 613.2898775721085, 0.0037877055546582487, 101325.0, 0.0, 0.0, 0.0, 0.0, 0.0, 0.0, 0.0, 0.0, 0.0), 0.0, 0.0, 0.0, 0.0, 0.0, 0.0, \"OFF\"), Room(2, \"room1\", Air(0, \"room1\", 0.0, 0.0, 0.0, 125.0, 283.15, 0.6, 0.0, 0.0, 101325.0, 0.0, 0.0, 0.0, 0.0, 0.0, 0.0, 0.0, 0.0, 0.0), 0.0, 0.0, 0.02, 0.0, 0.0, 0.0, \"OFF\"), Room(3, \"room2\", Air(0, \"room2\", 0.0, 0.0, 0.0, 125.0, 283.15, 0.6, 0.0, 0.0, 101325.0, 0.0, 0.0, 0.0, 0.0, 0.0, 0.0, 0.0, 0.0, 0.0), 0.0, 0.0, 0.025, 0.0, 0.0, 0.0, \"OFF\")], Wall[Wall(1, \"ground\", 1, 2, 0.0, 0.2, 100.0, 0.0, 0.0, Cell[Cell([1, 1, 1], [0.0, 0.0, 0.0], 1.0, 1.0, 1.0, 0.5, 1.0, 1.0, 283.15, -66807.7360789275, 0.0, 0.0, 0.0, 101325.0, \"sandy_clay_loam\", [[0.0, 0.0, 0.0], [0.0, 0.0, 0.0]], [[0.0, 0.0, 0.0], [0.0, 0.0, 0.0]], [[0.0, 0.0, 0.0], [0.0, 0.0, 0.0]]), Cell([2, 1, 1], [0.0, 0.0, 0.0], 1.0, 1.0, 1.0, 0.5, 1.0, 1.0, 283.15, -66807.7360789275, 0.0, 0.0, 0.0, 101325.0, \"sandy_clay_loam\", [[0.0, 0.0, 0.0], [0.0, 0.0, 0.0]], [[0.0, 0.0, 0.0], [0.0, 0.0, 0.0]], [[0.0, 0.0, 0.0], [0.0, 0.0, 0.0]]), Cell([3, 1, 1], [0.0, 0.0, 0.0], 1.0, 1.0, 1.0, 0.5, 1.0, 1.0, 283.15, -66807.7360789275, 0.0, 0.0, 0.0, 101325.0, \"sandy_clay_loam\", [[0.0, 0.0, 0.0], [0.0, 0.0, 0.0]], [[0.0, 0.0, 0.0], [0.0, 0.0, 0.0]], [[0.0, 0.0, 0.0], [0.0, 0.0, 0.0]]), Cell([4, 1, 1], [0.0, 0.0, 0.0], 1.0, 1.0, 1.0, 0.5, 1.0, 1.0, 283.15, -66807.7360789275, 0.0, 0.0, 0.0, 101325.0, \"sandy_clay_loam\", [[0.0, 0.0, 0.0], [0.0, 0.0, 0.0]], [[0.0, 0.0, 0.0], [0.0, 0.0, 0.0]], [[0.0, 0.0, 0.0], [0.0, 0.0, 0.0]]), Cell([5, 1, 1], [0.0, 0.0, 0.0], 0.2, 1.0, 1.0, 0.1, 1.0, 1.0, 283.15, -66807.7360789275, 0.0, 0.0, 0.0, 101325.0, \"sandy_clay_loam\", [[0.0, 0.0, 0.0], [0.0, 0.0, 0.0]], [[0.0, 0.0, 0.0], [0.0, 0.0, 0.0]], [[0.0, 0.0, 0.0], [0.0, 0.0, 0.0]]), Cell([6, 1, 1], [0.0, 0.0, 0.0], 0.2, 1.0, 1.0, 0.1, 1.0, 1.0, 283.15, -66807.7360789275, 0.0, 0.0, 0.0, 101325.0, \"sandy_clay_loam\", [[0.0, 0.0, 0.0], [0.0, 0.0, 0.0]], [[0.0, 0.0, 0.0], [0.0, 0.0, 0.0]], [[0.0, 0.0, 0.0], [0.0, 0.0, 0.0]]), Cell([7, 1, 1], [0.0, 0.0, 0.0], 0.2, 1.0, 1.0, 0.1, 1.0, 1.0, 283.15, -66807.7360789275, 0.0, 0.0, 0.0, 101325.0, \"sandy_clay_loam\", [[0.0, 0.0, 0.0], [0.0, 0.0, 0.0]], [[0.0, 0.0, 0.0], [0.0, 0.0, 0.0]], [[0.0, 0.0, 0.0], [0.0, 0.0, 0.0]]), Cell([8, 1, 1], [0.0, 0.0, 0.0], 0.1, 1.0, 1.0, 0.05, 1.0, 1.0, 283.15, -66807.7360789275, 0.0, 0.0, 0.0, 101325.0, \"sandy_clay_loam\", [[0.0, 0.0, 0.0], [0.0, 0.0, 0.0]], [[0.0, 0.0, 0.0], [0.0, 0.0, 0.0]], [[0.0, 0.0, 0.0], [0.0, 0.0, 0.0]]), Cell([9, 1, 1], [0.0, 0.0, 0.0], 0.1, 1.0, 1.0, 0.05, 1.0, 1.0, 283.15, -66807.7360789275, 0.0, 0.0, 0.0, 101325.0, \"sandy_clay_loam\", [[0.0, 0.0, 0.0], [0.0, 0.0, 0.0]], [[0.0, 0.0, 0.0], [0.0, 0.0, 0.0]], [[0.0, 0.0, 0.0], [0.0, 0.0, 0.0]]), Cell([10, 1, 1], [0.0, 0.0, 0.0], 0.1, 1.0, 1.0, 0.05, 1.0, 1.0, 283.15, -66807.7360789275, 0.0, 0.0, 0.0, 101325.0, \"sandy_clay_loam\", [[0.0, 0.0, 0.0], [0.0, 0.0, 0.0]], [[0.0, 0.0, 0.0], [0.0, 0.0, 0.0]], [[0.0, 0.0, 0.0], [0.0, 0.0, 0.0]]), Cell([11, 1, 1], [0.0, 0.0, 0.0], 0.02, 1.0, 1.0, 0.01, 1.0, 1.0, 283.15, -66807.7360789275, 0.0, 0.0, 0.0, 101325.0, \"sandy_clay_loam\", [[0.0, 0.0, 0.0], [0.0, 0.0, 0.0]], [[0.0, 0.0, 0.0], [0.0, 0.0, 0.0]], [[0.0, 0.0, 0.0], [0.0, 0.0, 0.0]]), Cell([12, 1, 1], [0.0, 0.0, 0.0], 0.02, 1.0, 1.0, 0.01, 1.0, 1.0, 283.15, -66807.7360789275, 0.0, 0.0, 0.0, 101325.0, \"sandy_clay_loam\", [[0.0, 0.0, 0.0], [0.0, 0.0, 0.0]], [[0.0, 0.0, 0.0], [0.0, 0.0, 0.0]], [[0.0, 0.0, 0.0], [0.0, 0.0, 0.0]]), Cell([13, 1, 1], [0.0, 0.0, 0.0], 0.02, 1.0, 1.0, 0.01, 1.0, 1.0, 283.15, -66807.7360789275, 0.0, 0.0, 0.0, 101325.0, \"sandy_clay_loam\", [[0.0, 0.0, 0.0], [0.0, 0.0, 0.0]], [[0.0, 0.0, 0.0], [0.0, 0.0, 0.0]], [[0.0, 0.0, 0.0], [0.0, 0.0, 0.0]]), Cell([14, 1, 1], [0.0, 0.0, 0.0], 0.01, 1.0, 1.0, 0.005, 1.0, 1.0, 283.15, -66807.7360789275, 0.0, 0.0, 0.0, 101325.0, \"sandy_clay_loam\", [[0.0, 0.0, 0.0], [0.0, 0.0, 0.0]], [[0.0, 0.0, 0.0], [0.0, 0.0, 0.0]], [[0.0, 0.0, 0.0], [0.0, 0.0, 0.0]]), Cell([15, 1, 1], [0.0, 0.0, 0.0], 0.01, 1.0, 1.0, 0.005, 1.0, 1.0, 283.15, -66807.7360789275, 0.0, 0.0, 0.0, 101325.0, \"sandy_clay_loam\", [[0.0, 0.0, 0.0], [0.0, 0.0, 0.0]], [[0.0, 0.0, 0.0], [0.0, 0.0, 0.0]], [[0.0, 0.0, 0.0], [0.0, 0.0, 0.0]]), Cell([16, 1, 1], [0.0, 0.0, 0.0], 0.01, 1.0, 1.0, 0.005, 1.0, 1.0, 283.15, -66807.7360789275, 0.0, 0.0, 0.0, 101325.0, \"sandy_clay_loam\", [[0.0, 0.0, 0.0], [0.0, 0.0, 0.0]], [[0.0, 0.0, 0.0], [0.0, 0.0, 0.0]], [[0.0, 0.0, 0.0], [0.0, 0.0, 0.0]]), Cell([17, 1, 1], [0.0, 0.0, 0.0], 0.01, 1.0, 1.0, 0.01, 1.0, 1.0, 283.15, -66807.7360789275, 0.0, 0.0, 0.0, 101325.0, \"sandy_clay_loam\", [[0.0, 0.0, 0.0], [0.0, 0.0, 0.0]], [[0.0, 0.0, 0.0], [0.0, 0.0, 0.0]], [[0.0, 0.0, 0.0], [0.0, 0.0, 0.0]])], BC_Robin(\"NoName\", Air(0, \"climate\", 0.0, 0.0, 0.0, 0.0, 276.84999999999997, 0.77, 613.2898775721085, 0.0037877055546582487, 101325.0, 0.0, 0.0, 0.0, 0.0, 0.0, 0.0, 0.0, 0.0, 0.0), Cell([1, 1, 1], [0.0, 0.0, 0.0], 1.0, 1.0, 1.0, 0.5, 1.0, 1.0, 283.15, -66807.7360789275, 0.0, 0.0, 0.0, 101325.0, \"sandy_clay_loam\", [[0.0, 0.0, 0.0], [0.0, 0.0, 0.0]], [[0.0, 0.0, 0.0], [0.0, 0.0, 0.0]], [[0.0, 0.0, 0.0], [0.0, 0.0, 0.0]]), 0.0, 0.0, 0.0, 0.0, 0.0, 0.0, 0.0, 0.0, Dict(\"LATIl\" => 360.0, \"e\" => 0.0, \"ALTIs\" => -180.0, \"LATIs\" => -180.0, \"a\" => -180.0, \"ALTIl\" => 360.0), 0.9, 0.9), BC_Robin(\"NoName\", Air(0, \"room1\", 0.0, 0.0, 0.0, 125.0, 283.15, 0.6, 0.0, 0.0, 101325.0, 0.0, 0.0, 0.0, 0.0, 0.0, 0.0, 0.0, 0.0, 0.0), Cell([17, 1, 1], [0.0, 0.0, 0.0], 0.01, 1.0, 1.0, 0.01, 1.0, 1.0, 283.15, -66807.7360789275, 0.0, 0.0, 0.0, 101325.0, \"sandy_clay_loam\", [[0.0, 0.0, 0.0], [0.0, 0.0, 0.0]], [[0.0, 0.0, 0.0], [0.0, 0.0, 0.0]], [[0.0, 0.0, 0.0], [0.0, 0.0, 0.0]]), 0.0, 0.0, 0.0, 0.0, 13.4, 9.0, 4.4, 5.115398306232535e-8, Dict(\"LATIl\" => 360.0, \"e\" => 180.0, \"ALTIs\" => -180.0, \"LATIs\" => -180.0, \"a\" => -180.0, \"ALTIl\" => 360.0), 0.9, 0.9), Any[BC_Robin(\"NoName\", Air(0, \"climate\", 0.0, 0.0, 0.0, 0.0, 276.84999999999997, 0.77, 613.2898775721085, 0.0037877055546582487, 101325.0, 0.0, 0.0, 0.0, 0.0, 0.0, 0.0, 0.0, 0.0, 0.0), Cell([1, 1, 1], [0.0, 0.0, 0.0], 1.0, 1.0, 1.0, 0.5, 1.0, 1.0, 283.15, -66807.7360789275, 0.0, 0.0, 0.0, 101325.0, \"sandy_clay_loam\", [[0.0, 0.0, 0.0], [0.0, 0.0, 0.0]], [[0.0, 0.0, 0.0], [0.0, 0.0, 0.0]], [[0.0, 0.0, 0.0], [0.0, 0.0, 0.0]]), 0.0, 0.0, 0.0, 0.0, 0.0, 0.0, 0.0, 0.0, Dict(\"LATIl\" => 360.0, \"e\" => 0.0, \"ALTIs\" => -180.0, \"LATIs\" => -180.0, \"a\" => -180.0, \"ALTIl\" => 360.0), 0.9, 0.9), Cell([1, 1, 1], [0.0, 0.0, 0.0], 1.0, 1.0, 1.0, 0.5, 1.0, 1.0, 283.15, -66807.7360789275, 0.0, 0.0, 0.0, 101325.0, \"sandy_clay_loam\", [[0.0, 0.0, 0.0], [0.0, 0.0, 0.0]], [[0.0, 0.0, 0.0], [0.0, 0.0, 0.0]], [[0.0, 0.0, 0.0], [0.0, 0.0, 0.0]]), Cell([2, 1, 1], [0.0, 0.0, 0.0], 1.0, 1.0, 1.0, 0.5, 1.0, 1.0, 283.15, -66807.7360789275, 0.0, 0.0, 0.0, 101325.0, \"sandy_clay_loam\", [[0.0, 0.0, 0.0], [0.0, 0.0, 0.0]], [[0.0, 0.0, 0.0], [0.0, 0.0, 0.0]], [[0.0, 0.0, 0.0], [0.0, 0.0, 0.0]]), Cell([3, 1, 1], [0.0, 0.0, 0.0], 1.0, 1.0, 1.0, 0.5, 1.0, 1.0, 283.15, -66807.7360789275, 0.0, 0.0, 0.0, 101325.0, \"sandy_clay_loam\", [[0.0, 0.0, 0.0], [0.0, 0.0, 0.0]], [[0.0, 0.0, 0.0], [0.0, 0.0, 0.0]], [[0.0, 0.0, 0.0], [0.0, 0.0, 0.0]]), Cell([4, 1, 1], [0.0, 0.0, 0.0], 1.0, 1.0, 1.0, 0.5, 1.0, 1.0, 283.15, -66807.7360789275, 0.0, 0.0, 0.0, 101325.0, \"sandy_clay_loam\", [[0.0, 0.0, 0.0], [0.0, 0.0, 0.0]], [[0.0, 0.0, 0.0], [0.0, 0.0, 0.0]], [[0.0, 0.0, 0.0], [0.0, 0.0, 0.0]]), Cell([5, 1, 1], [0.0, 0.0, 0.0], 0.2, 1.0, 1.0, 0.1, 1.0, 1.0, 283.15, -66807.7360789275, 0.0, 0.0, 0.0, 101325.0, \"sandy_clay_loam\", [[0.0, 0.0, 0.0], [0.0, 0.0, 0.0]], [[0.0, 0.0, 0.0], [0.0, 0.0, 0.0]], [[0.0, 0.0, 0.0], [0.0, 0.0, 0.0]]), Cell([6, 1, 1], [0.0, 0.0, 0.0], 0.2, 1.0, 1.0, 0.1, 1.0, 1.0, 283.15, -66807.7360789275, 0.0, 0.0, 0.0, 101325.0, \"sandy_clay_loam\", [[0.0, 0.0, 0.0], [0.0, 0.0, 0.0]], [[0.0, 0.0, 0.0], [0.0, 0.0, 0.0]], [[0.0, 0.0, 0.0], [0.0, 0.0, 0.0]]), Cell([7, 1, 1], [0.0, 0.0, 0.0], 0.2, 1.0, 1.0, 0.1, 1.0, 1.0, 283.15, -66807.7360789275, 0.0, 0.0, 0.0, 101325.0, \"sandy_clay_loam\", [[0.0, 0.0, 0.0], [0.0, 0.0, 0.0]], [[0.0, 0.0, 0.0], [0.0, 0.0, 0.0]], [[0.0, 0.0, 0.0], [0.0, 0.0, 0.0]]), Cell([8, 1, 1], [0.0, 0.0, 0.0], 0.1, 1.0, 1.0, 0.05, 1.0, 1.0, 283.15, -66807.7360789275, 0.0, 0.0, 0.0, 101325.0, \"sandy_clay_loam\", [[0.0, 0.0, 0.0], [0.0, 0.0, 0.0]], [[0.0, 0.0, 0.0], [0.0, 0.0, 0.0]], [[0.0, 0.0, 0.0], [0.0, 0.0, 0.0]]), Cell([9, 1, 1], [0.0, 0.0, 0.0], 0.1, 1.0, 1.0, 0.05, 1.0, 1.0, 283.15, -66807.7360789275, 0.0, 0.0, 0.0, 101325.0, \"sandy_clay_loam\", [[0.0, 0.0, 0.0], [0.0, 0.0, 0.0]], [[0.0, 0.0, 0.0], [0.0, 0.0, 0.0]], [[0.0, 0.0, 0.0], [0.0, 0.0, 0.0]]), Cell([10, 1, 1], [0.0, 0.0, 0.0], 0.1, 1.0, 1.0, 0.05, 1.0, 1.0, 283.15, -66807.7360789275, 0.0, 0.0, 0.0, 101325.0, \"sandy_clay_loam\", [[0.0, 0.0, 0.0], [0.0, 0.0, 0.0]], [[0.0, 0.0, 0.0], [0.0, 0.0, 0.0]], [[0.0, 0.0, 0.0], [0.0, 0.0, 0.0]]), Cell([11, 1, 1], [0.0, 0.0, 0.0], 0.02, 1.0, 1.0, 0.01, 1.0, 1.0, 283.15, -66807.7360789275, 0.0, 0.0, 0.0, 101325.0, \"sandy_clay_loam\", [[0.0, 0.0, 0.0], [0.0, 0.0, 0.0]], [[0.0, 0.0, 0.0], [0.0, 0.0, 0.0]], [[0.0, 0.0, 0.0], [0.0, 0.0, 0.0]]), Cell([12, 1, 1], [0.0, 0.0, 0.0], 0.02, 1.0, 1.0, 0.01, 1.0, 1.0, 283.15, -66807.7360789275, 0.0, 0.0, 0.0, 101325.0, \"sandy_clay_loam\", [[0.0, 0.0, 0.0], [0.0, 0.0, 0.0]], [[0.0, 0.0, 0.0], [0.0, 0.0, 0.0]], [[0.0, 0.0, 0.0], [0.0, 0.0, 0.0]]), Cell([13, 1, 1], [0.0, 0.0, 0.0], 0.02, 1.0, 1.0, 0.01, 1.0, 1.0, 283.15, -66807.7360789275, 0.0, 0.0, 0.0, 101325.0, \"sandy_clay_loam\", [[0.0, 0.0, 0.0], [0.0, 0.0, 0.0]], [[0.0, 0.0, 0.0], [0.0, 0.0, 0.0]], [[0.0, 0.0, 0.0], [0.0, 0.0, 0.0]]), Cell([14, 1, 1], [0.0, 0.0, 0.0], 0.01, 1.0, 1.0, 0.005, 1.0, 1.0, 283.15, -66807.7360789275, 0.0, 0.0, 0.0, 101325.0, \"sandy_clay_loam\", [[0.0, 0.0, 0.0], [0.0, 0.0, 0.0]], [[0.0, 0.0, 0.0], [0.0, 0.0, 0.0]], [[0.0, 0.0, 0.0], [0.0, 0.0, 0.0]]), Cell([15, 1, 1], [0.0, 0.0, 0.0], 0.01, 1.0, 1.0, 0.005, 1.0, 1.0, 283.15, -66807.7360789275, 0.0, 0.0, 0.0, 101325.0, \"sandy_clay_loam\", [[0.0, 0.0, 0.0], [0.0, 0.0, 0.0]], [[0.0, 0.0, 0.0], [0.0, 0.0, 0.0]], [[0.0, 0.0, 0.0], [0.0, 0.0, 0.0]]), Cell([16, 1, 1], [0.0, 0.0, 0.0], 0.01, 1.0, 1.0, 0.005, 1.0, 1.0, 283.15, -66807.7360789275, 0.0, 0.0, 0.0, 101325.0, \"sandy_clay_loam\", [[0.0, 0.0, 0.0], [0.0, 0.0, 0.0]], [[0.0, 0.0, 0.0], [0.0, 0.0, 0.0]], [[0.0, 0.0, 0.0], [0.0, 0.0, 0.0]]), Cell([17, 1, 1], [0.0, 0.0, 0.0], 0.01, 1.0, 1.0, 0.01, 1.0, 1.0, 283.15, -66807.7360789275, 0.0, 0.0, 0.0, 101325.0, \"sandy_clay_loam\", [[0.0, 0.0, 0.0], [0.0, 0.0, 0.0]], [[0.0, 0.0, 0.0], [0.0, 0.0, 0.0]], [[0.0, 0.0, 0.0], [0.0, 0.0, 0.0]]), BC_Robin(\"NoName\", Air(0, \"room1\", 0.0, 0.0, 0.0, 125.0, 283.15, 0.6, 0.0, 0.0, 101325.0, 0.0, 0.0, 0.0, 0.0, 0.0, 0.0, 0.0, 0.0, 0.0), Cell([17, 1, 1], [0.0, 0.0, 0.0], 0.01, 1.0, 1.0, 0.01, 1.0, 1.0, 283.15, -66807.7360789275, 0.0, 0.0, 0.0, 101325.0, \"sandy_clay_loam\", [[0.0, 0.0, 0.0], [0.0, 0.0, 0.0]], [[0.0, 0.0, 0.0], [0.0, 0.0, 0.0]], [[0.0, 0.0, 0.0], [0.0, 0.0, 0.0]]), 0.0, 0.0, 0.0, 0.0, 13.4, 9.0, 4.4, 5.115398306232535e-8, Dict(\"LATIl\" => 360.0, \"e\" => 180.0, \"ALTIs\" => -180.0, \"LATIs\" => -180.0, \"a\" => -180.0, \"ALTIl\" => 360.0), 0.9, 0.9)])], Opening[Opening(1, 1, 2, \"gap\", 0.2222, 0.2222, \"VT\", \"E\", \"W\", 0.79, 2.0, 0.0, 1.999, 0.005, 1.5, 1.5, 0.0, 0.1, 0.0, 0.0, 0.0, 0.0, 15.0, 15.0, 0.0, 0.0, 1, Room(1, \"outdoor\", Air(0, \"climate\", 0.0, 0.0, 0.0, 0.0, 276.84999999999997, 0.77, 613.2898775721085, 0.0037877055546582487, 101325.0, 0.0, 0.0, 0.0, 0.0, 0.0, 0.0, 0.0, 0.0, 0.0), 0.0, 0.0, 0.0, 0.0, 0.0, 0.0, \"OFF\"), Room(2, \"room1\", Air(0, \"room1\", 0.0, 0.0, 0.0, 125.0, 283.15, 0.6, 0.0, 0.0, 101325.0, 0.0, 0.0, 0.0, 0.0, 0.0, 0.0, 0.0, 0.0, 0.0), 0.0, 0.0, 0.02, 0.0, 0.0, 0.0, \"OFF\"), 0.0, Dict(\"DWU\" => 0.0, \"W\" => 0.0, \"WU\" => 0.0, \"DW\" => 0.0, \"DWD\" => 0.0, \"WD\" => 0.0)), Opening(2, 1, 2, \"gap\", 0.021, 0.021, \"VT\", \"N\", \"S\", 0.79, 2.0, 0.0, 1.995, 0.01, 1.8, 1.8, 0.0, 0.1, 0.0, 0.0, 0.0, 0.0, 15.0, 15.0, 0.0, 0.0, 1, Room(1, \"outdoor\", Air(0, \"climate\", 0.0, 0.0, 0.0, 0.0, 276.84999999999997, 0.77, 613.2898775721085, 0.0037877055546582487, 101325.0, 0.0, 0.0, 0.0, 0.0, 0.0, 0.0, 0.0, 0.0, 0.0), 0.0, 0.0, 0.0, 0.0, 0.0, 0.0, \"OFF\"), Room(2, \"room1\", Air(0, \"room1\", 0.0, 0.0, 0.0, 125.0, 283.15, 0.6, 0.0, 0.0, 101325.0, 0.0, 0.0, 0.0, 0.0, 0.0, 0.0, 0.0, 0.0, 0.0), 0.0, 0.0, 0.02, 0.0, 0.0, 0.0, \"OFF\"), 0.0, Dict(\"DWU\" => 0.0, \"W\" => 0.0, \"WU\" => 0.0, \"DW\" => 0.0, \"DWD\" => 0.0, \"WD\" => 0.0)), Opening(3, 2, 3, \"gap\", 0.021, 0.021, \"VT\", \"E\", \"W\", 0.79, 2.0, 0.0, 1.995, 0.01, 1.8, 1.8, 0.0, 0.1, 0.0, 0.0, 0.0, 0.0, 15.0, 15.0, 0.0, 0.0, 1, Room(2, \"room1\", Air(0, \"room1\", 0.0, 0.0, 0.0, 125.0, 283.15, 0.6, 0.0, 0.0, 101325.0, 0.0, 0.0, 0.0, 0.0, 0.0, 0.0, 0.0, 0.0, 0.0), 0.0, 0.0, 0.02, 0.0, 0.0, 0.0, \"OFF\"), Room(3, \"room2\", Air(0, \"room2\", 0.0, 0.0, 0.0, 125.0, 283.15, 0.6, 0.0, 0.0, 101325.0, 0.0, 0.0, 0.0, 0.0, 0.0, 0.0, 0.0, 0.0, 0.0), 0.0, 0.0, 0.025, 0.0, 0.0, 0.0, \"OFF\"), 0.0, Dict(\"DWU\" => 0.0, \"W\" => 0.0, \"WU\" => 0.0, \"DW\" => 0.0, \"DWD\" => 0.0, \"WD\" => 0.0)), Opening(4, 1, 3, \"gap\", 0.021, 0.021, \"VT\", \"W\", \"E\", 0.79, 2.0, 0.0, 1.995, 0.01, 1.8, 1.8, 0.0, 0.1, 0.0, 0.0, 0.0, 0.0, 15.0, 15.0, 0.0, 0.0, 1, Room(1, \"outdoor\", Air(0, \"climate\", 0.0, 0.0, 0.0, 0.0, 276.84999999999997, 0.77, 613.2898775721085, 0.0037877055546582487, 101325.0, 0.0, 0.0, 0.0, 0.0, 0.0, 0.0, 0.0, 0.0, 0.0), 0.0, 0.0, 0.0, 0.0, 0.0, 0.0, \"OFF\"), Room(3, \"room2\", Air(0, \"room2\", 0.0, 0.0, 0.0, 125.0, 283.15, 0.6, 0.0, 0.0, 101325.0, 0.0, 0.0, 0.0, 0.0, 0.0, 0.0, 0.0, 0.0, 0.0), 0.0, 0.0, 0.025, 0.0, 0.0, 0.0, \"OFF\"), 0.0, Dict(\"DWU\" => 0.0, \"W\" => 0.0, \"WU\" => 0.0, \"DW\" => 0.0, \"DWD\" => 0.0, \"WD\" => 0.0)), Opening(5, 1, 3, \"gap\", 0.021, 0.021, \"VT\", \"S\", \"N\", 0.79, 2.0, 0.0, 1.995, 0.01, 1.8, 1.8, 0.0, 0.1, 0.0, 0.0, 0.0, 0.0, 15.0, 15.0, 0.0, 0.0, 1, Room(1, \"outdoor\", Air(0, \"climate\", 0.0, 0.0, 0.0, 0.0, 276.84999999999997, 0.77, 613.2898775721085, 0.0037877055546582487, 101325.0, 0.0, 0.0, 0.0, 0.0, 0.0, 0.0, 0.0, 0.0, 0.0), 0.0, 0.0, 0.0, 0.0, 0.0, 0.0, \"OFF\"), Room(3, \"room2\", Air(0, \"room2\", 0.0, 0.0, 0.0, 125.0, 283.15, 0.6, 0.0, 0.0, 101325.0, 0.0, 0.0, 0.0, 0.0, 0.0, 0.0, 0.0, 0.0, 0.0), 0.0, 0.0, 0.025, 0.0, 0.0, 0.0, \"OFF\"), 0.0, Dict(\"DWU\" => 0.0, \"W\" => 0.0, \"WU\" => 0.0, \"DW\" => 0.0, \"DWD\" => 0.0, \"WD\" => 0.0))], Climate(DateTime(\"2012-01-01T00:00:00\"), Dict{String, Any}(\"city\" => \"Kyoto\", \"phi\" => 34.983, \"lon\" => 135.678, \"lons\" => 135.0), Air(0, \"climate\", 0.0, 0.0, 0.0, 0.0, 276.84999999999997, 0.77, 613.2898775721085, 0.0037877055546582487, 101325.0, 0.0, 0.0, 0.0, 0.0, 0.0, 0.0, 0.0, 0.0, 0.0), 0.0, 0.0, 1.3, \"北\", 1.0e-50, Dict(\"SOLDN\" => 0.0, \"LATI\" => 179.5946101971122, \"SOLSN\" => 0.0, \"ALTI\" => -78.08261248897362), 0.0, 0, \u001b[1m8784×13 DataFrame\u001b[0m\n",
       "\u001b[1m  Row \u001b[0m│\u001b[1m date                \u001b[0m\u001b[1m temp    \u001b[0m\u001b[1m rh    \u001b[0m\u001b[1m p_atm   \u001b[0m\u001b[1m Jp      \u001b[0m\u001b[1m Js      \u001b[0m\u001b[1m WS    \u001b[0m ⋯\n",
       "      │\u001b[90m DateTime            \u001b[0m\u001b[90m Float64 \u001b[0m\u001b[90m Int64 \u001b[0m\u001b[90m Missing \u001b[0m\u001b[90m Float64 \u001b[0m\u001b[90m Missing \u001b[0m\u001b[90m Float6\u001b[0m ⋯\n",
       "──────┼─────────────────────────────────────────────────────────────────────────\n",
       "    1 │ 2012-01-01T00:00:00      3.7     77 \u001b[90m missing \u001b[0m     0.0 \u001b[90m missing \u001b[0m     1. ⋯\n",
       "    2 │ 2012-01-01T01:00:00      3.9     74 \u001b[90m missing \u001b[0m     0.0 \u001b[90m missing \u001b[0m     1.\n",
       "    3 │ 2012-01-01T02:00:00      3.7     76 \u001b[90m missing \u001b[0m     0.0 \u001b[90m missing \u001b[0m     1.\n",
       "    4 │ 2012-01-01T03:00:00      4.2     74 \u001b[90m missing \u001b[0m     0.0 \u001b[90m missing \u001b[0m     1.\n",
       "    5 │ 2012-01-01T04:00:00      5.0     71 \u001b[90m missing \u001b[0m     0.0 \u001b[90m missing \u001b[0m     1. ⋯\n",
       "    6 │ 2012-01-01T05:00:00      4.7     73 \u001b[90m missing \u001b[0m     0.0 \u001b[90m missing \u001b[0m     1.\n",
       "    7 │ 2012-01-01T06:00:00      4.7     71 \u001b[90m missing \u001b[0m     0.0 \u001b[90m missing \u001b[0m     0.\n",
       "    8 │ 2012-01-01T07:00:00      4.4     75 \u001b[90m missing \u001b[0m     0.0 \u001b[90m missing \u001b[0m     1.\n",
       "    9 │ 2012-01-01T08:00:00      5.2     72 \u001b[90m missing \u001b[0m     0.0 \u001b[90m missing \u001b[0m     1. ⋯\n",
       "   10 │ 2012-01-01T09:00:00      5.7     71 \u001b[90m missing \u001b[0m     0.0 \u001b[90m missing \u001b[0m     1.\n",
       "   11 │ 2012-01-01T10:00:00      6.4     72 \u001b[90m missing \u001b[0m     0.0 \u001b[90m missing \u001b[0m     0.\n",
       "  ⋮   │          ⋮              ⋮       ⋮       ⋮        ⋮        ⋮        ⋮   ⋱\n",
       " 8775 │ 2012-12-31T14:00:00      3.8     66 \u001b[90m missing \u001b[0m     0.0 \u001b[90m missing \u001b[0m     4.\n",
       " 8776 │ 2012-12-31T15:00:00      4.0     66 \u001b[90m missing \u001b[0m     0.0 \u001b[90m missing \u001b[0m     3. ⋯\n",
       " 8777 │ 2012-12-31T16:00:00      3.6     61 \u001b[90m missing \u001b[0m     0.0 \u001b[90m missing \u001b[0m     3.\n",
       " 8778 │ 2012-12-31T17:00:00      3.3     64 \u001b[90m missing \u001b[0m     0.0 \u001b[90m missing \u001b[0m     4.\n",
       " 8779 │ 2012-12-31T18:00:00      3.2     64 \u001b[90m missing \u001b[0m     0.0 \u001b[90m missing \u001b[0m     4.\n",
       " 8780 │ 2012-12-31T19:00:00      2.3     67 \u001b[90m missing \u001b[0m     0.0 \u001b[90m missing \u001b[0m     3. ⋯\n",
       " 8781 │ 2012-12-31T20:00:00      2.8     53 \u001b[90m missing \u001b[0m     0.0 \u001b[90m missing \u001b[0m     3.\n",
       " 8782 │ 2012-12-31T21:00:00      2.7     52 \u001b[90m missing \u001b[0m     0.0 \u001b[90m missing \u001b[0m     4.\n",
       " 8783 │ 2012-12-31T22:00:00      0.8     67 \u001b[90m missing \u001b[0m     0.0 \u001b[90m missing \u001b[0m     3.\n",
       " 8784 │ 2012-12-31T23:00:00      1.7     60 \u001b[90m missing \u001b[0m     0.0 \u001b[90m missing \u001b[0m     4. ⋯\n",
       "\u001b[36m                                                 7 columns and 8763 rows omitted\u001b[0m, [:temp, :rh, :Jp, :WS, :WD, :tau, :pv, :ah], 60), [1; -1; 0;;], [1 1 … 1 1; -1 -1 … 0 0; 0 0 … -1 -1])"
      ]
     },
     "execution_count": 2,
     "metadata": {},
     "output_type": "execute_result"
    }
   ],
   "source": [
    "# 読み込み例\n",
    "test_BNM = create_BNM_model(\n",
    "    file_name_rooms     = \"../input_data/building_network_model/room_condition_for_check.csv\", \n",
    "    file_name_walls     = \"../input_data/building_network_model/wall_condition_for_check.csv\", \n",
    "    file_name_openings  = \"../input_data/building_network_model/opening_condition_for_check.csv\",\n",
    "    file_name_climate   = \"../input_data/climate_data/sample_climate_data.csv\")"
   ]
  },
  {
   "cell_type": "markdown",
   "metadata": {},
   "source": [
    "## 手順１：仮定床面圧力Pの初期値設定"
   ]
  },
  {
   "cell_type": "markdown",
   "metadata": {},
   "source": [
    "### 関数名（Fortran時）：SUBROUTINE PCAL"
   ]
  },
  {
   "cell_type": "markdown",
   "metadata": {},
   "source": [
    "仮定床面圧力[Pa]を求めるための関数（処理）。  \n",
    "各室における床面圧力Pを適当に配置するための関数。  \n",
    "forループ内では余剰や乗算、割り算などを活用することで適当な（計算ができる程度の大きさを持つ）床面圧力を設定している。\n",
    "\n",
    "- （仮定）床面圧力[Pa]\n",
    "- RM：室の数\n",
    "- NNおよびX：部屋の最大数（適当でよい）\n",
    "- XMOD, XMOD1：床面圧力を適当に決めるための変数  \n",
    "\n",
    "※2021/07/27 IRを削除"
   ]
  },
  {
   "cell_type": "code",
   "execution_count": 3,
   "metadata": {},
   "outputs": [
    {
     "data": {
      "text/plain": [
       "set_pf_assumption (generic function with 2 methods)"
      ]
     },
     "execution_count": 3,
     "metadata": {},
     "output_type": "execute_result"
    }
   ],
   "source": [
    "function set_pf_assumption( rooms::Array{Room, 1} )\n",
    "    NN   = 50\n",
    "    XMOD = 10.0e+6\n",
    "    XMOD1= XMOD + 1.0\n",
    "    X    = NN\n",
    "    for i = eachindex(rooms)\n",
    "        rooms[i].pf = mod( X, XMOD1 ) / XMOD\n",
    "        X    = 15.0 * X\n",
    "        if X > 1.0e+20 \n",
    "            X = X / 1.0e+14\n",
    "        end\n",
    "    end\n",
    "    rooms[1].pf = 0.0\n",
    "end\n",
    "\n",
    "set_pf_assumption( BNM::BNM ) = set_pf_assumption( BNM.rooms )"
   ]
  },
  {
   "cell_type": "code",
   "execution_count": 4,
   "metadata": {},
   "outputs": [
    {
     "data": {
      "text/plain": [
       "0.0"
      ]
     },
     "execution_count": 4,
     "metadata": {},
     "output_type": "execute_result"
    }
   ],
   "source": [
    "set_pf_assumption( test_BNM )"
   ]
  },
  {
   "cell_type": "markdown",
   "metadata": {},
   "source": [
    "## 手順2：圧力差の計算"
   ]
  },
  {
   "cell_type": "markdown",
   "metadata": {},
   "source": [
    "#### 関数名（Fortran時）：SUBROUTINE PSCAL"
   ]
  },
  {
   "cell_type": "markdown",
   "metadata": {},
   "source": [
    "上流から下流方向への流れを正とする。  \n",
    "すなわち、圧力差は開口上流圧力 - 開口下流圧力を正とする。"
   ]
  },
  {
   "cell_type": "markdown",
   "metadata": {},
   "source": [
    "### 2.1 起圧力の計算  \n",
    "床面の高さの違いは位置圧に影響を及ぼす。  \n",
    "以下では高さの違いに伴う各床面の圧力について計算を行う。\n",
    "\n",
    "※床面高さの差が無いとした場合の静圧　=　仮定床面圧力  "
   ]
  },
  {
   "cell_type": "code",
   "execution_count": 5,
   "metadata": {},
   "outputs": [
    {
     "data": {
      "text/plain": [
       "cal_Pressuremotive_force (generic function with 1 method)"
      ]
     },
     "execution_count": 5,
     "metadata": {},
     "output_type": "execute_result"
    }
   ],
   "source": [
    "# 起圧力の計算\n",
    "function cal_Pressuremotive_force( opening::Opening )\n",
    "    if opening.room_IP.Hight >= opening.room_IM.Hight\n",
    "        rhoa = 353.25 / temp(opening.room_IM)\n",
    "    else\n",
    "        rhoa = 353.25 / temp(opening.room_IP)\n",
    "    end\n",
    "    return - rhoa * 9.80665 * ( opening.room_IP.Hight - opening.room_IM.Hight )\n",
    "end"
   ]
  },
  {
   "cell_type": "code",
   "execution_count": 6,
   "metadata": {},
   "outputs": [
    {
     "data": {
      "text/plain": [
       "0.250258198482933"
      ]
     },
     "execution_count": 6,
     "metadata": {},
     "output_type": "execute_result"
    }
   ],
   "source": [
    "cal_Pressuremotive_force( test_BNM.openings[1] )"
   ]
  },
  {
   "cell_type": "markdown",
   "metadata": {},
   "source": [
    "### 2.2 風圧力の計算"
   ]
  },
  {
   "cell_type": "markdown",
   "metadata": {},
   "source": [
    "$$\n",
    "    p_w = C p_v = C \\Bigl( \\frac{\\rho}{2}V^2 \\Bigl)\n",
    "$$  "
   ]
  },
  {
   "cell_type": "code",
   "execution_count": 7,
   "metadata": {},
   "outputs": [
    {
     "data": {
      "text/plain": [
       "cal_wind_pressure_force (generic function with 3 methods)"
      ]
     },
     "execution_count": 7,
     "metadata": {},
     "output_type": "execute_result"
    }
   ],
   "source": [
    "# 風圧力の計算\n",
    "function cal_wind_pressure_force( opening::Opening, climate::Climate )\n",
    "    Pw_IP = cal_wind_pressure_force( C = WC_IP(opening), rho = 353.25 / temp(opening.room_IP), v = WS(climate) )\n",
    "    Pw_IM = cal_wind_pressure_force( C = WC_IM(opening), rho = 353.25 / temp(opening.room_IM), v = WS(climate) )\n",
    "    return Pw_IP - Pw_IM\n",
    "end"
   ]
  },
  {
   "cell_type": "code",
   "execution_count": 8,
   "metadata": {},
   "outputs": [
    {
     "data": {
      "text/plain": [
       "set_wind_pressure_coefficient (generic function with 1 method)"
      ]
     },
     "execution_count": 8,
     "metadata": {},
     "output_type": "execute_result"
    }
   ],
   "source": [
    "# 風圧係数の計算\n",
    "function set_wind_pressure_coefficient( BNM::BNM )\n",
    "    for i = 1 : length(BNM.openings)\n",
    "        # 風圧係数の初期化\n",
    "        setfield!(BNM.openings[i], :WC_IP, 0.0)\n",
    "        setfield!(BNM.openings[i], :WC_IM, 0.0)\n",
    "        if BNM.IC_openings[1,i] == 1   # インシデンス行列よりIP側がClimateである場合を判別\n",
    "            WC  = :WC_IP\n",
    "            DIR = :DIR_IP\n",
    "        elseif BNM.IC_openings[1,i] == -1   # インシデンス行列よりIM側がClimateである場合を判別\n",
    "            WC  = :WC_IM\n",
    "            DIR = :DIR_IM\n",
    "        else\n",
    "            continue # 以下の動作をスキップ\n",
    "        end\n",
    "        # 風圧係数のセット\n",
    "        setfield!(BNM.openings[i], WC, \n",
    "                    cal_wind_pressure_coefficient(direction_JP[WD(BNM.climate)] - direction[getfield(BNM.openings[i], DIR)]))\n",
    "    end\n",
    "end"
   ]
  },
  {
   "cell_type": "markdown",
   "metadata": {},
   "source": [
    "### 2.3 圧力差の計算"
   ]
  },
  {
   "cell_type": "code",
   "execution_count": 9,
   "metadata": {},
   "outputs": [
    {
     "data": {
      "text/plain": [
       "reset_dPf_openings (generic function with 1 method)"
      ]
     },
     "execution_count": 9,
     "metadata": {},
     "output_type": "execute_result"
    }
   ],
   "source": [
    "# 圧力差の計算\n",
    "function set_dP_openings( BNM::BNM )\n",
    "    # 風圧係数のセット\n",
    "    set_wind_pressure_coefficient( BNM )\n",
    "    for i = 1 : length( BNM.openings )\n",
    "        dPf = pf(BNM.rooms[IP(BNM.openings[i])]) - pf(BNM.rooms[IM(BNM.openings[i])])\n",
    "        dPs = cal_Pressuremotive_force( BNM.openings[i] )\n",
    "        dPw = cal_wind_pressure_force( BNM.openings[i], BNM.climate )\n",
    "        setfield!(BNM.openings[i], :dP, dPf + dPs + dPw)\n",
    "    end\n",
    "end\n",
    "\n",
    "function reset_dPf_openings( BNM::BNM )\n",
    "    for i = 1 : length( BNM.openings )\n",
    "        dPf = pf(BNM.rooms[IP(BNM.openings[i])]) - pf(BNM.rooms[IM(BNM.openings[i])])\n",
    "        dPs = cal_Pressuremotive_force( BNM.openings[i] )\n",
    "        dPw = cal_wind_pressure_force( BNM.openings[i], BNM.climate )\n",
    "        setfield!(BNM.openings[i], :dP, dPf + dPs + dPw)\n",
    "    end\n",
    "end"
   ]
  },
  {
   "cell_type": "code",
   "execution_count": 10,
   "metadata": {},
   "outputs": [],
   "source": [
    "set_dP_openings( test_BNM )"
   ]
  },
  {
   "cell_type": "markdown",
   "metadata": {},
   "source": [
    "## 手順３：流量計算"
   ]
  },
  {
   "cell_type": "markdown",
   "metadata": {},
   "source": [
    "### 3.1 開口流量の計算"
   ]
  },
  {
   "cell_type": "markdown",
   "metadata": {},
   "source": [
    "#### 関数名（Fortran時）：SUBROUTINE FLCAL  \n",
    "#### 2点間の温度・圧力差から空気の流量を計算する\n",
    "※module_calc_ventilationを用いて計算を行う。  \n",
    "⇒　計算の詳細はmodule_calc_ventilationを参照のこと。\n",
    "\n",
    "※下記の2つは入力条件として存在しないので別途計算が必要  \n",
    "QV：縦方向開口1Pa時[m<sup>3</sup>/s]を長辺長さで割ったもの[m<sup>2</sup>/s]  \n",
    "QH：横方向開口の1Pa時[m<sup>3</sup>/s]を長辺長さで割ったもの[m<sup>2</sup>/s]"
   ]
  },
  {
   "cell_type": "code",
   "execution_count": 11,
   "metadata": {},
   "outputs": [
    {
     "data": {
      "text/plain": [
       "set_flux_ventilation (generic function with 1 method)"
      ]
     },
     "execution_count": 11,
     "metadata": {},
     "output_type": "execute_result"
    }
   ],
   "source": [
    "function cal_flux_ventilation( opening::Opening )\n",
    "    RAW_IP  = 353.25 / temp(opening.room_IP)\n",
    "    RAW_IM  = 353.25 / temp(opening.room_IM)\n",
    "    DRAW    = RAW_IP - RAW_IM\n",
    "    return cal_flux_ventilation(    ION = opening.ION, Type = opening.Type, \n",
    "                                    DP  = opening.dP, \n",
    "                                    DRAW= DRAW, \n",
    "                                    A   = opening.A,    B  = opening.B,     S = opening.S, \n",
    "                                    HU  = opening.HU,   HD = opening.HD, \n",
    "                                    M   = opening.M,    MM = opening.MM, \n",
    "                                    RAW_IP = RAW_IP,    RAW_IM = RAW_IM, \n",
    "                                    QV  = opening.QV,   QH  = opening.QH )\n",
    "end\n",
    "\n",
    "function set_flux_ventilation( BNM::BNM )\n",
    "    # 各開口における流量の計算\n",
    "    for i =  1 :length(BNM.openings)\n",
    "        flux = BNM.openings[i].flux\n",
    "        flux[\"W\"], flux[\"WU\"], flux[\"WD\"], flux[\"DW\"], flux[\"DWU\"], flux[\"DWD\"] = cal_flux_ventilation( BNM.openings[i] )\n",
    "    end\n",
    "end"
   ]
  },
  {
   "cell_type": "code",
   "execution_count": 12,
   "metadata": {},
   "outputs": [],
   "source": [
    "for i = 1 : length(test_BNM.openings)\n",
    "    test_BNM.openings[i].Type = \"gap\"\n",
    "end"
   ]
  },
  {
   "cell_type": "code",
   "execution_count": 13,
   "metadata": {},
   "outputs": [],
   "source": [
    "set_flux_ventilation( test_BNM )"
   ]
  },
  {
   "cell_type": "code",
   "execution_count": null,
   "metadata": {},
   "outputs": [],
   "source": []
  },
  {
   "cell_type": "code",
   "execution_count": 14,
   "metadata": {},
   "outputs": [
    {
     "name": "stdout",
     "output_type": "stream",
     "text": [
      "-60.66205415788184\n",
      "91.73535712188394\n",
      "21.78397436175036\n",
      "-60.08536548582525\n",
      "-69.69254359807347\n"
     ]
    }
   ],
   "source": [
    "for i = 1 : length(test_BNM.openings)\n",
    "    #println(test_BNM.openings[i].dP)\n",
    "    println(test_BNM.openings[i].flux[\"W\"])\n",
    "    #println(cal_flux_ventilation( test_BNM.openings[i] ))\n",
    "end"
   ]
  },
  {
   "cell_type": "markdown",
   "metadata": {},
   "source": [
    "### 3.2 正味の流量を各室に設定"
   ]
  },
  {
   "cell_type": "markdown",
   "metadata": {},
   "source": [
    "#### 関数名（Fortran時）：SUBROUTINE DWCAL  \n",
    "#### 室に流入する正味の流量"
   ]
  },
  {
   "cell_type": "markdown",
   "metadata": {},
   "source": [
    "- V_SM： 同様枝数\n",
    "- DWW：室正味流量\n",
    "- W：開口の正味流量\n",
    "- IC：インシデンス行列"
   ]
  },
  {
   "cell_type": "code",
   "execution_count": 15,
   "metadata": {},
   "outputs": [
    {
     "data": {
      "text/plain": [
       "set_DWW_of_rooms (generic function with 1 method)"
      ]
     },
     "execution_count": 15,
     "metadata": {},
     "output_type": "execute_result"
    }
   ],
   "source": [
    "# 室への正味流量\n",
    "function set_DWW_of_rooms( BNM::BNM )\n",
    "    for i = 1 : length(BNM.rooms)\n",
    "        BNM.rooms[i].DWW = 0.0\n",
    "        for j = 1 : length(BNM.openings)\n",
    "            BNM.rooms[i].DWW = BNM.rooms[i].DWW + BNM.IC_openings[i,j] * BNM.openings[j].flux[\"W\"]\n",
    "        end\n",
    "    end\n",
    "end"
   ]
  },
  {
   "cell_type": "code",
   "execution_count": 16,
   "metadata": {},
   "outputs": [],
   "source": [
    "set_DWW_of_rooms( test_BNM )"
   ]
  },
  {
   "cell_type": "markdown",
   "metadata": {},
   "source": [
    "## 4 圧力仮定法による流量誤差の計算"
   ]
  },
  {
   "cell_type": "markdown",
   "metadata": {},
   "source": [
    "室内における質量収支は行列を用いて以下のように表される。  \n",
    "\n",
    "$$\n",
    "    \\frac{\\partial \\rho V}{\\partial t} = I{w} - {W}\n",
    "$$\n",
    "\n",
    "- $\\rho$：室の密度\n",
    "- $V$：室の体積\n",
    "- $t$：時間\n",
    "- $I$：インシデンス行列\n",
    "- $w$：開口部の正味流量\n",
    "- $W$：室内における質量発生量（CO2など）  \n",
    "\n",
    "なお、エネルギー収支が無条件に満足され、温度変化が無い場合には収支は0となる。  \n",
    "圧力仮定法とはこのように節点での質量収支を満足するよう$w$あるいは各室の圧力を修正する方法である。"
   ]
  },
  {
   "cell_type": "markdown",
   "metadata": {},
   "source": [
    "### 4.1 流量誤差の近似方法"
   ]
  },
  {
   "cell_type": "markdown",
   "metadata": {},
   "source": [
    "全室に関する流量収支の誤差を許容するよう全室の床面圧力を同時に変化させる逐次近似計算法について示す。正確値に対し偏差$\\Delta$を含んだ近似値に対して、次式が成立する。\n",
    "\n",
    "(1) 開口部圧力差pと室圧力Pとの関係\n",
    "$$\n",
    "    (p + \\Delta p) + p_{\\rho} = I' (P+\\Delta P)\n",
    "$$\n",
    "\n",
    "- $P$：正確な値の室圧力\n",
    "- $p$：正確な値の枝圧力差\n",
    "- $p_{\\rho}$：ファンなど動力源により枝に加わる圧力\n",
    "\n",
    "(2) 開口部の正味流量wと圧力差pとの関係\n",
    "$$\n",
    "    w + \\Delta w = f(p, \\rho_i, \\rho_j, \\alpha, b, h)\n",
    "$$\n",
    "\n",
    "(3) 室における濃度収支式\n",
    "$$\n",
    "    \\Delta W =  I ( w + \\Delta w ) - W \n",
    "$$\n"
   ]
  },
  {
   "cell_type": "markdown",
   "metadata": {},
   "source": [
    "近似値が正確値に近いとき、上述の式から正確値を差し引くと偏差の関係式として以下の関係が得られる。  \n",
    "\n",
    "(1') 開口部圧力差pと室圧力Pとの関係\n",
    "$$\n",
    "    \\Delta p = I' \\Delta P\n",
    "$$\n",
    "\n",
    "(2') 開口部の正味流量wと圧力差pとの関係\n",
    "$$\n",
    "    \\Delta w = \\frac{\\partial f}{\\partial p} \\Delta p\n",
    "$$\n",
    "\n",
    "(3') 室における濃度収支式\n",
    "$$\n",
    "    \\Delta W =  I \\Delta w \n",
    "$$\n",
    "\n",
    "なお、(2)式の開口部の正味流量は圧力差に対してTaylor展開し、2次以上の項を無視することで求めた。  \n",
    "\n",
    "従って、式(3')に式(2')および式(1')を代入することで以下の関係式が得られる。  \n",
    "\n",
    "$$\n",
    "    \\Delta W = \\Biggl ( I \\Biggl [ \\frac{\\partial f}{\\partial p} \\Biggl ] I' \\Biggl ) \\Delta P\n",
    "$$\n"
   ]
  },
  {
   "cell_type": "code",
   "execution_count": 17,
   "metadata": {},
   "outputs": [
    {
     "data": {
      "text/plain": [
       "cal_IDD (generic function with 1 method)"
      ]
     },
     "execution_count": 17,
     "metadata": {},
     "output_type": "execute_result"
    }
   ],
   "source": [
    "# 行列を用いた計算\n",
    "function cal_IDD( BNM::BNM )\n",
    "    dfdp = [ BNM.openings[i].flux[\"DW\"] for i = 1 : length(BNM.openings)  ]\n",
    "    return BNM.IC_openings * Diagonal(dfdp) * BNM.IC_openings'\n",
    "end    "
   ]
  },
  {
   "cell_type": "code",
   "execution_count": 18,
   "metadata": {},
   "outputs": [
    {
     "data": {
      "text/plain": [
       "cal_IDD_original (generic function with 1 method)"
      ]
     },
     "execution_count": 18,
     "metadata": {},
     "output_type": "execute_result"
    }
   ],
   "source": [
    "# 従来の計算方法（若干計算速度が速い）\n",
    "function cal_IDD_original( BNM::BNM )\n",
    "    \n",
    "    IDD = zeros(Float64, length(BNM.rooms), length(BNM.rooms))\n",
    "\n",
    "    for i = 1 : length(BNM.openings)\n",
    "        IDD[ BNM.openings[i].IP, BNM.openings[i].IP ] = IDD[BNM.openings[i].IP, BNM.openings[i].IP] + BNM.openings[i].flux[\"DW\"] #([I][∂f/∂p][I'])\n",
    "        IDD[ BNM.openings[i].IP, BNM.openings[i].IM ] = IDD[BNM.openings[i].IP, BNM.openings[i].IM] - BNM.openings[i].flux[\"DW\"]\n",
    "        IDD[ BNM.openings[i].IM, BNM.openings[i].IP ] = IDD[BNM.openings[i].IP, BNM.openings[i].IM]\n",
    "        IDD[ BNM.openings[i].IM, BNM.openings[i].IM ] = IDD[BNM.openings[i].IM, BNM.openings[i].IM] + BNM.openings[i].flux[\"DW\"]\n",
    "    end\n",
    "\n",
    "    return IDD\n",
    "end    "
   ]
  },
  {
   "cell_type": "code",
   "execution_count": 19,
   "metadata": {},
   "outputs": [
    {
     "data": {
      "text/plain": [
       "3×3 Matrix{Float64}:\n",
       "  341.915  -162.196  -179.719\n",
       " -162.196   363.489  -201.292\n",
       " -179.719  -201.292   381.011"
      ]
     },
     "execution_count": 19,
     "metadata": {},
     "output_type": "execute_result"
    }
   ],
   "source": [
    "cal_IDD( test_BNM )"
   ]
  },
  {
   "cell_type": "code",
   "execution_count": 20,
   "metadata": {},
   "outputs": [
    {
     "data": {
      "text/plain": [
       "3×3 Matrix{Float64}:\n",
       "  341.915  -162.196  -179.719\n",
       " -162.196   363.489  -201.292\n",
       " -179.719  -201.292   381.011"
      ]
     },
     "execution_count": 20,
     "metadata": {},
     "output_type": "execute_result"
    }
   ],
   "source": [
    "cal_IDD_original( test_BNM )"
   ]
  },
  {
   "cell_type": "markdown",
   "metadata": {},
   "source": [
    "あるいは、\n",
    "\n",
    "$$\n",
    "    \\Delta P =  \\Biggl (  I \\Biggl [ \\frac{\\partial f}{\\partial p} \\Biggl ] I' \\Biggl )^{-1} \\Delta W\n",
    "$$"
   ]
  },
  {
   "cell_type": "code",
   "execution_count": 21,
   "metadata": {},
   "outputs": [
    {
     "data": {
      "text/plain": [
       "cal_inverse_IDD (generic function with 1 method)"
      ]
     },
     "execution_count": 21,
     "metadata": {},
     "output_type": "execute_result"
    }
   ],
   "source": [
    "# Moore-Penrose逆行列（要検討）\n",
    "function cal_inverse_IDD(BNM::BNM)\n",
    "    return pinv( cal_IDD( BNM ) )\n",
    "    #return inv( cal_IDD( BNM ) )\n",
    "end"
   ]
  },
  {
   "cell_type": "markdown",
   "metadata": {},
   "source": [
    "### 4.2 Newton-Raphson法による収束計算"
   ]
  },
  {
   "cell_type": "markdown",
   "metadata": {},
   "source": [
    "Newton-Raphson法は、方程式の解を数値計算により解くための反復法による求根アルゴリズムの一つである。  \n",
    "室における質量収支が満足される場合、\n",
    "\n",
    "\n",
    "<img src=\"picture/Newton_iteration.png\" width=\"50%\">\n",
    "\n",
    "従って、$P - c \\Delta P$により節点圧力の補正を行っていくこととなる。  \n"
   ]
  },
  {
   "cell_type": "code",
   "execution_count": 22,
   "metadata": {},
   "outputs": [
    {
     "data": {
      "text/plain": [
       "cal_modified_pf_by_Newton_Raphson_method (generic function with 1 method)"
      ]
     },
     "execution_count": 22,
     "metadata": {},
     "output_type": "execute_result"
    }
   ],
   "source": [
    "function cal_modified_pf_by_Newton_Raphson_method( BNM::BNM )\n",
    "\n",
    "    # 補正緩和係数 <= 1.0\n",
    "    ck = 1.0\n",
    "\n",
    "    IDD = cal_inverse_IDD( BNM )\n",
    "    IC  = BNM.IC_openings\n",
    "    #dW  = [ BNM.openings[i].flux[\"DW\"] for i = 1 : length( BNM.openings ) ]\n",
    "    #dW  = [ BNM.openings[i].flux[\"W\"] for i = 1 : length( BNM.openings ) ]\n",
    "    dW  = [ BNM.rooms[i].DWW for i = 1 : length( BNM.rooms ) ]\n",
    "    dP  = IDD * dW\n",
    "    #dP  = IDD * IC * dW\n",
    "    #dP  = IDD * IC\n",
    "    #dP  = IDD\n",
    "    \n",
    "    # 修正圧力計算\n",
    "    #for i = 1 : length( BNM.rooms ) #外気の床面圧力も補正しているが良いのか？\n",
    "    for i = 2 : length( BNM.rooms ) #外気の床面圧力も補正しているが良いのか？\n",
    "        # 各部屋の床面圧力を補正する\n",
    "        BNM.rooms[i].pf = BNM.rooms[i].pf - ck * dP[i]\n",
    "    end\n",
    "\n",
    "    # 開口の圧力差の再計算\n",
    "    for i = 1 : length( BNM.openings )\n",
    "        dPf = pf(BNM.rooms[IP(BNM.openings[i])]) - pf(BNM.rooms[IM(BNM.openings[i])])\n",
    "        setfield!(BNM.openings[i], :dP, BNM.openings[i].dP + dPf )\n",
    "    end\n",
    "    \n",
    "end"
   ]
  },
  {
   "cell_type": "code",
   "execution_count": 23,
   "metadata": {},
   "outputs": [
    {
     "data": {
      "text/plain": [
       "cal_modified_pf_by_Newton_Raphson_method_original (generic function with 1 method)"
      ]
     },
     "execution_count": 23,
     "metadata": {},
     "output_type": "execute_result"
    }
   ],
   "source": [
    "# 逆行列の計算　⇒　inv(x)に変更で良い？\n",
    "function cal_modified_pf_by_Newton_Raphson_method_original( BNM::BNM );\n",
    "\n",
    "    \n",
    "    # 補正緩和係数 <= 1.0\n",
    "    ck = 0.1\n",
    "\n",
    "    IDD = cal_inverse_IDD( BNM )\n",
    "\n",
    "    DDP = zeros(length(BNM.rooms))\n",
    "\n",
    "    for IK = 2 : length(BNM.rooms)\n",
    "        PIVOT = IDD[ IK, IK ]\n",
    "        for IJ = IK : length(BNM.rooms)\n",
    "            IDD[IK,IJ] = IDD[IK,IJ] / PIVOT\n",
    "        end\n",
    "\n",
    "        for I = 2 : length(BNM.rooms)\n",
    "            if I == IK\n",
    "                continue # I == IKならばループの最初に戻る。\n",
    "            end\n",
    "            \n",
    "            CIK = IDD[I,IK] # CIKこの式はcontinueの前では...？\n",
    "            \n",
    "            for IJ = IK : length(BNM.rooms)\n",
    "                IDD[I,IJ] = IDD[I,IJ] - CIK * IDD[IK,IJ]\n",
    "            end\n",
    "        end\n",
    "    end\n",
    "\n",
    "    for i = 2 : length(BNM.rooms)\n",
    "        DDP[i] = IDD[ i, length(BNM.rooms) ]\n",
    "    end\n",
    "\n",
    "    # 修正圧力計算\n",
    "    for i = 2 : length( BNM.rooms )\n",
    "        # 各部屋の床面圧力を補正する\n",
    "        BNM.rooms[i].pf = BNM.rooms[i].pf - ck * DDP[i]\n",
    "    end\n",
    "\n",
    "    # 開口の圧力差の再計算\n",
    "    for i = 1 : length( BNM.openings )\n",
    "        dPf = pf(BNM.rooms[IP(BNM.openings[i])]) - pf(BNM.rooms[IM(BNM.openings[i])])\n",
    "        setfield!(BNM.openings[i], :dP, BNM.openings[i].dP + dPf )\n",
    "    end\n",
    "    \n",
    "\n",
    "end"
   ]
  },
  {
   "cell_type": "code",
   "execution_count": 24,
   "metadata": {},
   "outputs": [],
   "source": [
    "cal_modified_pf_by_Newton_Raphson_method( test_BNM )"
   ]
  },
  {
   "cell_type": "code",
   "execution_count": 25,
   "metadata": {},
   "outputs": [],
   "source": [
    "cal_modified_pf_by_Newton_Raphson_method_original( test_BNM )"
   ]
  },
  {
   "cell_type": "code",
   "execution_count": 26,
   "metadata": {},
   "outputs": [
    {
     "name": "stdout",
     "output_type": "stream",
     "text": [
      "0.0\n",
      "0.0034318428810537842\n",
      "-0.2913410107115428\n"
     ]
    }
   ],
   "source": [
    "for i = 1 : length( test_BNM.rooms ) \n",
    "    println(test_BNM.rooms[i].pf)\n",
    "end"
   ]
  },
  {
   "cell_type": "markdown",
   "metadata": {},
   "source": [
    "## 5. 反復計算"
   ]
  },
  {
   "cell_type": "code",
   "execution_count": 27,
   "metadata": {},
   "outputs": [
    {
     "data": {
      "text/plain": [
       "24"
      ]
     },
     "execution_count": 27,
     "metadata": {},
     "output_type": "execute_result"
    }
   ],
   "source": [
    "maximum([1,24,4])"
   ]
  },
  {
   "cell_type": "code",
   "execution_count": 28,
   "metadata": {},
   "outputs": [
    {
     "data": {
      "text/plain": [
       "201.29246827140744"
      ]
     },
     "execution_count": 28,
     "metadata": {},
     "output_type": "execute_result"
    }
   ],
   "source": [
    "maximum([ abs(test_BNM.openings[i].flux[\"DW\"]) for i = 1:length(test_BNM.openings)] )"
   ]
  },
  {
   "cell_type": "code",
   "execution_count": 29,
   "metadata": {},
   "outputs": [
    {
     "data": {
      "text/plain": [
       "cal_multi_ventilation (generic function with 1 method)"
      ]
     },
     "execution_count": 29,
     "metadata": {},
     "output_type": "execute_result"
    }
   ],
   "source": [
    "function cal_multi_ventilation( BNM::BNM )\n",
    "\n",
    "    step        = 0\n",
    "    step_limit  = 500\n",
    "    count       = 0\n",
    "    ERRLIM      = 1.0e-8\n",
    "\n",
    "    # 1. 仮定床面圧力の設定\n",
    "    set_pf_assumption( BNM )\n",
    "\n",
    "    # 2. 初期の圧力差の計算\n",
    "    set_dP_openings( BNM )\n",
    "\n",
    "    # 収束計算\n",
    "    while true\n",
    "        # 3. 流量計算\n",
    "        set_flux_ventilation( BNM )\n",
    "        set_DWW_of_rooms( BNM )\n",
    "\n",
    "        # 流量誤差の計算\n",
    "        DWWMAX = maximum([ abs(BNM.rooms[i].DWW) for i = 1:length(BNM.rooms)] )\n",
    "\n",
    "        # 収束の判別\n",
    "        if DWWMAX * 3600.0 > ERRLIM\n",
    "            #println(\"step = \", step, \" ERRLIM = \", ERRLIM)\n",
    "            \n",
    "            # 4. 修正圧力計算\n",
    "            cal_modified_pf_by_Newton_Raphson_method( BNM )\n",
    "            #cal_modified_pf_by_Newton_Raphson_method_original( BNM )\n",
    "            \n",
    "            # 収束条件の緩和条件\n",
    "            step = step + 1\n",
    "\n",
    "            if step > step_limit\n",
    "                step    = 0\n",
    "                count   = count + 1\n",
    "                ERRLIM  = ERRLIM * count\n",
    "                println(\" pf1 = \", test_BNM.rooms[1].pf, \" pf2 = \", test_BNM.rooms[2].pf, \" pf3 = \", test_BNM.rooms[3].pf)\n",
    "                println(\" ERRLIM = \", ERRLIM)\n",
    "                println(\" DWWMX = \", DWWMAX)\n",
    "            end\n",
    "        else\n",
    "            break\n",
    "        end\n",
    "    end\n",
    "end"
   ]
  },
  {
   "cell_type": "code",
   "execution_count": 30,
   "metadata": {},
   "outputs": [
    {
     "name": "stdout",
     "output_type": "stream",
     "text": [
      " pf1 = 0.0 pf2 = -0.23629661587016193 pf3 = 0.7569881450601599\n",
      " ERRLIM = 1.0e-8\n",
      " DWWMX = 123.80383015996225\n",
      " pf1 = 0.0 pf2 = -0.6765268409065105 pf3 = 0.35262726342706124\n",
      " ERRLIM = 2.0e-8\n",
      " DWWMX = 247.35285490040405\n",
      " pf1 = 0.0 pf2 = -0.07729088984322552 pf3 = -0.2648508982808928\n",
      " ERRLIM = 6.000000000000001e-8\n",
      " DWWMX = 406.6861902769444\n",
      " pf1 = 0.0 pf2 = 1.4884191490306606 pf3 = -0.9139644642722149\n",
      " ERRLIM = 2.4000000000000003e-7\n",
      " DWWMX = 278.5532249989407\n",
      " pf1 = 0.0 pf2 = 1.41022426294097 pf3 = -1.7592165498351162\n",
      " ERRLIM = 1.2000000000000002e-6\n",
      " DWWMX = 421.82391146420474\n",
      " pf1 = 0.0 pf2 = -1.6788182768318525 pf3 = 0.16083809466198473\n",
      " ERRLIM = 7.2000000000000005e-6\n",
      " DWWMX = 388.3787419500468\n",
      " pf1 = 0.0 pf2 = 0.4811802734623283 pf3 = -0.6237295687233329\n",
      " ERRLIM = 5.0400000000000005e-5\n",
      " DWWMX = 657.335985471315\n",
      " pf1 = 0.0 pf2 = -0.5191838993316682 pf3 = 1.2877308833560077\n",
      " ERRLIM = 0.00040320000000000004\n",
      " DWWMX = 727.5854588462312\n",
      " pf1 = 0.0 pf2 = -2.0883587257496683 pf3 = -1.422894359068201\n",
      " ERRLIM = 0.0036288000000000006\n",
      " DWWMX = 446.0364581414368\n",
      " pf1 = 0.0 pf2 = -0.3099442819908506 pf3 = -3.8325653326195135\n",
      " ERRLIM = 0.03628800000000001\n",
      " DWWMX = 223.14247807048852\n",
      " pf1 = 0.0 pf2 = -2.5916688257189313 pf3 = 0.06281558335551651\n",
      " ERRLIM = 0.3991680000000001\n",
      " DWWMX = 629.6621735617401\n",
      " pf1 = 0.0 pf2 = 3.002747066678282 pf3 = -1.0939064779606777\n",
      " ERRLIM = 4.790016000000001\n",
      " DWWMX = 827.1828828685292\n",
      " pf1 = 0.0 pf2 = 1.4454731565489654 pf3 = 3.209367482847545\n",
      " ERRLIM = 62.27020800000002\n",
      " DWWMX = 433.7468291565599\n",
      " pf1 = 0.0 pf2 = -2.1762604593229957 pf3 = 0.23575531335850286\n",
      " ERRLIM = 871.7829120000002\n",
      " DWWMX = 910.4252716908294\n",
      " pf1 = 0.0 pf2 = 1.6081681261467295 pf3 = 1.009231358004825\n",
      " ERRLIM = 13076.743680000003\n",
      " DWWMX = 822.8036551847345\n",
      " pf1 = 0.0 pf2 = 3.2746833107335025 pf3 = -1.2583041055079156\n",
      " ERRLIM = 209227.89888000005\n",
      " DWWMX = 551.5348689120001\n",
      " pf1 = 0.0 pf2 = -2.261390478416878 pf3 = 0.4249414588328122\n",
      " ERRLIM = 3.556874280960001e6\n",
      " DWWMX = 805.3259235678102\n"
     ]
    }
   ],
   "source": [
    "cal_multi_ventilation( test_BNM )"
   ]
  },
  {
   "cell_type": "code",
   "execution_count": 31,
   "metadata": {},
   "outputs": [
    {
     "name": "stdout",
     "output_type": "stream",
     "text": [
      "628.274536587294\n",
      "78.31691139635714\n",
      "-706.5914479836513\n"
     ]
    }
   ],
   "source": [
    "for i = 1 : length(test_BNM.rooms )\n",
    "    println( test_BNM.rooms[i].DWW )\n",
    "end"
   ]
  },
  {
   "cell_type": "code",
   "execution_count": 32,
   "metadata": {},
   "outputs": [
    {
     "name": "stdout",
     "output_type": "stream",
     "text": [
      "23.784108292061013\n",
      "127.75156127366122\n",
      "229.85258096207937\n",
      "240.0366873456793\n",
      "236.70217967589258\n"
     ]
    }
   ],
   "source": [
    "for i = 1 : length(test_BNM.openings )\n",
    "    println( test_BNM.openings[i].flux[\"W\"] )\n",
    "end"
   ]
  },
  {
   "cell_type": "code",
   "execution_count": null,
   "metadata": {},
   "outputs": [],
   "source": []
  },
  {
   "cell_type": "code",
   "execution_count": null,
   "metadata": {},
   "outputs": [],
   "source": []
  }
 ],
 "metadata": {
  "kernelspec": {
   "display_name": "Julia 1.11.0",
   "language": "julia",
   "name": "julia-1.11"
  },
  "language_info": {
   "file_extension": ".jl",
   "mimetype": "application/julia",
   "name": "julia",
   "version": "1.11.0"
  }
 },
 "nbformat": 4,
 "nbformat_minor": 4
}
