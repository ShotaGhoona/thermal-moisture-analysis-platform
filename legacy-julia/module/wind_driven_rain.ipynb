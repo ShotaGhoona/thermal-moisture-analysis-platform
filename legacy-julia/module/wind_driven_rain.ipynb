{
 "cells": [
  {
   "cell_type": "markdown",
   "metadata": {
    "vscode": {
     "languageId": "plaintext"
    }
   },
   "source": [
    "<br>\n",
    "\n",
    "# 壁面降雨量算定のためのプログラム"
   ]
  },
  {
   "cell_type": "markdown",
   "metadata": {},
   "source": [
    "\n",
    "参考文献：  \n",
    "\n",
    "Bert Blocken and Jan Carmeliet, \"A review of wind-driven rain research in building science\", Journal of wind engineering, pp.1079-1130, 2004\n",
    "\n",
    "Sam Siassi, \"Validating Wind-Driven Rain Module in HAM-Tools\"  \n",
    "\n",
    "ASHRAE 160P 2009(Wu, Ge, and Horvat 2012)  \n",
    "\n",
    "https://buildingscience.com/documents/digests/bsd-148-wufi-simplified-driving-rain-prediction"
   ]
  },
  {
   "cell_type": "markdown",
   "metadata": {},
   "source": [
    "## 1. 壁面降雨量に関する基礎式\n",
    "\n",
    "本プログラムでは垂直面に当たる降雨量の計算式として、風向を考慮した以下の式を用いる。\n",
    "\n",
    "$$\n",
    "    R_{wdr} = \\alpha U R_h \\cos{\\theta}\n",
    "$$\n",
    "\n",
    "- $R_{wdr}$ : 壁面降水量 mm/h\n",
    "- $U$ : 風速 m/s\n",
    "- $R_h$ : 遮るもののない場での水平面降水量 mm/h\n",
    "- $\\theta$ : 風向と壁面に垂直な角度\n",
    "\n",
    "なお、$\\alpha$はWDR係数であり、その測定値については様々な議論がなされている。  \n",
    "参考：Bert Blocken and Jan Carmeliet, \"A review of wind-driven rain research in building science\", Journal of wind engineering, pp.1079-1130, 2004  \n",
    "\n",
    "WDR係数は実測により求めるべき値であるが、ここでは自由場における理論値として0.222 s/mを採用する、"
   ]
  },
  {
   "cell_type": "code",
   "execution_count": null,
   "metadata": {
    "vscode": {
     "languageId": "julia"
    }
   },
   "outputs": [],
   "source": [
    "function cal_WDR_at_wall(Rh::Float64, U::Float64, θ::Float64, α::Float64 = 0.222)\n",
    "    return α * U * Rh * cos(θ)\n",
    "end\n",
    "cal_WDR_at_wall(; Rh::Float64, U::Float64, θ::Float64, α::Float64 = 0.222) = cal_WDR_at_wall(Rh, U, θ, α)"
   ]
  },
  {
   "cell_type": "markdown",
   "metadata": {},
   "source": [
    "なお、建物周辺の環境等を考慮した形として以下の関係式も提案されている。\n",
    "\n",
    "$$\n",
    "    R_{wdr} = F_E F_D F_L U R_h \\cos{\\theta}\n",
    "$$\n",
    "\n",
    "- $R_{wdr}$ : the wind-driven rain in mm/h\n",
    "- $U$ : wind speed in m/s\n",
    "- $R_h$ : the unobstructed horizontal rainfall intensity in mm/h\n",
    "- $\\theta$ : the angle between wind direction and perpendicular to facade\n",
    "- $F_E$ : obtained based on the height of the building and the terrain surrounding it\n",
    "- $F_D$ : the slope of the roof and if the wall material is subject to rain runoff\n",
    "- $F_L$ : the empirical constant"
   ]
  },
  {
   "cell_type": "markdown",
   "metadata": {},
   "source": []
  }
 ],
 "metadata": {
  "language_info": {
   "name": "python"
  }
 },
 "nbformat": 4,
 "nbformat_minor": 2
}
