{
 "cells": [
  {
   "cell_type": "markdown",
   "metadata": {},
   "source": [
    "## ファイルから物性値を取得し、流量計算に適した形に換算するモジュール"
   ]
  },
  {
   "cell_type": "markdown",
   "metadata": {},
   "source": [
    "### 1. 物性値ファイルをインポートするモジュール"
   ]
  },
  {
   "cell_type": "markdown",
   "metadata": {},
   "source": [
    "### 物性値の名称とモジュール名を一致させるためのモジュール"
   ]
  },
  {
   "cell_type": "markdown",
   "metadata": {},
   "source": [
    "#### 物性値モジュールリスト  \n",
    "予め物性値のモジュールはincludeし、辞書型で\"物性値名\"とモジュールを合致させておく必要がある。"
   ]
  },
  {
   "cell_type": "markdown",
   "metadata": {},
   "source": [
    "### 2. 取得した物性値を計算用に換算するクラス  \n",
    "各物性値ファイルに存在する物性値を元の形式のまま取得してくるクラス。  \n",
    "\n",
    "#### 実験から熱水分物性値として考えられるもの  \n",
    "【参考】建築材料の熱・空気・湿気物性値，日本建築学会，丸善株式会社，2001など"
   ]
  },
  {
   "cell_type": "markdown",
   "metadata": {},
   "source": [
    "### 2.1 材料実質部の空隙率・密度・比熱などの物性値を取得するクラス"
   ]
  },
  {
   "cell_type": "markdown",
   "metadata": {},
   "source": [
    "#### 各物性値リストから値を取り出す関数"
   ]
  },
  {
   "cell_type": "markdown",
   "metadata": {},
   "source": [
    "### 2.2 材料の水分特性（吸着力）などの情報を取得するクラス"
   ]
  },
  {
   "cell_type": "markdown",
   "metadata": {},
   "source": [
    "#### 各物性値リストから値を取り出す関数"
   ]
  },
  {
   "cell_type": "markdown",
   "metadata": {},
   "source": [
    "### 2.3 材料特性・含水状態からの熱・水分の移動係数を取得・換算するクラス"
   ]
  },
  {
   "cell_type": "markdown",
   "metadata": {},
   "source": [
    "#### 熱物性値  \n",
    "$\\dot q$：単位時間当たりの熱流量の密度[W/m2]  \n",
    "$\\rho_0$：密度[kg/m3]  \n",
    "$c_0$：比熱[J/kg K]  \n",
    "$c_0\\rho_0$：容積熱容量[J/m3 K]  \n",
    "\n",
    "$\\lambda$：熱伝導率[W/mK]  \n",
    "定義：\n",
    "$$\n",
    "    \\dot q = -\\lambda・grad\\space T\n",
    "$$  \n",
    "\n",
    "$R$：熱抵抗[Km2/W]  "
   ]
  },
  {
   "cell_type": "markdown",
   "metadata": {},
   "source": [
    "#### 水分物性値  \n",
    "$\\dot m_v$：単位時間当たりの水蒸気流量の密度[kg/m2 s]  \n",
    "$\\dot m_m$：単位時間当たりの水分流量の密度[kg/m2 s]  \n",
    "$\\phi$：含水率[m3/m3]  \n",
    "他標記として$w$[kg/m3]、$u$[kg/kg]など  \n",
    "$S$：飽和度[-]  "
   ]
  },
  {
   "cell_type": "markdown",
   "metadata": {},
   "source": [
    "#### 気相水分伝導率  \n",
    "$\\delta_p$：透湿率[kg/m Pa s]　文中記号DP  \n",
    "定義：\n",
    "$$\n",
    "    m_v = -\\delta_p・grad\\space p_v\n",
    "$$  \n",
    "\n",
    "$Z_p$：湿気抵抗[m2Pa s/kg]  \n",
    "$\\delta_v$：水蒸気の拡散係数[m2/s]  \n",
    "定義：\n",
    "$$\n",
    "    \\dot m_v = -\\delta_v・grad\\space \\rho_v\n",
    "$$\n",
    "\n",
    "$k_T$：温度勾配水分伝導率[kg/m K s]  \n",
    "定義：\n",
    "$$\n",
    "    \\dot m_m = -k_T・grad\\space T\n",
    "$$  \n",
    "\n",
    "$D_T$：温度勾配水分拡散係数[m2/K s]  \n",
    "定義：\n",
    "$$\n",
    "    \\dot m_m = -\\rho_0 D_T・grad\\space T\n",
    "$$  \n",
    "\n",
    "$\\lambda^{'}_{\\mu g}$：水分化学ポテンシャル勾配に対する気相水分伝導率[kg/ms (J/kg)]  \n",
    "定義：\n",
    "$$\n",
    "    \\dot m_v = -\\lambda^{'}_{\\mu g}・grad\\space \\mu\n",
    "$$\n",
    "\n",
    "$\\lambda^{'}_{Tg}$：温度勾配に対する気相水分伝導率[kg/ms K]  \n",
    "定義：\n",
    "$$\n",
    "    \\dot m_v = -\\lambda^{'}_{Tg}・grad\\space \\mu\n",
    "$$"
   ]
  },
  {
   "cell_type": "markdown",
   "metadata": {},
   "source": [
    "#### 液相水分伝導率  \n",
    "$k_m$：水分伝導率[kg/m Pa s]  \n",
    "定義：\n",
    "$$\n",
    "    \\dot m_m = -k_m・grad\\space s\n",
    "$$\n",
    "\n",
    "$D_w$：水分拡散係数[m2/s]  \n",
    "定義：\n",
    "$$\n",
    "    \\dot m_m = -\\rho_0 D_w・grad\\space u\n",
    "$$  \n",
    "\n",
    "$\\lambda^{'}_{\\mu l}$：水分化学ポテンシャル勾配に対する液相水分伝導率[kg/ms (J/kg)]  \n",
    "定義：\n",
    "$$\n",
    "    \\dot m_v = -\\lambda^{'}_{\\mu l}・grad\\space \\mu\n",
    "$$"
   ]
  },
  {
   "cell_type": "markdown",
   "metadata": {},
   "source": [
    "#### 空気の拡散係数  \n",
    "$k_a$：透気率[m2/Ks]  \n",
    "\n",
    "\n",
    "※新しい基準で物性値を測定した場合、本クラスに書き加えること\n"
   ]
  },
  {
   "cell_type": "markdown",
   "metadata": {},
   "source": [
    "#### 重力加速度"
   ]
  },
  {
   "cell_type": "markdown",
   "metadata": {},
   "source": [
    "\n",
    "$\\frac{\\partial P_v}{\\partial \\mu}$ ：水蒸気圧を水分化学ポテンシャルで偏微分したもの  \n",
    "$\\frac{\\partial P_v}{\\partial T}$：水蒸気圧を温度で偏微分したもの  "
   ]
  },
  {
   "cell_type": "code",
   "execution_count": 1,
   "metadata": {},
   "outputs": [
    {
     "data": {
      "text/plain": [
       "Main.property_conversion"
      ]
     },
     "execution_count": 1,
     "metadata": {},
     "output_type": "execute_result"
    }
   ],
   "source": [
    "module property_conversion\n",
    "\n",
    "#####################################################\n",
    "# 辞書型データの作成\n",
    "# 材料物性データを保持している辞書型リストの作成\n",
    "prop_list = Dict{String, Any}()\n",
    "\n",
    "# 材料物性データのロード\n",
    "include(string(\"./material_property/bentheimer_sandstone.jl\"))\n",
    "include(string(\"./material_property/benchmark_EN15026.jl\"))\n",
    "include(string(\"./material_property/tuff_motomachi.jl\"))\n",
    "include(string(\"./material_property/tuff_motomachi_v2.jl\"))\n",
    "include(string(\"./material_property/tuff_motomachi_v3.jl\"))\n",
    "include(string(\"./material_property/loamy_sand.jl\"))\n",
    "include(string(\"./material_property/plainfield_sand.jl\"))\n",
    "include(string(\"./material_property/sandy_clay_loam.jl\"))\n",
    "include(string(\"./material_property/mud_wall.jl\"))\n",
    "include(string(\"./material_property/plywood.jl\"))\n",
    "include(string(\"./material_property/extruded_polystyrene.jl\"))\n",
    "include(string(\"./material_property/asphalt_felt.jl\"))\n",
    "include(string(\"./material_property/ceramic_siding.jl\"))\n",
    "include(string(\"./material_property/breathable_water_proof_sheet.jl\"))\n",
    "include(string(\"./material_property/glass_wool_16K.jl\"))\n",
    "include(string(\"./material_property/glass_wool_16K_original.jl\"))\n",
    "include(string(\"./material_property/glass_wool_hokoi.jl\"))\n",
    "include(string(\"./material_property/moisture_proof_sheet.jl\"))\n",
    "include(string(\"./material_property/mortar.jl\"))\n",
    "include(string(\"./material_property/plasterboard.jl\"))\n",
    "include(string(\"./material_property/structural_plywood.jl\"))\n",
    "include(string(\"./material_property/vented_air_space.jl\"))\n",
    "include(string(\"./material_property/concrete_goran.jl\"))\n",
    "include(string(\"./material_property/metal_plate.jl\"))\n",
    "include(string(\"./material_property/paper.jl\"))\n",
    "include(string(\"./material_property/ALC.jl\"))\n",
    "\n",
    "# 辞書の登録\n",
    "prop_list[\"bentheimer_sandstone\"] = bentheimer_sandstone\n",
    "prop_list[\"benchmark_EN15026\"] = benchmark_EN15026\n",
    "prop_list[\"tuff_motomachi\"] = tuff_motomachi\n",
    "prop_list[\"tuff_motomachi_v2\"] = tuff_motomachi_v2\n",
    "prop_list[\"tuff_motomachi_v3\"] = tuff_motomachi_v3\n",
    "prop_list[\"loamy_sand\"] = loamy_sand\n",
    "prop_list[\"plainfield_sand\"] = plainfield_sand\n",
    "prop_list[\"sandy_clay_loam\"] = sandy_clay_loam\n",
    "prop_list[\"mud_wall\"] = mud_wall\n",
    "prop_list[\"plywood\"] = plywood\n",
    "prop_list[\"extruded_polystyrene\"] = extruded_polystyrene\n",
    "prop_list[\"asphalt_felt\"] = asphalt_felt\n",
    "prop_list[\"ceramic_siding\"] = ceramic_siding\n",
    "prop_list[\"extruded_polystyrene\"] = extruded_polystyrene\n",
    "prop_list[\"breathable_water_proof_sheet\"] = breathable_water_proof_sheet\n",
    "prop_list[\"glass_wool_16K\"] = glass_wool_16K\n",
    "prop_list[\"glass_wool_16K_original\"] = glass_wool_16K_original\n",
    "prop_list[\"glass_wool_hokoi\"] = glass_wool_hokoi\n",
    "prop_list[\"moisture_proof_sheet\"] = moisture_proof_sheet\n",
    "prop_list[\"mortar\"] = mortar\n",
    "prop_list[\"plasterboard\"] = plasterboard\n",
    "prop_list[\"structural_plywood\"] = structural_plywood\n",
    "prop_list[\"vented_air_space\"] = vented_air_space\n",
    "prop_list[\"concrete_goran\"] = concrete_goran\n",
    "prop_list[\"metal_plate\"] = metal_plate\n",
    "prop_list[\"paper\"] = paper\n",
    "prop_list[\"ALC\"] = ALC\n",
    "\n",
    "#####################################################\n",
    "const grav = 9.806650\n",
    "\n",
    "include(\"./function/vapour.jl\")\n",
    "include(\"./material_property/liquid_water.jl\")\n",
    "\n",
    "# 関係式\n",
    "# 水蒸気圧の水分化学ポテンシャル微分\n",
    "cal_dpdmiu( cell ) = cal_Pvs( temp = cell.temp ) * exp( cell.miu / Rv / cell.temp ) / Rv / cell.temp\n",
    "\n",
    "# 水蒸気圧の温度微分\n",
    "cal_dpdT( cell ) = exp( cell.miu / Rv / cell.temp ) * ( cal_DPvs( temp = cell.temp ) - cal_Pvs( temp = cell.temp ) * cell.miu / Rv / ( cell.temp^2.0 ) )\n",
    "\n",
    "# 熱容量（液水の熱容量を加えた場合）\n",
    "cal_crow_add_water( cell ) = cell.crow + water_property.Cr * water_property.row * cell.phi\n",
    "\n",
    "\n",
    "######################################################\n",
    "# 材料特性値の取得\n",
    "# 空隙率\n",
    "get_psi(material_name::String) = prop_list[material_name].psi\n",
    "\n",
    "# 比熱\n",
    "get_C(material_name::String) = prop_list[material_name].C\n",
    "\n",
    "# 材料密度\n",
    "get_row(material_name::String) = prop_list[material_name].row\n",
    "\n",
    "# 熱容量\n",
    "get_crow(material_name::String) = prop_list[material_name].crow\n",
    "\n",
    "\n",
    "#######################################################\n",
    "# 水分特性値の取得\n",
    "# 含水率\n",
    "get_phi(cell, material_name::String) = prop_list[material_name].get_phi(cell)\n",
    "\n",
    "# 含水率の水分化学ポテンシャル微分\n",
    "get_dphi(cell, material_name::String) = prop_list[material_name].get_dphi(cell)\n",
    "\n",
    "# 含水率から水分化学ポテンシャルを計算する関数\n",
    "get_miu_by_phi(cell, material_name::String) = prop_list[material_name].get_miu_by_phi(cell)\n",
    "get_miu_by_phi(phi::Float64, material_name::String) = prop_list[material_name].get_miu_by_phi(phi = phi)\n",
    "\n",
    "\n",
    "#######################################################\n",
    "# 移動係数の取得\n",
    "### 熱 ###\n",
    "# 熱伝導率（固体実質部）\n",
    "get_lam(cell, material_name::String) = prop_list[material_name].get_lam(cell)\n",
    "\n",
    "### 水（液） ###\n",
    "# 液相水分伝導率\n",
    "get_dw(cell, material_name::String) = prop_list[material_name].get_dw(cell)\n",
    "get_dw_by_ldml(cell, material_name::String) = prop_list[material_name].get_ldml(cell) / water_property.row * grav\n",
    "\n",
    "# 水分化学ポテンシャル勾配に対する液相水分伝導率\n",
    "get_ldml(cell, material_name::String) = prop_list[material_name].get_ldml(cell)\n",
    "get_ldml_by_dw(cell, material_name::String) = prop_list[material_name].get_dw(cell) * water_property.row / grav\n",
    "\n",
    "### 水（気） ###\n",
    "# 気相水分伝導率\n",
    "get_dp(cell, material_name::String) = prop_list[material_name].get_dp(cell)\n",
    "get_dp_by_ldmg(cell, material_name::String) = prop_list[material_name].get_ldmg(cell) / cal_dpdmiu( cell ) + prop_list[material_name].get_ldtg(cell) / cal_dpdT( cell )\n",
    "\n",
    "# 水分化学ポテンシャル勾配に対する気相水分伝導率\n",
    "get_ldmg(cell, material_name::String) = prop_list[material_name].get_ldmg(cell)\n",
    "get_ldmg_by_dp(cell, material_name::String) = prop_list[material_name].get_dp(cell) * cal_dpdmiu( cell )\n",
    "\n",
    "# 温度勾配に対する気相水分伝導率\n",
    "get_ldtg(cell, material_name::String) = prop_list[material_name].get_ldtg(cell)\n",
    "get_ldtg_by_dp(cell, material_name::String) = prop_list[material_name].get_dp(cell) * cal_dpdT( cell )\n",
    "\n",
    "\n",
    "end"
   ]
  },
  {
   "cell_type": "markdown",
   "metadata": {},
   "source": [
    "## 便利な形へ変更"
   ]
  },
  {
   "cell_type": "code",
   "execution_count": 2,
   "metadata": {},
   "outputs": [
    {
     "data": {
      "text/plain": [
       "set_value_material_property (generic function with 1 method)"
      ]
     },
     "execution_count": 2,
     "metadata": {},
     "output_type": "execute_result"
    }
   ],
   "source": [
    "\n",
    "pc = property_conversion\n",
    "\n",
    "include(\"./material_property/liquid_water.jl\")\n",
    "\n",
    "# 各物性を保持する構造体\n",
    "mutable struct get_function_material_property\n",
    "    psi ; C ; row ; crow ; \n",
    "    phi ; dphi ; miu ;\n",
    "    lam ; dw ; dp ;\n",
    "    ldml;ldmg; ldtg\n",
    "    get_function_material_property() = new()\n",
    "end\n",
    "\n",
    "# 関数形で保持する場合はこちら\n",
    "function set_function_material_property( material_name )\n",
    "    prop = get_function_material_property()\n",
    "    prop.psi  =  pc.get_psi\n",
    "    prop.C    =  pc.get_C\n",
    "    prop.row  =  pc.get_row\n",
    "    prop.crow =  pc.cal_crow_add_water\n",
    "    prop.phi  =  pc.get_phi\n",
    "    prop.dphi =  pc.get_dphi\n",
    "    prop.miu  =  pc.get_miu_by_phi\n",
    "    prop.lam  =  pc.get_lam\n",
    "    prop.dw   =  try; pc.get_dw;   catch; pc.get_dw_by_ldml; end\n",
    "    prop.dp   =  try; pc.get_dp;   catch; pc.get_dp_by_ldmg; end\n",
    "    prop.ldml =  try; pc.get_ldml; catch; pc.get_ldml_by_dw; end\n",
    "    prop.ldmg =  try; pc.get_ldmg; catch; pc.get_ldmg_by_dp; end\n",
    "    prop.ldtg =  try; pc.get_ldtg; catch; pc.get_ldtg_by_dp; end  \n",
    "    return prop\n",
    "end\n",
    "\n",
    "# 物性値と移動係数を分離\n",
    "#　熱水分物性\n",
    "function set_function_hygrothermal_property( material_name )\n",
    "    prop = get_function_material_property()\n",
    "    prop.psi  =  pc.get_psi\n",
    "    prop.C    =  pc.get_C\n",
    "    prop.row  =  pc.get_row\n",
    "    prop.crow =  pc.cal_crow_add_water\n",
    "    prop.phi  =  pc.get_phi\n",
    "    prop.dphi =  pc.get_dphi\n",
    "    prop.miu  =  pc.get_miu_by_phi\n",
    "    return prop\n",
    "end\n",
    "\n",
    "# 移動係数\n",
    "function set_function_transfer_coefficient( material_name )\n",
    "    prop = get_function_material_property()\n",
    "    prop.lam  =  pc.get_lam\n",
    "    prop.dw   =  try; pc.get_dw;   catch; pc.get_dw_by_ldml; end\n",
    "    prop.dp   =  try; pc.get_dp;   catch; pc.get_dp_by_ldmg; end\n",
    "    prop.ldml =  try; pc.get_ldml; catch; pc.get_ldml_by_dw; end\n",
    "    prop.ldmg =  try; pc.get_ldmg; catch; pc.get_ldmg_by_dp; end\n",
    "    prop.ldtg =  try; pc.get_ldtg; catch; pc.get_ldtg_by_dp; end  \n",
    "    return prop\n",
    "end\n",
    "\n",
    "# 値で保持する場合はこちら\n",
    "function set_value_material_property( cell, material_name )\n",
    "    prop = get_function_material_property()\n",
    "    prop.psi  =  pc.get_psi( material_name )\n",
    "    prop.C    =  pc.get_C( material_name )\n",
    "    prop.row  =  pc.get_row( material_name )\n",
    "    prop.crow =  prop.C * prop.row + water_property.Cr * water_property.row * cell.phi\n",
    "    prop.phi  =  pc.get_phi( cell, material_name )\n",
    "    prop.dphi =  pc.get_dphi( cell, material_name )\n",
    "    prop.miu  =  pc.get_miu_by_phi( cell, material_name )\n",
    "    prop.lam  =  pc.get_lam( cell, material_name )\n",
    "    prop.dw   =  try; pc.get_dw( cell, material_name );   catch; pc.get_dw_by_ldml( cell, material_name ); end\n",
    "    prop.dp   =  try; pc.get_dp( cell, material_name );   catch; pc.get_dp_by_ldmg( cell, material_name ); end\n",
    "    prop.ldml =  try; pc.get_ldml( cell, material_name ); catch; pc.get_ldml_by_dw( cell, material_name ); end\n",
    "    prop.ldmg =  try; pc.get_ldmg( cell, material_name ); catch; pc.get_ldmg_by_dp( cell, material_name ); end\n",
    "    prop.ldtg =  try; pc.get_ldtg( cell, material_name ); catch; pc.get_ldtg_by_dp( cell, material_name ); end      \n",
    "    return prop\n",
    "end\n"
   ]
  },
  {
   "cell_type": "markdown",
   "metadata": {},
   "source": [
    "移動係数の有無は\"try/catch\"を使って例外処理する。"
   ]
  },
  {
   "cell_type": "markdown",
   "metadata": {},
   "source": [
    "使用例"
   ]
  },
  {
   "cell_type": "code",
   "execution_count": 3,
   "metadata": {},
   "outputs": [],
   "source": [
    "mutable struct test_prop\n",
    "    temp::Float64\n",
    "    miu::Float64\n",
    "    rh::Float64\n",
    "    pv::Float64\n",
    "    phi::Float64\n",
    "    test_prop() = new()\n",
    "end"
   ]
  },
  {
   "cell_type": "code",
   "execution_count": 4,
   "metadata": {},
   "outputs": [
    {
     "data": {
      "text/plain": [
       "0.14599769813374092"
      ]
     },
     "execution_count": 4,
     "metadata": {},
     "output_type": "execute_result"
    }
   ],
   "source": [
    "tp_v1 = test_prop()\n",
    "tp_v1.temp = 293.15\n",
    "tp_v1.miu  = -23.0\n",
    "tp_v1.phi  = pc.get_phi( tp_v1, \"benchmark_EN15026\" )"
   ]
  },
  {
   "cell_type": "code",
   "execution_count": 5,
   "metadata": {},
   "outputs": [
    {
     "data": {
      "text/plain": [
       "get_function_material_property(0.146, 850.0, 2146.0, 2.435253664272746e6, 0.14599769813374092, 1.6012519825184448e-7, -23.00000000007022, 3.8067636305131067, 1.6151130568635093e-14, 3.0574118219253694e-17, 1.646956969876063e-12, 5.280153258879011e-19, 4.428529887568708e-15)"
      ]
     },
     "execution_count": 5,
     "metadata": {},
     "output_type": "execute_result"
    }
   ],
   "source": [
    "tp_v2 = set_value_material_property( tp_v1, \"benchmark_EN15026\" )"
   ]
  },
  {
   "cell_type": "code",
   "execution_count": 6,
   "metadata": {},
   "outputs": [
    {
     "data": {
      "text/plain": [
       "0.146"
      ]
     },
     "execution_count": 6,
     "metadata": {},
     "output_type": "execute_result"
    }
   ],
   "source": [
    "tp_v2.psi"
   ]
  },
  {
   "cell_type": "code",
   "execution_count": 7,
   "metadata": {},
   "outputs": [
    {
     "data": {
      "text/plain": [
       "850.0"
      ]
     },
     "execution_count": 7,
     "metadata": {},
     "output_type": "execute_result"
    }
   ],
   "source": [
    "tp_v2.C"
   ]
  },
  {
   "cell_type": "code",
   "execution_count": 8,
   "metadata": {},
   "outputs": [
    {
     "data": {
      "text/plain": [
       "2146.0"
      ]
     },
     "execution_count": 8,
     "metadata": {},
     "output_type": "execute_result"
    }
   ],
   "source": [
    "tp_v2.row"
   ]
  },
  {
   "cell_type": "code",
   "execution_count": 9,
   "metadata": {},
   "outputs": [
    {
     "data": {
      "text/plain": [
       "2.435253664272746e6"
      ]
     },
     "execution_count": 9,
     "metadata": {},
     "output_type": "execute_result"
    }
   ],
   "source": [
    "tp_v2.crow"
   ]
  },
  {
   "cell_type": "code",
   "execution_count": 10,
   "metadata": {},
   "outputs": [
    {
     "data": {
      "text/plain": [
       "0.14599769813374092"
      ]
     },
     "execution_count": 10,
     "metadata": {},
     "output_type": "execute_result"
    }
   ],
   "source": [
    "tp_v2.phi"
   ]
  },
  {
   "cell_type": "code",
   "execution_count": 11,
   "metadata": {},
   "outputs": [
    {
     "data": {
      "text/plain": [
       "1.6012519825184448e-7"
      ]
     },
     "execution_count": 11,
     "metadata": {},
     "output_type": "execute_result"
    }
   ],
   "source": [
    "tp_v2.dphi"
   ]
  },
  {
   "cell_type": "code",
   "execution_count": 12,
   "metadata": {},
   "outputs": [
    {
     "data": {
      "text/plain": [
       "-23.00000000007022"
      ]
     },
     "execution_count": 12,
     "metadata": {},
     "output_type": "execute_result"
    }
   ],
   "source": [
    "tp_v2.miu"
   ]
  },
  {
   "cell_type": "code",
   "execution_count": 13,
   "metadata": {},
   "outputs": [
    {
     "data": {
      "text/plain": [
       "3.8067636305131067"
      ]
     },
     "execution_count": 13,
     "metadata": {},
     "output_type": "execute_result"
    }
   ],
   "source": [
    "tp_v2.lam"
   ]
  },
  {
   "cell_type": "code",
   "execution_count": 14,
   "metadata": {},
   "outputs": [
    {
     "data": {
      "text/plain": [
       "1.6151130568635093e-14"
      ]
     },
     "execution_count": 14,
     "metadata": {},
     "output_type": "execute_result"
    }
   ],
   "source": [
    "tp_v2.dw"
   ]
  },
  {
   "cell_type": "code",
   "execution_count": 15,
   "metadata": {},
   "outputs": [
    {
     "data": {
      "text/plain": [
       "3.0574118219253694e-17"
      ]
     },
     "execution_count": 15,
     "metadata": {},
     "output_type": "execute_result"
    }
   ],
   "source": [
    "tp_v2.dp"
   ]
  },
  {
   "cell_type": "code",
   "execution_count": 16,
   "metadata": {},
   "outputs": [
    {
     "data": {
      "text/plain": [
       "1.646956969876063e-12"
      ]
     },
     "execution_count": 16,
     "metadata": {},
     "output_type": "execute_result"
    }
   ],
   "source": [
    "tp_v2.ldml"
   ]
  },
  {
   "cell_type": "code",
   "execution_count": 17,
   "metadata": {},
   "outputs": [
    {
     "data": {
      "text/plain": [
       "5.280153258879011e-19"
      ]
     },
     "execution_count": 17,
     "metadata": {},
     "output_type": "execute_result"
    }
   ],
   "source": [
    "tp_v2.ldmg"
   ]
  },
  {
   "cell_type": "code",
   "execution_count": 18,
   "metadata": {},
   "outputs": [
    {
     "data": {
      "text/plain": [
       "4.428529887568708e-15"
      ]
     },
     "execution_count": 18,
     "metadata": {},
     "output_type": "execute_result"
    }
   ],
   "source": [
    "tp_v2.ldtg"
   ]
  },
  {
   "cell_type": "code",
   "execution_count": null,
   "metadata": {},
   "outputs": [],
   "source": []
  }
 ],
 "metadata": {
  "kernelspec": {
   "display_name": "Julia 1.11.0",
   "language": "julia",
   "name": "julia-1.11"
  },
  "language_info": {
   "file_extension": ".jl",
   "mimetype": "application/julia",
   "name": "julia",
   "version": "1.11.0"
  }
 },
 "nbformat": 4,
 "nbformat_minor": 4
}
