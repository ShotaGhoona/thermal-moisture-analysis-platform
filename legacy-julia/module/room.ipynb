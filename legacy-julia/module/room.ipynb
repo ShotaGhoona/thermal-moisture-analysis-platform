{
 "cells": [
  {
   "cell_type": "markdown",
   "metadata": {},
   "source": [
    "<br>\n",
    "\n",
    "# 室内空間（Room）"
   ]
  },
  {
   "cell_type": "markdown",
   "metadata": {},
   "source": [
    "## 1. 室内空間を定義する構造体  "
   ]
  },
  {
   "cell_type": "code",
   "execution_count": 1,
   "metadata": {},
   "outputs": [
    {
     "data": {
      "text/plain": [
       "Room"
      ]
     },
     "execution_count": 1,
     "metadata": {},
     "output_type": "execute_result"
    }
   ],
   "source": [
    "include(\"air.jl\")\n",
    "\n",
    "Base.@kwdef mutable struct Room\n",
    "    num::Int        = 0         # 室番号\n",
    "    name::String    = \"no name\" # 名称\n",
    "    air::Air        = Air()     # 温度・湿度等の情報\n",
    "    pf::Float64     = 0.0       # 床面圧力[Pa]\n",
    "    ps::Float64     = 0.0       # 起圧力[Pa]\n",
    "    Hight::Float64  = 0.0       # 床面高さ\n",
    "    Qs::Float64     = 0.0       # 発熱量[W]\n",
    "    Js::Float64     = 0.0       # 発湿量[kg/s]\n",
    "    DWW::Float64     = 0.0      # 室への流入する正味の空気流量[kg/s]\n",
    "    AC::String      = \"OFF\"     # エアコンの有無\n",
    "end"
   ]
  },
  {
   "cell_type": "code",
   "execution_count": 2,
   "metadata": {},
   "outputs": [
    {
     "data": {
      "text/plain": [
       "add_J_vent (generic function with 2 methods)"
      ]
     },
     "execution_count": 2,
     "metadata": {},
     "output_type": "execute_result"
    }
   ],
   "source": [
    "########################################\n",
    "# 出力用の関数\n",
    "num(room::Room)     = room.num\n",
    "name(room::Room)    = room.name\n",
    "air(room::Room)     = room.air\n",
    "pf(room::Room)      = room.pf\n",
    "ps(room::Room)      = room.ps\n",
    "Hight(room::Room)   = room.Hight\n",
    "Qs(room::Room)      = room.Ws\n",
    "Js(room::Room)      = room.Js\n",
    "DWW(room::Room)     = room.DWW\n",
    "AC(room::Room)      = room.AC\n",
    "\n",
    "# air内の値の取得\n",
    "temp(room::Room)    = room.air.temp\n",
    "rh(room::Room)      = room.air.rh\n",
    "miu(room::Room)     = convertRH2Miu( temp = room.air.temp, rh = room.air.rh )\n",
    "pv(room::Room)      = convertRH2Pv( temp = room.air.temp, rh = room.air.rh )\n",
    "ah(room::Room)      = convertPv2AH( patm = room.air.p_atm, pv = pv(room.air) )\n",
    "p_atm(room::Room)   = room.air.p_atm\n",
    "dx(room::Room)      = room.air.dx\n",
    "dy(room::Room)      = room.air.dy\n",
    "dz(room::Room)      = room.air.dz\n",
    "vol(room::Room)     = room.air.vol\n",
    "H_in(room::Room)    = room.air.H_in\n",
    "H_wall(room::Room)  = room.air.H_wall\n",
    "H_vent(room::Room)  = room.air.H_vent\n",
    "J_in(room::Room)    = room.air.J_in\n",
    "J_wall(room::Room)  = room.air.J_wall\n",
    "J_vent(room::Room)  = room.air.J_vent\n",
    "\n",
    "########################################\n",
    "# 入力用の関数\n",
    "function set_num(room::Room, num::Int) \n",
    "    room.num    = num end\n",
    "function set_name(room::Room, num::String) \n",
    "    room.name   = name end\n",
    "function set_air(room::Room, air::Air) \n",
    "    room.air    = air end\n",
    "function set_temp(room::Room, temp::Float64) \n",
    "    room.air.temp   = temp  end\n",
    "function set_rh(room::Room, rh::Float64) \n",
    "    room.air.rh     = rh    end\n",
    "function set_pv(room::Room, pv::Float64) \n",
    "    room.air.pv     = pv    end\n",
    "function set_ah(room::Room, ah::Float64) \n",
    "    room.air.ah     = ah    end\n",
    "function set_p_atm(room::Room, p_atm::Float64) \n",
    "    room.air.p_atm  = p_atm end\n",
    "function set_pf(room::Room, pf::Float64) \n",
    "    room.pf     = pf end\n",
    "function set_ps(room::Room, ps::Float64) \n",
    "    room.ps     = ps end\n",
    "function set_Hight(room::Room, Hight::Float64) \n",
    "    room.Hight  = Hight end\n",
    "function set_Qs(room::Room, Qs::Float64) \n",
    "    room.Qs     = Qs end\n",
    "function set_Js(room::Room, Js::Float64) \n",
    "    room.Js     = Js end\n",
    "function set_AC(room::Room, AC::String) \n",
    "    room.AC     = AC end    \n",
    "function set_H_in(room::Room, H_in::Float64) \n",
    "    room.air.H_in   = H_in end    \n",
    "function set_H_wall(room::Room, H_wall::Float64) \n",
    "    room.air.H_wall = H_wall end    \n",
    "function set_H_vent(room::Room, H_vent::Float64) \n",
    "    room.air.H_vent = H_vent end    \n",
    "function set_J_in(room::Room, J_in::Float64) \n",
    "    room.air.J_in   = J_in end    \n",
    "function set_J_wall(room::Room, J_wall::Float64) \n",
    "    room.air.J_wall = J_wall end    \n",
    "function set_J_vent(room::Room, J_vent::Float64) \n",
    "    room.air.J_vent = J_vent end            \n",
    "\n",
    "########################################\n",
    "# 積算用の関数\n",
    "function add_H_in(room::Room, H_in::Float64) \n",
    "    room.air.H_in   = room.air.H_in + H_in end    \n",
    "function add_H_wall(room::Room, H_wall::Float64) \n",
    "    room.air.H_wall = room.air.H_wall + H_wall end    \n",
    "function add_H_vent(room::Room, H_vent::Float64) \n",
    "    room.air.H_vent = room.air.H_vent + H_vent end    \n",
    "function add_J_in(room::Room, J_in::Float64) \n",
    "    room.air.J_in   = room.air.J_in + J_in end    \n",
    "function add_J_wall(room::Room, J_wall::Float64) \n",
    "    room.air.J_wall = room.air.J_wall + J_wall end    \n",
    "function add_J_vent(room::Room, J_vent::Float64) \n",
    "    room.air.J_vent = room.air.J_vent + J_vent end            "
   ]
  },
  {
   "cell_type": "markdown",
   "metadata": {},
   "source": [
    "## 2. 室内空間のデータセットの入力"
   ]
  },
  {
   "cell_type": "code",
   "execution_count": 9,
   "metadata": {},
   "outputs": [
    {
     "data": {
      "text/plain": [
       "input_room_data (generic function with 2 methods)"
      ]
     },
     "execution_count": 9,
     "metadata": {},
     "output_type": "execute_result"
    }
   ],
   "source": [
    "function input_room_data(file_name::String, header::Int = 3)\n",
    "\n",
    "    # 入力ファイルの読み込み\n",
    "    # 相対パスを入力の上指定さえれている場合、\n",
    "    if contains(file_name, \"./\")\n",
    "        file_directory = file_name\n",
    "    # ファイル名＋csvの形で書かれている場合、\n",
    "    elseif contains(file_name, \".csv\")\n",
    "        file_directory = \"../input_data/building_network_model/\"*string(file_name)\n",
    "    # ファイル名のみが書かれている場合、\n",
    "    else\n",
    "        file_directory = \"../input_data/building_network_model/\"*string(file_name)*\".csv\"        \n",
    "    end\n",
    "\n",
    "    # 入力ファイルの読み込み\n",
    "    input_data = CSV.File( file_directory, header = header) |> DataFrame\n",
    "    \n",
    "    # 空の空気データを作成\n",
    "    data = [ Room() for i = 1 : length(input_data.num) ]\n",
    "    \n",
    "    # 入力ファイルに従ってデータを上書き\n",
    "    for i = 1 : length(input_data.num)\n",
    "        data[i].num = Int(input_data.num[i])\n",
    "        data[i].name= input_data.name[i]\n",
    "        data[i].air.name= input_data.name[i]\n",
    "        data[i].air.temp= input_data.temp[i] + 273.15\n",
    "        data[i].air.rh  = input_data.rh[i] / 100.0\n",
    "        data[i].air.vol = Float64(input_data.vol[i])\n",
    "        try data[i].Hight   = input_data.Hight[i] catch end\n",
    "        data[i].Qs  = Float64(input_data.Qs[i])\n",
    "        data[i].Js  = Float64(input_data.Js[i])\n",
    "        data[i].AC  = String(input_data.AC[i])\n",
    "    end\n",
    "    \n",
    "    return data\n",
    "end"
   ]
  },
  {
   "cell_type": "code",
   "execution_count": 10,
   "metadata": {},
   "outputs": [
    {
     "data": {
      "text/plain": [
       "4-element Vector{Room}:\n",
       " Room(1, \"outdoor\", Air(0, \"outdoor\", 0.0, 0.0, 0.0, 1000.0, 283.15, 0.7, 0.0, 0.0, 101325.0, 0.0, 0.0, 0.0, 0.0, 0.0, 0.0, 0.0, 0.0, 0.0), 0.0, 0.0, 0.0, 0.0, 0.0, 0.0, \"OFF\")\n",
       " Room(2, \"underfloor\", Air(0, \"underfloor\", 0.0, 0.0, 0.0, 80.0, 283.15, 0.6, 0.0, 0.0, 101325.0, 0.0, 0.0, 0.0, 0.0, 0.0, 0.0, 0.0, 0.0, 0.0), 0.0, 0.0, 0.01, 0.0, 0.0, 0.0, \"OFF\")\n",
       " Room(3, \"room1\", Air(0, \"room1\", 0.0, 0.0, 0.0, 125.0, 283.15, 0.6, 0.0, 0.0, 101325.0, 0.0, 0.0, 0.0, 0.0, 0.0, 0.0, 0.0, 0.0, 0.0), 0.0, 0.0, 1.0, 0.0, 0.0, 0.0, \"OFF\")\n",
       " Room(4, \"room2\", Air(0, \"room2\", 0.0, 0.0, 0.0, 125.0, 283.15, 0.6, 0.0, 0.0, 101325.0, 0.0, 0.0, 0.0, 0.0, 0.0, 0.0, 0.0, 0.0, 0.0), 0.0, 0.0, 1.0, 0.0, 0.0, 0.0, \"OFF\")"
      ]
     },
     "execution_count": 10,
     "metadata": {},
     "output_type": "execute_result"
    }
   ],
   "source": [
    "# 読み込み例\n",
    "using CSV\n",
    "using DataFrames\n",
    "rooms = input_room_data(\"../input_data/building_network_model/room_condition.csv\")"
   ]
  },
  {
   "cell_type": "code",
   "execution_count": null,
   "metadata": {},
   "outputs": [],
   "source": []
  }
 ],
 "metadata": {
  "kernelspec": {
   "display_name": "Julia 1.11.0",
   "language": "julia",
   "name": "julia-1.11"
  },
  "language_info": {
   "file_extension": ".jl",
   "mimetype": "application/julia",
   "name": "julia",
   "version": "1.11.0"
  }
 },
 "nbformat": 4,
 "nbformat_minor": 2
}
