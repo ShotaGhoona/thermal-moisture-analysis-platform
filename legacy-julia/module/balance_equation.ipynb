{
 "cells": [
  {
   "cell_type": "code",
   "execution_count": null,
   "id": "1a8d23bd-1e6e-4b48-991a-24f607380ecf",
   "metadata": {},
   "outputs": [],
   "source": []
  },
  {
   "cell_type": "code",
   "execution_count": null,
   "id": "4b0b800d-9e84-4b4e-ab09-9f93731e01ce",
   "metadata": {},
   "outputs": [],
   "source": []
  },
  {
   "cell_type": "markdown",
   "id": "c32c90cc-1516-4fab-acda-33bc25ff1b46",
   "metadata": {},
   "source": [
    "</br>\n",
    "\n",
    "# 5. 常微分方程式の解を用いた熱水分収支式"
   ]
  },
  {
   "cell_type": "markdown",
   "id": "6e6724a6-f221-4658-b0fd-2c4c28cebda8",
   "metadata": {},
   "source": [
    "状微分方程式の解を用いた計算では、  \n",
    "- 熱・水分流計算  \n",
    "- 熱・水分収支計算  \n",
    "\n",
    "これらが一括で行われる。従って計算結果で得られる値は温度および水分化学ポテンシャルの2変数である。  \n",
    "\n",
    "以下の関数基本的な使い方としては、  \n",
    "\n",
    "関数名：\n",
    "- cal_newvalue_by_ODE\n",
    "\n",
    "引数（キーワード引数）：\n",
    "- cell_cen : 熱水分収支計算を行うcellを入力する（Porous_material_based_miu内のCell構造体を必ず入力すること）。\n",
    "- cell_mns : cell_cenに対してmns側に位置するcellを入力する（Cell構造体もしくはAir_based_RH内のAir構造体を入力すること）。\n",
    "- cell_pls : cell_cenに対してpls側に位置するcellを入力する（Cell構造体もしくはAir_based_RH内のAir構造体を入力すること）。\n",
    "- dt       : 計算の時間刻みを入力する。\n",
    "- nx       : 重力に対する応答方向を入力する。水平方向の計算なら0、垂直方法（plsが上方向）なら1を入力する（デフォルト値として0を採用している）。\n",
    "- heat_gain     : （主に境界条件用）日射熱取得が存在する場合、値を入力する（デフォルト値は0）。\n",
    "- moisture_gain : （主に境界条件用）降雨など水分取得が存在する場合、値を入力する（デフォルト値は0）。\n",
    "\n",
    "戻り値（複数）：\n",
    "- 実数Float64（温度）, 実数Float64（水分化学ポテンシャル）"
   ]
  },
  {
   "cell_type": "markdown",
   "id": "c2016675-e97b-4eff-9bda-e0d7ae827114",
   "metadata": {},
   "source": [
    "#### 物性値の平均化に関する関数"
   ]
  },
  {
   "cell_type": "code",
   "execution_count": 41,
   "id": "2a7b5224-ac84-4519-afd5-ff89d3fbfa03",
   "metadata": {},
   "outputs": [
    {
     "data": {
      "text/plain": [
       "ldt (generic function with 1 method)"
      ]
     },
     "execution_count": 41,
     "metadata": {},
     "output_type": "execute_result"
    }
   ],
   "source": [
    "lam(cell_mns::Cell, cell_pls::Cell)  = balance_equation_by_ODE.sum_resistance( val_mns = lam(cell_mns),  val_pls = lam(cell_pls),  len_mns = dx2(cell_mns), len_pls = dx2(cell_pls) )\n",
    "ldmg(cell_mns::Cell, cell_pls::Cell) = balance_equation_by_ODE.sum_resistance( val_mns = ldmg(cell_mns), val_pls = ldmg(cell_pls), len_mns = dx2(cell_mns), len_pls = dx2(cell_pls) )\n",
    "ldtg(cell_mns::Cell, cell_pls::Cell) = balance_equation_by_ODE.sum_resistance( val_mns = ldtg(cell_mns), val_pls = ldtg(cell_pls), len_mns = dx2(cell_mns), len_pls = dx2(cell_pls) )\n",
    "ldm(cell_mns::Cell, cell_pls::Cell)  = balance_equation_by_ODE.sum_resistance( val_mns = ldml(cell_mns) + ldmg(cell_mns), val_pls = ldml(cell_pls) + ldmg(cell_pls), len_mns = dx2(cell_mns), len_pls = dx2(cell_pls) )\n",
    "ldt(cell_mns::Cell, cell_pls::Cell)  = balance_equation_by_ODE.sum_resistance( val_mns = ldtl(cell_mns) + ldtg(cell_mns), val_pls = ldtl(cell_pls) + ldtg(cell_pls), len_mns = dx2(cell_mns), len_pls = dx2(cell_pls) )"
   ]
  },
  {
   "cell_type": "markdown",
   "id": "191ea3be-18c3-4c48-97a4-5c2fbe679cdd",
   "metadata": {},
   "source": [
    "## 5.1 多孔質材料中における計算条件"
   ]
  },
  {
   "cell_type": "markdown",
   "id": "5f195cc6-e377-4f9e-a1a8-fd27aac226f4",
   "metadata": {},
   "source": [
    "温度、水分化学ポテンシャルの2値を出力する関数  \n",
    "※2021/07/30 チェック済み"
   ]
  },
  {
   "cell_type": "markdown",
   "id": "1e0ead4d-8274-4125-8ceb-31f6aafac5b0",
   "metadata": {},
   "source": [
    "### 5.1.1 温度計算"
   ]
  },
  {
   "cell_type": "code",
   "execution_count": 42,
   "id": "84429b3f-9504-4686-9b2b-1fe2cc47dc7b",
   "metadata": {},
   "outputs": [
    {
     "data": {
      "text/plain": [
       "cal_newtemp_by_ODE (generic function with 1 method)"
      ]
     },
     "execution_count": 42,
     "metadata": {},
     "output_type": "execute_result"
    }
   ],
   "source": [
    "function cal_newtemp_by_ODE( cell_mns::Cell, cell_cen::Cell, cell_pls::Cell, \n",
    "        dt, heat_gain::Float64 );\n",
    "    val = Porous_material_based_miu\n",
    "    ODE = balance_equation_by_ODE\n",
    "    \n",
    "    r = ODE.latent_heat(val.temp(cell_cen))\n",
    "    \n",
    "    # A1の計算\n",
    "    A1 = ODE.cal_A1( crow = val.crow(cell_cen), vol = val.dx(cell_cen) )\n",
    "    \n",
    "    c1 = ODE.cal_c1( lam_mns = lam(cell_mns, cell_cen), lam_pls = lam(cell_cen, cell_pls), ldtg_mns = ldtg(cell_mns, cell_cen), ldtg_pls = ldtg(cell_cen, cell_pls), \n",
    "        r = r, dx2_mns = val.dx2(cell_mns), dx2_pls = val.dx2(cell_pls))\n",
    "    c2 = ODE.cal_c2( temp_mns = val.temp(cell_mns), temp_pls = val.temp(cell_pls), miu_mns = val.miu(cell_mns), miu_pls = val.miu(cell_pls), miu_cen = val.miu(cell_cen), \n",
    "        lam_mns = lam(cell_mns, cell_cen), lam_pls = lam(cell_cen, cell_pls), ldmg_mns = ldmg(cell_mns, cell_cen), ldmg_pls = ldmg(cell_cen, cell_pls), ldtg_mns = ldtg(cell_mns, cell_cen), ldtg_pls = ldtg(cell_cen, cell_pls),\n",
    "        r = r, dx2_mns = val.dx2(cell_mns), dx2_pls = val.dx2(cell_pls))    \n",
    "    \n",
    "    return ODE.cal_newtemp( val.temp(cell_cen), A1, c1, c2, dt)\n",
    "end"
   ]
  },
  {
   "cell_type": "markdown",
   "id": "948d8850-5e5e-4ce1-8d9e-3c7f9ea9666c",
   "metadata": {},
   "source": [
    "### 5.1.2 水分化学ポテンシャル計算"
   ]
  },
  {
   "cell_type": "code",
   "execution_count": 43,
   "id": "dff29168-ae74-4dc3-9336-17e8ab8ef587",
   "metadata": {},
   "outputs": [
    {
     "data": {
      "text/plain": [
       "cal_newmiu_by_ODE (generic function with 1 method)"
      ]
     },
     "execution_count": 43,
     "metadata": {},
     "output_type": "execute_result"
    }
   ],
   "source": [
    "function cal_newmiu_by_ODE( cell_mns::Cell, cell_cen::Cell, cell_pls::Cell, \n",
    "        dt, nx::Float64, moisture_gain::Float64 );\n",
    "    val = Porous_material_based_miu\n",
    "    ODE = balance_equation_by_ODE\n",
    "    \n",
    "    # A2の計算\n",
    "    A2 = ODE.cal_A2( vol  = val.dx(cell_cen),  dphi = val.dphi(cell_cen) )\n",
    "    \n",
    "    c3 = ODE.cal_c3( ldm_mns = ldm(cell_mns, cell_cen), ldm_pls = ldm(cell_cen, cell_pls), dx2_mns = val.dx2(cell_mns), dx2_pls = val.dx2(cell_pls))    \n",
    "    # ここでは液水の温度勾配水分拡散係数は無視している。\n",
    "    c4 = ODE.cal_c4( temp_mns = val.temp(cell_mns), temp_pls = val.temp(cell_pls), temp_cen = val.temp(cell_cen), miu_mns = val.miu(cell_mns), miu_pls = val.miu(cell_pls),\n",
    "        ldm_mns = ldm(cell_mns, cell_cen), ldm_pls = ldm(cell_cen, cell_pls), ldt_mns = ldtg(cell_mns, cell_cen), ldt_pls = ldtg(cell_cen, cell_pls), \n",
    "        dx2_mns = val.dx2(cell_mns), dx2_pls = val.dx2(cell_pls), nx = nx )\n",
    "    \n",
    "    return ODE.cal_newmiu( val.miu(cell_cen), A2, c3, c4, dt)\n",
    "end"
   ]
  },
  {
   "cell_type": "markdown",
   "id": "931a679b-51ca-4632-a101-ba5c0c53c122",
   "metadata": {},
   "source": [
    "\n",
    "## 5.2 mns側（先端）が空気の場合の計算条件"
   ]
  },
  {
   "cell_type": "markdown",
   "id": "0cc6fb87-ceca-40ef-bfe0-f0f4a1879270",
   "metadata": {},
   "source": [
    "### 5.2.1 温度計算"
   ]
  },
  {
   "cell_type": "code",
   "execution_count": 44,
   "id": "a1b05beb-930f-46ab-88c6-4983316b6ef4",
   "metadata": {},
   "outputs": [
    {
     "data": {
      "text/plain": [
       "4.195672904856689e-6"
      ]
     },
     "execution_count": 44,
     "metadata": {},
     "output_type": "execute_result"
    }
   ],
   "source": [
    "aldt(air)"
   ]
  },
  {
   "cell_type": "code",
   "execution_count": 45,
   "id": "154b6c98-f70c-4dc3-9e18-2c1b22544200",
   "metadata": {},
   "outputs": [
    {
     "data": {
      "text/plain": [
       "5.282407437407904e-5"
      ]
     },
     "execution_count": 45,
     "metadata": {},
     "output_type": "execute_result"
    }
   ],
   "source": [
    "ldtg(cell1) / cell1.dx2"
   ]
  },
  {
   "cell_type": "code",
   "execution_count": 46,
   "id": "65df45c1-660c-4e8f-91fb-92c42df4f0fd",
   "metadata": {},
   "outputs": [
    {
     "data": {
      "text/plain": [
       "cal_newtemp_by_ODE (generic function with 2 methods)"
      ]
     },
     "execution_count": 46,
     "metadata": {},
     "output_type": "execute_result"
    }
   ],
   "source": [
    "# mnsが空気(air)、cenが壁表面(surf)、plsが壁内部(wall)\n",
    "function cal_newtemp_by_ODE( cell_mns::Air, cell_cen::Cell, cell_pls::Cell, \n",
    "        dt, heat_gain::Float64 );\n",
    "    valw = Porous_material_based_miu\n",
    "    vala = Air_based_RH\n",
    "    ODE = balance_equation_by_ODE\n",
    "    \n",
    "    r = ODE.latent_heat(valw.temp(cell_cen))\n",
    "    \n",
    "    # A2の計算\n",
    "    A1 = ODE.cal_A1( crow = valw.crow(cell_cen), vol = valw.dx(cell_cen) )\n",
    "    \n",
    "    c1 = ODE.cal_c1_BC( \n",
    "        lam   = lam(cell_cen, cell_pls), \n",
    "        ldtg  = ldtg(cell_cen, cell_pls), \n",
    "        alpha = alpha(cell_mns), \n",
    "        aldt  = aldt(cell_mns), \n",
    "        r = r, \n",
    "        dx2 = valw.dx2(cell_cen) + valw.dx2(cell_pls))\n",
    "    c2 = ODE.cal_c2_BC( \n",
    "        temp_wall = valw.temp(cell_pls), temp_air = vala.temp(cell_mns), \n",
    "        miu_wall = valw.miu(cell_pls), miu_air = vala.miu(cell_mns), miu_surf = valw.miu(cell_cen), \n",
    "        lam   = lam(cell_cen, cell_pls), \n",
    "        ldmg  = ldmg(cell_cen, cell_pls), \n",
    "        ldtg  = ldtg(cell_cen, cell_pls), \n",
    "        alpha = alpha(cell_mns), \n",
    "        aldmu = aldmu(cell_mns), \n",
    "        aldt  = aldt(cell_mns),\n",
    "        r = r, \n",
    "        dx2 = valw.dx2(cell_cen) + valw.dx2(cell_pls), \n",
    "        heat_gain = heat_gain )    \n",
    "    return ODE.cal_newtemp( valw.temp(cell_cen), A1, c1, c2, dt)\n",
    "end"
   ]
  },
  {
   "cell_type": "markdown",
   "id": "56158a00-a56d-4a1f-8f93-26e81f6dc3ca",
   "metadata": {},
   "source": [
    "### 5.2.2 水分化学ポテンシャル計算"
   ]
  },
  {
   "cell_type": "code",
   "execution_count": 47,
   "id": "a99cdb62-8e0b-43a7-9631-76ddc14646ed",
   "metadata": {},
   "outputs": [
    {
     "data": {
      "text/plain": [
       "cal_newmiu_by_ODE (generic function with 2 methods)"
      ]
     },
     "execution_count": 47,
     "metadata": {},
     "output_type": "execute_result"
    }
   ],
   "source": [
    "# mnsが空気(air)、cenが壁表面(surf)、plsが壁内部(wall)\n",
    "function cal_newmiu_by_ODE( cell_mns::Air, cell_cen::Cell, cell_pls::Cell, \n",
    "        dt, nx::Float64, moisture_gain::Float64 );\n",
    "    valw = Porous_material_based_miu\n",
    "    vala = Air_based_RH\n",
    "    ODE = balance_equation_by_ODE\n",
    "    \n",
    "    # A2の計算\n",
    "    A2 = ODE.cal_A2( vol  = valw.dx(cell_cen),  dphi = valw.dphi(cell_cen) )\n",
    "    \n",
    "    c3 = ODE.cal_c3_BC(\n",
    "        ldm   = ldm(cell_cen, cell_pls), \n",
    "        aldmu = aldmu(cell_mns), \n",
    "        dx2   = valw.dx2(cell_cen) + valw.dx2(cell_pls))\n",
    "    c4 = ODE.cal_c4_BC(\n",
    "        temp_wall = valw.temp(cell_pls), temp_air = vala.temp(cell_mns), temp_surf = valw.temp(cell_cen), \n",
    "        miu_wall  = valw.miu(cell_pls),  miu_air  = vala.miu(cell_mns),\n",
    "        ldm       = ldm(cell_cen, cell_pls), \n",
    "        ldt       = ldtg(cell_cen, cell_pls), \n",
    "        aldmu     = aldmu(cell_mns), \n",
    "        aldt      = aldt(cell_mns), \n",
    "        dx2       = valw.dx2(cell_cen) + valw.dx2(cell_pls), \n",
    "        nx        = nx, \n",
    "        moisture_gain = moisture_gain)    \n",
    "    return ODE.cal_newmiu( valw.miu(cell_cen), A2, c3, c4, dt)\n",
    "end"
   ]
  },
  {
   "cell_type": "markdown",
   "id": "8aa30beb-01ae-4147-8832-e99ccfcc26ac",
   "metadata": {},
   "source": [
    "## 5.3 pls側（先端）が空気の場合の計算条件"
   ]
  },
  {
   "cell_type": "markdown",
   "id": "7f5ee401-f8cf-4d86-b1fc-e4ed103aa9ff",
   "metadata": {},
   "source": [
    "### 5.3.1 温度計算"
   ]
  },
  {
   "cell_type": "code",
   "execution_count": 48,
   "id": "973c9b8d-cbcd-43e8-8532-4c899ea3cbd3",
   "metadata": {},
   "outputs": [
    {
     "data": {
      "text/plain": [
       "cal_newtemp_by_ODE (generic function with 3 methods)"
      ]
     },
     "execution_count": 48,
     "metadata": {},
     "output_type": "execute_result"
    }
   ],
   "source": [
    "# mnsが壁内部(wall)、cenが壁表面(surf)、plsが空気(air)\n",
    "function cal_newtemp_by_ODE( cell_mns::Cell, cell_cen::Cell, cell_pls::Air, \n",
    "        dt, heat_gain::Float64 );\n",
    "    valw = Porous_material_based_miu\n",
    "    vala = Air_based_RH\n",
    "    ODE = balance_equation_by_ODE\n",
    "    \n",
    "    r = ODE.latent_heat(valw.temp(cell_cen))\n",
    "    \n",
    "    # A1の計算\n",
    "    A1 = ODE.cal_A1( crow = valw.crow(cell_cen), vol = valw.dx(cell_cen) )\n",
    "    \n",
    "    c1 = ODE.cal_c1_BC( \n",
    "        lam   = lam(cell_mns, cell_cen), \n",
    "        ldtg  = ldtg(cell_mns, cell_cen), \n",
    "        alpha = alpha(cell_pls), \n",
    "        aldt  = aldt( cell_pls), \n",
    "        r     = r, \n",
    "        dx2   = valw.dx2(cell_cen) + valw.dx2(cell_mns))\n",
    "    c2 = ODE.cal_c2_BC( \n",
    "        temp_wall = valw.temp(cell_mns), temp_air = vala.temp(cell_pls), \n",
    "        miu_wall  = valw.miu(cell_mns),  miu_air  = vala.miu(cell_pls), miu_surf = valw.miu(cell_cen), \n",
    "        lam   = lam(cell_mns, cell_cen), \n",
    "        ldmg  = ldmg(cell_mns, cell_cen), \n",
    "        ldtg  = ldtg(cell_mns, cell_cen), \n",
    "        alpha = alpha(cell_pls), \n",
    "        aldmu = aldmu(cell_pls), \n",
    "        aldt  = aldt(cell_pls),\n",
    "        r = r, \n",
    "        dx2 = valw.dx2(cell_cen) + valw.dx2(cell_mns), \n",
    "        heat_gain = heat_gain )\n",
    "    return ODE.cal_newtemp( valw.temp(cell_cen), A1, c1, c2, dt)\n",
    "end"
   ]
  },
  {
   "cell_type": "markdown",
   "id": "49e3bf36-c806-40dd-905d-92fed1cb4603",
   "metadata": {},
   "source": [
    "### 5.3.2 水分化学ポテンシャル計算"
   ]
  },
  {
   "cell_type": "code",
   "execution_count": 49,
   "id": "fc048370-47f3-41c2-b8fd-d7f30d38f575",
   "metadata": {},
   "outputs": [
    {
     "data": {
      "text/plain": [
       "cal_newmiu_by_ODE (generic function with 3 methods)"
      ]
     },
     "execution_count": 49,
     "metadata": {},
     "output_type": "execute_result"
    }
   ],
   "source": [
    "# mnsが壁内部(wall)、cenが壁表面(surf)、plsが空気(air)\n",
    "function cal_newmiu_by_ODE( cell_mns::Cell, cell_cen::Cell, cell_pls::Air, \n",
    "        dt, nx::Float64, moisture_gain::Float64 );\n",
    "    valw = Porous_material_based_miu\n",
    "    vala = Air_based_RH\n",
    "    ODE = balance_equation_by_ODE\n",
    "    \n",
    "    r = ODE.latent_heat(valw.temp(cell_cen))\n",
    "    \n",
    "    # A2の計算\n",
    "    A2 = ODE.cal_A2( vol  = valw.dx(cell_cen),  dphi = valw.dphi(cell_cen) )\n",
    "    \n",
    "    c3 = ODE.cal_c3_BC( \n",
    "        ldm   = ldm(cell_mns, cell_cen), \n",
    "        aldmu = aldmu(cell_pls), \n",
    "        dx2   = valw.dx2(cell_cen) + valw.dx2(cell_mns))\n",
    "    c4 = ODE.cal_c4_BC( \n",
    "        temp_wall = valw.temp(cell_mns), temp_air = vala.temp(cell_pls), temp_surf = valw.temp(cell_cen), \n",
    "        miu_wall  = valw.miu(cell_mns),  miu_air  = vala.miu(cell_pls),\n",
    "        ldm   = ldm(cell_mns, cell_cen), \n",
    "        ldt   = ldtg(cell_mns, cell_cen), \n",
    "        aldmu = aldmu(cell_pls), \n",
    "        aldt  = aldt(cell_pls), \n",
    "        dx2   = valw.dx2(cell_cen) + valw.dx2(cell_mns), \n",
    "        nx    = nx, \n",
    "        moisture_gain = moisture_gain)    \n",
    "    return ODE.cal_newmiu( valw.miu(cell_cen), A2, c3, c4, dt)   \n",
    "end"
   ]
  },
  {
   "cell_type": "markdown",
   "id": "8511300e-1817-4de3-8cd5-ddb6a87191f0",
   "metadata": {},
   "source": [
    "### 補足：キーワード変数として関数を再構築"
   ]
  },
  {
   "cell_type": "code",
   "execution_count": 50,
   "id": "291e03d5-40c0-402e-9382-13991b7f64c3",
   "metadata": {},
   "outputs": [
    {
     "data": {
      "text/plain": [
       "cal_newmiu_by_ODE (generic function with 4 methods)"
      ]
     },
     "execution_count": 50,
     "metadata": {},
     "output_type": "execute_result"
    }
   ],
   "source": [
    "cal_newvalue_by_ODE(; cell_mns, cell_cen, cell_pls, dt, nx = 0.0, heat_gain = 0.0, moisture_gain = 0.0 ) = cal_newvalue_by_ODE( cell_mns, cell_cen, cell_pls, dt, nx, heat_gain, moisture_gain )\n",
    "cal_newtemp_by_ODE( ; cell_mns, cell_cen, cell_pls, dt, heat_gain = 0.0 )               = cal_newtemp_by_ODE( cell_mns, cell_cen, cell_pls, dt, heat_gain )\n",
    "cal_newmiu_by_ODE(  ; cell_mns, cell_cen, cell_pls, dt, nx = 0.0, moisture_gain = 0.0 ) = cal_newmiu_by_ODE(  cell_mns, cell_cen, cell_pls, dt, nx, moisture_gain )"
   ]
  },
  {
   "cell_type": "markdown",
   "id": "c2cb4b20-7965-4833-bf00-89b634d093c1",
   "metadata": {},
   "source": [
    "#### 使用例"
   ]
  },
  {
   "cell_type": "code",
   "execution_count": 51,
   "id": "99b38552-72ed-4b61-b32a-db547da3a49f",
   "metadata": {},
   "outputs": [
    {
     "data": {
      "text/plain": [
       "0.65"
      ]
     },
     "execution_count": 51,
     "metadata": {},
     "output_type": "execute_result"
    }
   ],
   "source": [
    "air.rh"
   ]
  },
  {
   "cell_type": "code",
   "execution_count": 52,
   "id": "6cdff95e-6276-4389-9f55-c302547515e5",
   "metadata": {},
   "outputs": [
    {
     "data": {
      "text/plain": [
       "293.2088456368803"
      ]
     },
     "execution_count": 52,
     "metadata": {},
     "output_type": "execute_result"
    }
   ],
   "source": [
    "cal_newtemp_by_ODE( cell_mns = cell1, cell_cen = cell2, cell_pls = air, dt = 10000000000000.0 )"
   ]
  },
  {
   "cell_type": "code",
   "execution_count": 53,
   "id": "38af405a-2eef-485c-a3d8-5b822e47d7e3",
   "metadata": {},
   "outputs": [
    {
     "data": {
      "text/plain": [
       "-110.31306332325047"
      ]
     },
     "execution_count": 53,
     "metadata": {},
     "output_type": "execute_result"
    }
   ],
   "source": [
    "cal_newmiu_by_ODE( cell_mns = cell1, cell_cen = cell2, cell_pls = air, dt = 100000000000000000.0 )"
   ]
  },
  {
   "cell_type": "code",
   "execution_count": null,
   "id": "e90d09fc-2cbc-451b-a5bf-1fddb3be1983",
   "metadata": {},
   "outputs": [],
   "source": []
  }
 ],
 "metadata": {
  "kernelspec": {
   "display_name": "Julia 1.7.3",
   "language": "julia",
   "name": "julia-1.7"
  },
  "language_info": {
   "file_extension": ".jl",
   "mimetype": "application/julia",
   "name": "julia",
   "version": "1.7.3"
  }
 },
 "nbformat": 4,
 "nbformat_minor": 5
}
