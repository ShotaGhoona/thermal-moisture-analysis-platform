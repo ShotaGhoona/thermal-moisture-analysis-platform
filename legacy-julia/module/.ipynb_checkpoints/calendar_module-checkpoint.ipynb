{
 "cells": [
  {
   "cell_type": "markdown",
   "metadata": {},
   "source": [
    "</br>\n",
    "\n",
    "# カレンダーモジュール"
   ]
  },
  {
   "cell_type": "markdown",
   "metadata": {},
   "source": [
    "計算上用いるのは1.および3.の関数のみ"
   ]
  },
  {
   "cell_type": "markdown",
   "metadata": {},
   "source": [
    "# 1. 現在の年月日を保持する構造体 ：Calendar"
   ]
  },
  {
   "cell_type": "markdown",
   "metadata": {},
   "source": [
    "Calendarとして以下のような構造体を作成する。  \n",
    "なお、計算の時間刻みは場合によっては小数点以下（例えば0.01[s]）などもなるためdec[1/s]（小数点以下の秒数をカウントするための値）を導入しておく。"
   ]
  },
  {
   "cell_type": "code",
   "execution_count": 1,
   "metadata": {},
   "outputs": [],
   "source": [
    "mutable struct Calendar\n",
    "    year::Int  #年\n",
    "    month::Int #月\n",
    "    day::Int   #日\n",
    "    hour::Int  #時\n",
    "    min::Int   #分\n",
    "    sec::Int   #秒\n",
    "    dec::Int   #少数(decimal)\n",
    "    Calendar() = new()\n",
    "end"
   ]
  },
  {
   "cell_type": "code",
   "execution_count": 2,
   "metadata": {},
   "outputs": [
    {
     "data": {
      "text/plain": [
       "construct_Calendar (generic function with 1 method)"
      ]
     },
     "execution_count": 2,
     "metadata": {},
     "output_type": "execute_result"
    }
   ],
   "source": [
    "function construct_Calendar(; year, month, day, hour, min, sec )\n",
    "    calendar = Calendar()\n",
    "    calendar.year = year\n",
    "    calendar.month= month\n",
    "    calendar.day  = day\n",
    "    calendar.hour = hour\n",
    "    calendar.min  = min\n",
    "    calendar.sec  = sec\n",
    "    calendar.dec  = dec\n",
    "    return calendar\n",
    "end"
   ]
  },
  {
   "cell_type": "markdown",
   "metadata": {},
   "source": [
    "使用例"
   ]
  },
  {
   "cell_type": "markdown",
   "metadata": {},
   "source": [
    "</br>\n",
    "\n",
    "# 2.  時間の経過と年月日の対応関係  \n",
    "\n",
    "Calendarを進めていくための関数である。  \n",
    "例えば現在の時刻が10[h]:00[m]:50[s]であったとする。  \n",
    "\n",
    "30[s]後の時刻は、  \n",
    "- ✕10[h]:00[m]:80[s]  \n",
    "- 〇10[h]:01[m]:20[s]\n",
    "\n",
    "であるが、こういった計算を行うためのモジュールである。"
   ]
  },
  {
   "cell_type": "markdown",
   "metadata": {},
   "source": [
    "## 2.1 グレゴリオ暦に基づく各月の最終日を算出する関数  \n",
    "\n",
    "Calendarの基本的なモジュールであるグレゴリオ暦カレンダー関数である。  \n",
    "\n",
    "関数名：\n",
    "- cal_Gregorian_calendar\n",
    "        \n",
    "引数（キーワード引数）：\n",
    "- year(Int64): 年\n",
    "- month(Int64): 月\n",
    "\n",
    "戻り値：\n",
    "- 入力した月の最終日（うるう年を含む）"
   ]
  },
  {
   "cell_type": "code",
   "execution_count": 3,
   "metadata": {},
   "outputs": [
    {
     "data": {
      "text/plain": [
       "cal_Gregorian_calendar (generic function with 1 method)"
      ]
     },
     "execution_count": 3,
     "metadata": {},
     "output_type": "execute_result"
    }
   ],
   "source": [
    "function cal_Gregorian_calendar(; year::Int64, month::Int64 )\n",
    "    # &&(AND演算子)　||(OR演算子)\n",
    "    if month ==2 # うるう年の計算\n",
    "        if( ( mod(year,4)==0 && mod(year,100)≠0) || ( mod(year,400)==0 ) )\n",
    "            lastday = 29\n",
    "        else\n",
    "            lastday = 28\n",
    "        end\n",
    "    elseif( ( month<=7 && mod(month,2) == 1 ) || ( month>=8 && mod(month,2)==0) )\n",
    "        lastday = 31  #1,3,5,7,8,10,12月\n",
    "    else\n",
    "        lastday = 30  #4,6,9,11月\n",
    "    end\n",
    "    \n",
    "    return lastday\n",
    "end"
   ]
  },
  {
   "cell_type": "markdown",
   "metadata": {},
   "source": [
    "## 2.2 微小時間（dt秒）経過後の年月日の出力  \n",
    "\n",
    "時間刻みが1～60[s]の場合、以下の計算式を用いる。\n",
    "\n",
    "関数名：\n",
    "- cal_time_after_dt_second\n",
    "        \n",
    "引数（値のみ）：\n",
    "- date(Calendar): Calendar構造体を引数とする。\n",
    "\n",
    "戻り値：\n",
    "- date(Calendar): 現在の時刻をグレゴリオ暦に合わせた値に変化させる。  \n",
    "\n",
    "\n",
    "例）1999年12月31日 11時59分80秒 ⇒　2000年1月1日 00時00分20秒"
   ]
  },
  {
   "cell_type": "code",
   "execution_count": 4,
   "metadata": {},
   "outputs": [
    {
     "data": {
      "text/plain": [
       "cal_time_after_dt_second (generic function with 1 method)"
      ]
     },
     "execution_count": 4,
     "metadata": {},
     "output_type": "execute_result"
    }
   ],
   "source": [
    "function cal_time_after_dt_second(date::Calendar)\n",
    "    # 秒の計算\n",
    "    if date.sec >= 60;\n",
    "        date.sec = date.sec - 60\n",
    "        date.min = date.min + 1\n",
    "        \n",
    "        # 分の計算\n",
    "        if date.min >= 60;\n",
    "            date.min = date.min - 60\n",
    "            date.hour = date.hour + 1\n",
    "            \n",
    "            # 時の計算\n",
    "            if date.hour >= 24;\n",
    "                date.hour = date.hour - 24\n",
    "                date.day = date.day + 1\n",
    "                lastday = cal_Gregorian_calendar( year = date.year, month = date.month )\n",
    "                \n",
    "                # 日の計算\n",
    "                if date.day > lastday;\n",
    "                    date.day = date.day - lastday\n",
    "                    date.month = date.month + 1\n",
    "                    \n",
    "                    # 月の計算\n",
    "                    if date.month > 12;\n",
    "                        date.month = date.month - 12\n",
    "                        date.year  = date.year  + 1\n",
    "                    end\n",
    "                end\n",
    "            end\n",
    "        end\n",
    "    end\n",
    "    return date\n",
    "end"
   ]
  },
  {
   "cell_type": "markdown",
   "metadata": {},
   "source": [
    "## 2.3 微小時間（数分）経過後の年月日の出力  \n",
    "\n",
    "2.1に同じであるが、時間刻みが60[s]以上の場合こちらを採用する。  \n",
    "\n",
    "2.1の式を用いずこちらの式を用いても良いが、計算回数の短縮のためこのような形式とした。"
   ]
  },
  {
   "cell_type": "code",
   "execution_count": 5,
   "metadata": {},
   "outputs": [
    {
     "data": {
      "text/plain": [
       "cal_time_after_dt_minute (generic function with 1 method)"
      ]
     },
     "execution_count": 5,
     "metadata": {},
     "output_type": "execute_result"
    }
   ],
   "source": [
    "function cal_time_after_dt_minute(date::Calendar)\n",
    "    lastday = cal_Gregorian_calendar( year = date.year, month = date.month )\n",
    "    while true;\n",
    "        if date.sec >= 60;\n",
    "            date.sec = date.sec - 60\n",
    "            date.min = date.min + 1\n",
    "        elseif date.min >= 60;\n",
    "            date.min = date.min - 60\n",
    "            date.hour = date.hour + 1\n",
    "        elseif date.hour >= 24;\n",
    "            date.hour = date.hour - 24\n",
    "            date.day = date.day + 1\n",
    "            lastday = cal_Gregorian_calendar( year = date.year, month = date.month )\n",
    "        elseif date.day > lastday;\n",
    "            date.day = date.day - lastday\n",
    "            date.month = date.month + 1\n",
    "        elseif date.month > 12;\n",
    "            date.month = date.month - 12\n",
    "            date.year  = date.year  + 1\n",
    "        else\n",
    "            break\n",
    "        end\n",
    "    end\n",
    "    return date\n",
    "end"
   ]
  },
  {
   "cell_type": "markdown",
   "metadata": {},
   "source": [
    "# 3. （実用上の関数）微小時間dt経過後の年月日を計算する関数  \n",
    "\n",
    "数値解析に一般的に実装する関数である。  \n",
    "引数としてCalendarと時間刻みdtを入力することで、微小時間経過後のカレンダーが出力される。  \n",
    "\n",
    "関数名：\n",
    "- cal_time_after_dt\n",
    "        \n",
    "引数（値のみ）：\n",
    "- date(Calendar): Calendar構造体を引数とする。\n",
    "- dt(Float64): 時間刻みを引数とする（実数であることに注意）\n",
    "\n",
    "戻り値：\n",
    "- date(Calendar): Calendarとして出力される。 \n",
    "\n",
    "なお、時間刻みdtが1秒以下の場合はまた個別の処理とし設定した。"
   ]
  },
  {
   "cell_type": "code",
   "execution_count": 6,
   "metadata": {},
   "outputs": [
    {
     "data": {
      "text/plain": [
       "cal_time_after_dt (generic function with 1 method)"
      ]
     },
     "execution_count": 6,
     "metadata": {},
     "output_type": "execute_result"
    }
   ],
   "source": [
    "function cal_time_after_dt(;date::Calendar, dt::Float64)\n",
    "    \n",
    "    # dtが数分単位の場合\n",
    "    if dt > 60;\n",
    "        date.sec = date.sec + Int(dt)\n",
    "        date = cal_time_after_dt_minute(date)\n",
    "    \n",
    "    # dtが数秒単位の場合\n",
    "    elseif dt >=1 && dt <= 60\n",
    "        date.sec = date.sec + Int(dt)\n",
    "        date = cal_time_after_dt_second(date)\n",
    "    \n",
    "    # dtが1秒以下（少数）の場合\n",
    "    elseif dt < 1.0\n",
    "        date.dec = date.dec + 1\n",
    "        if date.dec >= Int( 1 / dt )\n",
    "            date.dec = 0\n",
    "            date.sec = date.sec + 1\n",
    "            date = cal_time_after_dt_second(date)\n",
    "        end\n",
    "    end\n",
    "    return date\n",
    "end"
   ]
  },
  {
   "cell_type": "markdown",
   "metadata": {},
   "source": [
    "2 * 24 * 60 * 60 * 182"
   ]
  },
  {
   "cell_type": "markdown",
   "metadata": {},
   "source": [
    "# 以上"
   ]
  }
 ],
 "metadata": {
  "kernelspec": {
   "display_name": "Julia 1.7.3",
   "language": "julia",
   "name": "julia-1.7"
  },
  "language_info": {
   "file_extension": ".jl",
   "mimetype": "application/julia",
   "name": "julia",
   "version": "1.7.3"
  }
 },
 "nbformat": 4,
 "nbformat_minor": 4
}
