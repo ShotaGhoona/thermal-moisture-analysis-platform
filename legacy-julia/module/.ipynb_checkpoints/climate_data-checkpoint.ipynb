{
 "cells": [
  {
   "cell_type": "markdown",
   "id": "57028e7b-332e-4ed0-8739-284b34c46b62",
   "metadata": {},
   "source": [
    "# 外界気象データを扱うモジュール  "
   ]
  },
  {
   "cell_type": "markdown",
   "id": "127a0540-f8c9-46c8-9af5-fa8c2ace781d",
   "metadata": {},
   "source": [
    "2022/09/04現在：未完成\n",
    "\n",
    "## はじめに  \n",
    "本モジュールは測定値として得られている環境データを数値解析に用いるためのモジュールである。　　\n",
    "\n",
    "本モジュールの主な役割は以下の2点である。  \n",
    "- 1. 測定値（csvファイル）を読み込む。input_climate_data(; file_name::String)  \n",
    "- 2. 測定値をもとに、ある時刻における環境値（温度・湿度）を算出する。\n"
   ]
  },
  {
   "cell_type": "code",
   "execution_count": 1,
   "id": "0be9ad67-699d-4908-a592-ae481a6c07d2",
   "metadata": {},
   "outputs": [
    {
     "data": {
      "text/plain": [
       "-90298.14885141041"
      ]
     },
     "execution_count": 1,
     "metadata": {},
     "output_type": "execute_result"
    }
   ],
   "source": [
    "using CSV\n",
    "using DataFrames\n",
    "include(\"calendar_module.jl\")\n",
    "include(\"./module_function/vapour.jl\")"
   ]
  },
  {
   "cell_type": "markdown",
   "id": "bfcb9beb-03c1-43d6-a286-e87a4ca378c9",
   "metadata": {},
   "source": [
    "## 1. 測定値の読み込み方法  \n",
    "### ― 気象庁の測定データをもとに －"
   ]
  },
  {
   "cell_type": "markdown",
   "id": "955e5dbb-ad7c-43cc-bc0b-584a4a226e2c",
   "metadata": {},
   "source": [
    "\n",
    "建物内の熱湿気環境を解析するにあたり、外界気象は第三種境界条件として与えられる。  \n",
    "ここで外界気象は気象ステーションにより測定する場合もあれば、気象庁のデータを活用する場合もある。  \n",
    "以下では気象庁において測定されているデータをもとに以下のモジュールを作成した。\n",
    "\n",
    "#### 気象庁 - 過去の気象データ検索  \n",
    "http://www.data.jma.go.jp/obd/stats/etrn/index.php\n",
    "\n",
    "#### 気象庁 - 過去の気象データ・ダウンロード\n",
    "http://www.data.jma.go.jp/gmd/risk/obsdl/index.php\n"
   ]
  },
  {
   "attachments": {
    "ea1aac6b-e0b2-45ab-9901-68cbc24f5787.PNG": {
     "image/png": "[encoded data removed]"
    }
   },
   "cell_type": "markdown",
   "id": "29ab905e-48af-47da-8c8e-1cbc024d09bb",
   "metadata": {},
   "source": [
    "例えば、大阪の2020年1月1日の1時間ごとデータを参考してみよう。  \n",
    "\n",
    "【参考】：気象庁，過去の気象データ検索，https://www.data.jma.go.jp/obd/stats/etrn/view/hourly_s1.php?prec_no=62&block_no=47772&year=2020&month=1&day=1&view=, 2021/10/19 accessed\n",
    "\n",
    "![キャプチャ.PNG](attachment:ea1aac6b-e0b2-45ab-9901-68cbc24f5787.PNG)"
   ]
  },
  {
   "cell_type": "markdown",
   "id": "c554276d-4e34-4d7c-9f1d-4b76bdaf2a9d",
   "metadata": {
    "tags": []
   },
   "source": [
    "これらの入力データは\"./input_data\"内に格納しておく。  \n",
    "このファイルの読み込み方法として下記の関数を定義しておこう。  \n",
    "例えば、climate_data.csvというファイルを格納しているのであれば、  \n",
    "本関数の引数はfile_name = \"climate_data.csv\"となる。  \n",
    "\n",
    "### ※ヘッダーの位置はまちまちなので、入力する環境条件ごとにheaderの数字を変更すること"
   ]
  },
  {
   "cell_type": "code",
   "execution_count": 2,
   "id": "8e739275-b977-4cf9-a572-ba8c47b253a8",
   "metadata": {},
   "outputs": [
    {
     "data": {
      "text/plain": [
       "input_climate_data (generic function with 1 method)"
      ]
     },
     "execution_count": 2,
     "metadata": {},
     "output_type": "execute_result"
    }
   ],
   "source": [
    "# データのロギングインターバル[分数]（仮に1時間（）（60分とした））\n",
    "cd_logging_interval = Int(60)\n",
    "\n",
    "# データのロギング間隔を取得する関数\n",
    "function cal_logging_interval_min( data::DataFrame )\n",
    "    return Int(( data.hour[2] - data.hour[1] ) * 60 + ( data.min[2] - data.min[1] ))\n",
    "end\n",
    "\n",
    "# 気象データをinputする関数\n",
    "function input_climate_data(; file_name::String, header::Int = 1)\n",
    "    \n",
    "    # 入力ファイルの読み込み\n",
    "    # 相対パスを入力の上指定さえれている場合、\n",
    "    if contains(file_name, \"./\")\n",
    "        file_directory = file_name\n",
    "        \n",
    "    # ファイル名＋csvの形で書かれている場合、\n",
    "    elseif contains(file_name, \".csv\")\n",
    "        file_directory = \"./input_data/climate_data/cell_data/\"*string(file_name)\n",
    "        \n",
    "    # ファイル名のみが書かれている場合、\n",
    "    else\n",
    "        file_directory = \"./input_data/climate_data/cell_data/\"*string(file_name)*\".csv\"        \n",
    "    end\n",
    "    \n",
    "    # 入力ファイルの読み込み\n",
    "    input_data = CSV.File(file_directory, header = header) |> DataFrame\n",
    "    \n",
    "    # データのロギングインターバルの変更\n",
    "    global cd_logging_interval = cal_logging_interval_min( input_data )\n",
    "    \n",
    "    # 入力ファイルを水蒸気圧・絶対湿度を含む形に成形    \n",
    "    added_climate_data = DataFrame( year = input_data.year, \n",
    "        month = input_data.month, \n",
    "        day   = input_data.day, \n",
    "        hour  = input_data.hour, \n",
    "        min   = input_data.min,  \n",
    "        sec   = try; input_data.sec; catch; [ 0 for i = 1 : length(input_data.temp) ]; end,\n",
    "        temp  = input_data.temp,\n",
    "        rh    = input_data.rh, \n",
    "        pv    = [ convertRH2Pv( temp = input_data.temp[i] + 273.15, rh = input_data.rh[i]/100 ) for i = 1 : length(input_data.temp) ],\n",
    "        #ah    = [ convertRH2AH( temp = climate_data.temp[i] + 273.15, rh = climate_data.rh[i]/100 ) for i = 1 : length(climate_data.temp) ],; 未実装\n",
    "        )\n",
    "    \n",
    "    return added_climate_data\n",
    "end"
   ]
  },
  {
   "cell_type": "markdown",
   "id": "acdbe67a-90ab-4b5b-ad18-e8c1f793f5be",
   "metadata": {},
   "source": [
    "なお、データのロギングインターバルはglobal変数として設定することで、メインプログラム上で変更する必要が無くなる。"
   ]
  },
  {
   "cell_type": "markdown",
   "id": "5766b7e7-20d5-4e88-a448-51293a5a163f",
   "metadata": {},
   "source": [
    "input_climate_data( file_name = \"../input_data/climate_data_miyama_doma.csv\")"
   ]
  },
  {
   "cell_type": "markdown",
   "id": "a4b1cee1-fe4a-421d-8d78-c9b593466e6e",
   "metadata": {},
   "source": [
    "\n",
    "# 2. DataFramesを用いた値の抽出"
   ]
  },
  {
   "cell_type": "markdown",
   "id": "484e8e7b-15dc-4883-9b65-e8ff2fe46df8",
   "metadata": {},
   "source": [
    "次にDataFramesにおけるデータの抽出方法について示しておく。  \n",
    "入力する環境データは、時刻と紐づけれるよう年月日時分秒の情報も入力しておく。\n",
    "\n",
    "DataFramesは[]内に条件を指定することで条件抽出が可能となるため、以下のような関数を用いることである時刻における値を抽出することが出来る。\n",
    "\n",
    "参考：Juliaで遊んでみた - データフレーム操作編\n",
    "https://qiita.com/HiroyukiTachikawa/items/e01917ade931031ec6a1#4%E3%83%87%E3%83%BC%E3%82%BF%E6%8A%BD%E5%87%BA"
   ]
  },
  {
   "cell_type": "markdown",
   "id": "8a0b9399-0c2d-4f19-b008-a8d28bc75acb",
   "metadata": {},
   "source": [
    "### 2.1 温度の抽出"
   ]
  },
  {
   "cell_type": "code",
   "execution_count": 3,
   "id": "3a324b0e-37ed-4a8d-befb-485e558f750b",
   "metadata": {},
   "outputs": [
    {
     "data": {
      "text/plain": [
       "extract_temp_by_climate_data (generic function with 1 method)"
      ]
     },
     "execution_count": 3,
     "metadata": {},
     "output_type": "execute_result"
    }
   ],
   "source": [
    "function extract_temp_by_climate_data( climate_data::DataFrame, calendar::Calendar )\n",
    "    return climate_data.temp[\n",
    "        (climate_data.year.==calendar.year).&\n",
    "        (climate_data.month.==calendar.month).&\n",
    "        (climate_data.day.==calendar.day).&\n",
    "        (climate_data.hour.==calendar.hour).&\n",
    "        (climate_data.min.==calendar.min).&\n",
    "        (climate_data.sec.==calendar.sec),:][1] #[1]はmatrixをスカラーに変換するため\n",
    "end"
   ]
  },
  {
   "cell_type": "markdown",
   "id": "02cf21f7-3ca5-4df8-bab9-ca0b2ac8edbc",
   "metadata": {},
   "source": [
    "### 2.2 相対湿度の抽出"
   ]
  },
  {
   "cell_type": "code",
   "execution_count": 4,
   "id": "20df312b-c690-40e5-8b08-017e9fd86f5b",
   "metadata": {},
   "outputs": [
    {
     "data": {
      "text/plain": [
       "extract_rh_by_climate_data (generic function with 1 method)"
      ]
     },
     "execution_count": 4,
     "metadata": {},
     "output_type": "execute_result"
    }
   ],
   "source": [
    "function extract_rh_by_climate_data( climate_data::DataFrame, calendar::Calendar )\n",
    "    return climate_data.rh[\n",
    "        (climate_data.year.==calendar.year).&\n",
    "        (climate_data.month.==calendar.month).&\n",
    "        (climate_data.day.==calendar.day).&\n",
    "        (climate_data.hour.==calendar.hour).&\n",
    "        (climate_data.min.==calendar.min).&\n",
    "        (climate_data.sec.==calendar.sec),:][1]\n",
    "end"
   ]
  },
  {
   "cell_type": "markdown",
   "id": "30e46bad-7878-44ef-a890-12fb6b836edc",
   "metadata": {},
   "source": [
    "### 2.3 水蒸気圧の抽出"
   ]
  },
  {
   "cell_type": "code",
   "execution_count": 5,
   "id": "64640c81-53fa-4780-80d3-9f3520bc07ed",
   "metadata": {},
   "outputs": [
    {
     "data": {
      "text/plain": [
       "extract_pv_by_climate_data (generic function with 1 method)"
      ]
     },
     "execution_count": 5,
     "metadata": {},
     "output_type": "execute_result"
    }
   ],
   "source": [
    "function extract_pv_by_climate_data( climate_data::DataFrame, calendar::Calendar )\n",
    "    return climate_data.pv[\n",
    "        (climate_data.year.==calendar.year).&\n",
    "        (climate_data.month.==calendar.month).&\n",
    "        (climate_data.day.==calendar.day).&\n",
    "        (climate_data.hour.==calendar.hour).&\n",
    "        (climate_data.min.==calendar.min).&\n",
    "        (climate_data.sec.==calendar.sec),:][1]\n",
    "end"
   ]
  },
  {
   "cell_type": "markdown",
   "id": "a775efc9-a741-473e-bac8-b1302ea38088",
   "metadata": {},
   "source": [
    "# 3. 環境データの直線内挿（線形補間）  \n",
    "\n",
    "環境データは、数値解析の時間刻みに合うように測定間隔ごとのデータを補間（内挿）する必要がある。  \n",
    "以下では、一般的な補間方法である線形補間（Linear Interpolate(Lerp)）方法について示す。 \n"
   ]
  },
  {
   "cell_type": "markdown",
   "id": "d761cb5b-e085-47e0-8f8d-7431c90701d8",
   "metadata": {},
   "source": [
    "## 3.1 線形補完の基礎方程式"
   ]
  },
  {
   "cell_type": "markdown",
   "id": "e21630c9-5c95-4d21-b7b9-08898059ecc3",
   "metadata": {},
   "source": [
    "線形補完の基本的な概念を下の図に示す。  \n",
    "t1およびt2の値が既知であるとき、ti時における値yiは以下の関係で結ばれる。\n"
   ]
  },
  {
   "attachments": {
    "2650ef32-0521-4c56-aecb-ecf2387de812.png": {
     "image/png": "[encoded data removed]"
    }
   },
   "cell_type": "markdown",
   "id": "8d45e236-2c58-47b6-808e-a2129b1755ea",
   "metadata": {},
   "source": [
    "![image.png](attachment:2650ef32-0521-4c56-aecb-ecf2387de812.png)"
   ]
  },
  {
   "cell_type": "markdown",
   "id": "03d235ae-7def-4de6-9353-85c0a72439f9",
   "metadata": {},
   "source": [
    "\n",
    "$$\\frac{ y_i - y_1 }{ y_2 - y_1 } = \\frac{ t_i - t_1 }{ t_2 - t_1 }$$  \n",
    "\n",
    "すなわち、ある時刻$t_i$における値$y_i$は以下のように求められる。\n",
    "\n",
    "$$ y_i = y_1 + (y_2 - y_1)\\frac{ t_i - t_1 }{ t_2 - t_1 }$$"
   ]
  },
  {
   "cell_type": "code",
   "execution_count": 6,
   "id": "5cca0c9b-db65-46eb-b7d2-cf79180647c4",
   "metadata": {},
   "outputs": [
    {
     "data": {
      "text/plain": [
       "cal_lerp (generic function with 1 method)"
      ]
     },
     "execution_count": 6,
     "metadata": {},
     "output_type": "execute_result"
    }
   ],
   "source": [
    "function cal_lerp(; y1::Float64, y2::Float64, t1::Float64, t2::Float64, ti::Float64 )\n",
    "    return y1 + ( y2 - y1 ) * ( ti - t1 ) / ( t2 - t1 )\n",
    "end"
   ]
  },
  {
   "cell_type": "markdown",
   "id": "f49fbe8d-e30b-4020-93ad-b4b43d7c8c33",
   "metadata": {},
   "source": [
    "## 3.2 環境データの線形内挿  \n",
    "\n",
    "上記の関数を環境データで置き換えた場合、各変数は下記のように定義できる。\n",
    "- interval($t_2- t_1$)：データの測定間隔\n",
    "- remainder($t_i- t_1$)：現在時刻を測定間隔で割ったものの余り\n"
   ]
  },
  {
   "cell_type": "code",
   "execution_count": 7,
   "id": "2679e105-1ea9-4d4b-859c-ca4fa4dfdc15",
   "metadata": {},
   "outputs": [
    {
     "data": {
      "text/plain": [
       "cal_lerp (generic function with 1 method)"
      ]
     },
     "execution_count": 7,
     "metadata": {},
     "output_type": "execute_result"
    }
   ],
   "source": [
    "function cal_lerp(; y1::Float64, y2::Float64, interval::Float64, remainder::Float64 )\n",
    "    return y1 + ( y2 - y1 ) * ( remainder ) / ( interval )\n",
    "end"
   ]
  },
  {
   "cell_type": "code",
   "execution_count": 8,
   "id": "501f7fd7-523c-4abd-80be-305e1dec2c6f",
   "metadata": {},
   "outputs": [
    {
     "data": {
      "text/plain": [
       "7.0"
      ]
     },
     "execution_count": 8,
     "metadata": {},
     "output_type": "execute_result"
    }
   ],
   "source": [
    "cal_lerp( y1 = 0.0, y2 = 10.0, interval = 10.0, remainder = 7.0 )"
   ]
  },
  {
   "cell_type": "markdown",
   "id": "f241ef7f-4309-4089-bf54-8926f171acee",
   "metadata": {},
   "source": [
    "# 4. ある時刻における温度・湿度を求める関数"
   ]
  },
  {
   "cell_type": "markdown",
   "id": "39838926-6827-41a6-be85-8ab331692fea",
   "metadata": {},
   "source": [
    "$\\S 2$および$\\S 3$で示した関数を用い、ある時刻における温度・湿度を求める関数を作成する。 "
   ]
  },
  {
   "cell_type": "markdown",
   "id": "ae1bfd42-26e4-4afc-bfae-c6d171000920",
   "metadata": {},
   "source": [
    "### 4.1 直前の測定データの日時を求める関数  \n",
    "まず、ある時刻における値を求めるには、その直前のロギングインターバル時($t_i$)を求める必要がある。これを以下のように関数化する。"
   ]
  },
  {
   "cell_type": "markdown",
   "id": "d48f946c-18db-4ba1-a47e-223a1f14cdea",
   "metadata": {},
   "source": [
    "※logging_interval_minは分で入力する"
   ]
  },
  {
   "cell_type": "code",
   "execution_count": 9,
   "id": "241b9858-6cdc-4742-9d4e-5a29dec9b44e",
   "metadata": {},
   "outputs": [
    {
     "data": {
      "text/plain": [
       "cal_before_date (generic function with 1 method)"
      ]
     },
     "execution_count": 9,
     "metadata": {},
     "output_type": "execute_result"
    }
   ],
   "source": [
    "function cal_before_date( date::Calendar, logging_interval_min::Int )\n",
    "    return date_before = construct_Calendar( \n",
    "        year  = date.year, \n",
    "        month = date.month, \n",
    "        day   = date.day, \n",
    "        hour  = date.hour, \n",
    "        min   = \n",
    "        if logging_interval_min == 60\n",
    "            0 \n",
    "        else \n",
    "            date.min - mod(date.min, logging_interval_min)\n",
    "        end,\n",
    "        sec   = 0 )\n",
    "end"
   ]
  },
  {
   "cell_type": "code",
   "execution_count": 10,
   "id": "0feee15b-80f8-409c-a306-3071f5107721",
   "metadata": {},
   "outputs": [
    {
     "data": {
      "text/plain": [
       "cal_after_date (generic function with 1 method)"
      ]
     },
     "execution_count": 10,
     "metadata": {},
     "output_type": "execute_result"
    }
   ],
   "source": [
    "function cal_after_date( date::Calendar, logging_interval_min::Int )\n",
    "    date_after = construct_Calendar( \n",
    "        year  = date.year, \n",
    "        month = date.month, \n",
    "        day   = date.day, \n",
    "        hour  = date.hour, \n",
    "        min   = date.min,\n",
    "        sec   = date.sec )\n",
    "    date_after  = cal_time_after_dt( date = date_after, dt = float(logging_interval_min * 60) )   \n",
    "end"
   ]
  },
  {
   "cell_type": "markdown",
   "id": "bf76fbbb-7227-4e04-920b-578dc479a994",
   "metadata": {},
   "source": [
    "### 4.2 ある時刻における値を求める関数"
   ]
  },
  {
   "cell_type": "markdown",
   "id": "33199344-ac5d-4953-a2db-7a2e4cfb8450",
   "metadata": {},
   "source": [
    "#### 入力引数  \n",
    "- climate_data：環境データ（DataFrames）\n",
    "- date：現在の時刻（Calendar）\n",
    "- logging_interval_min：分数標記のロギング間隔（通常環境データを取得する際に得られる）  \n",
    "\n",
    "#### 出力値  \n",
    "- temp, pv, rhの配列"
   ]
  },
  {
   "cell_type": "code",
   "execution_count": 11,
   "id": "9ed522ea-45b8-4953-95a7-d5bf78af1f3d",
   "metadata": {},
   "outputs": [
    {
     "data": {
      "text/plain": [
       "cal_temp_rh_pv_by_climate_data (generic function with 2 methods)"
      ]
     },
     "execution_count": 11,
     "metadata": {},
     "output_type": "execute_result"
    }
   ],
   "source": [
    "function cal_temp_rh_pv_by_climate_data( climate_data::DataFrame, date::Calendar, logging_interval_min::Int = cd_logging_interval )\n",
    "    \n",
    "    # 直前の測定データの日時を求める\n",
    "    date_before = cal_before_date( date, logging_interval_min )\n",
    "    \n",
    "    # 直後の測定データの日時を求める\n",
    "    date_after  = cal_after_date( date_before, logging_interval_min )\n",
    "    \n",
    "    # 直線内挿による現在の値の入力\n",
    "    temp = cal_lerp(\n",
    "        y1 = extract_temp_by_climate_data( climate_data, date_before ), \n",
    "        y2 = extract_temp_by_climate_data( climate_data, date_after ),\n",
    "        interval  = float(logging_interval_min),\n",
    "        remainder = float(mod(date.min, logging_interval_min) ))\n",
    "    \n",
    "    pv = cal_lerp(\n",
    "        y1 = extract_pv_by_climate_data( climate_data, date_before ), \n",
    "        y2 = extract_pv_by_climate_data( climate_data, date_after ),\n",
    "        interval  = float(logging_interval_min),\n",
    "        remainder = float(mod(date.min, logging_interval_min) ))\n",
    "    \n",
    "    rh = convertPv2RH( temp = temp + 273.15 , pv = pv )\n",
    "    return temp, pv, rh\n",
    "end"
   ]
  },
  {
   "cell_type": "markdown",
   "id": "d217c784-a0f0-4fa6-bec8-734c277cea9c",
   "metadata": {},
   "source": [
    "# 以上"
   ]
  },
  {
   "cell_type": "markdown",
   "id": "16b38aad-84f3-41a9-ab50-e393521a4d32",
   "metadata": {},
   "source": [
    "# 以下検証用"
   ]
  },
  {
   "cell_type": "markdown",
   "id": "7bc775a5-135a-4bf8-8e90-63cd47fcae29",
   "metadata": {},
   "source": [
    "基本操作説明"
   ]
  },
  {
   "cell_type": "markdown",
   "id": "6aa05eed-f792-45e0-a2c8-0802a5e6df76",
   "metadata": {
    "tags": []
   },
   "source": [
    "sample_date    = construct_Calendar( \n",
    "        year  = 2018, \n",
    "        month = 4, \n",
    "        day   = 25, \n",
    "        hour  = 17, \n",
    "        min   = 0,\n",
    "        sec   = 0)\n",
    "sample_climate_data = input_climate_data( file_name = \"../input_data/climate_data_miyama_doma.csv\")\n",
    "cal_temp_rh_pv_by_climate_data( sample_climate_data, sample_date )"
   ]
  },
  {
   "cell_type": "markdown",
   "id": "2489536d-3618-4237-97d1-ae3b6e9d6399",
   "metadata": {},
   "source": [
    "# 計算回数の設定\n",
    "for j = 1 : 10000    \n",
    "    # １：環境データの入力\n",
    "    temp, pv, rh = cal_temp_rh_pv_by_climate_data( sample_climate_data, sample_date, cd_logging_interval )\n",
    "       \n",
    "    # ２：計算時刻の表示\n",
    "    if mod(j, 5 * 60) == 0\n",
    "        println(string(sample_date.year)*\"年\"*string(sample_date.month)*\"月\"*string(sample_date.day)*\"日 \"*string(sample_date.hour)*\"時\"*string(sample_date.min)*\"分\"*string(sample_date.sec)*\"秒\" * \n",
    "            \" 外気：温度\" *  string( round(temp, digits = 3 ) ) * \"[℃]\" * \" 湿度\" * string( round( rh, digits = 3 ) ) * \"[-]\" )\n",
    "    end\n",
    "        \n",
    "    # ３：時間経過の計算\n",
    "    sample_date = cal_time_after_dt( date = sample_date, dt = 1.0 )\n",
    "        \n",
    "end"
   ]
  },
  {
   "cell_type": "code",
   "execution_count": null,
   "id": "4a624f59-7371-4967-ba85-a0e1a6387edd",
   "metadata": {},
   "outputs": [],
   "source": []
  }
 ],
 "metadata": {
  "kernelspec": {
   "display_name": "Julia 1.7.3",
   "language": "julia",
   "name": "julia-1.7"
  },
  "language_info": {
   "file_extension": ".jl",
   "mimetype": "application/julia",
   "name": "julia",
   "version": "1.7.3"
  }
 },
 "nbformat": 4,
 "nbformat_minor": 5
}
