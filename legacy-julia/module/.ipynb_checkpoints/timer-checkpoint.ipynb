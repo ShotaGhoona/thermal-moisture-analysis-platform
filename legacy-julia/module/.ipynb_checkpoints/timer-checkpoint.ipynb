{
 "cells": [
  {
   "cell_type": "markdown",
   "metadata": {},
   "source": [
    "</br>\n",
    "\n",
    "# 時間差分計算用のタイマーモジュール"
   ]
  },
  {
   "cell_type": "markdown",
   "metadata": {},
   "source": [
    "# 0. はじめに  \n",
    "\n",
    "前進型有限差分法では、時間差分ごとの繰り返し計算が行われる。  \n",
    "このとき、時間経過ごとに計算の時間刻みや境界条件はしばしば変化する。  \n",
    "例えば、 \n",
    "- 計算の時間刻み\n",
    "- 外気の温湿度\n",
    "- 日射量\n",
    "- 降雨量\n",
    "以上のような条件が時間を繰り返すごとに変化する。  \n",
    "これらの条件の多くは日付や時刻と密接な関係にあるため、繰り返し計算ごとに計算時間内の時刻や日付を計算させることが便利である。  \n",
    "本モジュールではこれらの計算のためのモジュールに関して説明する。\n"
   ]
  },
  {
   "cell_type": "markdown",
   "metadata": {},
   "source": [
    "## 0.1 Juliaにおけるループ計算の代表例  \n",
    "\n",
    "Juliaにおけるループ計算の代表例としてはforおよびwhileが挙げられる。  \n",
    "例えばforループの場合以下のように時間刻みの計算が行われる。  "
   ]
  },
  {
   "cell_type": "markdown",
   "metadata": {},
   "source": [
    "##### モデルおよび初期条件の設定\n",
    "\n",
    "##### iは計算回数\n",
    "for i = 1:100  \n",
    "    # 熱水分収支計算を繰り返す  \n",
    "    j = i + 1  \n",
    "end  "
   ]
  },
  {
   "cell_type": "markdown",
   "metadata": {},
   "source": [
    "ただし、計算の回数が明示的に表せる場合forループは有効である。  \n",
    "しかしながら一般的に熱水分解析では計算時間は現実時間における〇時間あるいは〇日、もしくは〇月〇日～〇年〇月〇日までといった形である。  \n",
    "従って、while文のようにある条件まで計算を回させるといった形の方が便利である場合が多い。"
   ]
  },
  {
   "cell_type": "markdown",
   "metadata": {},
   "source": [
    "##### モデルおよび初期条件の設定\n",
    "\n",
    "dt = 3.0 # 計算における時間刻み\n",
    "time = 0\n",
    "\n",
    "##### timeは時間に関する制限\n",
    "while 1000 > time\n",
    "    # 繰り返し計算ごとにdt秒ずつ増えていく\n",
    "    time = time + dt\n",
    "end\n",
    "\n",
    "##### timeが1000[s]を超えたら計算が終了する"
   ]
  },
  {
   "cell_type": "markdown",
   "metadata": {},
   "source": [
    "# 1. 年月日を考慮したカレンダーモジュール"
   ]
  },
  {
   "cell_type": "markdown",
   "metadata": {},
   "source": [
    "## 1.1 年月日を保持する構造体 ：Calendar\n",
    "\n",
    "Calendarとして以下のような構造体を作成する。  \n",
    "なお、計算の時間刻みは場合によっては小数点以下（例えば0.01[s]）などもなるためdec[1/s]（小数点以下の秒数をカウントするための値）を導入しておく。"
   ]
  },
  {
   "cell_type": "code",
   "execution_count": 1,
   "metadata": {},
   "outputs": [],
   "source": [
    "mutable struct Calendar\n",
    "    year::Int  #年\n",
    "    month::Int #月\n",
    "    day::Int   #日\n",
    "    hour::Int  #時\n",
    "    min::Int   #分\n",
    "    sec::Int   #秒\n",
    "    dec::Int   #少数(decimal)\n",
    "    Calendar() = new()\n",
    "end"
   ]
  },
  {
   "cell_type": "code",
   "execution_count": 2,
   "metadata": {},
   "outputs": [
    {
     "data": {
      "text/plain": [
       "construct_Calendar (generic function with 1 method)"
      ]
     },
     "execution_count": 2,
     "metadata": {},
     "output_type": "execute_result"
    }
   ],
   "source": [
    "function construct_Calendar(; year, month, day, hour, min, sec )\n",
    "    calendar = Calendar()\n",
    "    calendar.year = year\n",
    "    calendar.month= month\n",
    "    calendar.day  = day\n",
    "    calendar.hour = hour\n",
    "    calendar.min  = min\n",
    "    calendar.sec  = sec\n",
    "    return calendar\n",
    "end"
   ]
  },
  {
   "cell_type": "markdown",
   "metadata": {},
   "source": [
    "## 1.2 グレゴリオ暦に基づく各月の最終日を算出する関数  \n",
    "\n",
    "Calendarの基本的なモジュールであるグレゴリオ暦カレンダー関数である。  \n",
    "\n",
    "関数名：\n",
    "- cal_Gregorian_calendar\n",
    "        \n",
    "引数（キーワード引数）：\n",
    "- year(Int64): 年\n",
    "- month(Int64): 月\n",
    "\n",
    "戻り値：\n",
    "- 入力した月の最終日（うるう年を含む）"
   ]
  },
  {
   "cell_type": "code",
   "execution_count": 3,
   "metadata": {},
   "outputs": [
    {
     "data": {
      "text/plain": [
       "cal_Gregorian_calendar (generic function with 1 method)"
      ]
     },
     "execution_count": 3,
     "metadata": {},
     "output_type": "execute_result"
    }
   ],
   "source": [
    "function cal_Gregorian_calendar(; year::Int64, month::Int64 )\n",
    "    # &&(AND演算子)　||(OR演算子)\n",
    "    if month ==2 # うるう年の計算\n",
    "        if( ( mod(year,4)==0 && mod(year,100)≠0) || ( mod(year,400)==0 ) )\n",
    "            lastday = 29\n",
    "        else\n",
    "            lastday = 28\n",
    "        end\n",
    "    elseif( ( month<=7 && mod(month,2) == 1 ) || ( month>=8 && mod(month,2)==0) )\n",
    "        lastday = 31  #1,3,5,7,8,10,12月\n",
    "    else\n",
    "        lastday = 30  #4,6,9,11月\n",
    "    end\n",
    "    \n",
    "    return lastday\n",
    "end"
   ]
  },
  {
   "cell_type": "markdown",
   "metadata": {},
   "source": [
    "使用例"
   ]
  },
  {
   "cell_type": "markdown",
   "metadata": {},
   "source": [
    "##### cal_Gregorian_calendar( year = 2014, month = 5 )"
   ]
  },
  {
   "cell_type": "markdown",
   "metadata": {},
   "source": [
    "</br>\n",
    "\n",
    "# 2.  時間の経過と年月日の対応関係  \n",
    "\n",
    "Calendarを進めていくための関数である。  \n",
    "例えば現在の時刻が10[h]:00[m]:50[s]であったとする。  \n",
    "\n",
    "30[s]後の時刻は、  \n",
    "- ✕10[h]:00[m]:80[s]  \n",
    "- 〇10[h]:01[m]:20[s]\n",
    "\n",
    "であるが、こういった計算を行うためのモジュールである。"
   ]
  },
  {
   "cell_type": "markdown",
   "metadata": {},
   "source": [
    "## 2.1 微小時間（dt秒）経過後の年月日の出力  \n",
    "\n",
    "時間刻みが1～60[s]の場合、以下の計算式を用いる。\n",
    "\n",
    "関数名：\n",
    "- cal_time_after_dt_second\n",
    "        \n",
    "引数（値のみ）：\n",
    "- date(Calendar): Calendar構造体を引数とする。\n",
    "\n",
    "戻り値：\n",
    "- date(Calendar): 現在の時刻をグレゴリオ暦に合わせた値に変化させる。  \n",
    "\n",
    "\n",
    "例）1999年12月31日 11時59分80秒 ⇒　2000年1月1日 00時00分20秒"
   ]
  },
  {
   "cell_type": "code",
   "execution_count": 4,
   "metadata": {},
   "outputs": [
    {
     "data": {
      "text/plain": [
       "cal_time_after_dt_second (generic function with 1 method)"
      ]
     },
     "execution_count": 4,
     "metadata": {},
     "output_type": "execute_result"
    }
   ],
   "source": [
    "function cal_time_after_dt_second(date::Calendar)\n",
    "    if date.sec >= 60;\n",
    "        date.sec = date.sec - 60\n",
    "        date.min = date.min + 1\n",
    "        if date.min >= 60;\n",
    "            date.min = date.min - 60\n",
    "            date.hour = date.hour + 1\n",
    "            if date.hour >= 24;\n",
    "                date.hour = date.hour - 24\n",
    "                date.day = date.day + 1\n",
    "                lastday = cal_Gregorian_calendar( year = date.year, month = date.month )\n",
    "                if date.day > lastday;\n",
    "                    date.day = date.day - lastday\n",
    "                    date.month = date.month + 1\n",
    "                    if date.month > 12;\n",
    "                        date.month = date.month - 12\n",
    "                        date.year  = date.year  + 1\n",
    "                    end\n",
    "                end\n",
    "            end\n",
    "        end\n",
    "    end\n",
    "    return date\n",
    "end"
   ]
  },
  {
   "cell_type": "markdown",
   "metadata": {},
   "source": [
    "## 2.2 微小時間（数分）経過後の年月日の出力  \n",
    "\n",
    "2.1に同じであるが、時間刻みが60[s]以上の場合こちらを採用する。  \n",
    "\n",
    "2.1の式を用いずこちらの式を用いても良いが、計算回数の短縮のためこのような形式とした。"
   ]
  },
  {
   "cell_type": "code",
   "execution_count": 5,
   "metadata": {},
   "outputs": [
    {
     "data": {
      "text/plain": [
       "cal_time_after_dt_minute (generic function with 1 method)"
      ]
     },
     "execution_count": 5,
     "metadata": {},
     "output_type": "execute_result"
    }
   ],
   "source": [
    "function cal_time_after_dt_minute(date::Calendar)\n",
    "    lastday = cal_Gregorian_calendar( year = date.year, month = date.month )\n",
    "    while true;\n",
    "        if date.sec >= 60;\n",
    "            date.sec = date.sec - 60\n",
    "            date.min = date.min + 1\n",
    "        elseif date.min >= 60;\n",
    "            date.min = date.min - 60\n",
    "            date.hour = date.hour + 1\n",
    "        elseif date.hour >= 24;\n",
    "            date.hour = date.hour - 24\n",
    "            date.day = date.day + 1\n",
    "            lastday = cal_Gregorian_calendar( year = date.year, month = date.month )\n",
    "        elseif date.day > lastday;\n",
    "            date.day = date.day - lastday\n",
    "            date.month = date.month + 1\n",
    "        elseif date.month > 12;\n",
    "            date.month = date.month - 12\n",
    "            date.year  = date.year  + 1\n",
    "        else\n",
    "            break\n",
    "        end\n",
    "    end\n",
    "    return date\n",
    "end"
   ]
  },
  {
   "cell_type": "markdown",
   "metadata": {},
   "source": [
    "## 2.3 微小時間dt経過後の年月日を計算する関数  \n",
    "\n",
    "数値解析に一般的に実装する関数である。  \n",
    "引数としてCalendarと時間刻みdtを入力することで、微小時間経過後のカレンダーが出力される。  \n",
    "\n",
    "関数名：\n",
    "- cal_time_after_dt\n",
    "        \n",
    "引数（値のみ）：\n",
    "- date(Calendar): Calendar構造体を引数とする。\n",
    "- dt(Float64): 時間刻みを引数とする（実数であることに注意）\n",
    "\n",
    "戻り値：\n",
    "- date(Calendar): Calendarとして出力される。 \n",
    "\n",
    "なお、時間刻みdtが1秒以下の場合はまた個別の処理とし設定した。"
   ]
  },
  {
   "cell_type": "code",
   "execution_count": 6,
   "metadata": {},
   "outputs": [
    {
     "data": {
      "text/plain": [
       "cal_time_after_dt (generic function with 1 method)"
      ]
     },
     "execution_count": 6,
     "metadata": {},
     "output_type": "execute_result"
    }
   ],
   "source": [
    "function cal_time_after_dt(;date::Calendar, dt::Float64)\n",
    "    # dtが数分単位の場合\n",
    "    if dt > 60;\n",
    "        date.sec = date.sec + Int(dt)\n",
    "        date = cal_time_after_dt_minute(date)\n",
    "    # dtが数秒単位の場合\n",
    "    elseif dt >=1 && dt <= 60\n",
    "        date.sec = date.sec + Int(dt)\n",
    "        date = cal_time_after_dt_second(date)\n",
    "    # dtが1秒以下（少数）の場合\n",
    "    elseif dt < 1.0\n",
    "        date.dec = date.dec + 1\n",
    "        if date.dec >= Int( 1 / dt )\n",
    "            date.dec = 0\n",
    "            date.sec = date.sec + 1\n",
    "            date = cal_time_after_dt_second(date)\n",
    "        end\n",
    "    end\n",
    "    return date\n",
    "end"
   ]
  },
  {
   "cell_type": "markdown",
   "metadata": {},
   "source": [
    "### 使用例"
   ]
  },
  {
   "cell_type": "markdown",
   "metadata": {},
   "source": [
    "カレンダー情報の初期値の入力"
   ]
  },
  {
   "cell_type": "markdown",
   "metadata": {},
   "source": [
    "date = Calendar()\n",
    "date.year = 2020; date.month = 1; date.day = 1; date.hour = 0; date.min = 0; date.sec = 0;"
   ]
  },
  {
   "cell_type": "markdown",
   "metadata": {},
   "source": [
    "date"
   ]
  },
  {
   "cell_type": "markdown",
   "metadata": {},
   "source": [
    "##### 計算刻みdtの設定\n",
    "dt = 0.5  \n",
    "#cycle = 0\n",
    "\n",
    "while date.year == 2020 && date.month < 2  \n",
    "    date = cal_time_after_dt( date = date, dt = dt )  \n",
    "    #cycle += 1  \n",
    "end"
   ]
  },
  {
   "cell_type": "markdown",
   "metadata": {},
   "source": [
    "date"
   ]
  },
  {
   "cell_type": "markdown",
   "metadata": {},
   "source": [
    "### example) カレンダーを使って計算を回したい場合"
   ]
  },
  {
   "cell_type": "markdown",
   "metadata": {},
   "source": [
    "##### 初期時刻の設定\n",
    "date = Calendar()  \n",
    "date.year = 2020; date.month = 1; date.day = 1; date.hour = 0; date.min = 0; date.sec = 0;  \n",
    "\n",
    "##### 計算刻みdtの設定\n",
    "dt = 3.0  \n",
    "\n",
    "##### 計算終了時刻を2020/03/03 00:00とする。\n",
    "while ( date.year <= 2020 && date.month <= 2 ) ||   \n",
    "    ( date.year == 2020 && date.month == 3 && date.day ≠ 3 )  \n",
    "    cal_time_after_dt( date = date, dt = dt )  \n",
    "end"
   ]
  },
  {
   "cell_type": "markdown",
   "metadata": {},
   "source": [
    "2 * 24 * 60 * 60 * 182"
   ]
  },
  {
   "cell_type": "markdown",
   "metadata": {},
   "source": [
    "</br>\n",
    "\n",
    "# 3. カレンダーを用いない簡易計算用のモジュール\n",
    "\n",
    "Calendarモジュールは極めて強力なツールであるが、計算時間が増大するといった問題がある。  \n",
    "以下ではより簡易な計算方法として〇日〇時間〇分〇秒の計算を行うための方法について記しておく。  "
   ]
  },
  {
   "cell_type": "markdown",
   "metadata": {},
   "source": [
    "## 3.1 〇日〇時間〇分〇秒が〇秒であることを表すモジュール\n",
    "\n",
    "ある日数（day, hour, minute, second）が基準から何秒後かを表す関数  \n",
    "\n",
    "関数名：\n",
    "- cal_day_to_time\n",
    "        \n",
    "引数（値のみ）：\n",
    "- day: 日数\n",
    "- hour: 時間\n",
    "- minute: 分\n",
    "- second: 秒\n",
    "\n",
    "戻り値：\n",
    "- second(Float64): 引数で渡した時間情報を秒で表した値が返ってくる。\n"
   ]
  },
  {
   "cell_type": "code",
   "execution_count": 7,
   "metadata": {},
   "outputs": [
    {
     "data": {
      "text/plain": [
       "cal_day_to_time (generic function with 1 method)"
      ]
     },
     "execution_count": 7,
     "metadata": {},
     "output_type": "execute_result"
    }
   ],
   "source": [
    "function cal_day_to_time(; day, hour, minute, second )\n",
    "    return day * 60.0 * 60.0 * 24.0 + hour * 60.0 * 60.0 + minute * 60.0 + second\n",
    "end"
   ]
  },
  {
   "cell_type": "markdown",
   "metadata": {},
   "source": [
    "#### 使用例"
   ]
  },
  {
   "cell_type": "markdown",
   "metadata": {},
   "source": [
    "cal_day_to_time( day = 0, hour = 12, minute = 0, second = 0 )"
   ]
  },
  {
   "cell_type": "markdown",
   "metadata": {},
   "source": [
    "#### 計算結果の確認 "
   ]
  },
  {
   "cell_type": "markdown",
   "metadata": {},
   "source": [
    "cal_day_to_time( day = time[\"day\"], hour = time[\"hour\"], minute = time[\"minute\"], second = time[\"second\"] )"
   ]
  },
  {
   "cell_type": "markdown",
   "metadata": {},
   "source": [
    "### ex.1) 指定された時間（日、分、時）だけ計算を回したい場合"
   ]
  },
  {
   "cell_type": "markdown",
   "metadata": {},
   "source": [
    "time = 0.0 #[min]  \n",
    "dt = 1.0  \n",
    "end_time = cal_day_to_time( day = 0, hour = 0, minute = 10, second = 0 )  \n",
    "\n",
    "while time < end_time  \n",
    "    #ループ計算  \n",
    "    time = time + dt  \n",
    "end  \n",
    "print(time)  "
   ]
  },
  {
   "cell_type": "markdown",
   "metadata": {},
   "source": [
    "### ex.2) 初期の日時から在る時刻までを回したい場合\n",
    "初期の日時が決まっており、そこから何時間か回したい場合、"
   ]
  },
  {
   "cell_type": "markdown",
   "metadata": {},
   "source": [
    "i = 0  \n",
    "dt = 2.0  \n",
    "now_time = cal_day_to_time( day = 0, hour = 0, minute = 10, second = 0 )  \n",
    "end_time = cal_day_to_time( day = 0, hour = 0, minute = 20, second = 0 )  \n",
    "\n",
    "while now_time < end_time  \n",
    "    #ループ計算  \n",
    "    now_time = now_time + dt  \n",
    "    i = i + 1  \n",
    "end  \n",
    "\n",
    "#now_time"
   ]
  },
  {
   "cell_type": "markdown",
   "metadata": {},
   "source": []
  },
  {
   "cell_type": "markdown",
   "metadata": {},
   "source": [
    "</br>\n",
    "\n",
    "# 4. 環境データの格納と内挿方法（線形補間・直線内挿）  \n",
    "\n",
    "以下では外気温湿度などの環境データの格納方法と数値解析に用いるための内挿方法について示す。  \n",
    "\n",
    "【本章の概要】  \n",
    "境界条件として外気温湿度などの実測値を用いる場合、数値解析の時間刻みごとにデータを測定していることは稀である（通常測定は10分～60分間隔で行う）。  \n",
    "一方で、差分法では微小時間刻みごとの計算を行う必要があるため、数値解析の時間刻みに合うように測定間隔ごとのデータを補間（内挿）する必要がある。  \n",
    "\n",
    "データの補間方法はいくつかあるが、ここでは一般的な補間方法である線形補間（Linear Interpolate(Lerp)）方法について示す。 \n"
   ]
  },
  {
   "cell_type": "markdown",
   "metadata": {},
   "source": [
    "## 4.1 線形補間のための関数  \n",
    "\n",
    "【概要】  \n",
    "以下に、下記の測定間隔で測定した環境データの線形補間方法を記す。  \n",
    "- 10分間隔\n",
    "- 30分間隔\n",
    "- 1時間間隔  \n",
    "以下の関数では、before時のデータ（value_befor）、after時のデータ（value_after）、現在の時刻（beforeとafter）の間が与えられたとする。  \n",
    "このとき、前後のデータを線形内挿し、現在の時刻における値を算出するだけの関数である。"
   ]
  },
  {
   "cell_type": "markdown",
   "metadata": {},
   "source": [
    "#### 4.1.1 60分間隔の測定データの場合  \n",
    "※time interval ⇒　略）ti"
   ]
  },
  {
   "cell_type": "code",
   "execution_count": 8,
   "metadata": {},
   "outputs": [
    {
     "data": {
      "text/plain": [
       "cal_lerp_60ti (generic function with 2 methods)"
      ]
     },
     "execution_count": 8,
     "metadata": {},
     "output_type": "execute_result"
    }
   ],
   "source": [
    "cal_lerp_60ti( value_next::Float64, value_before::Float64, min, sec ) = ( value_next - value_before ) * (60.0 * mod(min,60) + sec )  / 3600.0 + value_before\n",
    "cal_lerp_60ti( value_next::Float64, value_before::Float64, date::Calendar ) = cal_lerp_60ti( value_next, value_before, date.min, date.sec )"
   ]
  },
  {
   "cell_type": "markdown",
   "metadata": {},
   "source": [
    "#### 4.1.2 30分間隔の測定データの場合  "
   ]
  },
  {
   "cell_type": "code",
   "execution_count": 9,
   "metadata": {},
   "outputs": [
    {
     "data": {
      "text/plain": [
       "cal_lerp_30ti (generic function with 2 methods)"
      ]
     },
     "execution_count": 9,
     "metadata": {},
     "output_type": "execute_result"
    }
   ],
   "source": [
    "cal_lerp_30ti( value_next::Float64, value_before::Float64, min, sec ) = ( value_next - value_before ) * (60.0 * mod(min,30) + sec )  / 3600.0 * 2.0 + value_before\n",
    "cal_lerp_30ti( value_next::Float64, value_before::Float64, date::Calendar ) = cal_lerp_30ti( value_next, value_before, date.min, date.sec )"
   ]
  },
  {
   "cell_type": "markdown",
   "metadata": {},
   "source": [
    "#### 4.1.3 10分間隔の測定データの場合  "
   ]
  },
  {
   "cell_type": "code",
   "execution_count": 10,
   "metadata": {},
   "outputs": [
    {
     "data": {
      "text/plain": [
       "cal_lerp_10ti (generic function with 2 methods)"
      ]
     },
     "execution_count": 10,
     "metadata": {},
     "output_type": "execute_result"
    }
   ],
   "source": [
    "cal_lerp_10ti( value_next::Float64, value_before::Float64, min, sec ) = ( value_next - value_before ) * (60.0 * mod(min,10) + sec )  / 3600.0 * 6.0 + value_before\n",
    "cal_lerp_10ti( value_next::Float64, value_before::Float64, date::Calendar ) = cal_lerp_10ti( value_next, value_before, date.min, date.sec )"
   ]
  },
  {
   "cell_type": "markdown",
   "metadata": {},
   "source": [
    "環境条件のデータが予め分類できている場合こちらの方法で良い。"
   ]
  },
  {
   "cell_type": "markdown",
   "metadata": {},
   "source": [
    "## 4.2 環境データの入力・出力方法  \n",
    "\n",
    "【概要】  \n",
    "以下では環境データの内挿方法の問題も考慮し、カレンダーモジュールと合わせた環境データの入出力方法について説明する。  \n",
    "\n",
    "環境データの入出力方法はいくつか方法が存在するが、ここでは最も簡易な方法としてjuliaのDataFramesを用いた方法を示す。  \n",
    "例えば以下のような環境データがあるとしよう。  "
   ]
  },
  {
   "cell_type": "markdown",
   "metadata": {},
   "source": [
    "#### ※ 2021/01/12　加筆・修正  \n",
    "CSVパッケージのupdateに伴いCSVファイルの読み込み方法を以下のように変更。  \n",
    "\n",
    "修正前：CSV.read(\"file\")　⇒修正後：CSV.File(\"file) |> DataFrame  \n",
    "※ |> DataFrameは無くても良い。  \n",
    "\n",
    "Juliaのパッケージは今後も修正が入る可能性があるため常に最新の情報を取得しておくこと。  \n",
    "（公式）CSV.jl：https://csv.juliadata.org/stable/"
   ]
  },
  {
   "cell_type": "code",
   "execution_count": 11,
   "metadata": {},
   "outputs": [
    {
     "data": {
      "text/html": [
       "<table class=\"data-frame\"><thead><tr><th></th><th>year</th><th>month</th><th>day</th><th>hour</th><th>min</th><th>sec</th><th>temp</th><th>rh</th></tr><tr><th></th><th>Int64</th><th>Int64</th><th>Int64</th><th>Int64</th><th>Int64</th><th>Int64</th><th>Float64</th><th>Int64</th></tr></thead><tbody><p>8,784 rows × 8 columns</p><tr><th>1</th><td>2012</td><td>1</td><td>1</td><td>0</td><td>0</td><td>0</td><td>3.7</td><td>77</td></tr><tr><th>2</th><td>2012</td><td>1</td><td>1</td><td>1</td><td>0</td><td>0</td><td>3.9</td><td>74</td></tr><tr><th>3</th><td>2012</td><td>1</td><td>1</td><td>2</td><td>0</td><td>0</td><td>3.7</td><td>76</td></tr><tr><th>4</th><td>2012</td><td>1</td><td>1</td><td>3</td><td>0</td><td>0</td><td>4.2</td><td>74</td></tr><tr><th>5</th><td>2012</td><td>1</td><td>1</td><td>4</td><td>0</td><td>0</td><td>5.0</td><td>71</td></tr><tr><th>6</th><td>2012</td><td>1</td><td>1</td><td>5</td><td>0</td><td>0</td><td>4.7</td><td>73</td></tr><tr><th>7</th><td>2012</td><td>1</td><td>1</td><td>6</td><td>0</td><td>0</td><td>4.7</td><td>71</td></tr><tr><th>8</th><td>2012</td><td>1</td><td>1</td><td>7</td><td>0</td><td>0</td><td>4.4</td><td>75</td></tr><tr><th>9</th><td>2012</td><td>1</td><td>1</td><td>8</td><td>0</td><td>0</td><td>5.2</td><td>72</td></tr><tr><th>10</th><td>2012</td><td>1</td><td>1</td><td>9</td><td>0</td><td>0</td><td>5.7</td><td>71</td></tr><tr><th>11</th><td>2012</td><td>1</td><td>1</td><td>10</td><td>0</td><td>0</td><td>6.4</td><td>72</td></tr><tr><th>12</th><td>2012</td><td>1</td><td>1</td><td>11</td><td>0</td><td>0</td><td>7.6</td><td>68</td></tr><tr><th>13</th><td>2012</td><td>1</td><td>1</td><td>12</td><td>0</td><td>0</td><td>8.7</td><td>65</td></tr><tr><th>14</th><td>2012</td><td>1</td><td>1</td><td>13</td><td>0</td><td>0</td><td>10.2</td><td>52</td></tr><tr><th>15</th><td>2012</td><td>1</td><td>1</td><td>14</td><td>0</td><td>0</td><td>9.9</td><td>59</td></tr><tr><th>16</th><td>2012</td><td>1</td><td>1</td><td>15</td><td>0</td><td>0</td><td>8.9</td><td>67</td></tr><tr><th>17</th><td>2012</td><td>1</td><td>1</td><td>16</td><td>0</td><td>0</td><td>9.1</td><td>64</td></tr><tr><th>18</th><td>2012</td><td>1</td><td>1</td><td>17</td><td>0</td><td>0</td><td>8.6</td><td>59</td></tr><tr><th>19</th><td>2012</td><td>1</td><td>1</td><td>18</td><td>0</td><td>0</td><td>8.2</td><td>56</td></tr><tr><th>20</th><td>2012</td><td>1</td><td>1</td><td>19</td><td>0</td><td>0</td><td>7.3</td><td>59</td></tr><tr><th>21</th><td>2012</td><td>1</td><td>1</td><td>20</td><td>0</td><td>0</td><td>7.0</td><td>61</td></tr><tr><th>22</th><td>2012</td><td>1</td><td>1</td><td>21</td><td>0</td><td>0</td><td>7.0</td><td>62</td></tr><tr><th>23</th><td>2012</td><td>1</td><td>1</td><td>22</td><td>0</td><td>0</td><td>8.3</td><td>53</td></tr><tr><th>24</th><td>2012</td><td>1</td><td>1</td><td>23</td><td>0</td><td>0</td><td>9.0</td><td>46</td></tr><tr><th>25</th><td>2012</td><td>1</td><td>2</td><td>0</td><td>0</td><td>0</td><td>8.7</td><td>45</td></tr><tr><th>26</th><td>2012</td><td>1</td><td>2</td><td>1</td><td>0</td><td>0</td><td>7.8</td><td>44</td></tr><tr><th>27</th><td>2012</td><td>1</td><td>2</td><td>2</td><td>0</td><td>0</td><td>6.8</td><td>41</td></tr><tr><th>28</th><td>2012</td><td>1</td><td>2</td><td>3</td><td>0</td><td>0</td><td>5.5</td><td>36</td></tr><tr><th>29</th><td>2012</td><td>1</td><td>2</td><td>4</td><td>0</td><td>0</td><td>4.6</td><td>41</td></tr><tr><th>30</th><td>2012</td><td>1</td><td>2</td><td>5</td><td>0</td><td>0</td><td>4.7</td><td>40</td></tr><tr><th>&vellip;</th><td>&vellip;</td><td>&vellip;</td><td>&vellip;</td><td>&vellip;</td><td>&vellip;</td><td>&vellip;</td><td>&vellip;</td><td>&vellip;</td></tr></tbody></table>"
      ],
      "text/latex": [
       "\\begin{tabular}{r|cccccccc}\n",
       "\t& year & month & day & hour & min & sec & temp & rh\\\\\n",
       "\t\\hline\n",
       "\t& Int64 & Int64 & Int64 & Int64 & Int64 & Int64 & Float64 & Int64\\\\\n",
       "\t\\hline\n",
       "\t1 & 2012 & 1 & 1 & 0 & 0 & 0 & 3.7 & 77 \\\\\n",
       "\t2 & 2012 & 1 & 1 & 1 & 0 & 0 & 3.9 & 74 \\\\\n",
       "\t3 & 2012 & 1 & 1 & 2 & 0 & 0 & 3.7 & 76 \\\\\n",
       "\t4 & 2012 & 1 & 1 & 3 & 0 & 0 & 4.2 & 74 \\\\\n",
       "\t5 & 2012 & 1 & 1 & 4 & 0 & 0 & 5.0 & 71 \\\\\n",
       "\t6 & 2012 & 1 & 1 & 5 & 0 & 0 & 4.7 & 73 \\\\\n",
       "\t7 & 2012 & 1 & 1 & 6 & 0 & 0 & 4.7 & 71 \\\\\n",
       "\t8 & 2012 & 1 & 1 & 7 & 0 & 0 & 4.4 & 75 \\\\\n",
       "\t9 & 2012 & 1 & 1 & 8 & 0 & 0 & 5.2 & 72 \\\\\n",
       "\t10 & 2012 & 1 & 1 & 9 & 0 & 0 & 5.7 & 71 \\\\\n",
       "\t11 & 2012 & 1 & 1 & 10 & 0 & 0 & 6.4 & 72 \\\\\n",
       "\t12 & 2012 & 1 & 1 & 11 & 0 & 0 & 7.6 & 68 \\\\\n",
       "\t13 & 2012 & 1 & 1 & 12 & 0 & 0 & 8.7 & 65 \\\\\n",
       "\t14 & 2012 & 1 & 1 & 13 & 0 & 0 & 10.2 & 52 \\\\\n",
       "\t15 & 2012 & 1 & 1 & 14 & 0 & 0 & 9.9 & 59 \\\\\n",
       "\t16 & 2012 & 1 & 1 & 15 & 0 & 0 & 8.9 & 67 \\\\\n",
       "\t17 & 2012 & 1 & 1 & 16 & 0 & 0 & 9.1 & 64 \\\\\n",
       "\t18 & 2012 & 1 & 1 & 17 & 0 & 0 & 8.6 & 59 \\\\\n",
       "\t19 & 2012 & 1 & 1 & 18 & 0 & 0 & 8.2 & 56 \\\\\n",
       "\t20 & 2012 & 1 & 1 & 19 & 0 & 0 & 7.3 & 59 \\\\\n",
       "\t21 & 2012 & 1 & 1 & 20 & 0 & 0 & 7.0 & 61 \\\\\n",
       "\t22 & 2012 & 1 & 1 & 21 & 0 & 0 & 7.0 & 62 \\\\\n",
       "\t23 & 2012 & 1 & 1 & 22 & 0 & 0 & 8.3 & 53 \\\\\n",
       "\t24 & 2012 & 1 & 1 & 23 & 0 & 0 & 9.0 & 46 \\\\\n",
       "\t25 & 2012 & 1 & 2 & 0 & 0 & 0 & 8.7 & 45 \\\\\n",
       "\t26 & 2012 & 1 & 2 & 1 & 0 & 0 & 7.8 & 44 \\\\\n",
       "\t27 & 2012 & 1 & 2 & 2 & 0 & 0 & 6.8 & 41 \\\\\n",
       "\t28 & 2012 & 1 & 2 & 3 & 0 & 0 & 5.5 & 36 \\\\\n",
       "\t29 & 2012 & 1 & 2 & 4 & 0 & 0 & 4.6 & 41 \\\\\n",
       "\t30 & 2012 & 1 & 2 & 5 & 0 & 0 & 4.7 & 40 \\\\\n",
       "\t$\\dots$ & $\\dots$ & $\\dots$ & $\\dots$ & $\\dots$ & $\\dots$ & $\\dots$ & $\\dots$ & $\\dots$ \\\\\n",
       "\\end{tabular}\n"
      ],
      "text/plain": [
       "\u001b[1m8784×8 DataFrame\u001b[0m\n",
       "\u001b[1m  Row \u001b[0m│\u001b[1m year  \u001b[0m\u001b[1m month \u001b[0m\u001b[1m day   \u001b[0m\u001b[1m hour  \u001b[0m\u001b[1m min   \u001b[0m\u001b[1m sec   \u001b[0m\u001b[1m temp    \u001b[0m\u001b[1m rh    \u001b[0m\n",
       "\u001b[1m      \u001b[0m│\u001b[90m Int64 \u001b[0m\u001b[90m Int64 \u001b[0m\u001b[90m Int64 \u001b[0m\u001b[90m Int64 \u001b[0m\u001b[90m Int64 \u001b[0m\u001b[90m Int64 \u001b[0m\u001b[90m Float64 \u001b[0m\u001b[90m Int64 \u001b[0m\n",
       "──────┼──────────────────────────────────────────────────────────\n",
       "    1 │  2012      1      1      0      0      0      3.7     77\n",
       "    2 │  2012      1      1      1      0      0      3.9     74\n",
       "    3 │  2012      1      1      2      0      0      3.7     76\n",
       "    4 │  2012      1      1      3      0      0      4.2     74\n",
       "    5 │  2012      1      1      4      0      0      5.0     71\n",
       "    6 │  2012      1      1      5      0      0      4.7     73\n",
       "    7 │  2012      1      1      6      0      0      4.7     71\n",
       "    8 │  2012      1      1      7      0      0      4.4     75\n",
       "    9 │  2012      1      1      8      0      0      5.2     72\n",
       "   10 │  2012      1      1      9      0      0      5.7     71\n",
       "   11 │  2012      1      1     10      0      0      6.4     72\n",
       "  ⋮   │   ⋮      ⋮      ⋮      ⋮      ⋮      ⋮       ⋮       ⋮\n",
       " 8775 │  2012     12     31     14      0      0      3.8     66\n",
       " 8776 │  2012     12     31     15      0      0      4.0     66\n",
       " 8777 │  2012     12     31     16      0      0      3.6     61\n",
       " 8778 │  2012     12     31     17      0      0      3.3     64\n",
       " 8779 │  2012     12     31     18      0      0      3.2     64\n",
       " 8780 │  2012     12     31     19      0      0      2.3     67\n",
       " 8781 │  2012     12     31     20      0      0      2.8     53\n",
       " 8782 │  2012     12     31     21      0      0      2.7     52\n",
       " 8783 │  2012     12     31     22      0      0      0.8     67\n",
       " 8784 │  2012     12     31     23      0      0      1.7     60\n",
       "\u001b[31m                                                8763 rows omitted\u001b[0m"
      ]
     },
     "execution_count": 11,
     "metadata": {},
     "output_type": "execute_result"
    }
   ],
   "source": [
    "using DataFrames  \n",
    "using CSV  \n",
    "climate_data_sample = CSV.File(\"./input_data/sample_climate_data.csv\") |> DataFrame"
   ]
  },
  {
   "cell_type": "markdown",
   "metadata": {},
   "source": [
    "DataFramesの使い方は例えば以下のサイトを参照にするとよい。  \n",
    "\n",
    "DataFrames.jl公式ホームページ：https://dataframes.juliadata.org/stable/  \n",
    "\n",
    "Juliaで遊んでみた－データフレーム操作編：https://qiita.com/HiroyukiTachikawa/items/e01917ade931031ec6a1#4%E3%83%87%E3%83%BC%E3%82%BF%E6%8A%BD%E5%87%BA  \n",
    "\n",
    "なお、本プログラムで最も重要な複数条件によるデータの抽出は以下のように行う。  \n",
    "例えば温度データの中から「1月」「1日」「1時」のデータを抽出する場合以下のようになる。"
   ]
  },
  {
   "cell_type": "code",
   "execution_count": 12,
   "metadata": {},
   "outputs": [
    {
     "data": {
      "text/plain": [
       "1-element Array{Float64,1}:\n",
       " 3.7"
      ]
     },
     "execution_count": 12,
     "metadata": {},
     "output_type": "execute_result"
    }
   ],
   "source": [
    "climate_data_sample.temp[ (climate_data_sample.month.==1).&(climate_data_sample.day.==1).&(climate_data_sample.hour.==2) ]"
   ]
  },
  {
   "cell_type": "markdown",
   "metadata": {},
   "source": [
    "これを分かりやすいよう以下のように関数化しておく。  \n",
    "\n",
    "関数名：\n",
    "- get_climate_data_by_date\n",
    "        \n",
    "引数（値のみ）：\n",
    "- climate_data.temp: 気象データ（sampleのようにmonth, day, hourを作成しておくこと）\n",
    "- date: 日時（Calendar構造体型が望ましい）\n",
    "\n",
    "戻り値：\n",
    "- value(Calendar): 引数で渡した日付情報に合致する温度や相対湿度を返す関数が返ってくる。\n"
   ]
  },
  {
   "cell_type": "code",
   "execution_count": 13,
   "metadata": {},
   "outputs": [
    {
     "data": {
      "text/plain": [
       "get_climate_data_by_date (generic function with 1 method)"
      ]
     },
     "execution_count": 13,
     "metadata": {},
     "output_type": "execute_result"
    }
   ],
   "source": [
    "function get_climate_data_by_date( climdata )\n",
    "    get_temp(date) = climdata.temp[ (climdata.year.==date.year).&(climdata.month.==date.month).&(climdata.day.==date.day).&(climdata.hour.==date.hour).&(climdata.min.==date.min) ][1]\n",
    "    get_rh(date) = climdata.rh[ (climdata.year.==date.year).&(climdata.month.==date.month).&(climdata.day.==date.day).&(climdata.hour.==date.hour).&(climdata.min.==date.min) ][1]\n",
    "    return get_temp, get_rh\n",
    "end"
   ]
  },
  {
   "cell_type": "markdown",
   "metadata": {},
   "source": [
    "### 使用例"
   ]
  },
  {
   "cell_type": "code",
   "execution_count": 14,
   "metadata": {},
   "outputs": [
    {
     "data": {
      "text/plain": [
       "(var\"#get_temp#7\"{DataFrame}(\u001b[1m8784×8 DataFrame\u001b[0m\n",
       "\u001b[1m  Row \u001b[0m│\u001b[1m year  \u001b[0m\u001b[1m month \u001b[0m\u001b[1m day   \u001b[0m\u001b[1m hour  \u001b[0m\u001b[1m min   \u001b[0m\u001b[1m sec   \u001b[0m\u001b[1m temp    \u001b[0m\u001b[1m rh    \u001b[0m\n",
       "\u001b[1m      \u001b[0m│\u001b[90m Int64 \u001b[0m\u001b[90m Int64 \u001b[0m\u001b[90m Int64 \u001b[0m\u001b[90m Int64 \u001b[0m\u001b[90m Int64 \u001b[0m\u001b[90m Int64 \u001b[0m\u001b[90m Float64 \u001b[0m\u001b[90m Int64 \u001b[0m\n",
       "──────┼──────────────────────────────────────────────────────────\n",
       "    1 │  2012      1      1      0      0      0      3.7     77\n",
       "    2 │  2012      1      1      1      0      0      3.9     74\n",
       "    3 │  2012      1      1      2      0      0      3.7     76\n",
       "    4 │  2012      1      1      3      0      0      4.2     74\n",
       "    5 │  2012      1      1      4      0      0      5.0     71\n",
       "    6 │  2012      1      1      5      0      0      4.7     73\n",
       "    7 │  2012      1      1      6      0      0      4.7     71\n",
       "    8 │  2012      1      1      7      0      0      4.4     75\n",
       "    9 │  2012      1      1      8      0      0      5.2     72\n",
       "   10 │  2012      1      1      9      0      0      5.7     71\n",
       "   11 │  2012      1      1     10      0      0      6.4     72\n",
       "  ⋮   │   ⋮      ⋮      ⋮      ⋮      ⋮      ⋮       ⋮       ⋮\n",
       " 8775 │  2012     12     31     14      0      0      3.8     66\n",
       " 8776 │  2012     12     31     15      0      0      4.0     66\n",
       " 8777 │  2012     12     31     16      0      0      3.6     61\n",
       " 8778 │  2012     12     31     17      0      0      3.3     64\n",
       " 8779 │  2012     12     31     18      0      0      3.2     64\n",
       " 8780 │  2012     12     31     19      0      0      2.3     67\n",
       " 8781 │  2012     12     31     20      0      0      2.8     53\n",
       " 8782 │  2012     12     31     21      0      0      2.7     52\n",
       " 8783 │  2012     12     31     22      0      0      0.8     67\n",
       " 8784 │  2012     12     31     23      0      0      1.7     60\n",
       "\u001b[31m                                                8763 rows omitted\u001b[0m), var\"#get_rh#8\"{DataFrame}(\u001b[1m8784×8 DataFrame\u001b[0m\n",
       "\u001b[1m  Row \u001b[0m│\u001b[1m year  \u001b[0m\u001b[1m month \u001b[0m\u001b[1m day   \u001b[0m\u001b[1m hour  \u001b[0m\u001b[1m min   \u001b[0m\u001b[1m sec   \u001b[0m\u001b[1m temp    \u001b[0m\u001b[1m rh    \u001b[0m\n",
       "\u001b[1m      \u001b[0m│\u001b[90m Int64 \u001b[0m\u001b[90m Int64 \u001b[0m\u001b[90m Int64 \u001b[0m\u001b[90m Int64 \u001b[0m\u001b[90m Int64 \u001b[0m\u001b[90m Int64 \u001b[0m\u001b[90m Float64 \u001b[0m\u001b[90m Int64 \u001b[0m\n",
       "──────┼──────────────────────────────────────────────────────────\n",
       "    1 │  2012      1      1      0      0      0      3.7     77\n",
       "    2 │  2012      1      1      1      0      0      3.9     74\n",
       "    3 │  2012      1      1      2      0      0      3.7     76\n",
       "    4 │  2012      1      1      3      0      0      4.2     74\n",
       "    5 │  2012      1      1      4      0      0      5.0     71\n",
       "    6 │  2012      1      1      5      0      0      4.7     73\n",
       "    7 │  2012      1      1      6      0      0      4.7     71\n",
       "    8 │  2012      1      1      7      0      0      4.4     75\n",
       "    9 │  2012      1      1      8      0      0      5.2     72\n",
       "   10 │  2012      1      1      9      0      0      5.7     71\n",
       "   11 │  2012      1      1     10      0      0      6.4     72\n",
       "  ⋮   │   ⋮      ⋮      ⋮      ⋮      ⋮      ⋮       ⋮       ⋮\n",
       " 8775 │  2012     12     31     14      0      0      3.8     66\n",
       " 8776 │  2012     12     31     15      0      0      4.0     66\n",
       " 8777 │  2012     12     31     16      0      0      3.6     61\n",
       " 8778 │  2012     12     31     17      0      0      3.3     64\n",
       " 8779 │  2012     12     31     18      0      0      3.2     64\n",
       " 8780 │  2012     12     31     19      0      0      2.3     67\n",
       " 8781 │  2012     12     31     20      0      0      2.8     53\n",
       " 8782 │  2012     12     31     21      0      0      2.7     52\n",
       " 8783 │  2012     12     31     22      0      0      0.8     67\n",
       " 8784 │  2012     12     31     23      0      0      1.7     60\n",
       "\u001b[31m                                                8763 rows omitted\u001b[0m))"
      ]
     },
     "execution_count": 14,
     "metadata": {},
     "output_type": "execute_result"
    }
   ],
   "source": [
    "get_temp_sample, get_rh_sample = get_climate_data_by_date( climate_data_sample )"
   ]
  },
  {
   "cell_type": "code",
   "execution_count": 15,
   "metadata": {},
   "outputs": [
    {
     "data": {
      "text/plain": [
       "3.7"
      ]
     },
     "execution_count": 15,
     "metadata": {},
     "output_type": "execute_result"
    }
   ],
   "source": [
    "get_temp_sample( construct_Calendar( year=2012, month=1, day=1, hour=0, min=0, sec=0) )"
   ]
  },
  {
   "cell_type": "markdown",
   "metadata": {},
   "source": [
    "※この場合出力結果はベクトルとして表示されている。⇒文末に[1]をつけるとスカラ表示になる。"
   ]
  },
  {
   "cell_type": "markdown",
   "metadata": {},
   "source": [
    "## 4.3 環境データを用いて直線内挿する方法  \n",
    "\n",
    "4.1の直線内挿および4.2のデータの格納方法を用いてある時刻のデータを求める方法を以下に示す。  \n",
    "\n",
    "関数名：\n",
    "- cal_lerp_〇〇ti\n",
    "        \n",
    "引数（値のみ）：\n",
    "- get_value(Calendar): 気象データ（上述のCalendarを基に算出する形とする）\n",
    "- date(Calendar):現在の時刻を入力する\n",
    "\n",
    "戻り値：\n",
    "- 実数(Float64): 環境データを直線内挿した後の現在の時刻が求められる。"
   ]
  },
  {
   "cell_type": "markdown",
   "metadata": {},
   "source": [
    "#### 4.3.1 60分間隔の測定データの場合 "
   ]
  },
  {
   "cell_type": "code",
   "execution_count": 16,
   "metadata": {},
   "outputs": [
    {
     "data": {
      "text/plain": [
       "cal_lerp_60ti (generic function with 4 methods)"
      ]
     },
     "execution_count": 16,
     "metadata": {},
     "output_type": "execute_result"
    }
   ],
   "source": [
    "function cal_lerp_60ti( get_value::Function, date::Calendar )\n",
    "    date_before = construct_Calendar( year=date.year, month=date.month, day=date.day, hour=date.hour, min=0, sec=0);\n",
    "    value_before= get_value( date_before )\n",
    "    # 順番に注意　⇒　cal_time_after_dtを行うと引数のdate自体が更新されてしまう。\n",
    "    date_after  = cal_time_after_dt( date = date_before, dt = 60.0 * 60.0 )\n",
    "    value_next  = get_value( date_after  )\n",
    "    return cal_lerp_60ti( value_next, value_before, date )\n",
    "end\n",
    "cal_lerp_60ti(; get_value, date ) = cal_lerp_60ti( get_value, date )"
   ]
  },
  {
   "cell_type": "markdown",
   "metadata": {},
   "source": [
    "#### 4.3.2 30分間隔の測定データの場合  "
   ]
  },
  {
   "cell_type": "code",
   "execution_count": 17,
   "metadata": {},
   "outputs": [
    {
     "data": {
      "text/plain": [
       "cal_lerp_30ti (generic function with 4 methods)"
      ]
     },
     "execution_count": 17,
     "metadata": {},
     "output_type": "execute_result"
    }
   ],
   "source": [
    "function cal_lerp_30ti( get_value::Function, date::Calendar )\n",
    "    date_before = construct_Calendar( year=date.year, month=date.month, day=date.day, hour=date.hour, min=date.min-mod(date.min,30), sec=0);\n",
    "    value_before= get_value( date_before )\n",
    "    date_after  = cal_time_after_dt( date = date_before, dt = 30.0 * 60.0 )\n",
    "    value_next  = get_value( date_after  )\n",
    "    return cal_lerp_30ti( value_next, value_before, date )\n",
    "end\n",
    "cal_lerp_30ti(; get_value, date ) = cal_lerp_30ti( get_value, date )"
   ]
  },
  {
   "cell_type": "markdown",
   "metadata": {},
   "source": [
    "#### 4.3.3 10分間隔の測定データの場合  "
   ]
  },
  {
   "cell_type": "code",
   "execution_count": 18,
   "metadata": {},
   "outputs": [
    {
     "data": {
      "text/plain": [
       "cal_lerp_10ti (generic function with 4 methods)"
      ]
     },
     "execution_count": 18,
     "metadata": {},
     "output_type": "execute_result"
    }
   ],
   "source": [
    "function cal_lerp_10ti( get_value::Function, date::Calendar )\n",
    "    date_before = construct_Calendar( year=date.year, month=date.month, day=date.day, hour=date.hour, min=date.min-mod(date.min,10), sec=0)\n",
    "    value_before= get_value( date_before )\n",
    "    date_after  = cal_time_after_dt( date = date_before, dt = 10.0 * 60.0 )\n",
    "    value_next  = get_value( date_after  )\n",
    "    return cal_lerp_10ti( value_next, value_before, date )\n",
    "end\n",
    "cal_lerp_10ti(; get_value, date ) = cal_lerp_10ti( get_value, date )"
   ]
  },
  {
   "cell_type": "code",
   "execution_count": 19,
   "metadata": {},
   "outputs": [
    {
     "ename": "BoundsError",
     "evalue": "BoundsError: attempt to access 0-element Array{Float64,1} at index [1]",
     "output_type": "error",
     "traceback": [
      "BoundsError: attempt to access 0-element Array{Float64,1} at index [1]",
      "",
      "Stacktrace:",
      " [1] getindex(::Array{Float64,1}, ::Int64) at .\\array.jl:788",
      " [2] (::var\"#get_temp#7\"{DataFrame})(::Calendar) at .\\In[13]:2",
      " [3] cal_lerp_30ti(::var\"#get_temp#7\"{DataFrame}, ::Calendar) at .\\In[17]:5",
      " [4] top-level scope at In[19]:1"
     ]
    }
   ],
   "source": [
    "cal_lerp_60ti( get_temp_sample, construct_Calendar( year=2012, month=1, day=1, hour=0, min=10, sec=0) )"
   ]
  },
  {
   "cell_type": "markdown",
   "metadata": {},
   "source": [
    "</br>\n",
    "\n",
    "# Appendix. ループ計算に関する考察"
   ]
  },
  {
   "cell_type": "markdown",
   "metadata": {},
   "source": [
    "## A.1 構造体ではなく辞書型を用いて日付を表現する場合  \n",
    "\n",
    "〇〇秒が〇日〇時間〇分〇秒であることを表すモジュール\n",
    "\n",
    "関数名：\n",
    "- cal_time_to_day\n",
    "        \n",
    "引数（値のみ）：\n",
    "- time: 時間（秒）\n",
    "\n",
    "戻り値：\n",
    "- 辞書型(Dict): [\"day\"], [\"hour\"], [\"minute\"], [\"second\"] それぞれの値が返ってくる。\n"
   ]
  },
  {
   "cell_type": "code",
   "execution_count": 20,
   "metadata": {},
   "outputs": [
    {
     "data": {
      "text/plain": [
       "cal_time_to_day (generic function with 1 method)"
      ]
     },
     "execution_count": 20,
     "metadata": {},
     "output_type": "execute_result"
    }
   ],
   "source": [
    "#　辞書型での出力\n",
    "function cal_time_to_day( time )\n",
    "    # 辞書型での保存\n",
    "    day  = time ÷ ( 60.0 * 60.0 * 24.0 )\n",
    "    hour = mod(time,( 60.0 * 60.0 * 24.0 ) ) ÷ ( 60.0 * 60.0 )\n",
    "    minute = mod( time, ( 60.0 * 60.0 ) ) ÷ ( 60.0 )\n",
    "    second = mod( time , 60.0 )\n",
    "    return Dict(\"day\"=>day, \"hour\"=>hour, \"minute\"=>minute, \"second\"=>second)\n",
    "end"
   ]
  },
  {
   "cell_type": "markdown",
   "metadata": {},
   "source": [
    "#### 使用例"
   ]
  },
  {
   "cell_type": "markdown",
   "metadata": {},
   "source": [
    "time = cal_time_to_day( 10000 )\n",
    "#print(\"day = \", time[\"day\"], \", hour = \", time[\"hour\"], \", minute = \", time[\"minute\"], \", second = \", time[\"second\"] ) "
   ]
  },
  {
   "cell_type": "markdown",
   "metadata": {},
   "source": []
  }
 ],
 "metadata": {
  "kernelspec": {
   "display_name": "Julia 1.4.2",
   "language": "julia",
   "name": "julia-1.4"
  },
  "language_info": {
   "file_extension": ".jl",
   "mimetype": "application/julia",
   "name": "julia",
   "version": "1.4.2"
  }
 },
 "nbformat": 4,
 "nbformat_minor": 4
}
