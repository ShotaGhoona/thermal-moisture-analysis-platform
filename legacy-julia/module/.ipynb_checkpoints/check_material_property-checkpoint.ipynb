{
 "cells": [
  {
   "cell_type": "markdown",
   "metadata": {},
   "source": [
    "</br>\n",
    "\n",
    "# 物性値チェック用のプログラム"
   ]
  },
  {
   "cell_type": "code",
   "execution_count": 1,
   "metadata": {},
   "outputs": [
    {
     "name": "stderr",
     "output_type": "stream",
     "text": [
      "WARNING: replacing module water_property.\n"
     ]
    },
    {
     "data": {
      "text/plain": [
       "-100.00036773354829"
      ]
     },
     "execution_count": 1,
     "metadata": {},
     "output_type": "execute_result"
    }
   ],
   "source": [
    "using DataFrames\n",
    "using CSV\n",
    "include(\"core_system.jl\")"
   ]
  },
  {
   "cell_type": "markdown",
   "metadata": {},
   "source": [
    "物性値の算出条件（温度・水分条件）を決める。"
   ]
  },
  {
   "cell_type": "code",
   "execution_count": 2,
   "metadata": {},
   "outputs": [],
   "source": [
    "temp = 20.0 + 273.15\n",
    "rh = [ Float64(i/10000.0) for i = 1:9999 ];"
   ]
  },
  {
   "cell_type": "markdown",
   "metadata": {},
   "source": [
    "出力したい物性値名を書く。"
   ]
  },
  {
   "cell_type": "code",
   "execution_count": 3,
   "metadata": {},
   "outputs": [],
   "source": [
    "material_name = \"benchmark_EN15026\";"
   ]
  },
  {
   "cell_type": "markdown",
   "metadata": {},
   "source": [
    "cellクラスを用いて計算する。"
   ]
  },
  {
   "cell_type": "code",
   "execution_count": 4,
   "metadata": {},
   "outputs": [],
   "source": [
    "cells = [ Porous_material_based_miu.cell_construction( dx = 1.0, dx2 = 1.0, temp = temp, rh=rh[i], material_name = material_name ) for i = 1:length(rh) ];"
   ]
  },
  {
   "cell_type": "markdown",
   "metadata": {},
   "source": [
    "配列を作り直す"
   ]
  },
  {
   "cell_type": "code",
   "execution_count": 5,
   "metadata": {},
   "outputs": [
    {
     "data": {
      "text/plain": [
       "\"./output_data/tuff_motomachi_v2_property.csv\""
      ]
     },
     "execution_count": 5,
     "metadata": {},
     "output_type": "execute_result"
    }
   ],
   "source": [
    "pd = DataFrame( temp = [ Porous_material_based_miu.temp(cells[i]) for i = 1:length(cells) ] )\n",
    "pd.rh  = [ Porous_material_based_miu.rh(cells[i]) for i = 1:length(cells) ]\n",
    "pd.miu = [ Porous_material_based_miu.miu(cells[i]) for i = 1:length(cells) ]\n",
    "pd.pv  = [ Porous_material_based_miu.pv(cells[i]) for i = 1:length(cells) ]\n",
    "pd.phi = [ Porous_material_based_miu.phi(cells[i]) for i = 1:length(cells) ]\n",
    "pd.dphi= [ Porous_material_based_miu.dphi(cells[i]) for i = 1:length(cells) ]\n",
    "pd.crow= [ Porous_material_based_miu.crow(cells[i]) for i = 1:length(cells) ] \n",
    "pd.lam = [ Porous_material_based_miu.lam(cells[i]) for i = 1:length(cells) ] \n",
    "pd.dw  = [ Porous_material_based_miu.dw(cells[i]) for i = 1:length(cells) ] \n",
    "pd.dp  = [ Porous_material_based_miu.dp(cells[i]) for i = 1:length(cells) ] \n",
    "pd.ldml= [ Porous_material_based_miu.ldml(cells[i]) for i = 1:length(cells) ] \n",
    "pd.ldmg= [ Porous_material_based_miu.ldmg(cells[i]) for i = 1:length(cells) ]\n",
    "pd.ldtg= [ Porous_material_based_miu.ldtg(cells[i]) for i = 1:length(cells) ]\n",
    "CSV.write(\"./output_data/tuff_motomachi_v2_property.csv\",pd )"
   ]
  },
  {
   "cell_type": "code",
   "execution_count": 6,
   "metadata": {},
   "outputs": [
    {
     "data": {
      "text/html": [
       "<table class=\"data-frame\"><thead><tr><th></th><th>temp</th><th>rh</th><th>miu</th><th>pv</th><th>phi</th><th>dphi</th><th>crow</th><th>lam</th></tr><tr><th></th><th>Float64</th><th>Float64</th><th>Float64</th><th>Float64</th><th>Float64</th><th>Float64</th><th>Float64</th><th>Float64</th></tr></thead><tbody><p>9,999 rows × 13 columns (omitted printing of 5 columns)</p><tr><th>1</th><td>293.15</td><td>0.0001</td><td>-1.2463e6</td><td>0.23388</td><td>0.0108667</td><td>2.70294e-9</td><td>1.15493e6</td><td>0.36872</td></tr><tr><th>2</th><td>293.15</td><td>0.0002</td><td>-1.1525e6</td><td>0.467761</td><td>0.0111335</td><td>2.99468e-9</td><td>1.15604e6</td><td>0.36918</td></tr><tr><th>3</th><td>293.15</td><td>0.0003</td><td>-1.09764e6</td><td>0.701641</td><td>0.0113031</td><td>3.19227e-9</td><td>1.15675e6</td><td>0.369472</td></tr><tr><th>4</th><td>293.15</td><td>0.0004</td><td>-1.05871e6</td><td>0.935521</td><td>0.0114303</td><td>3.3469e-9</td><td>1.15729e6</td><td>0.369691</td></tr><tr><th>5</th><td>293.15</td><td>0.0005</td><td>-1.02852e6</td><td>1.1694</td><td>0.0115333</td><td>3.4762e-9</td><td>1.15772e6</td><td>0.369868</td></tr><tr><th>6</th><td>293.15</td><td>0.0006</td><td>-1.00385e6</td><td>1.40328</td><td>0.0116205</td><td>3.58854e-9</td><td>1.15808e6</td><td>0.370019</td></tr><tr><th>7</th><td>293.15</td><td>0.0007</td><td>-982987.0</td><td>1.63716</td><td>0.0116964</td><td>3.68862e-9</td><td>1.1584e6</td><td>0.370149</td></tr><tr><th>8</th><td>293.15</td><td>0.0008</td><td>-964918.0</td><td>1.87104</td><td>0.0117638</td><td>3.77937e-9</td><td>1.15868e6</td><td>0.370266</td></tr><tr><th>9</th><td>293.15</td><td>0.0009</td><td>-948980.0</td><td>2.10492</td><td>0.0118247</td><td>3.86273e-9</td><td>1.15894e6</td><td>0.37037</td></tr><tr><th>10</th><td>293.15</td><td>0.001</td><td>-934723.0</td><td>2.3388</td><td>0.0118803</td><td>3.94009e-9</td><td>1.15917e6</td><td>0.370466</td></tr><tr><th>11</th><td>293.15</td><td>0.0011</td><td>-921826.0</td><td>2.57268</td><td>0.0119316</td><td>4.01246e-9</td><td>1.15938e6</td><td>0.370555</td></tr><tr><th>12</th><td>293.15</td><td>0.0012</td><td>-910052.0</td><td>2.80656</td><td>0.0119792</td><td>4.0806e-9</td><td>1.15958e6</td><td>0.370637</td></tr><tr><th>13</th><td>293.15</td><td>0.0013</td><td>-899221.0</td><td>3.04044</td><td>0.0120238</td><td>4.14511e-9</td><td>1.15977e6</td><td>0.370713</td></tr><tr><th>14</th><td>293.15</td><td>0.0014</td><td>-889193.0</td><td>3.27433</td><td>0.0120657</td><td>4.20646e-9</td><td>1.15994e6</td><td>0.370786</td></tr><tr><th>15</th><td>293.15</td><td>0.0015</td><td>-879858.0</td><td>3.50821</td><td>0.0121052</td><td>4.26502e-9</td><td>1.16011e6</td><td>0.370854</td></tr><tr><th>16</th><td>293.15</td><td>0.0016</td><td>-871124.0</td><td>3.74209</td><td>0.0121427</td><td>4.32112e-9</td><td>1.16027e6</td><td>0.370918</td></tr><tr><th>17</th><td>293.15</td><td>0.0017</td><td>-862921.0</td><td>3.97597</td><td>0.0121784</td><td>4.37501e-9</td><td>1.16042e6</td><td>0.37098</td></tr><tr><th>18</th><td>293.15</td><td>0.0018</td><td>-855187.0</td><td>4.20985</td><td>0.0122124</td><td>4.42692e-9</td><td>1.16056e6</td><td>0.371038</td></tr><tr><th>19</th><td>293.15</td><td>0.0019</td><td>-847871.0</td><td>4.44373</td><td>0.012245</td><td>4.47702e-9</td><td>1.1607e6</td><td>0.371094</td></tr><tr><th>20</th><td>293.15</td><td>0.002</td><td>-840930.0</td><td>4.67761</td><td>0.0122762</td><td>4.52549e-9</td><td>1.16083e6</td><td>0.371148</td></tr><tr><th>21</th><td>293.15</td><td>0.0021</td><td>-834328.0</td><td>4.91149</td><td>0.0123062</td><td>4.57246e-9</td><td>1.16095e6</td><td>0.3712</td></tr><tr><th>22</th><td>293.15</td><td>0.0022</td><td>-828033.0</td><td>5.14537</td><td>0.0123352</td><td>4.61805e-9</td><td>1.16107e6</td><td>0.37125</td></tr><tr><th>23</th><td>293.15</td><td>0.0023</td><td>-822018.0</td><td>5.37925</td><td>0.0123631</td><td>4.66237e-9</td><td>1.16119e6</td><td>0.371298</td></tr><tr><th>24</th><td>293.15</td><td>0.0024</td><td>-816259.0</td><td>5.61313</td><td>0.0123901</td><td>4.70551e-9</td><td>1.1613e6</td><td>0.371344</td></tr><tr><th>25</th><td>293.15</td><td>0.0025</td><td>-810735.0</td><td>5.84701</td><td>0.0124162</td><td>4.74755e-9</td><td>1.16141e6</td><td>0.371389</td></tr><tr><th>26</th><td>293.15</td><td>0.0026</td><td>-805428.0</td><td>6.08089</td><td>0.0124415</td><td>4.78857e-9</td><td>1.16152e6</td><td>0.371433</td></tr><tr><th>27</th><td>293.15</td><td>0.0027</td><td>-800321.0</td><td>6.31477</td><td>0.012466</td><td>4.82864e-9</td><td>1.16162e6</td><td>0.371475</td></tr><tr><th>28</th><td>293.15</td><td>0.0028</td><td>-795400.0</td><td>6.54865</td><td>0.0124899</td><td>4.86781e-9</td><td>1.16172e6</td><td>0.371516</td></tr><tr><th>29</th><td>293.15</td><td>0.0029</td><td>-790652.0</td><td>6.78253</td><td>0.0125131</td><td>4.90615e-9</td><td>1.16182e6</td><td>0.371556</td></tr><tr><th>30</th><td>293.15</td><td>0.003</td><td>-786064.0</td><td>7.01641</td><td>0.0125357</td><td>4.94369e-9</td><td>1.16191e6</td><td>0.371595</td></tr><tr><th>&vellip;</th><td>&vellip;</td><td>&vellip;</td><td>&vellip;</td><td>&vellip;</td><td>&vellip;</td><td>&vellip;</td><td>&vellip;</td><td>&vellip;</td></tr></tbody></table>"
      ],
      "text/latex": [
       "\\begin{tabular}{r|ccccccccc}\n",
       "\t& temp & rh & miu & pv & phi & dphi & crow & lam & \\\\\n",
       "\t\\hline\n",
       "\t& Float64 & Float64 & Float64 & Float64 & Float64 & Float64 & Float64 & Float64 & \\\\\n",
       "\t\\hline\n",
       "\t1 & 293.15 & 0.0001 & -1.2463e6 & 0.23388 & 0.0108667 & 2.70294e-9 & 1.15493e6 & 0.36872 & $\\dots$ \\\\\n",
       "\t2 & 293.15 & 0.0002 & -1.1525e6 & 0.467761 & 0.0111335 & 2.99468e-9 & 1.15604e6 & 0.36918 & $\\dots$ \\\\\n",
       "\t3 & 293.15 & 0.0003 & -1.09764e6 & 0.701641 & 0.0113031 & 3.19227e-9 & 1.15675e6 & 0.369472 & $\\dots$ \\\\\n",
       "\t4 & 293.15 & 0.0004 & -1.05871e6 & 0.935521 & 0.0114303 & 3.3469e-9 & 1.15729e6 & 0.369691 & $\\dots$ \\\\\n",
       "\t5 & 293.15 & 0.0005 & -1.02852e6 & 1.1694 & 0.0115333 & 3.4762e-9 & 1.15772e6 & 0.369868 & $\\dots$ \\\\\n",
       "\t6 & 293.15 & 0.0006 & -1.00385e6 & 1.40328 & 0.0116205 & 3.58854e-9 & 1.15808e6 & 0.370019 & $\\dots$ \\\\\n",
       "\t7 & 293.15 & 0.0007 & -982987.0 & 1.63716 & 0.0116964 & 3.68862e-9 & 1.1584e6 & 0.370149 & $\\dots$ \\\\\n",
       "\t8 & 293.15 & 0.0008 & -964918.0 & 1.87104 & 0.0117638 & 3.77937e-9 & 1.15868e6 & 0.370266 & $\\dots$ \\\\\n",
       "\t9 & 293.15 & 0.0009 & -948980.0 & 2.10492 & 0.0118247 & 3.86273e-9 & 1.15894e6 & 0.37037 & $\\dots$ \\\\\n",
       "\t10 & 293.15 & 0.001 & -934723.0 & 2.3388 & 0.0118803 & 3.94009e-9 & 1.15917e6 & 0.370466 & $\\dots$ \\\\\n",
       "\t11 & 293.15 & 0.0011 & -921826.0 & 2.57268 & 0.0119316 & 4.01246e-9 & 1.15938e6 & 0.370555 & $\\dots$ \\\\\n",
       "\t12 & 293.15 & 0.0012 & -910052.0 & 2.80656 & 0.0119792 & 4.0806e-9 & 1.15958e6 & 0.370637 & $\\dots$ \\\\\n",
       "\t13 & 293.15 & 0.0013 & -899221.0 & 3.04044 & 0.0120238 & 4.14511e-9 & 1.15977e6 & 0.370713 & $\\dots$ \\\\\n",
       "\t14 & 293.15 & 0.0014 & -889193.0 & 3.27433 & 0.0120657 & 4.20646e-9 & 1.15994e6 & 0.370786 & $\\dots$ \\\\\n",
       "\t15 & 293.15 & 0.0015 & -879858.0 & 3.50821 & 0.0121052 & 4.26502e-9 & 1.16011e6 & 0.370854 & $\\dots$ \\\\\n",
       "\t16 & 293.15 & 0.0016 & -871124.0 & 3.74209 & 0.0121427 & 4.32112e-9 & 1.16027e6 & 0.370918 & $\\dots$ \\\\\n",
       "\t17 & 293.15 & 0.0017 & -862921.0 & 3.97597 & 0.0121784 & 4.37501e-9 & 1.16042e6 & 0.37098 & $\\dots$ \\\\\n",
       "\t18 & 293.15 & 0.0018 & -855187.0 & 4.20985 & 0.0122124 & 4.42692e-9 & 1.16056e6 & 0.371038 & $\\dots$ \\\\\n",
       "\t19 & 293.15 & 0.0019 & -847871.0 & 4.44373 & 0.012245 & 4.47702e-9 & 1.1607e6 & 0.371094 & $\\dots$ \\\\\n",
       "\t20 & 293.15 & 0.002 & -840930.0 & 4.67761 & 0.0122762 & 4.52549e-9 & 1.16083e6 & 0.371148 & $\\dots$ \\\\\n",
       "\t21 & 293.15 & 0.0021 & -834328.0 & 4.91149 & 0.0123062 & 4.57246e-9 & 1.16095e6 & 0.3712 & $\\dots$ \\\\\n",
       "\t22 & 293.15 & 0.0022 & -828033.0 & 5.14537 & 0.0123352 & 4.61805e-9 & 1.16107e6 & 0.37125 & $\\dots$ \\\\\n",
       "\t23 & 293.15 & 0.0023 & -822018.0 & 5.37925 & 0.0123631 & 4.66237e-9 & 1.16119e6 & 0.371298 & $\\dots$ \\\\\n",
       "\t24 & 293.15 & 0.0024 & -816259.0 & 5.61313 & 0.0123901 & 4.70551e-9 & 1.1613e6 & 0.371344 & $\\dots$ \\\\\n",
       "\t25 & 293.15 & 0.0025 & -810735.0 & 5.84701 & 0.0124162 & 4.74755e-9 & 1.16141e6 & 0.371389 & $\\dots$ \\\\\n",
       "\t26 & 293.15 & 0.0026 & -805428.0 & 6.08089 & 0.0124415 & 4.78857e-9 & 1.16152e6 & 0.371433 & $\\dots$ \\\\\n",
       "\t27 & 293.15 & 0.0027 & -800321.0 & 6.31477 & 0.012466 & 4.82864e-9 & 1.16162e6 & 0.371475 & $\\dots$ \\\\\n",
       "\t28 & 293.15 & 0.0028 & -795400.0 & 6.54865 & 0.0124899 & 4.86781e-9 & 1.16172e6 & 0.371516 & $\\dots$ \\\\\n",
       "\t29 & 293.15 & 0.0029 & -790652.0 & 6.78253 & 0.0125131 & 4.90615e-9 & 1.16182e6 & 0.371556 & $\\dots$ \\\\\n",
       "\t30 & 293.15 & 0.003 & -786064.0 & 7.01641 & 0.0125357 & 4.94369e-9 & 1.16191e6 & 0.371595 & $\\dots$ \\\\\n",
       "\t$\\dots$ & $\\dots$ & $\\dots$ & $\\dots$ & $\\dots$ & $\\dots$ & $\\dots$ & $\\dots$ & $\\dots$ &  \\\\\n",
       "\\end{tabular}\n"
      ],
      "text/plain": [
       "\u001b[1m9999×13 DataFrame\u001b[0m\n",
       "\u001b[1m  Row \u001b[0m│\u001b[1m temp    \u001b[0m\u001b[1m rh      \u001b[0m\u001b[1m miu             \u001b[0m\u001b[1m pv          \u001b[0m\u001b[1m phi       \u001b[0m\u001b[1m dphi       \u001b[0m ⋯\n",
       "\u001b[1m      \u001b[0m│\u001b[90m Float64 \u001b[0m\u001b[90m Float64 \u001b[0m\u001b[90m Float64         \u001b[0m\u001b[90m Float64     \u001b[0m\u001b[90m Float64   \u001b[0m\u001b[90m Float64    \u001b[0m ⋯\n",
       "──────┼─────────────────────────────────────────────────────────────────────────\n",
       "    1 │  293.15   0.0001       -1.2463e6      0.23388   0.0108667  2.70294e-9  ⋯\n",
       "    2 │  293.15   0.0002       -1.1525e6      0.467761  0.0111335  2.99468e-9\n",
       "    3 │  293.15   0.0003       -1.09764e6     0.701641  0.0113031  3.19227e-9\n",
       "    4 │  293.15   0.0004       -1.05871e6     0.935521  0.0114303  3.3469e-9\n",
       "    5 │  293.15   0.0005       -1.02852e6     1.1694    0.0115333  3.4762e-9   ⋯\n",
       "    6 │  293.15   0.0006       -1.00385e6     1.40328   0.0116205  3.58854e-9\n",
       "    7 │  293.15   0.0007  -982987.0           1.63716   0.0116964  3.68862e-9\n",
       "    8 │  293.15   0.0008  -964918.0           1.87104   0.0117638  3.77937e-9\n",
       "    9 │  293.15   0.0009  -948980.0           2.10492   0.0118247  3.86273e-9  ⋯\n",
       "   10 │  293.15   0.001   -934723.0           2.3388    0.0118803  3.94009e-9\n",
       "   11 │  293.15   0.0011  -921826.0           2.57268   0.0119316  4.01246e-9\n",
       "  ⋮   │    ⋮        ⋮            ⋮              ⋮           ⋮           ⋮      ⋱\n",
       " 9990 │  293.15   0.999      -135.383      2336.46      0.178928   0.000363576\n",
       " 9991 │  293.15   0.9991     -121.838      2336.7       0.184149   0.000408964 ⋯\n",
       " 9992 │  293.15   0.9992     -108.295      2336.93      0.190054   0.00046499\n",
       " 9993 │  293.15   0.9993      -94.7537     2337.17      0.196808   0.000535454\n",
       " 9994 │  293.15   0.9994      -81.2134     2337.4       0.204645   0.000626004\n",
       " 9995 │  293.15   0.9995      -67.6744     2337.63      0.213889   0.000745234 ⋯\n",
       " 9996 │  293.15   0.9996      -54.1368     2337.87      0.225011   0.000906348\n",
       " 9997 │  293.15   0.9997      -40.6006     2338.1       0.238703   0.00112881\n",
       " 9998 │  293.15   0.9998      -27.0657     2338.34      0.255944   0.00143316\n",
       " 9999 │  293.15   0.9999      -13.5322     2338.57      0.27771    0.00177098  ⋯\n",
       "\u001b[31m                                                 7 columns and 9978 rows omitted\u001b[0m"
      ]
     },
     "execution_count": 6,
     "metadata": {},
     "output_type": "execute_result"
    }
   ],
   "source": [
    "pd"
   ]
  }
 ],
 "metadata": {
  "kernelspec": {
   "display_name": "Julia 1.6.1",
   "language": "julia",
   "name": "julia-1.6"
  },
  "language_info": {
   "file_extension": ".jl",
   "mimetype": "application/julia",
   "name": "julia",
   "version": "1.6.1"
  }
 },
 "nbformat": 4,
 "nbformat_minor": 4
}
