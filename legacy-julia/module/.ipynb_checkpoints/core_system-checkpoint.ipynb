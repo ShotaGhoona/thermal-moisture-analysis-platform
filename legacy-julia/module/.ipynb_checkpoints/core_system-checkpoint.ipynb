{
 "cells": [
  {
   "cell_type": "markdown",
   "metadata": {},
   "source": [
    "</br>\n",
    "\n",
    "# Core System  \n",
    "\n",
    "【概要】  \n",
    "多孔質材料中における熱水分同時移動計算は、\n",
    "- 熱水分移動の支配方程式\n",
    "- 材料の熱水分状態量と物性値の関係\n",
    "- 差分法による数値計算\n",
    "- Lewis関係など空気（流体）の移動力学\n",
    "など多様な要素から構成される。  \n",
    "\n",
    "\"core_system.ipynb\"はこれらの計算工程を一つにまとめ管理するためのモジュールである。  "
   ]
  },
  {
   "cell_type": "code",
   "execution_count": 1,
   "metadata": {},
   "outputs": [
    {
     "data": {
      "text/plain": [
       "Main.balance_equation_by_ODE"
      ]
     },
     "execution_count": 1,
     "metadata": {},
     "output_type": "execute_result"
    }
   ],
   "source": [
    "include(\"./module_function/flux_and_balance_equation.jl\")"
   ]
  },
  {
   "cell_type": "markdown",
   "metadata": {},
   "source": [
    "# 1. Cellモジュール\n",
    "\n",
    "【概要】  \n",
    "Cellモジュールの基本理念は、「材料の状態量や物性値を“位置”を基準として取得できるようにすること」である。  \n",
    "例えば、fortranでは温度を位置の関数（配列）として温度T(x)と定義する。相対湿度や物性値に関しても同様である（rh(x)やlam(x)など）。  \n",
    "しかしながら、これらの状態量や物性値は一般に相互の引数として定義されることが多い（lam(x, T, rh)など）。  \n",
    "\n",
    "core_systemはこのような問題を解消すること、また物性値の計算ミスなどの人為的エラーを解消するためのシステムであり、  \n",
    "ある位置におけるセルcell(x)が温度や湿度、物性値などを有するという基本理念に基づいている（以下cellクラスと呼ぶ）。 \n",
    "(module名：Porous_material_based_miu)\n",
    "\n",
    "なお、2020/07/06時点では水分化学ポテンシャルを基準としたPorous_material_based_miuモジュールを設計している。  \n",
    "含水率を基準とする場合、構造体を変更するのではなく追加し、多重ディスパッチを用いる方が適切である。\n"
   ]
  },
  {
   "cell_type": "markdown",
   "metadata": {},
   "source": [
    "## 1.1 構造体：Cell\n",
    "\n",
    "コンストラクタ(データの型)：\n",
    "- i：位置(Int)\n",
    "- dx：幅(Float64)\n",
    "- dy：高さ(Float64)\n",
    "- dz：奥行(Float64)\n",
    "- dx2：幅(Float64)\n",
    "- dy2：高さ(Float64)\n",
    "- dz2：奥行(Float64)\n",
    "- temp：温度(Float64)\n",
    "- miu：水分化学ポテンシャル(Float64)\n",
    "- material_name：材料名(String)\n",
    "\n"
   ]
  },
  {
   "cell_type": "markdown",
   "metadata": {},
   "source": [
    "なお、Cellモジュールを用いて以下の変数を取得することが可能である。  \n",
    "\n",
    "## 1.2 Cell構造体を用いた状態量・物性値を取得する関数：\n",
    "#### 構造体パラメーター\n",
    "- i(Cell): 位置\n",
    "- dx(Cell): セルの幅\n",
    "- dx2(Cell): セルの質点から界面までの距離\n",
    "\n",
    "#### 熱水分状態量\n",
    "- temp(Cell): 温度\n",
    "- miu(Cell) : 水分化学ポテンシャル\n",
    "- rh(Cell)  : 相対湿度（温度・水分化学ポテンシャルから換算）\n",
    "- pv(Cell)  : 水蒸気圧（温度・水分化学ポテンシャルから換算）\n",
    "- phi(Cell) : 含水率（Cell情報、材料名称から換算）\n",
    "- dphi(Cell): 含水率の水分化学ポテンシャル微分（Cell情報、材料名称から換算）\n",
    "\n",
    "#### 材料熱物性\n",
    "- psi(Cell) : 空隙率（材料名から取得）\n",
    "- C(Cell)   : 材料の比熱（材料名から取得）\n",
    "- row(Cell) : 材料の密度（材料名から取得）\n",
    "- crow(Cell): 材料の熱容量（※材料骨格部＋液水の熱容量を考慮している）\n",
    "\n",
    "#### 移動係数（Cell情報（温湿度）、材料名称から換算）\n",
    "- lam(Cell) : 熱伝導率\n",
    "- dw(Cell)  : 液相水分伝導率（材料がこの物性値を有していない場合、ldmlから換算することとしている）\n",
    "- dp(Cell)  : 水蒸気圧勾配に対する気相水分伝導率（材料がこの物性値を有していない場合、ldg(ldmg, ldtg)から換算することとしている）\n",
    "- ldml(Cell): 水分化学ポテンシャル勾配に対する液相水分伝導率（材料がこの物性値を有していない場合、dwから換算することとしている）\n",
    "- ldmg(Cell): 水分化学ポテンシャル勾配に対する気相水分伝導率（材料がこの物性値を有していない場合、dpから換算することとしている）\n",
    "- ldtg(Cell): 温度勾配に対する気相水分伝導率（材料がこの物性値を有していない場合、dpから換算することとしている）\n",
    "\n",
    "※物性値からの換算方法などはproperty_conversion.ipynbを参照のこと\n"
   ]
  },
  {
   "cell_type": "markdown",
   "metadata": {},
   "source": [
    "## 1.3 Cell構造体を構築する関数\n",
    "\n",
    "Cell構造体を構築するための便利な関数として以下の2つの関数を用意した。  \n",
    "\n",
    "関数名：\n",
    "- cell_construction\n",
    "        \n",
    "引数（キーワード引数）：\n",
    "- i：位置（デフォルト値 = 0 ）\n",
    "- dx：幅（必須）\n",
    "- dy：高さ（デフォルト値 = 1.0）\n",
    "- dz：奥行（デフォルト値 = 1.0）\n",
    "- dx2：x軸方向の質点間の距離（デフォルト値 = 0.0）※\n",
    "- dy2：y軸方向の質点間の距離（デフォルト値 = 0.0）\n",
    "- dz2：z軸方向の質点間の距離（デフォルト値 = 0.0）\n",
    "- temp：温度（必須）\n",
    "- miu：水分化学ポテンシャル（デフォルト値 = 0）\n",
    "- rh:相対湿度（※miuの代わりに入力可能　⇒　rhで指定する場合miuおよびphiは引数として指定しないこと） \n",
    "- phi:含水率（※miuの代わりに入力可能　⇒　phiで指定する場合miuおよびrhは引数として指定しないこと） \n",
    "- material_name：材料名（必須　デフォルト値無し　module_material_property内のファイル名から選択）  \n",
    "\n",
    "戻り値：\n",
    "- 構造体Porous_material_based_miu.Cell（Cell構造体）\n",
    "\n",
    "デフォルト値の設定がない定数に関しては入力が必須であり、初期状態は以下のようにcell_constructionから与える。  \n",
    "※cell_constructionを用いた場合、自動的にdxの半分の値が入力される。\n",
    "\n",
    "cell_constructionでは詳細な指定が出来る一方、境界面近傍の質点間の距離dx2,dy2,dz2の指定が必要である。  \n",
    "このわずらわしさを解消するため、以下のように壁を構築する関数も作成しておいた。  \n",
    "\n",
    "\n",
    "関数名：\n",
    "- wall_construction\n",
    "        \n",
    "引数（キーワード引数）：\n",
    "- len(Float64): 壁の大きさ[m]\n",
    "- partitions(Int): 壁の分割数\n",
    "- temp_init(Float64): 初期温度\n",
    "- miu_init(Float64): 初期水分化学ポテンシャル\n",
    "- rh_init(Float64): 初期相対湿度（※miu_initの代わりに入力可能　⇒　rhで指定する場合miu_initおよびphi_initは引数として指定しないこと） \n",
    "- phi_init(Float64): 初期含水率（※miu_initの代わりに入力可能　⇒　phiで指定する場合miu_initおよびrh_initは引数として指定しないこと） \n",
    "- material_name(String):材料名称\n",
    "\n",
    "戻り値：\n",
    "- 配列[構造体Porous_material_based_miu.Cell]（Cell構造体が格納された配列）\n",
    "\n",
    "なお、wall_construction関数では、\n",
    "- 境界面ではcellの幅を半分\n",
    "- 境界面ではdx=dx2\n",
    "とした。\n",
    "#### ※なお、分割数には注意すること（例：3mmの壁は3ではなく4で分割すること）。\n"
   ]
  },
  {
   "cell_type": "code",
   "execution_count": 2,
   "metadata": {},
   "outputs": [
    {
     "name": "stderr",
     "output_type": "stream",
     "text": [
      "WARNING: replacing module water_property.\n"
     ]
    },
    {
     "data": {
      "text/plain": [
       "Main.Porous_material_based_miu"
      ]
     },
     "execution_count": 2,
     "metadata": {},
     "output_type": "execute_result"
    }
   ],
   "source": [
    "module Porous_material_based_miu\n",
    "\n",
    "include(\"./property_conversion.jl\")\n",
    "include(\"./module_function/vapour.jl\")\n",
    "include(\"./module_material_property/liquid_water.jl\")\n",
    "\n",
    "pc = property_conversion\n",
    "wp = water_property\n",
    "\n",
    "# Cell構造体の設定\n",
    "mutable struct Cell\n",
    "    i::Int       #= 位置  =#\n",
    "    dx::Float64  #= 幅x   =#\n",
    "    dy::Float64  #= 高さy =#   \n",
    "    dz::Float64  #= 奥行z =#\n",
    "    dx2::Float64 # 質点からセル端までの距離（一般的にはdxの半分）\n",
    "    dy2::Float64\n",
    "    dz2::Float64\n",
    "    temp::Float64\n",
    "    miu::Float64 # pvやphiなどは示量変数のため入れない\n",
    "    material_name::String\n",
    "    Cell() = new()\n",
    "end \n",
    "\n",
    "# Cell構造体を用いた各種パラメータの読み込み方法\n",
    "# 構造体パラメーター\n",
    "i(state::Cell)= state.i\n",
    "dx(state::Cell)= state.dx\n",
    "dx2(state::Cell)= state.dx2 # 流量計算式と合わせ要注意\n",
    "\n",
    "# 熱水分状態量\n",
    "temp(state::Cell)= state.temp\n",
    "miu(state::Cell) = state.miu　　　　　　　　　　　　　　　# 水蒸気と対応する毛管ポテンシャル\n",
    "miu_osm(state::Cell) = Rv * T * log(state.xw)　　　　　#　塩を含むことによるポテンシャル\n",
    "miu_all(state::Cell) = miu(state) + msiu_osm(state)　　#　塩溶液全体のポテンシャル\n",
    "\n",
    "cs(state::Cell) = 　　　　　　　　　　　　　　　　　　　　　#　塩濃度\n",
    "\n",
    "rh(state::Cell)  = convertMiu2RH( temp = state.temp, miu = state.miu_all )\n",
    "pv(state::Cell)  = convertMiu2Pv( temp = state.temp, miu = state.miu_all )\n",
    "\n",
    "phi(state::Cell) = pc.get_phi( state, state.material_name )\n",
    "dphi(state::Cell)= pc.get_dphi(state, state.material_name )\n",
    "\n",
    "# 材料熱物性値　※　材料物性値のファイルに含水率ベースのものがある場合注意\n",
    "psi(state::Cell)  =  pc.get_psi( state.material_name )\n",
    "C(state::Cell)    =  pc.get_C( state.material_name )\n",
    "row(state::Cell)  =  pc.get_row( state.material_name )\n",
    "crow(state::Cell) =  C(state) * row(state) + wp.Cr * wp.row * phi(state)\n",
    "\n",
    "# 移動係数\n",
    "lam(state::Cell)  =  pc.get_lam( state, state.material_name )\n",
    "dw(state::Cell)   =  try; pc.get_dw( state, state.material_name ); catch; pc.get_dw_by_ldml( state, state.material_name ); end\n",
    "dp(state::Cell)   =  try; pc.get_dp( state, state.material_name ); catch; pc.get_dp_by_ldg( state, state.material_name ); end\n",
    "ldml(state::Cell) =  try; pc.get_ldml( state, state.material_name ); catch; pc.get_ldml_by_dw( state, state.material_name ); end\n",
    "ldmg(state::Cell) =  try; pc.get_ldmg( state, state.material_name ); catch; pc.get_ldmg_by_dp( state, state.material_name ); end\n",
    "ldtg(state::Cell) =  try; pc.get_ldtg( state, state.material_name ); catch; pc.get_ldtg_by_dp( state, state.material_name ); end\n",
    "\n",
    "#########################################################\n",
    "                ### 以下便利ツール ###\n",
    "#########################################################\n",
    "\n",
    "# Cell構造体を構築する関数の設定\n",
    "function cell_construction(; i::Int = 0, \n",
    "        dx::Float64, dy::Float64=1.0, dz::Float64=1.0,\n",
    "        dx2::Float64=0.0, dy2::Float64=0.0, dz2::Float64=0.0,\n",
    "        temp::Float64, miu::Float64 = 0.0, rh::Float64=0.0, phi::Float64=0.0,\n",
    "        material_name::String )\n",
    "    cell = Cell()\n",
    "    cell.i  = i\n",
    "    cell.dx = dx\n",
    "    cell.dy = dy\n",
    "    cell.dz = dz\n",
    "    cell.temp= temp\n",
    "    cell.material_name = material_name\n",
    "    \n",
    "    if miu == 0.0\n",
    "        if phi == 0.0; cell.miu = convertRH2Miu( temp = temp, rh = rh )\n",
    "        elseif rh == 0.0; cell.miu = pc.get_miu_by_phi( phi, cell.material_name ); end\n",
    "    else; cell.miu = miu\n",
    "    end\n",
    "    \n",
    "    # 質点からセル端までの距離\n",
    "    if dx2 == 0.0; cell.dx2 = cell.dx / 2.0; else; cell.dx2 = dx2; end\n",
    "    if dy2 == 0.0; cell.dy2 = cell.dy / 2.0; else; cell.dy2 = dy2; end\n",
    "    if dz2 == 0.0; cell.dz2 = cell.dz / 2.0; else; cell.dz2 = dz2; end\n",
    "    \n",
    "    return cell\n",
    "end\n",
    "\n",
    "#############################\n",
    "# 壁を構築する関数\n",
    "function wall_construction(; len::Float64, partitions::Int, temp_init::Float64, \n",
    "        miu_init::Float64 = 0.0, rh_init::Float64=0.0, phi_init::Float64=0.0,\n",
    "        material_name::String )\n",
    "    # 境界面ではcellの幅を半分とし、境界面ではdx=dx2とする　→　分割数に注意（例：3mmの壁は3ではなく4で分割すること）\n",
    "    dx = [ if i == 1 || i == partitions; len / (partitions-1) / 2; else; len / (partitions-1) end for i = 1 : partitions ]\n",
    "    dx2= [ if i == 1 || i == partitions; dx[i]; else; dx[i]/2 end for i = 1 : partitions ]\n",
    "    # 暫定的に1次元のみとしておく。2次元以降については後ほど実装\n",
    "    return [ cell_construction( i = i, dx=dx[i], dx2=dx2[i], temp=temp_init, miu=miu_init, rh=rh_init, phi=phi_init, material_name = material_name ) for i = 1:partitions ]\n",
    "end\n",
    "\n",
    "end\n"
   ]
  },
  {
   "cell_type": "markdown",
   "metadata": {},
   "source": [
    "## 使用例"
   ]
  },
  {
   "cell_type": "markdown",
   "metadata": {},
   "source": [
    "構造体(mutable struct)から構築する場合"
   ]
  },
  {
   "cell_type": "code",
   "execution_count": 3,
   "metadata": {},
   "outputs": [
    {
     "data": {
      "text/plain": [
       "\"bentheimer_sandstone\""
      ]
     },
     "execution_count": 3,
     "metadata": {},
     "output_type": "execute_result"
    }
   ],
   "source": [
    "c_para_test = Porous_material_based_miu.Cell()\n",
    "c_para_test.dx = 0.001\n",
    "c_para_test.dx2 = c_para_test.dx / 2.0\n",
    "c_para_test.temp = 293.15\n",
    "c_para_test.miu = -100.0\n",
    "c_para_test.material_name = \"bentheimer_sandstone\""
   ]
  },
  {
   "cell_type": "markdown",
   "metadata": {},
   "source": [
    "cell_construction関数を用いて一括設定する場合"
   ]
  },
  {
   "cell_type": "code",
   "execution_count": 4,
   "metadata": {},
   "outputs": [
    {
     "data": {
      "text/plain": [
       "Main.Porous_material_based_miu.Cell(1, 0.001, 1.0, 1.0, 0.0005, 0.5, 0.5, 293.15, -1359.9613968447518, \"bentheimer_sandstone\")"
      ]
     },
     "execution_count": 4,
     "metadata": {},
     "output_type": "execute_result"
    }
   ],
   "source": [
    "c_para_test_v2 = Porous_material_based_miu.cell_construction( i = 1, dx = 0.001, temp = 293.15, rh = 0.99, material_name =  \"bentheimer_sandstone\")"
   ]
  },
  {
   "cell_type": "markdown",
   "metadata": {},
   "source": [
    "#### Cell構造体を用いて関数により各種物性値の算出する方法"
   ]
  },
  {
   "cell_type": "markdown",
   "metadata": {},
   "source": [
    "含水率"
   ]
  },
  {
   "cell_type": "code",
   "execution_count": 5,
   "metadata": {},
   "outputs": [
    {
     "data": {
      "text/plain": [
       "0.02243253636402062"
      ]
     },
     "execution_count": 5,
     "metadata": {},
     "output_type": "execute_result"
    }
   ],
   "source": [
    "Porous_material_based_miu.phi(c_para_test)"
   ]
  },
  {
   "cell_type": "markdown",
   "metadata": {},
   "source": [
    "透水係数"
   ]
  },
  {
   "cell_type": "code",
   "execution_count": 6,
   "metadata": {},
   "outputs": [
    {
     "data": {
      "text/plain": [
       "3.1510597890187246e-12"
      ]
     },
     "execution_count": 6,
     "metadata": {},
     "output_type": "execute_result"
    }
   ],
   "source": [
    "Porous_material_based_miu.ldmg(c_para_test)"
   ]
  },
  {
   "cell_type": "markdown",
   "metadata": {},
   "source": [
    "#### 構造体の値を変更する場合\n",
    "温度20℃　→　10℃　"
   ]
  },
  {
   "cell_type": "code",
   "execution_count": 7,
   "metadata": {},
   "outputs": [
    {
     "data": {
      "text/plain": [
       "283.15"
      ]
     },
     "execution_count": 7,
     "metadata": {},
     "output_type": "execute_result"
    }
   ],
   "source": [
    "c_para_test.temp = 10.0 + 273.15"
   ]
  },
  {
   "cell_type": "code",
   "execution_count": null,
   "metadata": {},
   "outputs": [],
   "source": []
  },
  {
   "cell_type": "markdown",
   "metadata": {},
   "source": [
    "</br>\n",
    "\n",
    "# 2. 空気質の状態量を表すモジュール  \n",
    "\n",
    "【概要】  \n",
    "Air_based_RHはPorous_material_based_miuモジュール同様空気の状態量を保持するためのモジュールである。\n",
    "主な役割としては、多重ディスパッチによる計算を行うためにPorous_material_based_miuモジュールと対としての存在が大きい。  \n",
    "⇒　材料境界の位置を判別するのに役立つ。\n",
    "\n",
    "なお、2020/07/06時点では相対湿度を基準としているが、水分化学ポテンシャルを基準としても問題は無い。"
   ]
  },
  {
   "cell_type": "markdown",
   "metadata": {},
   "source": [
    "## 2.1 構造体：Air\n",
    "\n",
    "コンストラクタ(データの型)：\n",
    "- name：名称(String)\n",
    "- vol：体積(Float64)\n",
    "- temp：温度(Float64)\n",
    "- rh：相対湿度(Float64)\n",
    "- alpha：総合熱伝達率(Float64)\n",
    "- alphac：対流熱伝達率(Float64)\n",
    "- alphar：放射熱伝達率(Float64)\n",
    "- aldm：湿気伝達率(Float64)"
   ]
  },
  {
   "cell_type": "markdown",
   "metadata": {},
   "source": [
    "\n",
    "## 2.2 Air構造体を用いた状態量・物性値を取得する関数：\n",
    "#### 構造体パラメーター\n",
    "- name(Air) : （対象とする空間などの）名称\n",
    "- vol(Air)  : 空間の体積\n",
    "\n",
    "#### 熱水分状態量\n",
    "- temp(Cell): 温度\n",
    "- rh(Cell)  : 相対湿度\n",
    "- miu(Cell) : 水分化学ポテンシャル（温度・相対湿度から換算）\n",
    "- pv(Cell)  : 水蒸気圧（温度・相対湿度から換算）\n",
    "\n",
    "#### 移動係数\n",
    "- alpha(Cell) : 熱伝達率（対流＋総合の和として計算）\n",
    "- aldm(Cell)  : 湿気伝達率\n",
    "- aldt(Cell)  : 温度勾配に対する気相水分伝導率（aldmから換算）\n",
    "- aldmu(Cell) : 水分化学ポテンシャル勾配に対する気相水分伝導率（aldmから換算）\n",
    "- aldm_by_alphac(Cell): Lewis関係を用いた湿気伝達率（対流熱伝達率から換算）\n"
   ]
  },
  {
   "cell_type": "markdown",
   "metadata": {},
   "source": [
    "## 2.3 Air構造体を構築する関数\n",
    "\n",
    "Air構造体を構築するための便利な関数として以下の関数を用意した。  \n",
    "\n",
    "関数名：\n",
    "- air_construction\n",
    "        \n",
    "引数（キーワード引数）：\n",
    "- name：名前（デフォルト値 = \"No Name\" ）\n",
    "- vol：体積（デフォルト値 = 1.0 ）\n",
    "- temp：温度（必須）\n",
    "- rh:相対湿度（デフォルト値 = 0.0 ） \n",
    "- miu：水分化学ポテンシャル（デフォルト値 = 0.0 ⇒ miuを指定する場合rhは何も指定しないこと）\n",
    "- alphac: 対流熱伝達率（デフォルト値 = 4.9 )\n",
    "- alphar: 放射熱伝達率（デフォルト値 = 4.4 )\n",
    "- aldm: 湿気伝達率（デフォルト値 = 0.0 ⇒ 未入力あるいはaldm=0.0の場合自動でLewis関係から算出する)\n",
    "\n",
    "戻り値：\n",
    "- 構造体Air_based_RH.Air（Air構造体）"
   ]
  },
  {
   "cell_type": "code",
   "execution_count": 8,
   "metadata": {},
   "outputs": [
    {
     "data": {
      "text/plain": [
       "Main.Air_based_RH"
      ]
     },
     "execution_count": 8,
     "metadata": {},
     "output_type": "execute_result"
    }
   ],
   "source": [
    "module Air_based_RH\n",
    "\n",
    "include(\"./module_function/vapour.jl\")\n",
    "include(\"./module_function/lewis_relation.jl\")\n",
    "\n",
    "mutable struct Air\n",
    "    name::String  #= 名称  =#\n",
    "    vol::Float64  #= 体積  =#\n",
    "    temp::Float64\n",
    "    rh::Float64\n",
    "    alpha::Float64\n",
    "    alphac::Float64\n",
    "    alphar::Float64\n",
    "    aldm::Float64\n",
    "    Air() = new()\n",
    "end \n",
    "\n",
    "# 構造体パラメーター\n",
    "name(state::Air)= state.name\n",
    "vol(state::Air)= state.vol\n",
    "\n",
    "# 熱水分状態量\n",
    "temp(state::Air)= state.temp\n",
    "rh(state::Air) = state.rh\n",
    "miu(state::Air) = convertRH2Miu( temp = state.temp, rh = state.rh )\n",
    "pv(state::Air)  = convertRH2Pv( temp = state.temp, rh = state.rh )\n",
    "\n",
    "# 移動係数\n",
    "alpha(state::Air) = state.alphac + state.alphar\n",
    "aldm(state::Air)  = state.aldm\n",
    "aldt(state::Air)  = aldm(state) * cal_DPvDT( temp = state.temp, miu = miu(state) )\n",
    "aldmu(state::Air) = aldm(state) * cal_DPvDMiu( temp = state.temp, miu = miu(state) )\n",
    "aldm_by_alphac(state::Air) = Lewis_relation.cal_aldm( alpha = state.alphac , temp = state.temp )\n",
    "\n",
    "function air_construction(; name::String = \"No Name\", \n",
    "        vol::Float64 = 1.0, temp::Float64, miu::Float64 = 0.0, rh::Float64 = 0.0, \n",
    "        alphac::Float64 = 4.9, alphar::Float64 = 4.4, aldm::Float64 = 0.0 )\n",
    "    air = Air_based_RH.Air()\n",
    "    air.name  = name\n",
    "    air.vol = vol\n",
    "    air.temp= temp\n",
    "    air.alpha = alphac + alphar # 総合熱伝達率\n",
    "    air.alphac= alphac # 対流熱伝達率\n",
    "    air.alphar= alphar # 放射熱伝達率\n",
    "    \n",
    "    # 湿気伝達率\n",
    "    if aldm == 0.0\n",
    "        air.aldm = aldm_by_alphac(air)\n",
    "    else\n",
    "        air.aldm = aldm\n",
    "    end\n",
    "    \n",
    "    if miu == 0.0\n",
    "        air.rh = rh\n",
    "    else\n",
    "        air.rh = convertMiu2RH( temp = temp, miu = miu )\n",
    "    end\n",
    "    return air\n",
    "end\n",
    "\n",
    "end\n"
   ]
  },
  {
   "cell_type": "markdown",
   "metadata": {},
   "source": [
    "### 使用例"
   ]
  },
  {
   "cell_type": "code",
   "execution_count": 9,
   "metadata": {},
   "outputs": [
    {
     "data": {
      "text/plain": [
       "Main.Air_based_RH.Air(\"No Name\", 1.0, 313.15, 0.0, 9.3, 4.9, 4.4, 3.0316011083563796e-8)"
      ]
     },
     "execution_count": 9,
     "metadata": {},
     "output_type": "execute_result"
    }
   ],
   "source": [
    "air_test = Air_based_RH.air_construction(temp = 20.0 + 293.15)"
   ]
  },
  {
   "cell_type": "code",
   "execution_count": 10,
   "metadata": {},
   "outputs": [
    {
     "data": {
      "text/plain": [
       "3.0316011083563796e-8"
      ]
     },
     "execution_count": 10,
     "metadata": {},
     "output_type": "execute_result"
    }
   ],
   "source": [
    "air_test.temp = 300.0\n",
    "air_test.rh   = 0.65\n",
    "#air_test.alpha= 9.3\n",
    "air_test.aldm"
   ]
  },
  {
   "cell_type": "code",
   "execution_count": 11,
   "metadata": {},
   "outputs": [
    {
     "data": {
      "text/plain": [
       "4.9"
      ]
     },
     "execution_count": 11,
     "metadata": {},
     "output_type": "execute_result"
    }
   ],
   "source": [
    "air_test.alphac"
   ]
  },
  {
   "cell_type": "markdown",
   "metadata": {},
   "source": [
    "</br>  \n",
    "\n",
    "# 3. Cellモジュールを用いた流量計算式  \n",
    "\n",
    "【概要】\n",
    "Cellモジュールは熱水分状態量に加え材料物性値の情報なども有している。  \n",
    "以下ではCellモジュールを用いて流量を計算する関数について示す。  \n",
    "※具体的な計算式については「module_function/flux_and_balance_equation.ipynb」を参照のこと。"
   ]
  },
  {
   "cell_type": "markdown",
   "metadata": {},
   "source": [
    "## 3.1 熱移動計算\n",
    "### １）材料内の熱流量計算  \n",
    "\n",
    "関数名：\n",
    "- cal_qs\n",
    "        \n",
    "引数（キーワード引数）：  \n",
    "- cell_mns: mns側に来るCell構造体を入力\n",
    "- cell_pls: pls側に来るCell構造体を入力\n",
    "\n",
    "戻り値：\n",
    "- 実数Float64（熱流量）\n",
    "\n",
    "※cell間の物性値の計算方法は抵抗値として足し合わせる形を採用"
   ]
  },
  {
   "cell_type": "code",
   "execution_count": 12,
   "metadata": {},
   "outputs": [
    {
     "data": {
      "text/plain": [
       "cal_qs (generic function with 2 methods)"
      ]
     },
     "execution_count": 12,
     "metadata": {},
     "output_type": "execute_result"
    }
   ],
   "source": [
    "function cal_qs( cell_mns::Porous_material_based_miu.Cell, cell_pls::Porous_material_based_miu.Cell )\n",
    "    cell_para = Porous_material_based_miu\n",
    "    return Flux.cal_heat_conduction_diff( lam_mns = cell_para.lam(cell_mns), lam_pls= cell_para.lam(cell_pls), \n",
    "        temp_mns = cell_para.temp(cell_mns), temp_pls = cell_para.temp(cell_pls), \n",
    "        dx2_mns = cell_para.dx2(cell_mns), dx2_pls = cell_para.dx2(cell_pls) )\n",
    "end\n",
    "cal_qs(;cell_mns::Porous_material_based_miu.Cell, cell_pls::Porous_material_based_miu.Cell ) = cal_qs( cell_mns, cell_pls )"
   ]
  },
  {
   "cell_type": "markdown",
   "metadata": {},
   "source": [
    "※cell間の物性値の計算方法として調和平均を採用する場合はこちら"
   ]
  },
  {
   "cell_type": "code",
   "execution_count": 13,
   "metadata": {},
   "outputs": [
    {
     "data": {
      "text/plain": [
       "cal_qs_meanAve (generic function with 2 methods)"
      ]
     },
     "execution_count": 13,
     "metadata": {},
     "output_type": "execute_result"
    }
   ],
   "source": [
    "function cal_qs_meanAve( cell_mns::Porous_material_based_miu.Cell, cell_pls::Porous_material_based_miu.Cell )\n",
    "    cell_para = Porous_material_based_miu\n",
    "    return Flux.cal_heat_conduction_diff_meanAve( lam_mns = cell_para.lam(cell_mns), lam_pls= cell_para.lam(cell_pls), \n",
    "        temp_mns = cell_para.temp(cell_mns), temp_pls = cell_para.temp(cell_pls), \n",
    "        dx2_mns = cell_para.dx2(cell_mns), dx2_pls = cell_para.dx2(cell_pls) )\n",
    "end\n",
    "cal_qs_meanAve(; cell_mns::Porous_material_based_miu.Cell, cell_pls::Porous_material_based_miu.Cell ) = cal_qs_meanAve(cell_mns, cell_pls)"
   ]
  },
  {
   "cell_type": "markdown",
   "metadata": {},
   "source": [
    "### ２）境界面における熱伝達"
   ]
  },
  {
   "cell_type": "markdown",
   "metadata": {},
   "source": [
    "関数名：\n",
    "- cal_qs_air\n",
    "        \n",
    "引数（キーワード引数）：  \n",
    "- cell_mns: mns側に来るCellあるいはAir構造体を入力\n",
    "- cell_pls: pls側に来るCellあるいはAir構造体を入力\n",
    "\n",
    "なお、境界面における熱伝達は空気がpls側かmns側のどちらに来るかで計算式が変化する。  \n",
    "そのためここでは多重ディスパッチを用いることでこの問題を解消した。  \n",
    "（以下はmns側が空気の場合）\n",
    "\n",
    "戻り値：\n",
    "- 実数Float64（熱流量）"
   ]
  },
  {
   "cell_type": "code",
   "execution_count": 14,
   "metadata": {},
   "outputs": [
    {
     "data": {
      "text/plain": [
       "cal_qs_air (generic function with 2 methods)"
      ]
     },
     "execution_count": 14,
     "metadata": {},
     "output_type": "execute_result"
    }
   ],
   "source": [
    "function cal_qs_air( cell_mns::Air_based_RH.Air, cell_pls::Porous_material_based_miu.Cell )\n",
    "    Flux.cal_heat_transfer_diff( alpha = Air_based_RH.alpha(cell_mns), \n",
    "        temp_mns = Air_based_RH.temp(cell_mns), temp_pls = Porous_material_based_miu.temp(cell_pls) )\n",
    "end\n",
    "cal_qs_air(; cell_mns::Air_based_RH.Air, cell_pls::Porous_material_based_miu.Cell ) = cal_qs_air(cell_mns, cell_pls)"
   ]
  },
  {
   "cell_type": "markdown",
   "metadata": {},
   "source": [
    "（pls側が空気の場合）  \n",
    "関数名は同じであるがAir_based_RH型で定義された構造体がpls側にあるかmns側にあるかで利用する式が変化する。"
   ]
  },
  {
   "cell_type": "code",
   "execution_count": 15,
   "metadata": {},
   "outputs": [
    {
     "data": {
      "text/plain": [
       "cal_qs_air (generic function with 3 methods)"
      ]
     },
     "execution_count": 15,
     "metadata": {},
     "output_type": "execute_result"
    }
   ],
   "source": [
    "function cal_qs_air( cell_mns::Porous_material_based_miu.Cell, cell_pls::Air_based_RH.Air )\n",
    "    Flux.cal_heat_transfer_diff( alpha = Air_based_RH.alpha(cell_pls), \n",
    "        temp_mns = Porous_material_based_miu.temp(cell_mns), temp_pls = Air_based_RH.temp(cell_pls) )\n",
    "end\n",
    "cal_qs_air(; cell_mns::Porous_material_based_miu.Cell, cell_pls::Air_based_RH.Air ) = cal_qs_air(cell_mns, cell_pls)"
   ]
  },
  {
   "cell_type": "markdown",
   "metadata": {},
   "source": [
    "## 3.2 水蒸気移動計算\n",
    "### １）材料内の水蒸気流量計算  \n",
    "\n",
    "関数名：\n",
    "- cal_jv\n",
    "        \n",
    "引数（キーワード引数）：  \n",
    "- cell_mns: mns側に来るCell構造体を入力\n",
    "- cell_pls: pls側に来るCell構造体を入力\n",
    "\n",
    "戻り値：\n",
    "- 実数Float64（水蒸気流量）"
   ]
  },
  {
   "cell_type": "code",
   "execution_count": 16,
   "metadata": {},
   "outputs": [
    {
     "data": {
      "text/plain": [
       "cal_jv (generic function with 2 methods)"
      ]
     },
     "execution_count": 16,
     "metadata": {},
     "output_type": "execute_result"
    }
   ],
   "source": [
    "function cal_jv( cell_mns::Porous_material_based_miu.Cell, cell_pls::Porous_material_based_miu.Cell )\n",
    "    cell_para = Porous_material_based_miu\n",
    "    Flux.cal_vapour_permeance_potential_diff(\n",
    "        ldmg_mns = cell_para.ldmg(cell_mns), ldmg_pls = cell_para.ldmg(cell_pls), \n",
    "        ldtg_mns = cell_para.ldtg(cell_mns), ldtg_pls = cell_para.ldtg(cell_pls), \n",
    "        miu_mns = cell_para.miu(cell_mns), miu_pls = cell_para.miu(cell_pls), \n",
    "        temp_mns = cell_para.temp(cell_mns), temp_pls = cell_para.temp(cell_pls), \n",
    "        dx2_mns = cell_para.dx2(cell_mns), dx2_pls = cell_para.dx2(cell_pls) )\n",
    "end\n",
    "cal_jv(; cell_mns::Porous_material_based_miu.Cell, cell_pls::Porous_material_based_miu.Cell ) = cal_jv(cell_mns, cell_pls)"
   ]
  },
  {
   "cell_type": "markdown",
   "metadata": {},
   "source": [
    "※cell間の物性値の計算方法として調和平均を採用する場合はこちら"
   ]
  },
  {
   "cell_type": "code",
   "execution_count": 17,
   "metadata": {},
   "outputs": [
    {
     "data": {
      "text/plain": [
       "cal_jv_meanAve (generic function with 2 methods)"
      ]
     },
     "execution_count": 17,
     "metadata": {},
     "output_type": "execute_result"
    }
   ],
   "source": [
    "function cal_jv_meanAve( cell_mns::Porous_material_based_miu.Cell, cell_pls::Porous_material_based_miu.Cell )\n",
    "    cell_para = Porous_material_based_miu\n",
    "    Flux.cal_vapour_permeance_potential_diff_meanAve( \n",
    "        ldmg_mns = cell_para.ldmg(cell_mns), ldmg_pls = cell_para.ldmg(cell_pls), \n",
    "        ldtg_mns = cell_para.ldtg(cell_mns), ldtg_pls = cell_para.ldtg(cell_pls), \n",
    "        miu_mns = cell_para.miu(cell_mns), miu_pls = cell_para.miu(cell_pls), \n",
    "        temp_mns = cell_para.temp(cell_mns), temp_pls = cell_para.temp(cell_pls), \n",
    "        dx2_mns = cell_para.dx2(cell_mns), dx2_pls = cell_para.dx2(cell_pls) )\n",
    "end\n",
    "cal_jv_meanAve(; cell_mns::Porous_material_based_miu.Cell, cell_pls::Porous_material_based_miu.Cell ) = cal_jv_meanAve( cell_mns, cell_pls)"
   ]
  },
  {
   "cell_type": "markdown",
   "metadata": {},
   "source": [
    "### ２）境界面における湿気伝達（多重ディスパッチによる互換）  \n",
    "\n",
    "関数名：\n",
    "- cal_jv_air\n",
    "        \n",
    "引数（キーワード引数）：  \n",
    "- cell_mns: mns側に来るCellあるいはAir構造体を入力\n",
    "- cell_pls: pls側に来るCellあるいはAir構造体を入力\n",
    "\n",
    "戻り値：\n",
    "- 実数Float64（水蒸気流量）"
   ]
  },
  {
   "cell_type": "markdown",
   "metadata": {},
   "source": [
    "mns側が空気"
   ]
  },
  {
   "cell_type": "code",
   "execution_count": 18,
   "metadata": {},
   "outputs": [
    {
     "data": {
      "text/plain": [
       "cal_jv_air (generic function with 2 methods)"
      ]
     },
     "execution_count": 18,
     "metadata": {},
     "output_type": "execute_result"
    }
   ],
   "source": [
    "function cal_jv_air( cell_mns::Air_based_RH.Air, cell_pls::Porous_material_based_miu.Cell )\n",
    "    Flux.cal_vapour_transfer_pressure_diff( aldm = Air_based_RH.aldm(cell_mns), \n",
    "        pv_mns = Air_based_RH.pv(cell_mns), pv_pls = Porous_material_based_miu.pv(cell_pls) )\n",
    "end\n",
    "cal_jv_air(; cell_mns::Air_based_RH.Air, cell_pls::Porous_material_based_miu.Cell ) = cal_jv_air(cell_mns, cell_pls)"
   ]
  },
  {
   "cell_type": "markdown",
   "metadata": {},
   "source": [
    "pls側が空気"
   ]
  },
  {
   "cell_type": "code",
   "execution_count": 19,
   "metadata": {},
   "outputs": [
    {
     "data": {
      "text/plain": [
       "cal_jv_air (generic function with 3 methods)"
      ]
     },
     "execution_count": 19,
     "metadata": {},
     "output_type": "execute_result"
    }
   ],
   "source": [
    "function cal_jv_air( cell_mns::Porous_material_based_miu.Cell, cell_pls::Air_based_RH.Air )\n",
    "    Flux.cal_vapour_transfer_pressure_diff( aldm = Air_based_RH.aldm(cell_pls), \n",
    "        pv_mns = Porous_material_based_miu.pv(cell_mns), pv_pls = Air_based_RH.pv(cell_pls) )\n",
    "end\n",
    "cal_jv_air(; cell_mns::Porous_material_based_miu.Cell, cell_pls::Air_based_RH.Air ) = cal_jv_air(cell_mns, cell_pls)"
   ]
  },
  {
   "cell_type": "markdown",
   "metadata": {},
   "source": [
    "## 3.3 液水移動計算  \n",
    "### １）材料内の液水流量計算"
   ]
  },
  {
   "cell_type": "markdown",
   "metadata": {},
   "source": [
    "関数名：\n",
    "- cal_jv\n",
    "        \n",
    "引数（キーワード引数）：  \n",
    "- cell_mns: mns側に来るCell構造体を入力\n",
    "- cell_pls: pls側に来るCell構造体を入力\n",
    "- nx: 重力に対する応答方向を表す。水平の場合0、垂直方向の場合1であり、垂直下向きを正とする。  \n",
    "\n",
    "戻り値：\n",
    "- 実数Float64（液水流量）"
   ]
  },
  {
   "cell_type": "code",
   "execution_count": 20,
   "metadata": {},
   "outputs": [
    {
     "data": {
      "text/plain": [
       "cal_jl (generic function with 3 methods)"
      ]
     },
     "execution_count": 20,
     "metadata": {},
     "output_type": "execute_result"
    }
   ],
   "source": [
    "function cal_jl( cell_mns::Porous_material_based_miu.Cell, cell_pls::Porous_material_based_miu.Cell, nx = 0.0 )\n",
    "    cell_para = Porous_material_based_miu\n",
    "    Flux.cal_liquid_conduction_potential_diff( \n",
    "        ldml_mns = cell_para.ldml(cell_mns), ldml_pls = cell_para.ldml(cell_pls), \n",
    "        miu_mns = cell_para.miu(cell_mns), miu_pls = cell_para.miu(cell_pls), \n",
    "        dx2_mns = cell_para.dx2(cell_mns), dx2_pls = cell_para.dx2(cell_pls), nx = nx )\n",
    "end\n",
    "cal_jl(; cell_mns::Porous_material_based_miu.Cell, cell_pls::Porous_material_based_miu.Cell, nx = 0.0 ) = cal_jl(cell_mns, cell_pls, nx)"
   ]
  },
  {
   "cell_type": "markdown",
   "metadata": {},
   "source": [
    "※cell間の物性値の計算方法として調和平均を採用する場合はこちら"
   ]
  },
  {
   "cell_type": "code",
   "execution_count": 21,
   "metadata": {},
   "outputs": [
    {
     "data": {
      "text/plain": [
       "cal_jl_meanAve (generic function with 3 methods)"
      ]
     },
     "execution_count": 21,
     "metadata": {},
     "output_type": "execute_result"
    }
   ],
   "source": [
    "function cal_jl_meanAve( cell_mns::Porous_material_based_miu.Cell, cell_pls::Porous_material_based_miu.Cell, nx = 0.0 )\n",
    "    cell_para = Porous_material_based_miu\n",
    "    Flux.cal_liquid_conduction_potential_diff_meanAve( \n",
    "        ldml_mns = cell_para.ldml(cell_mns), ldml_pls = cell_para.ldml(cell_pls), \n",
    "        miu_mns = cell_para.miu(cell_mns), miu_pls = cell_para.miu(cell_pls), \n",
    "        dx2_mns = cell_para.dx2(cell_mns), dx2_pls = cell_para.dx2(cell_pls), nx = nx )\n",
    "end\n",
    "cal_jl_meanAve(; cell_mns::Porous_material_based_miu.Cell, cell_pls::Porous_material_based_miu.Cell, nx = 0.0 ) = cal_jl_meanAve( cell_mns, cell_pls, nx)"
   ]
  },
  {
   "cell_type": "markdown",
   "metadata": {},
   "source": [
    "## 検証"
   ]
  },
  {
   "cell_type": "code",
   "execution_count": 22,
   "metadata": {},
   "outputs": [
    {
     "data": {
      "text/plain": [
       "293.15"
      ]
     },
     "execution_count": 22,
     "metadata": {},
     "output_type": "execute_result"
    }
   ],
   "source": [
    "c_para_test.temp = 293.15"
   ]
  },
  {
   "cell_type": "code",
   "execution_count": 23,
   "metadata": {},
   "outputs": [
    {
     "data": {
      "text/plain": [
       "Main.Air_based_RH.Air(\"No Name\", 1.0, 300.0, 0.65, 9.3, 4.9, 4.4, 3.0316011083563796e-8)"
      ]
     },
     "execution_count": 23,
     "metadata": {},
     "output_type": "execute_result"
    }
   ],
   "source": [
    "c_para = Porous_material_based_miu\n",
    "cell1 = c_para_test\n",
    "air = air_test"
   ]
  },
  {
   "cell_type": "code",
   "execution_count": 24,
   "metadata": {},
   "outputs": [
    {
     "data": {
      "text/plain": [
       "\"bentheimer_sandstone\""
      ]
     },
     "execution_count": 24,
     "metadata": {},
     "output_type": "execute_result"
    }
   ],
   "source": [
    "cell2 = Porous_material_based_miu.Cell()\n",
    "cell2.dx = 0.0015\n",
    "cell2.dx2 = cell2.dx / 2.0 \n",
    "#cell2.temp = 298.15\n",
    "#cell2.miu = -150.0\n",
    "cell2.temp = cell1.temp\n",
    "cell2.miu = cell1.miu\n",
    "cell2.material_name = \"bentheimer_sandstone\""
   ]
  },
  {
   "cell_type": "code",
   "execution_count": 25,
   "metadata": {},
   "outputs": [
    {
     "data": {
      "text/plain": [
       "Main.Porous_material_based_miu.Cell(2079607600, 0.001, 2.76236e-318, 5.0e-324, 0.0005, 1.272741325e-315, 0.0, 293.15, -100.0, \"bentheimer_sandstone\")"
      ]
     },
     "execution_count": 25,
     "metadata": {},
     "output_type": "execute_result"
    }
   ],
   "source": [
    "c_para_test"
   ]
  },
  {
   "cell_type": "code",
   "execution_count": 26,
   "metadata": {},
   "outputs": [
    {
     "data": {
      "text/plain": [
       "2337.0759246162033"
      ]
     },
     "execution_count": 26,
     "metadata": {},
     "output_type": "execute_result"
    }
   ],
   "source": [
    "Porous_material_based_miu.pv(cell2)"
   ]
  },
  {
   "cell_type": "code",
   "execution_count": 27,
   "metadata": {},
   "outputs": [
    {
     "data": {
      "text/plain": [
       "-0.0"
      ]
     },
     "execution_count": 27,
     "metadata": {},
     "output_type": "execute_result"
    }
   ],
   "source": [
    "cal_qs( cell1, cell2 )"
   ]
  },
  {
   "cell_type": "code",
   "execution_count": 28,
   "metadata": {},
   "outputs": [
    {
     "data": {
      "text/plain": [
       "63.70500000000022"
      ]
     },
     "execution_count": 28,
     "metadata": {},
     "output_type": "execute_result"
    }
   ],
   "source": [
    "cal_qs_air( air, cell1 )"
   ]
  },
  {
   "cell_type": "code",
   "execution_count": 29,
   "metadata": {},
   "outputs": [
    {
     "data": {
      "text/plain": [
       "293.15"
      ]
     },
     "execution_count": 29,
     "metadata": {},
     "output_type": "execute_result"
    }
   ],
   "source": [
    "cell1.temp"
   ]
  },
  {
   "cell_type": "code",
   "execution_count": 30,
   "metadata": {},
   "outputs": [
    {
     "data": {
      "text/plain": [
       "-63.70500000000022"
      ]
     },
     "execution_count": 30,
     "metadata": {},
     "output_type": "execute_result"
    }
   ],
   "source": [
    "cal_qs_air( cell2, air )"
   ]
  },
  {
   "cell_type": "code",
   "execution_count": 31,
   "metadata": {},
   "outputs": [
    {
     "data": {
      "text/plain": [
       "1.4197782071427957e-9"
      ]
     },
     "execution_count": 31,
     "metadata": {},
     "output_type": "execute_result"
    }
   ],
   "source": [
    "cal_jl( cell2, cell1, 1.0 )"
   ]
  },
  {
   "cell_type": "code",
   "execution_count": 32,
   "metadata": {},
   "outputs": [
    {
     "data": {
      "text/plain": [
       "-0.0"
      ]
     },
     "execution_count": 32,
     "metadata": {},
     "output_type": "execute_result"
    }
   ],
   "source": [
    "cal_jv( cell2, cell1 )"
   ]
  },
  {
   "cell_type": "code",
   "execution_count": 33,
   "metadata": {},
   "outputs": [
    {
     "data": {
      "text/plain": [
       "-0.0"
      ]
     },
     "execution_count": 33,
     "metadata": {},
     "output_type": "execute_result"
    }
   ],
   "source": [
    "cal_jl_meanAve( cell2, cell1 )"
   ]
  },
  {
   "cell_type": "code",
   "execution_count": 34,
   "metadata": {},
   "outputs": [
    {
     "data": {
      "text/plain": [
       "-0.0"
      ]
     },
     "execution_count": 34,
     "metadata": {},
     "output_type": "execute_result"
    }
   ],
   "source": [
    "cal_qs_meanAve( cell2, cell1 )"
   ]
  },
  {
   "cell_type": "markdown",
   "metadata": {},
   "source": [
    "</br>\n",
    "\n",
    "# 4. Cellモジュールを用いた熱水分収支式  \n",
    "\n",
    "【概要】\n",
    "Cellモジュールを用いた熱水分収支式について示す。  \n",
    "\n",
    "※具体的な計算式については「module_function/flux_and_balance_equation.ipynb」を参照のこと。"
   ]
  },
  {
   "cell_type": "markdown",
   "metadata": {},
   "source": [
    "## 4.1 熱収支式\n",
    "\n",
    "関数名：\n",
    "- cal_newtemp\n",
    "        \n",
    "引数（キーワード引数）：  \n",
    "- cell: 熱収支を計算する対象のセル\n",
    "- qs_mns: 対象セルに流入する熱流量を入力\n",
    "- qs_pls: 対象セルから流出する熱流量を入力\n",
    "- jv_mns: 対象セルに流入する水蒸気流量を入力（デフォルト値 = 0.0 相変化熱の計算に用いるが、熱のみの計算の場合0.0と出来る。）\n",
    "- jv_pls: 対象セルから流出する水蒸気流量を入力（デフォルト値 = 0.0 相変化熱の計算に用いるが、熱のみの計算の場合0.0と出来る。）\n",
    "- time: 計算における時間刻み  \n",
    "\n",
    "戻り値：\n",
    "- 実数Float64（温度）"
   ]
  },
  {
   "cell_type": "markdown",
   "metadata": {},
   "source": [
    "cellの型を指定したらエラーが出たため、ここでは型宣言はしないものとした。"
   ]
  },
  {
   "cell_type": "code",
   "execution_count": 35,
   "metadata": {},
   "outputs": [
    {
     "data": {
      "text/plain": [
       "cal_newtemp (generic function with 1 method)"
      ]
     },
     "execution_count": 35,
     "metadata": {},
     "output_type": "execute_result"
    }
   ],
   "source": [
    "function cal_newtemp(; cell, qs_mns, qs_pls, jv_mns = 0.0, jv_pls = 0.0, time );\n",
    "    cell_para = Porous_material_based_miu\n",
    "    return balance_equation.cal_newtemp( cell_para.crow(cell), cell_para.temp(cell), qs_mns - qs_pls, - ( jv_mns - jv_pls ), cell_para.dx(cell), time )\n",
    "end"
   ]
  },
  {
   "cell_type": "markdown",
   "metadata": {},
   "source": [
    "### 4.2 水分化学ポテンシャル収支式  \n",
    "\n",
    "関数名：\n",
    "- cal_newmiu\n",
    "        \n",
    "引数（キーワード引数）：  \n",
    "- cell: 熱収支を計算する対象のセル\n",
    "- jv_mns: 対象セルに流入する水蒸気流量を入力（デフォルト値 = 0.0）\n",
    "- jv_pls: 対象セルから流出する水蒸気流量を入力（デフォルト値 = 0.0）\n",
    "- jl_mns: 対象セルに流入する液水流量を入力（デフォルト値 = 0.0）\n",
    "- jl_pls: 対象セルから流出する液水流量を入力（デフォルト値 = 0.0）\n",
    "- time: 計算における時間刻み\n",
    "\n",
    "戻り値：\n",
    "- 実数Float64（水分化学ポテンシャル）"
   ]
  },
  {
   "cell_type": "code",
   "execution_count": 36,
   "metadata": {},
   "outputs": [
    {
     "data": {
      "text/plain": [
       "cal_newmiu (generic function with 1 method)"
      ]
     },
     "execution_count": 36,
     "metadata": {},
     "output_type": "execute_result"
    }
   ],
   "source": [
    "function cal_newmiu(; cell, jv_mns = 0.0, jv_pls = 0.0, jl_mns = 0.0, jl_pls = 0.0, time )\n",
    "    cell_para = Porous_material_based_miu\n",
    "    return balance_equation.cal_newmiu( cell_para.dphi(cell), cell_para.miu(cell), ( jv_mns + jl_mns ) - ( jv_pls + jl_pls ), cell_para.dx(cell), time )\n",
    "end"
   ]
  },
  {
   "cell_type": "markdown",
   "metadata": {},
   "source": [
    "## 4.3 含水率収支式\n",
    "\n",
    "関数名：\n",
    "- cal_newphi\n",
    "        \n",
    "引数（キーワード引数）：  \n",
    "- cell: 熱収支を計算する対象のセル\n",
    "- jv_mns: 対象セルに流入する水蒸気流量を入力（デフォルト値 = 0.0）\n",
    "- jv_pls: 対象セルから流出する水蒸気流量を入力（デフォルト値 = 0.0）\n",
    "- jl_mns: 対象セルに流入する液水流量を入力（デフォルト値 = 0.0）\n",
    "- jl_pls: 対象セルから流出する液水流量を入力（デフォルト値 = 0.0）\n",
    "- time: 計算における時間刻み  \n",
    "\n",
    "戻り値：\n",
    "- 実数Float64（含水率）"
   ]
  },
  {
   "cell_type": "code",
   "execution_count": 37,
   "metadata": {},
   "outputs": [
    {
     "data": {
      "text/plain": [
       "cal_newphi (generic function with 1 method)"
      ]
     },
     "execution_count": 37,
     "metadata": {},
     "output_type": "execute_result"
    }
   ],
   "source": [
    "function cal_newphi(; cell, jv_mns = 0.0, jv_pls = 0.0, jl_mns = 0.0, jl_pls = 0.0, time )\n",
    "    cell_para = Porous_material_based_miu\n",
    "    return balance_equation.cal_newphi( cell_para.phi(cell), ( jv_mns + jl_mns ) - ( jv_pls + jl_pls ), cell_para.dx(cell), time )\n",
    "end"
   ]
  },
  {
   "cell_type": "code",
   "execution_count": null,
   "metadata": {},
   "outputs": [],
   "source": []
  },
  {
   "cell_type": "markdown",
   "metadata": {},
   "source": [
    "## 検証"
   ]
  },
  {
   "cell_type": "code",
   "execution_count": 38,
   "metadata": {},
   "outputs": [
    {
     "data": {
      "text/plain": [
       "Main.Air_based_RH.Air(\"No Name\", 1.0, 300.0, 0.65, 9.3, 4.9, 4.4, 3.0316011083563796e-8)"
      ]
     },
     "execution_count": 38,
     "metadata": {},
     "output_type": "execute_result"
    }
   ],
   "source": [
    "air"
   ]
  },
  {
   "cell_type": "code",
   "execution_count": 39,
   "metadata": {},
   "outputs": [
    {
     "data": {
      "text/plain": [
       "293.155054916003"
      ]
     },
     "execution_count": 39,
     "metadata": {},
     "output_type": "execute_result"
    }
   ],
   "source": [
    "cal_newtemp( cell = cell1, qs_mns = cal_qs_air(air, cell1), qs_pls = cal_qs(cell1, cell2), jv_mns = cal_jv_air(air, cell1), jv_pls = cal_jv(cell1, cell2), time = 0.1 )"
   ]
  },
  {
   "cell_type": "code",
   "execution_count": 40,
   "metadata": {},
   "outputs": [
    {
     "data": {
      "text/plain": [
       "-100.00052758246679"
      ]
     },
     "execution_count": 40,
     "metadata": {},
     "output_type": "execute_result"
    }
   ],
   "source": [
    "cal_newmiu( cell = cell1, jv_mns = cal_jv_air(air,cell1), jv_pls = cal_jv(cell1, cell2), jl_mns = 0.0, jl_pls = cal_jl(cell1, cell2), time = 0.1 )"
   ]
  },
  {
   "cell_type": "code",
   "execution_count": null,
   "metadata": {},
   "outputs": [],
   "source": []
  },
  {
   "cell_type": "markdown",
   "metadata": {},
   "source": [
    "</br>\n",
    "\n",
    "# 5. 常微分方程式の解を用いた熱水分収支式"
   ]
  },
  {
   "cell_type": "markdown",
   "metadata": {},
   "source": [
    "状微分方程式の解を用いた計算では、  \n",
    "- 熱・水分流計算  \n",
    "- 熱・水分収支計算  \n",
    "\n",
    "これらが一括で行われる。従って計算結果で得られる値は温度および水分化学ポテンシャルの2変数である。  \n",
    "\n",
    "以下の関数基本的な使い方としては、  \n",
    "\n",
    "関数名：\n",
    "- cal_newvalue_by_ODE\n",
    "\n",
    "引数（キーワード引数）：\n",
    "- cell_cen : 熱水分収支計算を行うcellを入力する（Porous_material_based_miu内のCell構造体を必ず入力すること）。\n",
    "- cell_mns : cell_cenに対してmns側に位置するcellを入力する（Cell構造体もしくはAir_based_RH内のAir構造体を入力すること）。\n",
    "- cell_pls : cell_cenに対してpls側に位置するcellを入力する（Cell構造体もしくはAir_based_RH内のAir構造体を入力すること）。\n",
    "- dt       : 計算の時間刻みを入力する。\n",
    "- nx       : 重力に対する応答方向を入力する。水平方向の計算なら0、垂直方法（plsが上方向）なら1を入力する（デフォルト値として0を採用している）。\n",
    "- heat_gain     : （主に境界条件用）日射熱取得が存在する場合、値を入力する（デフォルト値は0）。\n",
    "- moisture_gain : （主に境界条件用）降雨など水分取得が存在する場合、値を入力する（デフォルト値は0）。\n",
    "\n",
    "戻り値（複数）：\n",
    "- 実数Float64（温度）, 実数Float64（水分化学ポテンシャル）"
   ]
  },
  {
   "cell_type": "markdown",
   "metadata": {},
   "source": [
    "#### 物性値の平均化に関する関数"
   ]
  },
  {
   "cell_type": "code",
   "execution_count": 41,
   "metadata": {},
   "outputs": [
    {
     "data": {
      "text/plain": [
       "ldt (generic function with 1 method)"
      ]
     },
     "execution_count": 41,
     "metadata": {},
     "output_type": "execute_result"
    }
   ],
   "source": [
    "lam(cell_mns::Porous_material_based_miu.Cell, cell_pls::Porous_material_based_miu.Cell)  = balance_equation_by_ODE.sum_resistance( val_mns = Porous_material_based_miu.lam(cell_mns),  val_pls = Porous_material_based_miu.lam(cell_pls),  len_mns = Porous_material_based_miu.dx2(cell_mns), len_pls = Porous_material_based_miu.dx2(cell_pls) )\n",
    "ldmg(cell_mns::Porous_material_based_miu.Cell, cell_pls::Porous_material_based_miu.Cell) = balance_equation_by_ODE.sum_resistance( val_mns = Porous_material_based_miu.ldmg(cell_mns), val_pls = Porous_material_based_miu.ldmg(cell_pls), len_mns = Porous_material_based_miu.dx2(cell_mns), len_pls = Porous_material_based_miu.dx2(cell_pls) )\n",
    "ldtg(cell_mns::Porous_material_based_miu.Cell, cell_pls::Porous_material_based_miu.Cell) = balance_equation_by_ODE.sum_resistance( val_mns = Porous_material_based_miu.ldtg(cell_mns), val_pls = Porous_material_based_miu.ldtg(cell_pls), len_mns = Porous_material_based_miu.dx2(cell_mns), len_pls = Porous_material_based_miu.dx2(cell_pls) )\n",
    "ldm(cell_mns::Porous_material_based_miu.Cell, cell_pls::Porous_material_based_miu.Cell)  = balance_equation_by_ODE.sum_resistance( val_mns = Porous_material_based_miu.ldml(cell_mns) + Porous_material_based_miu.ldmg(cell_mns), val_pls = Porous_material_based_miu.ldml(cell_pls) + Porous_material_based_miu.ldmg(cell_pls), len_mns = Porous_material_based_miu.dx2(cell_mns), len_pls = Porous_material_based_miu.dx2(cell_pls) )\n",
    "ldt(cell_mns::Porous_material_based_miu.Cell, cell_pls::Porous_material_based_miu.Cell)  = balance_equation_by_ODE.sum_resistance( val_mns = Porous_material_based_miu.ldtl(cell_mns) + Porous_material_based_miu.ldtg(cell_mns), val_pls = Porous_material_based_miu.ldtl(cell_pls) + Porous_material_based_miu.ldtg(cell_pls), len_mns = Porous_material_based_miu.dx2(cell_mns), len_pls = Porous_material_based_miu.dx2(cell_pls) )"
   ]
  },
  {
   "cell_type": "markdown",
   "metadata": {},
   "source": [
    "## 5.1 多孔質材料中における計算条件"
   ]
  },
  {
   "cell_type": "markdown",
   "metadata": {},
   "source": [
    "温度、水分化学ポテンシャルの2値を出力する関数  \n",
    "※2021/07/30 チェック済み"
   ]
  },
  {
   "cell_type": "markdown",
   "metadata": {},
   "source": [
    "### 5.1.1 温度計算"
   ]
  },
  {
   "cell_type": "code",
   "execution_count": 42,
   "metadata": {},
   "outputs": [
    {
     "data": {
      "text/plain": [
       "cal_newtemp_by_ODE (generic function with 1 method)"
      ]
     },
     "execution_count": 42,
     "metadata": {},
     "output_type": "execute_result"
    }
   ],
   "source": [
    "function cal_newtemp_by_ODE( cell_mns::Porous_material_based_miu.Cell, cell_cen::Porous_material_based_miu.Cell, cell_pls::Porous_material_based_miu.Cell, \n",
    "        dt, heat_gain::Float64 );\n",
    "    val = Porous_material_based_miu\n",
    "    ODE = balance_equation_by_ODE\n",
    "    \n",
    "    r = ODE.latent_heat(val.temp(cell_cen))\n",
    "    \n",
    "    # A1の計算\n",
    "    A1 = ODE.cal_A1( crow = val.crow(cell_cen), vol = val.dx(cell_cen) )\n",
    "    \n",
    "    c1 = ODE.cal_c1( lam_mns = lam(cell_mns, cell_cen), lam_pls = lam(cell_cen, cell_pls), ldtg_mns = ldtg(cell_mns, cell_cen), ldtg_pls = ldtg(cell_cen, cell_pls), \n",
    "        r = r, dx2_mns = val.dx2(cell_mns), dx2_pls = val.dx2(cell_pls))\n",
    "    c2 = ODE.cal_c2( temp_mns = val.temp(cell_mns), temp_pls = val.temp(cell_pls), miu_mns = val.miu(cell_mns), miu_pls = val.miu(cell_pls), miu_cen = val.miu(cell_cen), \n",
    "        lam_mns = lam(cell_mns, cell_cen), lam_pls = lam(cell_cen, cell_pls), ldmg_mns = ldmg(cell_mns, cell_cen), ldmg_pls = ldmg(cell_cen, cell_pls), ldtg_mns = ldtg(cell_mns, cell_cen), ldtg_pls = ldtg(cell_cen, cell_pls),\n",
    "        r = r, dx2_mns = val.dx2(cell_mns), dx2_pls = val.dx2(cell_pls))    \n",
    "    \n",
    "    return ODE.cal_newtemp( val.temp(cell_cen), A1, c1, c2, dt)\n",
    "end"
   ]
  },
  {
   "cell_type": "markdown",
   "metadata": {},
   "source": [
    "### 5.1.2 水分化学ポテンシャル計算"
   ]
  },
  {
   "cell_type": "code",
   "execution_count": 43,
   "metadata": {},
   "outputs": [
    {
     "data": {
      "text/plain": [
       "cal_newmiu_by_ODE (generic function with 1 method)"
      ]
     },
     "execution_count": 43,
     "metadata": {},
     "output_type": "execute_result"
    }
   ],
   "source": [
    "function cal_newmiu_by_ODE( cell_mns::Porous_material_based_miu.Cell, cell_cen::Porous_material_based_miu.Cell, cell_pls::Porous_material_based_miu.Cell, \n",
    "        dt, nx::Float64, moisture_gain::Float64 );\n",
    "    val = Porous_material_based_miu\n",
    "    ODE = balance_equation_by_ODE\n",
    "    \n",
    "    # A2の計算\n",
    "    A2 = ODE.cal_A2( vol  = val.dx(cell_cen),  dphi = val.dphi(cell_cen) )\n",
    "    \n",
    "    c3 = ODE.cal_c3( ldm_mns = ldm(cell_mns, cell_cen), ldm_pls = ldm(cell_cen, cell_pls), dx2_mns = val.dx2(cell_mns), dx2_pls = val.dx2(cell_pls))    \n",
    "    # ここでは液水の温度勾配水分拡散係数は無視している。\n",
    "    c4 = ODE.cal_c4( temp_mns = val.temp(cell_mns), temp_pls = val.temp(cell_pls), temp_cen = val.temp(cell_cen), miu_mns = val.miu(cell_mns), miu_pls = val.miu(cell_pls),\n",
    "        ldm_mns = ldm(cell_mns, cell_cen), ldm_pls = ldm(cell_cen, cell_pls), ldt_mns = ldtg(cell_mns, cell_cen), ldt_pls = ldtg(cell_cen, cell_pls), \n",
    "        dx2_mns = val.dx2(cell_mns), dx2_pls = val.dx2(cell_pls), nx = nx )\n",
    "    \n",
    "    return ODE.cal_newmiu( val.miu(cell_cen), A2, c3, c4, dt)\n",
    "end"
   ]
  },
  {
   "cell_type": "markdown",
   "metadata": {},
   "source": [
    "\n",
    "## 5.2 mns側（先端）が空気の場合の計算条件"
   ]
  },
  {
   "cell_type": "markdown",
   "metadata": {},
   "source": [
    "### 5.2.1 温度計算"
   ]
  },
  {
   "cell_type": "code",
   "execution_count": 44,
   "metadata": {},
   "outputs": [
    {
     "data": {
      "text/plain": [
       "4.195672904856689e-6"
      ]
     },
     "execution_count": 44,
     "metadata": {},
     "output_type": "execute_result"
    }
   ],
   "source": [
    "Air_based_RH.aldt(air)"
   ]
  },
  {
   "cell_type": "code",
   "execution_count": 45,
   "metadata": {},
   "outputs": [
    {
     "data": {
      "text/plain": [
       "5.282407437407904e-5"
      ]
     },
     "execution_count": 45,
     "metadata": {},
     "output_type": "execute_result"
    }
   ],
   "source": [
    "Porous_material_based_miu.ldtg(cell1) / cell1.dx2"
   ]
  },
  {
   "cell_type": "code",
   "execution_count": 46,
   "metadata": {},
   "outputs": [
    {
     "data": {
      "text/plain": [
       "cal_newtemp_by_ODE (generic function with 2 methods)"
      ]
     },
     "execution_count": 46,
     "metadata": {},
     "output_type": "execute_result"
    }
   ],
   "source": [
    "# mnsが空気(air)、cenが壁表面(surf)、plsが壁内部(wall)\n",
    "function cal_newtemp_by_ODE( cell_mns::Air_based_RH.Air, cell_cen::Porous_material_based_miu.Cell, cell_pls::Porous_material_based_miu.Cell, \n",
    "        dt, heat_gain::Float64 );\n",
    "    valw = Porous_material_based_miu\n",
    "    vala = Air_based_RH\n",
    "    ODE = balance_equation_by_ODE\n",
    "    \n",
    "    r = ODE.latent_heat(valw.temp(cell_cen))\n",
    "    \n",
    "    # A2の計算\n",
    "    A1 = ODE.cal_A1( crow = valw.crow(cell_cen), vol = valw.dx(cell_cen) )\n",
    "    \n",
    "    c1 = ODE.cal_c1_BC( \n",
    "        lam   = lam(cell_cen, cell_pls), \n",
    "        ldtg  = ldtg(cell_cen, cell_pls), \n",
    "        alpha = Air_based_RH.alpha(cell_mns), \n",
    "        aldt  = Air_based_RH.aldt(cell_mns), \n",
    "        r = r, \n",
    "        dx2 = valw.dx2(cell_cen) + valw.dx2(cell_pls))\n",
    "    c2 = ODE.cal_c2_BC( \n",
    "        temp_wall = valw.temp(cell_pls), temp_air = vala.temp(cell_mns), \n",
    "        miu_wall = valw.miu(cell_pls), miu_air = vala.miu(cell_mns), miu_surf = valw.miu(cell_cen), \n",
    "        lam   = lam(cell_cen, cell_pls), \n",
    "        ldmg  = ldmg(cell_cen, cell_pls), \n",
    "        ldtg  = ldtg(cell_cen, cell_pls), \n",
    "        alpha = Air_based_RH.alpha(cell_mns), \n",
    "        aldmu = Air_based_RH.aldmu(cell_mns), \n",
    "        aldt  = Air_based_RH.aldt(cell_mns),\n",
    "        r = r, \n",
    "        dx2 = valw.dx2(cell_cen) + valw.dx2(cell_pls), \n",
    "        heat_gain = heat_gain )    \n",
    "    return ODE.cal_newtemp( valw.temp(cell_cen), A1, c1, c2, dt)\n",
    "end"
   ]
  },
  {
   "cell_type": "markdown",
   "metadata": {},
   "source": [
    "### 5.2.2 水分化学ポテンシャル計算"
   ]
  },
  {
   "cell_type": "code",
   "execution_count": 47,
   "metadata": {},
   "outputs": [
    {
     "data": {
      "text/plain": [
       "cal_newmiu_by_ODE (generic function with 2 methods)"
      ]
     },
     "execution_count": 47,
     "metadata": {},
     "output_type": "execute_result"
    }
   ],
   "source": [
    "# mnsが空気(air)、cenが壁表面(surf)、plsが壁内部(wall)\n",
    "function cal_newmiu_by_ODE( cell_mns::Air_based_RH.Air, cell_cen::Porous_material_based_miu.Cell, cell_pls::Porous_material_based_miu.Cell, \n",
    "        dt, nx::Float64, moisture_gain::Float64 );\n",
    "    valw = Porous_material_based_miu\n",
    "    vala = Air_based_RH\n",
    "    ODE = balance_equation_by_ODE\n",
    "    \n",
    "    # A2の計算\n",
    "    A2 = ODE.cal_A2( vol  = valw.dx(cell_cen),  dphi = valw.dphi(cell_cen) )\n",
    "    \n",
    "    c3 = ODE.cal_c3_BC(\n",
    "        ldm   = ldm(cell_cen, cell_pls), \n",
    "        aldmu = Air_based_RH.aldmu(cell_mns), \n",
    "        dx2   = valw.dx2(cell_cen) + valw.dx2(cell_pls))\n",
    "    c4 = ODE.cal_c4_BC(\n",
    "        temp_wall = valw.temp(cell_pls), temp_air = vala.temp(cell_mns), temp_surf = valw.temp(cell_cen), \n",
    "        miu_wall  = valw.miu(cell_pls),  miu_air  = vala.miu(cell_mns),\n",
    "        ldm       = ldm(cell_cen, cell_pls), \n",
    "        ldt       = ldtg(cell_cen, cell_pls), \n",
    "        aldmu     = Air_based_RH.aldmu(cell_mns), \n",
    "        aldt      = Air_based_RH.aldt(cell_mns), \n",
    "        dx2       = valw.dx2(cell_cen) + valw.dx2(cell_pls), \n",
    "        nx        = nx, \n",
    "        moisture_gain = moisture_gain)    \n",
    "    return ODE.cal_newmiu( valw.miu(cell_cen), A2, c3, c4, dt)\n",
    "end"
   ]
  },
  {
   "cell_type": "markdown",
   "metadata": {},
   "source": [
    "## 5.3 pls側（先端）が空気の場合の計算条件"
   ]
  },
  {
   "cell_type": "markdown",
   "metadata": {},
   "source": [
    "### 5.3.1 温度計算"
   ]
  },
  {
   "cell_type": "code",
   "execution_count": 48,
   "metadata": {},
   "outputs": [
    {
     "data": {
      "text/plain": [
       "cal_newtemp_by_ODE (generic function with 3 methods)"
      ]
     },
     "execution_count": 48,
     "metadata": {},
     "output_type": "execute_result"
    }
   ],
   "source": [
    "# mnsが壁内部(wall)、cenが壁表面(surf)、plsが空気(air)\n",
    "function cal_newtemp_by_ODE( cell_mns::Porous_material_based_miu.Cell, cell_cen::Porous_material_based_miu.Cell, cell_pls::Air_based_RH.Air, \n",
    "        dt, heat_gain::Float64 );\n",
    "    valw = Porous_material_based_miu\n",
    "    vala = Air_based_RH\n",
    "    ODE = balance_equation_by_ODE\n",
    "    \n",
    "    r = ODE.latent_heat(valw.temp(cell_cen))\n",
    "    \n",
    "    # A1の計算\n",
    "    A1 = ODE.cal_A1( crow = valw.crow(cell_cen), vol = valw.dx(cell_cen) )\n",
    "    \n",
    "    c1 = ODE.cal_c1_BC( \n",
    "        lam   = lam(cell_mns, cell_cen), \n",
    "        ldtg  = ldtg(cell_mns, cell_cen), \n",
    "        alpha = Air_based_RH.alpha(cell_pls), \n",
    "        aldt  = Air_based_RH.aldt( cell_pls), \n",
    "        r     = r, \n",
    "        dx2   = valw.dx2(cell_cen) + valw.dx2(cell_mns))\n",
    "    c2 = ODE.cal_c2_BC( \n",
    "        temp_wall = valw.temp(cell_mns), temp_air = vala.temp(cell_pls), \n",
    "        miu_wall  = valw.miu(cell_mns),  miu_air  = vala.miu(cell_pls), miu_surf = valw.miu(cell_cen), \n",
    "        lam   = lam(cell_mns, cell_cen), \n",
    "        ldmg  = ldmg(cell_mns, cell_cen), \n",
    "        ldtg  = ldtg(cell_mns, cell_cen), \n",
    "        alpha = Air_based_RH.alpha(cell_pls), \n",
    "        aldmu = Air_based_RH.aldmu(cell_pls), \n",
    "        aldt  = Air_based_RH.aldt(cell_pls),\n",
    "        r = r, \n",
    "        dx2 = valw.dx2(cell_cen) + valw.dx2(cell_mns), \n",
    "        heat_gain = heat_gain )\n",
    "    return ODE.cal_newtemp( valw.temp(cell_cen), A1, c1, c2, dt)\n",
    "end"
   ]
  },
  {
   "cell_type": "markdown",
   "metadata": {},
   "source": [
    "### 5.3.2 水分化学ポテンシャル計算"
   ]
  },
  {
   "cell_type": "code",
   "execution_count": 49,
   "metadata": {},
   "outputs": [
    {
     "data": {
      "text/plain": [
       "cal_newmiu_by_ODE (generic function with 3 methods)"
      ]
     },
     "execution_count": 49,
     "metadata": {},
     "output_type": "execute_result"
    }
   ],
   "source": [
    "# mnsが壁内部(wall)、cenが壁表面(surf)、plsが空気(air)\n",
    "function cal_newmiu_by_ODE( cell_mns::Porous_material_based_miu.Cell, cell_cen::Porous_material_based_miu.Cell, cell_pls::Air_based_RH.Air, \n",
    "        dt, nx::Float64, moisture_gain::Float64 );\n",
    "    valw = Porous_material_based_miu\n",
    "    vala = Air_based_RH\n",
    "    ODE = balance_equation_by_ODE\n",
    "    \n",
    "    r = ODE.latent_heat(valw.temp(cell_cen))\n",
    "    \n",
    "    # A2の計算\n",
    "    A2 = ODE.cal_A2( vol  = valw.dx(cell_cen),  dphi = valw.dphi(cell_cen) )\n",
    "    \n",
    "    c3 = ODE.cal_c3_BC( \n",
    "        ldm   = ldm(cell_mns, cell_cen), \n",
    "        aldmu = Air_based_RH.aldmu(cell_pls), \n",
    "        dx2   = valw.dx2(cell_cen) + valw.dx2(cell_mns))\n",
    "    c4 = ODE.cal_c4_BC( \n",
    "        temp_wall = valw.temp(cell_mns), temp_air = vala.temp(cell_pls), temp_surf = valw.temp(cell_cen), \n",
    "        miu_wall  = valw.miu(cell_mns),  miu_air  = vala.miu(cell_pls),\n",
    "        ldm   = ldm(cell_mns, cell_cen), \n",
    "        ldt   = ldtg(cell_mns, cell_cen), \n",
    "        aldmu = Air_based_RH.aldmu(cell_pls), \n",
    "        aldt  = Air_based_RH.aldt(cell_pls), \n",
    "        dx2   = valw.dx2(cell_cen) + valw.dx2(cell_mns), \n",
    "        nx    = nx, \n",
    "        moisture_gain = moisture_gain)    \n",
    "    return ODE.cal_newmiu( valw.miu(cell_cen), A2, c3, c4, dt)   \n",
    "end"
   ]
  },
  {
   "cell_type": "markdown",
   "metadata": {},
   "source": [
    "### 補足：キーワード変数として関数を再構築"
   ]
  },
  {
   "cell_type": "code",
   "execution_count": 50,
   "metadata": {},
   "outputs": [
    {
     "data": {
      "text/plain": [
       "cal_newmiu_by_ODE (generic function with 4 methods)"
      ]
     },
     "execution_count": 50,
     "metadata": {},
     "output_type": "execute_result"
    }
   ],
   "source": [
    "cal_newvalue_by_ODE(; cell_mns, cell_cen, cell_pls, dt, nx = 0.0, heat_gain = 0.0, moisture_gain = 0.0 ) = cal_newvalue_by_ODE( cell_mns, cell_cen, cell_pls, dt, nx, heat_gain, moisture_gain )\n",
    "cal_newtemp_by_ODE( ; cell_mns, cell_cen, cell_pls, dt, heat_gain = 0.0 )               = cal_newtemp_by_ODE( cell_mns, cell_cen, cell_pls, dt, heat_gain )\n",
    "cal_newmiu_by_ODE(  ; cell_mns, cell_cen, cell_pls, dt, nx = 0.0, moisture_gain = 0.0 ) = cal_newmiu_by_ODE(  cell_mns, cell_cen, cell_pls, dt, nx, moisture_gain )"
   ]
  },
  {
   "cell_type": "markdown",
   "metadata": {},
   "source": [
    "#### 使用例"
   ]
  },
  {
   "cell_type": "code",
   "execution_count": 51,
   "metadata": {},
   "outputs": [
    {
     "data": {
      "text/plain": [
       "0.65"
      ]
     },
     "execution_count": 51,
     "metadata": {},
     "output_type": "execute_result"
    }
   ],
   "source": [
    "air.rh"
   ]
  },
  {
   "cell_type": "code",
   "execution_count": 52,
   "metadata": {},
   "outputs": [
    {
     "data": {
      "text/plain": [
       "293.2088456368803"
      ]
     },
     "execution_count": 52,
     "metadata": {},
     "output_type": "execute_result"
    }
   ],
   "source": [
    "cal_newtemp_by_ODE( cell_mns = cell1, cell_cen = cell2, cell_pls = air, dt = 10000000000000.0 )"
   ]
  },
  {
   "cell_type": "code",
   "execution_count": 53,
   "metadata": {},
   "outputs": [
    {
     "data": {
      "text/plain": [
       "-110.31306332325047"
      ]
     },
     "execution_count": 53,
     "metadata": {},
     "output_type": "execute_result"
    }
   ],
   "source": [
    "cal_newmiu_by_ODE( cell_mns = cell1, cell_cen = cell2, cell_pls = air, dt = 100000000000000000.0 )"
   ]
  },
  {
   "cell_type": "code",
   "execution_count": null,
   "metadata": {},
   "outputs": [],
   "source": []
  }
 ],
 "metadata": {
  "kernelspec": {
   "display_name": "Julia 1.5.3",
   "language": "julia",
   "name": "julia-1.5"
  },
  "language_info": {
   "file_extension": ".jl",
   "mimetype": "application/julia",
   "name": "julia",
   "version": "1.5.3"
  }
 },
 "nbformat": 4,
 "nbformat_minor": 4
}
