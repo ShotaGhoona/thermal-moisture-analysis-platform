{
 "cells": [
  {
   "cell_type": "code",
   "execution_count": 27,
   "metadata": {},
   "outputs": [
    {
     "data": {
      "text/plain": [
       "PyObject <module 'numpy' from 'C:\\\\Users\\\\ogura-lab\\\\.julia\\\\conda\\\\3\\\\lib\\\\site-packages\\\\numpy\\\\__init__.py'>"
      ]
     },
     "execution_count": 27,
     "metadata": {},
     "output_type": "execute_result"
    }
   ],
   "source": [
    "using PyPlot \n",
    "using PyCall\n",
    "np = pyimport(\"numpy\")"
   ]
  },
  {
   "cell_type": "markdown",
   "metadata": {},
   "source": [
    "# NaCl溶液の熱・水分状態を管理するモジュール"
   ]
  },
  {
   "cell_type": "markdown",
   "metadata": {},
   "source": [
    "NaCl溶液の状態を保持するクラスを作成する。  \n",
    "溶液の状態を表す方法として以下の3つの方法が挙げられる。  \n",
    "\n",
    "- $temp$ 絶対温度[K]  \n",
    "- $C$ 塩濃度, [mol(NaCl)/kg(H2O)] (molality)\n",
    "- $\\phi$ 含水率, [-]  \n",
    "- $\\mu$ 化学ポテンシャル, J kg<sup>-1<sup>  \n",
    "- $P_l$ 溶液の圧力, Pa  \n",
    "\n",
    "なお塩濃度は[kg(NaCl)/kg(H2O)]もしくは[mol(NaCl)/m3(H2O)]などの表記方法も存在するが、ここでは[mol(NaCl)/m3(H2O)]を採用した。  \n",
    "これについては議論の余地があるが、多くの物性値（例えば溶液の密度など）を測定する場合にはmolalityを採用している場合が多く、これらの物性値の近似がしやすいmolalityで表現するのが最も適切であろう。  \n",
    "塩溶液の場合、溶液の物理量を絶対的な指標としそこから水および塩の状態量を算出することでそれと平衡する水蒸気の量、塩結晶の量を算出することが容易である。  \n",
    "\n",
    "※モル量についての注意  \n",
    "モジュール内に保持できる状態量は基本的に示強変数のみとなる。  \n",
    "そのためモジュール内に示量変数であるモル量をそのまま保持することはできないため示強変数化する必要がある。  \n",
    "ここではモル量は単位体積当たりのモル量（モル濃度）とし以下のように表すこととする。  \n",
    "- $mol_w$ 水のモル濃度[mol/m3]  \n",
    "- $mol_s$ 塩(NaCl)のモル濃度[mol/m3]  \n"
   ]
  },
  {
   "cell_type": "markdown",
   "metadata": {},
   "source": [
    "#### 気体定数・水の気体定数"
   ]
  },
  {
   "cell_type": "code",
   "execution_count": 2,
   "metadata": {},
   "outputs": [
    {
     "data": {
      "text/plain": [
       "461.5039964476021"
      ]
     },
     "execution_count": 2,
     "metadata": {},
     "output_type": "execute_result"
    }
   ],
   "source": [
    "const R = 8.314456\n",
    "const Rv = 8.314456 / 0.018016"
   ]
  },
  {
   "cell_type": "markdown",
   "metadata": {},
   "source": [
    "#### ファラデー定数  \n",
    "F：電子の物質量あたり電荷（の絶対値）にあたる物理定数  \n",
    "9.64853321233100184×10^4 [C/mol]"
   ]
  },
  {
   "cell_type": "code",
   "execution_count": 3,
   "metadata": {},
   "outputs": [
    {
     "data": {
      "text/plain": [
       "96485.0"
      ]
     },
     "execution_count": 3,
     "metadata": {},
     "output_type": "execute_result"
    }
   ],
   "source": [
    "const F = 9.6485 * 10000.0"
   ]
  },
  {
   "cell_type": "markdown",
   "metadata": {},
   "source": [
    "#### 水・NaClのモル重量 [kg/mol]"
   ]
  },
  {
   "cell_type": "code",
   "execution_count": 4,
   "metadata": {},
   "outputs": [
    {
     "data": {
      "text/plain": [
       "0.05844"
      ]
     },
     "execution_count": 4,
     "metadata": {},
     "output_type": "execute_result"
    }
   ],
   "source": [
    "const Mw = 18.015 / 1000.0\n",
    "const Ms = 58.44 / 1000.0"
   ]
  },
  {
   "cell_type": "markdown",
   "metadata": {},
   "source": [
    "#### 様々な塩濃度  \n",
    "$C_{s(kg)}$：塩濃度[kg(NaCl)/kg(H2O)]  \n",
    "$C_{s(mol)}$：塩濃度[mol(NaCl)/kg(H2O)] (molality)  \n",
    "$C_{s(vol)}$：塩濃度[mol(NaCl)/m3(Solution)]  "
   ]
  },
  {
   "cell_type": "code",
   "execution_count": 5,
   "metadata": {},
   "outputs": [
    {
     "data": {
      "text/plain": [
       "cal_cs_vol (generic function with 1 method)"
      ]
     },
     "execution_count": 5,
     "metadata": {},
     "output_type": "execute_result"
    }
   ],
   "source": [
    "function cal_cs_kg( mols, molw )\n",
    "    return Ms * mols / ( Mw * molw )\n",
    "end\n",
    "\n",
    "function cal_cs_mol( mols, molw )\n",
    "    return mols / ( Mw * molw )\n",
    "end\n",
    "\n",
    "function cal_cs_vol( mols, molw )\n",
    "    vol = cal_volume( mols, molw )\n",
    "    return mols / vol\n",
    "end"
   ]
  },
  {
   "cell_type": "markdown",
   "metadata": {},
   "source": [
    "#### 飽和時における塩のモル量を逆算する関数"
   ]
  },
  {
   "cell_type": "code",
   "execution_count": 6,
   "metadata": {},
   "outputs": [
    {
     "data": {
      "text/plain": [
       "cal_mols_by_cs_mol (generic function with 1 method)"
      ]
     },
     "execution_count": 6,
     "metadata": {},
     "output_type": "execute_result"
    }
   ],
   "source": [
    "function cal_mols_by_cs_mol(cs, molw)\n",
    "    return cs * Mw * molw\n",
    "end"
   ]
  },
  {
   "cell_type": "markdown",
   "metadata": {},
   "source": [
    "#### $C_{s(vol)}とC_{s(mol)}$の比較"
   ]
  },
  {
   "cell_type": "markdown",
   "metadata": {},
   "source": [
    "cal_cs_vol( mols = cal_mols_by_cs_mol(cs = 2.5, molw = 10.0), molw = 10.0 )"
   ]
  },
  {
   "cell_type": "markdown",
   "metadata": {},
   "source": [
    "#### 溶液の密度[kg/m3]  \n",
    "$\\rho_{sw} = -303.34 C_s^2 + 667.04 C_s + 1000.0 $  \n",
    "\n",
    "#### 溶液の密度の濃度[kg(NaCl)/kg(H2O)]微分  ※濃度[kg/kg']に対する微分\n",
    "$\\frac{\\partial \\rho_{sw}}{\\partial C_s} = -606.68 C_s + 667.04 $  "
   ]
  },
  {
   "cell_type": "code",
   "execution_count": 7,
   "metadata": {},
   "outputs": [
    {
     "data": {
      "text/plain": [
       "cal_drowsw_cs (generic function with 1 method)"
      ]
     },
     "execution_count": 7,
     "metadata": {},
     "output_type": "execute_result"
    }
   ],
   "source": [
    "function cal_rowsw_cs( molal )\n",
    "    return -303.34 * (( molal * Ms) ^ 2.0 ) + 667.04 * (molal * Ms) + 1000.0\n",
    "end\n",
    "    \n",
    "function cal_drowsw_cs( molal )\n",
    "    return -606.68 * (molal * Ms) + 667.04\n",
    "end"
   ]
  },
  {
   "cell_type": "code",
   "execution_count": 8,
   "metadata": {},
   "outputs": [
    {
     "data": {
      "text/plain": [
       "cal_drowsw (generic function with 1 method)"
      ]
     },
     "execution_count": 8,
     "metadata": {},
     "output_type": "execute_result"
    }
   ],
   "source": [
    "function cal_rowsw( mols, molw )\n",
    "    return cal_rowsw_cs( cal_cs_mol( mols, molw ) )\n",
    "end\n",
    "    \n",
    "function cal_drowsw( mols, molw )\n",
    "    return cal_drowsw_cs( cal_cs_mol( mols, molw ) )\n",
    "end"
   ]
  },
  {
   "cell_type": "raw",
   "metadata": {},
   "source": [
    "# draw graph (グラフの描画)\n",
    "molw = 10000.0\n",
    "mols = np.arange(0.0, 1100.0, 1.0)\n",
    "fig = figure(figsize=(6,4))\n",
    "ax = fig.add_subplot(1,1,1)\n",
    "ax.plot( cal_cs_mol( mols, molw ), cal_rowsw( mols, molw ), label = \"density\" )\n",
    "#ax.plot( cal_cs_mol( mols, molw ), cal_drowsw( mols, molw ), label = '$\\partial rho / \\partial cs$' )\n",
    "ax.set_xlabel( \"molality [mol(NaCl)/kg(H2O)]\", fontsize = 14 )\n",
    "ax.set_ylabel( \"density [kg/m3]\", fontsize = 14 )\n",
    "legend()\n",
    "grid()\n",
    "show()"
   ]
  },
  {
   "cell_type": "markdown",
   "metadata": {},
   "source": [
    "#### 水・塩のモル分率[-]  \n",
    "$x_w = \\frac{ mol_w}{mol_w + i * mol_s}$  \n",
    "$x_s = \\frac{i * mol_s}{mol_w + i * mol_s}$  \n",
    "\n",
    "$x_w$：水のモル分率    \n",
    "$x_s$：塩のモル分率  \n",
    "$i$：塩の分離数[-]\n",
    "(NaClの場合Na+とCl-なので2)"
   ]
  },
  {
   "cell_type": "code",
   "execution_count": 10,
   "metadata": {},
   "outputs": [
    {
     "data": {
      "text/plain": [
       "cal_xw (generic function with 1 method)"
      ]
     },
     "execution_count": 10,
     "metadata": {},
     "output_type": "execute_result"
    }
   ],
   "source": [
    "function cal_xs( mols, molw )\n",
    "    return  2.0 * mols / ( molw + 2.0 * mols )\n",
    "end\n",
    "\n",
    "function cal_xw( mols, molw )\n",
    "    return  molw / ( molw + 2.0 * mols )\n",
    "end"
   ]
  },
  {
   "cell_type": "raw",
   "metadata": {},
   "source": [
    "# draw graph (グラフの描画)\n",
    "molw = 10000.0\n",
    "mols = np.arange(0.0, 1100.0, 1.0)\n",
    "fig = plt.figure(figsize=(18,4))\n",
    "ax = fig.add_subplot(1,1,1)\n",
    "ax.plot( cal_cs_mol( mols, molw ), cal_xs( mols, molw ), label = 'Salt mol fraction' )\n",
    "ax.plot( cal_cs_mol( mols, molw ), cal_xw( mols, molw ), label = 'water mol fraction' )\n",
    "ax.set_xlabel( 'molality (mol[NaCl]/kg[H2O])', fontsize = 12 )\n",
    "ax.set_ylabel( 'molar fraction(-)', fontsize = 12 )\n",
    "plt.legend()\n",
    "plt.show()"
   ]
  },
  {
   "cell_type": "markdown",
   "metadata": {},
   "source": [
    "#### モル濃度　←　塩濃度  \n",
    "$\\rho_{sw} V_{sol} = M_s mol_s + M_w mol_w$  \n",
    "\n",
    "一方で  \n",
    "$c_s = \\frac{mol_s} { M_w mol_w }$  \n",
    "\n",
    "したがってそれぞれのモル量は  \n",
    "\n",
    "$mol_w = \\frac{ \\rho_{sw} V_{sol} }{ ( ( 1.0 + c_s * M_s ) * M_w ) }$：水のモル濃度[mol(H2O)/m3(単位体積)]  \n",
    "\n",
    "$mol_s = \\frac{ \\rho_{sw} V_{sol} }{ ( M_s + 1.0 / c_s ) }$：塩のモル濃度[mol(NaCl)/m3(単位体積)]"
   ]
  },
  {
   "cell_type": "code",
   "execution_count": 11,
   "metadata": {},
   "outputs": [
    {
     "data": {
      "text/plain": [
       "cal_mols (generic function with 1 method)"
      ]
     },
     "execution_count": 11,
     "metadata": {},
     "output_type": "execute_result"
    }
   ],
   "source": [
    "#　volume　と　塩濃度[mol/kg]　から　各塩のモル量を算出する\n",
    "function cal_molw( vol, molal )\n",
    "    return cal_rowsw_cs( molal ) * vol / ( (1.0 + molal * Ms ) * Mw )\n",
    "end\n",
    "\n",
    "function cal_mols( vol, molal )\n",
    "    if molal == 0.0;\n",
    "        return 0.0\n",
    "        else;\n",
    "        return cal_rowsw_cs( molal ) * vol / ( Ms + 1.0 / molal )\n",
    "    end\n",
    "end"
   ]
  },
  {
   "cell_type": "raw",
   "metadata": {},
   "source": [
    "# draw graph (グラフの描画)\n",
    "vol= 0.2\n",
    "cs = np.arange(0.1, 6.0, 0.1)\n",
    "molw = [ cal_molw( vol, cs[i] ) for i in range (len(cs)) ]\n",
    "mols = [ cal_mols( vol, cs[i] ) for i in range (len(cs)) ]\n",
    "fig = plt.figure(figsize=(18,4))\n",
    "ax = fig.add_subplot(1,1,1)\n",
    "ax.plot( cs, molw, label = 'mol salt' )\n",
    "ax.plot( cs, mols, label = 'mol water' )\n",
    "ax.set_xlabel( 'molality (mol[NaCl]/kg[H2O])', fontsize = 12 )\n",
    "ax.set_ylabel( 'amount of mol(mol)', fontsize = 12 )\n",
    "plt.legend()\n",
    "plt.show()"
   ]
  },
  {
   "cell_type": "markdown",
   "metadata": {},
   "source": [
    "#### 溶液の体積[m3]\n",
    "体積[m3] * 密度[kg/m3] = 重量[kg] = 水のモル量[mol] * 水のモル質量[kg/mol] + 塩のモル質量[mol] * 塩のモル重量[kg/mol]  \n",
    "\n",
    "$V_{sw} = \\frac{ M_s mol_s + M_w mol_w}{\\rho_{sw}} $  \n",
    "\n",
    "$M_w$：水のモル質量[kg/mol] 18.015 / 1000.0  \n",
    "$M_s$：塩のモル質量[kg/mol] 58.44  / 1000.0"
   ]
  },
  {
   "cell_type": "code",
   "execution_count": 12,
   "metadata": {},
   "outputs": [
    {
     "data": {
      "text/plain": [
       "cal_volume (generic function with 1 method)"
      ]
     },
     "execution_count": 12,
     "metadata": {},
     "output_type": "execute_result"
    }
   ],
   "source": [
    "function cal_volume( mols, molw )\n",
    "    return ( Ms * mols + Mw * molw ) / cal_rowsw( mols, molw )\n",
    "end"
   ]
  },
  {
   "cell_type": "raw",
   "metadata": {},
   "source": [
    "# draw graph (グラフの描画)\n",
    "molw = 10000.0\n",
    "mols = np.arange(0.0, 1100.0, 1.0)\n",
    "fig = plt.figure(figsize=(18,4))\n",
    "ax = fig.add_subplot(1,1,1)\n",
    "ax.plot( cal_cs_mol( mols, molw ), cal_volume( mols, molw ), label = 'solution volume' )\n",
    "ax.set_xlabel( 'molality (mol[NaCl]/kg[H2O])', fontsize = 12 )\n",
    "ax.set_ylabel( 'volume(m3/m3)', fontsize = 12 )\n",
    "plt.legend()\n",
    "plt.grid()\n",
    "plt.show()"
   ]
  },
  {
   "cell_type": "markdown",
   "metadata": {},
   "source": [
    "#### 水の部分モル体積[m3/mol]  \n",
    "$$v_w = \\frac{Mw}{\\rho_{sw}} ( 1 + C_s( 1 + C_s ) \\frac{1}{\\rho_{sw}} \\frac{\\partial \\rho_{sw}}{\\partial C_s})$$  \n",
    "$v_s = \\frac{Ms}{\\rho_{sw}} ( 1 - ( 1 + C_s ) \\frac{1}{\\rho_{sw}} \\frac{\\partial \\rho_{sw}}{\\partial C_s})$  \n",
    "\n",
    "$v_w$：水の部分モル体積[vol/mol]  \n",
    "$v_s$：塩の部分モル体積[vol/mol]  "
   ]
  },
  {
   "cell_type": "code",
   "execution_count": 13,
   "metadata": {},
   "outputs": [
    {
     "data": {
      "text/plain": [
       "cal_vs (generic function with 1 method)"
      ]
     },
     "execution_count": 13,
     "metadata": {},
     "output_type": "execute_result"
    }
   ],
   "source": [
    "function cal_vw( mols, molw )\n",
    "    cs = cal_cs_kg( mols, molw )\n",
    "    rowsw = cal_rowsw( mols, molw )\n",
    "    drowsw= cal_drowsw( mols, molw )\n",
    "    return Mw / rowsw * ( 1.0 + cs * ( 1.0 + cs ) * ( drowsw / rowsw ) )\n",
    "end\n",
    "    \n",
    "function cal_vs( mols, molw )\n",
    "    cs = cal_cs_kg( mols, molw )\n",
    "    rowsw = cal_rowsw( mols, molw )\n",
    "    drowsw= cal_drowsw( mols, molw )\n",
    "    return Ms / rowsw * ( 1.0 - ( 1.0 + cs ) * ( drowsw / rowsw ) )\n",
    "end"
   ]
  },
  {
   "cell_type": "raw",
   "metadata": {},
   "source": [
    "# draw graph (グラフの描画)\n",
    "molw = 10000.0\n",
    "mols = np.arange(0.0, 1100.0, 1.0)\n",
    "fig = plt.figure(figsize=(6,4))\n",
    "ax = fig.add_subplot(1,1,1)\n",
    "ax.plot( cal_cs_mol( mols, molw ), cal_vw( mols, molw ), label = 'H2O' )\n",
    "ax.plot( cal_cs_mol( mols, molw ), cal_vs( mols, molw ), label = 'NaCl' )\n",
    "ax.set_xlabel( 'molality (mol[NaCl]/kg[H2O])', fontsize = 14 )\n",
    "ax.set_ylabel( 'partial molar volume(m3/mol)', fontsize = 14 )\n",
    "plt.grid()\n",
    "plt.legend()\n",
    "plt.show()"
   ]
  },
  {
   "cell_type": "markdown",
   "metadata": {},
   "source": [
    "#### 溶液の粘性係数[microPa s]  \n",
    "J. Kestin et. al. ; Tables of the dynamic and kinematic viscosity of aqueous NaCl solutions in the temperature range 20-150 C and the pressrure range 0.1-35MPa, Journal of Physical and Chemical Reference Data, vol.10, 1981,  \n",
    "$\\eta = 4204.0 Cs^2 + 1224.2 Cs + 1000.2 $  "
   ]
  },
  {
   "cell_type": "code",
   "execution_count": 1,
   "metadata": {},
   "outputs": [
    {
     "data": {
      "text/plain": [
       "cal_viscosity (generic function with 1 method)"
      ]
     },
     "execution_count": 1,
     "metadata": {},
     "output_type": "execute_result"
    }
   ],
   "source": [
    "function cal_viscosity( mols, molw )\n",
    "    return 4204.0 * ( cal_cs_kg( mols, molw ) ^ 2 ) + 1224.2 * cal_cs_kg( mols, molw ) + 1000.2\n",
    "end"
   ]
  },
  {
   "cell_type": "raw",
   "metadata": {},
   "source": [
    "# draw graph (グラフの描画)\n",
    "molw = 10000.0\n",
    "mols = np.arange(0.0, 1100.0, 1.0)\n",
    "fig = plt.figure(figsize=(10,4))\n",
    "ax = fig.add_subplot(1,1,1)\n",
    "ax.plot( cal_cs_mol( mols, molw ), cal_eta( mols, molw ), label = 'dynamic viscosity' )\n",
    "ax.set_xlabel( 'Molality (mol[NaCl]/kg[H2O])', fontsize = 12 )\n",
    "ax.set_ylabel( 'Dyanmic viscosity(microPa s)', fontsize = 12 )\n",
    "plt.grid()\n",
    "plt.legend()\n",
    "plt.show()"
   ]
  },
  {
   "cell_type": "markdown",
   "metadata": {},
   "source": [
    "#### 粘性の影響を考慮した比透水係数  \n",
    "$K_{ls} = \\frac{ \\rho_{sw} }{ \\rho_w } \\frac{ \\eta (0) }{ \\eta (C_s)} $"
   ]
  },
  {
   "cell_type": "code",
   "execution_count": 3,
   "metadata": {},
   "outputs": [
    {
     "data": {
      "text/plain": [
       "cal_kls (generic function with 1 method)"
      ]
     },
     "execution_count": 3,
     "metadata": {},
     "output_type": "execute_result"
    }
   ],
   "source": [
    "function cal_kls( mols, molw )\n",
    "     return ( cal_rowsw( mols, molw ) / cal_rowsw( 0.0, molw ) ) * ( cal_viscosity( 0.0, molw ) / cal_viscosity( mols, molw ) )\n",
    "end"
   ]
  },
  {
   "cell_type": "raw",
   "metadata": {},
   "source": [
    "# draw graph (グラフの描画)\n",
    "molw = 10000.0\n",
    "mols = np.arange(0.0, 1100.0, 1.0)\n",
    "fig = plt.figure(figsize=(10,4))\n",
    "ax = fig.add_subplot(1,1,1)\n",
    "ax.plot( cal_cs_mol( mols, molw ), cal_viscosity( mols, molw ), label = 'relative permeability' )\n",
    "ax.set_xlabel( 'molality (mol[NaCl]/kg[H2O])', fontsize = 12 )\n",
    "ax.set_ylabel( 'relative permeability(-)', fontsize = 12 )\n",
    "plt.grid()\n",
    "plt.legend()\n",
    "plt.show()"
   ]
  },
  {
   "cell_type": "markdown",
   "metadata": {},
   "source": [
    "#### $\\lambda^{'}_{\\mu l}　→　L_p $への変換  \n",
    "\n",
    "$\\lambda^{'}_{\\mu l} = \\frac{\\rho_w}{g} D_w $  \n",
    "\n",
    "$L_p = \\frac{ \\lambda^{'}_{\\mu l} }{\\rho^{2}_{sw}} $\n",
    "\n",
    "$L_p = \\frac{ D_w }{\\rho_{sw} g} $"
   ]
  },
  {
   "cell_type": "code",
   "execution_count": 16,
   "metadata": {},
   "outputs": [
    {
     "data": {
      "text/plain": [
       "cal_LPfromLDML (generic function with 1 method)"
      ]
     },
     "execution_count": 16,
     "metadata": {},
     "output_type": "execute_result"
    }
   ],
   "source": [
    "function cal_LPfromLDML( ldml, mols, molw )\n",
    "     return ldml / ( cal_rowsw( mols, molw ) * 1000.0 ) \n",
    "end"
   ]
  },
  {
   "cell_type": "markdown",
   "metadata": {},
   "source": [
    "### ポテンシャルの計算  \n",
    "\n",
    "$\\mu_{lo}$：浸透ポテンシャル[J/kg]  \n",
    "$\\mu_{lo} = R_v T log(xw)$\n",
    "\n",
    "$P_o$：浸透圧[Pa]  \n",
    "$P_{o} = R T C_{s(vol)}$\n"
   ]
  },
  {
   "cell_type": "code",
   "execution_count": 17,
   "metadata": {},
   "outputs": [
    {
     "data": {
      "text/plain": [
       "cal_OsmoticPressure (generic function with 1 method)"
      ]
     },
     "execution_count": 17,
     "metadata": {},
     "output_type": "execute_result"
    }
   ],
   "source": [
    "function cal_OsmoticPotential( temp, xw )\n",
    "    return Rv * temp * log( xw )\n",
    "end\n",
    "    \n",
    "function cal_OsmoticPressure( temp, cs )\n",
    "    return R * temp * cs * 2.0  #要注意（電解質の場合浸透圧は2倍になる？）\n",
    "end"
   ]
  },
  {
   "cell_type": "raw",
   "metadata": {},
   "source": [
    "# draw graph (グラフの描画)\n",
    "molw = 10000.0\n",
    "mols = np.arange(0.0, 1100.0, 1.0)\n",
    "fig = plt.figure(figsize=(18,4))\n",
    "ax = fig.add_subplot(1,1,1)\n",
    "ax.plot( cal_cs_mol( mols, molw ), cal_OsmoticPotential( 293.15, cal_xw(mols,molw) ), label = 'OsmoticPotential' )\n",
    "ax.set_xlabel( 'molality (mol[NaCl]/kg[H2O])', fontsize = 12 )\n",
    "ax.set_ylabel( 'chemical potential(J/kg)', fontsize = 12 )\n",
    "plt.legend()\n",
    "plt.show()"
   ]
  },
  {
   "cell_type": "raw",
   "metadata": {},
   "source": [
    "# draw graph (グラフの描画)\n",
    "molw = 10000.0\n",
    "mols = np.arange(0.0, 542.0, 1.0)\n",
    "fig = plt.figure(figsize=(10,4))\n",
    "ax = fig.add_subplot(1,1,1)\n",
    "ax.plot( cal_cs_mol( mols, molw ), cal_OsmoticPressure( 293.15, cal_cs_vol(mols,molw) / 1000.0 ), label = 'OsmoticPressure' )\n",
    "ax.set_xlabel( 'Molality (mol[NaCl]/kg[H2O])', fontsize = 12 )\n",
    "ax.set_ylabel( 'Osmotic Pressure(kPa)', fontsize = 12 )\n",
    "plt.grid()\n",
    "plt.legend()\n",
    "plt.show()"
   ]
  },
  {
   "cell_type": "markdown",
   "metadata": {},
   "source": [
    "#### 毛管圧ポテンシャルー毛管圧関係   \n",
    "\n",
    "毛管圧ポテンシャル[J/mol]と溶液の圧力との関係は以下の式で表される。  \n",
    "\n",
    "$\\mu = p \\bar v$  \n",
    "\n",
    "ここで熱水分同時移動方程式では毛管圧ポテンシャルは[J/kg]の単位であるので  \n",
    "\n",
    "$\\mu = M_w \\mu_{lo} $  \n",
    "\n",
    "したがって熱水分同時移動方程式系の毛管圧ポテンシャルに対する溶液の圧力は以下の関係式が成り立つ  \n",
    "\n",
    "$\\mu_{lo} = \\frac{p \\bar v_w}{M_w} $  \n",
    "\n",
    "$ p = \\frac{\\mu_{lo} M_w}{\\bar v_w}$"
   ]
  },
  {
   "cell_type": "code",
   "execution_count": 18,
   "metadata": {},
   "outputs": [
    {
     "data": {
      "text/plain": [
       "convert_miulc_to_plc (generic function with 1 method)"
      ]
     },
     "execution_count": 18,
     "metadata": {},
     "output_type": "execute_result"
    }
   ],
   "source": [
    "function convert_miulc_to_plc(miulc, vw)\n",
    "    return miulc * Mw / vw\n",
    "end"
   ]
  },
  {
   "cell_type": "markdown",
   "metadata": {},
   "source": [
    "### NaClの拡散係数  \n",
    "Yuan-Hui Li and Sandra Gregory: Diffusion of ions sea water and in deep-sea sediments(1974)より  \n",
    "\n",
    "$F_i = -D_i \\frac{dC_j}{dx}$\n",
    "\n",
    "$F_i$：流量[ mol / m2 sec ]  \n",
    "$D_i$：拡散係数[ m^2 / sec ]  \n",
    "$C_j$：モル量[ mol / m3 ]  \n",
    "$dx$：距離[ m ]\n",
    "\n",
    "18℃のとき  \n",
    "Na+ ：　11.3[10^-6 cm2/sec]  \n",
    "dCl- ：　17.1[10^-6 cm2/sec]  "
   ]
  },
  {
   "cell_type": "code",
   "execution_count": 19,
   "metadata": {},
   "outputs": [
    {
     "data": {
      "text/plain": [
       "cal_de (generic function with 1 method)"
      ]
     },
     "execution_count": 19,
     "metadata": {},
     "output_type": "execute_result"
    }
   ],
   "source": [
    "function cal_de()\n",
    "    return 17.1 * 10 ^(-6) / ( 100.0 ^ 2.0 ) \n",
    "end"
   ]
  },
  {
   "cell_type": "markdown",
   "metadata": {},
   "source": [
    "#### $\\omega RT\\Delta c_s$との関係性  \n",
    "$D_i = \\omega R T$"
   ]
  },
  {
   "cell_type": "code",
   "execution_count": 20,
   "metadata": {},
   "outputs": [
    {
     "data": {
      "text/plain": [
       "cal_omega (generic function with 1 method)"
      ]
     },
     "execution_count": 20,
     "metadata": {},
     "output_type": "execute_result"
    }
   ],
   "source": [
    "function cal_omega( temp )\n",
    "    return cal_de() / ( R * temp )\n",
    "end"
   ]
  },
  {
   "cell_type": "code",
   "execution_count": null,
   "metadata": {},
   "outputs": [],
   "source": []
  }
 ],
 "metadata": {
  "kernelspec": {
   "display_name": "Julia 1.6.1",
   "language": "julia",
   "name": "julia-1.6"
  },
  "language_info": {
   "file_extension": ".jl",
   "mimetype": "application/julia",
   "name": "julia",
   "version": "1.6.1"
  }
 },
 "nbformat": 4,
 "nbformat_minor": 4
}
