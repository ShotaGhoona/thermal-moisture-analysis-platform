{
 "cells": [
  {
   "cell_type": "code",
   "execution_count": 1,
   "metadata": {},
   "outputs": [
    {
     "data": {
      "text/plain": [
       "air_construction (generic function with 1 method)"
      ]
     },
     "execution_count": 1,
     "metadata": {},
     "output_type": "execute_result"
    }
   ],
   "source": [
    "include(\"cell.jl\")\n",
    "include(\"air.jl\")\n",
    "#include(\"wall.jl\")"
   ]
  },
  {
   "cell_type": "markdown",
   "metadata": {},
   "source": [
    "\n",
    "# 1. Heat and Mass Transferモジュール\n",
    "\n",
    "【概要】  \n",
    "多孔質材料中における熱水分同時移動計算は、\n",
    "- 熱水分移動の支配方程式\n",
    "- 材料の熱水分状態量と物性値の関係\n",
    "- 差分法による数値計算\n",
    "- Lewis関係など空気（流体）の移動力学\n",
    "など多様な要素から構成される。  \n",
    "\n",
    "本モジュールは中でも前進型有限差分法による熱水分移動を記述するためのモジュールである。 "
   ]
  },
  {
   "cell_type": "markdown",
   "metadata": {
    "jp-MarkdownHeadingCollapsed": true,
    "tags": []
   },
   "source": [
    "\n",
    "- $q_s$ 熱流（固体熱伝導）[J/m2s]\n",
    "- $j_v$ 水蒸気流 [kg/m2s]\n",
    "- $j_l$ 液水流 [kg/m2s]\n",
    "  "
   ]
  },
  {
   "cell_type": "markdown",
   "metadata": {},
   "source": [
    "\n",
    "## Appendix.） 事前準備：物性値の平均化方法   \n",
    "差分法では流量を計算するにあたり、2質点間の物性値が必要となるが、2質点間の物性値は通常各質点における物性値を平均化することで得られる。  \n",
    "以下では物性値の平均化方法について以下の2通りを示す。"
   ]
  },
  {
   "cell_type": "markdown",
   "metadata": {},
   "source": [
    "### A.1 調和平均  \n",
    "\n",
    "2質点間の物性値が大きく異なる際に採用される平均化方法である。  \n",
    "2質点間の流れが定常と仮定すると、その間の物性値は調和平均を用いて以下のように与えられる。  \n",
    "\n",
    "熱伝導抵抗：  $R[m^2K/W] =\\frac{ dx_{l+1} } { \\lambda_{l+1} } + \\frac{ dx_{l} }{ \\lambda_{l} }  $  \n",
    "\n",
    "これは熱抵抗と同様の考え方であり、各質点の物性値の抵抗値の和として表すことができる。  \n",
    "\n",
    "同様に水分に関しても抵抗値の和として計算することで物性値を平均化することができる。  \n",
    "ここで熱伝導率・水分伝導率を合わせて$\\lambda$と表記すると、平均の伝導率は以下のように表すことができる。  \n",
    "\n",
    "平均の伝導率：  $\\lambda =\\frac{ dx_{l+1} + dx_{l} }{\\frac{ dx_{l+1} } { \\lambda_{l+1} } + \\frac{ dx_{l} }{ \\lambda_{l} } } $  \n"
   ]
  },
  {
   "cell_type": "code",
   "execution_count": 2,
   "metadata": {},
   "outputs": [
    {
     "data": {
      "text/plain": [
       "sum_resistance (generic function with 1 method)"
      ]
     },
     "execution_count": 2,
     "metadata": {},
     "output_type": "execute_result"
    }
   ],
   "source": [
    "# 抵抗値の平均化\n",
    "function sum_resistance( ;val_mns::Float64, val_pls::Float64, len_mns::Float64, len_pls::Float64 );\n",
    "    #if val_mns <= 0 or val_pls <= 0:\n",
    "    #    lam = 0.0 \n",
    "    #else:\n",
    "    return (len_mns + len_pls) / ( len_mns / val_mns + len_pls / val_pls )\n",
    "end"
   ]
  },
  {
   "cell_type": "markdown",
   "metadata": {},
   "source": [
    "### A.2 加重平均あるいは算術平均\n",
    "一方でセルの長さに応じた物性値の加重平均を取るという考え方もある。  \n",
    "この平均化の仕方は一方の伝導率が他方に比べあまりにも値が小さく、現実にそぐわない場合などに用いられる。\n",
    "\n",
    "物性値の加重平均：　　$\\lambda_{ave}=\\frac{\\lambda_{l+1} dx_{l+1} + \\lambda_{l} dx_{l} }{ dx_{l+1} + dx_{l} }$  \n"
   ]
  },
  {
   "cell_type": "code",
   "execution_count": 3,
   "metadata": {},
   "outputs": [
    {
     "data": {
      "text/plain": [
       "cal_transmittance (generic function with 1 method)"
      ]
     },
     "execution_count": 3,
     "metadata": {},
     "output_type": "execute_result"
    }
   ],
   "source": [
    "# 加重平均による平均化\n",
    "function cal_mean_average( ;val_mns::Float64, val_pls::Float64, len_mns::Float64, len_pls::Float64 );\n",
    "    return ( val_mns * len_mns + val_pls * len_pls ) / ( len_mns + len_pls )\n",
    "end\n",
    "\n",
    "# （境界面）貫流値として足し合わせる場合\n",
    "function cal_transmittance( ;alpha::Float64, lam::Float64, dx2::Float64 )\n",
    "    return ( 1.0 ) / ( 1.0 / alpha + dx / ( 2.0 * lam ) )\n",
    "end"
   ]
  },
  {
   "cell_type": "markdown",
   "metadata": {},
   "source": [
    "\n",
    "# 2. 熱流 \n"
   ]
  },
  {
   "cell_type": "markdown",
   "metadata": {},
   "source": [
    "## 2.1 熱伝導（フーリエの法則）  \n",
    "### 2.1.1 基礎方程式\n",
    "定義：$\\dot q = -\\lambda\\nabla・T$  \n",
    "$\\dot q$：単位時間当たりの熱流量の密度[W/m2]  \n",
    "$\\lambda$：熱伝導率[W/mK]  \n",
    "$T$：絶対温度[K]  "
   ]
  },
  {
   "cell_type": "code",
   "execution_count": 4,
   "metadata": {},
   "outputs": [
    {
     "data": {
      "text/plain": [
       "cal_heat_conduction (generic function with 1 method)"
      ]
     },
     "execution_count": 4,
     "metadata": {},
     "output_type": "execute_result"
    }
   ],
   "source": [
    "# $$$$$$ 熱 $$$$$$\n",
    "# 熱伝導：基礎式\n",
    "cal_heat_conduction( ;lam::Float64, dtemp::Float64, dx2::Float64 ) = - lam * dtemp / dx2"
   ]
  },
  {
   "cell_type": "markdown",
   "metadata": {},
   "source": [
    "### 2.1.2 差分化方程式\n",
    "#### その１）調和平均による計算  \n",
    "定義：$\\dot q = -\\lambda_{ave.} \\frac{T_{l+1}-T_{l}} {dx_{l+1}+dx_{l}}$  \n",
    "$\\lambda_{ave.}$：平均の熱伝導率  \n",
    "$l, l+1$：ある点のセル・隣接する点のセル  \n",
    "$dx$：セルの質点からセル境界までの距離"
   ]
  },
  {
   "cell_type": "code",
   "execution_count": 5,
   "metadata": {},
   "outputs": [
    {
     "data": {
      "text/plain": [
       "cal_heat_conduction_diff (generic function with 1 method)"
      ]
     },
     "execution_count": 5,
     "metadata": {},
     "output_type": "execute_result"
    }
   ],
   "source": [
    "# 差分方程式（質点の位置に注意）\n",
    "function cal_heat_conduction_diff( ;lam_mns::Float64, lam_pls::Float64, temp_mns::Float64, temp_pls::Float64, dx2_mns::Float64, dx2_pls::Float64 )\n",
    "    lam = sum_resistance( val_mns = lam_mns, val_pls = lam_pls, len_mns = dx2_mns, len_pls = dx2_pls )\n",
    "    return cal_heat_conduction( lam = lam, dtemp = temp_pls - temp_mns, dx2 = dx2_mns + dx2_pls )\n",
    "end"
   ]
  },
  {
   "cell_type": "markdown",
   "metadata": {
    "tags": []
   },
   "source": [
    "#### その２）加重平均による計算  "
   ]
  },
  {
   "cell_type": "code",
   "execution_count": 6,
   "metadata": {},
   "outputs": [
    {
     "data": {
      "text/plain": [
       "cal_heat_conduction_diff_meanAve (generic function with 1 method)"
      ]
     },
     "execution_count": 6,
     "metadata": {},
     "output_type": "execute_result"
    }
   ],
   "source": [
    "# 加重平均による計算方法\n",
    "function cal_heat_conduction_diff_meanAve( ;lam_mns::Float64, lam_pls::Float64, temp_mns::Float64, temp_pls::Float64, dx2_mns::Float64, dx2_pls::Float64 )\n",
    "    lam = cal_mean_average( val_mns = lam_mns, val_pls = lam_pls, len_mns = dx2_mns, len_pls = dx2_pls )\n",
    "    return cal_heat_conduction( lam = lam, dtemp = temp_pls - temp_mns, dx2 = dx2_mns + dx2_pls )\n",
    "end"
   ]
  },
  {
   "cell_type": "markdown",
   "metadata": {
    "tags": []
   },
   "source": [
    "### 2.1.3 構造体cellを用いた式\n",
    "        \n",
    "引数（キーワード引数）：  \n",
    "- cell_mns: mns側に来るCell構造体を入力\n",
    "- cell_pls: pls側に来るCell構造体を入力\n",
    "\n",
    "戻り値：\n",
    "- 実数Float64（熱流量）\n",
    "\n",
    "※調和平均を採用"
   ]
  },
  {
   "cell_type": "code",
   "execution_count": 7,
   "metadata": {},
   "outputs": [
    {
     "data": {
      "text/plain": [
       "cal_q (generic function with 2 methods)"
      ]
     },
     "execution_count": 7,
     "metadata": {},
     "output_type": "execute_result"
    }
   ],
   "source": [
    "function cal_q( cell_mns::Cell, cell_pls::Cell )\n",
    "    return cal_heat_conduction_diff( lam_mns = lam(cell_mns), lam_pls= lam(cell_pls), \n",
    "        temp_mns = temp(cell_mns), temp_pls = temp(cell_pls), \n",
    "        dx2_mns = dx2(cell_mns), dx2_pls = dx2(cell_pls) )\n",
    "end\n",
    "cal_q(;cell_mns, cell_pls ) = cal_q( cell_mns, cell_pls )"
   ]
  },
  {
   "cell_type": "markdown",
   "metadata": {},
   "source": [
    "※cell間の物性値の計算方法として加重平均を採用する場合はこちら"
   ]
  },
  {
   "cell_type": "code",
   "execution_count": 8,
   "metadata": {},
   "outputs": [
    {
     "data": {
      "text/plain": [
       "cal_q_meanAve (generic function with 2 methods)"
      ]
     },
     "execution_count": 8,
     "metadata": {},
     "output_type": "execute_result"
    }
   ],
   "source": [
    "function cal_q_meanAve( cell_mns::Cell, cell_pls::Cell )\n",
    "    return cal_heat_conduction_diff_meanAve( lam_mns = lam(cell_mns), lam_pls= lam(cell_pls), \n",
    "        temp_mns = temp(cell_mns), temp_pls = temp(cell_pls), \n",
    "        dx2_mns = dx2(cell_mns), dx2_pls = dx2(cell_pls) )\n",
    "end\n",
    "cal_q_meanAve(; cell_mns, cell_pls ) = cal_q_meanAve(cell_mns, cell_pls)"
   ]
  },
  {
   "cell_type": "markdown",
   "metadata": {},
   "source": [
    "## 2.2 熱伝達・熱貫流  \n",
    "### 2.2.1 基礎方程式\n",
    "\n",
    "定義：$\\dot q = \\alpha(T_{air} - T_{wall})$  \n",
    "空気に接する壁表面には空気の熱伝達層が存在すると考えた場合、もしくは質点間の熱貫流率として計算した場合の熱流。  \n",
    "ここでは便宜上、空気と壁表面の熱伝達を想定し、空気から壁表面への熱流を正とした。\n",
    "\n",
    "$\\dot q$：単位時間当たりの熱流量の密度[W/m2]  ]\n",
    "$\\alpha$：熱伝達率・熱貫流率[W/m2K]  \n",
    "$T_{air}$：空気の絶対温度[K]  \n",
    "$T_{wall}$：壁表面の絶対温度[K]  "
   ]
  },
  {
   "cell_type": "code",
   "execution_count": 9,
   "metadata": {},
   "outputs": [
    {
     "data": {
      "text/plain": [
       "cal_heat_transfer (generic function with 1 method)"
      ]
     },
     "execution_count": 9,
     "metadata": {},
     "output_type": "execute_result"
    }
   ],
   "source": [
    "######################\n",
    "# 熱伝達：基礎式\n",
    "cal_heat_transfer( ;alpha::Float64, dtemp::Float64 ) = - alpha *  dtemp"
   ]
  },
  {
   "cell_type": "markdown",
   "metadata": {},
   "source": [
    "### 2.2.2 差分化方程式"
   ]
  },
  {
   "cell_type": "code",
   "execution_count": 10,
   "metadata": {},
   "outputs": [
    {
     "data": {
      "text/plain": [
       "cal_heat_transfer_diff (generic function with 1 method)"
      ]
     },
     "execution_count": 10,
     "metadata": {},
     "output_type": "execute_result"
    }
   ],
   "source": [
    "#cal_heat_transfer( ;alpha::Float64, temp_mns::Float64, temp_pls::Float64 ) = cal_heat_transfer( alpha = alpha, dtemp = temp_pls - temp_mns )\n",
    "cal_heat_transfer_diff( ;alpha::Float64, temp_mns::Float64, temp_pls::Float64 ) = cal_heat_transfer( alpha = alpha, dtemp = temp_pls - temp_mns )"
   ]
  },
  {
   "cell_type": "markdown",
   "metadata": {},
   "source": [
    "あるいは、質点の位置に応じて下記のような記述方法が出来る。"
   ]
  },
  {
   "cell_type": "code",
   "execution_count": 11,
   "metadata": {},
   "outputs": [
    {
     "data": {
      "text/plain": [
       "cal_heat_transfer_mnswall (generic function with 1 method)"
      ]
     },
     "execution_count": 11,
     "metadata": {},
     "output_type": "execute_result"
    }
   ],
   "source": [
    "# 質点が材料内部にある場合（壁は右（pls）側）\n",
    "function cal_heat_transfer_plswall( ;alpha_mns::Float64, lam_pls::Float64, temp_mns::Float64, temp_pls::Float64, dx2_pls::Float64 );\n",
    "    alpha = cal_transmittance( alpha = alpha_mns, lam = lam_pls, dx2 = dx2_pls )\n",
    "    return cal_heat_transfer( alpha = alpha, dtemp = temp_pls - temp_mns )\n",
    "end\n",
    "\n",
    "# 質点が材料内部にある場合（壁は左（mns）側）\n",
    "function cal_heat_transfer_mnswall( ;alpha_pls::Float64, lam_mns::Float64, temp_mns::Float64, temp_pls::Float64, dx2_mns::Float64 );\n",
    "    alpha = cal_transmittance( alpha = alpha_pls, lam = lam_mns, dx2 = dx2_mns )\n",
    "    return cal_heat_transfer( alpha = alpha, dtemp = temp_pls - temp_mns )\n",
    "end"
   ]
  },
  {
   "cell_type": "markdown",
   "metadata": {
    "tags": []
   },
   "source": [
    "### 2.2.3 構造体cellを用いた式\n",
    "        \n",
    "引数（キーワード引数）：  \n",
    "- cell_mns: mns側に来るCellあるいはAir構造体を入力\n",
    "- cell_pls: pls側に来るCellあるいはAir構造体を入力\n",
    "\n",
    "なお、境界面における熱伝達は空気がpls側かmns側のどちらに来るかで計算式が変化する。  \n",
    "そのためここでは多重ディスパッチを用いることでこの問題を解消した。  \n",
    "（以下はmns側が空気の場合）\n",
    "\n",
    "戻り値：\n",
    "- 実数Float64（熱流量）\n",
    "\n",
    "※調和平均を採用"
   ]
  },
  {
   "cell_type": "code",
   "execution_count": 12,
   "metadata": {},
   "outputs": [
    {
     "data": {
      "text/plain": [
       "cal_q (generic function with 3 methods)"
      ]
     },
     "execution_count": 12,
     "metadata": {},
     "output_type": "execute_result"
    }
   ],
   "source": [
    "function cal_q( cell_mns::Air, cell_pls::Cell )\n",
    "    return cal_heat_transfer_diff( \n",
    "        alpha    = alpha(cell_mns), \n",
    "        temp_mns = temp(cell_mns), \n",
    "        temp_pls = temp(cell_pls) )\n",
    "end"
   ]
  },
  {
   "cell_type": "markdown",
   "metadata": {},
   "source": [
    "（pls側が空気の場合）  \n",
    "関数名は同じであるがAir_based_RH型で定義された構造体がpls側にあるかmns側にあるかで利用する式が変化する。"
   ]
  },
  {
   "cell_type": "code",
   "execution_count": 13,
   "metadata": {},
   "outputs": [
    {
     "data": {
      "text/plain": [
       "cal_q (generic function with 4 methods)"
      ]
     },
     "execution_count": 13,
     "metadata": {},
     "output_type": "execute_result"
    }
   ],
   "source": [
    "function cal_q( cell_mns::Cell, cell_pls::Air )\n",
    "    return cal_heat_transfer_diff( \n",
    "        alpha    = alpha(cell_pls), \n",
    "        temp_mns = temp(cell_mns), \n",
    "        temp_pls = temp(cell_pls) )\n",
    "end"
   ]
  },
  {
   "cell_type": "markdown",
   "metadata": {},
   "source": [
    "### ※cal_qについて  \n",
    "cal_qは複数の関数が存在するが、多重ディスパッチで定義されるため、mnsとplsの引数の型に応じて適宜使用する関数が変化する。  \n",
    "従って、同一の名称として定義しても問題ない。"
   ]
  },
  {
   "cell_type": "markdown",
   "metadata": {},
   "source": [
    "\n",
    "# 3. 水蒸気移動  \n"
   ]
  },
  {
   "cell_type": "markdown",
   "metadata": {},
   "source": [
    "## 3.1 水蒸気流（水蒸気圧勾配・固体内）  \n",
    "### 3.1.1 基礎方程式\n",
    "定義：$J_v = -\\lambda^{'}_{p}\\nabla・P_v$  \n",
    "$J_v$：気相水分流量[kg/m2s]  \n",
    "$\\lambda^{'}_{p}$：水蒸気圧勾配に関する気相水分伝導率[kg/msPa]  \n",
    "$P_v$：水蒸気圧[Pa]  "
   ]
  },
  {
   "cell_type": "code",
   "execution_count": 14,
   "metadata": {},
   "outputs": [
    {
     "data": {
      "text/plain": [
       "cal_vapour_permeance_pressure (generic function with 1 method)"
      ]
     },
     "execution_count": 14,
     "metadata": {},
     "output_type": "execute_result"
    }
   ],
   "source": [
    "##############################################\n",
    "# $$$$$$ 湿気（水蒸気） $$$$$$\n",
    "# 湿気伝導（圧力差流れ）：基礎式\n",
    "cal_vapour_permeance_pressure( ;dp::Float64, dpv::Float64, dx2::Float64 ) = - dp * dpv / dx2"
   ]
  },
  {
   "cell_type": "markdown",
   "metadata": {},
   "source": [
    "### 3.1.2 差分化方程式"
   ]
  },
  {
   "cell_type": "code",
   "execution_count": 15,
   "metadata": {},
   "outputs": [
    {
     "data": {
      "text/plain": [
       "cal_vapour_permeance_pressure_diff (generic function with 1 method)"
      ]
     },
     "execution_count": 15,
     "metadata": {},
     "output_type": "execute_result"
    }
   ],
   "source": [
    "# 差分方程式\n",
    "function cal_vapour_permeance_pressure_diff( ;dp_mns::Float64, dp_pls::Float64, pv_mns::Float64, pv_pls::Float64, dx2_mns::Float64, dx2_pls::Float64 )\n",
    "    dp = sum_resistance( val_mns = dp_mns, val_pls = dp_pls, len_mns = dx2_mns, len_pls = dx2_pls )\n",
    "    return cal_vapour_permeance_pressure( dp = dp, dpv = pv_pls - pv_mns, dx2 = dx2_mns + dx2_pls )\n",
    "end"
   ]
  },
  {
   "cell_type": "markdown",
   "metadata": {},
   "source": [
    "## 3.2水蒸気流（水分化学ポテンシャル・温度勾配・固体内）  \n",
    "### 3.2.1 基礎方程式\n",
    "定義：$J_v = -\\lambda ^{'}_{\\mu g}\\nabla \\mu - \\lambda ^{'}_{T g}\\nabla T$  \n",
    "$J_v$：気相水分流量[kg/m2s]  \n",
    "$\\mu$：水分化学ポテンシャル[J/kg]  \n",
    "$T$：絶対温度[K]  \n",
    "$\\lambda ^{'}_{\\mu g}$：水分化学ポテンシャル勾配に対する気相水分伝導率[kg/ms(J/kg)]  \n",
    "$\\lambda ^{'}_{T g}$：温度勾配に対する気相水分伝導率[kg/ms(K)]  "
   ]
  },
  {
   "cell_type": "code",
   "execution_count": 16,
   "metadata": {},
   "outputs": [
    {
     "data": {
      "text/plain": [
       "cal_vapour_permeance_potential (generic function with 1 method)"
      ]
     },
     "execution_count": 16,
     "metadata": {},
     "output_type": "execute_result"
    }
   ],
   "source": [
    "# 湿気伝導（水分化学ポテンシャル流れ）\n",
    "cal_vapour_permeance_potential( ;ldmg::Float64, ldtg::Float64, dmiu::Float64, dtemp::Float64, dx2::Float64 ) = - ( ldmg * dmiu / dx2 + ldtg * dtemp / dx2 )"
   ]
  },
  {
   "cell_type": "markdown",
   "metadata": {},
   "source": [
    "### 3.2.2 差分化方程式"
   ]
  },
  {
   "cell_type": "code",
   "execution_count": 17,
   "metadata": {},
   "outputs": [
    {
     "data": {
      "text/plain": [
       "cal_vapour_permeance_potential_diff_meanAve (generic function with 1 method)"
      ]
     },
     "execution_count": 17,
     "metadata": {},
     "output_type": "execute_result"
    }
   ],
   "source": [
    "# 差分方程式\n",
    "function cal_vapour_permeance_potential_diff( ;ldmg_mns::Float64, ldmg_pls::Float64, ldtg_mns::Float64, ldtg_pls::Float64, miu_mns::Float64, miu_pls::Float64, temp_mns::Float64, temp_pls::Float64, dx2_mns::Float64, dx2_pls::Float64 )\n",
    "    ldmg = sum_resistance( val_mns = ldmg_mns, val_pls = ldmg_pls, len_mns = dx2_mns, len_pls = dx2_pls )\n",
    "    ldtg = sum_resistance( val_mns = ldtg_mns, val_pls = ldtg_pls, len_mns = dx2_mns, len_pls = dx2_pls )\n",
    "    return cal_vapour_permeance_potential( ldmg = ldmg, ldtg = ldtg, dmiu = miu_pls - miu_mns, dtemp = temp_pls - temp_mns, dx2 = dx2 = dx2_mns + dx2_pls )\n",
    "end\n",
    "\n",
    "# 加重平均による計算方法\n",
    "function cal_vapour_permeance_potential_diff_meanAve( ;ldmg_mns::Float64, ldmg_pls::Float64, ldtg_mns::Float64, ldtg_pls::Float64, miu_mns::Float64, miu_pls::Float64, temp_mns::Float64, temp_pls::Float64, dx2_mns::Float64, dx2_pls::Float64 )\n",
    "    ldmg = cal_mean_average( val_mns = ldmg_mns, val_pls = ldmg_pls, len_mns = dx2_mns, len_pls = dx2_pls )\n",
    "    ldtg = cal_mean_average( val_mns = ldtg_mns, val_pls = ldtg_pls, len_mns = dx2_mns, len_pls = dx2_pls )\n",
    "    return cal_vapour_permeance_potential( ldmg = ldmg, ldtg = ldtg, dmiu = miu_pls - miu_mns, dtemp = temp_pls - temp_mns, dx2 = dx2 = dx2_mns + dx2_pls )\n",
    "end"
   ]
  },
  {
   "cell_type": "markdown",
   "metadata": {},
   "source": [
    "### 3.2.3 構造体cellを用いた式\n",
    "        \n",
    "引数（キーワード引数）：  \n",
    "- cell_mns: mns側に来るCell構造体を入力\n",
    "- cell_pls: pls側に来るCell構造体を入力\n",
    "\n",
    "戻り値：\n",
    "- 実数Float64（水蒸気流量）"
   ]
  },
  {
   "cell_type": "code",
   "execution_count": 18,
   "metadata": {},
   "outputs": [
    {
     "data": {
      "text/plain": [
       "cal_jv (generic function with 2 methods)"
      ]
     },
     "execution_count": 18,
     "metadata": {},
     "output_type": "execute_result"
    }
   ],
   "source": [
    "function cal_jv( cell_mns::Cell, cell_pls::Cell )\n",
    "    cal_vapour_permeance_potential_diff(\n",
    "        ldmg_mns = ldmg(cell_mns), ldmg_pls = ldmg(cell_pls), \n",
    "        ldtg_mns = ldtg(cell_mns), ldtg_pls = ldtg(cell_pls), \n",
    "        miu_mns  = miu(cell_mns),  miu_pls  = miu(cell_pls), \n",
    "        temp_mns = temp(cell_mns), temp_pls = temp(cell_pls), \n",
    "        dx2_mns  = dx2(cell_mns),  dx2_pls  = dx2(cell_pls) )\n",
    "end\n",
    "cal_jv(; cell_mns, cell_pls ) = cal_jv(cell_mns, cell_pls)"
   ]
  },
  {
   "cell_type": "markdown",
   "metadata": {},
   "source": [
    "※cell間の物性値の計算方法として加重平均を採用する場合はこちら"
   ]
  },
  {
   "cell_type": "code",
   "execution_count": 19,
   "metadata": {},
   "outputs": [
    {
     "data": {
      "text/plain": [
       "cal_jv_meanAve (generic function with 2 methods)"
      ]
     },
     "execution_count": 19,
     "metadata": {},
     "output_type": "execute_result"
    }
   ],
   "source": [
    "function cal_jv_meanAve( cell_mns::Cell, cell_pls::Cell )\n",
    "    cal_vapour_permeance_potential_diff_meanAve( \n",
    "        ldmg_mns = ldmg(cell_mns), ldmg_pls = ldmg(cell_pls), \n",
    "        ldtg_mns = ldtg(cell_mns), ldtg_pls = ldtg(cell_pls), \n",
    "        miu_mns  = miu(cell_mns),  miu_pls  = miu(cell_pls), \n",
    "        temp_mns = temp(cell_mns), temp_pls = temp(cell_pls), \n",
    "        dx2_mns  = dx2(cell_mns),  dx2_pls  = dx2(cell_pls) )\n",
    "end\n",
    "cal_jv_meanAve(; cell_mns, cell_pls ) = cal_jv_meanAve( cell_mns, cell_pls)"
   ]
  },
  {
   "cell_type": "markdown",
   "metadata": {},
   "source": [
    "## 3.3 湿気伝達・湿気貫流  \n",
    "### 3.3.1 基礎方程式\n",
    "定義：$J_v = \\alpha^{'}_{m}(P_{v_{air}} - P_{v_{wall}})$  \n",
    "空気に接する壁表面には空気の湿気伝達層が存在すると考えた場合の水分流（水蒸気流）、もしくは質点間の湿気貫流率として計算した場合の水分流。  \n",
    "ここでは便宜上、空気と壁表面の水分伝達を想定し、空気から壁表面への水分流を正とした。\n",
    "\n",
    "$J_v$：単位時間当たりの水分流量[kg/m2s]  \n",
    "$\\alpha^{'}_{m}$：湿気伝達率[kg/m2s(Pa)]  \n",
    "$P_{v_{air}}$：空気の水蒸気圧[Pa]  \n",
    "$P_{v_{wall}}$：壁表面の水蒸気圧[Pa]  "
   ]
  },
  {
   "cell_type": "code",
   "execution_count": 20,
   "metadata": {},
   "outputs": [
    {
     "data": {
      "text/plain": [
       "cal_vapour_transfer_pressure (generic function with 1 method)"
      ]
     },
     "execution_count": 20,
     "metadata": {},
     "output_type": "execute_result"
    }
   ],
   "source": [
    "######################\n",
    "# 湿気伝達（圧力差流れ）\n",
    "cal_vapour_transfer_pressure( ;aldm::Float64, dpv::Float64 ) = - aldm * dpv"
   ]
  },
  {
   "cell_type": "markdown",
   "metadata": {},
   "source": [
    "### 3.3.2 差分化方程式"
   ]
  },
  {
   "cell_type": "code",
   "execution_count": 21,
   "metadata": {},
   "outputs": [
    {
     "data": {
      "text/plain": [
       "cal_vapour_transfer_pressure_diff (generic function with 1 method)"
      ]
     },
     "execution_count": 21,
     "metadata": {},
     "output_type": "execute_result"
    }
   ],
   "source": [
    "function cal_vapour_transfer_pressure_diff( ;aldm::Float64, pv_mns::Float64, pv_pls::Float64 );\n",
    "    return cal_vapour_transfer_pressure( aldm = aldm, dpv = pv_pls - pv_mns )\n",
    "end"
   ]
  },
  {
   "cell_type": "markdown",
   "metadata": {},
   "source": [
    "あるいは、質点の位置に応じて下記のような記述方法が出来る。"
   ]
  },
  {
   "cell_type": "code",
   "execution_count": 22,
   "metadata": {},
   "outputs": [
    {
     "data": {
      "text/plain": [
       "cal_vapour_transfer_pressure_mnswall (generic function with 1 method)"
      ]
     },
     "execution_count": 22,
     "metadata": {},
     "output_type": "execute_result"
    }
   ],
   "source": [
    "# 質点が材料内部にある場合（壁は右（pls）側）\n",
    "function cal_vapour_transfer_pressure_plswall( ;aldm_mns::Float64, dp_pls::Float64, pv_mns::Float64, pv_pls::Float64, dx2_pls::Float64 );\n",
    "    aldm = cal_transmittance( alpha = aldm_mns, lam = dp_pls, dx2 = dx2_pls )\n",
    "    return cal_vapour_transfer_pressure( aldm = aldm, dpv = pv_pls - pv_mns )\n",
    "end\n",
    "\n",
    "# 質点が材料内部にある場合（壁は左（mns）側）\n",
    "function cal_vapour_transfer_pressure_mnswall( ;aldm_pls::Float64, dp_mns::Float64, pv_mns::Float64, pv_pls::Float64, dx2_mns::Float64 );\n",
    "    aldm = cal_transmittance( alpha = aldm_pls, lam = dp_mns, dx2 = dx2_mns )\n",
    "    return cal_vapour_transfer_pressure( aldm = aldm, dpv = pv_pls - pv_mns )\n",
    "end"
   ]
  },
  {
   "cell_type": "markdown",
   "metadata": {},
   "source": [
    "### 3.3.3 構造体cellを用いた式 \n",
    "        \n",
    "引数（キーワード引数）：  \n",
    "- cell_mns: mns側に来るCellあるいはAir構造体を入力\n",
    "- cell_pls: pls側に来るCellあるいはAir構造体を入力\n",
    "\n",
    "戻り値：\n",
    "- 実数Float64（水蒸気流量）"
   ]
  },
  {
   "cell_type": "markdown",
   "metadata": {},
   "source": [
    "mns側が空気"
   ]
  },
  {
   "cell_type": "code",
   "execution_count": 23,
   "metadata": {},
   "outputs": [
    {
     "data": {
      "text/plain": [
       "cal_jv (generic function with 3 methods)"
      ]
     },
     "execution_count": 23,
     "metadata": {},
     "output_type": "execute_result"
    }
   ],
   "source": [
    "function cal_jv( cell_mns::Air, cell_pls::Cell )\n",
    "    cal_vapour_transfer_pressure_diff( aldm = aldm(cell_mns), \n",
    "        pv_mns = pv(cell_mns), pv_pls = pv(cell_pls) )\n",
    "end"
   ]
  },
  {
   "cell_type": "markdown",
   "metadata": {},
   "source": [
    "pls側が空気"
   ]
  },
  {
   "cell_type": "code",
   "execution_count": 24,
   "metadata": {},
   "outputs": [
    {
     "data": {
      "text/plain": [
       "cal_jv (generic function with 4 methods)"
      ]
     },
     "execution_count": 24,
     "metadata": {},
     "output_type": "execute_result"
    }
   ],
   "source": [
    "function cal_jv( cell_mns::Cell, cell_pls::Air )\n",
    "    cal_vapour_transfer_pressure_diff( aldm = aldm(cell_pls), \n",
    "        pv_mns = pv(cell_mns), pv_pls = pv(cell_pls) )\n",
    "end"
   ]
  },
  {
   "cell_type": "markdown",
   "metadata": {},
   "source": [
    "### Appendix.3) 水分化学ポテンシャルを用いた湿気伝達の式  \n",
    "\n",
    "※気液界面ではあまり使われない。  \n",
    "（微分の関係で誤差が大きくなるため。）"
   ]
  },
  {
   "cell_type": "code",
   "execution_count": 25,
   "metadata": {},
   "outputs": [
    {
     "data": {
      "text/plain": [
       "cal_vapour_transfer_potential_mnswall (generic function with 1 method)"
      ]
     },
     "execution_count": 25,
     "metadata": {},
     "output_type": "execute_result"
    }
   ],
   "source": [
    "######################\n",
    "# 湿気伝達（化学ポテンシャル差流れ）\n",
    "cal_vapour_transfer_potential( ;aldmg::Float64, aldtg::Float64, dmiu::Float64, dtemp::Float64 ) = - aldmg * dmiu - aldtg * dtemp\n",
    "\n",
    "function cal_vapour_transfer_potential_diff( ;aldmg::Float64, aldtg::Float64, miu_mns::Float64, miu_pls::Float64, temp_mns::Float64, temp_pls::Float64 );\n",
    "    return cal_vapour_transfer_potential( aldmg = aldmg, aldtg = aldtg, dmiu = miu_pls - miu_mns, dtemp = temp_pls - temp_mns )\n",
    "end\n",
    "\n",
    "# 質点が材料内部にある場合（壁は右（pls）側）\n",
    "function cal_vapour_transfer_potential_plswall( ;aldmg_mns::Float64, aldtg_mns::Float64, ldmg_pls::Float64, ldtg_pls::Float64, miu_mns::Float64, miu_pls::Float64, temp_mns::Float64, temp_pls::Float64, dx2_pls::Float64 );\n",
    "    aldmg = cal_transmittance( alpha = aldmg_mns, lam = ldmg_pls, dx2 = dx2_pls )\n",
    "    aldtg = cal_transmittance( alpha = aldtg_mns, lam = ldtg_pls, dx2 = dx2_pls )\n",
    "    return cal_vapour_transfer_potential( aldmg = aldmg, aldtg = aldtg, dmiu = miu_pls - miu_mns, dtemp = temp_pls - temp_mns )\n",
    "end\n",
    "\n",
    "# 質点が材料内部にある場合（壁は左（mns）側）\n",
    "function cal_vapour_transfer_potential_mnswall( ;aldmg_pls::Float64, aldtg_pls::Float64, ldmg_mns::Float64, ldtg_mns::Float64, miu_mns::Float64, miu_pls::Float64, temp_mns::Float64, temp_pls::Float64, dx2_mns::Float64 );\n",
    "    aldmg = cal_transmittance( alpha = aldmg_pls, lam = ldmg_mns, dx2 = dx2_pls )\n",
    "    aldtg = cal_transmittance( alpha = aldtg_pls, lam = ldtg_mns, dx2 = dx2_pls )\n",
    "    return cal_vapour_transfer_potential( aldmg = aldmg, aldtg = aldtg, dmiu = miu_pls - miu_mns, dtemp = temp_pls - temp_mns )\n",
    "end"
   ]
  },
  {
   "cell_type": "markdown",
   "metadata": {},
   "source": [
    "\n",
    "## 4. 液水移動  \n"
   ]
  },
  {
   "cell_type": "markdown",
   "metadata": {},
   "source": [
    "## 4.1 液水移動（水分化学ポテンシャル勾配・固体内）  \n",
    "### 4.1.1 基礎方程式\n",
    "定義：$J_l = -\\lambda^{'}_{\\mu_l}(\\nabla・\\mu - n_x g)$    \n",
    "\n",
    "$J_l$：液相水分流量[kg/m2s]  \n",
    "$\\lambda^{'}_{\\mu l}$：水分化学ポテンシャル勾配に関する液相水分伝導率[kg/ms(J/kg)]  \n",
    "$\\mu$：液水の化学ポテンシャル[J/kg]  \n",
    "$n_x$：重力加速度に対する応答（重力加速度に対して水平なら1、垂直なら0）"
   ]
  },
  {
   "cell_type": "code",
   "execution_count": 26,
   "metadata": {},
   "outputs": [
    {
     "data": {
      "text/plain": [
       "cal_liquid_conduction_potential (generic function with 1 method)"
      ]
     },
     "execution_count": 26,
     "metadata": {},
     "output_type": "execute_result"
    }
   ],
   "source": [
    "##############################################\n",
    "# $$$$$$ 水（液水） $$$$$$\n",
    "# 液水伝導：基礎式\n",
    "cal_liquid_conduction_potential( ;ldml::Float64, dmiu::Float64, dx2::Float64, nx = 0.0 ) = - ldml * ( dmiu / dx2 - nx * 9.806650 )"
   ]
  },
  {
   "cell_type": "markdown",
   "metadata": {},
   "source": [
    "### 4.1.2 差分化方程式"
   ]
  },
  {
   "cell_type": "code",
   "execution_count": 27,
   "metadata": {},
   "outputs": [
    {
     "data": {
      "text/plain": [
       "cal_liquid_conduction_potential_diff_meanAve (generic function with 1 method)"
      ]
     },
     "execution_count": 27,
     "metadata": {},
     "output_type": "execute_result"
    }
   ],
   "source": [
    "# 差分方程式\n",
    "function cal_liquid_conduction_potential_diff( ;ldml_mns::Float64, ldml_pls::Float64, miu_mns::Float64, miu_pls::Float64, dx2_mns::Float64, dx2_pls::Float64, nx = 0.0 ) # nxは特に指定が無い場合0\n",
    "    ldml = sum_resistance( val_mns = ldml_mns, val_pls = ldml_pls, len_mns = dx2_mns, len_pls = dx2_pls )\n",
    "    return cal_liquid_conduction_potential( ldml = ldml, dmiu = miu_pls - miu_mns, dx2 = dx2_mns + dx2_pls, nx = nx )\n",
    "end\n",
    "\n",
    "# 加重平均による計算方法\n",
    "function cal_liquid_conduction_potential_diff_meanAve( ;ldml_mns::Float64, ldml_pls::Float64, miu_mns::Float64, miu_pls::Float64, dx2_mns::Float64, dx2_pls::Float64, nx = 0.0 ) # nxは特に指定が無い場合0\n",
    "    ldml = cal_mean_average( val_mns = ldml_mns, val_pls = ldml_pls, len_mns = dx2_mns, len_pls = dx2_pls )\n",
    "    return cal_liquid_conduction_potential( ldml = ldml, dmiu = miu_pls - miu_mns, dx2 = dx2_mns + dx2_pls, nx = nx )\n",
    "end"
   ]
  },
  {
   "cell_type": "markdown",
   "metadata": {},
   "source": [
    "### 4.1.3 構造体cellを用いた式\n",
    "        \n",
    "引数（キーワード引数）：  \n",
    "- cell_mns: mns側に来るCell構造体を入力\n",
    "- cell_pls: pls側に来るCell構造体を入力\n",
    "- nx: 重力に対する応答方向を表す。水平の場合0、垂直方向の場合1であり、垂直下向きを正とする。  \n",
    "\n",
    "戻り値：\n",
    "- 実数Float64（液水流量）"
   ]
  },
  {
   "cell_type": "code",
   "execution_count": 28,
   "metadata": {},
   "outputs": [
    {
     "data": {
      "text/plain": [
       "cal_jl (generic function with 3 methods)"
      ]
     },
     "execution_count": 28,
     "metadata": {},
     "output_type": "execute_result"
    }
   ],
   "source": [
    "function cal_jl( cell_mns::Cell, cell_pls::Cell, nx = 0.0 )\n",
    "    cal_liquid_conduction_potential_diff( \n",
    "        ldml_mns = ldml(cell_mns), ldml_pls = ldml(cell_pls), \n",
    "        miu_mns = miu(cell_mns), miu_pls = miu(cell_pls), \n",
    "        dx2_mns = dx2(cell_mns), dx2_pls = dx2(cell_pls), nx = nx )\n",
    "end\n",
    "cal_jl(; cell_mns, cell_pls, nx = 0.0 ) = cal_jl(cell_mns, cell_pls, nx)"
   ]
  },
  {
   "cell_type": "markdown",
   "metadata": {},
   "source": [
    "なお、液水は空気中は移動できないため、"
   ]
  },
  {
   "cell_type": "code",
   "execution_count": 29,
   "metadata": {},
   "outputs": [
    {
     "data": {
      "text/plain": [
       "cal_jl (generic function with 7 methods)"
      ]
     },
     "execution_count": 29,
     "metadata": {},
     "output_type": "execute_result"
    }
   ],
   "source": [
    "cal_jl( cell_mns::Cell, cell_pls::Air,  nx = 0.0 ) = 0.0\n",
    "cal_jl( cell_mns::Air,  cell_pls::Cell, nx = 0.0 ) = 0.0"
   ]
  },
  {
   "cell_type": "markdown",
   "metadata": {},
   "source": [
    "※cell間の物性値の計算方法として加重平均を採用する場合はこちら"
   ]
  },
  {
   "cell_type": "code",
   "execution_count": 30,
   "metadata": {},
   "outputs": [
    {
     "data": {
      "text/plain": [
       "cal_jl_meanAve (generic function with 3 methods)"
      ]
     },
     "execution_count": 30,
     "metadata": {},
     "output_type": "execute_result"
    }
   ],
   "source": [
    "function cal_jl_meanAve( cell_mns::Cell, cell_pls::Cell, nx = 0.0 )\n",
    "    cal_liquid_conduction_potential_diff_meanAve( \n",
    "        ldml_mns = ldml(cell_mns), ldml_pls = ldml(cell_pls), \n",
    "        miu_mns = miu(cell_mns), miu_pls = miu(cell_pls), \n",
    "        dx2_mns = dx2(cell_mns), dx2_pls = dx2(cell_pls), nx = nx )\n",
    "end\n",
    "cal_jl_meanAve(; cell_mns::Cell, cell_pls::Cell, nx = 0.0 ) = cal_jl_meanAve( cell_mns, cell_pls, nx)"
   ]
  },
  {
   "cell_type": "code",
   "execution_count": null,
   "metadata": {},
   "outputs": [],
   "source": []
  },
  {
   "cell_type": "markdown",
   "metadata": {},
   "source": [
    "## ５. 溶液移動  "
   ]
  },
  {
   "cell_type": "markdown",
   "metadata": {},
   "source": [
    "## 5.1 溶液移動（圧力勾配・固体内・体積流量）  \n",
    "### 5.1.1 基礎方程式\n",
    "定義： $J_{vol} = - \\frac{K}{\\rho_{sw} g} (\\nabla・p_c - n_z \\rho_{sw} g) = - K (\\frac{1}{\\rho_{sw} g} \\nabla・p_c - n_z )$ \n",
    "\n",
    "$J_{vol}$：溶液体積流量[m3/m2s]  \n",
    "$\\lambda^{'}_{\\mu l}$：水分化学ポテンシャル勾配に関する液相水分伝導率[kg/ms(J/kg)]  \n",
    "$\\mu$：液水の化学ポテンシャル[J/kg]  \n",
    "$n_x$：重力加速度に対する応答（重力加速度に対して水平なら1、垂直なら0）"
   ]
  },
  {
   "cell_type": "code",
   "execution_count": 5,
   "metadata": {},
   "outputs": [
    {
     "data": {
      "text/plain": [
       "cal_solusion_conduction (generic function with 1 method)"
      ]
     },
     "execution_count": 5,
     "metadata": {},
     "output_type": "execute_result"
    }
   ],
   "source": [
    "##############################################\n",
    "# $$$$$$ 溶液 $$$$$$\n",
    "# 溶液伝導：基礎式\n",
    "cal_solusion_conduction( ;dsw::Float64, dplc::Float64, dx2::Float64, rowsw::Float64, nx = 0.0 ) = - dsw * ( dplc / dx2 - nx * rowsw * 9.806650 )"
   ]
  },
  {
   "cell_type": "markdown",
   "metadata": {},
   "source": [
    "### 5.1.2 差分化方程式"
   ]
  },
  {
   "cell_type": "code",
   "execution_count": 6,
   "metadata": {},
   "outputs": [
    {
     "data": {
      "text/plain": [
       "cal_solusion_conduction_diff_meanAve (generic function with 1 method)"
      ]
     },
     "execution_count": 6,
     "metadata": {},
     "output_type": "execute_result"
    }
   ],
   "source": [
    "# 差分方程式\n",
    "function cal_solusion_conduction_diff( ;dsw_mns::Float64, dsw_pls::Float64, plc_mns::Float64, plc_pls::Float64, dx2_mns::Float64, dx2_pls::Float64, rowsw::Float64, nx = 0.0 ) # nxは特に指定が無い場合0\n",
    "    dsw = sum_resistance( val_mns = dsw_mns, val_pls = dsw_pls, len_mns = dx2_mns, len_pls = dx2_pls )\n",
    "    return cal_solusion_conduction( dsw = dsw, dplc = plc_pls - plc_mns, dx2 = dx2_mns + dx2_pls, rowsw = rowsw, nx = nx )\n",
    "end\n",
    "\n",
    "# 加重平均による計算方法\n",
    "function cal_solusion_conduction_diff_meanAve( ;dsw_mns::Float64, dsw_pls::Float64, plc_mns::Float64, plc_pls::Float64, dx2_mns::Float64, dx2_pls::Float64, rowsw::Float64, nx = 0.0 ) # nxは特に指定が無い場合0\n",
    "    dsw = cal_mean_average( val_mns = dsw_mns, val_pls = dsw_pls, len_mns = dx2_mns, len_pls = dx2_pls )\n",
    "    return cal_solusion_conduction( dsw = dsw, dplc = plc_pls - plc_mns, dx2 = dx2_mns + dx2_pls, rowsw = rowsw, nx = nx )\n",
    "end"
   ]
  },
  {
   "cell_type": "markdown",
   "metadata": {},
   "source": [
    "### 5.1.3 構造体cellを用いた式\n",
    "        \n",
    "引数（キーワード引数）：  \n",
    "- cell_mns: mns側に来るCell構造体を入力\n",
    "- cell_pls: pls側に来るCell構造体を入力\n",
    "- nx: 重力に対する応答方向を表す。水平の場合0、垂直方向の場合1であり、垂直下向きを正とする。  \n",
    "\n",
    "戻り値：\n",
    "- 実数Float64（溶液体積流量）"
   ]
  },
  {
   "cell_type": "code",
   "execution_count": 9,
   "metadata": {},
   "outputs": [
    {
     "data": {
      "text/plain": [
       "cal_Jvol (generic function with 3 methods)"
      ]
     },
     "execution_count": 9,
     "metadata": {},
     "output_type": "execute_result"
    }
   ],
   "source": [
    "function cal_Jvol( cell_mns::Cell, cell_pls::Cell, nx = 0.0 )\n",
    "    cal_solusion_conduction_diff( \n",
    "        dsw_mns = dw(cell_mns)*kls(cell_mns)/rowsw(cell_mns), dsw_pls = dw(cell_pls)*kls(cell_pls)/rowsw(cell_pls), 　#粘性による移動係数の変化もここで加える\n",
    "        plc_mns = plc(cell_mns), plc_pls = plc(cell_pls), \n",
    "        dx2_mns = dx2(cell_mns), dx2_pls = dx2(cell_pls), rowsw = rowsw(cell_mns), nx = nx )　\n",
    "end\n",
    "cal_Jvol(; cell_mns, cell_pls, nx = 0.0 ) = cal_Jvol(cell_mns, cell_pls, nx)"
   ]
  },
  {
   "cell_type": "markdown",
   "metadata": {},
   "source": [
    "なお、溶液は空気中は移動できないため、"
   ]
  },
  {
   "cell_type": "code",
   "execution_count": 10,
   "metadata": {},
   "outputs": [
    {
     "data": {
      "text/plain": [
       "cal_Jvol (generic function with 7 methods)"
      ]
     },
     "execution_count": 10,
     "metadata": {},
     "output_type": "execute_result"
    }
   ],
   "source": [
    "cal_Jvol( cell_mns::Cell, cell_pls::Air,  nx = 0.0 ) = 0.0\n",
    "cal_Jvol( cell_mns::Air,  cell_pls::Cell, nx = 0.0 ) = 0.0"
   ]
  },
  {
   "cell_type": "markdown",
   "metadata": {},
   "source": [
    "※cell間の物性値の計算方法として加重平均を採用する場合はこちら"
   ]
  },
  {
   "cell_type": "code",
   "execution_count": 12,
   "metadata": {},
   "outputs": [
    {
     "data": {
      "text/plain": [
       "cal_Jvol_meanAve (generic function with 3 methods)"
      ]
     },
     "execution_count": 12,
     "metadata": {},
     "output_type": "execute_result"
    }
   ],
   "source": [
    "function cal_Jvol_meanAve( cell_mns::Cell, cell_pls::Cell, nx = 0.0 )\n",
    "    cal_solusion_conduction_diff_meanAve( \n",
    "        dsw_mns = dw(cell_mns)*kls(cell_mns)/rowsw(cell_mns), dsw_pls = dw(cell_pls)*kls(cell_pls)/rowsw(cell_pls), 　　#粘性による移動係数の変化はここかtuff_motomachi_v3内に加える\n",
    "        plc_mns = plc(cell_mns), plc_pls = plc(cell_pls), \n",
    "        dx2_mns = dx2(cell_mns), dx2_pls = dx2(cell_pls), rowsw = rowsw(cell_mns), nx = nx )\n",
    "end\n",
    "cal_Jvol_meanAve(; cell_mns::Cell, cell_pls::Cell, nx = 0.0 ) = cal_Jvol_meanAve( cell_mns, cell_pls, nx)"
   ]
  },
  {
   "cell_type": "code",
   "execution_count": null,
   "metadata": {},
   "outputs": [],
   "source": []
  },
  {
   "cell_type": "markdown",
   "metadata": {},
   "source": [
    "## 5.2 水の移動（固体内・モル流量）  \n",
    "### 5.2.1 基礎方程式\n",
    "\n",
    "定義：$j_w = {\\frac{1 - (1-{\\sigma}) \\bar v_s C_s}{\\bar v_w}} J_{vol} + \\frac{\\bar v_s}{\\bar v_w} D_s \\nabla・C_s$\n",
    "\n",
    "$j_w$：水のモル流量[mol/m2s]  \n",
    "$\\sigma$：反射係数  \n",
    "$\\bar v_s$：塩の部分モル体積[m3/mol]  \n",
    "$\\bar v_w$：水の部分モル体積[m3/mol]  \n",
    "$C_s$：塩濃度[mol/m3]  \n",
    "$D_s$：塩の拡散係数[m2/s]"
   ]
  },
  {
   "cell_type": "code",
   "execution_count": 13,
   "metadata": {},
   "outputs": [
    {
     "data": {
      "text/plain": [
       "cal_water_conduction (generic function with 1 method)"
      ]
     },
     "execution_count": 13,
     "metadata": {},
     "output_type": "execute_result"
    }
   ],
   "source": [
    "##############################################\n",
    "# 水の移動：基礎式\n",
    "function cal_water_conduction( ;Jvol::Float64, ds::Float64, dcs::Float64, dx2::Float64, cs::Float64, vs::Float64, vw::Float64, sigma::Float64 )\n",
    "    jw = (1 - (1 - sigma) * vs * cs) / vw * Jvol + vs / vw * ds * dcs / dx2\n",
    "    return jw\n",
    "end                "
   ]
  },
  {
   "cell_type": "markdown",
   "metadata": {},
   "source": [
    "### 5.2.2 差分化方程式"
   ]
  },
  {
   "cell_type": "code",
   "execution_count": 14,
   "metadata": {},
   "outputs": [
    {
     "data": {
      "text/plain": [
       "cal_water_conduction_diff_meanAve (generic function with 1 method)"
      ]
     },
     "execution_count": 14,
     "metadata": {},
     "output_type": "execute_result"
    }
   ],
   "source": [
    "# 差分方程式\n",
    "function cal_water_conduction_diff( ;Jvol::Float64, ds_mns::Float64, ds_pls::Float64, cs_mns::Float64, cs_pls::Float64, \n",
    "                                                dx2_mns::Float64, dx2_pls::Float64, vs::Float64, vw::Float64, sigma::Float64 )\n",
    "    ds = sum_resistance( val_mns = ds_mns, val_pls = ds_pls, len_mns = dx2_mns, len_pls = dx2_pls )\n",
    "    return cal_water_conduction( Jvol = Jvol, ds = ds, dcs = cs_pls - cs_mns, dx2 = dx2_mns + dx2_pls, cs = cs_mns, vs = vs, vw = vw, sigma = sigma )\n",
    "end\n",
    "\n",
    "# 加重平均による計算方法\n",
    "function cal_water_conduction_diff_meanAve( ;Jvol::Float64, ds_mns::Float64, ds_pls::Float64, cs_mns::Float64, cs_pls::Float64, \n",
    "                                                   dx2_mns::Float64, dx2_pls::Float64, vs::Float64, vw::Float64, sigma::Float64 ) \n",
    "    ds = cal_mean_average( val_mns = ds_mns, val_pls = ds_pls, len_mns = dx2_mns, len_pls = dx2_pls )\n",
    "    return cal_water_conduction( Jvol = Jvol, ds = ds, dcs = cs_pls - cs_mns, dx2 = dx2_mns + dx2_pls, cs = cs_mns, vs = vs, vw = vw, sigma = sigma )\n",
    "end"
   ]
  },
  {
   "cell_type": "markdown",
   "metadata": {},
   "source": [
    "### 5.2.3 構造体cellを用いた式\n",
    "        \n",
    "引数（キーワード引数）：  \n",
    "- cell_mns: mns側に来るCell構造体を入力\n",
    "- cell_pls: pls側に来るCell構造体を入力  \n",
    "\n",
    "戻り値：\n",
    "- 実数Float64（水のモル流量）"
   ]
  },
  {
   "cell_type": "code",
   "execution_count": 18,
   "metadata": {},
   "outputs": [
    {
     "data": {
      "text/plain": [
       "cal_jw (generic function with 2 methods)"
      ]
     },
     "execution_count": 18,
     "metadata": {},
     "output_type": "execute_result"
    }
   ],
   "source": [
    "function cal_jw( cell_mns::Cell, cell_pls::Cell, Jvol )\n",
    "    cal_water_conduction_diff( \n",
    "        Jvol = Jvol,\n",
    "        ds_mns = ds(cell_mns), ds_pls = ds(cell_pls), \n",
    "        cs_mns = cs_vol(cell_mns), cs_pls = cs_vol(cell_pls), \n",
    "        dx2_mns = dx2(cell_mns), dx2_pls = dx2(cell_pls), vs = vs(cell_mns), vw = vw(cell_mns), sigma = sigma(cell_mns) )\n",
    "end\n",
    "cal_jw(; cell_mns, cell_pls, Jvol ) = cal_jw( cell_mns, cell_pls, Jvol )"
   ]
  },
  {
   "cell_type": "markdown",
   "metadata": {},
   "source": [
    "なお、溶液は空気中は移動できないため、"
   ]
  },
  {
   "cell_type": "code",
   "execution_count": 19,
   "metadata": {},
   "outputs": [
    {
     "data": {
      "text/plain": [
       "cal_jw (generic function with 4 methods)"
      ]
     },
     "execution_count": 19,
     "metadata": {},
     "output_type": "execute_result"
    }
   ],
   "source": [
    "cal_jw( cell_mns::Cell, cell_pls::Air,  Jvol ) = 0.0\n",
    "cal_jw( cell_mns::Air,  cell_pls::Cell, Jvol ) = 0.0"
   ]
  },
  {
   "cell_type": "markdown",
   "metadata": {},
   "source": [
    "※cell間の物性値の計算方法として加重平均を採用する場合はこちら"
   ]
  },
  {
   "cell_type": "code",
   "execution_count": 20,
   "metadata": {},
   "outputs": [
    {
     "data": {
      "text/plain": [
       "cal_jw_meanAve (generic function with 2 methods)"
      ]
     },
     "execution_count": 20,
     "metadata": {},
     "output_type": "execute_result"
    }
   ],
   "source": [
    "function cal_jw_meanAve( cell_mns::Cell, cell_pls::Cell, Jvol )\n",
    "    cal_water_conduction_diff_meanAve( \n",
    "        Jvol = Jvol,\n",
    "        ds_mns = ds(cell_mns), ds_pls = ds(cell_pls), \n",
    "        cs_mns = cs_vol(cell_mns), cs_pls = cs_vol(cell_pls), \n",
    "        dx2_mns = dx2(cell_mns), dx2_pls = dx2(cell_pls), vs = vs(cell_mns), vw = vw(cell_mns), sigma = sigma(cell_mns) )\n",
    "end\n",
    "cal_jw_meanAve(; cell_mns, cell_pls, Jvol ) = cal_jw_meanAve(cell_mns, cell_pls, Jvol )"
   ]
  },
  {
   "cell_type": "code",
   "execution_count": null,
   "metadata": {},
   "outputs": [],
   "source": []
  },
  {
   "cell_type": "markdown",
   "metadata": {},
   "source": [
    "## 5.3 塩の移動（固体内・モル流量）  \n",
    "### 5.3.1 基礎方程式\n",
    "\n",
    "定義：$j_s = (1-{\\sigma}) C_s J_{vol} - D_s \\nabla・C_s$\n",
    "\n",
    "$j_s$：塩のモル流量[mol/m2s]  \n",
    "$\\sigma$：反射係数   \n",
    "$C_s$：塩濃度[mol/m3]  \n",
    "$D_s$：塩の拡散係数[m2/s]"
   ]
  },
  {
   "cell_type": "code",
   "execution_count": 21,
   "metadata": {},
   "outputs": [
    {
     "data": {
      "text/plain": [
       "cal_salt_conduction (generic function with 1 method)"
      ]
     },
     "execution_count": 21,
     "metadata": {},
     "output_type": "execute_result"
    }
   ],
   "source": [
    "##############################################\n",
    "# 塩の移動：基礎式\n",
    "function cal_salt_conduction( ;Jvol::Float64, ds::Float64, dcs::Float64, dx2::Float64, cs::Float64, sigma::Float64 )\n",
    "    js = (1 - sigma) * cs * Jvol - ds * dcs / dx2\n",
    "    return js\n",
    "end      "
   ]
  },
  {
   "cell_type": "markdown",
   "metadata": {},
   "source": [
    "### 5.3.2 差分化方程式"
   ]
  },
  {
   "cell_type": "code",
   "execution_count": 22,
   "metadata": {},
   "outputs": [
    {
     "data": {
      "text/plain": [
       "cal_salt_conduction_diff_meanAve (generic function with 1 method)"
      ]
     },
     "execution_count": 22,
     "metadata": {},
     "output_type": "execute_result"
    }
   ],
   "source": [
    "# 差分方程式\n",
    "function cal_salt_conduction_diff( ;Jvol::Float64, ds_mns::Float64, ds_pls::Float64, cs_mns::Float64, cs_pls::Float64, \n",
    "                                                dx2_mns::Float64, dx2_pls::Float64, sigma::Float64 )\n",
    "    ds = sum_resistance( val_mns = ds_mns, val_pls = ds_pls, len_mns = dx2_mns, len_pls = dx2_pls )\n",
    "    return cal_salt_conduction( Jvol = Jvol, ds = ds, dcs = cs_pls - cs_mns, dx2 = dx2_mns + dx2_pls, cs = cs_mns, sigma = sigma )\n",
    "end\n",
    "\n",
    "# 加重平均による計算方法\n",
    "function cal_salt_conduction_diff_meanAve( ;Jvol::Float64, ds_mns::Float64, ds_pls::Float64, cs_mns::Float64, cs_pls::Float64, \n",
    "                                                   dx2_mns::Float64, dx2_pls::Float64, sigma::Float64 ) \n",
    "    ds = cal_mean_average( val_mns = ds_mns, val_pls = ds_pls, len_mns = dx2_mns, len_pls = dx2_pls )\n",
    "    return cal_salt_conduction( Jvol = Jvol, ds = ds, dcs = cs_pls - cs_mns, dx2 = dx2_mns + dx2_pls, cs = cs_mns, sigma = sigma )\n",
    "end"
   ]
  },
  {
   "cell_type": "code",
   "execution_count": null,
   "metadata": {},
   "outputs": [],
   "source": []
  },
  {
   "cell_type": "markdown",
   "metadata": {},
   "source": [
    "### 5.3.3 構造体cellを用いた式\n",
    "        \n",
    "引数（キーワード引数）：  \n",
    "- cell_mns: mns側に来るCell構造体を入力\n",
    "- cell_pls: pls側に来るCell構造体を入力  \n",
    "\n",
    "戻り値：\n",
    "- 実数Float64（塩のモル流量）"
   ]
  },
  {
   "cell_type": "code",
   "execution_count": 23,
   "metadata": {},
   "outputs": [
    {
     "data": {
      "text/plain": [
       "cal_js (generic function with 2 methods)"
      ]
     },
     "execution_count": 23,
     "metadata": {},
     "output_type": "execute_result"
    }
   ],
   "source": [
    "function cal_js( cell_mns::Cell, cell_pls::Cell, Jvol )\n",
    "    cal_salt_conduction_diff( \n",
    "        Jvol = Jvol,\n",
    "        ds_mns = ds(cell_mns), ds_pls = ds(cell_pls), \n",
    "        cs_mns = cs_vol(cell_mns), cs_pls = cs_vol(cell_pls), \n",
    "        dx2_mns = dx2(cell_mns), dx2_pls = dx2(cell_pls), sigma = sigma(cell_mns) )\n",
    "end\n",
    "cal_js(; cell_mns, cell_pls, Jvol ) = cal_js( cell_mns, cell_pls, Jvol )"
   ]
  },
  {
   "cell_type": "markdown",
   "metadata": {},
   "source": [
    "なお、溶液は空気中は移動できないため、"
   ]
  },
  {
   "cell_type": "code",
   "execution_count": 24,
   "metadata": {},
   "outputs": [
    {
     "data": {
      "text/plain": [
       "cal_js (generic function with 4 methods)"
      ]
     },
     "execution_count": 24,
     "metadata": {},
     "output_type": "execute_result"
    }
   ],
   "source": [
    "cal_js( cell_mns::Cell, cell_pls::Air,  Jvol ) = 0.0\n",
    "cal_js( cell_mns::Air,  cell_pls::Cell, Jvol ) = 0.0"
   ]
  },
  {
   "cell_type": "markdown",
   "metadata": {},
   "source": [
    "※cell間の物性値の計算方法として加重平均を採用する場合はこちら"
   ]
  },
  {
   "cell_type": "code",
   "execution_count": 25,
   "metadata": {},
   "outputs": [
    {
     "data": {
      "text/plain": [
       "cal_js_meanAve (generic function with 2 methods)"
      ]
     },
     "execution_count": 25,
     "metadata": {},
     "output_type": "execute_result"
    }
   ],
   "source": [
    "function cal_js_meanAve( cell_mns::Cell, cell_pls::Cell, Jvol )\n",
    "    cal_salt_conduction_diff_meanAve( \n",
    "        Jvol = Jvol,\n",
    "        ds_mns = ds(cell_mns), ds_pls = ds(cell_pls), \n",
    "        cs_mns = cs_vol(cell_mns), cs_pls = cs_vol(cell_pls), \n",
    "        dx2_mns = dx2(cell_mns), dx2_pls = dx2(cell_pls), sigma = sigma(cell_mns) )\n",
    "end\n",
    "cal_js_meanAve(; cell_mns, cell_pls, Jvol ) = cal_js_meanAve(cell_mns, cell_pls, Jvol )"
   ]
  },
  {
   "cell_type": "code",
   "execution_count": null,
   "metadata": {},
   "outputs": [],
   "source": []
  },
  {
   "cell_type": "code",
   "execution_count": null,
   "metadata": {},
   "outputs": [],
   "source": []
  },
  {
   "cell_type": "markdown",
   "metadata": {},
   "source": [
    "## 検証"
   ]
  },
  {
   "cell_type": "code",
   "execution_count": 31,
   "metadata": {},
   "outputs": [
    {
     "data": {
      "text/plain": [
       "\"bentheimer_sandstone\""
      ]
     },
     "execution_count": 31,
     "metadata": {},
     "output_type": "execute_result"
    }
   ],
   "source": [
    "test_cell1 = Cell()\n",
    "test_cell1.dx = 0.0015\n",
    "test_cell1.dx2 = test_cell1.dx / 2.0 \n",
    "test_cell1.temp = 298.15\n",
    "test_cell1.miu = -150.0\n",
    "test_cell1.material_name = \"bentheimer_sandstone\""
   ]
  },
  {
   "cell_type": "code",
   "execution_count": 32,
   "metadata": {},
   "outputs": [
    {
     "data": {
      "text/plain": [
       "\"bentheimer_sandstone\""
      ]
     },
     "execution_count": 32,
     "metadata": {},
     "output_type": "execute_result"
    }
   ],
   "source": [
    "test_cell2 = Cell()\n",
    "test_cell2.dx = 0.002\n",
    "test_cell2.dx2 = test_cell2.dx / 2.0 \n",
    "test_cell2.temp = 295.15\n",
    "test_cell2.miu = -200.0\n",
    "test_cell2.material_name = \"bentheimer_sandstone\""
   ]
  },
  {
   "cell_type": "code",
   "execution_count": 33,
   "metadata": {},
   "outputs": [
    {
     "data": {
      "text/plain": [
       "1.0e-8"
      ]
     },
     "execution_count": 33,
     "metadata": {},
     "output_type": "execute_result"
    }
   ],
   "source": [
    "test_air = Air()\n",
    "test_air.temp = 295.15\n",
    "test_air.rh = 0.9\n",
    "test_air.alpha = 10.0\n",
    "test_air.aldm  = 1.0e-8"
   ]
  },
  {
   "cell_type": "code",
   "execution_count": 34,
   "metadata": {},
   "outputs": [
    {
     "data": {
      "text/plain": [
       "2.6857519216282447e-7"
      ]
     },
     "execution_count": 34,
     "metadata": {},
     "output_type": "execute_result"
    }
   ],
   "source": [
    "cal_jl( test_cell1, test_cell2 )"
   ]
  },
  {
   "cell_type": "code",
   "execution_count": 35,
   "metadata": {},
   "outputs": [
    {
     "data": {
      "text/plain": [
       "-5.646412965e-314"
      ]
     },
     "execution_count": 35,
     "metadata": {},
     "output_type": "execute_result"
    }
   ],
   "source": [
    "cal_q( test_air, test_cell1 )"
   ]
  },
  {
   "cell_type": "code",
   "execution_count": 36,
   "metadata": {},
   "outputs": [
    {
     "data": {
      "text/plain": [
       "-0.0"
      ]
     },
     "execution_count": 36,
     "metadata": {},
     "output_type": "execute_result"
    }
   ],
   "source": [
    "cal_q( test_cell2, test_air )"
   ]
  },
  {
   "cell_type": "code",
   "execution_count": 37,
   "metadata": {},
   "outputs": [
    {
     "data": {
      "text/plain": [
       "-5.646412965e-314"
      ]
     },
     "execution_count": 37,
     "metadata": {},
     "output_type": "execute_result"
    }
   ],
   "source": [
    "cal_q( test_air, test_cell1 )"
   ]
  },
  {
   "cell_type": "code",
   "execution_count": 38,
   "metadata": {},
   "outputs": [
    {
     "data": {
      "text/plain": [
       "-2057.142857142857"
      ]
     },
     "execution_count": 38,
     "metadata": {},
     "output_type": "execute_result"
    }
   ],
   "source": [
    "cal_q_meanAve( test_cell2, test_cell1 )"
   ]
  },
  {
   "cell_type": "code",
   "execution_count": 39,
   "metadata": {},
   "outputs": [
    {
     "data": {
      "text/plain": [
       "-5.610645100824475e-5"
      ]
     },
     "execution_count": 39,
     "metadata": {},
     "output_type": "execute_result"
    }
   ],
   "source": [
    "cal_jv( test_cell2, test_cell1 )"
   ]
  },
  {
   "cell_type": "code",
   "execution_count": 40,
   "metadata": {},
   "outputs": [
    {
     "data": {
      "text/plain": [
       "2.6059562424371414e-6"
      ]
     },
     "execution_count": 40,
     "metadata": {},
     "output_type": "execute_result"
    }
   ],
   "source": [
    "cal_jv( test_cell2, test_air )"
   ]
  },
  {
   "cell_type": "code",
   "execution_count": 41,
   "metadata": {},
   "outputs": [
    {
     "data": {
      "text/plain": [
       "-7.854862466552782e-6"
      ]
     },
     "execution_count": 41,
     "metadata": {},
     "output_type": "execute_result"
    }
   ],
   "source": [
    "cal_jv( test_air, test_cell1 )"
   ]
  },
  {
   "cell_type": "code",
   "execution_count": 42,
   "metadata": {},
   "outputs": [
    {
     "data": {
      "text/plain": [
       "-5.6387607854613846e-5"
      ]
     },
     "execution_count": 42,
     "metadata": {},
     "output_type": "execute_result"
    }
   ],
   "source": [
    "cal_jv_meanAve( test_cell2, test_cell1 )"
   ]
  },
  {
   "cell_type": "code",
   "execution_count": 43,
   "metadata": {},
   "outputs": [
    {
     "data": {
      "text/plain": [
       "-2.6848300836103666e-7"
      ]
     },
     "execution_count": 43,
     "metadata": {},
     "output_type": "execute_result"
    }
   ],
   "source": [
    "cal_jl( test_cell2, test_cell1, 1.0 )"
   ]
  },
  {
   "cell_type": "code",
   "execution_count": 44,
   "metadata": {},
   "outputs": [
    {
     "data": {
      "text/plain": [
       "0.0"
      ]
     },
     "execution_count": 44,
     "metadata": {},
     "output_type": "execute_result"
    }
   ],
   "source": [
    "cal_jl( test_cell2, test_air, 1.0 )"
   ]
  },
  {
   "cell_type": "code",
   "execution_count": 45,
   "metadata": {},
   "outputs": [
    {
     "data": {
      "text/plain": [
       "-3.9436465446369213e-7"
      ]
     },
     "execution_count": 45,
     "metadata": {},
     "output_type": "execute_result"
    }
   ],
   "source": [
    "cal_jl_meanAve( test_cell2, test_cell1 )"
   ]
  },
  {
   "cell_type": "code",
   "execution_count": null,
   "metadata": {},
   "outputs": [],
   "source": []
  }
 ],
 "metadata": {
  "kernelspec": {
   "display_name": "Julia 1.6.1",
   "language": "julia",
   "name": "julia-1.6"
  },
  "language_info": {
   "file_extension": ".jl",
   "mimetype": "application/julia",
   "name": "julia",
   "version": "1.6.1"
  }
 },
 "nbformat": 4,
 "nbformat_minor": 4
}
