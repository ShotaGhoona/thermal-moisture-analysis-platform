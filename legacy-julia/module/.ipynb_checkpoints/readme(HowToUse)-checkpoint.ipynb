{
 "cells": [
  {
   "cell_type": "markdown",
   "metadata": {},
   "source": [
    "# 熱水分同時移動解析プログラム使い方\n",
    "作成日時：2020/11/10　作成者：高取伸光  \n",
    "\n",
    "</br>"
   ]
  },
  {
   "cell_type": "markdown",
   "metadata": {},
   "source": [
    "## 目次  \n",
    "- 1.「概要」Overview\n",
    "- 2.「動作環境」System Requirements\n",
    "- 3.「プログラムの構成」Components\n",
    "- 4.「利用方法」How to use\n",
    "- 5.「精度検証例」Accuracy validation\n",
    "- 6.「著作権」Lisence\n",
    "\n",
    "</br>"
   ]
  },
  {
   "cell_type": "markdown",
   "metadata": {},
   "source": [
    "## 1. 「概要」Overview\n",
    "本プログラムは前進型有限差分法を用いた多孔質材料内の熱・水分の移動計算を行うものである。  \n",
    "\n",
    "#### 本プログラムで可能なこと\n",
    "\n",
    "##### 計算内容（収支式）  \n",
    "- 熱計算  \n",
    "- 熱、水分計算（蒸気拡散支配領域）  \n",
    "- 熱・水分計算（液水領域を含む）  \n",
    "\n",
    "##### 流量計算方法  \n",
    "- 熱（固体熱伝導）（水分の相変化熱）  \n",
    "- 水蒸気（圧力基準　or 水分化学ポテンシャル基準）（絶対湿度基準も実装予定）  \n",
    "- 液水（圧力基準　or 水分化学ポテンシャル基準）  \n",
    "\n",
    "##### 境界条件  \n",
    "- 第一種境界条件（温湿度固定）  \n",
    "- 第二種境界条件（流量固定）  \n",
    "- 第三種境界条件（セル間の流量計算）  \n",
    "\n",
    "</br>"
   ]
  },
  {
   "cell_type": "markdown",
   "metadata": {},
   "source": [
    "## 2. 「動作環境」System Requirements  \n",
    "\n",
    "- 使用言語：Julia\n",
    "- 作成時の環境：Julia 1.4.2\n",
    "- 動作環境：JupyterLab\n",
    "\n",
    "</br>"
   ]
  },
  {
   "cell_type": "markdown",
   "metadata": {},
   "source": [
    "## 3.「プログラムの構成」Components\n",
    "\n",
    "本プログラムは大きく以下の2つに分けられる。\n",
    "\n",
    "- 熱水分解析用の専用モジュール\n",
    "- 基礎方程式および基礎物性値のみを記したリサイクル可能なモジュール\n",
    "- readmeと同じ階層（ディレクトリ）にあるプログラムは計算用の専用モジュール\n",
    "- module_functionあるいはmodule_material_propertyと書かれたファイルにあるプログラムは基礎方程式（または関数）あるいは材料物性値に関するプログラム\n",
    "である。  \n",
    "\n",
    "一般的な熱と水分のみを扱った解析の場合、修正が必要となると考えられるのは、  \n",
    "\n",
    "- module_material_property内の物性値ファイル\n",
    "- module_function内のflux_and_balance_equation\n",
    "- core_system\n",
    "- property_conversion\n",
    "\n",
    "ぐらいである。  \n",
    "以下に各ファイルの概要を示す。\n",
    "\n",
    "### 同階層内\n",
    "- calculation_module  \n",
    "…数値計算を回すためのメインモジュール。システム全体に影響を及ぼす内容は一切書かれていないため自由に利用して良い。\n",
    "\n",
    "- core_system  \n",
    "…熱水分解析を行うための核となるモジュール。\n",
    "Cellと呼ばれる微小領域の熱水分あるいは物性値情報を格納するモジュールや、Cellを用いた流量計算方法、熱収支計算方法が記述されている。\n",
    "\n",
    "- property_conversion  \n",
    "…/module_material_property内にある物性値情報を引き出し、換算するためのモジュール。\n",
    "複数の物性値ファイルを扱う場合や、水分拡散係数の単位が異なる場合などに役立つ。汎用型を目指した際には必須のモジュール。\n",
    "\n",
    "- timer  \n",
    "…時間差分の計算をする際に必要となるカレンダー情報などを保管するモジュール。\n",
    "外界気象条件が時間変化するような場合や、後述のデータロギングの際に重宝する。\n",
    "\n",
    "- pandas_pseudo  \n",
    "…配列データを管理するためのモジュール。\n",
    "通常の配列では各時刻におけるデータを追加していくという動作が出来ないため作成した。\n",
    "pythonのpandasを模して作成したためこのような名称とした。不必要であれば使わなくても良い。\n",
    "\n",
    "- logger  \n",
    "…timerおよびpandas_pseudoを用いたデータのロギングモジュール。\n",
    "データロガーの測定方法からプログラムの構想を考えたためこのような名称とした。\n",
    "\n",
    "\n",
    "### フォルダ「/module_function」内\n",
    "- flux_and_balance_equation  \n",
    "…流量計算式あるいは収支式をまとめた関数ファイル。\n",
    "差分計算の式の形を追加するといった将来性はあるものの、通常利用レベルで何か加筆する必要はない。\n",
    "\n",
    "- lewis_relation  \n",
    "…ルイス関係のみを記述したモジュール\n",
    "初期設定としてルイス数Le = 0.86としているが、必要に応じて変更して良い。\n",
    "\n",
    "- vapour  \n",
    "…水蒸気の状態量を管理するモジュール\n",
    "相対湿度（RH）、水蒸気圧（Pv）、水分化学ポテンシャル（μ）の相互関係を記してある。\n",
    "不用意にいじるべきではないモジュールの一つ。\n",
    "\n",
    "\n",
    "### フォルダ「/module_material_property」内\n",
    "- liquid_water  \n",
    "…水の物性値を管理するファイル。\n",
    "ファイルとして分ける必要があるかは正直不明。解析が回せるなら無くても良い。\n",
    "\n",
    "- van_genuchten  \n",
    "…vanGenuchten-mualemの不飽和透水係数および平衡含水率曲線に関するモジュール。\n",
    "完成しているので不用意にいじるべきではないモジュール。\n",
    "\n",
    "- bentheimer_sandstoneなど  \n",
    "…材料物性値のファイル。\n",
    "平衡含水率関係など水分状態（RHやμ）を引数に取る関数は、引数を実数にしておくことが望ましい。\n",
    "（core_system内のCellモジュールとは独立にしておき、関数を参照する側で工夫するのが良い）\n",
    "\n",
    "</br>"
   ]
  },
  {
   "cell_type": "markdown",
   "metadata": {},
   "source": [
    "## 4.「利用方法」How to use  \n",
    "\n",
    "前進型有限差分法による数値計算の構成要素は主に以下のように分類される。  \n",
    "\n",
    "- 1.　壁（計算対象）の分割と初期温度・湿度条件、材料物性値の指定\n",
    "- 2.　計算領域境界の条件の設定\n",
    "- 3.　差分法により分割された領域（“cell”と呼称）間の熱流・水分流量計算\n",
    "- 4.　cellの熱・水分収支計算  \n",
    "- 5.　例外処理\n",
    "- 6.　3~5までの手順の繰り返し計算と、cell情報（温度・水分・物性値）および境界条件の修正\n",
    "- 7.　計算結果の出力  \n",
    "\n",
    "以下では本プログラムの独自システムである\"core_system.ipynb\"を用いたこれらの手順について説明する。  \n",
    "（具体的な利用方法は\"calculation_module.ipynb\"を参照のこと。）"
   ]
  },
  {
   "cell_type": "markdown",
   "metadata": {},
   "source": [
    "### 4.1 壁（計算対象）の分割と初期温度・湿度条件、材料物性値の指定\n",
    "\n",
    "\"core_system.ipynb\"の基本理念は、「材料の状態量や物性値を“位置”を基準として取得できるようにすること」である。  \n",
    "例えば、fortranでは温度を位置の関数（配列）として温度T(x)と定義する。相対湿度や物性値に関しても同様である（rh(x)やlam(x)など）。  \n",
    "しかしながら、これらの状態量や物性値は相互に影響を及ぼし合うため、一般に互いの引数として関数化される（lam(x, T, rh)など）。  \n",
    "core_systemはこの問題や物性値の計算し忘れなどの人為的エラーを解消するためのシステムであり、位置と状態量、物性値をクラス型を用い、ある位置におけるセルcell(x)という形でまとめている（以下cellクラスと呼ぶ）。 \n",
    "(module名：Porous_material_based_miu)\n",
    "\n",
    "cellクラスは構造体として以下の定数を持つ。\n",
    "\n",
    "- i：位置（デフォルト値 = 0 ）\n",
    "- dx：幅（必須　デフォルト値無し）\n",
    "- dy：高さ（デフォルト値 = 1.0）\n",
    "- dz：奥行（デフォルト値 = 1.0）\n",
    "- dx2：幅　（デフォルト値 = 0.0）※\n",
    "- dy2：高さ（デフォルト値 = 0.0）\n",
    "- dz2：奥行（デフォルト値 = 0.0）\n",
    "- temp：温度（必須　デフォルト値無し）\n",
    "- miu：水分化学ポテンシャル（デフォルト値 = 0.0）\n",
    "- material_name：材料名（必須　デフォルト値無し　module_material_property内のファイル名から選択）  \n",
    "\n",
    "デフォルト値の設定がない定数に関しては入力が必須であり、初期状態は以下のようにcell_constructionから与える。  \n",
    "※cell_constructionを用いた場合、自動的にdxの半分の値が入力される。"
   ]
  },
  {
   "cell_type": "code",
   "execution_count": 1,
   "metadata": {},
   "outputs": [
    {
     "name": "stderr",
     "output_type": "stream",
     "text": [
      "WARNING: replacing module water_property.\n"
     ]
    },
    {
     "data": {
      "text/plain": [
       "Main.Porous_material_based_miu.Cell(1, 0.001, 1.0, 1.0, 0.0005, 0.5, 0.5, 293.15, -1359.9613968447518, \"bentheimer_sandstone\")"
      ]
     },
     "execution_count": 1,
     "metadata": {},
     "output_type": "execute_result"
    }
   ],
   "source": [
    "include(\"core_system.jl\")\n",
    "test_cell_htu = Porous_material_based_miu.cell_construction( \n",
    "    i = 1, \n",
    "    dx = 0.001, \n",
    "    temp = 293.15, \n",
    "    rh = 0.99, \n",
    "    material_name =  \"bentheimer_sandstone\")"
   ]
  },
  {
   "cell_type": "markdown",
   "metadata": {},
   "source": [
    "なお、miu以外の初期値を利用したい場合、以下の値から換算することも出来る。\n",
    "\n",
    "- rh：相対湿度（miuはデフォルト値のままにしておくこと。mu=RTlogRHから換算される。）\n",
    "- phi：含水率（miuはデフォルト値のままにしておくこと。材料名に応じた平衡含水率関係から逆算される。）  \n",
    "\n",
    "また、cellクラスはこれらの定数から熱水分同時移動に必要なあらゆる状態量・物性値を算出可能であり、例えば水分拡散係数を求めたい場合以下のように算出できる。"
   ]
  },
  {
   "cell_type": "code",
   "execution_count": 2,
   "metadata": {},
   "outputs": [
    {
     "data": {
      "text/plain": [
       "1.447770856656244e-10"
      ]
     },
     "execution_count": 2,
     "metadata": {},
     "output_type": "execute_result"
    }
   ],
   "source": [
    "Porous_material_based_miu.ldml(c_para_test)"
   ]
  },
  {
   "cell_type": "markdown",
   "metadata": {},
   "source": [
    "なお、出力可能な状態量・物性値は以下に示す通りである。  \n",
    "\n",
    "#### 差分情報\n",
    "- i：位置\n",
    "- dx：セルの幅\n",
    "- dx2：セルの質点から（右）端までの距離\n",
    "\n",
    "#### 熱水分状態量\n",
    "- temp：温度[K]\n",
    "- miu：水分化学ポテンシャル\n",
    "- rh：相対湿度[-]\n",
    "- pv：水蒸気圧[Pa]\n",
    "- phi：含水率[m3/m3]\n",
    "- dphi：含水率の水分化学ポテンシャル微分\n",
    "\n",
    "#### 材料熱物性値\n",
    "- psi：空隙率[-]\n",
    "- C：比熱\n",
    "- row：密度\n",
    "- crow：熱容量（水の熱容量も含む）\n",
    "\n",
    "#### 移動係数\n",
    "- lam：熱伝導率\n",
    "- dw：透水係数（含水率勾配に対する液相水分伝導率）\n",
    "- dp：透湿率（水蒸気圧勾配に対する気相水分伝導率）\n",
    "- ldml：液水の水分拡散係数（水分化学ポテンシャル勾配に対する液相水分伝導率）\n",
    "- ldmg：水蒸気の水分化学ポテンシャル勾配水分拡散係数（水分化学ポテンシャル勾配に対する気相水分伝導率）\n",
    "- ldtg：水蒸気の温度勾配水分拡散係数（温度勾配に対する気相水分伝導率）"
   ]
  },
  {
   "cell_type": "markdown",
   "metadata": {},
   "source": [
    "上述のようにcell_constructionを用いて壁（計算対象）を構築しても良いが、境界における質点間の距離などの計算がやや面倒となる。  \n",
    "そのため、位置(i)とcell幅(dx)の代わりに、壁の厚さ(len)と分割数(partitions)を用いて壁（計算対象）を構築するwall_constructionの方が実用上便利である。  \n",
    "\n",
    "なお、以下の点に留意すべきである。  \n",
    "\n",
    "※１　壁は分割数に応じて等分されるが、境界のみcellの幅は半分となる（ cell[1].dx = cell[2].dx / 2 である ）。  \n",
    "※２　計算境界の質点は壁表面に置かれる（境界面ではdx=dx2である）。  \n",
    "※２　境界のcellの幅は他の部分の半分となるため、壁の分割数は1つ多目に設定すべし（例：3mmの壁は3ではなく4で分割すること）。"
   ]
  },
  {
   "cell_type": "code",
   "execution_count": 3,
   "metadata": {},
   "outputs": [
    {
     "data": {
      "text/plain": [
       "5-element Array{Main.Porous_material_based_miu.Cell,1}:\n",
       " Main.Porous_material_based_miu.Cell(0, 0.125, 1.0, 1.0, 0.125, 0.5, 0.5, 293.15, -48263.477166233206, \"benchmark_EN15026\")\n",
       " Main.Porous_material_based_miu.Cell(0, 0.25, 1.0, 1.0, 0.125, 0.5, 0.5, 293.15, -48263.477166233206, \"benchmark_EN15026\")\n",
       " Main.Porous_material_based_miu.Cell(0, 0.25, 1.0, 1.0, 0.125, 0.5, 0.5, 293.15, -48263.477166233206, \"benchmark_EN15026\")\n",
       " Main.Porous_material_based_miu.Cell(0, 0.25, 1.0, 1.0, 0.125, 0.5, 0.5, 293.15, -48263.477166233206, \"benchmark_EN15026\")\n",
       " Main.Porous_material_based_miu.Cell(0, 0.125, 1.0, 1.0, 0.125, 0.5, 0.5, 293.15, -48263.477166233206, \"benchmark_EN15026\")"
      ]
     },
     "execution_count": 3,
     "metadata": {},
     "output_type": "execute_result"
    }
   ],
   "source": [
    "# 使用例\n",
    "test_wall_htu = Porous_material_based_miu.wall_construction( \n",
    "    len = 1.0, \n",
    "    partitions=5, \n",
    "    temp_init = 20.0+273.15, \n",
    "    rh_init=0.7, \n",
    "    material_name = \"benchmark_EN15026\" )"
   ]
  },
  {
   "cell_type": "markdown",
   "metadata": {},
   "source": [
    "</br>\n",
    "\n",
    "### 4.2 計算領域境界の条件の設定  \n",
    "\n",
    "計算領域の境界では、第一種～第三種までの境界条件が設定される。  \n",
    "ここでは第一種および第二種境界条件は割愛し、第三種境界条件（空気との対流および放射によるやり取り）について説明する。  \n",
    "\n",
    "第三種境界条件による熱や湿気の移動を考える場合、4.1のcellクラスと類似のAirクラスを用いると便利である。  \n",
    "（Airクラスは\"core_system\"内のmodule\"Air_based_RH\"を指す）\n",
    "\n",
    "Airクラスはcellクラスとは異なり、構造体として以下の定数を有する。\n",
    "\n",
    "- name：名称（デフォルト値 = \"No Name\" ）\n",
    "- vol：体積（デフォルト値 = 1.0）\n",
    "- temp：温度（必須　デフォルト値無し）\n",
    "- miu：水分化学ポテンシャル（デフォルト値 = 0.0）\n",
    "- alpha：総合熱伝達率（デフォルト値 = 対流+放射熱伝達率）\n",
    "- alphac：対流熱伝達率（デフォルト値 = 4.9）　⇒　対流熱伝達率の値を変えたい場合ここで入力\n",
    "- alphar：放射熱伝達率（デフォルト値 = 4.4）　⇒　放射熱伝達率の値を変えたい場合ここで入力\n",
    "- aldm：湿気伝達率（デフォルト値 = Lewis関係に基づく対流熱伝達率からの換算値）\n",
    "\n",
    "cellクラス同様、初期状態は以下のようにair_constructionから与える。  \n",
    "※miuの代わりにrhから初期状態を入力することも可能である。"
   ]
  },
  {
   "cell_type": "code",
   "execution_count": 4,
   "metadata": {},
   "outputs": [
    {
     "data": {
      "text/plain": [
       "Main.Air_based_RH.Air(\"室内\", 1.0, 283.15, 0.7, 27.4, 23.0, 4.4, 1.5737642053776505e-7)"
      ]
     },
     "execution_count": 4,
     "metadata": {},
     "output_type": "execute_result"
    }
   ],
   "source": [
    "test_air_htu = Air_based_RH.air_construction( \n",
    "    name = \"室内\", \n",
    "    temp = 10.0 + 273.15, \n",
    "    rh = 0.7,\n",
    "    alphac = 23.0 )"
   ]
  },
  {
   "cell_type": "markdown",
   "metadata": {},
   "source": [
    "なお、出力可能な状態量・物性値は以下に示す通りである。  \n",
    "\n",
    "#### 構造体パラメーター\n",
    "- i：名称\n",
    "- vol：体積\n",
    "\n",
    "#### 熱水分状態量\n",
    "- temp：温度\n",
    "- rh：相対湿度\n",
    "- miu：水分化学ポテンシャル\n",
    "- pv：水蒸気圧\n",
    "\n",
    "#### 移動係数\n",
    "- alpha：総合熱伝達率（対流熱伝達率と放射熱伝達率の和で表される）\n",
    "- aldm：湿気伝達率\n",
    "- aldm_by_alphac：湿気伝達率（Lewis関係からの算出）"
   ]
  },
  {
   "cell_type": "code",
   "execution_count": 5,
   "metadata": {},
   "outputs": [
    {
     "data": {
      "text/plain": [
       "27.4"
      ]
     },
     "execution_count": 5,
     "metadata": {},
     "output_type": "execute_result"
    }
   ],
   "source": [
    "Air_based_RH.alpha(test_air_htu)"
   ]
  },
  {
   "cell_type": "code",
   "execution_count": null,
   "metadata": {},
   "outputs": [],
   "source": []
  },
  {
   "cell_type": "code",
   "execution_count": null,
   "metadata": {},
   "outputs": [],
   "source": []
  },
  {
   "cell_type": "code",
   "execution_count": null,
   "metadata": {},
   "outputs": [],
   "source": []
  },
  {
   "cell_type": "markdown",
   "metadata": {},
   "source": [
    "下記は移動させただけなので参考程度に利用すること"
   ]
  },
  {
   "cell_type": "code",
   "execution_count": 6,
   "metadata": {},
   "outputs": [
    {
     "data": {
      "text/plain": [
       "time_test (generic function with 1 method)"
      ]
     },
     "execution_count": 6,
     "metadata": {},
     "output_type": "execute_result"
    }
   ],
   "source": [
    "function time_test( cycle, wall, air_out, air_in, dt )\n",
    "    for i = 1:cycle\n",
    "        new_value = cal_new_temp_miu_neumann( wall, air_out, air_in, dt)\n",
    "        for i = 1:length(wall)\n",
    "            wall[i].temp = new_value[1][i]\n",
    "            wall[i].miu  = new_value[2][i]\n",
    "        end\n",
    "    end\n",
    "end"
   ]
  },
  {
   "cell_type": "markdown",
   "metadata": {},
   "source": [
    "pythonでの計算結果は約15秒ほど"
   ]
  },
  {
   "cell_type": "code",
   "execution_count": 9,
   "metadata": {},
   "outputs": [],
   "source": [
    "using BenchmarkTools\n",
    "#@benchmark time_test( 1200, wall, air_out, air_in, dt )"
   ]
  },
  {
   "cell_type": "code",
   "execution_count": 10,
   "metadata": {},
   "outputs": [
    {
     "data": {
      "text/plain": [
       "187.5"
      ]
     },
     "execution_count": 10,
     "metadata": {},
     "output_type": "execute_result"
    }
   ],
   "source": [
    "15/0.08"
   ]
  },
  {
   "cell_type": "markdown",
   "metadata": {},
   "source": [
    "pythonに比べ、約187倍高速化出来たという結果。"
   ]
  },
  {
   "cell_type": "markdown",
   "metadata": {},
   "source": [
    "## 5.「精度検証」Accuracy validation"
   ]
  },
  {
   "cell_type": "markdown",
   "metadata": {},
   "source": [
    "精度検証にはWUFIと同様欧州規格である  \n",
    "EN15026「Hygrothermal performance of building components and building elements–Assessment of moisture transfer by numerical simulation」  \n",
    "をもとに精度検証を行った。  \n",
    "\n",
    "本規格では、初期状態で温度20℃、相対湿度50%の状態にある均一の半永久的に伸びている材料を想定する。  \n",
    "この材料に対し、計算開始と同時に環境条件を温度30℃、相対湿度95%に変化させた場合の熱と湿気の移動挙動を試験するものである。  \n",
    "ベンチマークテストではシミュレーションによって得られる7日後、30日後、365日後の材料内部の温度および含水率の分布を評価し、これが基準値に比べ2,5%以上外れないようにすることとする。  \n",
    "\n",
    "計算条件はWUFIの計算条件と同様にした。 \n",
    "http://www.wufi.jp/wp-content/uploads/2014/02/EN15026_Japanese.pdf  \n",
    "\n",
    "この計算はプログラムファイルの「Benchmark_test_EN15026」にて行っている。  \n",
    "以下に計算結果を示す。  \n",
    "※なお含水率の365日目、深さ0.04mの点が理論値から外れているが、これはもととなったEN15026の規格の誤記であると考えられる(この点のみ含水率変動の許容幅が極めて小さくなっている。"
   ]
  },
  {
   "attachments": {
    "17f0ee3b-501a-42aa-9e75-2af0edbeb051.png": {
     "image/png": "[encoded data removed]"
    },
    "453c02bd-7b8f-41cd-9157-0f3918434231.png": {
     "image/png": "[encoded data removed]"
    }
   },
   "cell_type": "markdown",
   "metadata": {},
   "source": [
    "## 温度\n",
    "![validation_temp.png](attachment:17f0ee3b-501a-42aa-9e75-2af0edbeb051.png)  \n",
    "## 含水率\n",
    "![validation_moisture_content.png](attachment:453c02bd-7b8f-41cd-9157-0f3918434231.png)  \n",
    "\n",
    "</br>"
   ]
  },
  {
   "cell_type": "markdown",
   "metadata": {},
   "source": [
    "## 6.「著作権」Lisence"
   ]
  },
  {
   "cell_type": "code",
   "execution_count": null,
   "metadata": {},
   "outputs": [],
   "source": []
  }
 ],
 "metadata": {
  "kernelspec": {
   "display_name": "Julia 1.4.2",
   "language": "julia",
   "name": "julia-1.4"
  },
  "language_info": {
   "file_extension": ".jl",
   "mimetype": "application/julia",
   "name": "julia",
   "version": "1.4.2"
  }
 },
 "nbformat": 4,
 "nbformat_minor": 4
}
