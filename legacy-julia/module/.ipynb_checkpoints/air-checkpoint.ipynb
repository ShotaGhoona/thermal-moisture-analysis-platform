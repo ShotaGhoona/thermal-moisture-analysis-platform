{
 "cells": [
  {
   "cell_type": "markdown",
   "id": "de95416a-8cef-4333-a711-205e9545a2f3",
   "metadata": {},
   "source": [
    "\n",
    "# 1. Airモジュール  \n",
    "\n",
    "【概要】  \n",
    "空気の状態量を保持するためのモジュールである。  \n",
    "基本構造はCellモジュールと同様のため、cell.ipynbファイルを参考にすること。"
   ]
  },
  {
   "cell_type": "code",
   "execution_count": null,
   "id": "da6b308d-7ca1-4efa-9a01-d0f460c236e1",
   "metadata": {},
   "outputs": [],
   "source": [
    "include(\"./module_function/vapour.jl\")\n",
    "include(\"./module_function/lewis_relation.jl\")"
   ]
  },
  {
   "cell_type": "markdown",
   "id": "cd1ac91d-5139-4340-bbc0-6f4e1552ea0b",
   "metadata": {},
   "source": [
    "## 2. 構造体：Air\n",
    "\n",
    "コンストラクタ(データの型)：\n",
    "- name：名称(String)\n",
    "- vol：体積(Float64)\n",
    "- temp：温度(Float64)\n",
    "- rh：相対湿度(Float64)\n",
    "- alpha：総合熱伝達率(Float64)\n",
    "- alphac：対流熱伝達率(Float64)\n",
    "- alphar：放射熱伝達率(Float64)\n",
    "- aldm：湿気伝達率(Float64)"
   ]
  },
  {
   "cell_type": "code",
   "execution_count": 2,
   "id": "80f5faa6-f4fb-4c7c-8330-d98bcb47f3b4",
   "metadata": {},
   "outputs": [],
   "source": [
    "mutable struct Air\n",
    "    name::String  #= 名称  =#\n",
    "    vol::Float64  #= 体積  =#\n",
    "    temp::Float64\n",
    "    rh::Float64\n",
    "    alpha::Float64\n",
    "    alphac::Float64\n",
    "    alphar::Float64\n",
    "    aldm::Float64\n",
    "    Air() = new()\n",
    "end "
   ]
  },
  {
   "cell_type": "markdown",
   "id": "b8077210-44e6-467e-b1c1-99a4ba2f975b",
   "metadata": {},
   "source": [
    "\n",
    "## 2.2 Air構造体を用いた状態量・物性値を取得する関数：\n",
    "#### 構造体パラメーター\n",
    "- name(Air) : （対象とする空間などの）名称\n",
    "- vol(Air)  : 空間の体積\n",
    "\n",
    "#### 熱水分状態量\n",
    "- temp(Cell): 温度\n",
    "- rh(Cell)  : 相対湿度\n",
    "- miu(Cell) : 水分化学ポテンシャル（温度・相対湿度から換算）\n",
    "- pv(Cell)  : 水蒸気圧（温度・相対湿度から換算）\n",
    "\n",
    "#### 移動係数\n",
    "- alpha(Cell) : 熱伝達率（対流＋総合の和として計算）\n",
    "- aldm(Cell)  : 湿気伝達率\n",
    "- aldt(Cell)  : 温度勾配に対する気相水分伝導率（aldmから換算）\n",
    "- aldmu(Cell) : 水分化学ポテンシャル勾配に対する気相水分伝導率（aldmから換算）\n",
    "- aldm_by_alphac(Cell): Lewis関係を用いた湿気伝達率（対流熱伝達率から換算）\n"
   ]
  },
  {
   "cell_type": "code",
   "execution_count": 3,
   "id": "aab4706d-28e5-4ffa-a2dc-4df1bff7f509",
   "metadata": {},
   "outputs": [
    {
     "data": {
      "text/plain": [
       "aldm_by_alphac (generic function with 1 method)"
      ]
     },
     "execution_count": 3,
     "metadata": {},
     "output_type": "execute_result"
    }
   ],
   "source": [
    "# 構造体パラメーター\n",
    "name(state::Air)= state.name\n",
    "vol(state::Air)= state.vol\n",
    "\n",
    "# 熱水分状態量\n",
    "temp(state::Air)= state.temp\n",
    "rh(state::Air) = state.rh\n",
    "miu(state::Air) = convertRH2Miu( temp = state.temp, rh = state.rh )\n",
    "pv(state::Air)  = convertRH2Pv( temp = state.temp, rh = state.rh )\n",
    "\n",
    "# 移動係数\n",
    "alpha(state::Air) = state.alphac + state.alphar\n",
    "aldm(state::Air)  = state.aldm\n",
    "aldt(state::Air)  = aldm(state) * cal_DPvDT( temp = state.temp, miu = miu(state) )\n",
    "aldmu(state::Air) = aldm(state) * cal_DPvDMiu( temp = state.temp, miu = miu(state) )\n",
    "aldm_by_alphac(state::Air) = Lewis_relation.cal_aldm( alpha = state.alphac , temp = state.temp )"
   ]
  },
  {
   "cell_type": "markdown",
   "id": "27e4c382-ad54-497d-8eff-2a24fc39db6b",
   "metadata": {},
   "source": [
    "## 2.3 Air構造体を構築する関数\n",
    "\n",
    "Air構造体を構築するための便利な関数として以下の関数を用意した。  \n",
    "\n",
    "関数名：\n",
    "- air_construction\n",
    "        \n",
    "引数（キーワード引数）：\n",
    "- name：名前（デフォルト値 = \"No Name\" ）\n",
    "- vol：体積（デフォルト値 = 1.0 ）\n",
    "- temp：温度（必須）\n",
    "- rh:相対湿度（デフォルト値 = 0.0 ） \n",
    "- miu：水分化学ポテンシャル（デフォルト値 = 0.0 ⇒ miuを指定する場合rhは何も指定しないこと）\n",
    "- alphac: 対流熱伝達率（デフォルト値 = 4.9 )\n",
    "- alphar: 放射熱伝達率（デフォルト値 = 4.4 )\n",
    "- aldm: 湿気伝達率（デフォルト値 = 0.0 ⇒ 未入力あるいはaldm=0.0の場合自動でLewis関係から算出する)\n",
    "\n",
    "戻り値：\n",
    "- 構造体Air_based_RH.Air（Air構造体）"
   ]
  },
  {
   "cell_type": "code",
   "execution_count": 8,
   "id": "d27a46a5-74f5-4e25-b580-f9818eabf048",
   "metadata": {},
   "outputs": [
    {
     "data": {
      "text/plain": [
       "Main.Air_based_RH"
      ]
     },
     "execution_count": 8,
     "metadata": {},
     "output_type": "execute_result"
    }
   ],
   "source": [
    "function air_construction(; name::String = \"No Name\", \n",
    "        vol::Float64 = 1.0, temp::Float64, miu::Float64 = 0.0, rh::Float64 = 0.0, \n",
    "        alphac::Float64 = 4.9, alphar::Float64 = 4.4, aldm::Float64 = 0.0 )\n",
    "    air = Air_based_RH.Air()\n",
    "    air.name  = name\n",
    "    air.vol = vol\n",
    "    air.temp= temp\n",
    "    air.alpha = alphac + alphar # 総合熱伝達率\n",
    "    air.alphac= alphac # 対流熱伝達率\n",
    "    air.alphar= alphar # 放射熱伝達率\n",
    "    \n",
    "    # 湿気伝達率\n",
    "    if aldm == 0.0\n",
    "        air.aldm = aldm_by_alphac(air)\n",
    "    else\n",
    "        air.aldm = aldm\n",
    "    end\n",
    "    \n",
    "    if miu == 0.0\n",
    "        air.rh = rh\n",
    "    else\n",
    "        air.rh = convertMiu2RH( temp = temp, miu = miu )\n",
    "    end\n",
    "    return air\n",
    "end"
   ]
  },
  {
   "cell_type": "markdown",
   "id": "ff842ae5-ab69-44f6-88c4-542f4e267f25",
   "metadata": {},
   "source": [
    "### 使用例"
   ]
  },
  {
   "cell_type": "code",
   "execution_count": 9,
   "id": "a8c1cdf5-a81a-49a5-8f14-89f69f1b888d",
   "metadata": {},
   "outputs": [
    {
     "data": {
      "text/plain": [
       "Main.Air_based_RH.Air(\"No Name\", 1.0, 313.15, 0.0, 9.3, 4.9, 4.4, 3.0316011083563796e-8)"
      ]
     },
     "execution_count": 9,
     "metadata": {},
     "output_type": "execute_result"
    }
   ],
   "source": [
    "#air_test = Air_based_RH.air_construction(temp = 20.0 + 293.15)"
   ]
  },
  {
   "cell_type": "code",
   "execution_count": 10,
   "id": "ad0e1429-ebd3-4916-812b-ff4e9717e016",
   "metadata": {},
   "outputs": [
    {
     "data": {
      "text/plain": [
       "3.0316011083563796e-8"
      ]
     },
     "execution_count": 10,
     "metadata": {},
     "output_type": "execute_result"
    }
   ],
   "source": [
    "#air_test.temp = 300.0\n",
    "#air_test.rh   = 0.65\n",
    "#air_test.alpha= 9.3\n",
    "#air_test.aldm"
   ]
  },
  {
   "cell_type": "code",
   "execution_count": 11,
   "id": "97eeedf1-b44f-4e7f-8768-96f2951f0272",
   "metadata": {},
   "outputs": [
    {
     "data": {
      "text/plain": [
       "4.9"
      ]
     },
     "execution_count": 11,
     "metadata": {},
     "output_type": "execute_result"
    }
   ],
   "source": [
    "#air_test.alphac"
   ]
  }
 ],
 "metadata": {
  "kernelspec": {
   "display_name": "Julia 1.7.3",
   "language": "julia",
   "name": "julia-1.7"
  },
  "language_info": {
   "file_extension": ".jl",
   "mimetype": "application/julia",
   "name": "julia",
   "version": "1.7.3"
  }
 },
 "nbformat": 4,
 "nbformat_minor": 5
}
