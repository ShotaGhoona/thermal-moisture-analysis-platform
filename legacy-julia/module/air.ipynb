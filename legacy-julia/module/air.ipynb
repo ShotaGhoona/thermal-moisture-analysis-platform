{
 "cells": [
  {
   "cell_type": "markdown",
   "id": "b0839903",
   "metadata": {},
   "source": [
    "\n",
    "# 1. Airモジュール  \n",
    "\n",
    "【概要】  \n",
    "空気の状態量を保持するためのモジュールである。  \n",
    "基本構造はCellモジュールと同様のため、cell.ipynbファイルを参考にすること。"
   ]
  },
  {
   "cell_type": "code",
   "execution_count": null,
   "id": "8931c788",
   "metadata": {},
   "outputs": [
    {
     "data": {
      "text/plain": [
       "1.5737642053776505e-7"
      ]
     },
     "execution_count": 1,
     "metadata": {},
     "output_type": "execute_result"
    }
   ],
   "source": [
    "include(\"./function/vapour.jl\")\n",
    "include(\"./function/lewis_relation.jl\")"
   ]
  },
  {
   "cell_type": "markdown",
   "id": "89a97345",
   "metadata": {},
   "source": [
    "## 2. 構造体：Air\n",
    "\n",
    "コンストラクタ(データの型)：\n",
    "- name：名称(String)\n",
    "- vol：体積(Float64)\n",
    "- temp：温度(Float64)\n",
    "- rh：相対湿度(Float64)"
   ]
  },
  {
   "cell_type": "code",
   "execution_count": null,
   "id": "6bb82c0d",
   "metadata": {},
   "outputs": [
    {
     "data": {
      "text/plain": [
       "Air"
      ]
     },
     "execution_count": 2,
     "metadata": {},
     "output_type": "execute_result"
    }
   ],
   "source": [
    "Base.@kwdef mutable struct Air\n",
    "    num::Int       = 0     #= 室番号 =#\n",
    "    name::String   = \"NoName\"  #= 名称  =#\n",
    "    dx::Float64    = 0.0   #= 幅x   =#\n",
    "    dy::Float64    = 0.0   #= 高さy =#\n",
    "    dz::Float64    = 0.0   #= 奥行z =#\n",
    "    vol::Float64   = 0.0   #= 体積  =#\n",
    "    temp::Float64  = 0.0   #= 温度  =#\n",
    "    rh::Float64    = 0.0   #= 相対湿度  =#\n",
    "    pv::Float64    = 0.0   #= 水蒸気圧  =#\n",
    "    ah::Float64    = 0.0   #= 絶対湿度  =#\n",
    "    p_atm::Float64 = 101325.0 #= 空気の全圧（≒大気圧）=# \n",
    "    CO2::Float64   = 0.0   #= CO2濃度  =#\n",
    "    H_in::Float64  = 0.0      #= 発熱源による発熱量 =#\n",
    "    H_wall::Float64 = 0.0     #= 壁体からの熱流量 =#\n",
    "    H_vent::Float64 = 0.0     #= 換気による熱流量 =#\n",
    "    J_in::Float64   = 0.0     #= 発熱源による発湿量 =#\n",
    "    J_wall::Float64 = 0.0     #= 壁体からの水分流量 =#\n",
    "    J_vent::Float64 = 0.0     #= 換気による水分流量 =#\n",
    "end "
   ]
  },
  {
   "cell_type": "markdown",
   "id": "2c597d62",
   "metadata": {},
   "source": [
    "\n",
    "## 2.2 Air構造体を用いた状態量・物性値を取得する関数：\n",
    "#### 構造体パラメーター\n",
    "- name(Air) : （対象とする空間などの）名称\n",
    "- vol(Air)  : 空間の体積\n",
    "\n",
    "#### 熱水分状態量\n",
    "- temp(Cell): 温度\n",
    "- rh(Cell)  : 相対湿度\n",
    "- miu(Cell) : 水分化学ポテンシャル（温度・相対湿度から換算）\n",
    "- pv(Cell)  : 水蒸気圧（温度・相対湿度から換算）"
   ]
  },
  {
   "cell_type": "code",
   "execution_count": null,
   "id": "db3889e7",
   "metadata": {},
   "outputs": [
    {
     "data": {
      "text/plain": [
       "J_vent (generic function with 1 method)"
      ]
     },
     "execution_count": 3,
     "metadata": {},
     "output_type": "execute_result"
    }
   ],
   "source": [
    "# 構造体パラメーター\n",
    "num(state::Air)= state.num\n",
    "name(state::Air)= state.name\n",
    "vol(state::Air)= state.vol\n",
    "material_name(state::Air)= typeof(state)\n",
    "\n",
    "# 熱水分状態量\n",
    "temp(state::Air)= state.temp\n",
    "rh(state::Air) = state.rh\n",
    "miu(state::Air) = convertRH2Miu( temp = state.temp, rh = state.rh )\n",
    "pv(state::Air)  = convertRH2Pv( temp = state.temp, rh = state.rh )\n",
    "ah(state::Air)  = convertPv2AH( patm = state.p_atm, pv = pv(state) )\n",
    "p_atm(state::Air)= state.p_atm\n",
    "\n",
    "# 流入熱量\n",
    "H_in(state::Air)   = state.H_in\n",
    "H_wall(state::Air) = state.H_wall\n",
    "H_vent(state::Air) = state.H_vent\n",
    "J_in(state::Air)   = state.J_in\n",
    "J_wall(state::Air) = state.J_wall\n",
    "J_vent(state::Air) = state.J_vent\n",
    "\n",
    "########################################\n",
    "# 入力用の関数\n",
    "function set_num(air::Air, num::Int) \n",
    "    air.num    = num end\n",
    "function set_name(air::Air, num::String) \n",
    "    air.name   = name end\n",
    "function set_temp(air::Air, temp::Float64) \n",
    "    air.temp   = temp  end\n",
    "function set_rh(air::Air, rh::Float64) \n",
    "    air.rh     = rh    end\n",
    "function set_pv(air::Air, pv::Float64) \n",
    "    air.pv     = pv    end\n",
    "function set_ah(air::Air, ah::Float64) \n",
    "    air.ah     = ah    end\n",
    "function set_p_atm(air::Air, p_atm::Float64) \n",
    "    air.p_atm  = p_atm end\n",
    "function set_H_in(air::Air, H_in::Float64) \n",
    "    air.H_in   = H_in end    \n",
    "function set_H_wall(air::Air, H_wall::Float64) \n",
    "    air.H_wall = H_wall end    \n",
    "function set_H_vent(air::Air, H_vent::Float64) \n",
    "    air.H_vent = H_vent end    \n",
    "function set_J_in(air::Air, J_in::Float64) \n",
    "    air.J_in   = J_in end    \n",
    "function set_J_wall(air::Air, J_wall::Float64) \n",
    "    air.J_wall = J_wall end    \n",
    "function set_J_vent(air::Air, J_vent::Float64) \n",
    "    air.J_vent = J_vent end            \n",
    "\n",
    "########################################\n",
    "# 積算用の関数\n",
    "function add_H_in(air::Air, H_in::Float64) \n",
    "    air.H_in   = air.H_in + H_in end    \n",
    "function add_H_wall(air::Air, H_wall::Float64) \n",
    "    air.H_wall = air.H_wall + H_wall end    \n",
    "function add_H_vent(air::Air, H_vent::Float64) \n",
    "    air.H_vent = air.H_vent + H_vent end    \n",
    "function add_J_in(air::Air, J_in::Float64) \n",
    "    air.J_in   = air.J_in + J_in end    \n",
    "function add_J_wall(air::Air, J_wall::Float64) \n",
    "    air.J_wall = air.J_wall + J_wall end    \n",
    "function add_J_vent(air::Air, J_vent::Float64) \n",
    "    air.J_vent = air.J_vent + J_vent end            "
   ]
  },
  {
   "cell_type": "markdown",
   "id": "19bab1e9",
   "metadata": {},
   "source": [
    "## 3. 熱水分収支式"
   ]
  },
  {
   "cell_type": "markdown",
   "id": "dd3f4f89",
   "metadata": {},
   "source": [
    "### 3.1 一般解"
   ]
  },
  {
   "cell_type": "markdown",
   "id": "343eb846",
   "metadata": {},
   "source": [
    "室内における収支式は、一般に以下のように表される。  \n",
    "\n",
    "熱収支式（１）：\n",
    "$$c_a \\rho_a V \\frac{\\partial T_i}{\\partial t} = -\\Sigma_{k=1}^{m}S_k \\alpha(T_{i} - T_{S_{k}}) -\\Sigma_{j=1}^{n} ( Q_{ij} c_a \\rho_a T_i - Q_{ji} c_a \\rho_a T_j ) + H_i$$\n",
    "\n",
    "水分収支式（２）：\n",
    "$$ \\rho_a V \\frac{\\partial X_i }{\\partial t} = -\\Sigma_{k=1}^{m}S_k \\alpha^{'}(X_{i} - X_{S_{k}}) -\\Sigma_{j=1}^{n} ( Q_{ij} \\rho_a X_i - Q_{ji} \\rho_a X_j ) + H_i^{'}$$\n",
    "\n",
    "これらを単純化すると以下のように記述することができる。\n",
    "\n",
    "熱収支式（１'）：\n",
    "$$c_a \\rho_a V \\frac{\\partial T}{\\partial t} = H_w + H_v + H_i$$\n",
    "\n",
    "水分収支式（２'）：\n",
    "$$\\rho_a V \\frac{\\partial X_i }{\\partial t}  = J_w + J_v + H_i^{'}$$  \n",
    "\n",
    "ここで、  \n",
    "- $H_w, J_w$：壁体との熱・湿気交換  \n",
    "- $H_v, J_v$：換気による熱・湿気交換  \n",
    "- $H_i, J_i^{'}$：発熱量・発湿量"
   ]
  },
  {
   "cell_type": "markdown",
   "id": "25dd1b03",
   "metadata": {},
   "source": [
    "#### 熱収支式（１'）："
   ]
  },
  {
   "cell_type": "code",
   "execution_count": 4,
   "id": "138f0101",
   "metadata": {},
   "outputs": [
    {
     "data": {
      "text/plain": [
       "cal_newtemp (generic function with 1 method)"
      ]
     },
     "execution_count": 4,
     "metadata": {},
     "output_type": "execute_result"
    }
   ],
   "source": [
    "# 基礎式\n",
    "function cal_energy_balance(temp::Float64, ah::Float64, vol::Float64, Hw::Float64, Hv::Float64, Hi::Float64, dt::Float64)\n",
    "    ca = 1005.0 + 1846.0 * ah # 乾き空気＋水蒸気の比熱\n",
    "    rho=  353.25 / temp # ボイルシャルルの法則より\n",
    "    return temp + ( Hw + Hv + Hi ) / ( ca * rho * vol / dt )   \n",
    "end\n",
    "\n",
    "# air構造体を用いた式\n",
    "cal_energy_balance(air::Air, dt::Float64) = cal_energy_balance(temp(air), ah(air), vol(air), H_wall(air), H_vent(air), H_in(air), dt)\n",
    "cal_newtemp(air::Air, dt::Float64) = cal_energy_balance(air, dt)"
   ]
  },
  {
   "cell_type": "markdown",
   "id": "068f70cc",
   "metadata": {},
   "source": [
    "熱収支式（１）の形を用いると以下のような式が考えられる。"
   ]
  },
  {
   "cell_type": "code",
   "execution_count": 10,
   "id": "05148a80",
   "metadata": {},
   "outputs": [],
   "source": [
    "# 2024/1/30加筆中\n",
    "#function cal_energy_balance(air::Air, wall::Array{Wall, 1}, dt::Float64) \n",
    "#    cal_energy_balance(temp(air), ah(air), vol(air), H_wall(air), H_vent(air), H_in(air), dt)\n",
    "#end"
   ]
  },
  {
   "cell_type": "markdown",
   "id": "dee8872b",
   "metadata": {},
   "source": [
    "#### 水分収支式（２'）："
   ]
  },
  {
   "cell_type": "code",
   "execution_count": 11,
   "id": "781438ea",
   "metadata": {},
   "outputs": [
    {
     "data": {
      "text/plain": [
       "cal_newRH (generic function with 1 method)"
      ]
     },
     "execution_count": 11,
     "metadata": {},
     "output_type": "execute_result"
    }
   ],
   "source": [
    "# 基礎式\n",
    "function cal_moisture_balance( temp::Float64, ah::Float64, vol::Float64, Jw::Float64, Jv::Float64, Ji::Float64, dt::Float64)\n",
    "    rho=  353.25 / temp\n",
    "    return ah + ( Jw + Jv + Ji ) / ( rho * vol / dt )   \n",
    "end\n",
    "\n",
    "# air構造体を用いた式\n",
    "cal_moisture_balance(air::Air, dt::Float64) = cal_moisture_balance( temp(air), ah(air), vol(air), J_wall(air), J_vent(air), J_in(air), dt)\n",
    "cal_newRH(air::Air, dt::Float64) = convertAH2RH( temp = temp(air), patm = p_atm(air), ah = cal_moisture_balance(air, dt))"
   ]
  },
  {
   "cell_type": "code",
   "execution_count": 12,
   "id": "88ad3319",
   "metadata": {},
   "outputs": [
    {
     "data": {
      "text/plain": [
       "Air(\"NoName\", 0.0, 0.0, 0.0, 1.0, 293.15, 0.6, 101325.0, 0.0, 0.0, 0.0, 0.0, 0.001, 0.0)"
      ]
     },
     "execution_count": 12,
     "metadata": {},
     "output_type": "execute_result"
    }
   ],
   "source": [
    "test_air = Air(temp = 293.15, rh = 0.6, vol = 1.0, J_wall = 0.001)"
   ]
  },
  {
   "cell_type": "code",
   "execution_count": 13,
   "id": "615d2db3",
   "metadata": {},
   "outputs": [
    {
     "data": {
      "text/plain": [
       "0.6561378416360885"
      ]
     },
     "execution_count": 13,
     "metadata": {},
     "output_type": "execute_result"
    }
   ],
   "source": [
    "cal_newRH(test_air, 1.0)"
   ]
  },
  {
   "cell_type": "code",
   "execution_count": null,
   "id": "4bc0e367",
   "metadata": {},
   "outputs": [],
   "source": []
  }
 ],
 "metadata": {
  "kernelspec": {
   "display_name": "Julia 1.6.7",
   "language": "julia",
   "name": "julia-1.6"
  },
  "language_info": {
   "file_extension": ".jl",
   "mimetype": "application/julia",
   "name": "julia",
   "version": "1.6.7"
  }
 },
 "nbformat": 4,
 "nbformat_minor": 5
}
