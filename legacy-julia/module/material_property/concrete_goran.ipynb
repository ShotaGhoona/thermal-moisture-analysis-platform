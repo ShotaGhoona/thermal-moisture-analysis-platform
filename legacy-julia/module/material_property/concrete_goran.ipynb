{
 "cells": [
  {
   "cell_type": "markdown",
   "metadata": {
    "vscode": {
     "languageId": "plaintext"
    }
   },
   "source": [
    "### Goranの測定したConcrete（コンクリート）の物性値  \n",
    "参考：Goran?  \n",
    "建築材料の熱・空気・湿気物性値"
   ]
  },
  {
   "cell_type": "code",
   "execution_count": null,
   "metadata": {},
   "outputs": [
    {
     "name": "stderr",
     "output_type": "stream",
     "text": [
      "WARNING: replacing module concrete_goran.\n"
     ]
    },
    {
     "data": {
      "text/plain": [
       "Main.concrete_goran"
      ]
     },
     "metadata": {},
     "output_type": "display_data"
    }
   ],
   "source": [
    "module concrete_goran\n",
    "\n",
    "# 空隙率\n",
    "const psi = 0.392 # おおよその値\n",
    "\n",
    "# 材料密度\n",
    "const row = 2303.2 #kg/m3\n",
    "\n",
    "# 比熱\n",
    "const C = 1100.0 #J/kg\n",
    "\n",
    "# 水の密度\n",
    "const roww = 1000.0 #kg/m3\n",
    "#理想気体定数\n",
    "const R = 8.314 # J/(mol K)\n",
    "# 水のモル質量\n",
    "const Mw = 0.018 # kg/mol\n",
    "# 水蒸気のガス定数\n",
    "Rv = R / Mw # J/(kg K)\n",
    "# 水の熱容量\n",
    "const croww = 1000.0 * 4.18605e+3\n",
    "\n",
    "# miu ⇒　rh の変換係数\n",
    "function convertMiu2RH( ;temp::Float64, miu::Float64 );\n",
    "    return exp( miu / Rv / temp )\n",
    "end\n",
    "\n",
    "# 熱容量\n",
    "get_crow( ;phi::Float64 ) = C * row + croww * phi\n",
    "get_crow( cell ) = get_crow( phi = get_phi( cell ) )\n",
    "\n",
    "### 水分特性 ###\n",
    "# 含水率\n",
    "function get_phi( ;miu::Float64 )\n",
    "    if miu > - 1.0e-3\n",
    "        phi = 0.24120 * miu + 0.159720\n",
    "    elseif log10( -miu ) < 3.7680\n",
    "        phi = 0.16390 + 0.035180 / ( log10( -miu ) - 4.95930 )\n",
    "    elseif log10( -miu ) < 5.2980\n",
    "        phi = -3.0654540 + 2.2674670 * log10( -miu ) - \n",
    "        5.208352e-1 * log10( -miu ) ^ 2.0 + 3.833344e-2 * log10( -miu ) ^ 3.0\n",
    "    elseif log10( -miu ) < 10.16940\n",
    "        phi = -0.00980 + 0.063950 / ( log10( -miu ) - 3.64410 )\n",
    "    else\n",
    "        phi = 0.0\n",
    "    end\n",
    "    return phi\n",
    "end\n",
    "\n",
    "get_phi( cell ) = get_phi( miu = cell.miu )\n",
    "\n",
    "# dphi/dmiu = dphi/drh * drh/dmiu\n",
    "function get_dphi( ;temp::Float64, miu::Float64 )\n",
    "    if   miu > -1.0e-3\n",
    "        dphi = 0.24120\n",
    "    elseif log10( -miu ) < 3.7680\n",
    "        dphi = -0.035180 / ( log10( -miu ) - 4.95930 ) / \n",
    "            ( log10( -miu ) - 4.95930 ) / miu / log( 10.0 )\n",
    "    elseif log10( -miu ) < 5.2980\n",
    "        dphi = ( 2.2674670 - 1.04167040 * log10( -miu ) + \n",
    "            1.1500032e-1 * log10( -miu ) ^ 2.0) / miu / log( 10.0 )\n",
    "    elseif log10( -miu ) < 10.16940\n",
    "        dphi = -0.063950 / ( log10( -miu ) -3.64410 ) / \n",
    "            ( log10( -miu ) - 3.64410 ) / miu / log( 10.0 )\n",
    "    else\n",
    "        dphi = 0.0\n",
    "    end\n",
    "    return dphi\n",
    "end\n",
    "get_dphi( cell ) = get_dphi( temp = cell.temp, miu = cell.miu )\n",
    "\n",
    "# 含水率から水分化学ポテンシャルの算出\n",
    "function get_miu_by_phi( ;temp::Float64, phi::Float64 )\n",
    "    PHI1 = 0.159470\n",
    "    PHI0 = 0.13430\n",
    "      \n",
    "    if phi > PHI1\n",
    "        miu = - 1.0e-3\n",
    "    elseif PHI1 >= phi && phi >= PHI0\n",
    "        miu = ( -1.0 ) * 10.0 ^ ( 4.95930 + 0.035180 / ( phi - 0.16390 ) )\n",
    "    else\n",
    "        miu = ( -1.0 ) * 10.0 ^ ( 3.7680 )\n",
    "    end\n",
    "    return miu\n",
    "end\n",
    "get_miu_by_phi( cell ) = get_miu_by_phi( temp = cell.temp, phi = get_phi( cell ) )\n",
    "\n",
    "### 移動特性 ###\n",
    "# 熱伝導率\n",
    "const lam = 1.3\n",
    "\n",
    "# 湿気依存\n",
    "get_lam( ;phi::Float64 ) = lam + 3.5 * phi\n",
    "get_lam( cell ) = get_lam( phi = get_phi( cell ) )\n",
    "\n",
    "\n",
    "# 水分移動\n",
    "# 液水\n",
    "# 水分化学ポテンシャル勾配に対する液相水分伝導率\n",
    "function get_ldml( ;phi::Float64 )\n",
    "    return exp( - 75.102120 + 350.0070 * phi )\n",
    "end\n",
    "get_ldml( cell ) = get_ldml( phi = get_phi( cell ) )\n",
    "\n",
    "# 水蒸気\n",
    "function cal_Pvs( temp )\n",
    "    return exp( -5800.22060 / temp + 1.3914993 - 4.8640239E-2 * temp + 4.1764768E-5 * (temp ^ 2.0) - 1.4452093E-8 * (temp ^ 3.0) + 6.5459673 * log(temp) )\n",
    "end\n",
    "function cal_DPvs( temp )\n",
    "    DP = 10.795740 * 273.160 / temp / temp - 5.0280 / temp / log(10.0) + \n",
    "    ( 1.50475E-4 ) * 8.2969 / 273.16 * log(10.0)* \n",
    "    ( 10.0 ^ ( -8.29690 * ( temp / 273.160 - 1.0 ) ) ) + \n",
    "    ( 0.42873E-3 ) * 4.769550 * 273.160 / temp / temp * log(10.0) * \n",
    "    ( 10.0 ^ ( 4.769550 * ( 1.0 - 273.160 / temp ) ) )\n",
    "    return cal_Pvs(temp) * DP * log(10.0)\n",
    "end\n",
    "# 水分化学ポテンシャル勾配に対する気相水分伝導率\n",
    "function get_ldmg( ;temp::Float64, miu::Float64, phi::Float64 ) \n",
    "    LDTG = get_ldtg( temp = temp, phi = phi  )\n",
    "    dpvs = cal_DPvs( temp )\n",
    "    pvs  = cal_Pvs( temp )\n",
    "    return LDTG / ( Rv * temp * dpvs / pvs - miu / temp )\n",
    "end\n",
    "get_ldmg( cell ) = get_ldmg( temp = cell.temp, miu = cell.miu, phi = get_phi( cell ) )\n",
    "\n",
    "function get_ldtg( ;temp::Float64, phi::Float64 )\n",
    "    DPVS  = cal_DPvs( temp )\n",
    "    DPVSS = cal_DPvs( 293.16 )\n",
    "    if   phi < 0.0000010\n",
    "        LDTG  = 0.0\n",
    "    elseif phi < 0.032964\n",
    "        FTLDT = -9.87290 - 0.0101010 / phi\n",
    "    elseif phi < 0.1278\n",
    "        FTLDT = -10.489310 + 10.38831 * phi - 56.457320 * phi ^ 2.0 + 806.5875 * phi ^ 3.0\n",
    "    else\n",
    "        FTLDT = - 8063.50 * ( phi - 0.1300 ) ^ 2.0 - 8.3610\n",
    "    end\n",
    "\n",
    "    if phi < 0.00001\n",
    "        LDTG=0.0\n",
    "    else\n",
    "        FTLDT  = FTLDT\n",
    "        LDTG = 10.0 ^ FTLDT * DPVS / DPVSS\n",
    "    end\n",
    "    return LDTG\n",
    "end\n",
    "get_ldtg( cell ) = get_ldtg( ;temp = cell.temp, phi = get_phi(cell) )\n",
    "\n",
    "end"
   ]
  },
  {
   "cell_type": "code",
   "execution_count": 2,
   "metadata": {},
   "outputs": [],
   "source": [
    "mutable struct sample_cell\n",
    "    temp::Float64\n",
    "    miu::Float64\n",
    "end"
   ]
  },
  {
   "cell_type": "code",
   "execution_count": 3,
   "metadata": {},
   "outputs": [
    {
     "data": {
      "text/plain": [
       "sample_cell(293.15, -1000.0)"
      ]
     },
     "metadata": {},
     "output_type": "display_data"
    }
   ],
   "source": [
    "test_cell = sample_cell( 293.15, -1000.0 )"
   ]
  },
  {
   "cell_type": "code",
   "execution_count": 9,
   "metadata": {},
   "outputs": [
    {
     "name": "stdout",
     "output_type": "stream",
     "text": [
      "0.14594460776808044\n",
      "3.979955987715604e-6\n",
      "-999.9999999999969\n",
      "1.8108061271882816\n",
      "3.698585147740803e-11\n",
      "4.623716575864406e-15\n",
      "3.8795092931773286e-11\n"
     ]
    }
   ],
   "source": [
    "module_name = :concrete_goran\n",
    "println(getfield(Main, module_name).get_phi(test_cell))\n",
    "println(getfield(Main, module_name).get_dphi(test_cell))\n",
    "println(getfield(Main, module_name).get_miu_by_phi(test_cell))\n",
    "println(getfield(Main, module_name).get_lam(test_cell))\n",
    "println(getfield(Main, module_name).get_ldml(test_cell))\n",
    "println(getfield(Main, module_name).get_ldmg(test_cell))\n",
    "println(getfield(Main, module_name).get_ldtg(test_cell))"
   ]
  },
  {
   "cell_type": "code",
   "execution_count": 6,
   "metadata": {},
   "outputs": [],
   "source": []
  }
 ],
 "metadata": {
  "kernelspec": {
   "display_name": "Julia 1.11.0",
   "language": "julia",
   "name": "julia-1.11"
  },
  "language_info": {
   "file_extension": ".jl",
   "mimetype": "application/julia",
   "name": "julia",
   "version": "1.11.0"
  }
 },
 "nbformat": 4,
 "nbformat_minor": 2
}
