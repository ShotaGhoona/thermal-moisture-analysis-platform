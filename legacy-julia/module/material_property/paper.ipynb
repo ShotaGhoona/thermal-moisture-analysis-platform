{
 "cells": [
  {
   "cell_type": "code",
   "execution_count": 1,
   "id": "1694ae45-a5e7-4e5b-8869-842ffc41c645",
   "metadata": {},
   "outputs": [
    {
     "data": {
      "text/plain": [
       "Main.paper"
      ]
     },
     "execution_count": 1,
     "metadata": {},
     "output_type": "execute_result"
    }
   ],
   "source": [
    "module paper\n",
    "\n",
    "# 空隙率\n",
    "const psi = 0.6\n",
    "\n",
    "# 材料密度\n",
    "const row = 600.0 #kg/m3 \n",
    "\n",
    "# 比熱\n",
    "const C = 1300.0 #J/kg \n",
    "\n",
    "# 水の密度\n",
    "const roww = 1000.0 #kg/m3\n",
    "#理想気体定数\n",
    "const R = 8.314 # J/(mol K)\n",
    "# 水のモル質量\n",
    "const Mw = 0.018 # kg/mol\n",
    "# 水蒸気のガス定数\n",
    "Rv = R / Mw # J/(kg K)\n",
    "# 水の熱容量\n",
    "const croww = 1000.0 * 4.18605e+3\n",
    "\n",
    "# miu ⇒　rh の変換係数\n",
    "function convertMiu2RH( ;temp::Float64, miu::Float64 );\n",
    "    return exp( miu / Rv / temp )\n",
    "end\n",
    "\n",
    "# 熱容量\n",
    "get_crow( ;phi::Float64 ) = C * row + croww * phi\n",
    "get_crow( cell ) = get_crow( phi = get_phi( cell ) )\n",
    "\n",
    "### 水分特性 ###\n",
    "\n",
    "# 含水率\n",
    "get_phi( ;rh::Float64 ) = rh * 0.1017 + 0.0043\n",
    "get_phi( cell ) = get_phi( rh = convertMiu2RH( temp = cell.temp, miu = cell.miu ) )\n",
    "\n",
    "# 含水率の水分化学ポテンシャル微分\n",
    "# dphi/dmiu = dphi/drh * drh/dmiu\n",
    "get_dphi( ;temp::Float64, miu::Float64 ) = 0.1017 * ( 1.0 / Rv / temp ) * exp( miu / Rv / temp )\n",
    "get_dphi( cell ) = get_dphi( temp = cell.temp, miu = cell.miu )\n",
    "\n",
    "# 含水率から水分化学ポテンシャルの算出\n",
    "get_miu_by_phi( ;temp::Float64, phi::Float64 ) = Rv * temp * log( phi / 0.1017 )\n",
    "get_miu_by_phi( cell ) = get_miu_by_phi( temp = cell.temp, phi = get_phi( cell ) )\n",
    "\n",
    "### 移動特性 ###\n",
    "# 熱伝導率\n",
    "const lam = 0.13\n",
    "# 湿気依存\n",
    "get_lam( ;phi::Float64 ) = lam + 3.14e-4 * phi * 1000.0\n",
    "get_lam( cell ) = get_lam( phi = get_phi( cell ) )\n",
    "\n",
    "# 透水係数\n",
    "# dw = 3.2e-13 * exp(0.015 * phi * 1000)\n",
    "get_ldml( cell ) = 0.0\n",
    "\n",
    "# 透湿率（湿気伝導率）\n",
    "get_dp( cell ) = 6.0e-12  #1.4e-12 \n",
    "\n",
    "end"
   ]
  },
  {
   "cell_type": "code",
   "execution_count": null,
   "id": "27e23f32-099f-4939-96c4-1268963980a6",
   "metadata": {},
   "outputs": [],
   "source": []
  }
 ],
 "metadata": {
  "kernelspec": {
   "display_name": "Julia 1.7.3",
   "language": "julia",
   "name": "julia-1.7"
  },
  "language_info": {
   "file_extension": ".jl",
   "mimetype": "application/julia",
   "name": "julia",
   "version": "1.7.3"
  }
 },
 "nbformat": 4,
 "nbformat_minor": 5
}
