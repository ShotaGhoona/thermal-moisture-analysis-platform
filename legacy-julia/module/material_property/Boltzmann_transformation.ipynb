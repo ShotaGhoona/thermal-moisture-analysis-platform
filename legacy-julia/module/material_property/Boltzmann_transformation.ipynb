{
 "cells": [
  {
   "cell_type": "markdown",
   "id": "5f75d851-4686-482c-8b67-38db58d8cc58",
   "metadata": {},
   "source": [
    "# ボルツマン変換に関する考察\n",
    "\n",
    "\n"
   ]
  },
  {
   "cell_type": "markdown",
   "id": "7cb229ff-a022-4635-8dfb-95109c3f221e",
   "metadata": {},
   "source": [
    "## 1. 理論的背景  \n"
   ]
  },
  {
   "cell_type": "markdown",
   "id": "5747dbba-5968-40c1-804b-727fe5c3decb",
   "metadata": {},
   "source": [
    "ボルツマン変換とは物質などの1次元拡散流れの変換方法の一種である。  \n",
    "この変換を用いることで物質移動の拡散係数が求められることが知られている。  \n",
    "\n",
    "建築分野における一般的な説明は以下のように示される。  \n",
    "まず、不飽和な材料中における水の水平1次元流れは以下のように表される。  \n",
    "\n",
    "$$\\frac{\\partial \\phi}{ \\partial x} = \\frac{\\partial}{ \\partial x} \\Bigl (D(\\phi) \\frac{\\partial \\phi}{ \\partial x} \\Bigl ) $$  \n",
    "\n",
    "ここで$\\phi$は含水率[m3/m3]、$D(\\phi)$は拡散係数[m2/s]である。  \n",
    "\n",
    "なお、初期条件を乾燥状態とし、材料を片側から吸湿させていく過程を考えると、下記のような条件が必要となる。  \n",
    "$ \\phi(x,t) = \\phi_i,  ( x\\ge0, t = 0 )$   \n",
    "$ \\phi(x,t) = \\phi_0,  ( x = 0, t > 0) $  \n",
    "$ \\phi(x,t) = \\phi_i,  ( x → \\infty, t > 0 )$"
   ]
  },
  {
   "cell_type": "code",
   "execution_count": null,
   "id": "efc3cd69-77e7-4b86-b68c-03674e6abc8f",
   "metadata": {},
   "outputs": [],
   "source": []
  },
  {
   "cell_type": "markdown",
   "id": "54f6e0e3-1ed0-4480-bc8a-c172f3ff8cd8",
   "metadata": {},
   "source": [
    "### ボルツマン変換より求められる拡散係数  \n",
    "\n",
    "$$ D(w) = - \\frac{1}{2} \\frac{1}{\\Bigl(\\frac{d\\phi}{d\\lambda} \\Bigl)_{\\phi_{x}}} \\int_{\\phi_i}^{\\phi_{x}} \\lambda d\\phi $$  \n",
    "\n",
    "※計算式は後述"
   ]
  },
  {
   "cell_type": "markdown",
   "id": "0edae6d8-040f-4a41-b5a8-bb6bc2c9b034",
   "metadata": {},
   "source": [
    "### 含水率-λ関係\n",
    "\n",
    "$$\\phi(\\lambda) = - \\Bigl[\\phi_0 + a tan^{-1}(b\\lambda +c) \\Bigl]$$"
   ]
  },
  {
   "cell_type": "code",
   "execution_count": 1,
   "id": "6e89afcd-73ac-45a2-a79d-e83b0c80d422",
   "metadata": {},
   "outputs": [
    {
     "data": {
      "text/plain": [
       "cal_phi_by_lam (generic function with 2 methods)"
      ]
     },
     "execution_count": 1,
     "metadata": {},
     "output_type": "execute_result"
    }
   ],
   "source": [
    "function cal_phi_by_lam(phi0, a, b, c, lam)\n",
    "    return - ( phi0 + a * atan( b*lam + c ) )\n",
    "end\n",
    "cal_phi_by_lam(;phi0, a, b, c, lam) = cal_phi_by_lam(phi0, a, b, c, lam)"
   ]
  },
  {
   "cell_type": "code",
   "execution_count": 2,
   "id": "36b63e64-375d-4253-8405-0c25e96bda70",
   "metadata": {},
   "outputs": [
    {
     "data": {
      "text/plain": [
       "0.1652359081608739"
      ]
     },
     "execution_count": 2,
     "metadata": {},
     "output_type": "execute_result"
    }
   ],
   "source": [
    "cal_phi_by_lam(phi0 = 0.3, a = 0.43, b = 5.6, c = -8.6, lam = 1.2)"
   ]
  },
  {
   "cell_type": "markdown",
   "id": "4a232de6-3406-4878-a39e-3ca2617f2ddf",
   "metadata": {},
   "source": [
    "### 逆関数（λ-含水率関係）\n",
    "\n",
    "$$ \\lambda(\\phi) = \\frac{1}{b} \\Bigl[ tan \\Bigl( - \\frac{ \\phi + \\phi_{0} }{a} \\Bigl)  - c  \\Bigl]  $$"
   ]
  },
  {
   "cell_type": "code",
   "execution_count": 3,
   "id": "4153d8da-0ef5-4d5a-ae01-6d01399265bb",
   "metadata": {},
   "outputs": [
    {
     "data": {
      "text/plain": [
       "cal_lam_by_phi (generic function with 2 methods)"
      ]
     },
     "execution_count": 3,
     "metadata": {},
     "output_type": "execute_result"
    }
   ],
   "source": [
    "function cal_lam_by_phi(phi0, a, b, c, phi)\n",
    "    return 1 / b * ( tan( - ( phi + phi0 ) / a ) -c )\n",
    "end\n",
    "cal_lam_by_phi(;phi0, a, b, c, phi) = cal_lam_by_phi(phi0, a, b, c, phi)"
   ]
  },
  {
   "cell_type": "code",
   "execution_count": 4,
   "id": "52ca2a84-a551-4cf0-aa54-f1b9c7694823",
   "metadata": {},
   "outputs": [
    {
     "data": {
      "text/plain": [
       "1.2"
      ]
     },
     "execution_count": 4,
     "metadata": {},
     "output_type": "execute_result"
    }
   ],
   "source": [
    "cal_lam_by_phi(phi0 = 0.3, a = 0.43, b = 5.6, c = -8.6, phi = cal_phi_by_lam(phi0 = 0.3, a = 0.43, b = 5.6, c = -8.6, lam = 1.2))"
   ]
  },
  {
   "cell_type": "markdown",
   "id": "46456bc2-e8ee-4107-be52-9600112f6f98",
   "metadata": {},
   "source": [
    "### 含水率のλ微分  \n",
    "\n",
    "$$ \\frac{\\partial \\phi}{\\partial \\lambda} = - \\frac{ab}{1+(b\\lambda+c)^2} $$"
   ]
  },
  {
   "cell_type": "code",
   "execution_count": 5,
   "id": "3e7b0bfb-c8e0-4db0-b4f4-17d351d90f38",
   "metadata": {},
   "outputs": [
    {
     "data": {
      "text/plain": [
       "cal_dphi_by_dlam (generic function with 2 methods)"
      ]
     },
     "execution_count": 5,
     "metadata": {},
     "output_type": "execute_result"
    }
   ],
   "source": [
    "function cal_dphi_by_dlam(a, b, c, lam)\n",
    "    return - a * b / ( 1 + ( b * lam + c )^2 )\n",
    "end\n",
    "cal_dphi_by_dlam(;a, b, c, lam) = cal_dphi_by_dlam(a, b, c, lam)"
   ]
  },
  {
   "cell_type": "markdown",
   "id": "7ef76859-f800-483b-973a-783be09a7555",
   "metadata": {},
   "source": [
    "### λの含水率微分  \n",
    "\n",
    "$$ \\frac{\\partial \\lambda}{\\partial \\phi} = - \\frac{1}{b  cos^{2} \\Bigl( - \\frac{\\phi+\\phi_{0}}{a}\\Bigl) } $$"
   ]
  },
  {
   "cell_type": "code",
   "execution_count": 6,
   "id": "9726abc1-6e31-48b5-a459-7ff83bb389a8",
   "metadata": {},
   "outputs": [
    {
     "data": {
      "text/plain": [
       "cal_dlam_by_dphi (generic function with 2 methods)"
      ]
     },
     "execution_count": 6,
     "metadata": {},
     "output_type": "execute_result"
    }
   ],
   "source": [
    "function cal_dlam_by_dphi(a, b, c, phi0, phi)\n",
    "    return - 1 / ( b * cos( - ( phi + phi0 ) / a )^2 )\n",
    "end\n",
    "cal_dlam_by_dphi(;a, b, c, phi0, phi) = cal_dlam_by_dphi(a, b, c, phi0, phi)"
   ]
  },
  {
   "cell_type": "markdown",
   "id": "e478ec54-eba5-44a3-b5eb-6257e9224b6b",
   "metadata": {},
   "source": [
    "### λの含水率積分\n",
    "\n",
    "$$\\int_{\\phi_i}^{\\phi_{x}} \\lambda d\\phi = - \\frac{c}{b}(\\phi_x-\\phi_i) + \\frac{a}{b}ln \\Biggl( \\frac{ |cos\\frac{2\\phi_x}{a}| }{ |cos\\frac{\\phi_x + \\phi_i}{a}| } \\Biggl)$$"
   ]
  },
  {
   "cell_type": "code",
   "execution_count": 7,
   "id": "75523973-8292-4eb8-b033-55e25af20297",
   "metadata": {},
   "outputs": [
    {
     "data": {
      "text/plain": [
       "cal_int_lam_by_phi (generic function with 2 methods)"
      ]
     },
     "execution_count": 7,
     "metadata": {},
     "output_type": "execute_result"
    }
   ],
   "source": [
    "function cal_int_lam_by_phi(a, b, c, phi_init, phi)\n",
    "    return - c/b * ( phi - phi_init ) + a/b * log( abs(cos( 2*phi/a )) / abs( cos(( phi + phi_init )/a) ) )\n",
    "end\n",
    "cal_int_lam_by_phi(;a, b, c, phi_init, phi) = cal_int_lam_by_phi(a, b, c, phi_init, phi)"
   ]
  },
  {
   "cell_type": "markdown",
   "id": "c4eb6c82-617d-4ab8-b134-ea112573ec7c",
   "metadata": {},
   "source": [
    "### 拡散係数  \n",
    "\n",
    "$$ D(\\phi) = - \\frac{1}{2} \\frac{1}{\\Bigl(\\frac{d\\phi}{d\\lambda} \\Bigl)_{\\phi_{x}}} \\int_{\\phi_i}^{\\phi_{x}} \\lambda d\\phi $$  "
   ]
  },
  {
   "cell_type": "code",
   "execution_count": 11,
   "id": "5dd21141-ceaa-4d94-86d9-1e4b07d7ae79",
   "metadata": {},
   "outputs": [
    {
     "data": {
      "text/plain": [
       "cal_Dw_by_Boltzmann (generic function with 2 methods)"
      ]
     },
     "execution_count": 11,
     "metadata": {},
     "output_type": "execute_result"
    }
   ],
   "source": [
    "function cal_Dw_by_Boltzmann( a, b, c, phi_init, phi)\n",
    "    #lam     = cal_lam_by_phi(phi_0, a, b, c, phi)\n",
    "    #dphi    = cal_dphi_by_dlam(a, b, c, lam)\n",
    "    dlam    = cal_dlam_by_dphi(a, b, c, phi_init, phi)\n",
    "    int_lam = cal_int_lam_by_phi(a, b, c, phi_init, phi)\n",
    "    return - ( 1 / 2 ) * dlam * int_lam \n",
    "end\n",
    "cal_Dw_by_Boltzmann(; a, b, c, phi_init, phi) = cal_Dw_by_Boltzmann( a, b, c, phi_init, phi)"
   ]
  },
  {
   "cell_type": "code",
   "execution_count": 14,
   "id": "814837ba-c69c-4e54-a2a1-cc20f354d5f8",
   "metadata": {},
   "outputs": [
    {
     "data": {
      "text/plain": [
       "4.0715681032037065e-9"
      ]
     },
     "execution_count": 14,
     "metadata": {},
     "output_type": "execute_result"
    }
   ],
   "source": [
    "cal_Dw_by_Boltzmann( a = 0.43, b = 19400, c = -8.12, phi_init = 0.0, phi = 0.3)"
   ]
  },
  {
   "cell_type": "markdown",
   "id": "dcc13230-789b-405b-98ce-9345ba288777",
   "metadata": {},
   "source": [
    "### 水分伝導率$\\lambda^{'}_{\\mu}$への変換\n",
    "\n",
    "含水率ベースの水分流$ j [m^{3}/ m^{2}s]$\n",
    "$$ j = - D(\\phi) \\frac{\\partial \\phi}{\\partial x} $$  \n",
    "\n",
    "水分化学ポテンシャルベースの水分流$ J [kg/m^{2}s] $  \n",
    "$$ J = - \\lambda^{'}_{\\mu} \\frac{\\partial \\mu}{\\partial x} $$  \n",
    "$$ ⇔ J = - \\lambda^{'}_{\\mu} \\frac{\\partial \\mu}{\\partial \\phi} \\frac{\\partial \\phi}{\\partial x} $$\n",
    "\n",
    "水分伝導率の算出方法  \n",
    "$$ \\lambda^{'}_{\\mu} = \\rho_w D(\\phi) \\frac{\\partial \\phi}{\\partial \\mu} $$"
   ]
  },
  {
   "cell_type": "code",
   "execution_count": 15,
   "id": "be3ede10-81de-4c68-a074-6cf74eb3c93d",
   "metadata": {},
   "outputs": [
    {
     "data": {
      "text/plain": [
       "cal_ldml_by_Dw (generic function with 1 method)"
      ]
     },
     "execution_count": 15,
     "metadata": {},
     "output_type": "execute_result"
    }
   ],
   "source": [
    "function cal_ldml_by_Dw(Dw, dphi)\n",
    "    rho_w = 1000.0\n",
    "    return rho_w * Dw * dphi\n",
    "end"
   ]
  },
  {
   "cell_type": "code",
   "execution_count": null,
   "id": "7ac73202-355a-457b-bf40-72287c1c0f80",
   "metadata": {},
   "outputs": [],
   "source": []
  }
 ],
 "metadata": {
  "kernelspec": {
   "display_name": "Julia 1.6.2",
   "language": "julia",
   "name": "julia-1.6"
  },
  "language_info": {
   "file_extension": ".jl",
   "mimetype": "application/julia",
   "name": "julia",
   "version": "1.6.2"
  }
 },
 "nbformat": 4,
 "nbformat_minor": 5
}
