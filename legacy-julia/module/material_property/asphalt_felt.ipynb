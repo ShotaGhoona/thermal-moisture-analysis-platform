{
 "cells": [
  {
   "cell_type": "markdown",
   "metadata": {},
   "source": [
    "# アスファルトフェルト\n",
    "# （asphalt felt）\n",
    "※　計算ではアスファルトフェルトの厚みは1.0mmとすること。\n",
    "\n",
    "参考：熱湿気計算と物性値WG用  \n",
    "[1]  齋藤宏昭、土屋喬雄：冷房時における夏型壁体内結露に関する研究、その１　人工気候室における非定常結露実験、日本建築学会計画系論文集　第519号、pp39-45、1999年5月  \n",
    "[2] 土屋喬雄、黒木勝一、齋藤宏昭：冷房時の夏型壁体内結露に関する研究 （その 3） 1次元モデルの検証と壁体内結露の長期予測、日本建築学会大会学術講演梗概集 pp.269-270、1996年9月  \n",
    "[3]　独立行政法人　建築研究所、カナダ天然資源省　編：第3回　日加住宅R&D専門家作業会合　「断熱外皮の設計」講演予稿集\n"
   ]
  },
  {
   "cell_type": "code",
   "execution_count": 1,
   "metadata": {},
   "outputs": [
    {
     "data": {
      "text/plain": [
       "Main.asphalt_felt"
      ]
     },
     "metadata": {},
     "output_type": "display_data"
    }
   ],
   "source": [
    "module asphalt_felt\n",
    "\n",
    "#########################################################\n",
    "# 熱物性については適当（熱容量が十分に小さくなるよう）に与える\n",
    "# 空隙率\n",
    "const psi = 0.1 #\n",
    "# 材料密度\n",
    "const row = 1000.0 #kg/m3\n",
    "# 比熱\n",
    "const C = 500.0 #J/kg\n",
    "\n",
    "# 水の密度\n",
    "const roww = 1000.0 #kg/m3\n",
    "#理想気体定数\n",
    "const R = 8.314 # J/(mol K)\n",
    "# 水のモル質量\n",
    "const Mw = 0.018 # kg/mol\n",
    "# 水蒸気のガス定数\n",
    "Rv = R / Mw # J/(kg K)\n",
    "# 水の熱容量\n",
    "const croww = 1000.0 * 4.18605e+3\n",
    "\n",
    "# miu ⇒　rh の変換係数\n",
    "function convertMiu2RH( ;temp::Float64, miu::Float64 );\n",
    "    return exp( miu / Rv / temp )\n",
    "end\n",
    "\n",
    "# 熱容量\n",
    "get_crow( ;phi::Float64 ) = C * row + croww * phi\n",
    "get_crow( cell ) = get_crow( phi = get_phi( cell ) )\n",
    "\n",
    "### 水分特性 ###\n",
    "# 含水率\n",
    "get_phi( ;rh::Float64 ) = rh * 0.0001\n",
    "get_phi( cell ) = get_phi( rh = convertMiu2RH( temp = cell.temp, miu = cell.miu ) )\n",
    "\n",
    "# 含水率の水分化学ポテンシャル微分\n",
    "# dphi/dmiu = dphi/drh * drh/dmiu\n",
    "get_dphi( ;temp::Float64, miu::Float64 ) = 0.0001 * ( 1.0 / Rv / temp ) * exp( miu / Rv / temp )\n",
    "get_dphi( cell ) = get_dphi( temp = cell.temp, miu = cell.miu )\n",
    "\n",
    "# 含水率から水分化学ポテンシャルの算出\n",
    "get_miu_by_phi( ;temp::Float64, phi::Float64 ) = Rv * temp * log( phi / 0.0018 )\n",
    "get_miu_by_phi( cell ) = get_miu_by_phi( temp = cell.temp, phi = get_phi( cell ) )\n",
    "\n",
    "### 移動特性 ###\n",
    "# 熱伝導率\n",
    "const lam = 1.0\n",
    "\n",
    "# 湿気依存\n",
    "get_lam( ;phi::Float64 ) = lam\n",
    "get_lam( cell ) = get_lam( phi = get_phi( cell ) )\n",
    "\n",
    "# 透水係数\n",
    "get_dw( ;phi::Float64 ) = 0.0\n",
    "get_dw( cell ) = 0.0\n",
    "\n",
    "# 透湿率（湿気伝導率）\n",
    "# kg / kg DA\n",
    "dah_dpv(pv::Float64) = 0.622 / ( 101325.0 - pv ) + 0.622 * pv / ( ( 101325.0 - pv )^2 )\n",
    "dah_dpv() = dah_dpv(1700.0)\n",
    "const zp = 3.49e4 # 透湿抵抗[m2･s･kg/kgDA]/kg\n",
    "get_dp() = ( 1 / zp ) * 0.001 * dah_dpv() # 透湿率\n",
    "get_dp( cell ) = get_dp()\n",
    "\n",
    "end"
   ]
  },
  {
   "cell_type": "code",
   "execution_count": 3,
   "metadata": {},
   "outputs": [
    {
     "data": {
      "text/plain": [
       "7.33103273159694e-10"
      ]
     },
     "metadata": {},
     "output_type": "display_data"
    }
   ],
   "source": [
    "asphalt_felt.get_dphi(temp = 293.15, miu = -1000.0)"
   ]
  },
  {
   "cell_type": "code",
   "execution_count": null,
   "metadata": {},
   "outputs": [],
   "source": []
  }
 ],
 "metadata": {
  "kernelspec": {
   "display_name": "Julia 1.7.3",
   "language": "julia",
   "name": "julia-1.7"
  },
  "language_info": {
   "file_extension": ".jl",
   "mimetype": "application/julia",
   "name": "julia",
   "version": "1.7.3"
  }
 },
 "nbformat": 4,
 "nbformat_minor": 4
}
