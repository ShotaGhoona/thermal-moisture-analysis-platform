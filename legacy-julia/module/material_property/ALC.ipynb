{
 "cells": [
  {
   "cell_type": "markdown",
   "metadata": {
    "vscode": {
     "languageId": "plaintext"
    }
   },
   "source": [
    "### ALC（Autoclaved Lightweight aerated Concrete）の物性値  \n",
    "参考：小椋ら，“結露・蒸発過程における平衡含水率および水分伝導率の履歴の影響”，日本建築学会環境論文集，第74巻，第643号，pp.1065-1074，2009"
   ]
  },
  {
   "cell_type": "code",
   "execution_count": 9,
   "metadata": {},
   "outputs": [
    {
     "name": "stderr",
     "output_type": "stream",
     "text": [
      "WARNING: replacing module ALC.\n"
     ]
    },
    {
     "data": {
      "text/plain": [
       "Main.ALC"
      ]
     },
     "execution_count": 9,
     "metadata": {},
     "output_type": "execute_result"
    }
   ],
   "source": [
    "module ALC\n",
    "\n",
    "# 空隙率\n",
    "const psi = 0.7861\n",
    "\n",
    "# 材料密度\n",
    "const row = 493.7 #kg/m3\n",
    "\n",
    "# 比熱\n",
    "const C = 1089.4 #J/kg\n",
    "\n",
    "# 水の密度\n",
    "const roww = 1000.0 #kg/m3\n",
    "#理想気体定数\n",
    "const R = 8.314 # J/(mol K)\n",
    "# 水のモル質量\n",
    "const Mw = 0.018 # kg/mol\n",
    "# 水蒸気のガス定数\n",
    "Rv = R / Mw # J/(kg K)\n",
    "# 水の熱容量\n",
    "const croww = 1000.0 * 4.18605e+3\n",
    "\n",
    "# miu ⇒　rh の変換係数\n",
    "function convertMiu2RH( ;temp::Float64, miu::Float64 );\n",
    "    return exp( miu / Rv / temp )\n",
    "end\n",
    "\n",
    "# 熱容量\n",
    "get_crow( ;phi::Float64 ) = C * row + croww * phi\n",
    "get_crow( cell ) = get_crow( phi = get_phi( cell ) )\n",
    "\n",
    "### 水分特性 ###\n",
    "# 含水率\n",
    "function get_phi( ;rh::Float64 )\n",
    "    if rh >= 0.0 && rh <= 0.9855\n",
    "        phi = ( - 4.77353e-3 ) / ( rh - 1.05623e0 ) - 4.51942e-3\n",
    "    elseif rh > 0.9855 && rh <= 1.0\n",
    "        phi = ( - 2.21026e-4 ) / ( rh - 1.00068e0 ) + 4.84126e-2\n",
    "    end    \n",
    "    return phi\n",
    "end\n",
    "\n",
    "get_phi( cell ) = get_phi( rh = convertMiu2RH( temp = cell.temp, miu = cell.miu ) )\n",
    "\n",
    "# dphi/dmiu = dphi/drh * drh/dmiu\n",
    "function get_dphi( ;temp::Float64, miu::Float64 )\n",
    "    rh = convertMiu2RH( temp = temp, miu = miu )\n",
    "    if rh >= 0.0 && rh <= 0.9855\n",
    "        DWCI = ( 4.77353e-3 ) / ( rh - 1.05623e0 ) ^ 2.0\n",
    "    elseif rh > 0.9855 && rh <= 1.0\n",
    "        DWCI = ( 2.21026e-4 ) / ( rh - 1.00068e0 ) ^ 2.0\n",
    "    end\n",
    "    dphi = DWCI * exp( miu / Rv / temp ) / Rv / temp\n",
    "    return dphi\n",
    "end\n",
    "get_dphi( cell ) = get_dphi( temp = cell.temp, miu = cell.miu )\n",
    "\n",
    "# 含水率から水分化学ポテンシャルの算出\n",
    "function get_miu_by_phi( ;temp::Float64, phi::Float64 )\n",
    "    if phi >= 0.0 && phi <= 0.062496303711919124\n",
    "        rh = ( - 4.77353e-3 ) / ( phi + 4.51942e-3 ) + 1.05623e0 \n",
    "    elseif phi > 0.062496303711919124 && phi <= psi\n",
    "        rh = ( - 2.21026e-4 ) / ( phi - 4.84126e-2 ) + 1.00068e0\n",
    "    end    \n",
    "    miu = Rv * temp * log(rh)\n",
    "    return miu\n",
    "end\n",
    "get_miu_by_phi( cell ) = get_miu_by_phi( temp = cell.temp, phi = get_phi( cell ) )\n",
    "\n",
    "### 移動特性 ###\n",
    "# 熱伝導率\n",
    "const lam = 0.1258\n",
    "\n",
    "# 湿気依存\n",
    "get_lam( ;phi::Float64 ) = lam + 0.8085 * phi\n",
    "get_lam( cell ) = get_lam( phi = get_phi( cell ) )\n",
    "\n",
    "# 水分移動\n",
    "# 透湿率\n",
    "get_dp( ;phi::Float64 ) = 1.82e-11 * ( psi - phi ) / psi\n",
    "get_dp( cell ) = get_dp( phi = get_phi( cell ) )\n",
    "\n",
    "# 水分化学ポテンシャル勾配に対する液相水分伝導率\n",
    "function cal_Pvs( temp )\n",
    "    return exp( -5800.22060 / temp + 1.3914993 - 4.8640239E-2 * temp + 4.1764768E-5 * (temp ^ 2.0) - 1.4452093E-8 * (temp ^ 3.0) + 6.5459673 * log(temp) )\n",
    "end\n",
    "cal_dpdmiu( temp::Float64, miu::Float64 ) = cal_Pvs( temp ) * exp( miu / Rv / temp ) / Rv / temp\n",
    "\n",
    "function get_ldml( ;temp::Float64, miu::Float64 )\n",
    "    rh  = convertMiu2RH( temp = temp, miu = miu )\n",
    "    phi = get_phi( rh = rh )\n",
    "    if phi <= 0.21\n",
    "        ZLDM = 30.67390805e0 * phi ^ 2.0 -12.88304138e0 * phi  - 5.028260409e0\n",
    "    elseif phi > 0.21 && phi <= 0.29\n",
    "        ZLDM = - 9351.44099e0 * phi ^ 3.0 + 6803.17332e0 * phi ^2 - 1620.137151e0 * phi  + 120.4315736e0\n",
    "    elseif phi > 0.29 && phi < 0.32\n",
    "        ZLDM = 561.0864594e0 * phi ^ 2.0 - 359.095334e0 * phi + 51.61665726e0\n",
    "    else\n",
    "        ZLDM = 10.e0 * ( phi - 0.32e0 ) ^ 2 - 5.838596176e0\n",
    "    end\n",
    "\n",
    "    if rh >= 0.0 && rh <= 0.9855\n",
    "        DWCI = ( 4.77353e-3 ) / ( rh - 1.05623e0 ) ^ 2.0\n",
    "    elseif rh > 0.9855 && rh <= 1.0\n",
    "        DWCI = ( 2.21026e-4 ) / ( rh - 1.00068e0 ) ^ 2.0\n",
    "    end\n",
    "\n",
    "    ldm  = rh / Rv / temp * DWCI * 10.0 ^ ZLDM\n",
    "    ldmg = get_dp( phi = phi ) * cal_dpdmiu( temp, miu )\n",
    "    ldml = if ldm > ldmg; ldm - ldmg; else; 0.0 end\n",
    "\n",
    "    return ldml\n",
    "end\n",
    "get_ldml( cell ) = get_ldml( temp = cell.temp, miu = cell.miu )\n",
    "\n",
    "end"
   ]
  },
  {
   "cell_type": "code",
   "execution_count": 10,
   "metadata": {},
   "outputs": [],
   "source": [
    "mutable struct sample_cell\n",
    "    temp::Float64\n",
    "    miu::Float64\n",
    "end"
   ]
  },
  {
   "cell_type": "code",
   "execution_count": 11,
   "metadata": {},
   "outputs": [
    {
     "data": {
      "text/plain": [
       "sample_cell(293.15, -623552.6050636837)"
      ]
     },
     "execution_count": 11,
     "metadata": {},
     "output_type": "execute_result"
    }
   ],
   "source": [
    "test_cell = sample_cell( 293.15, ALC.Rv * 293.15 * log(0.01))"
   ]
  },
  {
   "cell_type": "code",
   "execution_count": 12,
   "metadata": {},
   "outputs": [
    {
     "name": "stdout",
     "output_type": "stream",
     "text": [
      "4.3180957724400955e-5\n",
      "3.22075659478079e-10\n",
      "-623552.6050636837\n",
      "0.12583491180432016\n",
      "0.0\n",
      "1.819900026277753e-11\n",
      "0.00017272943746838055\n"
     ]
    }
   ],
   "source": [
    "module_name = :ALC\n",
    "println(getfield(Main, module_name).get_phi(test_cell))\n",
    "println(getfield(Main, module_name).get_dphi(test_cell))\n",
    "println(getfield(Main, module_name).get_miu_by_phi(test_cell))\n",
    "println(getfield(Main, module_name).get_lam(test_cell))\n",
    "println(getfield(Main, module_name).get_ldml(test_cell))\n",
    "println(getfield(Main, module_name).get_dp(test_cell))\n",
    "println(getfield(Main, module_name).cal_dpdmiu(test_cell.temp, test_cell.miu))"
   ]
  },
  {
   "cell_type": "code",
   "execution_count": 5,
   "metadata": {},
   "outputs": [],
   "source": []
  }
 ],
 "metadata": {
  "kernelspec": {
   "display_name": "Julia 1.11.0",
   "language": "julia",
   "name": "julia-1.11"
  },
  "language_info": {
   "file_extension": ".jl",
   "mimetype": "application/julia",
   "name": "julia",
   "version": "1.11.0"
  }
 },
 "nbformat": 4,
 "nbformat_minor": 2
}
