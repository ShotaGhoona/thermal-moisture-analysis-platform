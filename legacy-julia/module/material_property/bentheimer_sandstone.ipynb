{
 "cells": [
  {
   "cell_type": "markdown",
   "metadata": {},
   "source": [
    "### Bentheimer Sandstoneの物性値  \n",
    "参考：V.Voronina, L. Pel and K. Kopinga: The influence of osmotic pressure on poulticing treatments for heritage objects, Material and Structures, vol.46, pp221-231, 2013  \n"
   ]
  },
  {
   "cell_type": "markdown",
   "metadata": {},
   "source": [
    "### 関数の命名方法  \n",
    "・物性値名のみ：関数の変換が無く、材料固有の物性値の場合  \n",
    "・get+物性値名：他の物質量に依存する物性値の場合"
   ]
  },
  {
   "cell_type": "markdown",
   "metadata": {},
   "source": [
    "## 1. 材料の熱物性値"
   ]
  },
  {
   "cell_type": "markdown",
   "metadata": {},
   "source": [
    "$\\psi$：空隙率(porosity)[-]  "
   ]
  },
  {
   "cell_type": "markdown",
   "metadata": {},
   "source": [
    "$\\rho$：材料の密度(density)[kg/m3]"
   ]
  },
  {
   "cell_type": "markdown",
   "metadata": {},
   "source": [
    "$C$：材料の比熱(specific heat)[J/(kg・K)]  "
   ]
  },
  {
   "cell_type": "markdown",
   "metadata": {},
   "source": [
    "$c\\rho$：材料の熱容量(heat capacity)[J/(m3・K)]  "
   ]
  },
  {
   "cell_type": "markdown",
   "metadata": {},
   "source": [
    "## 2. 材料の水分特性"
   ]
  },
  {
   "cell_type": "markdown",
   "metadata": {},
   "source": [
    "$\\phi$：含水率[m3/m3]"
   ]
  },
  {
   "cell_type": "markdown",
   "metadata": {},
   "source": [
    "$\\frac{\\partial \\phi}{\\partial \\mu}$：含水率の水分化学ポテンシャル微分[m3/m3(J/kg)]"
   ]
  },
  {
   "cell_type": "markdown",
   "metadata": {},
   "source": [
    "$\\mu$：水分化学ポテンシャル[J/kg]"
   ]
  },
  {
   "cell_type": "markdown",
   "metadata": {},
   "source": [
    "### 熱・水分の移動係数"
   ]
  },
  {
   "cell_type": "markdown",
   "metadata": {},
   "source": [
    "$K_{sat}$：飽和透水係数(liquid permeability)[m2/s]  "
   ]
  },
  {
   "cell_type": "markdown",
   "metadata": {},
   "source": [
    "$\\delta_p$：絶乾時の透湿率(moisture permeability)[kg/m Pa s]"
   ]
  },
  {
   "cell_type": "markdown",
   "metadata": {},
   "source": [
    "$\\lambda$：熱伝導率 [W/mK]"
   ]
  },
  {
   "cell_type": "markdown",
   "metadata": {},
   "source": [
    "$D_w$：透水係数 "
   ]
  },
  {
   "cell_type": "markdown",
   "metadata": {},
   "source": [
    "$D_p$：透湿率（湿気伝導率） "
   ]
  },
  {
   "cell_type": "code",
   "execution_count": 1,
   "metadata": {},
   "outputs": [
    {
     "data": {
      "text/plain": [
       "Main.bentheimer_sandstone"
      ]
     },
     "execution_count": 1,
     "metadata": {},
     "output_type": "execute_result"
    }
   ],
   "source": [
    "module bentheimer_sandstone\n",
    "\n",
    "# 空隙率\n",
    "const psi = 0.23\n",
    "\n",
    "# 材料密度\n",
    "const row = 1479.25\n",
    "\n",
    "# 比熱\n",
    "const C = 750.0\n",
    "\n",
    "include(\"./liquid_water.jl\")\n",
    "\n",
    "# 熱容量\n",
    "get_crow( ;phi::Float64 ) = C * row + water_property.crow * phi\n",
    "get_crow( cell ) = get_crow( phi=get_phi( cell ) )\n",
    "\n",
    "# van-Genuchten用情報\n",
    "include(\"./van_genuchten.jl\")\n",
    "\n",
    "BeSand_vG = van_Genuchten.vG_parameter( \n",
    "    10.0/98.0,\n",
    "    2.0,\n",
    "    1.0 - ( 1.0 / 2.0 ),\n",
    "    0.5\n",
    ")\n",
    "\n",
    "### 水分特性 ###\n",
    "# 含水率\n",
    "get_phi( ;miu::Float64 ) = van_Genuchten.get_phi( vG = BeSand_vG, miu = miu, phimax = psi )\n",
    "get_phi( cell ) = van_Genuchten.get_phi( vG = BeSand_vG, miu = cell.miu, phimax = psi )\n",
    "\n",
    "# 含水率の水分化学ポテンシャル微分\n",
    "get_dphi( ;miu::Float64 ) = van_Genuchten.get_dphi( vG = BeSand_vG, miu = miu, phimax = psi )\n",
    "get_dphi( cell ) = get_dphi( miu = cell.miu )\n",
    "\n",
    "# 含水率から水分化学ポテンシャルの算出\n",
    "get_miu_by_phi( ;phi::Float64 ) = van_Genuchten.get_miu(vG = BeSand_vG, phi = phi, phimax = psi )\n",
    "get_miu_by_phi( cell ) = get_miu_by_phi( phi = cell.phi )\n",
    "\n",
    "### 移動特性 ###\n",
    "# 熱伝導率\n",
    "const lam = 1.2\n",
    "get_lam( cell ) = lam\n",
    "\n",
    "# 飽和時の透水係数\n",
    "const Ksat = 2.0e-7\n",
    "\n",
    "# 絶乾湿の透湿率\n",
    "const Dp = 2.0E-10\n",
    "\n",
    "# 透水係数\n",
    "get_dw( ;miu::Float64 ) = Ksat * van_Genuchten.get_kl( vG = BeSand_vG, miu = miu )\n",
    "get_dw( cell ) = get_dw( ;miu = cell.miu )\n",
    "\n",
    "# 透湿率（湿気伝導率）\n",
    "get_dp( ;phi::Float64 ) = Dp * ( 1.0 - ( phi / psi ) * 0.9 )\n",
    "get_dp( cell ) = get_dp( phi = get_phi( cell ) )\n",
    "\n",
    "end"
   ]
  },
  {
   "cell_type": "markdown",
   "metadata": {},
   "source": [
    "### Example"
   ]
  },
  {
   "cell_type": "code",
   "execution_count": 2,
   "metadata": {},
   "outputs": [],
   "source": [
    "mutable struct test_bentheimer\n",
    "    temp::Float64\n",
    "    miu::Float64\n",
    "    rh::Float64\n",
    "    pv::Float64\n",
    "    phi::Float64\n",
    "end"
   ]
  },
  {
   "cell_type": "code",
   "execution_count": 3,
   "metadata": {},
   "outputs": [
    {
     "data": {
      "text/plain": [
       "test_bentheimer(293.15, -100.0, 0.7, 1000.0, 0.1)"
      ]
     },
     "execution_count": 3,
     "metadata": {},
     "output_type": "execute_result"
    }
   ],
   "source": [
    "test_ben_hygro = test_bentheimer( 293.15, -100.0, 0.7, 1000.0, 0.1 )"
   ]
  },
  {
   "cell_type": "code",
   "execution_count": 4,
   "metadata": {},
   "outputs": [
    {
     "data": {
      "text/plain": [
       "1.2033412188466084e6"
      ]
     },
     "execution_count": 4,
     "metadata": {},
     "output_type": "execute_result"
    }
   ],
   "source": [
    "bentheimer_sandstone.get_crow( test_ben_hygro )"
   ]
  },
  {
   "cell_type": "code",
   "execution_count": 5,
   "metadata": {},
   "outputs": [
    {
     "data": {
      "text/plain": [
       "0.02243253636402062"
      ]
     },
     "execution_count": 5,
     "metadata": {},
     "output_type": "execute_result"
    }
   ],
   "source": [
    "bentheimer_sandstone.get_phi( test_ben_hygro )"
   ]
  },
  {
   "cell_type": "code",
   "execution_count": 6,
   "metadata": {},
   "outputs": [
    {
     "data": {
      "text/plain": [
       "0.00022219143707850422"
      ]
     },
     "execution_count": 6,
     "metadata": {},
     "output_type": "execute_result"
    }
   ],
   "source": [
    "bentheimer_sandstone.get_dphi( test_ben_hygro )"
   ]
  },
  {
   "cell_type": "code",
   "execution_count": 7,
   "metadata": {},
   "outputs": [
    {
     "data": {
      "text/plain": [
       "-20.29806887366382"
      ]
     },
     "execution_count": 7,
     "metadata": {},
     "output_type": "execute_result"
    }
   ],
   "source": [
    "bentheimer_sandstone.get_miu_by_phi( test_ben_hygro )"
   ]
  },
  {
   "cell_type": "code",
   "execution_count": 8,
   "metadata": {},
   "outputs": [
    {
     "data": {
      "text/plain": [
       "1.4197782071427953e-12"
      ]
     },
     "execution_count": 8,
     "metadata": {},
     "output_type": "execute_result"
    }
   ],
   "source": [
    "bentheimer_sandstone.get_dw( test_ben_hygro )"
   ]
  },
  {
   "cell_type": "code",
   "execution_count": 9,
   "metadata": {},
   "outputs": [
    {
     "data": {
      "text/plain": [
       "1.8244410197598387e-10"
      ]
     },
     "execution_count": 9,
     "metadata": {},
     "output_type": "execute_result"
    }
   ],
   "source": [
    "bentheimer_sandstone.get_dp( test_ben_hygro )"
   ]
  },
  {
   "cell_type": "markdown",
   "metadata": {},
   "source": [
    "##############################\n",
    "###     物性値の確認      ###\n",
    "###     グラフの描画      ###\n",
    "plt.figure(figsize = (15.0, 6))\n",
    "plt.xscale(\"log\")\n",
    "#plt.yscale(\"log\")\n",
    "plt.grid(which=\"both\")\n",
    "plt.xlabel(\"-chemical potential[J/kg]\", fontsize = 15)\n",
    "plt.ylabel(\"phi[-]\", fontsize = 15)\n",
    "\n",
    "water = [ sample(i-1) for i in range(10000) ]\n",
    "phi = [ get_phi ( water[i] ) for i in range (10000) ]\n",
    "miu = [ i for i in range(10000) ]\n",
    "plt.plot( miu, phi )\n",
    "plt.show()\n",
    "###########################"
   ]
  },
  {
   "cell_type": "code",
   "execution_count": null,
   "metadata": {},
   "outputs": [],
   "source": []
  }
 ],
 "metadata": {
  "kernelspec": {
   "display_name": "Julia 1.4.2",
   "language": "julia",
   "name": "julia-1.4"
  },
  "language_info": {
   "file_extension": ".jl",
   "mimetype": "application/julia",
   "name": "julia",
   "version": "1.4.2"
  }
 },
 "nbformat": 4,
 "nbformat_minor": 4
}
