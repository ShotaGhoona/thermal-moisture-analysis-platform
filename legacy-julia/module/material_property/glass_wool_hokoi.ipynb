{
 "cells": [
  {
   "cell_type": "markdown",
   "metadata": {},
   "source": [
    "# グラスウール hokoi\n",
    "# （glass wool hokoi）\n",
    "参考：S. Hokoi and M. K. Kumaran, \"Experimental and Analytical Investigations of Simultaneous Heat and Moisture Transport through GLass Fiber Insulation\", Journal of Building Physics, vol.16, pp263-292, 1993"
   ]
  },
  {
   "cell_type": "code",
   "execution_count": 1,
   "metadata": {},
   "outputs": [
    {
     "data": {
      "text/plain": [
       "Main.glass_wool_hokoi"
      ]
     },
     "metadata": {},
     "output_type": "display_data"
    }
   ],
   "source": [
    "module glass_wool_hokoi\n",
    "\n",
    "# 空隙率\n",
    "const psi = 0.99 # おおよその値\n",
    "\n",
    "# 材料密度\n",
    "const row = 16.0 #kg/m3\n",
    "\n",
    "# 比熱\n",
    "const C = 698.0 #J/kg\n",
    "\n",
    "# 水の密度\n",
    "const roww = 1000.0 #kg/m3\n",
    "#理想気体定数\n",
    "const R = 8.314 # J/(mol K)\n",
    "# 水のモル質量\n",
    "const Mw = 0.018 # kg/mol\n",
    "# 水蒸気のガス定数\n",
    "Rv = R / Mw # J/(kg K)\n",
    "# 水の熱容量\n",
    "const croww = 1000.0 * 4.18605e+3\n",
    "\n",
    "# miu ⇒　rh の変換係数\n",
    "function convertMiu2RH( ;temp::Float64, miu::Float64 );\n",
    "    return exp( miu / Rv / temp )\n",
    "end\n",
    "\n",
    "# 熱容量\n",
    "get_crow( ;phi::Float64 ) = C * row + croww * phi\n",
    "get_crow( cell ) = get_crow( phi = get_phi( cell ) )\n",
    "\n",
    "### 水分特性 ###\n",
    "# 含水率\n",
    "# 関数系　phi = a * ( b / ( rh + c ) + d ) [kg/kg]\n",
    "# 相対湿度の閾値 rh_TH\n",
    "a = 0.0006\n",
    "b = 0.0015\n",
    "c = 0.0179\n",
    "N = 900\n",
    "\n",
    "function get_phi( ;rh::Float64 )\n",
    "    phi = a * rh + b + c * rh^N\n",
    "    return phi\n",
    "end\n",
    "\n",
    "get_phi( cell ) = get_phi( rh = convertMiu2RH( temp = cell.temp, miu = cell.miu ) )\n",
    "\n",
    "# 含水率の水分化学ポテンシャル微分\n",
    "# dphi/dmiu = dphi/drh * drh/dmiu\n",
    "drh_dmiu( temp::Float64, miu::Float64 ) = ( 1.0 / Rv / temp ) * exp( miu / Rv / temp )\n",
    "function get_dphi( ;temp::Float64, miu::Float64, rh::Float64 )\n",
    "    dphi_drh = a + c * N * rh^(N-1)\n",
    "    return dphi_drh * drh_dmiu( temp, miu )\n",
    "end\n",
    "get_dphi( cell ) = get_dphi( temp = cell.temp, miu = cell.miu, rh = convertMiu2RH( temp = cell.temp, miu = cell.miu ) )\n",
    "\n",
    "# 含水率から水分化学ポテンシャルの算出\n",
    "function get_miu_by_phi( ;temp::Float64, phi::Float64 )\n",
    "    print(\"実装されていません\")\n",
    "    return miu\n",
    "end\n",
    "get_miu_by_phi( cell ) = get_miu_by_phi( temp = cell.temp, phi = get_phi( cell ) )\n",
    "\n",
    "### 移動特性 ###\n",
    "# 熱伝導率\n",
    "const lam = 0.045\n",
    "\n",
    "# 湿気依存\n",
    "get_lam( ;phi::Float64 ) = lam\n",
    "get_lam( cell ) = get_lam( phi = get_phi( cell ) )\n",
    "\n",
    "# 透水係数\n",
    "get_dw( ;phi::Float64 ) = 0.0\n",
    "get_dw( cell ) = 0.0\n",
    "\n",
    "# 透湿率（湿気伝導率）\n",
    "# kg / kg DA\n",
    "dah_dpv(pv::Float64) = 0.622 / ( 101325.0 - pv ) + 0.622 * pv / ( ( 101325.0 - pv )^2 )\n",
    "dah_dpv() = dah_dpv(1700.0)\n",
    "get_dp() = 2.52e-5 * dah_dpv() #絶乾時の透湿率[kg/m Pa s]\n",
    "get_dp( cell ) = get_dp()\n",
    "\n",
    "end"
   ]
  },
  {
   "cell_type": "code",
   "execution_count": 2,
   "metadata": {},
   "outputs": [
    {
     "data": {
      "text/plain": [
       "0.0005999999999999994"
      ]
     },
     "metadata": {},
     "output_type": "display_data"
    }
   ],
   "source": [
    "( glass_wool_hokoi.get_phi(rh = 0.7) - glass_wool_hokoi.get_phi(rh = 0.6) ) /0.1"
   ]
  },
  {
   "cell_type": "code",
   "execution_count": 3,
   "metadata": {},
   "outputs": [
    {
     "name": "stdout",
     "output_type": "stream",
     "text": [
      "実装されていません"
     ]
    },
    {
     "ename": "UndefVarError",
     "evalue": "UndefVarError: miu not defined",
     "output_type": "error",
     "traceback": [
      "UndefVarError: miu not defined\n",
      "\n",
      "Stacktrace:\n",
      " [1] #get_miu_by_phi#5\n",
      "   @ c:\\Users\\takat\\OneDrive - Kyoto University\\ドキュメント\\解析プログラム\\[Julia]熱水分同時移動標準解析プログラム\\[Julia]熱水分同時移動解析標準プログラムver2.1.2\\module\\material_property\\glass_wool_hokoi.ipynb:60 [inlined]\n",
      " [2] top-level scope\n",
      "   @ c:\\Users\\takat\\OneDrive - Kyoto University\\ドキュメント\\解析プログラム\\[Julia]熱水分同時移動標準解析プログラム\\[Julia]熱水分同時移動解析標準プログラムver2.1.2\\module\\material_property\\glass_wool_hokoi.ipynb:1"
     ]
    }
   ],
   "source": [
    "glass_wool_hokoi.get_miu_by_phi(temp = 293.15, phi = 0.1)"
   ]
  },
  {
   "cell_type": "code",
   "execution_count": null,
   "metadata": {},
   "outputs": [],
   "source": []
  }
 ],
 "metadata": {
  "kernelspec": {
   "display_name": "Julia 1.6.7",
   "language": "julia",
   "name": "julia-1.6"
  },
  "language_info": {
   "file_extension": ".jl",
   "mimetype": "application/julia",
   "name": "julia",
   "version": "1.6.7"
  }
 },
 "nbformat": 4,
 "nbformat_minor": 4
}
