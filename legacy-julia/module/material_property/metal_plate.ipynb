{
 "cells": [
  {
   "cell_type": "markdown",
   "metadata": {},
   "source": [
    "# 屋根材に用いられる金属プレート  \n",
    "\n",
    "※2024暫定的に作成"
   ]
  },
  {
   "cell_type": "code",
   "execution_count": 1,
   "metadata": {},
   "outputs": [
    {
     "data": {
      "text/plain": [
       "Main.metal_plate"
      ]
     },
     "execution_count": 1,
     "metadata": {},
     "output_type": "execute_result"
    }
   ],
   "source": [
    "module metal_plate\n",
    "\n",
    "# 空隙率\n",
    "const psi = 0.001\n",
    "\n",
    "# 材料密度\n",
    "const row = 8050.0 #kg/m3\n",
    "\n",
    "# 比熱\n",
    "const C = 461.0 #J/kg\n",
    "\n",
    "# 熱容量\n",
    "get_crow() = C * row\n",
    "get_crow( cell ) = get_crow()\n",
    "\n",
    "### 水分特性 ###\n",
    "# 含水率\n",
    "function get_phi()\n",
    "    return 0.001\n",
    "end\n",
    "get_phi( cell ) = get_phi()\n",
    "\n",
    "function get_dphi()\n",
    "    return 0.001\n",
    "end\n",
    "get_dphi( cell ) = get_dphi()\n",
    "\n",
    "# 含水率から水分化学ポテンシャルの算出\n",
    "function get_miu_by_phi()\n",
    "    return -10000.0\n",
    "end\n",
    "get_miu_by_phi( cell ) = get_miu_by_phi()\n",
    "\n",
    "### 移動特性 ###\n",
    "# 熱伝導率\n",
    "const lam = 45.0\n",
    "\n",
    "# 湿気依存\n",
    "get_lam() = lam\n",
    "get_lam( cell ) = get_lam()\n",
    "\n",
    "# 水分移動\n",
    "## 透水係数\n",
    "get_dw() = 0.0\n",
    "get_dw( cell ) = get_dw()\n",
    "\n",
    "# 透湿率（湿気伝導率）\n",
    "function get_dp()\n",
    "    return 0.0\n",
    "end\n",
    "get_dp( cell ) = get_dp()\n",
    "\n",
    "end"
   ]
  },
  {
   "cell_type": "code",
   "execution_count": 2,
   "metadata": {},
   "outputs": [],
   "source": [
    "mutable struct sample_cell\n",
    "    temp::Float64\n",
    "    miu::Float64\n",
    "end"
   ]
  },
  {
   "cell_type": "code",
   "execution_count": 4,
   "metadata": {},
   "outputs": [
    {
     "name": "stdout",
     "output_type": "stream",
     "text": [
      "0.001\n",
      "0.001\n",
      "-10000.0\n",
      "45.0\n",
      "0.0\n",
      "0.0\n"
     ]
    }
   ],
   "source": [
    "test_cell = sample_cell( 293.15, -1000.0 )\n",
    "module_name = :metal_plate\n",
    "println(getfield(Main, module_name).get_phi(test_cell))\n",
    "println(getfield(Main, module_name).get_dphi(test_cell))\n",
    "println(getfield(Main, module_name).get_miu_by_phi(test_cell))\n",
    "println(getfield(Main, module_name).get_lam(test_cell))\n",
    "println(getfield(Main, module_name).get_dp(test_cell))\n",
    "println(getfield(Main, module_name).get_dw(test_cell))"
   ]
  },
  {
   "cell_type": "code",
   "execution_count": null,
   "metadata": {},
   "outputs": [],
   "source": []
  }
 ],
 "metadata": {
  "kernelspec": {
   "display_name": "Julia 1.11.0",
   "language": "julia",
   "name": "julia-1.11"
  },
  "language_info": {
   "file_extension": ".jl",
   "mimetype": "application/julia",
   "name": "julia",
   "version": "1.11.0"
  }
 },
 "nbformat": 4,
 "nbformat_minor": 2
}
