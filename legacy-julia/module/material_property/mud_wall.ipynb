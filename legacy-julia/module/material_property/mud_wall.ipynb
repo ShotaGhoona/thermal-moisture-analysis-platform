{
 "cells": [
  {
   "cell_type": "markdown",
   "metadata": {},
   "source": [
    "# Mud wall（土壁）の物性値  \n",
    "参考：藤原（2018）"
   ]
  },
  {
   "cell_type": "code",
   "execution_count": 1,
   "metadata": {},
   "outputs": [
    {
     "data": {
      "text/plain": [
       "Main.mud_wall"
      ]
     },
     "execution_count": 1,
     "metadata": {},
     "output_type": "execute_result"
    }
   ],
   "source": [
    "module mud_wall\n",
    "\n",
    "include(\"../function/vapour.jl\")\n",
    "\n",
    "# 空隙率\n",
    "const psi = 0.082\n",
    "\n",
    "# 材料密度\n",
    "const row = 1650.0 #kg/m3 \n",
    "\n",
    "# 比熱\n",
    "const C = 900.0 #J/kg 鉱物性の建材の標準的な値\n",
    "\n",
    "# 水の密度\n",
    "const roww = 1000.0 #kg/m3\n",
    "#理想気体定数\n",
    "const R = 8.314 # J/(mol K)\n",
    "# 水のモル質量\n",
    "const Mw = 0.018 # kg/mol\n",
    "# 水蒸気のガス定数\n",
    "#Rv = R / Mw # J/(kg K)\n",
    "# 水の熱容量\n",
    "const croww = 1000.0 * 4.18605e+3\n",
    "\n",
    "# miu ⇒　rh の変換係数\n",
    "function convertMiu2RH( ;temp::Float64, miu::Float64 );\n",
    "    return exp( miu / Rv / temp )\n",
    "end\n",
    "convertMiu2RH( temp::Float64, miu::Float64 ) = convertMiu2RH( temp=temp, miu=miu )\n",
    "\n",
    "# 熱容量\n",
    "get_crow( ;phi::Float64 ) = C * row + croww * phi\n",
    "get_crow( cell ) = get_crow( phi = get_phi( cell ) )\n",
    "\n",
    "### 水分特性 ###\n",
    "\n",
    "# 含水率\n",
    "function get_phi( ;temp::Float64, miu::Float64 )\n",
    "#-------------( RH)---------------\n",
    "    RH = convertMiu2RH( temp, miu )\n",
    "#-------------( PSI)---------------    \n",
    "    if RH<0.4885 \n",
    "        phi = -0.00596/(RH+0.325) + 0.0184\n",
    "    else\n",
    "        phi = -0.00304/(RH-1.07) + 0.00579\n",
    "    end\n",
    "#    RHO_2W = 1000.0\n",
    "#    RHO_MW = 1650.0\n",
    "#    return phi * RHO_2W / RHO_MW #容積含水率\n",
    "    return phi * row / roww #2021/01/20高取修正\n",
    "end\n",
    "get_phi( cell ) = get_phi( temp = cell.temp, miu = cell.miu )\n",
    "\n",
    "# 含水率の水分化学ポテンシャル微分\n",
    "function get_dphi( ;temp::Float64, miu::Float64 )\n",
    "    DRH_DMU = 1 / Rv/ temp* exp( miu/Rv/temp )\n",
    "    RH = convertMiu2RH( temp, miu )\n",
    "    if RH<0.4885\n",
    "        DPHI_DRH = 0.00596 / ( (RH+0.325)^2.0 )\n",
    "    else\n",
    "        DPHI_DRH = 0.00304 / ( (RH-1.07 )^2.0 )\n",
    "    end\n",
    "    return DPHI_DRH * DRH_DMU\n",
    "end\n",
    "get_dphi( cell ) = get_dphi( temp = cell.temp, miu = cell.miu )\n",
    "\n",
    "# 含水率から水分化学ポテンシャルの算出\n",
    "get_miu_by_phi( ;phi::Float64 ) = 0.0\n",
    "get_miu_by_phi( cell ) = get_miu_by_phi( phi = get_phi( cell ) )\n",
    "\n",
    "### 移動特性 ###\n",
    "# 熱伝導率\n",
    "const lam = 0.23\n",
    "# 湿気依存\n",
    "get_lam( ;phi::Float64 ) = lam\n",
    "get_lam( cell ) = get_lam( phi = get_phi( cell ) )\n",
    "\n",
    "# 透水係数\n",
    "function get_dw( ;phi::Float64 );\n",
    "    return 0.0\n",
    "end\n",
    "get_dw( cell ) = get_dw( phi = get_phi(cell) )\n",
    "\n",
    "# 気相水分伝導率\n",
    "const Patm = 101325.0 #[Pa]\n",
    "const LAMDX = 2.25e-6\n",
    "\n",
    "function cal_dp( temp::Float64, miu::Float64 )\n",
    "    Pv = cal_Pvs(temp)^exp( miu/Rv/temp )\n",
    "    return LAMDX * ( 0.622*Patm ) / ( ( Patm - Pv )^2 )\n",
    "end\n",
    "\n",
    "# 水分化学ポテンシャル勾配に対する値\n",
    "function get_ldtg( ;temp::Float64, miu::Float64 );\n",
    "    DPV_DT = cal_DPvs(temp) * exp( miu/Rv/temp ) + cal_Pvs(temp) * ( - miu/Rv/(temp)^2 ) * exp( miu/Rv/temp )\n",
    "    return cal_dp(temp, miu) * DPV_DT\n",
    "end\n",
    "get_ldtg( cell ) = get_ldtg( temp = cell.temp, miu = cell.miu )\n",
    "\n",
    "function get_ldmg( ;temp::Float64, miu::Float64 );\n",
    "    return cal_dp(temp, miu) * cal_Pvs(temp) / Rv / temp * exp( miu/Rv/temp )\n",
    "end\n",
    "get_ldmg( cell ) = get_ldmg( temp = cell.temp, miu = cell.miu )\n",
    "\n",
    "end"
   ]
  },
  {
   "cell_type": "markdown",
   "metadata": {},
   "source": [
    "### Example"
   ]
  },
  {
   "cell_type": "code",
   "execution_count": 2,
   "metadata": {},
   "outputs": [],
   "source": [
    "mutable struct test_mud_wall\n",
    "    temp::Float64\n",
    "    miu::Float64\n",
    "end"
   ]
  },
  {
   "cell_type": "code",
   "execution_count": 3,
   "metadata": {},
   "outputs": [
    {
     "data": {
      "text/plain": [
       "test_mud_wall(293.15, -48294.76033929033)"
      ]
     },
     "execution_count": 3,
     "metadata": {},
     "output_type": "execute_result"
    }
   ],
   "source": [
    "mud_wall_hygro = test_mud_wall( 293.15, 8.314 / 0.018 * 293.15 * log( 0.7 ) )"
   ]
  },
  {
   "cell_type": "code",
   "execution_count": 4,
   "metadata": {},
   "outputs": [
    {
     "data": {
      "text/plain": [
       "1.5817158828975968e6"
      ]
     },
     "execution_count": 4,
     "metadata": {},
     "output_type": "execute_result"
    }
   ],
   "source": [
    "mud_wall.get_crow( mud_wall_hygro )"
   ]
  },
  {
   "cell_type": "code",
   "execution_count": 5,
   "metadata": {},
   "outputs": [
    {
     "data": {
      "text/plain": [
       "0.23"
      ]
     },
     "execution_count": 5,
     "metadata": {},
     "output_type": "execute_result"
    }
   ],
   "source": [
    "mud_wall.get_lam( mud_wall_hygro ) "
   ]
  },
  {
   "cell_type": "code",
   "execution_count": 6,
   "metadata": {},
   "outputs": [
    {
     "data": {
      "text/plain": [
       "0.023104330549705985"
      ]
     },
     "execution_count": 6,
     "metadata": {},
     "output_type": "execute_result"
    }
   ],
   "source": [
    "mud_wall.get_phi( mud_wall_hygro )"
   ]
  },
  {
   "cell_type": "code",
   "execution_count": 7,
   "metadata": {},
   "outputs": [
    {
     "data": {
      "text/plain": [
       "0.08121064285706711"
      ]
     },
     "execution_count": 7,
     "metadata": {},
     "output_type": "execute_result"
    }
   ],
   "source": [
    "mud_wall.get_phi( temp = mud_wall_hygro.temp, miu = -0.00000001 )"
   ]
  },
  {
   "cell_type": "code",
   "execution_count": 8,
   "metadata": {},
   "outputs": [
    {
     "data": {
      "text/plain": [
       "0.0"
      ]
     },
     "execution_count": 8,
     "metadata": {},
     "output_type": "execute_result"
    }
   ],
   "source": [
    "mud_wall.get_miu_by_phi( phi = mud_wall.get_phi( mud_wall_hygro ) )"
   ]
  },
  {
   "cell_type": "code",
   "execution_count": 9,
   "metadata": {},
   "outputs": [
    {
     "data": {
      "text/plain": [
       "1.1474717109535791e-7"
      ]
     },
     "execution_count": 9,
     "metadata": {},
     "output_type": "execute_result"
    }
   ],
   "source": [
    "mud_wall.get_dphi( mud_wall_hygro )"
   ]
  },
  {
   "cell_type": "code",
   "execution_count": 10,
   "metadata": {},
   "outputs": [
    {
     "data": {
      "text/plain": [
       "0.0"
      ]
     },
     "execution_count": 10,
     "metadata": {},
     "output_type": "execute_result"
    }
   ],
   "source": [
    "mud_wall.get_miu_by_phi( mud_wall_hygro )"
   ]
  },
  {
   "cell_type": "code",
   "execution_count": 11,
   "metadata": {},
   "outputs": [
    {
     "data": {
      "text/plain": [
       "0.0"
      ]
     },
     "execution_count": 11,
     "metadata": {},
     "output_type": "execute_result"
    }
   ],
   "source": [
    "mud_wall.get_dw( mud_wall_hygro )"
   ]
  },
  {
   "cell_type": "code",
   "execution_count": 12,
   "metadata": {},
   "outputs": [
    {
     "data": {
      "text/plain": [
       "1.6782534548824714e-13"
      ]
     },
     "execution_count": 12,
     "metadata": {},
     "output_type": "execute_result"
    }
   ],
   "source": [
    "mud_wall.get_ldmg( mud_wall_hygro )"
   ]
  },
  {
   "cell_type": "code",
   "execution_count": 13,
   "metadata": {},
   "outputs": [
    {
     "data": {
      "text/plain": [
       "1.4342952740501837e-9"
      ]
     },
     "execution_count": 13,
     "metadata": {},
     "output_type": "execute_result"
    }
   ],
   "source": [
    "mud_wall.get_ldtg( mud_wall_hygro )"
   ]
  },
  {
   "cell_type": "code",
   "execution_count": null,
   "metadata": {},
   "outputs": [],
   "source": []
  }
 ],
 "metadata": {
  "kernelspec": {
   "display_name": "Julia 1.7.3",
   "language": "julia",
   "name": "julia-1.7"
  },
  "language_info": {
   "file_extension": ".jl",
   "mimetype": "application/julia",
   "name": "julia",
   "version": "1.7.3"
  }
 },
 "nbformat": 4,
 "nbformat_minor": 4
}
