{
 "cells": [
  {
   "cell_type": "markdown",
   "metadata": {},
   "source": [
    "# Tuff（阿蘇弱溶結凝灰岩）の物性値ver.2  \n",
    "\n",
    "2021/01/25 髙取作成  \n",
    "元の値を参考にvan-Genuchtenのモデルで水分拡散係数をモデル化  \n",
    "⇒　主に安福先生の測定値を参考"
   ]
  },
  {
   "cell_type": "code",
   "execution_count": 1,
   "metadata": {},
   "outputs": [
    {
     "data": {
      "text/plain": [
       "Main.tuff_motomachi_v2"
      ]
     },
     "execution_count": 1,
     "metadata": {},
     "output_type": "execute_result"
    }
   ],
   "source": [
    "module tuff_motomachi_v2\n",
    "\n",
    "# 空隙率\n",
    "const psi = 0.3\n",
    "\n",
    "# 材料密度\n",
    "const row = 1479.25 #kg/m3 \n",
    "\n",
    "# 比熱\n",
    "const C = 750.0 #J/kg 鉱物性の建材の標準的な値\n",
    "\n",
    "# 水の密度\n",
    "const roww = 1000.0 #kg/m3\n",
    "#理想気体定数\n",
    "const R = 8.314 # J/(mol K)\n",
    "# 水のモル質量\n",
    "const Mw = 0.018 # kg/mol\n",
    "# 水蒸気のガス定数\n",
    "Rv = R / Mw # J/(kg K)\n",
    "# 水の熱容量\n",
    "const croww = 1000.0 * 4.18605e+3\n",
    "\n",
    "# 熱容量\n",
    "get_crow( ;phi::Float64 ) = C * row + croww * phi\n",
    "get_crow( cell ) = get_crow( phi = get_phi( cell ) )\n",
    "\n",
    "### 水分特性 ###\n",
    "# van-Genuchten用情報\n",
    "include(\"./van_genuchten.jl\")\n",
    "include(\"./Boltzmann_transformation.jl\")\n",
    "\n",
    "BeSand_vG = van_Genuchten.vG_parameter( \n",
    "    3.5/98.0,\n",
    "    1.31,\n",
    "    1.0 - ( 1.0 / 1.31 ),\n",
    "    # 0.5\n",
    "    6.0\n",
    ")\n",
    "\n",
    "# Boltzmann変換用変数\n",
    "Bvalue_a = 0.43053007\n",
    "Bvalue_b = 19389.63902\n",
    "Bvalue_c =-8.119220102\n",
    "\n",
    "# 含水率\n",
    "get_phi( ;miu::Float64 ) = van_Genuchten.get_phi( vG = BeSand_vG, miu = miu, phimax = psi )\n",
    "get_phi( cell ) = van_Genuchten.get_phi( vG = BeSand_vG, miu = cell.miu, phimax = psi )\n",
    "\n",
    "# 含水率の水分化学ポテンシャル微分\n",
    "get_dphi( ;miu::Float64 ) = van_Genuchten.get_dphi( vG = BeSand_vG, miu = miu, phimax = psi )\n",
    "get_dphi( cell ) = get_dphi( miu = cell.miu )\n",
    "\n",
    "# 含水率から水分化学ポテンシャルの算出\n",
    "get_miu_by_phi( ;phi::Float64 ) = van_Genuchten.get_miu(vG = BeSand_vG, phi = phi, phimax = psi )\n",
    "get_miu_by_phi( cell ) = get_miu_by_phi( phi = cell.phi )\n",
    "\n",
    "### 移動特性 ###\n",
    "# 熱伝導率\n",
    "const lam = 0.35 # 適当な値だったはず（2020/11/19コメント）\n",
    "# 湿気依存\n",
    "get_lam( ;phi::Float64 ) = lam + 1.7227 * phi\n",
    "get_lam( cell ) = get_lam( phi = get_phi( cell ) )\n",
    "\n",
    "# 飽和時の透水係数\n",
    "const Ksat = 3.0e-7\n",
    "\n",
    "# 透水係数\n",
    "#get_dw( ;miu::Float64 ) = Ksat * van_Genuchten.get_kl( vG = BeSand_vG, miu = miu ) + 1.0e-9\n",
    "#get_dw( cell ) = get_dw( ;miu = cell.miu )\n",
    "get_dw( ;phi::Float64 ) = cal_Dw_by_Boltzmann( a = Bvalue_a, b = Bvalue_b, c = Bvalue_c, phi_init = 0.0, phi = phi)\n",
    "get_dw( cell ) = get_dw( ;phi = get_phi( cell ) )\n",
    "\n",
    "# 透湿率（湿気伝導率）\n",
    "function get_dp( ;temp::Float64, phi::Float64 );\n",
    "    dp = 1.2e-10 #絶乾時の透湿率[kg/m Pa s]\n",
    "    return dp * ( ( psi + 0.001 - phi ) / psi )\n",
    "end\n",
    "get_dp( cell ) = get_dp( temp = cell.temp, phi = get_phi( cell ) )\n",
    "\n",
    "end"
   ]
  },
  {
   "cell_type": "markdown",
   "metadata": {},
   "source": [
    "### Example"
   ]
  },
  {
   "cell_type": "code",
   "execution_count": 2,
   "metadata": {},
   "outputs": [],
   "source": [
    "mutable struct test_tuff_motomachi_v2\n",
    "    temp::Float64\n",
    "    miu::Float64\n",
    "end"
   ]
  },
  {
   "cell_type": "code",
   "execution_count": 3,
   "metadata": {},
   "outputs": [
    {
     "data": {
      "text/plain": [
       "test_tuff_motomachi_v2(293.15, -0.013540273447664458)"
      ]
     },
     "execution_count": 3,
     "metadata": {},
     "output_type": "execute_result"
    }
   ],
   "source": [
    "test_tuffm_hygro_v2 = test_tuff_motomachi_v2( 293.15, 8.314 / 0.018 * 293.15 * log( 0.9999999) )"
   ]
  },
  {
   "cell_type": "code",
   "execution_count": 4,
   "metadata": {},
   "outputs": [
    {
     "data": {
      "text/plain": [
       "2.365239020964929e6"
      ]
     },
     "execution_count": 4,
     "metadata": {},
     "output_type": "execute_result"
    }
   ],
   "source": [
    "tuff_motomachi_v2.get_crow( test_tuffm_hygro_v2 )"
   ]
  },
  {
   "cell_type": "code",
   "execution_count": 5,
   "metadata": {},
   "outputs": [
    {
     "data": {
      "text/plain": [
       "0.8668044529249012"
      ]
     },
     "execution_count": 5,
     "metadata": {},
     "output_type": "execute_result"
    }
   ],
   "source": [
    "tuff_motomachi_v2.get_lam( test_tuffm_hygro_v2 ) "
   ]
  },
  {
   "cell_type": "code",
   "execution_count": 6,
   "metadata": {},
   "outputs": [
    {
     "data": {
      "text/plain": [
       "0.29999678001097185"
      ]
     },
     "execution_count": 6,
     "metadata": {},
     "output_type": "execute_result"
    }
   ],
   "source": [
    "tuff_motomachi_v2.get_phi( test_tuffm_hygro_v2 )"
   ]
  },
  {
   "cell_type": "code",
   "execution_count": 7,
   "metadata": {},
   "outputs": [
    {
     "data": {
      "text/plain": [
       "-0.01354027344778912"
      ]
     },
     "execution_count": 7,
     "metadata": {},
     "output_type": "execute_result"
    }
   ],
   "source": [
    "tuff_motomachi_v2.get_miu_by_phi( phi = tuff_motomachi_v2.get_phi( test_tuffm_hygro_v2 ) )"
   ]
  },
  {
   "cell_type": "code",
   "execution_count": 8,
   "metadata": {},
   "outputs": [
    {
     "data": {
      "text/plain": [
       "0.0003115200992943364"
      ]
     },
     "execution_count": 8,
     "metadata": {},
     "output_type": "execute_result"
    }
   ],
   "source": [
    "tuff_motomachi_v2.get_dphi( test_tuffm_hygro_v2 )"
   ]
  },
  {
   "cell_type": "code",
   "execution_count": 9,
   "metadata": {},
   "outputs": [
    {
     "data": {
      "text/plain": [
       "4.076410239254957e-9"
      ]
     },
     "execution_count": 9,
     "metadata": {},
     "output_type": "execute_result"
    }
   ],
   "source": [
    "tuff_motomachi_v2.get_dw( test_tuffm_hygro_v2 )"
   ]
  },
  {
   "cell_type": "code",
   "execution_count": 10,
   "metadata": {},
   "outputs": [
    {
     "data": {
      "text/plain": [
       "4.0128799561125473e-13"
      ]
     },
     "execution_count": 10,
     "metadata": {},
     "output_type": "execute_result"
    }
   ],
   "source": [
    "tuff_motomachi_v2.get_dp( test_tuffm_hygro_v2 )"
   ]
  },
  {
   "cell_type": "code",
   "execution_count": 11,
   "metadata": {},
   "outputs": [
    {
     "data": {
      "text/plain": [
       "5154.322471132873"
      ]
     },
     "execution_count": 11,
     "metadata": {},
     "output_type": "execute_result"
    }
   ],
   "source": [
    "1.968e-7 * ( ( 20.0 * 273.15 )^0.81 ) / 101325.0 / tuff_motomachi_v2.get_dp( test_tuffm_hygro_v2 )"
   ]
  },
  {
   "cell_type": "code",
   "execution_count": null,
   "metadata": {},
   "outputs": [],
   "source": []
  },
  {
   "cell_type": "code",
   "execution_count": null,
   "metadata": {},
   "outputs": [],
   "source": []
  }
 ],
 "metadata": {
  "kernelspec": {
   "display_name": "Julia 1.6.1",
   "language": "julia",
   "name": "julia-1.6"
  },
  "language_info": {
   "file_extension": ".jl",
   "mimetype": "application/julia",
   "name": "julia",
   "version": "1.6.1"
  }
 },
 "nbformat": 4,
 "nbformat_minor": 4
}
