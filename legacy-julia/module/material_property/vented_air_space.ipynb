{
 "cells": [
  {
   "cell_type": "markdown",
   "metadata": {},
   "source": [
    "# 通気層の物性値"
   ]
  },
  {
   "cell_type": "markdown",
   "metadata": {},
   "source": [
    "通気層を抵抗として取り扱う場合の方法について示す。  \n",
    "通気層を抵抗として取り扱う場合、airなどの構造体にせず、cell構造体とみなした計算を行う。  \n",
    "もし、空気層の温度変化を扱う場合、air構造体とし、境界条件を与えることで計算を行うこと。"
   ]
  },
  {
   "cell_type": "code",
   "execution_count": null,
   "metadata": {},
   "outputs": [
    {
     "data": {
      "text/plain": [
       "Main.plywood"
      ]
     },
     "execution_count": 1,
     "metadata": {},
     "output_type": "execute_result"
    }
   ],
   "source": [
    "module vented_air_space\n",
    "\n",
    "# 空隙率\n",
    "const psi = 1.0\n",
    "\n",
    "# 材料密度\n",
    "const row = 1.293 #kg/m3 \n",
    "\n",
    "# 比熱\n",
    "const C = 1006.0 #J/kg 鉱物性の建材の標準的な値\n",
    "\n",
    "# 熱容量\n",
    "get_crow( cell ) = C * row\n",
    "\n",
    "const Le = 1.0  # ルイス数\n",
    "const Rv = 8.31441 / 0.01802    # 水の気体定数\n",
    "\n",
    "### 水分特性 ###\n",
    "\n",
    "# 含水率\n",
    "get_phi( cell ) = 0.0\n",
    "\n",
    "# 含水率の水分化学ポテンシャル微分\n",
    "# dphi/dmiu = dphi/drh * drh/dmiu\n",
    "get_dphi( cell ) = 0.0\n",
    "\n",
    "# 含水率から水分化学ポテンシャルの算出\n",
    "get_miu_by_phi( cell ) = 0.0\n",
    "\n",
    "### 移動特性 ###\n",
    "# 熱伝導率（熱抵抗換算）\n",
    "get_lam( cell ) = \n",
    "    if cell.dx >= 0.01\n",
    "        cell.dx / 0.09\n",
    "    elseif cell.dx < 0.01\n",
    "        cell.dx / ( 0.09 * cell.dx * 100.0 )\n",
    "    end\n",
    "\n",
    "# 透湿率（湿気伝導率）\n",
    "# ルイスの関係（Lewis relation）より算出\n",
    "function get_dp( cell )\n",
    "    alpha = get_lam( cell ) / cell.dx - 4.4 # 放射熱伝達率を引いている\n",
    "    return cell.dx * alpha / ( Le * C * row * Rv * cell.temp )\n",
    "end\n",
    "# 透水係数\n",
    "get_ldml( cell ) = 0.0\n",
    "\n",
    "end"
   ]
  },
  {
   "cell_type": "code",
   "execution_count": null,
   "metadata": {},
   "outputs": [],
   "source": []
  }
 ],
 "metadata": {
  "kernelspec": {
   "display_name": "Julia 1.7.3",
   "language": "julia",
   "name": "julia-1.7"
  },
  "language_info": {
   "file_extension": ".jl",
   "mimetype": "application/julia",
   "name": "julia",
   "version": "1.7.3"
  }
 },
 "nbformat": 4,
 "nbformat_minor": 4
}
