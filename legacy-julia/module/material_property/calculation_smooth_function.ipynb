{
 "cells": [
  {
   "cell_type": "markdown",
   "metadata": {},
   "source": [
    "# 結露領域など高相対湿度における接続関数を考える"
   ]
  },
  {
   "cell_type": "markdown",
   "metadata": {},
   "source": [
    "## 一定以上の相対湿度において、平衡含水率曲線を3次関数で近似する  \n",
    "\n",
    "### $$ \\phi = a h^3 + bh^2 + ch + d $$\n",
    "\n",
    "- $\\phi$：含水率\n",
    "- $h$：相対湿度\n",
    "\n",
    "### 変数の定義\n",
    "- $\\psi$：空隙率または毛管飽和含水率\n",
    "- $g(\\phi)$：接続する関数の傾きを表す関数\n",
    "- $h_c$：関数と接続する際の最小の相対湿度\n",
    "\n",
    "### 拘束条件\n",
    "- $\\phi(h_{sat})$：飽和時（相対湿度1.0）のときの含水率\n",
    "- $\\phi(h_c)$：関数と接続する際の含水率\n",
    "- $\\frac{\\partial \\phi(h_c)}{\\partial h}$：関数と接続する際の平衡含水率の傾き\n",
    "- $\\frac{\\partial \\phi(h_{sat})}{\\partial h}$：飽和時の平衡含水率の傾き（未知数を解くため）"
   ]
  },
  {
   "cell_type": "markdown",
   "metadata": {},
   "source": [
    "## 計算方法  \n",
    "行列計算を用いて連立方程式の解を求める。\n",
    "\n",
    "\n",
    "### 行列式\n",
    "$$ A \\left(\n",
    "    \\begin{matrix} \n",
    "        a \\\\ \n",
    "        b \\\\\n",
    "        c \\\\ \n",
    "        d \n",
    "    \\end{matrix} \n",
    "        \\right)\n",
    "    = \n",
    "    \\left(\n",
    "    \\begin{matrix} \n",
    "        \\phi(h_{sat}) \\\\\n",
    "        \\frac{\\partial \\phi(h_{sat})}{\\partial h} \\\\\n",
    "        \\phi(h_c) \\\\ \n",
    "        \\frac{\\partial \\phi(h_c)}{\\partial h}\n",
    "    \\end{matrix} \n",
    "        \\right)\n",
    "    \n",
    "    $$\n",
    "\n",
    "また、行列Aは以下のように与えられる。\n",
    "\n",
    "$$ A = \\left(\n",
    "    \\begin{matrix} \n",
    "        h_{sat}^3 & h_{sat}^2 & h_{sat} & 1.0 \\\\ \n",
    "        3 h_{sat}^2 & 2h_{sat} & 1.0 & 0.0 \\\\ \n",
    "        h_{c}^3 & h_{c}^2 & h_{c} & 1.0 \\\\ \n",
    "        3 h_{c}^2 & 2h_{c} & 1.0 & 0.0\n",
    "    \\end{matrix} \n",
    "        \\right)$$"
   ]
  },
  {
   "cell_type": "code",
   "execution_count": 1,
   "metadata": {},
   "outputs": [
    {
     "data": {
      "text/plain": [
       "set_A (generic function with 1 method)"
      ]
     },
     "metadata": {},
     "output_type": "display_data"
    }
   ],
   "source": [
    "function set_A(hsat, hc)\n",
    "    return ([\n",
    "        hsat^3      hsat^2  hsat    1.0\n",
    "        3*hsat^2    2*hsat  1.0     0.0\n",
    "        hc^3        hc^2    hc      1.0\n",
    "        3*hc^2      2*hc    1.0     0.0 \n",
    "        ])\n",
    "end"
   ]
  },
  {
   "cell_type": "code",
   "execution_count": 2,
   "metadata": {},
   "outputs": [
    {
     "data": {
      "text/plain": [
       "cal_abcd (generic function with 1 method)"
      ]
     },
     "metadata": {},
     "output_type": "display_data"
    }
   ],
   "source": [
    "function cal_abcd(phi_sat, dphi_sat, phi_c, dphi_c, hsat, hc)\n",
    "    A = set_A(hsat, hc)\n",
    "    B = [\n",
    "        phi_sat\n",
    "        dphi_sat\n",
    "        phi_c\n",
    "        dphi_c\n",
    "    ]\n",
    "    return A \\ B\n",
    "end"
   ]
  },
  {
   "cell_type": "code",
   "execution_count": 3,
   "metadata": {},
   "outputs": [
    {
     "data": {
      "text/plain": [
       "cal_abcd_by_cell (generic function with 1 method)"
      ]
     },
     "metadata": {},
     "output_type": "display_data"
    }
   ],
   "source": [
    "include(\"../cell.jl\"); # 多孔質材料の構成要素を表すモジュール\n",
    "function cal_abcd_by_cell(material_name, hsat, hc)\n",
    "    cell_c   = Cell( temp = 293.15, miu = convertRH2Miu( temp = 293.15, rh = hc ),   material_name = material_name )\n",
    "    cell_sat = Cell( temp = 293.15, miu = convertRH2Miu( temp = 293.15, rh = hsat ), material_name = material_name )\n",
    "    return cal_abcd( psi(cell_sat), 0.0, phi(cell_c), dphi(cell_c), hsat, hc)\n",
    "end"
   ]
  },
  {
   "cell_type": "code",
   "execution_count": 4,
   "metadata": {},
   "outputs": [
    {
     "data": {
      "text/plain": [
       "4-element Vector{Float64}:\n",
       " -1.9777924016366822e6\n",
       "  5.903710318859591e6\n",
       " -5.874043432809136e6\n",
       "  1.9481265055862272e6"
      ]
     },
     "metadata": {},
     "output_type": "display_data"
    }
   ],
   "source": [
    "a, b, c, d = cal_abcd_by_cell(\"glass_wool_16K\", 1.0, 0.99)"
   ]
  },
  {
   "cell_type": "code",
   "execution_count": 12,
   "metadata": {},
   "outputs": [
    {
     "data": {
      "text/plain": [
       "0.9999"
      ]
     },
     "metadata": {},
     "output_type": "display_data"
    }
   ],
   "source": [
    "rht = 0.9999"
   ]
  },
  {
   "cell_type": "code",
   "execution_count": 13,
   "metadata": {},
   "outputs": [
    {
     "data": {
      "text/plain": [
       "0.9897053090389818"
      ]
     },
     "metadata": {},
     "output_type": "display_data"
    }
   ],
   "source": [
    "a * rht^3 + b * rht^2 + c * rht + d"
   ]
  },
  {
   "cell_type": "code",
   "execution_count": 8,
   "metadata": {},
   "outputs": [],
   "source": []
  }
 ],
 "metadata": {
  "kernelspec": {
   "display_name": "Julia 1.7.3",
   "language": "julia",
   "name": "julia-1.7"
  },
  "language_info": {
   "file_extension": ".jl",
   "mimetype": "application/julia",
   "name": "julia",
   "version": "1.7.3"
  }
 },
 "nbformat": 4,
 "nbformat_minor": 2
}
