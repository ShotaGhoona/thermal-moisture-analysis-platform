{
 "cells": [
  {
   "cell_type": "markdown",
   "metadata": {},
   "source": [
    "# Tuff（阿蘇弱溶結凝灰岩）の物性値  \n",
    "参考：Magdi Khalil and Takeshi Ishizaki: Moisture characteristic curves of tuff breccia stone, 保存科学(Science for Consevation), vol.47, pp11-19, 2008  \n",
    "大分市教育委員会：国指定史跡大分元町石仏保存修理事業報告書, 1996  \n",
    "その他（安福先生Hypropを使用した測定結果、脇谷様：島津製作所への委託）"
   ]
  },
  {
   "cell_type": "markdown",
   "metadata": {},
   "source": [
    "#### ゴンペルツ曲線  \n",
    "$ y = K b^{e^{-cx}}$  \n",
    "平衡含水率の関係式に変換すると  \n",
    "$ \\phi = \\psi - ( \\psi - \\phi_{min} ) * ( A ^{ B ^{log_{10}(-\\mu)}}) $"
   ]
  },
  {
   "cell_type": "markdown",
   "metadata": {},
   "source": [
    "#### ゴンペルツ曲線の含水率微分  \n",
    "$ \\frac{ \\partial \\mu }{ \\partial \\phi }= \\phi * \\frac{ logB } { -\\mu log10 } * B ^ { log_{10}( -\\mu ) } *  logA  $"
   ]
  },
  {
   "cell_type": "markdown",
   "metadata": {},
   "source": [
    "#### ゴンペルツ曲線の逆関数（水分化学ポテンシャルの導出）\n",
    "$ \\mu = - 10.0 ^ { \\frac{ log \\frac{ log \\frac{ \\psi - \\phi } { \\psi - \\phi_{min} } } { logA } }{ logB }} $"
   ]
  },
  {
   "cell_type": "code",
   "execution_count": 1,
   "metadata": {},
   "outputs": [
    {
     "data": {
      "text/plain": [
       "Main.tuff_motomachi"
      ]
     },
     "execution_count": 1,
     "metadata": {},
     "output_type": "execute_result"
    }
   ],
   "source": [
    "module tuff_motomachi\n",
    "\n",
    "# 空隙率\n",
    "const psi = 0.392\n",
    "\n",
    "# 材料密度\n",
    "const row = 1479.25 #kg/m3 \n",
    "\n",
    "# 比熱\n",
    "const C = 750.0 #J/kg 鉱物性の建材の標準的な値\n",
    "\n",
    "# 水の密度\n",
    "const roww = 1000.0 #kg/m3\n",
    "#理想気体定数\n",
    "const R = 8.314 # J/(mol K)\n",
    "# 水のモル質量\n",
    "const Mw = 0.018 # kg/mol\n",
    "# 水蒸気のガス定数\n",
    "Rv = R / Mw # J/(kg K)\n",
    "# 水の熱容量\n",
    "const croww = 1000.0 * 4.18605e+3\n",
    "\n",
    "# miu ⇒　rh の変換係数\n",
    "function convertMiu2RH( ;temp::Float64, miu::Float64 );\n",
    "    return exp( miu / Rv / temp )\n",
    "end\n",
    "\n",
    "# 熱容量\n",
    "get_crow( ;phi::Float64 ) = C * row + croww * phi\n",
    "get_crow( cell ) = get_crow( phi = get_phi( cell ) )\n",
    "\n",
    "### 水分特性 ###\n",
    "const A_gomp = 0.001\n",
    "const B_gomp = 0.4\n",
    "# ゴンペルツ(Gompertz)曲線\n",
    "cal_phi_by_Gompertz_curve( A, B, miu ) = psi - psi * ( A ^ ( B ^ ( log10( -miu ) ) ) )\n",
    "cal_dphi_by_Gompertz_curve( A, B, miu, phi ) = phi * ( ( log( B ) ) / ( -miu * ( log( 10.0 ) ) ) * ( B ^ ( log10( -miu ) ) ) * ( log(A) ) )\n",
    "cal_miu_by_phi_Gompertz_curve( A, B, phi ) = -10.0 ^ ( ( log( log( ( psi - phi ) / psi ) / log(A) ) ) / log(B) )\n",
    "\n",
    "# 含水率\n",
    "get_phi( ;miu::Float64 ) = cal_phi_by_Gompertz_curve( A_gomp, B_gomp, miu )\n",
    "get_phi( cell ) = get_phi( miu = cell.miu )\n",
    "\n",
    "# 含水率の水分化学ポテンシャル微分\n",
    "get_dphi( ;miu::Float64, phi::Float64 ) = cal_dphi_by_Gompertz_curve( A_gomp, B_gomp, miu, phi )\n",
    "get_dphi( cell ) = get_dphi( miu = cell.miu, phi = get_phi( cell ) )\n",
    "\n",
    "# 含水率から水分化学ポテンシャルの算出\n",
    "get_miu_by_phi( ;phi::Float64 ) = - cal_miu_by_phi_Gompertz_curve( A_gomp, B_gomp, phi )\n",
    "get_miu_by_phi( cell ) = get_miu_by_phi( phi = get_phi( cell ) )\n",
    "\n",
    "### 移動特性 ###\n",
    "# 熱伝導率\n",
    "const lam = 0.35 # 適当な値だったはず（2020/11/19コメント）\n",
    "# 湿気依存\n",
    "get_lam( ;phi::Float64 ) = lam + 1.7227 * phi\n",
    "get_lam( cell ) = get_lam( phi = get_phi( cell ) )\n",
    "\n",
    "# 透水係数\n",
    "function get_dw( ;phi::Float64 );\n",
    "    ksat = 1.1e-7 #[m/s]\n",
    "    n = 15.0\n",
    "    return ksat * ( phi / psi ) ^ n\n",
    "end\n",
    "get_dw( cell ) = get_dw( phi = get_phi(cell) )\n",
    "\n",
    "# 透湿率（湿気伝導率）\n",
    "function get_dp( ;temp::Float64, phi::Float64 );\n",
    "    dp = 1.2e-10 #絶乾時の透湿率[kg/m Pa s]\n",
    "    return dp * ( ( psi + 0.001 - phi ) / psi )\n",
    "end\n",
    "get_dp( cell ) = get_dp( temp = cell.temp, phi = get_phi( cell ) )\n",
    "\n",
    "end"
   ]
  },
  {
   "cell_type": "markdown",
   "metadata": {},
   "source": [
    "### Example"
   ]
  },
  {
   "cell_type": "code",
   "execution_count": 2,
   "metadata": {},
   "outputs": [],
   "source": [
    "mutable struct test_tuff_motomachi\n",
    "    temp::Float64\n",
    "    miu::Float64\n",
    "end"
   ]
  },
  {
   "cell_type": "code",
   "execution_count": 3,
   "metadata": {},
   "outputs": [
    {
     "data": {
      "text/plain": [
       "test_tuff_motomachi(293.15, -48294.76033929033)"
      ]
     },
     "execution_count": 3,
     "metadata": {},
     "output_type": "execute_result"
    }
   ],
   "source": [
    "test_tuffm_hygro = test_tuff_motomachi( 293.15, 8.314 / 0.018 * 293.15 * log( 0.7 ) )"
   ]
  },
  {
   "cell_type": "code",
   "execution_count": 4,
   "metadata": {},
   "outputs": [
    {
     "data": {
      "text/plain": [
       "1.2574020452784589e6"
      ]
     },
     "execution_count": 4,
     "metadata": {},
     "output_type": "execute_result"
    }
   ],
   "source": [
    "tuff_motomachi.get_crow( test_tuffm_hygro )"
   ]
  },
  {
   "cell_type": "code",
   "execution_count": 5,
   "metadata": {},
   "outputs": [
    {
     "data": {
      "text/plain": [
       "0.41089237399247525"
      ]
     },
     "execution_count": 5,
     "metadata": {},
     "output_type": "execute_result"
    }
   ],
   "source": [
    "tuff_motomachi.get_lam( test_tuffm_hygro ) "
   ]
  },
  {
   "cell_type": "code",
   "execution_count": 6,
   "metadata": {},
   "outputs": [
    {
     "data": {
      "text/plain": [
       "0.03534705636064045"
      ]
     },
     "execution_count": 6,
     "metadata": {},
     "output_type": "execute_result"
    }
   ],
   "source": [
    "tuff_motomachi.get_phi( test_tuffm_hygro )"
   ]
  },
  {
   "cell_type": "code",
   "execution_count": 7,
   "metadata": {},
   "outputs": [
    {
     "data": {
      "text/plain": [
       "48294.760339290326"
      ]
     },
     "execution_count": 7,
     "metadata": {},
     "output_type": "execute_result"
    }
   ],
   "source": [
    "tuff_motomachi.get_miu_by_phi( phi = tuff_motomachi.get_phi( test_tuffm_hygro ) )"
   ]
  },
  {
   "cell_type": "code",
   "execution_count": 8,
   "metadata": {},
   "outputs": [
    {
     "data": {
      "text/plain": [
       "2.75230508773588e-8"
      ]
     },
     "execution_count": 8,
     "metadata": {},
     "output_type": "execute_result"
    }
   ],
   "source": [
    "tuff_motomachi.get_dphi( test_tuffm_hygro )"
   ]
  },
  {
   "cell_type": "code",
   "execution_count": 9,
   "metadata": {},
   "outputs": [
    {
     "data": {
      "text/plain": [
       "48294.760339290326"
      ]
     },
     "execution_count": 9,
     "metadata": {},
     "output_type": "execute_result"
    }
   ],
   "source": [
    "tuff_motomachi.get_miu_by_phi( test_tuffm_hygro )"
   ]
  },
  {
   "cell_type": "code",
   "execution_count": 10,
   "metadata": {},
   "outputs": [
    {
     "data": {
      "text/plain": [
       "2.3302389942269882e-23"
      ]
     },
     "execution_count": 10,
     "metadata": {},
     "output_type": "execute_result"
    }
   ],
   "source": [
    "tuff_motomachi.get_dw( test_tuffm_hygro )"
   ]
  },
  {
   "cell_type": "code",
   "execution_count": 11,
   "metadata": {},
   "outputs": [
    {
     "data": {
      "text/plain": [
       "1.0948559499164068e-10"
      ]
     },
     "execution_count": 11,
     "metadata": {},
     "output_type": "execute_result"
    }
   ],
   "source": [
    "tuff_motomachi.get_dp( test_tuffm_hygro )"
   ]
  },
  {
   "cell_type": "code",
   "execution_count": 12,
   "metadata": {},
   "outputs": [
    {
     "data": {
      "text/plain": [
       "18.89168829317575"
      ]
     },
     "execution_count": 12,
     "metadata": {},
     "output_type": "execute_result"
    }
   ],
   "source": [
    "1.968e-7 * ( ( 20.0 * 273.15 )^0.81 ) / 101325.0 / tuff_motomachi.get_dp( test_tuffm_hygro )"
   ]
  },
  {
   "cell_type": "code",
   "execution_count": null,
   "metadata": {},
   "outputs": [],
   "source": []
  }
 ],
 "metadata": {
  "kernelspec": {
   "display_name": "Julia 1.4.2",
   "language": "julia",
   "name": "julia-1.4"
  },
  "language_info": {
   "file_extension": ".jl",
   "mimetype": "application/julia",
   "name": "julia",
   "version": "1.4.2"
  }
 },
 "nbformat": 4,
 "nbformat_minor": 4
}
