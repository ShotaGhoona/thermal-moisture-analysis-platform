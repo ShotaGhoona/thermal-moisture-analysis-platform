{
 "cells": [
  {
   "cell_type": "markdown",
   "metadata": {},
   "source": [
    "# グラスウール 16K\n",
    "# （glass wool 16K）\n",
    "参考：熱湿気計算と物性値WG用  \n",
    "[1]  齋藤宏昭、土屋喬雄：冷房時における夏型壁体内結露に関する研究、その１　人工気候室における非定常結露実験、日本建築学会計画系論文集　第519号、pp39-45、1999年5月  \n",
    "[2] 土屋喬雄、黒木勝一、齋藤宏昭：冷房時の夏型壁体内結露に関する研究 （その 3） 1次元モデルの検証と壁体内結露の長期予測、日本建築学会大会学術講演梗概集 pp.269-270、1996年9月  \n",
    "[3]　独立行政法人　建築研究所、カナダ天然資源省　編：第3回　日加住宅R&D専門家作業会合　「断熱外皮の設計」講演予稿集\n"
   ]
  },
  {
   "cell_type": "code",
   "execution_count": 1,
   "metadata": {},
   "outputs": [
    {
     "data": {
      "text/plain": [
       "Main.glass_wool_16K"
      ]
     },
     "metadata": {},
     "output_type": "display_data"
    }
   ],
   "source": [
    "module glass_wool_16K\n",
    "\n",
    "# 空隙率\n",
    "const psi = 0.99 # おおよその値\n",
    "\n",
    "# 材料密度\n",
    "const row = 16.0 #kg/m3\n",
    "\n",
    "# 比熱\n",
    "const C = 698.0 #J/kg\n",
    "\n",
    "# 水の密度\n",
    "const roww = 1000.0 #kg/m3\n",
    "#理想気体定数\n",
    "const R = 8.314 # J/(mol K)\n",
    "# 水のモル質量\n",
    "const Mw = 0.018 # kg/mol\n",
    "# 水蒸気のガス定数\n",
    "Rv = R / Mw # J/(kg K)\n",
    "# 水の熱容量\n",
    "const croww = 1000.0 * 4.18605e+3\n",
    "\n",
    "# miu ⇒　rh の変換係数\n",
    "function convertMiu2RH( ;temp::Float64, miu::Float64 );\n",
    "    return exp( miu / Rv / temp )\n",
    "end\n",
    "\n",
    "# 熱容量\n",
    "get_crow( ;phi::Float64 ) = C * row + croww * phi\n",
    "get_crow( cell ) = get_crow( phi = get_phi( cell ) )\n",
    "\n",
    "### 水分特性 ###\n",
    "# 含水率\n",
    "# 関数系　phi = a * ( b / ( rh + c ) + d ) [kg/kg]\n",
    "# 相対湿度の閾値 rh_TH\n",
    "a = [ 1.0, 1.0 ]\n",
    "b = [ -0.00451762, -0.00000906546 ]\n",
    "c = [ 2.86089, -1.00131 ]\n",
    "d = [ 0.00157909, 0.000302253 ]\n",
    "rh_TH = [ 0.8357 ]\n",
    "\n",
    "\n",
    "function get_phi( ;rh::Float64 )\n",
    "    if rh < rh_TH[1]\n",
    "        phi = ( a[1] * ( b[1] / ( rh + c[1] ) + d[1] ) )\n",
    "    elseif rh >= rh_TH[1] && rh <= 0.99 #0.999\n",
    "        phi = ( a[2] * ( b[2] / ( rh + c[2] ) + d[2] ) )\n",
    "    # 髙取追記：2024/5/09\n",
    "    # 結露判定用\n",
    "    elseif rh > 0.99\n",
    "        phi = -1.9777924016366822e6 * rh^3 + 5.903710318859591e6 * rh^2 -5.874043432809136e6 * rh + 1.9481265055862272e6\n",
    "    end\n",
    "    return phi\n",
    "end\n",
    "\n",
    "get_phi( cell ) = get_phi( rh = convertMiu2RH( temp = cell.temp, miu = cell.miu ) )\n",
    "\n",
    "# 含水率の水分化学ポテンシャル微分\n",
    "drh_dmiu( temp::Float64, miu::Float64 ) = ( 1.0 / Rv / temp ) * exp( miu / Rv / temp )\n",
    "# dphi/dmiu = dphi/drh * drh/dmiu\n",
    "function get_dphi( ;temp::Float64, miu::Float64 )\n",
    "    rh = convertMiu2RH( temp = temp, miu = miu )\n",
    "    if rh < rh_TH[1]\n",
    "        dphi_drh = - ( a[1] * ( b[1] / (( rh + c[1] )^2) ) )\n",
    "    elseif rh >= rh_TH[1] && rh <= 0.99 #0.999\n",
    "        dphi_drh = - ( a[2] * ( b[2] / (( rh + c[2] )^2) ) )\n",
    "    # 髙取追記：2024/3/18\n",
    "    #elseif rh >= 0.999\n",
    "    elseif rh > 0.99\n",
    "        dphi_drh = - 3.0 * 1.9777924016366822e6 * rh^2 + 2.0 * 5.903710318859591e6 * rh - 5.874043432809136e6\n",
    "    end\n",
    "    return dphi_drh * drh_dmiu( temp, miu )\n",
    "end\n",
    "get_dphi( cell ) = get_dphi( temp = cell.temp, miu = cell.miu )\n",
    "\n",
    "# 含水率から水分化学ポテンシャルの算出\n",
    "function get_miu_by_phi( ;temp::Float64, phi::Float64 )\n",
    "    if phi < get_phi( rh = rh_TH[1])\n",
    "        rh = b[1] / (phi / a[1] - d[1]) - c[1]\n",
    "    elseif phi >= get_phi( rh = rh_TH[1]) && phi <= 0.0011 #0.0042267\n",
    "        rh = b[2] / (phi / a[2] - d[2]) - c[2]\n",
    "    # 髙取追記：2024/3/18\n",
    "    elseif rh >= 0.0011 #0.0042267\n",
    "        #rh = ( phi - 0.0042267 ) / 980.0 + 0.999\n",
    "        rh = ( phi - 0.0011 ) / 98.0 + 0.99\n",
    "    end\n",
    "    return Rv * temp * log( rh )\n",
    "end\n",
    "get_miu_by_phi( cell ) = get_miu_by_phi( temp = cell.temp, phi = get_phi( cell ) )\n",
    "\n",
    "### 移動特性 ###\n",
    "# 熱伝導率\n",
    "const lam = 0.045\n",
    "\n",
    "# 湿気依存\n",
    "get_lam( ;phi::Float64 ) = lam\n",
    "get_lam( cell ) = get_lam( phi = get_phi( cell ) )\n",
    "\n",
    "# 透水係数\n",
    "get_dw( ;phi::Float64 ) = 0.0\n",
    "get_dw( cell ) = 0.0\n",
    "\n",
    "# 透湿率（湿気伝導率）\n",
    "# kg / kg DA\n",
    "dah_dpv(pv::Float64) = 0.622 / ( 101325.0 - pv ) + 0.622 * pv / ( ( 101325.0 - pv )^2 )\n",
    "dah_dpv() = dah_dpv(1700.0)\n",
    "get_dp() = 2.52e-5 * dah_dpv() #絶乾時の透湿率[kg/m Pa s]\n",
    "get_dp( cell ) = get_dp()\n",
    "\n",
    "end"
   ]
  },
  {
   "cell_type": "code",
   "execution_count": 2,
   "metadata": {},
   "outputs": [
    {
     "data": {
      "text/plain": [
       "8.828262447549337"
      ]
     },
     "metadata": {},
     "output_type": "display_data"
    }
   ],
   "source": [
    "( glass_wool_16K.get_phi(rh = 0.999) - glass_wool_16K.get_phi(rh = 0.6) ) /0.1"
   ]
  },
  {
   "cell_type": "code",
   "execution_count": 15,
   "metadata": {},
   "outputs": [
    {
     "data": {
      "text/plain": [
       "0.0009795099562955457"
      ]
     },
     "metadata": {},
     "output_type": "display_data"
    }
   ],
   "source": [
    "glass_wool_16K.get_dphi(temp = 293.15, miu = -13500.0) / glass_wool_16K.drh_dmiu( 293.15, -13500.0 )"
   ]
  },
  {
   "cell_type": "code",
   "execution_count": 12,
   "metadata": {},
   "outputs": [
    {
     "data": {
      "text/plain": [
       "98.0"
      ]
     },
     "metadata": {},
     "output_type": "display_data"
    }
   ],
   "source": [
    "glass_wool_16K.get_dphi(temp = 293.15, miu = -135.0) / glass_wool_16K.drh_dmiu( 293.15, -135.0 )a\n"
   ]
  },
  {
   "cell_type": "code",
   "execution_count": 11,
   "metadata": {},
   "outputs": [
    {
     "data": {
      "text/plain": [
       "0.0011037967665782542"
      ]
     },
     "metadata": {},
     "output_type": "display_data"
    }
   ],
   "source": [
    "glass_wool_16K.get_phi(rh = 0.99)"
   ]
  },
  {
   "cell_type": "code",
   "execution_count": 5,
   "metadata": {},
   "outputs": [
    {
     "data": {
      "text/plain": [
       "0.9811000000000009"
      ]
     },
     "metadata": {},
     "output_type": "display_data"
    }
   ],
   "source": [
    "glass_wool_16K.get_phi(rh = 1.0)"
   ]
  },
  {
   "cell_type": "code",
   "execution_count": 6,
   "metadata": {},
   "outputs": [
    {
     "data": {
      "text/plain": [
       "1.600187483489686e-10"
      ]
     },
     "metadata": {},
     "output_type": "display_data"
    }
   ],
   "source": [
    "glass_wool_16K.get_dp()"
   ]
  },
  {
   "cell_type": "code",
   "execution_count": 7,
   "metadata": {},
   "outputs": [],
   "source": []
  }
 ],
 "metadata": {
  "kernelspec": {
   "display_name": "Julia 1.7.3",
   "language": "julia",
   "name": "julia-1.7"
  },
  "language_info": {
   "file_extension": ".jl",
   "mimetype": "application/julia",
   "name": "julia",
   "version": "1.7.3"
  }
 },
 "nbformat": 4,
 "nbformat_minor": 4
}
