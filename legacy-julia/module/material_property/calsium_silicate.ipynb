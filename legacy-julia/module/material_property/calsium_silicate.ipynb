{
 "cells": [
  {
   "cell_type": "markdown",
   "metadata": {},
   "source": [
    "# calcium silicateの物性値 \n",
    "2023 HAMテスト用\n",
    "参考：https://www.casiplus.de/technische-daten/"
   ]
  },
  {
   "cell_type": "code",
   "execution_count": 1,
   "metadata": {},
   "outputs": [
    {
     "data": {
      "text/plain": [
       "Main.calcium_silicate"
      ]
     },
     "execution_count": 1,
     "metadata": {},
     "output_type": "execute_result"
    }
   ],
   "source": [
    "module calcium_silicate\n",
    "\n",
    "include(\"../function/vapour.jl\")\n",
    "\n",
    "################################\n",
    "### 基礎物性 ###\n",
    "################################\n",
    "\n",
    "# 空隙率\n",
    "const psi = 0.893\n",
    "\n",
    "# 材料密度\n",
    "const row = 269.8 #kg/m3 \n",
    "\n",
    "################################\n",
    "# 水の密度\n",
    "const roww = 1000.0 #kg/m3\n",
    "#理想気体定数\n",
    "const R = 8.314 # J/(mol K)\n",
    "# 水のモル質量\n",
    "const Mw = 0.018 # kg/mol\n",
    "# 水蒸気のガス定数\n",
    "#Rv = R / Mw # J/(kg K)\n",
    "# 水の熱容量\n",
    "const croww = 1000.0 * 4.18605e+3\n",
    "# miu ⇒　rh の変換係数\n",
    "function convertMiu2RH( ;temp::Float64, miu::Float64 );\n",
    "    return exp( miu / Rv / temp )\n",
    "end\n",
    "convertMiu2RH( temp::Float64, miu::Float64 ) = convertMiu2RH( temp=temp, miu=miu )\n",
    "\n",
    "################################\n",
    "### 容量系 ###\n",
    "################################\n",
    "\n",
    "##########################################\n",
    "# 比熱 specific heat capacity\n",
    "const C = 1160.0 #J/kgK \n",
    "\n",
    "# 熱容量\n",
    "get_crow( ;phi::Float64 ) = C * row + croww * phi\n",
    "get_crow( cell ) = get_crow( phi = get_phi( cell ) )\n",
    "\n",
    "##########################################\n",
    "# 水分特性\n",
    "# van-Genuchten用情報\n",
    "include(\"./van_genuchten.jl\")\n",
    "include(\"./Boltzmann_transformation.jl\")\n",
    "\n",
    "BeSand_vG = van_Genuchten.vG_parameter( \n",
    "    0.007143, #α\n",
    "    2.0, #n\n",
    "    0.5, #m\n",
    "    0.5 #l\n",
    ")\n",
    "\n",
    "# 含水率\n",
    "get_phi( ;miu::Float64 ) = van_Genuchten.get_phi( vG = BeSand_vG, miu = miu, phimax = psi )\n",
    "get_phi( cell ) = van_Genuchten.get_phi( vG = BeSand_vG, miu = cell.miu, phimax = psi )\n",
    "\n",
    "# 含水率の水分化学ポテンシャル微分\n",
    "get_dphi( ;miu::Float64 ) = van_Genuchten.get_dphi( vG = BeSand_vG, miu = miu, phimax = psi )\n",
    "get_dphi( cell ) = get_dphi( miu = cell.miu )\n",
    "\n",
    "# 含水率から水分化学ポテンシャルの算出\n",
    "get_miu_by_phi( ;phi::Float64 ) = van_Genuchten.get_miu(vG = BeSand_vG, phi = phi, phimax = psi )\n",
    "get_miu_by_phi( cell ) = get_miu_by_phi( phi = cell.phi )\n",
    "\n",
    "################################\n",
    "### 移動特性 ###\n",
    "################################\n",
    "# 熱伝導率\n",
    "const lam = 0.767\n",
    "# 湿気依存\n",
    "get_lam( ;phi::Float64 ) = lam #+ 1.7227 * phi\n",
    "get_lam( cell ) = get_lam( phi = get_phi( cell ) )\n",
    "\n",
    "##########################################\n",
    "# 飽和時の透水係数\n",
    "const Ksat = 1.385e-5\n",
    "\n",
    "## 透水係数（変換後）\n",
    "get_dw( ;miu::Float64 ) = Ksat * van_Genuchten.get_kl( vG = BeSand_vG, miu = miu ) \n",
    "get_dw( cell ) = get_dw( ;miu = cell.miu )\n",
    "\n",
    "###########################################\n",
    "# 大気中における水蒸気の拡散係数\n",
    "δ(temp, Pa) = 2.0*10-7 * temp^0.81 / Pa\n",
    "const μ_value = 3.0\n",
    "\n",
    "# 透湿率（湿気伝導率）\n",
    "function get_dp( ;temp::Float64, phi::Float64 );\n",
    "    return δ(293.15, 101325.0) * μ_value\n",
    "end\n",
    "get_dp( cell ) = get_dp( temp = cell.temp, phi = get_phi( cell ) )\n",
    "\n",
    "end"
   ]
  },
  {
   "cell_type": "markdown",
   "metadata": {},
   "source": [
    "### Example"
   ]
  },
  {
   "cell_type": "code",
   "execution_count": 2,
   "metadata": {},
   "outputs": [],
   "source": [
    "mutable struct test_calcium_silicate\n",
    "    temp::Float64\n",
    "    miu::Float64\n",
    "end"
   ]
  },
  {
   "cell_type": "code",
   "execution_count": 3,
   "metadata": {},
   "outputs": [
    {
     "data": {
      "text/plain": [
       "test_calcium_silicate(293.15, -48294.76033929033)"
      ]
     },
     "execution_count": 3,
     "metadata": {},
     "output_type": "execute_result"
    }
   ],
   "source": [
    "calcium_silicate_hygro = test_calcium_silicate( 293.15, 8.314 / 0.018 * 293.15 * log( 0.7 ) )"
   ]
  },
  {
   "cell_type": "code",
   "execution_count": 4,
   "metadata": {},
   "outputs": [
    {
     "data": {
      "text/plain": [
       "323804.10938239406"
      ]
     },
     "execution_count": 4,
     "metadata": {},
     "output_type": "execute_result"
    }
   ],
   "source": [
    "calcium_silicate.get_crow( calcium_silicate_hygro )"
   ]
  },
  {
   "cell_type": "code",
   "execution_count": 5,
   "metadata": {},
   "outputs": [
    {
     "data": {
      "text/plain": [
       "0.767"
      ]
     },
     "execution_count": 5,
     "metadata": {},
     "output_type": "execute_result"
    }
   ],
   "source": [
    "calcium_silicate.get_lam( calcium_silicate_hygro ) "
   ]
  },
  {
   "cell_type": "code",
   "execution_count": 6,
   "metadata": {},
   "outputs": [
    {
     "data": {
      "text/plain": [
       "0.0025886239730519393"
      ]
     },
     "execution_count": 6,
     "metadata": {},
     "output_type": "execute_result"
    }
   ],
   "source": [
    "calcium_silicate.get_phi( calcium_silicate_hygro )"
   ]
  },
  {
   "cell_type": "code",
   "execution_count": 8,
   "metadata": {},
   "outputs": [
    {
     "data": {
      "text/plain": [
       "0.893"
      ]
     },
     "execution_count": 8,
     "metadata": {},
     "output_type": "execute_result"
    }
   ],
   "source": [
    "calcium_silicate.get_phi( miu = -0.00000001 )"
   ]
  },
  {
   "cell_type": "code",
   "execution_count": 9,
   "metadata": {},
   "outputs": [
    {
     "data": {
      "text/plain": [
       "-48294.76033929033"
      ]
     },
     "execution_count": 9,
     "metadata": {},
     "output_type": "execute_result"
    }
   ],
   "source": [
    "calcium_silicate.get_miu_by_phi( phi = calcium_silicate.get_phi( calcium_silicate_hygro ) )"
   ]
  },
  {
   "cell_type": "code",
   "execution_count": 10,
   "metadata": {},
   "outputs": [
    {
     "data": {
      "text/plain": [
       "5.3600063498106976e-8"
      ]
     },
     "execution_count": 10,
     "metadata": {},
     "output_type": "execute_result"
    }
   ],
   "source": [
    "calcium_silicate.get_dphi( calcium_silicate_hygro )"
   ]
  },
  {
   "cell_type": "code",
   "execution_count": 20,
   "metadata": {},
   "outputs": [
    {
     "data": {
      "text/plain": [
       "-1242.3116782234763"
      ]
     },
     "execution_count": 20,
     "metadata": {},
     "output_type": "execute_result"
    }
   ],
   "source": [
    "calcium_silicate.get_miu_by_phi( phi = 0.1 )"
   ]
  },
  {
   "cell_type": "code",
   "execution_count": 21,
   "metadata": {},
   "outputs": [
    {
     "data": {
      "text/plain": [
       "1.316347040846987e-17"
      ]
     },
     "execution_count": 21,
     "metadata": {},
     "output_type": "execute_result"
    }
   ],
   "source": [
    "calcium_silicate.get_dw( calcium_silicate_hygro )"
   ]
  },
  {
   "cell_type": "code",
   "execution_count": 16,
   "metadata": {},
   "outputs": [
    {
     "data": {
      "text/plain": [
       "59.97935354470674"
      ]
     },
     "execution_count": 16,
     "metadata": {},
     "output_type": "execute_result"
    }
   ],
   "source": [
    "calcium_silicate.get_dp( calcium_silicate_hygro )"
   ]
  },
  {
   "cell_type": "code",
   "execution_count": null,
   "metadata": {},
   "outputs": [],
   "source": []
  }
 ],
 "metadata": {
  "kernelspec": {
   "display_name": "Julia 1.6.3",
   "language": "julia",
   "name": "julia-1.6"
  },
  "language_info": {
   "file_extension": ".jl",
   "mimetype": "application/julia",
   "name": "julia",
   "version": "1.6.3"
  }
 },
 "nbformat": 4,
 "nbformat_minor": 4
}
