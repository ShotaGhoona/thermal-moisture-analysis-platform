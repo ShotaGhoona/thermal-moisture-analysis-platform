{
 "cells": [
  {
   "cell_type": "markdown",
   "metadata": {},
   "source": [
    "# 砂質土壌(Plainfield_sand)\n",
    "参考：？"
   ]
  },
  {
   "cell_type": "markdown",
   "metadata": {},
   "source": [
    "## 注意点  \n",
    "- 熱伝導率lamに未知の引数LAMTGRがあるため未完成\n",
    "- 含水率から水分化学ポテンシャルを求める関数は無し"
   ]
  },
  {
   "cell_type": "code",
   "execution_count": 39,
   "metadata": {},
   "outputs": [
    {
     "name": "stderr",
     "output_type": "stream",
     "text": [
      "WARNING: replacing module plainfield_sand.\n"
     ]
    },
    {
     "data": {
      "text/plain": [
       "Main.plainfield_sand"
      ]
     },
     "execution_count": 39,
     "metadata": {},
     "output_type": "execute_result"
    }
   ],
   "source": [
    "module plainfield_sand\n",
    "\n",
    "include(\"../module_function/vapour.jl\")\n",
    "\n",
    "# 空隙率\n",
    "const psi = 0.37519\n",
    "\n",
    "# 材料密度\n",
    "const row = 307.0 #kg/m3\n",
    "\n",
    "# 比熱 ⇒　簡易的に平均値を用いる\n",
    "const C = 4.18605e+3 #暫定的に水の比熱を用いている\n",
    "\n",
    "# 水の密度\n",
    "const roww = 1000.0 #kg/m3\n",
    "#理想気体定数\n",
    "const R = 8.314 # J/(mol K)\n",
    "# 水のモル質量\n",
    "const Mw = 0.018 # kg/mol\n",
    "# 水蒸気のガス定数\n",
    "#Rv = R / Mw # J/(kg K)\n",
    "# 水の熱容量\n",
    "const croww = 1000.0 * 4.18605e+3\n",
    "\n",
    "# miu ⇒　rh の変換係数\n",
    "function convertMiu2RH( ;temp::Float64, miu::Float64 );\n",
    "    return exp( miu / Rv / temp )\n",
    "end\n",
    "\n",
    "# 熱容量\n",
    "get_crow( ;phi::Float64 ) = C * row + croww * phi\n",
    "get_crow( cell ) = get_crow( phi = get_phi( cell ) )\n",
    "\n",
    "### 水分特性 ###\n",
    "\n",
    "# 含水率\n",
    "function get_phi( ;miu::Float64 )\n",
    "    if miu < 0.0 ; LM = log10( -miu )\n",
    "        else; LM = -4.0; miu = 0.0\n",
    "    end\n",
    "    if LM > 5.990; phi = 0.0\n",
    "        elseif LM > 0.50; phi = -0.018140 + 0.107130 / ( log10(-miu)-0.08470 )\n",
    "        elseif LM > 0.0;  phi =  0.397790 + 0.040180 / ( log10(-miu)-0.754330)\n",
    "        else;             phi =  0.30667e-1 * miu + 0.375190\n",
    "    end\n",
    "    return phi\n",
    "end\n",
    "get_phi( cell ) = get_phi( miu = cell.miu )\n",
    "\n",
    "# 含水率の水分化学ポテンシャル微分\n",
    "function get_dphi( ;miu::Float64, phi::Float64 );\n",
    "    if miu < 0.0 ; LM = log10( -miu )\n",
    "        else; LM = -4.0; miu = 0.0\n",
    "    end\n",
    "    if LM > 5.99; dphi = 0.0\n",
    "        elseif LM > 0.5; dphi = -0.10713 / (( log10(-miu) - 0.0847   )^2.0 ) / miu / log(10.0)\n",
    "        elseif LM > 0.0; dphi = -0.04018 / (( log10(-miu) - 0.754330 )^2.0 ) / miu / log(10.0)\n",
    "        else; dphi = 0.30667e-1\n",
    "    end\n",
    "    return dphi\n",
    "end\n",
    "get_dphi( cell ) = get_dphi( miu = cell.miu, phi = get_phi( cell ) )\n",
    "   \n",
    "# dphi_version2\n",
    "function get_dphi_v2( ;miu::Float64, phi::Float64 );\n",
    "    if miu < 0.0 ; LM = log10( -miu )\n",
    "        else; LM = -4.0; miu = 0.0\n",
    "    end\n",
    "    if LM > 5.99; dphi = 0.0\n",
    "        elseif LM > 0.5; dphi = 0.10713 / (( log10(-miu) - 0.0847   )^2.0 ) / (miu^2.0) / (log(10.0)^2.0) * ( log(10.0)+2.0/( log10(-miu)-0.08470))\n",
    "        elseif LM > 0.0; dphi = -0.04018 / (( log10(-miu) - 0.754330 )^2.0 ) / (miu^2.0) / (log(10.0)^2.0) * ( log(10.0)+2.0/( log10(-miu)-0.0754330))\n",
    "        else; dphi = 0.0\n",
    "    end\n",
    "    return dphi\n",
    "end\n",
    "\n",
    "# 含水率から水分化学ポテンシャルの算出\n",
    "function get_miu_by_phi(; phi::Float64);\n",
    "    # phi > 0.0 && phi < 0.369960; LM = 3662.970 / ( phi - 16.64990 ) + 225.9990; miu = -10.0 ^ LM\n",
    "    #   elseif phi <= 0.43440;     LM = 0.1718110/ ( phi - 0.48150  ) + 2.54090;  miu = -10.0 ^ LM\n",
    "    #   else;  miu = ( phi - 0.4400380 ) / 0.07211630\n",
    "    # end\n",
    "    miu = NaN\n",
    "    return miu\n",
    "end\n",
    "get_miu_by_phi( cell ) = get_miu_by_phi( phi = get_phi( cell ) )\n",
    "\n",
    "### 移動特性 ###\n",
    "# 熱伝導率\n",
    "# 湿気依存 LAMTGRとは？\n",
    "function get_lam( ;phi::Float64 );\n",
    "    if phi <=  0.0079; SLAMB =( 0.1e+1 )+( 0.22963e+3 ) * phi + ( -0.287037e+4 )*phi^2\n",
    "        else; SLAMB =( 0.407536e+1 ) + ( 0.192233e+2 ) * phi + ( -0.404658e+2 )*phi^2 +(+0.452669e+2)*phi^3\n",
    "    end\n",
    "    SLAMB = SLAMB * 1.16279 * 100.0 * 3600.0 / 1000.0 / 1000.0\n",
    "    #&&&&&&&&&&&&LAMTGRは暫定&&&&&&&&&&&&&&&\n",
    "    LAMTGR = 0.0\n",
    "    LAM   = SLAMB - ( 597.50 - 0.5590 * ( 293.160 - 273.160)) * 4.186050 * 1000.0 * LAMTGR\n",
    "    return LAM\n",
    "end\n",
    "get_lam( cell ) = get_lam( phi = get_phi( cell ) )\n",
    "\n",
    "# 水分化学ポテンシャル勾配に対する液相水分伝導率\n",
    "function get_ldml( ;temp::Float64, phi::Float64 );\n",
    "    if phi < 0.30;         LDML = 10.0 ^ ( - 2.618670   / ( phi + 0.078660  ) - 0.4281460 )\n",
    "        elseif phi < 0.34; LDML = 10.0 ^ ( - 0.04473370 / ( phi - 0.3615380 ) - 8.066920  )\n",
    "        elseif phi > 0.34; LDML = 10.0 ^ ( - 0.06593130 / ( phi - 0.3080650 ) - 3.925480  )\n",
    "    end\n",
    "    return LDML * ( 0.02340 * ( temp - 273.160 ) + 0.5320 ) \n",
    "end\n",
    "get_ldml( cell ) = get_ldml( temp = cell.temp, phi = get_phi(cell) )\n",
    "\n",
    "# 気相水分伝導率\n",
    "const STA   = 293.160\n",
    "const PSS   = cal_Pvs( STA )\n",
    "const DPVSS = cal_DPvs( STA )\n",
    "const FP    = 0.180\n",
    "const miup  = get_miu_by_phi( phi = FP )\n",
    "const EV    = ( -2.618670 / ( FP + 0.078660 ) - 0.4281460 )\n",
    "const DMVO  = 10.0 ^ EV\n",
    "# 水分化学ポテンシャル勾配に対する値\n",
    "function get_ldtg( ;temp::Float64, miu::Float64, phi::Float64 );\n",
    "    if phi <= 0.020; DTVO = 0.0288360 * ( 1.0 - exp(-250.0*phi) )\n",
    "        else; EV = -0.152711e+1 - 0.735882e0*phi - 0.293796e+1*phi^2.0; DTVO = 10.0^EV\n",
    "    end\n",
    "    DTG = DTVO * cal_DPvs(temp) / DPVSS\n",
    "    LAMDTG = 1000.0 * DTG / 24.0 / 3600.0 / 10000.0\n",
    "    return LAMDTG\n",
    "end\n",
    "get_ldtg( cell ) = get_ldtg( temp = cell.temp, miu = cell.miu, phi = get_phi( cell ) )\n",
    "\n",
    "function get_ldmg( ;temp::Float64, miu::Float64, phi::Float64 );    \n",
    "    if phi <= 0.00470; DMVO = ( 0.137373e+4 ) * phi\n",
    "        elseif phi <= 0.0350; EV = 0.110362e+1 - 0.495709e+2*phi -0.296899e+4 *phi^2.0 + 0.47685e+5 *phi^3.0; DMVO=10.0^EV\n",
    "        else; EV = -0.669523 + -0.444095e+2 * phi; DMVO = 10.0^EV\n",
    "    end\n",
    "    DFG = DMVO * cal_Pvs(temp) / PSS\n",
    "    LAMDMG = 1000.0 * DFG * get_dphi( miu = miu, phi = phi ) / 24.0 / 3600.0 / 10000.0\n",
    "    return LAMDMG\n",
    "end\n",
    "get_ldmg( cell ) = get_ldmg( temp = cell.temp, miu = cell.miu, phi = get_phi( cell ) )\n",
    "\n",
    "end"
   ]
  },
  {
   "cell_type": "markdown",
   "metadata": {},
   "source": [
    "### Example"
   ]
  },
  {
   "cell_type": "code",
   "execution_count": 40,
   "metadata": {},
   "outputs": [],
   "source": [
    "mutable struct test_plainfield_sand\n",
    "    temp::Float64\n",
    "    miu::Float64\n",
    "end"
   ]
  },
  {
   "cell_type": "code",
   "execution_count": 41,
   "metadata": {},
   "outputs": [
    {
     "data": {
      "text/plain": [
       "test_plainfield_sand(293.15, -48294.76033929033)"
      ]
     },
     "execution_count": 41,
     "metadata": {},
     "output_type": "execute_result"
    }
   ],
   "source": [
    "test_plainfield_sand_hygro = test_plainfield_sand( 293.15, 8.314 / 0.018 * 293.15 * log( 0.7 ) )"
   ]
  },
  {
   "cell_type": "code",
   "execution_count": 42,
   "metadata": {},
   "outputs": [
    {
     "data": {
      "text/plain": [
       "1.3066888247720322e6"
      ]
     },
     "execution_count": 42,
     "metadata": {},
     "output_type": "execute_result"
    }
   ],
   "source": [
    "plainfield_sand.get_crow( test_plainfield_sand_hygro )"
   ]
  },
  {
   "cell_type": "code",
   "execution_count": 43,
   "metadata": {},
   "outputs": [
    {
     "data": {
      "text/plain": [
       "0.8820419839055303"
      ]
     },
     "execution_count": 43,
     "metadata": {},
     "output_type": "execute_result"
    }
   ],
   "source": [
    "plainfield_sand.get_lam( test_plainfield_sand_hygro ) "
   ]
  },
  {
   "cell_type": "code",
   "execution_count": 47,
   "metadata": {},
   "outputs": [
    {
     "data": {
      "text/plain": [
       "0.37518999969333"
      ]
     },
     "execution_count": 47,
     "metadata": {},
     "output_type": "execute_result"
    }
   ],
   "source": [
    "plainfield_sand.get_phi( miu = -0.00000001 )"
   ]
  },
  {
   "cell_type": "code",
   "execution_count": 45,
   "metadata": {},
   "outputs": [
    {
     "data": {
      "text/plain": [
       "0.005153181345667637"
      ]
     },
     "execution_count": 45,
     "metadata": {},
     "output_type": "execute_result"
    }
   ],
   "source": [
    "plainfield_sand.get_phi( test_plainfield_sand_hygro )"
   ]
  },
  {
   "cell_type": "code",
   "execution_count": 46,
   "metadata": {},
   "outputs": [
    {
     "data": {
      "text/plain": [
       "0.01"
      ]
     },
     "execution_count": 46,
     "metadata": {},
     "output_type": "execute_result"
    }
   ],
   "source": [
    "plainfield_sand.get_miu_by_phi( phi = 0.01 )"
   ]
  },
  {
   "cell_type": "code",
   "execution_count": 38,
   "metadata": {},
   "outputs": [
    {
     "data": {
      "text/plain": [
       "0.005153181345667637"
      ]
     },
     "execution_count": 38,
     "metadata": {},
     "output_type": "execute_result"
    }
   ],
   "source": [
    "plainfield_sand.get_miu_by_phi( phi = plainfield_sand.get_phi( test_plainfield_sand_hygro ) )"
   ]
  },
  {
   "cell_type": "markdown",
   "metadata": {},
   "source": [
    "Sandy_Clay_Roam.get_dphi( test_SCR_hygro )"
   ]
  },
  {
   "cell_type": "code",
   "execution_count": 26,
   "metadata": {},
   "outputs": [
    {
     "data": {
      "text/plain": [
       "0.005153181345667637"
      ]
     },
     "execution_count": 26,
     "metadata": {},
     "output_type": "execute_result"
    }
   ],
   "source": [
    "plainfield_sand.get_miu_by_phi( test_plainfield_sand_hygro )"
   ]
  },
  {
   "cell_type": "code",
   "execution_count": 27,
   "metadata": {},
   "outputs": [
    {
     "data": {
      "text/plain": [
       "2.126285472190184e-32"
      ]
     },
     "execution_count": 27,
     "metadata": {},
     "output_type": "execute_result"
    }
   ],
   "source": [
    "plainfield_sand.get_ldml( test_plainfield_sand_hygro )"
   ]
  },
  {
   "cell_type": "code",
   "execution_count": 28,
   "metadata": {},
   "outputs": [
    {
     "data": {
      "text/plain": [
       "2.4159063082088605e-8"
      ]
     },
     "execution_count": 28,
     "metadata": {},
     "output_type": "execute_result"
    }
   ],
   "source": [
    "plainfield_sand.get_ldtg( test_plainfield_sand_hygro )"
   ]
  },
  {
   "cell_type": "code",
   "execution_count": 29,
   "metadata": {},
   "outputs": [
    {
     "data": {
      "text/plain": [
       "3.144150139989095e-13"
      ]
     },
     "execution_count": 29,
     "metadata": {},
     "output_type": "execute_result"
    }
   ],
   "source": [
    "plainfield_sand.get_ldmg( test_plainfield_sand_hygro )"
   ]
  },
  {
   "cell_type": "code",
   "execution_count": null,
   "metadata": {},
   "outputs": [],
   "source": []
  },
  {
   "cell_type": "markdown",
   "metadata": {},
   "source": [
    "#### Fortran時のデータは以下に示す通りである。"
   ]
  },
  {
   "cell_type": "markdown",
   "metadata": {},
   "source": [
    "!     %%%%%%%%%%%%%%%%%%%%%%%%%%%%%%%%%%%%%%%%%%%%%%%%%%%%%%%%%%%%%%\n",
    "!    %%%%%%%%%%%%  Plainfield Sand Subroutine  %%%%%%%%%%%%%%%%%%%%\n",
    "!     %%%%%%%%%%%%%%%%%%%%%%%%%%%%%%%%%%%%%%%%%%%%%%%%%%%%%%%%%%%%%%\n",
    "!\n",
    "      SUBROUTINE SOLAM(TEM,MIU,LAMDMG,LAMDTG,LAMDM &\n",
    "                      ,LAMDT,LAMDML,LAM)\n",
    "!\n",
    "      IMPLICIT REAL*8(A-H,L,O-Z)\n",
    "      REAL*8 MIU\n",
    "!\n",
    "      CALL A (TEM,PS,DPVS)\n",
    "      CALL SOPM(MIU,PHI,DPHI)\n",
    "!\n",
    "!     -------------( Lambda'miug )------------\n",
    "!\n",
    "      STA=293.16D0\n",
    "      CALL A(STA,PSS,DPVSS)\n",
    "!\n",
    "      F=PHI\n",
    "      IF(F.LE.0.0047D0) THEN\n",
    "       DMVO=(0.137373D+4)*F\n",
    "      ELSE IF(F.LE.0.035D0) THEN\n",
    "       EV=(0.110362D+1)+(-0.495709D+2)*F+(-0.296899D+4)*F*F &\n",
    "                    +(0.47685D+5)*F*F*F\n",
    "       DMVO=10.D0**EV\n",
    "      ELSE\n",
    "       EV=(-0.669523D0)+(-0.444095D+2)*F\n",
    "       DMVO=10.D0**EV\n",
    "      END IF\n",
    "!\n",
    "      DFG=DMVO*PS/PSS\n",
    "      LAMDMG=1000.D0*DFG*DPHI/24.D0/3600.D0/10000.D0\n",
    "!\n",
    "!     -------------( Lambda'Tg )--------------\n",
    "!\n",
    "      CALL D(F,DPVS,DPVSS,LAMDTG)\n",
    "!\n",
    "!     -------------( Lambda'T )--------------\n",
    "!\n",
    "      IF(F.LE.0.0123D0) THEN\n",
    "       DTLO=0.153569D0*F\n",
    "      ELSE\n",
    "       EV=(-0.317809D+1)+(+0.386164D+2)*F+(-0.139126D+3)*F*F &\n",
    "                     +(+0.196095D+3)*F*F*F\n",
    "       DTLO=10.D0**EV\n",
    "      END IF\n",
    "!\n",
    "      F2=0.000147D0*(TEM-273.16D0)*(TEM-273.16D0) &\n",
    "        +0.0184D0*(TEM-273.16D0)+0.5732D0\n",
    "      DTL=F2*DTLO\n",
    "      LAMDTL=1000.D0*DTL/24.D0/3600.D0/10000.D0\n",
    "!      LAMDT=LAMDTG+LAMDTL\n",
    "      LAMDT=LAMDTG\n",
    "!\n",
    "!     -------------( Lambda'miu )--------------\n",
    "!\n",
    "      IF(F.LE.0.0079D0) THEN\n",
    "       DMLO=6.56635D0*F\n",
    "      ELSE\n",
    "       EV=(-0.173466D+1)+(+0.589689D+2)*F+(-0.263483D+3)*F*F &\n",
    "                     +(+0.408122D+3)*F*F*F\n",
    "       DMLO=10.D0**EV\n",
    "      END IF\n",
    "!\n",
    "      F1=0.0234D0*(TEM-273.16D0)+0.532D0\n",
    "      DFL=F1*DMLO\n",
    "      LAMDML=1000.D0*DFL*DPHI/24.D0/3600.D0/10000.D0\n",
    "      LAMDM=LAMDMG+LAMDML\n",
    "!\n",
    "!     -------------( Lambda )--------------\n",
    "!\n",
    "      CALL D(F,DPVSS,DPVSS,LAMTGR)\n",
    "!\n",
    "      IF(F.LE.0.02D0) THEN\n",
    "       SLAMB=(0.1D+1)+(0.22963D+3)*F+(-0.287037D+4)*F*F\n",
    "      ELSE\n",
    "       SLAMB=(+0.407536D+1)+(+0.192233D+2)*F+(-0.404658D+2)*F*F &\n",
    "                     +(+0.452669D+2)*F*F*F\n",
    "      END IF\n",
    "!\n",
    "      SLAMB=SLAMB*1.16279D0*100.D0*3600.D0/1000.D0/1000.D0\n",
    "      LAM=SLAMB-(597.5D0-0.559D0*(293.16D0-273.16D0)) &\n",
    "                           *4.18605D0*1000.D0*LAMTGR\n",
    "!\n",
    "      RETURN \n",
    "      END\n",
    "!\n",
    "!\n",
    "      SUBROUTINE D(F,DPVS,DPVSS,LAMDTG)\n",
    "      IMPLICIT REAL*8(A-H,L,O-Z)\n",
    "!\n",
    "!     -------------( Lambda'Tg )--------------\n",
    "!\n",
    "      IF(F.LE.0.02D0) THEN\n",
    "       DTVO=0.028836D0*(1.D0-DEXP(-250.D0*F))\n",
    "      ELSE\n",
    "       EV=(-0.152711D+1)+(-0.735882D+0)*F+(-0.293796D+1)*F*F\n",
    "       DTVO=10.D0**EV\n",
    "      END IF\n",
    "!\n",
    "      DTG=DTVO*DPVS/DPVSS\n",
    "      LAMDTG=1000.D0*DTG/24.D0/3600.D0/10000.D0\n",
    "!\n",
    "      RETURN\n",
    "      END\n",
    "!\n",
    "!\n",
    "      SUBROUTINE SOROW(MIU,CROW,CMIU)\n",
    "      IMPLICIT REAL*8(A-H,O-Z)\n",
    "      REAL*8 MIU\n",
    "!\n",
    "      CALL SOPM(MIU,PHI,DPHI)\n",
    "!\n",
    "!     ----------( Crow )----------\n",
    "!\n",
    "      CROW=(307.D0+1000.D0*PHI)*4.18605D0*1000.D0\n",
    "!\n",
    "!     ----------( Cmiu : row*dphi/dmiu )----------\n",
    "!\n",
    "      ROW=1000.D0\n",
    "      CMIU=ROW*DPHI\n",
    "!\n",
    "      RETURN\n",
    "      END\n",
    "!\n",
    "!\n",
    "      SUBROUTINE SOPM(MIU,PHI,DPHI)\n",
    "      IMPLICIT REAL*8(A-H,O-Z)\n",
    "      REAL*8 MIU,LM,M2\n",
    "!\n",
    "      M2=MIU\n",
    "!\n",
    "      IF (MIU.LT.0.D0) THEN\n",
    "       LM=DLOG10(-MIU)\n",
    "      ELSE\n",
    "       LM=-4.D0\n",
    "       MIU=0.D0\n",
    "      ENDIF\n",
    "!\n",
    "!     ----------( phi )------------ \n",
    "!\n",
    "!      IF(MIU.LT.-978207.D0) THEN\n",
    "      IF(LM.GT.5.99D0) THEN\n",
    "        PHI=0.D0\n",
    "!       ELSE IF(MIU.LT.-3.16228D0) THEN\n",
    "       ELSE IF(LM.GT.0.5D0) THEN\n",
    "        PHI=-0.01814D0+0.10713D0/(DLOG10(-MIU)-0.0847D0)\n",
    "!       ELSE IF(MIU.LT.-1.D0) THEN\n",
    "       ELSE IF(LM.GT.0.D0) THEN\n",
    "        PHI=0.39779D0+0.04018D0/(DLOG10(-MIU)-0.75433D0)\n",
    "       ELSE\n",
    "        PHI=0.30667D-1*MIU+0.37519D0\n",
    "      END IF\n",
    "!\n",
    "!     --------( dphi/dmiu )----------\n",
    "!\n",
    "      IF(LM.GT.5.99D0) THEN\n",
    "        PHI=0.D0\n",
    "      ELSE IF(LM.GT.0.5D0) THEN\n",
    "       DPHI=-0.10713D0/(DLOG10(-MIU)-0.0847D0)/(DLOG10(-MIU)-0.0847D0) &\n",
    "       /MIU/DLOG(10.D0)\n",
    "      ELSE IF(LM.GT.0.D0) THEN\n",
    "       DPHI=-0.04018D0/(DLOG10(-MIU)-0.75433D0)/(DLOG10(-MIU)-0.75433D0) &\n",
    "       /MIU/DLOG(10.D0)\n",
    "      ELSE\n",
    "       DPHI=0.30667D-01\n",
    "      END IF\n",
    "!\n",
    "      MIU=M2\n",
    "!\n",
    "      RETURN\n",
    "      END\n",
    "!\n",
    "      SUBROUTINE SODPHI2(MIU,DPHI2)\n",
    "      IMPLICIT REAL*8(A-H,O-Z)\n",
    "!\n",
    "      REAL*8 MIU,LM,M2\n",
    "!\n",
    "      M2=MIU\n",
    "!\n",
    "      IF (MIU.LT.0.D0) THEN\n",
    "       LM=DLOG10(-MIU)\n",
    "      ELSE\n",
    "       LM=-4.D0\n",
    "       MIU=0.D0\n",
    "      ENDIF\n",
    "!\n",
    "!     --------( d2phi/dmiu2 )----------\n",
    "!\n",
    "      IF(LM.GT.5.99D0) THEN\n",
    "       DPHI2=0.D0\n",
    "      ELSE IF(LM.GT.0.5D0) THEN\n",
    "       DPHI2=0.10713D0/(DLOG10(-MIU)-0.0847D0)/(DLOG10(-MIU)-0.0847D0) &\n",
    "       /MIU/MIU/DLOG(10.D0)/DLOG(10.D0) &\n",
    "        *(LOG(10.D0)+2.D0/(DLOG10(-MIU)-0.0847D0))\n",
    "      ELSE IF(LM.GT.0.D0) THEN\n",
    "       DPHI2=0.04018D0/(DLOG10(-MIU)-0.75433D0)/(DLOG10(-MIU)-0.75433D0) &\n",
    "       /MIU/MIU/DLOG(10.D0)/DLOG(10.D0) &\n",
    "       *(LOG(10.D0)+2.D0/(DLOG10(-MIU)-0.75433D0))\n",
    "      ELSE\n",
    "       DPHI2=0.D0\n",
    "      END IF\n",
    "!\n",
    "      MIU=M2\n",
    "      RETURN\n",
    "      END\n"
   ]
  },
  {
   "cell_type": "code",
   "execution_count": null,
   "metadata": {},
   "outputs": [],
   "source": []
  }
 ],
 "metadata": {
  "kernelspec": {
   "display_name": "Julia 1.4.2",
   "language": "julia",
   "name": "julia-1.4"
  },
  "language_info": {
   "file_extension": ".jl",
   "mimetype": "application/julia",
   "name": "julia",
   "version": "1.4.2"
  }
 },
 "nbformat": 4,
 "nbformat_minor": 4
}
