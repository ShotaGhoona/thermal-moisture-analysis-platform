{
 "cells": [
  {
   "cell_type": "markdown",
   "metadata": {},
   "source": [
    "# ロームの砂質土壌の物性値  \n",
    "参考：小椋先生博士論文  \n",
    "岩前 篤，表層系地盤の熱水分性状に関する研究，博士論文，1995  \n",
    "Neib,J.,E.R.F. Winter, Neue Methoden zur Berechnung def kapillaren FlÜssigkeit in porösen körpen Wärme und Stoffübertragung 16, pp.175-190, 1982"
   ]
  },
  {
   "cell_type": "code",
   "execution_count": 1,
   "metadata": {},
   "outputs": [
    {
     "name": "stderr",
     "output_type": "stream",
     "text": [
      "WARNING: redefining constant Rv\n"
     ]
    },
    {
     "data": {
      "text/plain": [
       "Main.loamy_sand"
      ]
     },
     "execution_count": 1,
     "metadata": {},
     "output_type": "execute_result"
    }
   ],
   "source": [
    "module loamy_sand\n",
    "\n",
    "include(\"../module_function/vapour.jl\")\n",
    "\n",
    "# 空隙率\n",
    "const psi = 0.369960\n",
    "\n",
    "# 小椋先生博士論文より砂質土壌の値を採用\n",
    "# 石英砂：比重2660[kg/m3] 比熱753.49[J/kgK] 比容積0.6175[m3/m3] 小計12737645[J/m3K]\n",
    "# 粘土　：比重1550[kg/m3] 比熱879.07[J/kgK] 比容積0.0325[m3/m3] 小計44283[J/m3K]\n",
    "# ⇒　容積比熱 1281926 と算定\n",
    "const crow = 1281926\n",
    "\n",
    "# 比熱 ⇒　簡易的に平均値を用いる # 髙取修正部分\n",
    "const C = (753.49 + 879.07) / 2.0 #J/kg\n",
    "\n",
    "# 材料密度 # 髙取修正部分\n",
    "const row = crow / C #kg/m3\n",
    "\n",
    "# 水の密度\n",
    "const roww = 1000.0 #kg/m3\n",
    "#理想気体定数\n",
    "const R = 8.314 # J/(mol K)\n",
    "# 水のモル質量\n",
    "const Mw = 0.018 # kg/mol\n",
    "# 水蒸気のガス定数\n",
    "#Rv = R / Mw # J/(kg K)\n",
    "# 水の熱容量\n",
    "const croww = 1000.0 * 4.18605e+3\n",
    "\n",
    "# miu ⇒　rh の変換係数\n",
    "function convertMiu2RH( ;temp::Float64, miu::Float64 );\n",
    "    return exp( miu / Rv / temp )\n",
    "end\n",
    "\n",
    "# 熱容量\n",
    "get_crow( ;phi::Float64 ) = crow + croww * phi\n",
    "get_crow( cell ) = get_crow( phi = get_phi( cell ) )\n",
    "\n",
    "### 水分特性 ###\n",
    "\n",
    "# 含水率\n",
    "function get_phi( ;miu::Float64 )\n",
    "    if miu < 0.0; LM = log10( -miu ); miu_cal = miu\n",
    "        else;     LM = - 2.0;        miu_cal = 0.0\n",
    "    end\n",
    "    if LM > 5.9;          phi = 2.85651e-4\n",
    "        elseif LM > 0.5;  phi = -0.2763160 + 2.670080  / ( LM + 3.763160 )\n",
    "        elseif LM > 0.375;phi =  0.3954570 + 0.01406470/ ( LM - 0.809410 )\n",
    "        else;             phi = 0.3954570  + 0.0136530 * miu_cal\n",
    "    end\n",
    "    return phi\n",
    "end\n",
    "get_phi( cell ) = get_phi( miu = cell.miu )\n",
    "\n",
    "# 含水率の水分化学ポテンシャル微分\n",
    "function get_dphi( ;miu::Float64, phi::Float64 );\n",
    "    if miu < 0.0; LM = log10( -miu ); miu_cal = miu\n",
    "        else;     LM  = - 2.0;        miu_cal = 0.0\n",
    "    end   \n",
    "    if LM > 5.9;          dphi = 1.5e-8\n",
    "        elseif LM > 0.5;  dphi = -2.670080  / ( LM+3.763160) / ( LM+3.763160) / miu_cal / log(10.0)\n",
    "        elseif LM > 0.375;dphi = -0.01406470/ ( LM-0.809410) / ( LM-0.809410) / miu_cal / log(10.0)\n",
    "        else;             dphi = 0.013653\n",
    "    end\n",
    "    return dphi\n",
    "end\n",
    "get_dphi( cell ) = get_dphi( miu = cell.miu, phi = get_phi( cell ) )\n",
    "\n",
    "# 含水率から水分化学ポテンシャルの算出\n",
    "function get_miu_by_phi(; phi::Float64);\n",
    "    if phi > 0.0 && phi <= 0.369960; LM = 2.670080 / ( phi+0.2763160 ) - 3.763160; miu = -10.0 ^ LM\n",
    "        elseif phi <= 0.43440;     LM = 0.01406470 / ( phi-0.3954570 ) + 0.809410; miu = -10.0 ^ LM\n",
    "        else;  miu = ( phi - 0.3954570 ) / 0.0136530\n",
    "    end    \n",
    "    return phi\n",
    "end\n",
    "get_miu_by_phi( cell ) = get_miu_by_phi( phi = get_phi( cell ) )\n",
    "\n",
    "### 移動特性 ###\n",
    "# 熱伝導率\n",
    "const lam = 0.218581\n",
    "# 湿気依存\n",
    "get_lam( ;phi::Float64 ) = - 60.1639 * phi^ 4.0 + 60.3575 * phi ^3.0 - 26.6469 * phi ^2.0 + 8.57816 * phi + 0.218581\n",
    "get_lam( cell ) = get_lam( phi = get_phi( cell ) )\n",
    "\n",
    "# 水分化学ポテンシャル勾配に対する液相水分伝導率\n",
    "function get_ldml( ;temp::Float64, phi::Float64 );\n",
    "    if phi < 0.20;        LDML = 10.0 ^ ( - 0.5662860/ ( phi + 0.0250 )    - 5.483220 )\n",
    "        elseif phi < 0.3; LDML = 10.0 ^ ( - 1.70580  / ( phi - 0.5909110 ) - 12.35370 )\n",
    "        elseif phi > 0.3; LDML = 10.0 ^ ( -2.279950  / ( phi - 0.007844260)+ 1.31390 )\n",
    "    end\n",
    "    F1 = 0.02340 * ( temp - 273.160 ) + 0.5320\n",
    "    return LDML * F1\n",
    "end\n",
    "get_ldml( cell ) = get_ldml( temp = cell.temp, phi = get_phi(cell) )\n",
    "\n",
    "# 気相水分伝導率\n",
    "const STA   = 293.160\n",
    "const PSS   = cal_Pvs( STA )\n",
    "const DPVSS = cal_DPvs( STA )\n",
    "const FP    = 0.0750\n",
    "const miup  = get_miu_by_phi( phi = FP )\n",
    "const EV    = ( -2.618670 / ( FP + 0.078660 ) - 0.4281460 )\n",
    "const DMVO  = 10.0 ^ EV\n",
    "# 水分化学ポテンシャル勾配に対する値\n",
    "\n",
    "function cal_ldg( temp::Float64, miu::Float64, phi::Float64 )\n",
    "    EV  = ( -0.5662860 / ( FP+0.0250 ) - 5.483220 )\n",
    "    DMVO= 10.0^EV\n",
    "    if miu > 0; miuh = 0.0\n",
    "        else; miuh = miu\n",
    "    end\n",
    "    LAMDMG = ( 0.3950 - phi ) / (0.3950 - FP ) * DMVO * exp((miuh-miup) / Rv / STA )\n",
    "    return LAMDMG\n",
    "end\n",
    "\n",
    "function get_ldtg( ;temp::Float64, miu::Float64, phi::Float64 );\n",
    "    return cal_ldg(temp, miu, phi)  * ( DPVSS / PSS * Rv * STA - miu / STA ) * cal_DPvs(temp) / DPVSS\n",
    "end\n",
    "get_ldtg( cell ) = get_ldtg( temp = cell.temp, miu = cell.miu, phi = get_phi( cell ) )\n",
    "\n",
    "function get_ldmg( ;temp::Float64, miu::Float64, phi::Float64 );\n",
    "    return cal_ldg(temp, miu, phi) * cal_Pvs(temp) / PSS\n",
    "end\n",
    "get_ldmg( cell ) = get_ldmg( temp = cell.temp, miu = cell.miu, phi = get_phi( cell ) )\n",
    "\n",
    "end"
   ]
  },
  {
   "cell_type": "markdown",
   "metadata": {},
   "source": [
    "### Example"
   ]
  },
  {
   "cell_type": "code",
   "execution_count": 2,
   "metadata": {},
   "outputs": [],
   "source": [
    "mutable struct test_loamy_sand\n",
    "    temp::Float64\n",
    "    miu::Float64\n",
    "end"
   ]
  },
  {
   "cell_type": "code",
   "execution_count": 13,
   "metadata": {},
   "outputs": [
    {
     "data": {
      "text/plain": [
       "test_loamy_sand(293.15, -48294.76033929033)"
      ]
     },
     "execution_count": 13,
     "metadata": {},
     "output_type": "execute_result"
    }
   ],
   "source": [
    "test_loamy_sand_hygro = test_loamy_sand( 293.15, 8.314 / 0.018 * 293.15 * log( 0.7 ) )"
   ]
  },
  {
   "cell_type": "code",
   "execution_count": 14,
   "metadata": {},
   "outputs": [
    {
     "data": {
      "text/plain": [
       "1.448446136064317e6"
      ]
     },
     "execution_count": 14,
     "metadata": {},
     "output_type": "execute_result"
    }
   ],
   "source": [
    "loamy_sand.get_crow( test_loamy_sand_hygro )"
   ]
  },
  {
   "cell_type": "code",
   "execution_count": 15,
   "metadata": {},
   "outputs": [
    {
     "data": {
      "text/plain": [
       "0.5213001941238786"
      ]
     },
     "execution_count": 15,
     "metadata": {},
     "output_type": "execute_result"
    }
   ],
   "source": [
    "loamy_sand.get_lam( test_loamy_sand_hygro ) "
   ]
  },
  {
   "cell_type": "code",
   "execution_count": 16,
   "metadata": {},
   "outputs": [
    {
     "data": {
      "text/plain": [
       "0.03977977713221703"
      ]
     },
     "execution_count": 16,
     "metadata": {},
     "output_type": "execute_result"
    }
   ],
   "source": [
    "loamy_sand.get_phi( test_loamy_sand_hygro )"
   ]
  },
  {
   "cell_type": "code",
   "execution_count": 17,
   "metadata": {},
   "outputs": [
    {
     "data": {
      "text/plain": [
       "0.03977977713221703"
      ]
     },
     "execution_count": 17,
     "metadata": {},
     "output_type": "execute_result"
    }
   ],
   "source": [
    "loamy_sand.get_miu_by_phi( phi = loamy_sand.get_phi( test_loamy_sand_hygro ) )"
   ]
  },
  {
   "cell_type": "code",
   "execution_count": 18,
   "metadata": {},
   "outputs": [
    {
     "data": {
      "text/plain": [
       "3.36509562685194e-7"
      ]
     },
     "execution_count": 18,
     "metadata": {},
     "output_type": "execute_result"
    }
   ],
   "source": [
    "loamy_sand.get_dphi( test_loamy_sand_hygro )"
   ]
  },
  {
   "cell_type": "code",
   "execution_count": 19,
   "metadata": {},
   "outputs": [
    {
     "data": {
      "text/plain": [
       "0.03977977713221703"
      ]
     },
     "execution_count": 19,
     "metadata": {},
     "output_type": "execute_result"
    }
   ],
   "source": [
    "loamy_sand.get_miu_by_phi( test_loamy_sand_hygro )"
   ]
  },
  {
   "cell_type": "code",
   "execution_count": 23,
   "metadata": {},
   "outputs": [
    {
     "data": {
      "text/plain": [
       "5.956192942693392e-15"
      ]
     },
     "execution_count": 23,
     "metadata": {},
     "output_type": "execute_result"
    }
   ],
   "source": [
    "loamy_sand.get_ldml( test_loamy_sand_hygro )"
   ]
  },
  {
   "cell_type": "code",
   "execution_count": 24,
   "metadata": {},
   "outputs": [
    {
     "data": {
      "text/plain": [
       "4.744316681713955e-8"
      ]
     },
     "execution_count": 24,
     "metadata": {},
     "output_type": "execute_result"
    }
   ],
   "source": [
    "loamy_sand.get_ldtg( test_loamy_sand_hygro )"
   ]
  },
  {
   "cell_type": "code",
   "execution_count": 25,
   "metadata": {},
   "outputs": [
    {
     "data": {
      "text/plain": [
       "5.547557054538221e-12"
      ]
     },
     "execution_count": 25,
     "metadata": {},
     "output_type": "execute_result"
    }
   ],
   "source": [
    "loamy_sand.get_ldmg( test_loamy_sand_hygro )"
   ]
  },
  {
   "cell_type": "code",
   "execution_count": null,
   "metadata": {},
   "outputs": [],
   "source": []
  },
  {
   "cell_type": "markdown",
   "metadata": {},
   "source": [
    "#### Fortran時のデータは以下に示す通りである。"
   ]
  },
  {
   "cell_type": "markdown",
   "metadata": {},
   "source": [
    "!      PROGRAM CLAM\n",
    "!     ******************************************************\n",
    "!     *          砂質粘土ロームの物性値出力                *\n",
    "!     *                      constructed by Daisuke Ogura  *\n",
    "!     *                                 February,5,1997    *\n",
    "!     ******************************************************\n",
    "!\n",
    "!\n",
    "      IMPLICIT REAL*8(A-H,L,O-Z)  \n",
    "!\n",
    "      REAL*8 TEM(3),MIU,LDT(3),LDTG(3),LAMS(3),LDML(3) &\n",
    "            ,LDM(3),LDMG(3),LAM(3),MSTEP,CROW,CMIU\n",
    "!\n",
    "      OPEN(3,FILE='SC-LDMG1.txt')\n",
    "      OPEN(4,FILE='SC-LDTG1.txt')\n",
    "      OPEN(7,FILE='SC-LDM1.txt')\n",
    "      OPEN(8,FILE='SC-LDT1.txt')\n",
    "      OPEN(9,FILE='SC-LAM1.txt')\n",
    "      OPEN(10,FILE='SC-A1.txt')\n",
    "      OPEN(11,FILE='SC-LAMS1.txt')\n",
    "!      OPEN(12,FILE='SC-LDML1.DAT',STATUS='UNKNOWN'\n",
    "!     & ,FORM='FORMATTED',ERR=500)\n",
    "!\n",
    "      TEM(1)=273.16D0+10.D0\n",
    "      TEM(2)=273.16D0+20.D0\n",
    "      TEM(3)=273.16D0+30.D0\n",
    "      R1=(597.5D0-0.559D0*(TEM(1)-273.16D0))*4186.05D0\n",
    "      R2=(597.5D0-0.559D0*(TEM(2)-273.16D0))*4186.05D0\n",
    "      R3=(597.5D0-0.559D0*(TEM(3)-273.16D0))*4186.05D0\n",
    "!\n",
    "      MIU=-1000000.D0\n",
    "      MSTEP=-MIU/10.D0\n",
    "      M1=1\n",
    "!\n",
    "      DO 10 M=1,10\n",
    "       IF ((M1.GT.1).AND.(M1.LT.11)) THEN\n",
    "        MSTEP=-MIU/10.D0\n",
    "       ELSE IF (M1.EQ.11) THEN\n",
    "        MSTEP=-MIU\n",
    "        MIU=0.D0\n",
    "       ELSE IF (M1.GT.11) THEN\n",
    "        MSTEP=MIU*10.D0\n",
    "       END IF\n",
    "       M1=M1+1\n",
    "       M2=1\n",
    "!\n",
    "       DO 20 MM=1,9\n",
    "         MIU=MIU+MSTEP\n",
    "!\n",
    "      K=1\n",
    "      DO 30 N=1,3\n",
    "      CALL LSPM(MIU,PHI,DPHI)\n",
    "      CALL LSROW(MIU,CROW,CMIU)\n",
    "      CALL LSLAM(TEM(K),MIU,LDMG(K),LDTG(K),LDM(K),LDT(K) &\n",
    "              ,LDML(K),LAM(K))\n",
    "      K=K+1\n",
    "  30  CONTINUE\n",
    "!\n",
    "!      WRITE(6,100)MIU,PHI,LDMG(1),LDMG(2),LDMG(3)\n",
    "      WRITE(3,100)MIU,PHI,LDMG(1),LDMG(2),LDMG(3)\n",
    "!      WRITE(6,100)MIU,PHI,LDM(1),LDM(2),LDM(3)\n",
    "      WRITE(7,100)MIU,PHI,LDM(1),LDM(2),LDM(3)\n",
    "!      WRITE(6,100)MIU,PHI,LDT(1),LDT(2),LDT(3)\n",
    "      WRITE(8,100)MIU,PHI,LDT(1),LDT(2),LDT(3)\n",
    "!      WRITE(6,100)MIU,PHI,LAM(1),LAM(2),LAM(3)\n",
    "      WRITE(9,100)MIU,PHI,LAM(1),LAM(2),LAM(3)\n",
    "!      WRITE(6,100)MIU,PHI,LDTG(1),LDTG(2),LDTG(3)\n",
    "      WRITE(4,100)MIU,PHI,LDTG(1),LDTG(2),LDTG(3)\n",
    "      WRITE(10,100)MIU,PHI,CROW,LAM(2),LAM(2)/CROW\n",
    "!      WRITE(6,100)MIU,PHI,CROW,LAM(2),LAM(2)/CROW\n",
    "      LAMS(1)=LAM(1)+R1*LDTG(1)\n",
    "      LAMS(2)=LAM(2)+R2*LDTG(2)\n",
    "      LAMS(3)=LAM(3)+R3*LDTG(3)\n",
    "      WRITE(11,100)MIU,PHI,LAMS(1),LAMS(2),LAMS(3)\n",
    "!      WRITE(12,100)MIU,PHI,LDML(1),LDML(2),LDML(3)\n",
    "  100 FORMAT(2X,E11.3,2X,E11.6,2X,E13.6,2X,E13.6,2X,E13.6)\n",
    "!\n",
    "   20 CONTINUE\n",
    "   10 CONTINUE\n",
    "!\n",
    "      CLOSE (3,STATUS='KEEP')\n",
    "      CLOSE (4,STATUS='KEEP')\n",
    "      CLOSE (7,STATUS='KEEP')\n",
    "      CLOSE (8,STATUS='KEEP')\n",
    "      CLOSE (9,STATUS='KEEP')\n",
    "      CLOSE (10,STATUS='KEEP')\n",
    "      CLOSE (11,STATUS='KEEP')\n",
    "      CLOSE (12,STATUS='KEEP')\n",
    "!\n",
    "      STOP '計算終了'\n",
    "  500 STOP 'ERROR  !!!!'\n",
    "!\n",
    "      END\n",
    "!\n",
    "!     %%%%%%%%%%%%%%%%%%%%%%%%%%%%%%%%%%%%%%%%%%%%%%%%%%%%%%%%%%%%%%\n",
    "!     %%%%%%%%%%%%  SUB ROUTINE  %%%%%%%%%%%%%%%%%%%%%%%%%%%%%%%%%%%\n",
    "!     %%%%%%%%%%%%%%%%%%%%%%%%%%%%%%%%%%%%%%%%%%%%%%%%%%%%%%%%%%%%%%\n",
    "!\n",
    "!\n",
    "!     ##############################################################\n",
    "!     ######## ps & dps/dT Subroutine ##############################\n",
    "!     ##############################################################\n",
    "!\n",
    "      SUBROUTINE A(TEM,PS,DPVS)\n",
    "      REAL*8 EW,TEM,PS,DP,DPVS\n",
    "!\n",
    "!     -------------( ps )--------------\n",
    "!\n",
    "      EW=2.78614D0+10.79574D0*(1.D0-273.16D0/TEM) &\n",
    "        -5.028D0*DLOG10(TEM/273.16D0) &\n",
    "        +(1.50475D-4)*(1.D0-10.D0**(-8.2969D0*(TEM/273.16D0-1.D0))) &\n",
    "        +(0.42873D-3)*(10.D0**(4.76955D0*(1.D0-273.16D0/TEM))-1.D0)\n",
    "      PS=10.D0**EW\n",
    "!\n",
    "!      ------------( dps/dT )--------------\n",
    "!\n",
    "      DP=10.79574D0*273.16D0/TEM/TEM-5.028D0/TEM/DLOG(10.D0) &\n",
    "        +(1.50475D-4)*8.2969D0/273.16D0*DLOG(10.D0) &\n",
    "        *(10.D0**(-8.2969D0*(TEM/273.16D0-1.D0))) &\n",
    "        +(0.42873D-3)*4.76955D0*273.16D0/TEM/TEM*DLOG(10.D0) &\n",
    "        *(10.D0**(4.76955D0*(1.D0-273.16D0/TEM))) \n",
    "      DPVS=PS*DP*DLOG(10.D0)\n",
    "!\n",
    "      RETURN \n",
    "!\n",
    "      END\n",
    "!     %%%%%%%%%%%%%%%%%%%%%%%%%%%%%%%%%%%%%%%%%%%%%%%%%%%%%%%%%%%%%%\n",
    "!     %%%%%%%%%%%%  Loamy  Sand  Subroutine  %%%%%%%%%%%%%%%%%%%%%%%\n",
    "!     %%%%%%%%%%%%%%%%%%%%%%%%%%%%%%%%%%%%%%%%%%%%%%%%%%%%%%%%%%%%%%\n",
    "!\n",
    "      SUBROUTINE LSLAM(TEM,MIU,LAMDMG,LAMDTG,LAMDM &\n",
    "                      ,LAMDT,LAMDML,LAM)\n",
    "!\n",
    "      IMPLICIT REAL*8(A-H,L,O-Z)\n",
    "      REAL*8 MIU,MIUP,MIUH\n",
    "!\n",
    "      CALL A (TEM,PS,DPVS) !飽和水蒸気圧微分\n",
    "      CALL LSPM(MIU,PHI,DPHI) !水分化学ポテンシャルと含水率、含水率の水分化学ポテンシャル微分\n",
    "!\n",
    "!     -------------( Lambda'miug )------------\n",
    "!\n",
    "      STA=293.16D0\n",
    "      CALL A(STA,PSS,DPVSS)\n",
    "      RV=8316.96D0/18.016D0\n",
    "!\n",
    "      F=PHI\n",
    "!\t*** RH=0.95 -> FP=PHI ***\n",
    "      FP=0.075D0\n",
    "!\n",
    "      CALL LSMP(FP,MIUP)\n",
    "!\n",
    "!       EV=(-0.189108D0/(F-0.0406593D0)-6.80319D0)\n",
    "       EV=(-0.566286D0/(FP+0.025D0)-5.48322D0)\n",
    "       DMVO=10.D0**EV\n",
    "!\n",
    "      IF (MIU.GT.0) THEN\n",
    "        MIUH=0.D0\n",
    "      ELSE\n",
    "        MIUH=MIU\n",
    "      ENDIF\n",
    "      LAMDMG=(0.395D0-F)/(0.395D0-FP)*DMVO &\n",
    "       *DEXP((MIUH-MIUP)/RV/STA)\n",
    "!\n",
    "!     -------------( Lambda'Tg )--------------\n",
    "!\n",
    "      LAMDTG=LAMDMG*(DPVSS/PSS*RV*STA-MIU/STA)*DPVS/DPVSS\n",
    "      LAMDMG=LAMDMG*PS/PSS\n",
    "!\n",
    "!     -------------( Lambda'T )--------------\n",
    "!\n",
    "      LAMDT=LAMDTG\n",
    "!\n",
    "!     -------------( Lambda'miu )--------------\n",
    "!\n",
    "      IF (F.LT.0.2D0) THEN\n",
    "!       EV=(-0.189108D0/(F-0.0406593D0)-6.80319D0)\n",
    "!       EV=(-0.644296D0/(F+0.04D0)-5.31654D0)\n",
    "       EV=(-0.566286D0/(F+0.025D0)-5.48322D0)\n",
    "      LAMDML=10.D0**EV\n",
    "      ELSE IF (F.LT.0.3D0) THEN\n",
    "       EV=(-1.7058D0/(F-0.590911D0)-12.3537D0)\n",
    "      LAMDML=10.D0**EV\n",
    "      ELSE IF (F.GT.0.3D0) THEN\n",
    "       EV=(-2.27995D0/(F-0.00784426D0)+1.3139D0)\n",
    "      LAMDML=10.D0**EV\n",
    "      END IF\n",
    "!\n",
    "      F1=0.0234D0*(TEM-273.16D0)+0.532D0\n",
    "      LAMDM=LAMDML*F1+LAMDMG\n",
    "!\n",
    "!     -------------( Lambda )--------------\n",
    "!\n",
    "      LAM=-60.1639D0*F*F*F*F+60.3575D0*F*F*F-26.6469D0*F*F &\n",
    "         +8.57816D0*F+0.218581D0\n",
    "!\n",
    "      RETURN \n",
    "      END\n",
    "!\n",
    "!\n",
    "      SUBROUTINE LSROW(MIU,CROW,CMIU)\n",
    "      IMPLICIT REAL*8(A-H,O-Z)\n",
    "      REAL*8 MIU\n",
    "!\n",
    "      CALL LSPM(MIU,PHI,DPHI)\n",
    "!\n",
    "!     ----------( Crow )----------\n",
    "!\n",
    "      CROW=(307.D0+1000.D0*PHI)*4.18605D3\n",
    "!\n",
    "!     ----------( Cmiu : row*dphi/dmiu )----------\n",
    "!\n",
    "      ROW=1000.D0\n",
    "      CMIU=ROW*DPHI\n",
    "!\n",
    "      RETURN\n",
    "      END\n",
    "!\n",
    "!\n",
    "      SUBROUTINE LSPM(MIU,PHI,DPHI)\n",
    "      IMPLICIT REAL*8(A-H,O-Z)\n",
    "      REAL*8 MIU,LM,M2\n",
    "!\n",
    "      M2=MIU\n",
    "!\n",
    "      IF (MIU.LT.0.D0) THEN\n",
    "       LM=DLOG10(-MIU)\n",
    "      ELSE\n",
    "       LM=-2.D0\n",
    "       MIU=0.D0\n",
    "      ENDIF\n",
    "!\n",
    "!     ----------( phi )------------ \n",
    "!\n",
    "      IF (LM.GT.5.9D0) THEN\n",
    "       PHI=2.85651D-4\n",
    "      ELSE IF (LM.GT.0.5D0) THEN\n",
    "       PHI=-0.276316D0+2.67008D0/(LM+3.76316D0)\n",
    "      ELSE IF (LM.GT.0.375D0) THEN\n",
    "       PHI=0.395457D0+0.0140647D0/(LM-0.80941D0)\n",
    "      ELSE\n",
    "       PHI=0.395457D0+0.013653D0*MIU\n",
    "      END IF\n",
    "!\n",
    "!     --------( dphi/dmiu )----------\n",
    "!\n",
    "      IF (LM.GT.5.9D0) THEN\n",
    "       DPHI=1.5D-8\n",
    "      ELSE IF (LM.GT.0.5D0) THEN\n",
    "       DPHI=-2.67008D0/(LM+3.76316D0)/(LM+3.76316D0)/MIU/DLOG(10.D0)\n",
    "      ELSE IF (LM.GT.0.375D0) THEN\n",
    "       DPHI=-0.0140647D0/(LM-0.80941D0)/(LM-0.80941D0)/MIU/DLOG(10.D0)\n",
    "      ELSE\n",
    "       DPHI=0.013653D0\n",
    "      END IF\n",
    "!\n",
    "      MIU=M2\n",
    "!\n",
    "      RETURN\n",
    "      END\n",
    "!\n",
    "      SUBROUTINE LSMP(PHI,MIU)\n",
    "      IMPLICIT REAL*8(A-H,O-Z)\n",
    "      REAL*8 MIU,LM,F\n",
    "!\n",
    "!     ----------( MIU )------------ \n",
    "!\n",
    "       F=PHI\n",
    "      IF ((F.GT.0.D0).AND.(F.LE.0.36996D0)) THEN\n",
    "       LM=2.67008D0/(F+0.276316D0)-3.76316D0\n",
    "       MIU=-10.D0**LM\n",
    "      ELSE IF (F.LE.0.4344D0) THEN\n",
    "       LM=0.0140647D0/(F-0.395457D0)+0.80941D0\n",
    "       MIU=-10.D0**LM\n",
    "      ELSE\n",
    "       MIU=(PHI-0.395457D0)/0.013653D0\n",
    "      END IF\n",
    "!\n",
    "      RETURN\n",
    "      END\n"
   ]
  }
 ],
 "metadata": {
  "kernelspec": {
   "display_name": "Julia 1.4.2",
   "language": "julia",
   "name": "julia-1.4"
  },
  "language_info": {
   "file_extension": ".jl",
   "mimetype": "application/julia",
   "name": "julia",
   "version": "1.4.2"
  }
 },
 "nbformat": 4,
 "nbformat_minor": 4
}
