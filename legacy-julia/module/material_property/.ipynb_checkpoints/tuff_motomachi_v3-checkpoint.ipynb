{
 "cells": [
  {
   "cell_type": "markdown",
   "metadata": {},
   "source": [
    "# Tuff（阿蘇弱溶結凝灰岩）の物性値ver.2  \n",
    "\n",
    "2021/01/25 髙取作成  \n",
    "元の値を参考にvan-Genuchtenのモデルで水分拡散係数をモデル化  \n",
    "⇒　主に安福先生の測定値を参考"
   ]
  },
  {
   "cell_type": "code",
   "execution_count": 1,
   "metadata": {},
   "outputs": [
    {
     "data": {
      "text/plain": [
       "Main.tuff_motomachi_v3"
      ]
     },
     "execution_count": 1,
     "metadata": {},
     "output_type": "execute_result"
    }
   ],
   "source": [
    "module tuff_motomachi_v3\n",
    "\n",
    "# 空隙率\n",
    "const psi = 0.3\n",
    "\n",
    "# 材料密度\n",
    "const row = 1479.25 #kg/m3 \n",
    "\n",
    "# 比熱\n",
    "const C = 750.0 #J/kg 鉱物性の建材の標準的な値\n",
    "\n",
    "# 水の密度\n",
    "const roww = 1000.0 #kg/m3\n",
    "#理想気体定数\n",
    "const R = 8.314 # J/(mol K)\n",
    "# 水のモル質量\n",
    "const Mw = 0.018 # kg/mol\n",
    "# 水蒸気のガス定数\n",
    "Rv = R / Mw # J/(kg K)\n",
    "# 水の熱容量\n",
    "const croww = 1000.0 * 4.18605e+3\n",
    "\n",
    "# 熱容量\n",
    "get_crow( ;phi::Float64 ) = C * row + croww * phi\n",
    "get_crow( cell ) = get_crow( phi = get_phi( cell ) )\n",
    "\n",
    "#重力加速度\n",
    "const g = 9.806650\n",
    "\n",
    "### 水分特性 ###\n",
    "# van-Genuchten用情報\n",
    "include(\"./van_genuchten.jl\")\n",
    "include(\"./Boltzmann_transformation.jl\")\n",
    "\n",
    "BeSand_vG = van_Genuchten.vG_parameter( \n",
    "    0.03, #α\n",
    "    1.6, #n\n",
    "    1.0 - ( 1.0 / 1.6 ), #m\n",
    "    #0.5\n",
    "    #30.0\n",
    "    35.0\n",
    "    #35.0\n",
    ")\n",
    "\n",
    "# Boltzmann変換用変数\n",
    "Bvalue_a = 0.43053007\n",
    "Bvalue_b = 19389.63902\n",
    "Bvalue_c =-8.119220102\n",
    "\n",
    "# 含水率\n",
    "get_phi( ;miu::Float64 ) = van_Genuchten.get_phi( vG = BeSand_vG, miu = miu, phimax = psi )\n",
    "get_phi( cell ) = van_Genuchten.get_phi( vG = BeSand_vG, miu = cell.miu, phimax = psi )\n",
    "\n",
    "# 含水率の水分化学ポテンシャル微分\n",
    "get_dphi( ;miu::Float64 ) = van_Genuchten.get_dphi( vG = BeSand_vG, miu = miu, phimax = psi )\n",
    "get_dphi( cell ) = get_dphi( miu = cell.miu )\n",
    "\n",
    "# 含水率から水分化学ポテンシャルの算出\n",
    "get_miu_by_phi( ;phi::Float64 ) = van_Genuchten.get_miu(vG = BeSand_vG, phi = phi, phimax = psi )\n",
    "get_miu_by_phi( cell ) = get_miu_by_phi( phi = cell.phi )\n",
    "\n",
    "### 移動特性 ###\n",
    "# 熱伝導率\n",
    "const lam = 0.35 # 適当な値だったはず（2020/11/19コメント）\n",
    "# 湿気依存\n",
    "get_lam( ;phi::Float64 ) = lam + 1.7227 * phi\n",
    "get_lam( cell ) = get_lam( phi = get_phi( cell ) )\n",
    "\n",
    "# 飽和時の透水係数\n",
    "#const Ksat = 2.7e-7\n",
    "const Ksat = 4.8e-7\n",
    "#const Ksat = 4.8e-7 * 1.2\n",
    "\n",
    "\n",
    "# 透水係数\n",
    "#get_dw( ;miu::Float64 ) = Ksat * van_Genuchten.get_kl( vG = BeSand_vG, miu = miu ) + \n",
    "#( cal_Dw_by_Boltzmann( a = Bvalue_a, b = Bvalue_b, c = Bvalue_c, phi_init = 0.0, phi = get_phi( miu = miu )) / 4.1e-9) ^ 0.5 * 4.1e-9 * 0.045\n",
    "# 0.5, 0.1の一致が良い\n",
    "#get_dw( ;miu::Float64 ) = ( cal_Dw_by_Boltzmann( a = Bvalue_a, b = Bvalue_b, c = Bvalue_c, phi_init = 0.0, phi = get_phi( miu = miu )) / 4.1e-9) ^ 0.5 * 4.1e-9 * 0.045\n",
    "\n",
    "#1.5e-10\n",
    "#get_dw( cell ) = get_dw( ;miu = cell.miu )\n",
    "\n",
    "\n",
    "## 透水係数（変換後）\n",
    "#get_dw( ;miu::Float64 ) = Ksat / g * van_Genuchten.get_kl( vG = BeSand_vG, miu = miu ) / get_dphi( miu = miu ) * 1000.0  \n",
    "#+ 1.00e-9\n",
    "#( cal_Dw_by_Boltzmann( a = Bvalue_a, b = Bvalue_b, c = Bvalue_c, phi_init = 0.0, phi = get_phi( miu = miu )) / 4.1e-9) ^ 0.5 * 4.1e-9 * 0.045\n",
    "# 0.5, 0.1の一致が良い\n",
    "\n",
    "\n",
    "##########################################\n",
    "## 透水係数（変換後）\n",
    "get_dw( ;miu::Float64 ) = Ksat * van_Genuchten.get_kl( vG = BeSand_vG, miu = miu ) \n",
    "#+ 1.00e-9\n",
    "\n",
    "get_dw( cell ) = get_dw( ;miu = cell.miu )\n",
    "\n",
    "\n",
    "#get_dw( ;miu::Float64, rowsw::Float64 ) = Ksat  / g / rowsw * van_Genuchten.get_kl( vG = BeSand_vG, miu = miu ) \n",
    "#+ 1.00e-9\n",
    "\n",
    "#get_dw( cell ) = get_dw( ;miu = cell.miu, rowsw = rowsw(cell) )\n",
    "\n",
    "###########################################\n",
    "\n",
    "\n",
    "#水分化学ポテンシャル勾配に対する液相水分伝導率\n",
    "#get_ldml( ;miu::Float64 ) = get_dw( miu = miu ) * roww / g \n",
    "\n",
    "#get_ldml( cell ) = get_ldml( ;miu = cell.miu )\n",
    "\n",
    "#ボルツマン変換\n",
    "#get_dw( ;phi::Float64 ) = cal_Dw_by_Boltzmann( a = Bvalue_a, b = Bvalue_b, c = Bvalue_c, phi_init = 0.0, phi = phi)\n",
    "#get_dw( cell ) = get_dw( ;phi = get_phi( cell ) )\n",
    "\n",
    "\n",
    "# 透湿率（湿気伝導率）\n",
    "function get_dp( ;temp::Float64, phi::Float64 );\n",
    "    dp = 1.2e-10 #絶乾時の透湿率[kg/m Pa s]\n",
    "    return dp * ( ( psi + 0.001 - phi ) / psi )\n",
    "end\n",
    "get_dp( cell ) = get_dp( temp = cell.temp, phi = get_phi( cell ) )\n",
    "\n",
    "end\n",
    "\n",
    "\n",
    "\n",
    "\n",
    "\n",
    "\n"
   ]
  },
  {
   "cell_type": "markdown",
   "metadata": {},
   "source": [
    "### Example"
   ]
  },
  {
   "cell_type": "code",
   "execution_count": 9,
   "metadata": {},
   "outputs": [],
   "source": [
    "mutable struct test_tuff_motomachi_v3\n",
    "    temp::Float64\n",
    "    miu::Float64\n",
    "end"
   ]
  },
  {
   "cell_type": "code",
   "execution_count": 10,
   "metadata": {},
   "outputs": [
    {
     "data": {
      "text/plain": [
       "test_tuff_motomachi_v3(293.15, -0.013540273447664458)"
      ]
     },
     "execution_count": 10,
     "metadata": {},
     "output_type": "execute_result"
    }
   ],
   "source": [
    "test_tuffm_hygro_v3 = test_tuff_motomachi_v3( 293.15, 8.314 / 0.018 * 293.15 * log( 0.9999999) )"
   ]
  },
  {
   "cell_type": "code",
   "execution_count": 11,
   "metadata": {},
   "outputs": [
    {
     "data": {
      "text/plain": [
       "2.365250734150373e6"
      ]
     },
     "execution_count": 11,
     "metadata": {},
     "output_type": "execute_result"
    }
   ],
   "source": [
    "tuff_motomachi_v3.get_crow( test_tuffm_hygro_v3 )"
   ]
  },
  {
   "cell_type": "code",
   "execution_count": 12,
   "metadata": {},
   "outputs": [
    {
     "data": {
      "text/plain": [
       "0.8668092732936412"
      ]
     },
     "execution_count": 12,
     "metadata": {},
     "output_type": "execute_result"
    }
   ],
   "source": [
    "tuff_motomachi_v3.get_lam( test_tuffm_hygro_v3 ) "
   ]
  },
  {
   "cell_type": "code",
   "execution_count": 13,
   "metadata": {},
   "outputs": [
    {
     "data": {
      "text/plain": [
       "0.29999957815849615"
      ]
     },
     "execution_count": 13,
     "metadata": {},
     "output_type": "execute_result"
    }
   ],
   "source": [
    "tuff_motomachi_v3.get_phi( test_tuffm_hygro_v3 )"
   ]
  },
  {
   "cell_type": "code",
   "execution_count": 14,
   "metadata": {},
   "outputs": [
    {
     "data": {
      "text/plain": [
       "-0.013540273447913522"
      ]
     },
     "execution_count": 14,
     "metadata": {},
     "output_type": "execute_result"
    }
   ],
   "source": [
    "tuff_motomachi_v3.get_miu_by_phi( phi = tuff_motomachi_v3.get_phi( test_tuffm_hygro_v3 ) )"
   ]
  },
  {
   "cell_type": "code",
   "execution_count": 15,
   "metadata": {},
   "outputs": [
    {
     "data": {
      "text/plain": [
       "4.984719612714072e-5"
      ]
     },
     "execution_count": 15,
     "metadata": {},
     "output_type": "execute_result"
    }
   ],
   "source": [
    "tuff_motomachi_v3.get_dphi( test_tuffm_hygro_v3 )"
   ]
  },
  {
   "cell_type": "code",
   "execution_count": 16,
   "metadata": {},
   "outputs": [
    {
     "data": {
      "text/plain": [
       "4.804453671617817e-8"
      ]
     },
     "execution_count": 16,
     "metadata": {},
     "output_type": "execute_result"
    }
   ],
   "source": [
    "tuff_motomachi_v3.get_dw( test_tuffm_hygro_v3 )"
   ]
  },
  {
   "cell_type": "code",
   "execution_count": 17,
   "metadata": {},
   "outputs": [
    {
     "data": {
      "text/plain": [
       "4.001687366015361e-13"
      ]
     },
     "execution_count": 17,
     "metadata": {},
     "output_type": "execute_result"
    }
   ],
   "source": [
    "tuff_motomachi_v3.get_dp( test_tuffm_hygro_v3 )"
   ]
  },
  {
   "cell_type": "code",
   "execution_count": 18,
   "metadata": {},
   "outputs": [
    {
     "data": {
      "text/plain": [
       "5168.738944328167"
      ]
     },
     "execution_count": 18,
     "metadata": {},
     "output_type": "execute_result"
    }
   ],
   "source": [
    "1.968e-7 * ( ( 20.0 * 273.15 )^0.81 ) / 101325.0 / tuff_motomachi_v3.get_dp( test_tuffm_hygro_v3 )"
   ]
  },
  {
   "cell_type": "code",
   "execution_count": null,
   "metadata": {},
   "outputs": [],
   "source": []
  },
  {
   "cell_type": "code",
   "execution_count": null,
   "metadata": {},
   "outputs": [],
   "source": []
  }
 ],
 "metadata": {
  "kernelspec": {
   "display_name": "Julia 1.6.1",
   "language": "julia",
   "name": "julia-1.6"
  },
  "language_info": {
   "file_extension": ".jl",
   "mimetype": "application/julia",
   "name": "julia",
   "version": "1.6.1"
  }
 },
 "nbformat": 4,
 "nbformat_minor": 4
}
