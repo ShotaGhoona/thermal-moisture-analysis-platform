{
 "cells": [
  {
   "cell_type": "code",
   "execution_count": null,
   "metadata": {},
   "outputs": [],
   "source": []
  },
  {
   "cell_type": "markdown",
   "metadata": {},
   "source": [
    "# EN15026 ベンチマークテスト用材料  \n",
    "プログラムのベンチマーク測定のための材料  \n",
    "詳細はWUFIのベンチマークテスト結果を参照のこと  \n",
    "http://www.wufi.jp/wp-content/uploads/2014/02/EN15026_Japanese.pdf"
   ]
  },
  {
   "cell_type": "markdown",
   "metadata": {},
   "source": [
    "### ※透湿率に関する式はWUFIの元文献が間違っているため、EN15026の元分権を参照するのが好ましい。"
   ]
  },
  {
   "cell_type": "code",
   "execution_count": 1,
   "metadata": {},
   "outputs": [
    {
     "data": {
      "text/plain": [
       "1.8241e6"
      ]
     },
     "execution_count": 1,
     "metadata": {},
     "output_type": "execute_result"
    }
   ],
   "source": [
    "850.0 * 2146"
   ]
  },
  {
   "cell_type": "code",
   "execution_count": 2,
   "metadata": {},
   "outputs": [
    {
     "data": {
      "text/plain": [
       "Main.benchmark_EN15026"
      ]
     },
     "execution_count": 2,
     "metadata": {},
     "output_type": "execute_result"
    }
   ],
   "source": [
    "module benchmark_EN15026\n",
    "\n",
    "# 空隙率\n",
    "const psi = 0.146\n",
    "\n",
    "# 材料密度\n",
    "const row = 2146.0 #kg/m3 \n",
    "\n",
    "# 比熱\n",
    "const C = 850.0 #J/kg 鉱物性の建材の標準的な値\n",
    "\n",
    "# 水の密度\n",
    "const roww = 1000.0 #kg/m3\n",
    "#理想気体定数\n",
    "const R = 8.314 # J/(mol K)\n",
    "# 水のモル質量\n",
    "const Mw = 0.018 # kg/mol\n",
    "# 水蒸気のガス定数\n",
    "Rv = R / Mw # J/(kg K)\n",
    "# 水の熱容量\n",
    "const croww = 1000.0 * 4.18605e+3\n",
    "\n",
    "# miu ⇒　rh の変換係数\n",
    "function convertMiu2RH( ;temp::Float64, miu::Float64 );\n",
    "    return exp( miu / Rv / temp )\n",
    "end\n",
    "\n",
    "# 熱容量\n",
    "get_crow( ;phi::Float64 ) = C * row + croww * phi\n",
    "get_crow( cell ) = get_crow( phi = get_phi( cell ) )\n",
    "\n",
    "### 水分特性 ###\n",
    "# Kelvin式\n",
    "psuc( ;temp::Float64, rh::Float64 ) = - Rv * temp * roww * log(rh)\n",
    "psuc( cell ) = psuc( temp = cell.temp, rh = convertMiu2RH( temp = cell.temp, miu = cell.miu ))\n",
    "\n",
    "# 含水率\n",
    "get_phi( ;psuc::Float64 ) = 146.0 / 1000.0 / ( ( 1.0 + (8.0e-8 * psuc)^1.6 )^0.375 )\n",
    "get_phi( cell ) = get_phi( psuc = psuc( cell ) )\n",
    "\n",
    "# 含水率の水分化学ポテンシャル微分\n",
    "get_dphi( ;psuc::Float64, phi::Float64 ) = 1.0 / ( psuc * ( 0.625 / ( 1.0 - ( 146.0 / 1000.0 / phi )^( - 1.0 / 0.375 ) ) ) * ( 1.0 / ( 0.375 * phi * 1000.0 ) ) )\n",
    "get_dphi( cell ) = get_dphi( psuc = psuc(cell), phi = get_phi( cell ) )\n",
    "\n",
    "# 含水率から水分化学ポテンシャルの算出\n",
    "get_miu_by_phi( ;phi::Float64 ) = - ( ( ( 146.0 / ( 1000.0*phi ) )^( 1.0/0.375 ) - 1.0 )^( 1.0/1.6 ) ) / 8.0e-8 / roww\n",
    "get_miu_by_phi( cell ) = get_miu_by_phi( phi = get_phi( cell ) )\n",
    "\n",
    "\n",
    "### 移動特性 ###\n",
    "# 熱伝導率\n",
    "const lam = 1.5\n",
    "# 湿気依存\n",
    "get_lam( ;phi::Float64 ) = lam + 15.8 * phi\n",
    "get_lam( cell ) = get_lam( phi = get_phi( cell ) )\n",
    "\n",
    "# 透水係数 EN 15026では毛管圧勾配になっている。\n",
    "function get_K_pc( ;phi::Float64 );\n",
    "    phi_con = phi * roww - 73.0\n",
    "    return exp( -39.2619 + 0.0704*phi_con - 1.7420e-4*phi_con^2.0 - 2.7953e-6*phi_con^3.0 - 1.1566e-7*phi_con^4.0 + 2.5969e-9*phi_con^5.0 )\n",
    "end\n",
    "get_ldml( cell ) = get_K_pc( phi = get_phi( cell ) ) * 1000.0\n",
    "\n",
    "# 透湿率（湿気伝導率） ⇒　EN15026の式が間違っている　⇒　WUFIの式が正しい模様\n",
    "get_dp( ;temp::Float64, phi::Float64 ) = ( Mw / (R*temp) ) * ( 26.1e-6 / 200.0 ) * ( 1.0 - phi/0.146 ) / ( 0.503 * (1.0 - phi/0.146 )^2.0 + 0.497 )\n",
    "#get_dp( ;temp::Float64, phi::Float64 ) = ( Mw / (Rv*temp) ) * ( 26.1e-6 / 200.0 ) * ( 1.0 - phi/0.146 ) / ( 0.503 * (1.0 - phi/0.146 )^2.0 + 0.497 )\n",
    "get_dp( cell ) = get_dp( temp = cell.temp, phi = get_phi( cell ) )\n",
    "\n",
    "end"
   ]
  },
  {
   "cell_type": "markdown",
   "metadata": {},
   "source": [
    "### Example"
   ]
  },
  {
   "cell_type": "code",
   "execution_count": 3,
   "metadata": {},
   "outputs": [],
   "source": [
    "mutable struct test_benchmark_EN15026\n",
    "    temp::Float64\n",
    "    miu::Float64\n",
    "end"
   ]
  },
  {
   "cell_type": "code",
   "execution_count": 4,
   "metadata": {},
   "outputs": [
    {
     "data": {
      "text/plain": [
       "test_benchmark_EN15026(293.15, -48294.76033929033)"
      ]
     },
     "execution_count": 4,
     "metadata": {},
     "output_type": "execute_result"
    }
   ],
   "source": [
    "test_ben_hygro = test_benchmark_EN15026( 293.15, 8.314 / 0.018 * 293.15 * log( 0.7 ) )"
   ]
  },
  {
   "cell_type": "code",
   "execution_count": 5,
   "metadata": {},
   "outputs": [
    {
     "data": {
      "text/plain": [
       "2.0848537843532034e6"
      ]
     },
     "execution_count": 5,
     "metadata": {},
     "output_type": "execute_result"
    }
   ],
   "source": [
    "benchmark_EN15026.get_crow( test_ben_hygro )"
   ]
  },
  {
   "cell_type": "code",
   "execution_count": 6,
   "metadata": {},
   "outputs": [
    {
     "data": {
      "text/plain": [
       "2.484199852553269"
      ]
     },
     "execution_count": 6,
     "metadata": {},
     "output_type": "execute_result"
    }
   ],
   "source": [
    "benchmark_EN15026.get_lam( test_ben_hygro ) "
   ]
  },
  {
   "cell_type": "code",
   "execution_count": 7,
   "metadata": {},
   "outputs": [
    {
     "data": {
      "text/plain": [
       "0.062291129908434766"
      ]
     },
     "execution_count": 7,
     "metadata": {},
     "output_type": "execute_result"
    }
   ],
   "source": [
    "benchmark_EN15026.get_phi( test_ben_hygro )"
   ]
  },
  {
   "cell_type": "code",
   "execution_count": 8,
   "metadata": {},
   "outputs": [
    {
     "data": {
      "text/plain": [
       "-48294.76033929034"
      ]
     },
     "execution_count": 8,
     "metadata": {},
     "output_type": "execute_result"
    }
   ],
   "source": [
    "benchmark_EN15026.get_miu_by_phi( phi = benchmark_EN15026.get_phi( test_ben_hygro ) )"
   ]
  },
  {
   "cell_type": "code",
   "execution_count": 9,
   "metadata": {},
   "outputs": [
    {
     "data": {
      "text/plain": [
       "6.940494085331328e-7"
      ]
     },
     "execution_count": 9,
     "metadata": {},
     "output_type": "execute_result"
    }
   ],
   "source": [
    "benchmark_EN15026.get_dphi( test_ben_hygro )"
   ]
  },
  {
   "cell_type": "code",
   "execution_count": 10,
   "metadata": {},
   "outputs": [
    {
     "data": {
      "text/plain": [
       "-48294.76033929034"
      ]
     },
     "execution_count": 10,
     "metadata": {},
     "output_type": "execute_result"
    }
   ],
   "source": [
    "benchmark_EN15026.get_miu_by_phi( test_ben_hygro )"
   ]
  },
  {
   "cell_type": "code",
   "execution_count": 11,
   "metadata": {},
   "outputs": [
    {
     "data": {
      "text/plain": [
       "4.105370629323994e-15"
      ]
     },
     "execution_count": 11,
     "metadata": {},
     "output_type": "execute_result"
    }
   ],
   "source": [
    "benchmark_EN15026.get_ldml( test_ben_hygro )"
   ]
  },
  {
   "cell_type": "code",
   "execution_count": 12,
   "metadata": {},
   "outputs": [
    {
     "data": {
      "text/plain": [
       "8.342840166505753e-13"
      ]
     },
     "execution_count": 12,
     "metadata": {},
     "output_type": "execute_result"
    }
   ],
   "source": [
    "benchmark_EN15026.get_dp( test_ben_hygro )"
   ]
  },
  {
   "cell_type": "code",
   "execution_count": 13,
   "metadata": {},
   "outputs": [
    {
     "data": {
      "text/plain": [
       "2479.212944146883"
      ]
     },
     "execution_count": 13,
     "metadata": {},
     "output_type": "execute_result"
    }
   ],
   "source": [
    "1.968e-7 * ( ( 20.0 * 273.15 )^0.81 ) / 101325.0 / benchmark_EN15026.get_dp( test_ben_hygro )"
   ]
  },
  {
   "cell_type": "code",
   "execution_count": null,
   "metadata": {},
   "outputs": [],
   "source": []
  },
  {
   "cell_type": "code",
   "execution_count": null,
   "metadata": {},
   "outputs": [],
   "source": []
  },
  {
   "cell_type": "code",
   "execution_count": null,
   "metadata": {},
   "outputs": [],
   "source": []
  }
 ],
 "metadata": {
  "kernelspec": {
   "display_name": "Julia 1.4.2",
   "language": "julia",
   "name": "julia-1.4"
  },
  "language_info": {
   "file_extension": ".jl",
   "mimetype": "application/julia",
   "name": "julia",
   "version": "1.4.2"
  }
 },
 "nbformat": 4,
 "nbformat_minor": 4
}
