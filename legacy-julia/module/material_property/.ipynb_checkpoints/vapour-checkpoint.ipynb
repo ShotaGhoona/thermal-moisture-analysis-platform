{
 "cells": [
  {
   "cell_type": "markdown",
   "metadata": {},
   "source": [
    "#### 気体定数$R_v$\n",
    "$ \\displaystyle R_v = \\frac{8316.0}{18.016}$"
   ]
  },
  {
   "cell_type": "code",
   "execution_count": 1,
   "metadata": {},
   "outputs": [
    {
     "data": {
      "text/plain": [
       "461.58969804618124"
      ]
     },
     "execution_count": 1,
     "metadata": {},
     "output_type": "execute_result"
    }
   ],
   "source": [
    "const Rv = 8316.0/18.016 "
   ]
  },
  {
   "cell_type": "markdown",
   "metadata": {},
   "source": [
    "# 水蒸気の状態量に関するモジュール"
   ]
  },
  {
   "cell_type": "markdown",
   "metadata": {},
   "source": [
    "#### 飽和水蒸気圧 $P_{vs}$"
   ]
  },
  {
   "cell_type": "code",
   "execution_count": 2,
   "metadata": {},
   "outputs": [
    {
     "data": {
      "text/plain": [
       "cal_Pvs (generic function with 2 methods)"
      ]
     },
     "execution_count": 2,
     "metadata": {},
     "output_type": "execute_result"
    }
   ],
   "source": [
    "function cal_Pvs( ;temp );\n",
    "    return exp( -5800.22060 / temp + 1.3914993 - 4.8640239E-2 * temp + 4.1764768E-5 * (temp ^ 2.0) - 1.4452093E-8 * (temp ^ 3.0) + 6.5459673 * log(temp) )\n",
    "end\n",
    "\n",
    "# 多重ディスパッチによる別実装\n",
    "cal_Pvs( temp ) = cal_Pvs( temp = temp )"
   ]
  },
  {
   "cell_type": "code",
   "execution_count": 3,
   "metadata": {},
   "outputs": [
    {
     "data": {
      "text/plain": [
       "2338.8037000739814"
      ]
     },
     "execution_count": 3,
     "metadata": {},
     "output_type": "execute_result"
    }
   ],
   "source": [
    "cal_Pvs( temp = 293.15 )"
   ]
  },
  {
   "cell_type": "code",
   "execution_count": 4,
   "metadata": {},
   "outputs": [
    {
     "data": {
      "text/plain": [
       "2338.8037000739814"
      ]
     },
     "execution_count": 4,
     "metadata": {},
     "output_type": "execute_result"
    }
   ],
   "source": [
    "cal_Pvs( 293.15 )"
   ]
  },
  {
   "cell_type": "markdown",
   "metadata": {},
   "source": [
    "### 水蒸気圧 $P_v(T,RH)$  \n",
    "$Pv = RH * P_{vs} $"
   ]
  },
  {
   "cell_type": "code",
   "execution_count": 5,
   "metadata": {},
   "outputs": [
    {
     "data": {
      "text/plain": [
       "cal_Pv_ByRH (generic function with 2 methods)"
      ]
     },
     "execution_count": 5,
     "metadata": {},
     "output_type": "execute_result"
    }
   ],
   "source": [
    "function cal_Pv_ByRH( ;temp::Float64, rh::Float64)\n",
    "    return rh * cal_Pvs( temp = temp )\n",
    "end\n",
    "\n",
    "cal_Pv_ByRH( temp::Float64, rh::Float64) = cal_Pv_ByRH( temp, rh)"
   ]
  },
  {
   "cell_type": "code",
   "execution_count": 6,
   "metadata": {},
   "outputs": [
    {
     "data": {
      "text/plain": [
       "1403.2822200443889"
      ]
     },
     "execution_count": 6,
     "metadata": {},
     "output_type": "execute_result"
    }
   ],
   "source": [
    "cal_Pv_ByRH( temp = 293.15, rh = 0.6 )"
   ]
  },
  {
   "cell_type": "markdown",
   "metadata": {},
   "source": [
    "#### 水蒸気圧 $P_v(T,\\mu)$ \n",
    " $\\mu = R_v T log(RH)$  \n",
    "\n",
    "⇔ $Pv = P_v * exp(\\frac{\\mu}{R_v T}) $"
   ]
  },
  {
   "cell_type": "code",
   "execution_count": 7,
   "metadata": {},
   "outputs": [
    {
     "data": {
      "text/plain": [
       "cal_Pv_ByMiu (generic function with 2 methods)"
      ]
     },
     "execution_count": 7,
     "metadata": {},
     "output_type": "execute_result"
    }
   ],
   "source": [
    "function cal_Pv_ByMiu( ;temp::Float64, miu::Float64 );\n",
    "    rh = exp( miu / Rv / temp )\n",
    "    return rh * cal_Pvs(temp = temp)\n",
    "end\n",
    "\n",
    "cal_Pv_ByMiu( temp::Float64, miu::Float64 ) = cal_Pv_ByMiu( temp, miu )"
   ]
  },
  {
   "cell_type": "code",
   "execution_count": 8,
   "metadata": {},
   "outputs": [
    {
     "data": {
      "text/plain": [
       "1218.6355382747606"
      ]
     },
     "execution_count": 8,
     "metadata": {},
     "output_type": "execute_result"
    }
   ],
   "source": [
    "cal_Pv_ByMiu( temp = 283.15, miu = -1000.0 )"
   ]
  },
  {
   "cell_type": "markdown",
   "metadata": {},
   "source": [
    "#### 水蒸気圧の温度微分 $\\partial P_{v} / \\partial T$"
   ]
  },
  {
   "cell_type": "code",
   "execution_count": 9,
   "metadata": {},
   "outputs": [
    {
     "data": {
      "text/plain": [
       "cal_DPvs (generic function with 2 methods)"
      ]
     },
     "execution_count": 9,
     "metadata": {},
     "output_type": "execute_result"
    }
   ],
   "source": [
    "function cal_DPvs( ;temp );\n",
    "    DP = 10.795740 * 273.160 / temp / temp - 5.0280 / temp / log(10.0) + \n",
    "    ( 1.50475E-4 ) * 8.2969 / 273.16 * log(10.0)* \n",
    "    ( 10.0 ^ ( -8.29690 * ( temp / 273.160 - 1.0 ) ) ) + \n",
    "    ( 0.42873E-3 ) * 4.769550 * 273.160 / temp / temp * log(10.0) * \n",
    "    ( 10.0 ^ ( 4.769550 * ( 1.0 - 273.160 / temp ) ) )\n",
    "    return cal_Pvs(temp = temp) * DP * log(10.0)\n",
    "end\n",
    "\n",
    "cal_DPvs( temp ) = cal_DPvs( ;temp = temp )"
   ]
  },
  {
   "cell_type": "code",
   "execution_count": 10,
   "metadata": {},
   "outputs": [
    {
     "data": {
      "text/plain": [
       "144.86896177242258"
      ]
     },
     "execution_count": 10,
     "metadata": {},
     "output_type": "execute_result"
    }
   ],
   "source": [
    "cal_DPvs( temp = 293.15 )"
   ]
  },
  {
   "cell_type": "markdown",
   "metadata": {},
   "source": [
    "## 水蒸気の換算関係"
   ]
  },
  {
   "cell_type": "markdown",
   "metadata": {},
   "source": [
    "### 換算式"
   ]
  },
  {
   "cell_type": "markdown",
   "metadata": {},
   "source": [
    "#### 記号"
   ]
  },
  {
   "cell_type": "markdown",
   "metadata": {},
   "source": [
    "$T$ : Absolute temperature / 絶対温度, K  \n",
    "$R_v$ : 水蒸気の気体定数, J kg<sup>-1</sup> K<sup>-1</sup>  \n",
    "$RH$ : 相対湿度 ( 0.0 ～ 1.0 )  \n",
    "$P_v$ : 水蒸気圧, Pa  \n",
    "$P_{vs}$ : 飽和水蒸気圧, Pa  \n",
    "$\\mu$ : 水分化学ポテンシャル, J kg<sup>-1</sup> "
   ]
  },
  {
   "cell_type": "markdown",
   "metadata": {},
   "source": [
    "#### RH（相対湿度） - Pv（水蒸気圧）関係  "
   ]
  },
  {
   "cell_type": "markdown",
   "metadata": {},
   "source": [
    "$ \\displaystyle P_v = RH \\cdot P_{vs}$"
   ]
  },
  {
   "cell_type": "code",
   "execution_count": 11,
   "metadata": {},
   "outputs": [
    {
     "data": {
      "text/plain": [
       "convertRH2Pv (generic function with 2 methods)"
      ]
     },
     "execution_count": 11,
     "metadata": {},
     "output_type": "execute_result"
    }
   ],
   "source": [
    "function convertRH2Pv( ;temp::Float64, rh::Float64 );\n",
    "    return rh * cal_Pvs( temp = temp )\n",
    "end\n",
    "\n",
    "convertRH2Pv( temp::Float64, rh::Float64 ) = convertRH2Pv( temp = temp, rh = rh )"
   ]
  },
  {
   "cell_type": "code",
   "execution_count": 12,
   "metadata": {},
   "outputs": [
    {
     "data": {
      "text/plain": [
       "convertPv2RH (generic function with 1 method)"
      ]
     },
     "execution_count": 12,
     "metadata": {},
     "output_type": "execute_result"
    }
   ],
   "source": [
    "function convertPv2RH( ;temp::Float64, pv::Float64 );\n",
    "    return pv / cal_Pvs( temp = temp )\n",
    "end"
   ]
  },
  {
   "cell_type": "markdown",
   "metadata": {},
   "source": [
    "値の確認"
   ]
  },
  {
   "cell_type": "code",
   "execution_count": 13,
   "metadata": {},
   "outputs": [
    {
     "data": {
      "text/plain": [
       "1403.2822200443889"
      ]
     },
     "execution_count": 13,
     "metadata": {},
     "output_type": "execute_result"
    }
   ],
   "source": [
    "convertRH2Pv( temp = 293.15 , rh = 0.6 )"
   ]
  },
  {
   "cell_type": "code",
   "execution_count": 14,
   "metadata": {},
   "outputs": [
    {
     "data": {
      "text/plain": [
       "0.6"
      ]
     },
     "execution_count": 14,
     "metadata": {},
     "output_type": "execute_result"
    }
   ],
   "source": [
    "convertPv2RH( temp = 293.15, pv = convertRH2Pv( temp = 293.15 , rh = 0.6 ) )"
   ]
  },
  {
   "cell_type": "markdown",
   "metadata": {},
   "source": [
    "#### RH（相対湿度） - Miu（水分化学ポテンシャル）関係  "
   ]
  },
  {
   "cell_type": "markdown",
   "metadata": {},
   "source": [
    "$ \\displaystyle \\mu = R_v \\cdot T \\cdot \\log(RH)$"
   ]
  },
  {
   "cell_type": "code",
   "execution_count": 15,
   "metadata": {},
   "outputs": [
    {
     "data": {
      "text/plain": [
       "convertRH2Miu (generic function with 1 method)"
      ]
     },
     "execution_count": 15,
     "metadata": {},
     "output_type": "execute_result"
    }
   ],
   "source": [
    "function convertRH2Miu( ;temp::Float64, rh::Float64 );\n",
    "    return Rv * temp * log( rh )\n",
    "end"
   ]
  },
  {
   "cell_type": "code",
   "execution_count": 16,
   "metadata": {},
   "outputs": [
    {
     "data": {
      "text/plain": [
       "convertMiu2RH (generic function with 1 method)"
      ]
     },
     "execution_count": 16,
     "metadata": {},
     "output_type": "execute_result"
    }
   ],
   "source": [
    "function convertMiu2RH( ;temp::Float64, miu::Float64 );\n",
    "    return exp( miu / Rv / temp )\n",
    "end"
   ]
  },
  {
   "cell_type": "markdown",
   "metadata": {},
   "source": [
    "値の確認"
   ]
  },
  {
   "cell_type": "code",
   "execution_count": 17,
   "metadata": {},
   "outputs": [
    {
     "data": {
      "text/plain": [
       "-69122.37948733423"
      ]
     },
     "execution_count": 17,
     "metadata": {},
     "output_type": "execute_result"
    }
   ],
   "source": [
    "convertRH2Miu( temp = 293.15, rh = 0.6 )"
   ]
  },
  {
   "cell_type": "code",
   "execution_count": 18,
   "metadata": {},
   "outputs": [
    {
     "data": {
      "text/plain": [
       "0.6"
      ]
     },
     "execution_count": 18,
     "metadata": {},
     "output_type": "execute_result"
    }
   ],
   "source": [
    "convertMiu2RH( temp = 293.15, miu = convertRH2Miu( temp = 293.15, rh = 0.6 ) )"
   ]
  },
  {
   "cell_type": "markdown",
   "metadata": {},
   "source": [
    "#### Pv（水蒸気圧） - Miu（水分化学ポテンシャル）関係  "
   ]
  },
  {
   "cell_type": "code",
   "execution_count": 19,
   "metadata": {},
   "outputs": [
    {
     "data": {
      "text/plain": [
       "convertPv2Miu (generic function with 1 method)"
      ]
     },
     "execution_count": 19,
     "metadata": {},
     "output_type": "execute_result"
    }
   ],
   "source": [
    "function convertPv2Miu( ;temp::Float64, pv::Float64 );\n",
    "    rh = convertPv2RH( temp = temp, pv = pv )\n",
    "    return convertRH2Miu( temp = temp, rh = rh )\n",
    "end"
   ]
  },
  {
   "cell_type": "code",
   "execution_count": 20,
   "metadata": {},
   "outputs": [
    {
     "data": {
      "text/plain": [
       "convertMiu2Pv (generic function with 1 method)"
      ]
     },
     "execution_count": 20,
     "metadata": {},
     "output_type": "execute_result"
    }
   ],
   "source": [
    "function convertMiu2Pv( ;temp::Float64, miu::Float64 );\n",
    "    rh = convertMiu2RH( temp = temp, miu = miu )\n",
    "    return convertRH2Pv( temp = temp, rh = rh )\n",
    "end"
   ]
  },
  {
   "cell_type": "markdown",
   "metadata": {},
   "source": [
    "値の確認"
   ]
  },
  {
   "cell_type": "code",
   "execution_count": 21,
   "metadata": {},
   "outputs": [
    {
     "data": {
      "text/plain": [
       "-90298.14885141041"
      ]
     },
     "execution_count": 21,
     "metadata": {},
     "output_type": "execute_result"
    }
   ],
   "source": [
    "convertPv2Miu( temp = 293.15, pv = 1200.0 )"
   ]
  },
  {
   "cell_type": "markdown",
   "metadata": {},
   "source": [
    "### 実行速度比較"
   ]
  },
  {
   "cell_type": "markdown",
   "metadata": {},
   "source": [
    "#%timeit \n",
    "convertRH2Pv( temp, rh )\n",
    "#%timeit \n",
    "convertRH2Pv_np( temp, rh )"
   ]
  },
  {
   "cell_type": "markdown",
   "metadata": {},
   "source": [
    "%timeit DPvs( temp )\n",
    "%timeit DPvs_np( temp )"
   ]
  },
  {
   "cell_type": "markdown",
   "metadata": {},
   "source": [
    "## Example"
   ]
  },
  {
   "cell_type": "markdown",
   "metadata": {},
   "source": [
    "fig = plt.figure(figsize=(15,4))\n",
    "ax = fig.add_subplot(1,2,1)\n",
    "\n",
    "xs = [ n * 0.01 for n in range(27315,37315) ]\n",
    "\n",
    "for RH in [ 0.2, 0.4, 0.6, 0.8, 1.0 ]:\n",
    "    ys = [ convertRH2Pv( x, RH ) for x in xs ]\n",
    "    ax.plot( xs, ys, label = 'RH:' + str(int(RH*100)) + ', %' )\n",
    "\n",
    "ax.set_xticks([ n * 20 + 273.15 for n in range(0, 6) ])\n",
    "ax.set_yticks([ n * 10000 for n in range(0, 11) ])\n",
    "ax.set_xlabel('Absolute temperature, K', fontsize = 15 )\n",
    "ax.set_ylabel('Vapor pressure, Pa', fontsize = 15 )\n",
    "plt.legend()\n",
    "plt.show()"
   ]
  },
  {
   "cell_type": "markdown",
   "metadata": {},
   "source": [
    "fig = plt.figure(figsize=(15,4))\n",
    "ax = fig.add_subplot(1,2,1)\n",
    "\n",
    "xs = [ n * 0.01 for n in range(27315,37315) ]\n",
    "\n",
    "for RH in [ 0.2, 0.4, 0.6, 0.8, 1.0 ]:\n",
    "    ys = [ convertRH2Miu( x, RH ) for x in xs ]\n",
    "    ax.plot( xs, ys, label = 'RH:' + str(int(RH*100)) + ', %' )\n",
    "\n",
    "ax.set_xticks([ n * 20 + 273.15 for n in range(0, 6) ])\n",
    "ax.set_yticks([ n * 10000 for n in range(0, 11) ])\n",
    "ax.set_xlabel('Absolute temperature, K', fontsize = 15 )\n",
    "ax.set_ylabel('Chemical potential, J/kg', fontsize = 15 )\n",
    "plt.legend()\n",
    "plt.show()"
   ]
  },
  {
   "cell_type": "code",
   "execution_count": null,
   "metadata": {},
   "outputs": [],
   "source": []
  }
 ],
 "metadata": {
  "kernelspec": {
   "display_name": "Julia 1.4.2",
   "language": "julia",
   "name": "julia-1.4"
  },
  "language_info": {
   "file_extension": ".jl",
   "mimetype": "application/julia",
   "name": "julia",
   "version": "1.4.2"
  }
 },
 "nbformat": 4,
 "nbformat_minor": 4
}
