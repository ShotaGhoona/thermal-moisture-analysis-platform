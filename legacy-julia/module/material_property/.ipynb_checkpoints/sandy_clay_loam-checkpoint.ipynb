{
 "cells": [
  {
   "cell_type": "markdown",
   "metadata": {},
   "source": [
    "# 砂質粘土ローム  \n",
    "参考：？"
   ]
  },
  {
   "cell_type": "code",
   "execution_count": 1,
   "metadata": {},
   "outputs": [
    {
     "data": {
      "text/plain": [
       "Main.sandy_clay_roam"
      ]
     },
     "execution_count": 1,
     "metadata": {},
     "output_type": "execute_result"
    }
   ],
   "source": [
    "module sandy_clay_roam\n",
    "\n",
    "include(\"../module_function/vapour.jl\")\n",
    "\n",
    "# 空隙率\n",
    "const psi = 0.440038\n",
    "\n",
    "# 材料密度\n",
    "const row = 269.0 #kg/m3\n",
    "\n",
    "# 比熱 ⇒　簡易的に平均値を用いる\n",
    "const C = 4.18605e+3 #暫定的に水の比熱を用いている\n",
    "\n",
    "# 水の密度\n",
    "const roww = 1000.0 #kg/m3\n",
    "#理想気体定数\n",
    "const R = 8.314 # J/(mol K)\n",
    "# 水のモル質量\n",
    "const Mw = 0.018 # kg/mol\n",
    "# 水蒸気のガス定数\n",
    "#Rv = R / Mw # J/(kg K)\n",
    "# 水の熱容量\n",
    "const croww = 1000.0 * 4.18605e+3\n",
    "\n",
    "# miu ⇒　rh の変換係数\n",
    "function convertMiu2RH( ;temp::Float64, miu::Float64 );\n",
    "    return exp( miu / Rv / temp )\n",
    "end\n",
    "\n",
    "# 熱容量\n",
    "get_crow( ;phi::Float64 ) = C * row + croww * phi\n",
    "get_crow( cell ) = get_crow( phi = get_phi( cell ) )\n",
    "\n",
    "### 水分特性 ###\n",
    "\n",
    "# 含水率\n",
    "function get_phi( ;miu::Float64 )\n",
    "    if miu < 0.0; LM = log10( -miu ); miu_cal = miu\n",
    "        else;     LM = - 2.0;        miu_cal = 0.0\n",
    "    end\n",
    "    if LM > 1.0;            phi = 16.64990 + 3662.970  / ( LM - 225.9990 )\n",
    "        elseif LM > -1.110; phi = 0.48150  + 0.1718110 / ( LM - 2.54090 )\n",
    "        else;               phi = 0.4400380 + 0.07211630 * miu_cal\n",
    "    end\n",
    "    if phi <= 0.0; phi = 0.0 end\n",
    "    return phi\n",
    "end\n",
    "get_phi( cell ) = get_phi( miu = cell.miu )\n",
    "\n",
    "# 含水率の水分化学ポテンシャル微分\n",
    "function get_dphi( ;miu::Float64, phi::Float64 );\n",
    "    if miu < 0.0; LM = log10( -miu ); miu_cal = miu\n",
    "        else;     LM  = - 2.0;        miu_cal = 0.0\n",
    "    end   \n",
    "    if LM > 1.0;             dphi = - 3662.970 / ( LM - 225.9990 ) / ( LM - 225.9990 ) / miu_cal / log( 10.0 )\n",
    "        elseif LM > -1.110;  dphi = - 0.1718110 / ( LM - 2.54090 ) / ( LM - 2.54090 ) / miu_cal / log( 10.0 )\n",
    "        else;                dphi = 0.07211630\n",
    "    end\n",
    "    return dphi\n",
    "end\n",
    "get_dphi( cell ) = get_dphi( miu = cell.miu, phi = get_phi( cell ) )\n",
    "\n",
    "# 含水率から水分化学ポテンシャルの算出\n",
    "function get_miu_by_phi(; phi::Float64);\n",
    "    if phi > 0.0 && phi < 0.369960; LM = 3662.970 / ( phi - 16.64990 ) + 225.9990; miu = -10.0 ^ LM\n",
    "        elseif phi <= 0.43440;     LM = 0.1718110/ ( phi - 0.48150  ) + 2.54090;  miu = -10.0 ^ LM\n",
    "        else;  miu = ( phi - 0.4400380 ) / 0.07211630\n",
    "    end\n",
    "    return phi\n",
    "end\n",
    "get_miu_by_phi( cell ) = get_miu_by_phi( phi = get_phi( cell ) )\n",
    "\n",
    "### 移動特性 ###\n",
    "# 熱伝導率\n",
    "const lam = 0.5884120\n",
    "# 湿気依存\n",
    "get_lam( ;phi::Float64 ) = - 46.1440 * phi^ 4.0 + 57.86150 * phi ^3.0 - 28.80760 * phi ^2.0 + 7.75485 * phi + 0.5884120\n",
    "get_lam( cell ) = get_lam( phi = get_phi( cell ) )\n",
    "\n",
    "# 水分化学ポテンシャル勾配に対する液相水分伝導率\n",
    "function get_ldml( ;temp::Float64, phi::Float64 );\n",
    "    if phi < 0.30;         LDML = 10.0 ^ ( - 2.618670   / ( phi + 0.078660  ) - 0.4281460 )\n",
    "        elseif phi < 0.34; LDML = 10.0 ^ ( - 0.04473370 / ( phi - 0.3615380 ) - 8.066920  )\n",
    "        elseif phi > 0.34; LDML = 10.0 ^ ( - 0.06593130 / ( phi - 0.3080650 ) - 3.925480  )\n",
    "    end\n",
    "    return LDML * ( 0.02340 * ( temp - 273.160 ) + 0.5320 ) \n",
    "end\n",
    "get_ldml( cell ) = get_ldml( temp = cell.temp, phi = get_phi(cell) )\n",
    "\n",
    "# 気相水分伝導率\n",
    "const STA   = 293.160\n",
    "const PSS   = cal_Pvs( STA )\n",
    "const DPVSS = cal_DPvs( STA )\n",
    "const FP    = 0.180\n",
    "const miup  = get_miu_by_phi( phi = FP )\n",
    "const EV    = ( -2.618670 / ( FP + 0.078660 ) - 0.4281460 )\n",
    "const DMVO  = 10.0 ^ EV\n",
    "# 水分化学ポテンシャル勾配に対する値\n",
    "function get_ldtg( ;temp::Float64, miu::Float64, phi::Float64 );\n",
    "    if miu > 0; miuh = 0.0\n",
    "        else; miuh = miu\n",
    "    end\n",
    "    LDMG = ( 0.44010 - phi ) / ( 0.440 - FP ) * DMVO * exp( ( miuh - miup ) / Rv / STA )\n",
    "    LDTG2 = LDMG  * ( DPVSS / PSS * Rv * STA - miu / STA )\n",
    "    LDTG  = LDTG2 * cal_DPvs(temp) / DPVSS\n",
    "    return LDTG\n",
    "end\n",
    "get_ldtg( cell ) = get_ldtg( temp = cell.temp, miu = cell.miu, phi = get_phi( cell ) )\n",
    "\n",
    "function get_ldmg( ;temp::Float64, miu::Float64, phi::Float64 );\n",
    "    if miu > 0; miuh = 0.0\n",
    "        else; miuh = miu\n",
    "    end\n",
    "    LDMG = ( 0.44010 - phi ) / ( 0.440 - FP ) * DMVO * exp( ( miuh - miup ) / Rv / STA )\n",
    "    LDMG  = LDMG  * cal_Pvs(temp) / PSS\n",
    "    return LDMG\n",
    "end\n",
    "get_ldmg( cell ) = get_ldmg( temp = cell.temp, miu = cell.miu, phi = get_phi( cell ) )\n",
    "\n",
    "end"
   ]
  },
  {
   "cell_type": "markdown",
   "metadata": {},
   "source": [
    "### Example"
   ]
  },
  {
   "cell_type": "code",
   "execution_count": 2,
   "metadata": {},
   "outputs": [],
   "source": [
    "mutable struct test_sandy_clay_roam\n",
    "    temp::Float64\n",
    "    miu::Float64\n",
    "end"
   ]
  },
  {
   "cell_type": "code",
   "execution_count": 3,
   "metadata": {},
   "outputs": [
    {
     "data": {
      "text/plain": [
       "test_sandy_clay_roam(293.15, -48294.76033929033)"
      ]
     },
     "execution_count": 3,
     "metadata": {},
     "output_type": "execute_result"
    }
   ],
   "source": [
    "test_SCR_hygro = test_sandy_clay_roam( 293.15, 8.314 / 0.018 * 293.15 * log( 0.7 ) )"
   ]
  },
  {
   "cell_type": "code",
   "execution_count": 4,
   "metadata": {},
   "outputs": [
    {
     "data": {
      "text/plain": [
       "4.683900015240743"
      ]
     },
     "execution_count": 4,
     "metadata": {},
     "output_type": "execute_result"
    }
   ],
   "source": [
    "log10(-test_SCR_hygro.miu)"
   ]
  },
  {
   "cell_type": "code",
   "execution_count": 5,
   "metadata": {},
   "outputs": [
    {
     "data": {
      "text/plain": [
       "1.5403545842506266e6"
      ]
     },
     "execution_count": 5,
     "metadata": {},
     "output_type": "execute_result"
    }
   ],
   "source": [
    "sandy_clay_roam.get_crow( test_SCR_hygro )"
   ]
  },
  {
   "cell_type": "code",
   "execution_count": 6,
   "metadata": {},
   "outputs": [
    {
     "data": {
      "text/plain": [
       "1.1254137891906195"
      ]
     },
     "execution_count": 6,
     "metadata": {},
     "output_type": "execute_result"
    }
   ],
   "source": [
    "sandy_clay_roam.get_lam( test_SCR_hygro ) "
   ]
  },
  {
   "cell_type": "code",
   "execution_count": 17,
   "metadata": {},
   "outputs": [
    {
     "data": {
      "text/plain": [
       "0.44003799927883697"
      ]
     },
     "execution_count": 17,
     "metadata": {},
     "output_type": "execute_result"
    }
   ],
   "source": [
    "sandy_clay_roam.get_phi( miu = -0.00000001 )"
   ]
  },
  {
   "cell_type": "code",
   "execution_count": 8,
   "metadata": {},
   "outputs": [
    {
     "data": {
      "text/plain": [
       "0.0989732884821315"
      ]
     },
     "execution_count": 8,
     "metadata": {},
     "output_type": "execute_result"
    }
   ],
   "source": [
    "sandy_clay_roam.get_phi( test_SCR_hygro )"
   ]
  },
  {
   "cell_type": "code",
   "execution_count": 9,
   "metadata": {},
   "outputs": [
    {
     "data": {
      "text/plain": [
       "0.01"
      ]
     },
     "execution_count": 9,
     "metadata": {},
     "output_type": "execute_result"
    }
   ],
   "source": [
    "sandy_clay_roam.get_miu_by_phi( phi = 0.01 )"
   ]
  },
  {
   "cell_type": "code",
   "execution_count": 16,
   "metadata": {},
   "outputs": [
    {
     "data": {
      "text/plain": [
       "0.0989732884821315"
      ]
     },
     "execution_count": 16,
     "metadata": {},
     "output_type": "execute_result"
    }
   ],
   "source": [
    "sandy_clay_roam.get_miu_by_phi( phi = sandy_clay_roam.get_phi( test_SCR_hygro ) )"
   ]
  },
  {
   "cell_type": "code",
   "execution_count": 11,
   "metadata": {},
   "outputs": [
    {
     "data": {
      "text/plain": [
       "6.725050741228407e-7"
      ]
     },
     "execution_count": 11,
     "metadata": {},
     "output_type": "execute_result"
    }
   ],
   "source": [
    "sandy_clay_roam.get_dphi( test_SCR_hygro )"
   ]
  },
  {
   "cell_type": "code",
   "execution_count": 12,
   "metadata": {},
   "outputs": [
    {
     "data": {
      "text/plain": [
       "0.0989732884821315"
      ]
     },
     "execution_count": 12,
     "metadata": {},
     "output_type": "execute_result"
    }
   ],
   "source": [
    "sandy_clay_roam.get_miu_by_phi( test_SCR_hygro )"
   ]
  },
  {
   "cell_type": "code",
   "execution_count": 13,
   "metadata": {},
   "outputs": [
    {
     "data": {
      "text/plain": [
       "6.756970435121542e-16"
      ]
     },
     "execution_count": 13,
     "metadata": {},
     "output_type": "execute_result"
    }
   ],
   "source": [
    "sandy_clay_roam.get_ldml( test_SCR_hygro )"
   ]
  },
  {
   "cell_type": "code",
   "execution_count": 14,
   "metadata": {},
   "outputs": [
    {
     "data": {
      "text/plain": [
       "2.1995835836322413e-7"
      ]
     },
     "execution_count": 14,
     "metadata": {},
     "output_type": "execute_result"
    }
   ],
   "source": [
    "sandy_clay_roam.get_ldtg( test_SCR_hygro )"
   ]
  },
  {
   "cell_type": "code",
   "execution_count": 15,
   "metadata": {},
   "outputs": [
    {
     "data": {
      "text/plain": [
       "2.5736208216605022e-11"
      ]
     },
     "execution_count": 15,
     "metadata": {},
     "output_type": "execute_result"
    }
   ],
   "source": [
    "sandy_clay_roam.get_ldmg( test_SCR_hygro )"
   ]
  },
  {
   "cell_type": "code",
   "execution_count": null,
   "metadata": {},
   "outputs": [],
   "source": []
  },
  {
   "cell_type": "markdown",
   "metadata": {},
   "source": [
    "#### Fortran時のデータは以下に示す通りである。"
   ]
  },
  {
   "cell_type": "markdown",
   "metadata": {},
   "source": [
    "\n",
    "!     %%%%%%%%%%%%%%%%%%%%%%%%%%%%%%%%%%%%%%%%%%%%%%%%%%%%%%%%%%%%%%\n",
    "!     %%%%%%%%%%%%  Sandy Clay Loam Subroutine  %%%%%%%%%%%%%%%%%%%%\n",
    "!     %%%%%%%%%%%%%%%%%%%%%%%%%%%%%%%%%%%%%%%%%%%%%%%%%%%%%%%%%%%%%%\n",
    "!         温度、ポテンシャルからSANDY CLAY LOAM の湿気伝導率を導く\n",
    "!     ####################################################\n",
    "      SUBROUTINE SCLLAM(TEM,MIU,LAMDMG,LAMDTG,LAMDM &\n",
    "                      ,LAMDT,LAM)\n",
    "!     ####################################################\n",
    "!\n",
    "      IMPLICIT NONE\n",
    "      REAL*8 ,INTENT(IN)::TEM,MIU\n",
    "      REAL*8 ,INTENT(OUT)::LAMDMG,LAMDTG,LAMDM,LAMDT,LAM\n",
    "      REAL*8 MIUP,MIUH,STA,RV,R,F,FP,EV,DMVO, &\n",
    "            LAMDML,LAMDTG20\n",
    "      REAL*8 PS,DPVS ,PSS,DPVSS\n",
    "      REAL*8 PHI,DPHI\n",
    "      REAL*8 F1\n",
    "!\n",
    "      CALL A (TEM,PS,DPVS)\n",
    "      CALL SCLPM(MIU,PHI,DPHI)\n",
    "!\n",
    "!     -------------( Lambda'miug )------------\n",
    "!\n",
    "      STA=293.16D0\n",
    "      CALL A(STA,PSS,DPVSS)\n",
    "      RV=8316.96D0/18.016D0\n",
    "      R=(597.5D0-0.559D0*293.15D0)*4186.05D0\n",
    "!\n",
    "      F=PHI\n",
    "\n",
    "!\t*** RH=0.95 -> FP=PHI ***\n",
    "      FP=0.18D0\n",
    "!\n",
    "      CALL SCLMP(FP,MIUP)\n",
    "!\n",
    "       EV=(-2.61867D0/(FP+0.07866D0)-0.428146D0)\n",
    "       DMVO=10.D0**EV\n",
    "!\n",
    "      IF (MIU.GT.0) THEN\n",
    "        MIUH=0.D0\n",
    "      ELSE\n",
    "        MIUH=MIU\n",
    "      ENDIF\n",
    "      LAMDMG=(0.4401D0-F)/(0.44D0-FP)*DMVO &\n",
    "      *EXP((MIUH-MIUP)/RV/STA)\n",
    "!\n",
    "!     -------------( Lambda'Tg )--------------\n",
    "!\n",
    "      LAMDTG20=LAMDMG*(DPVSS/PSS*RV*STA-MIU/STA)\n",
    "      LAMDTG=LAMDTG20*DPVS/DPVSS\n",
    "      LAMDMG=LAMDMG*PS/PSS\n",
    "!\n",
    "!     -------------( Lambda'T )--------------\n",
    "!\n",
    "      LAMDT=LAMDTG\n",
    "!\n",
    "!     -------------( Lambda'miu )--------------\n",
    "!\n",
    "      IF (F.LE.0.3D0) THEN\n",
    "       EV=(-2.61867D0/(F+0.07866D0)-0.428146D0)\n",
    "      LAMDML=10.D0**EV\n",
    "      ELSE IF (F.LT.0.34D0) THEN\n",
    "       EV=(-0.0447337D0/(F-0.361538D0)-8.06692D0)\n",
    "      LAMDML=10.D0**EV\n",
    "      ELSE IF (F.GT.0.34D0) THEN\n",
    "       EV=(-0.0659313D0/(F-0.308065D0)-3.92548D0)\n",
    "      LAMDML=10.D0**EV\n",
    "      END IF\n",
    "!\n",
    "      F1=0.0234D0*(TEM-273.16D0)+0.532D0\n",
    "      LAMDM=LAMDML*F1+LAMDMG\n",
    "!\n",
    "!     -------------( Lambda )--------------\n",
    "!\n",
    "       LAM=-46.144D0*F*F*F*F+57.8615D0*F*F*F-28.8076D0*F*F &\n",
    "         +7.75485*F+0.588412D0\n",
    "\n",
    "      RETURN \n",
    "      END\n",
    "\n",
    "\n",
    "!     ####################################################\n",
    "       SUBROUTINE SCLROW(MIU,CROW,CMIU)\n",
    "!     ####################################################\n",
    "!       ポテンシャルから比熱を求める\n",
    "      IMPLICIT NONE\n",
    "      REAL*8 MIU\n",
    "      REAL*8 ,INTENT(OUT)::CROW,CMIU\n",
    "      REAL*8 PHI,DPHI,ROW\n",
    "!\n",
    "      CALL SCLPM(MIU,PHI,DPHI)\n",
    "!\n",
    "!     ----------( Crow )----------@\n",
    "!\n",
    "      CROW=(269.D0+1000.D0*PHI)*4.18605D3\n",
    "!\n",
    "!     ----------( Cmiu : row*dphi/dmiu )----------\n",
    "!\n",
    "      ROW=1000.D0\n",
    "      CMIU=ROW*DPHI\n",
    "!\n",
    "      RETURN\n",
    "      END\n",
    "\n",
    "!\n",
    "!     ####################################################\n",
    "      SUBROUTINE SCLPM(MIU,PHI,DPHI)\n",
    "!     ####################################################\n",
    "!       ポテンシャルから含水率を求める\n",
    "      IMPLICIT NONE\n",
    "      REAL*8  MIU\n",
    "      REAL*8 ,INTENT(OUT):: PHI,DPHI\n",
    "      REAL*8 LM,M2\n",
    "!\n",
    "      M2=MIU\n",
    "!\n",
    "      IF (MIU.LT.0.D0) THEN\n",
    "       LM=LOG10(-MIU)\n",
    "      ELSE\n",
    "       LM=-2.D0\n",
    "       MIU=0.D0\n",
    "      ENDIF\n",
    "!\n",
    "!     ----------( phi )------------ \n",
    "!\n",
    "      IF (LM.GT.1.D0) THEN\n",
    "       PHI=16.6499D0+3662.97D0/(LM-225.999D0)\n",
    "      ELSE IF (LM.GT.-1.11D0) THEN\n",
    "       PHI=0.4815D0+0.171811D0/(LM-2.5409D0)\n",
    "      ELSE\n",
    "       PHI=0.440038D0+0.0721163D0*MIU\n",
    "      END IF\n",
    "!\n",
    "!     --------( dphi/dmiu )----------\n",
    "!\n",
    "      IF (LM.GT.1.D0) THEN\n",
    "       DPHI=-3662.97D0/(LM-225.999D0)/(LM-225.999D0)/MIU/LOG(10.D0)\n",
    "      ELSE IF (LM.GT.-1.11D0) THEN\n",
    "       DPHI=-0.171811D0/(LM-2.5409D0)/(LM-2.5409D0)/MIU/LOG(10.D0)\n",
    "      ELSE\n",
    "       DPHI=0.0721163D0\n",
    "      END IF\n",
    "!\n",
    "      MIU=M2\n",
    "!\n",
    "      RETURN\n",
    "      END\n",
    "!\n",
    "!     ####################################################\n",
    "      SUBROUTINE SCLMP(PHI,MIU)\n",
    "!     ####################################################\n",
    "!     含水率から水分化学ポテンシャルを算出する\n",
    "\n",
    "      IMPLICIT NONE\n",
    "      REAL*8 ,INTENT(IN)::PHI\n",
    "      REAL*8 ,INTENT(OUT):: MIU\n",
    "      REAL*8 LM,F\n",
    "!\n",
    "!     ----------( MIU )------------ \n",
    "!\n",
    "       F=PHI\n",
    "      IF ((F.GT.0.D0).AND.(F.LE.0.36996D0)) THEN\n",
    "       LM=3662.97D0/(F-16.6499D0)+225.999D0\n",
    "       MIU=-10.D0**LM\n",
    "      ELSE IF (F.LE.0.4344D0) THEN\n",
    "       LM=0.171811D0/(F-0.4815D0)+2.5409D0\n",
    "       MIU=-10.D0**LM\n",
    "      ELSE\n",
    "       MIU=(PHI-0.440038D0)/0.0721163D0\n",
    "       \n",
    "      END IF\n",
    "!\n",
    "      RETURN\n",
    "      END\n",
    "\n",
    "!"
   ]
  },
  {
   "cell_type": "code",
   "execution_count": null,
   "metadata": {},
   "outputs": [],
   "source": []
  }
 ],
 "metadata": {
  "kernelspec": {
   "display_name": "Julia 1.4.2",
   "language": "julia",
   "name": "julia-1.4"
  },
  "language_info": {
   "file_extension": ".jl",
   "mimetype": "application/julia",
   "name": "julia",
   "version": "1.4.2"
  }
 },
 "nbformat": 4,
 "nbformat_minor": 4
}
