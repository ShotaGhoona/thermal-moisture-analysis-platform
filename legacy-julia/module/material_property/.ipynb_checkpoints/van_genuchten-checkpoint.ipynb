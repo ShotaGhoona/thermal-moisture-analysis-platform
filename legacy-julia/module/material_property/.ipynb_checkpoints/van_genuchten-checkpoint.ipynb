{
 "cells": [
  {
   "cell_type": "markdown",
   "metadata": {},
   "source": [
    "### van Genuchten-Mualemの不飽和透水係数予測モデル  \n",
    "M. TH. Van Genuchten: A closed-form equation for predicting the hydraulic conductivity of unsaturated soils, Soil science society of America journal, vol.44, pp892-898, 1980\n"
   ]
  },
  {
   "cell_type": "markdown",
   "metadata": {},
   "source": [
    "#### 平衡含水率・不飽和透水係数を求めるモデル  \n",
    "$\\theta$：飽和度[-]  \n",
    "$K_l$：比透水係数  \n",
    "$h$：水頭高さ　or　水分化学ポテンシャル  \n",
    "$\\alpha, l, m, n$：任意の定数  \n",
    "\n",
    "※論文より、$l=2, m = 1-1/n$である"
   ]
  },
  {
   "cell_type": "markdown",
   "metadata": {},
   "source": [
    "文中式(3)　$\\theta = [\\frac{1}{1+(\\alpha h)^n}]^{-m}　$  "
   ]
  },
  {
   "cell_type": "markdown",
   "metadata": {},
   "source": [
    "文中式(8)　$K_l = \\theta ^{l}[1-(1-\\theta^{1/m})^m]^2$   \n",
    "※ただし、原著ではl=1/2とした。"
   ]
  },
  {
   "cell_type": "markdown",
   "metadata": {},
   "source": [
    "#### 含水率のポテンシャル微分　・　不飽和度からポテンシャルへの変換　\n",
    "$\\theta_s$：空隙率  \n",
    "$\\theta_r$：残留含水率(residual water content)　※計算では0とした\n",
    "\n",
    "文中式(23)　$\\frac{d\\theta}{dh} = \\frac{-\\alpha m(\\theta_s-\\theta_r)}{1-m}\\theta^{1/m}(1-\\theta^{1/m})^m$  "
   ]
  },
  {
   "cell_type": "markdown",
   "metadata": {},
   "source": [
    "文中式(24)　$h = \\frac{1}{\\alpha}(\\theta^{-1/m}-1)^{1/n}$  "
   ]
  },
  {
   "cell_type": "markdown",
   "metadata": {},
   "source": [
    "#### 透水係数、含水率への変換  \n",
    "$\\rho$：溶液の密度[kg/m3]  \n",
    "$g$：重量加速度[m/s]  \n",
    "$K_{sat}$：飽和透水係数  \n",
    "$\\lambda^{'}_{\\mu l}$：水分化学ポテンシャル勾配に対する液相水分伝導率  \n",
    "$\\phi_{max}$：空隙率[-]  \n",
    "$\\phi$：含水率[-]  \n",
    "\n",
    "$\\lambda^{'}_{\\mu l} = K_{sat}\\bullet K_l\\bullet \\frac{\\rho}{g}$  "
   ]
  },
  {
   "cell_type": "markdown",
   "metadata": {},
   "source": [
    "$\\phi = \\theta\\bullet\\phi_{max}$"
   ]
  },
  {
   "cell_type": "code",
   "execution_count": 1,
   "metadata": {},
   "outputs": [
    {
     "data": {
      "text/plain": [
       "Main.van_Genuchten"
      ]
     },
     "execution_count": 1,
     "metadata": {},
     "output_type": "execute_result"
    }
   ],
   "source": [
    "module van_Genuchten\n",
    "\n",
    "# van_Genuchtenモジュールに用いる構造体\n",
    "struct vG_parameter\n",
    "    Alfa::Float64\n",
    "    n::Float64\n",
    "    m::Float64\n",
    "    l::Float64\n",
    "end    \n",
    "\n",
    "# 水分化学ポテンシャルから飽和度を求める関数\n",
    "function get_sl( ; vG::vG_parameter, miu::Float64  );\n",
    "    return ( 1.0 + ( - vG.Alfa * miu ) ^ vG.n ) ^ ( - vG.m )\n",
    "end\n",
    "\n",
    "# 水分化学ポテンシャルから比透水係数を求める関数\n",
    "function get_kl(; vG::vG_parameter, miu::Float64 );\n",
    "    sl = get_sl( vG = vG, miu = miu )\n",
    "    return ( sl ^ vG.l ) * ( ( 1.0 - ( 1.0 - sl ^ ( 1.0/ vG.m ) ) ^ vG.m ) ^ 2.0 )\n",
    "end\n",
    "\n",
    "# 含水率の水分化学ポテンシャル微分を求める関数\n",
    "function get_dphi(; vG::vG_parameter, miu::Float64, phimax::Float64 );\n",
    "    sl = get_sl( vG = vG, miu = miu )\n",
    "    dphi = -( vG.Alfa * vG.m * phimax ) / ( 1.0 - vG.m ) * ( sl ^ ( 1.0 / vG.m ) ) * ( ( 1.0 - sl ^ ( 1.0 / vG.m ) ) ^ vG.m )\n",
    "    return abs( dphi )\n",
    "end\n",
    "\n",
    "# 含水率から水分化学ポテンシャルを求める関数\n",
    "function get_miu(; vG::vG_parameter, phimax::Float64, phi::Float64 );\n",
    "    sl = phi / phimax\n",
    "    return - ( ( ( sl ^ ( -1.0 / vG.m ) ) - 1.0 ) ^ ( 1.0 / vG.n ) ) / vG.Alfa\n",
    "end\n",
    "\n",
    "# 水分化学ポテンシャル勾配に対する液相水分伝導率を求める関数\n",
    "function get_Lamdml(; vG::vG_parameter, Ksat::Float64, miu::Float64 );\n",
    "    row = 1000.0        #塩溶液では密度変わるのでは\n",
    "    g = 9.8\n",
    "    kl = get_kl( vG = vG, miu = miu )\n",
    "    return Ksat * kl * row / g\n",
    "end\n",
    "\n",
    "# 水分化学ポテンシャルから含水率を求める関数\n",
    "function get_phi(; vG::vG_parameter, miu::Float64, phimax::Float64 );\n",
    "    sl = get_sl( vG = vG, miu = miu )\n",
    "    return phimax * sl\n",
    "end\n",
    "\n",
    "end"
   ]
  },
  {
   "cell_type": "markdown",
   "metadata": {},
   "source": [
    "### test"
   ]
  },
  {
   "cell_type": "code",
   "execution_count": 2,
   "metadata": {},
   "outputs": [
    {
     "data": {
      "text/plain": [
       "Main.van_Genuchten.vG_parameter(0.10204081632653061, 2.0, 0.5, 0.5)"
      ]
     },
     "execution_count": 2,
     "metadata": {},
     "output_type": "execute_result"
    }
   ],
   "source": [
    "test_vG = van_Genuchten.vG_parameter( 10.0/98.0, 2.0, 1.0 - ( 1.0 / 2.0 ), 0.5 )"
   ]
  },
  {
   "cell_type": "code",
   "execution_count": 3,
   "metadata": {},
   "outputs": [
    {
     "data": {
      "text/plain": [
       "0.009799529437894316"
      ]
     },
     "execution_count": 3,
     "metadata": {},
     "output_type": "execute_result"
    }
   ],
   "source": [
    "van_Genuchten.get_sl( vG = test_vG, miu = -1000.0 )"
   ]
  },
  {
   "cell_type": "code",
   "execution_count": 4,
   "metadata": {},
   "outputs": [
    {
     "data": {
      "text/plain": [
       "2.2823611208372157e-10"
      ]
     },
     "execution_count": 4,
     "metadata": {},
     "output_type": "execute_result"
    }
   ],
   "source": [
    "van_Genuchten.get_kl( vG = test_vG, miu = -1000.0 )"
   ]
  },
  {
   "cell_type": "code",
   "execution_count": 5,
   "metadata": {},
   "outputs": [
    {
     "data": {
      "text/plain": [
       "2.2536753277372165e-6"
      ]
     },
     "execution_count": 5,
     "metadata": {},
     "output_type": "execute_result"
    }
   ],
   "source": [
    "van_Genuchten.get_dphi( vG = test_vG, miu = -1000.0, phimax = 0.23 )"
   ]
  },
  {
   "cell_type": "code",
   "execution_count": 6,
   "metadata": {},
   "outputs": [
    {
     "data": {
      "text/plain": [
       "-5.565330178884268"
      ]
     },
     "execution_count": 6,
     "metadata": {},
     "output_type": "execute_result"
    }
   ],
   "source": [
    "van_Genuchten.get_miu(vG = test_vG, phi = 0.20, phimax = 0.23 )"
   ]
  },
  {
   "cell_type": "code",
   "execution_count": 7,
   "metadata": {},
   "outputs": [
    {
     "data": {
      "text/plain": [
       "2.3289399192216486e-12"
      ]
     },
     "execution_count": 7,
     "metadata": {},
     "output_type": "execute_result"
    }
   ],
   "source": [
    "van_Genuchten.get_Lamdml( vG = test_vG, miu = -1000.0, Ksat = 0.0001 )"
   ]
  },
  {
   "cell_type": "code",
   "execution_count": 8,
   "metadata": {},
   "outputs": [
    {
     "data": {
      "text/plain": [
       "0.0022538917707156927"
      ]
     },
     "execution_count": 8,
     "metadata": {},
     "output_type": "execute_result"
    }
   ],
   "source": [
    "van_Genuchten.get_phi( vG = test_vG, miu = -1000.0, phimax = 0.23 )"
   ]
  },
  {
   "cell_type": "markdown",
   "metadata": {},
   "source": [
    "# チェック\n",
    "###     van-Genuchten用情報    ##########\n",
    "alfa = 10.0/98.0\n",
    "n    = 2.0\n",
    "m    = 1.0 -(1.0/n)\n",
    "l    = 0.5\n",
    "\n",
    "### 各ポテンシャルごとの飽和度・比透水係数計算\n",
    "miu = np.arange(-10000,-1.0,1.0)\n",
    "sl  = get_sl(alfa, miu, m, n)\n",
    "kl  = get_kl(alfa,miu,m,n,l)\n",
    "\n",
    "# 表示\n",
    "plt.grid(which=\"both\")\n",
    "plt.xscale(\"log\")\n",
    "plt.plot(-miu,kl, label=\"kl\")\n",
    "plt.plot(-miu,sl, label=\"sl\")\n",
    "plt.xlabel(\"chemical potential of water[J/kg]\")\n",
    "plt.ylabel(\"Saturaton of water[-], relative permeability of water[-]\")\n",
    "plt.legend(loc=\"upper right\")\n",
    "plt.show()"
   ]
  },
  {
   "cell_type": "code",
   "execution_count": null,
   "metadata": {},
   "outputs": [],
   "source": []
  }
 ],
 "metadata": {
  "kernelspec": {
   "display_name": "Julia 1.6.2",
   "language": "julia",
   "name": "julia-1.6"
  },
  "language_info": {
   "file_extension": ".jl",
   "mimetype": "application/julia",
   "name": "julia",
   "version": "1.6.2"
  }
 },
 "nbformat": 4,
 "nbformat_minor": 4
}
