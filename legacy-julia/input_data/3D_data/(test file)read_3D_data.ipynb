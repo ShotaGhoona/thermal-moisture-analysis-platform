{
 "cells": [
  {
   "cell_type": "code",
   "execution_count": 65,
   "metadata": {},
   "outputs": [],
   "source": [
    "using CSV\n",
    "using DataFrames"
   ]
  },
  {
   "cell_type": "markdown",
   "metadata": {},
   "source": [
    "## 2次元情報の読み込み  \n",
    "geometry_data内にはそれぞれ下記の情報が記されている。\n",
    "- 各位置の1次元の壁情報\n",
    "- CVの大きさ（縦・横）\n",
    "- 境界条件の情報\n",
    "\n",
    "A行および1列目は各CVの幅  \n",
    "B行および2列目と各最終行・列は各CVの境界条件  \n",
    "C行および3列目からは各CVがどの壁情報を対応するのか  \n",
    "である。"
   ]
  },
  {
   "cell_type": "code",
   "execution_count": 2,
   "metadata": {},
   "outputs": [
    {
     "data": {
      "text/plain": [
       "read_geometry_data (generic function with 1 method)"
      ]
     },
     "metadata": {},
     "output_type": "display_data"
    }
   ],
   "source": [
    "function read_geometry_data(file_name::String)\n",
    "\n",
    "    # 2次元情報の読み込み\n",
    "    geometry_data = CSV.File(file_name, header = false)\n",
    "\n",
    "    # y軸およびz軸のCVの数の読み取り\n",
    "    num_y = length(geometry_data[1]) - 3\n",
    "    num_z = length(geometry_data) - 3\n",
    "\n",
    "    # y軸およびz軸のCVの幅の読み取り\n",
    "    dy = [ geometry_data[1][y] for y = 3 : num_y + 2 ]\n",
    "    dz = [ geometry_data[z][1] for z = 3 : num_z + 2 ]\n",
    "\n",
    "    # 各軸における境界情報の読み取り\n",
    "    bound_info_y_axis_tip = [ Int(geometry_data[2][y]) for y = 3 : num_y + 2 ]\n",
    "    bound_info_z_axis_tip = [ Int(geometry_data[z][2]) for z = 3 : num_z + 2 ]\n",
    "    bound_info_y_axis_end = [ Int(geometry_data[end][y]) for y = 3 : num_y + 2 ]\n",
    "    bound_info_z_axis_end = [ Int(geometry_data[z][end]) for z = 3 : num_z + 2 ]\n",
    "\n",
    "    # 各点における壁番号の読み取り\n",
    "    wall_number = [ Int(geometry_data[z][y]) for y = 3 : num_y + 2, z = 3 : num_z + 2 ]\n",
    "\n",
    "    return dy, dz, bound_info_y_axis_tip, bound_info_z_axis_tip, bound_info_y_axis_end, bound_info_z_axis_end, wall_number\n",
    "end "
   ]
  },
  {
   "cell_type": "code",
   "execution_count": 3,
   "metadata": {},
   "outputs": [
    {
     "data": {
      "text/plain": [
       "Cell"
      ]
     },
     "metadata": {},
     "output_type": "display_data"
    }
   ],
   "source": [
    "# Cell構造体の設定\n",
    "Base.@kwdef mutable struct Cell\n",
    "    i::Array{Int, 1} = [ 1, 1, 1 ]     #= 位置  =#\n",
    "    dx::Float64      = 1.0   #= 幅x   =#\n",
    "    dy::Float64      = 1.0   #= 高さy =#\n",
    "    dz::Float64      = 1.0   #= 奥行z =#\n",
    "    dx2::Float64     = 1.0   # 質点からセル端までの距離（一般的にはdxの半分）\n",
    "    dy2::Float64     = 1.0   \n",
    "    dz2::Float64     = 1.0   \n",
    "    temp::Float64    = 0.0   #= 温度 =#\n",
    "    miu::Float64     = 0.0   #= 水分化学ポテンシャルの毛管圧成分（いわゆる水分化学ポテンシャル）=#\n",
    "    rh::Float64      = 0.0   #= 相対湿度 =#\n",
    "    pv::Float64      = 0.0   #= 水蒸気圧 =#\n",
    "    phi::Float64     = 0.0   #= 含水率 =#\n",
    "    material_name::String   = \"NoName\"  #= 材料名 =#\n",
    "end "
   ]
  },
  {
   "cell_type": "code",
   "execution_count": 10,
   "metadata": {},
   "outputs": [
    {
     "data": {
      "text/plain": [
       "read_multi2D_geometry_data (generic function with 1 method)"
      ]
     },
     "metadata": {},
     "output_type": "display_data"
    }
   ],
   "source": [
    "function read_multi2D_geometry_data(file_number::Int, temp_init::Float64, RH_init::Float64)\n",
    "\n",
    "    # 3次元のプロパティ情報の読み込み\n",
    "    readed_property_data = [ CSV.File(\"./2D_property_data/\"*\"2D_property_data_\"*string(i)*\".csv\", header = false) for i = 1 : file_number ]\n",
    "    property_data = permutedims([ readed_property_data[x][y][z] for x = 1:length(readed_property_data), y = 1:length(readed_property_data[1]), z = 1:length(readed_property_data[1][1]) ], [1,3,2] )\n",
    "    property_info = DataFrame(CSV.File(\"property_information.csv\", header = 1))\n",
    "\n",
    "    # 各CVの大きさ（dx, dy, dz）情報の読み込み\n",
    "    dx_data = CSV.File(\"dx_data.csv\", header = 1)\n",
    "    dy_data = CSV.File(\"dy_data.csv\", header = 1)\n",
    "    dz_data = CSV.File(\"dz_data.csv\", header = 1)\n",
    "    \n",
    "    # Cellおよび空間を含めた構造体の作成\n",
    "    wall = [ Cell() for x = 1 : length(dx_data.i) , y = 1 : length(dy_data.i), z = 1 : length(dz_data.i) ]\n",
    "\n",
    "    # 各点における壁番号の読み取り\n",
    "    # 各CVの情報を入力する。なお、i,dx,dx2,temp,miu（水分化学ポテンシャル）,material_nameは入力必須項目である。\n",
    "    for x = 1 : length(dx_data.i) , y = 1 : length(dy_data.i), z = 1 : length(dz_data.i)\n",
    "        wall[x, y, z].i   = [ x, y, z ]\n",
    "        wall[x, y, z].dx  = dx_data.dx[x]\n",
    "        wall[x, y, z].dx2 = dx_data.dx2[x]\n",
    "        wall[x, y, z].dy  = dy_data.dy[x]\n",
    "        wall[x, y, z].dy2 = dy_data.dy2[x]\n",
    "        wall[x, y, z].dz  = dz_data.dz[x]\n",
    "        wall[x, y, z].dz2 = dz_data.dz2[x]\n",
    "        wall[x, y, z].temp= temp_init\n",
    "        wall[x, y, z].rh  = rh_init\n",
    "        #wall[x, y, z].miu = convertRH2Miu( temp = wall[x, y, z].temp, rh = wall[x, y, z].rh )\n",
    "        wall[x, y, z].material_name = filter(row -> row.number == property_data[x+1,y+1,z+1], property_info).name[1]\n",
    "    end\n",
    "    \n",
    "    return property_data, wall\n",
    "end "
   ]
  },
  {
   "cell_type": "code",
   "execution_count": 102,
   "metadata": {},
   "outputs": [],
   "source": [
    "file_number = 7\n",
    "temp_init   = 293.15\n",
    "rh_init     = 0.6\n",
    "\n",
    "    # 3次元のプロパティ情報の読み込み\n",
    "    readed_property_data = [ CSV.File(\"./2D_property_data/\"*\"2D_property_data_\"*string(i)*\".csv\", header = false) for i = 1 : file_number ]\n",
    "    property_data = permutedims([ readed_property_data[x][y][z] for x = 1:length(readed_property_data), y = 1:length(readed_property_data[1]), z = 1:length(readed_property_data[1][1]) ], [1,3,2] )\n",
    "    property_info = DataFrame(CSV.File(\"property_information.csv\", header = 1))\n",
    "\n",
    "    # 各CVの大きさ（dx, dy, dz）情報の読み込み\n",
    "    dx_data = CSV.File(\"dx_data.csv\", header = 1)\n",
    "    dy_data = CSV.File(\"dy_data.csv\", header = 1)\n",
    "    dz_data = CSV.File(\"dz_data.csv\", header = 1)\n",
    "    \n",
    "    # Cellおよび空間を含めた構造体の作成\n",
    "    wall = [ Cell() for x = 1 : length(dx_data.i) , y = 1 : length(dy_data.i), z = 1 : length(dz_data.i) ]\n",
    "\n",
    "    # 各点における壁番号の読み取り\n",
    "    # 各CVの情報を入力する。なお、i,dx,dx2,temp,miu（水分化学ポテンシャル）,material_nameは入力必須項目である。\n",
    "    for x = 1 : length(dx_data.i) , y = 1 : length(dy_data.i), z = 1 : length(dz_data.i)\n",
    "        wall[x, y, z].i   = [ x, y, z ]\n",
    "        wall[x, y, z].dx  = dx_data.dx[x]\n",
    "        wall[x, y, z].dx2 = dx_data.dx2[x]\n",
    "        wall[x, y, z].dy  = dy_data.dy[x]\n",
    "        wall[x, y, z].dy2 = dy_data.dy2[x]\n",
    "        wall[x, y, z].dz  = dz_data.dz[x]\n",
    "        wall[x, y, z].dz2 = dz_data.dz2[x]\n",
    "        wall[x, y, z].temp= temp_init\n",
    "        wall[x, y, z].rh  = rh_init\n",
    "        #wall[x, y, z].miu = convertRH2Miu( temp = wall[x, y, z].temp, rh = wall[x, y, z].rh )\n",
    "        wall[x, y, z].material_name = filter(row -> row.number == property_data[x+1,y+1,z+1], property_info).name[1]\n",
    "\n",
    "    end"
   ]
  },
  {
   "cell_type": "code",
   "execution_count": 103,
   "metadata": {},
   "outputs": [
    {
     "data": {
      "text/plain": [
       "5×8×16 Array{Cell, 3}:\n",
       "[:, :, 1] =\n",
       " Cell([1, 1, 1], 0.01, 0.05, 0.05, 0.0, 0.0, 0.0, 293.15, 0.0, 0.6, 0.0, 0.0, \"mud_wall\")            …  Cell([1, 8, 1], 0.01, 0.05, 0.05, 0.0, 0.0, 0.0, 293.15, 0.0, 0.6, 0.0, 0.0, \"mud_wall\")\n",
       " Cell([2, 1, 1], 0.01, 0.05, 0.05, 0.005, 0.025, 0.025, 293.15, 0.0, 0.6, 0.0, 0.0, \"mud_wall\")         Cell([2, 8, 1], 0.01, 0.05, 0.05, 0.005, 0.025, 0.025, 293.15, 0.0, 0.6, 0.0, 0.0, \"mud_wall\")\n",
       " Cell([3, 1, 1], 0.01, 0.05, 0.05, 0.005, 0.025, 0.025, 293.15, 0.0, 0.6, 0.0, 0.0, \"mud_wall\")         Cell([3, 8, 1], 0.01, 0.05, 0.05, 0.005, 0.025, 0.025, 293.15, 0.0, 0.6, 0.0, 0.0, \"mud_wall\")\n",
       " Cell([4, 1, 1], 0.01, 0.005, 0.005, 0.005, 0.0025, 0.0025, 293.15, 0.0, 0.6, 0.0, 0.0, \"mud_wall\")     Cell([4, 8, 1], 0.01, 0.005, 0.005, 0.005, 0.0025, 0.0025, 293.15, 0.0, 0.6, 0.0, 0.0, \"mud_wall\")\n",
       " Cell([5, 1, 1], 0.01, 0.005, 0.005, 0.01, 0.0025, 0.0025, 293.15, 0.0, 0.6, 0.0, 0.0, \"mud_wall\")      Cell([5, 8, 1], 0.01, 0.005, 0.005, 0.01, 0.0025, 0.0025, 293.15, 0.0, 0.6, 0.0, 0.0, \"mud_wall\")\n",
       "\n",
       "[:, :, 2] =\n",
       " Cell([1, 1, 2], 0.01, 0.05, 0.05, 0.0, 0.0, 0.0, 293.15, 0.0, 0.6, 0.0, 0.0, \"mud_wall\")            …  Cell([1, 8, 2], 0.01, 0.05, 0.05, 0.0, 0.0, 0.0, 293.15, 0.0, 0.6, 0.0, 0.0, \"mud_wall\")\n",
       " Cell([2, 1, 2], 0.01, 0.05, 0.05, 0.005, 0.025, 0.025, 293.15, 0.0, 0.6, 0.0, 0.0, \"mud_wall\")         Cell([2, 8, 2], 0.01, 0.05, 0.05, 0.005, 0.025, 0.025, 293.15, 0.0, 0.6, 0.0, 0.0, \"mud_wall\")\n",
       " Cell([3, 1, 2], 0.01, 0.05, 0.05, 0.005, 0.025, 0.025, 293.15, 0.0, 0.6, 0.0, 0.0, \"mud_wall\")         Cell([3, 8, 2], 0.01, 0.05, 0.05, 0.005, 0.025, 0.025, 293.15, 0.0, 0.6, 0.0, 0.0, \"mud_wall\")\n",
       " Cell([4, 1, 2], 0.01, 0.005, 0.005, 0.005, 0.0025, 0.0025, 293.15, 0.0, 0.6, 0.0, 0.0, \"mud_wall\")     Cell([4, 8, 2], 0.01, 0.005, 0.005, 0.005, 0.0025, 0.0025, 293.15, 0.0, 0.6, 0.0, 0.0, \"mud_wall\")\n",
       " Cell([5, 1, 2], 0.01, 0.005, 0.005, 0.01, 0.0025, 0.0025, 293.15, 0.0, 0.6, 0.0, 0.0, \"mud_wall\")      Cell([5, 8, 2], 0.01, 0.005, 0.005, 0.01, 0.0025, 0.0025, 293.15, 0.0, 0.6, 0.0, 0.0, \"mud_wall\")\n",
       "\n",
       "[:, :, 3] =\n",
       " Cell([1, 1, 3], 0.01, 0.05, 0.05, 0.0, 0.0, 0.0, 293.15, 0.0, 0.6, 0.0, 0.0, \"mud_wall\")            …  Cell([1, 8, 3], 0.01, 0.05, 0.05, 0.0, 0.0, 0.0, 293.15, 0.0, 0.6, 0.0, 0.0, \"mud_wall\")\n",
       " Cell([2, 1, 3], 0.01, 0.05, 0.05, 0.005, 0.025, 0.025, 293.15, 0.0, 0.6, 0.0, 0.0, \"mud_wall\")         Cell([2, 8, 3], 0.01, 0.05, 0.05, 0.005, 0.025, 0.025, 293.15, 0.0, 0.6, 0.0, 0.0, \"mud_wall\")\n",
       " Cell([3, 1, 3], 0.01, 0.05, 0.05, 0.005, 0.025, 0.025, 293.15, 0.0, 0.6, 0.0, 0.0, \"mud_wall\")         Cell([3, 8, 3], 0.01, 0.05, 0.05, 0.005, 0.025, 0.025, 293.15, 0.0, 0.6, 0.0, 0.0, \"mud_wall\")\n",
       " Cell([4, 1, 3], 0.01, 0.005, 0.005, 0.005, 0.0025, 0.0025, 293.15, 0.0, 0.6, 0.0, 0.0, \"mud_wall\")     Cell([4, 8, 3], 0.01, 0.005, 0.005, 0.005, 0.0025, 0.0025, 293.15, 0.0, 0.6, 0.0, 0.0, \"mud_wall\")\n",
       " Cell([5, 1, 3], 0.01, 0.005, 0.005, 0.01, 0.0025, 0.0025, 293.15, 0.0, 0.6, 0.0, 0.0, \"mud_wall\")      Cell([5, 8, 3], 0.01, 0.005, 0.005, 0.01, 0.0025, 0.0025, 293.15, 0.0, 0.6, 0.0, 0.0, \"mud_wall\")\n",
       "\n",
       "...\n",
       "\n",
       "[:, :, 14] =\n",
       " Cell([1, 1, 14], 0.01, 0.05, 0.05, 0.0, 0.0, 0.0, 293.15, 0.0, 0.6, 0.0, 0.0, \"mud_wall\")            …  Cell([1, 8, 14], 0.01, 0.05, 0.05, 0.0, 0.0, 0.0, 293.15, 0.0, 0.6, 0.0, 0.0, \"mud_wall\")\n",
       " Cell([2, 1, 14], 0.01, 0.05, 0.05, 0.005, 0.025, 0.025, 293.15, 0.0, 0.6, 0.0, 0.0, \"mud_wall\")         Cell([2, 8, 14], 0.01, 0.05, 0.05, 0.005, 0.025, 0.025, 293.15, 0.0, 0.6, 0.0, 0.0, \"mud_wall\")\n",
       " Cell([3, 1, 14], 0.01, 0.05, 0.05, 0.005, 0.025, 0.025, 293.15, 0.0, 0.6, 0.0, 0.0, \"mud_wall\")         Cell([3, 8, 14], 0.01, 0.05, 0.05, 0.005, 0.025, 0.025, 293.15, 0.0, 0.6, 0.0, 0.0, \"mud_wall\")\n",
       " Cell([4, 1, 14], 0.01, 0.005, 0.005, 0.005, 0.0025, 0.0025, 293.15, 0.0, 0.6, 0.0, 0.0, \"mud_wall\")     Cell([4, 8, 14], 0.01, 0.005, 0.005, 0.005, 0.0025, 0.0025, 293.15, 0.0, 0.6, 0.0, 0.0, \"mud_wall\")\n",
       " Cell([5, 1, 14], 0.01, 0.005, 0.005, 0.01, 0.0025, 0.0025, 293.15, 0.0, 0.6, 0.0, 0.0, \"mud_wall\")      Cell([5, 8, 14], 0.01, 0.005, 0.005, 0.01, 0.0025, 0.0025, 293.15, 0.0, 0.6, 0.0, 0.0, \"mud_wall\")\n",
       "\n",
       "[:, :, 15] =\n",
       " Cell([1, 1, 15], 0.01, 0.05, 0.05, 0.0, 0.0, 0.0, 293.15, 0.0, 0.6, 0.0, 0.0, \"mud_wall\")            …  Cell([1, 8, 15], 0.01, 0.05, 0.05, 0.0, 0.0, 0.0, 293.15, 0.0, 0.6, 0.0, 0.0, \"mud_wall\")\n",
       " Cell([2, 1, 15], 0.01, 0.05, 0.05, 0.005, 0.025, 0.025, 293.15, 0.0, 0.6, 0.0, 0.0, \"mud_wall\")         Cell([2, 8, 15], 0.01, 0.05, 0.05, 0.005, 0.025, 0.025, 293.15, 0.0, 0.6, 0.0, 0.0, \"mud_wall\")\n",
       " Cell([3, 1, 15], 0.01, 0.05, 0.05, 0.005, 0.025, 0.025, 293.15, 0.0, 0.6, 0.0, 0.0, \"mud_wall\")         Cell([3, 8, 15], 0.01, 0.05, 0.05, 0.005, 0.025, 0.025, 293.15, 0.0, 0.6, 0.0, 0.0, \"mud_wall\")\n",
       " Cell([4, 1, 15], 0.01, 0.005, 0.005, 0.005, 0.0025, 0.0025, 293.15, 0.0, 0.6, 0.0, 0.0, \"mud_wall\")     Cell([4, 8, 15], 0.01, 0.005, 0.005, 0.005, 0.0025, 0.0025, 293.15, 0.0, 0.6, 0.0, 0.0, \"mud_wall\")\n",
       " Cell([5, 1, 15], 0.01, 0.005, 0.005, 0.01, 0.0025, 0.0025, 293.15, 0.0, 0.6, 0.0, 0.0, \"mud_wall\")      Cell([5, 8, 15], 0.01, 0.005, 0.005, 0.01, 0.0025, 0.0025, 293.15, 0.0, 0.6, 0.0, 0.0, \"mud_wall\")\n",
       "\n",
       "[:, :, 16] =\n",
       " Cell([1, 1, 16], 0.01, 0.05, 0.05, 0.0, 0.0, 0.0, 293.15, 0.0, 0.6, 0.0, 0.0, \"mud_wall\")            …  Cell([1, 8, 16], 0.01, 0.05, 0.05, 0.0, 0.0, 0.0, 293.15, 0.0, 0.6, 0.0, 0.0, \"mud_wall\")\n",
       " Cell([2, 1, 16], 0.01, 0.05, 0.05, 0.005, 0.025, 0.025, 293.15, 0.0, 0.6, 0.0, 0.0, \"mud_wall\")         Cell([2, 8, 16], 0.01, 0.05, 0.05, 0.005, 0.025, 0.025, 293.15, 0.0, 0.6, 0.0, 0.0, \"mud_wall\")\n",
       " Cell([3, 1, 16], 0.01, 0.05, 0.05, 0.005, 0.025, 0.025, 293.15, 0.0, 0.6, 0.0, 0.0, \"mud_wall\")         Cell([3, 8, 16], 0.01, 0.05, 0.05, 0.005, 0.025, 0.025, 293.15, 0.0, 0.6, 0.0, 0.0, \"mud_wall\")\n",
       " Cell([4, 1, 16], 0.01, 0.005, 0.005, 0.005, 0.0025, 0.0025, 293.15, 0.0, 0.6, 0.0, 0.0, \"mud_wall\")     Cell([4, 8, 16], 0.01, 0.005, 0.005, 0.005, 0.0025, 0.0025, 293.15, 0.0, 0.6, 0.0, 0.0, \"mud_wall\")\n",
       " Cell([5, 1, 16], 0.01, 0.005, 0.005, 0.01, 0.0025, 0.0025, 293.15, 0.0, 0.6, 0.0, 0.0, \"mud_wall\")      Cell([5, 8, 16], 0.01, 0.005, 0.005, 0.01, 0.0025, 0.0025, 293.15, 0.0, 0.6, 0.0, 0.0, \"mud_wall\")"
      ]
     },
     "metadata": {},
     "output_type": "display_data"
    }
   ],
   "source": [
    "wall"
   ]
  },
  {
   "cell_type": "code",
   "execution_count": null,
   "metadata": {},
   "outputs": [],
   "source": []
  }
 ],
 "metadata": {
  "kernelspec": {
   "display_name": "Julia 1.6.7",
   "language": "julia",
   "name": "julia-1.6"
  },
  "language_info": {
   "file_extension": ".jl",
   "mimetype": "application/julia",
   "name": "julia",
   "version": "1.6.7"
  }
 },
 "nbformat": 4,
 "nbformat_minor": 2
}
