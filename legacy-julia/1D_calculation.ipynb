{
 "cells": [
  {
   "attachments": {},
   "cell_type": "markdown",
   "metadata": {},
   "source": [
    "</br>\n",
    "\n",
    "# Sampleプログラム：1次元水平壁内熱水分同時移動解析  \n",
    "version 2.0 1次元熱水分同時移動計算を行う"
   ]
  },
  {
   "attachments": {},
   "cell_type": "markdown",
   "metadata": {},
   "source": [
    "※2021/01/12 加筆・修正  \n",
    "初めて本プログラムを使う際は以下のセルをMarkdownからCodeに変更し、CSVおよびDataFramesパッケージをインストールすること"
   ]
  },
  {
   "attachments": {},
   "cell_type": "markdown",
   "metadata": {},
   "source": [
    "using Pkg\n",
    "Pkg.add(\"CSV\")\n",
    "Pkg.add(\"DataFrames\")"
   ]
  },
  {
   "attachments": {},
   "cell_type": "markdown",
   "metadata": {
    "tags": []
   },
   "source": [
    "## 手順0：計算に必要なモジュールを読み込む  "
   ]
  },
  {
   "cell_type": "code",
   "execution_count": 65,
   "metadata": {},
   "outputs": [
    {
     "name": "stderr",
     "output_type": "stream",
     "text": [
      "WARNING: replacing module property_conversion.\n",
      "WARNING: replacing module water_property.\n",
      "WARNING: replacing module Lewis_relation.\n",
      "WARNING: replacing module Lewis_relation.\n",
      "WARNING: replacing module Lewis_relation.\n",
      "WARNING: replacing module Lewis_relation.\n",
      "WARNING: replacing module Lewis_relation.\n",
      "WARNING: replacing module property_conversion.\n",
      "WARNING: replacing module water_property.\n",
      "WARNING: replacing module Lewis_relation.\n",
      "WARNING: replacing module property_conversion.\n",
      "WARNING: replacing module water_property.\n",
      "WARNING: replacing module Lewis_relation.\n",
      "WARNING: replacing module Lewis_relation.\n",
      "WARNING: replacing module property_conversion.\n",
      "WARNING: replacing module water_property.\n",
      "WARNING: replacing module Lewis_relation.\n"
     ]
    }
   ],
   "source": [
    "using Dates # 解析内時間を計算するためのモジュール\n",
    "include(\"./module/cell.jl\"); # 多孔質材料の構成要素を表すモジュール\n",
    "include(\"./module/air.jl\");  # 空間の構成要素を表すモジュール\n",
    "include(\"./module/room.jl\"); # 室空間の構成要素を表すモジュール\n",
    "include(\"./module/climate.jl\"); # 気象データを取り扱うモジュール\n",
    "include(\"./module/boundary_condition.jl\"); # 境界条件を表すモジュール\n",
    "include(\"./module/transfer_in_media.jl\"); # 材料中における熱・水分の移動を表すモジュール\n",
    "include(\"./logger.jl\"); # 計算結果を保存するモジュール"
   ]
  },
  {
   "attachments": {},
   "cell_type": "markdown",
   "metadata": {
    "tags": []
   },
   "source": [
    "## 手順１：解析対象モデルの構築"
   ]
  },
  {
   "attachments": {},
   "cell_type": "markdown",
   "metadata": {},
   "source": [
    "### 1.1 壁の構築\n",
    "Cell構造体から構成される配列であるwall（壁）を作成する。  \n",
    "Cell構造体は空間情報、熱力学的状態量、材料名称の主に3つを有し、これらの情報から各物性値を求めることができる。  \n",
    "Cell構造体の詳細はcell.ipynbのファイルを確認すること。  \n",
    "wallの作成方法は、主に下記の3つがある。  \n",
    "1. 手動で壁の各コントールボリュームの幅、温度、相対湿度、材料名を記述する方法\n",
    "2. 壁の幅と分割数、初期の温度、相対湿度、材料名を記入し、コントロールボリュームを自動で作成する方法\n",
    "3. ./input_data/wall_data内に格納されたcsvファイルから各コントロールボリュームの情報を読み込む方法\n",
    "\n",
    "ここでは最も一般的な1.の方法でwallを作成する。"
   ]
  },
  {
   "cell_type": "code",
   "execution_count": 66,
   "metadata": {},
   "outputs": [
    {
     "name": "stderr",
     "output_type": "stream",
     "text": [
      "WARNING: replacing module property_conversion.\n",
      "WARNING: replacing module water_property.\n"
     ]
    },
    {
     "data": {
      "text/plain": [
       "input_cell_data (generic function with 2 methods)"
      ]
     },
     "metadata": {},
     "output_type": "display_data"
    }
   ],
   "source": [
    "# CSVファイル読込用モジュール\n",
    "using CSV, DataFrames\n",
    "include(\"./module/property_conversion.jl\")\n",
    "\n",
    "# 壁データ読込関数\n",
    "function input_cell_data(file_name::String)\n",
    "    file_directory = \"./input_data/wall_data/\"*string(file_name)*\".csv\"\n",
    "    input_data = CSV.File(file_directory, header = 1) |> DataFrame\n",
    "    cell = [Cell() for i = 1:length(input_data.i)]\n",
    "    \n",
    "    for i = 1:length(input_data.i)\n",
    "        cell[i].i = [input_data.i[i], 1, 1]\n",
    "        cell[i].dx = input_data.dx[i]\n",
    "        cell[i].temp = input_data.temp[i] + 273.15\n",
    "        cell[i].material_name = input_data.material_name[i]\n",
    "        cell[i].rh = input_data.rh[i] / 100\n",
    "        cell[i].miu = convertRH2Miu(temp = cell[i].temp, rh = cell[i].rh)\n",
    "        \n",
    "        # dx2設定\n",
    "        if i == 1 || i == length(input_data.i)\n",
    "            cell[i].dx2 = cell[i].dx\n",
    "        else\n",
    "            cell[i].dx2 = cell[i].dx / 2\n",
    "        end\n",
    "    end\n",
    "    return cell\n",
    "end"
   ]
  },
  {
   "cell_type": "code",
   "execution_count": 67,
   "metadata": {},
   "outputs": [
    {
     "name": "stdout",
     "output_type": "stream",
     "text": [
      "総壁厚: 63.0mm\n",
      "セル数: 6個\n",
      "Layer 1: metal_plate (0.5mm)\n",
      "Layer 2: glass_wool_16K (16.7mm)\n",
      "Layer 3: glass_wool_16K (16.7mm)\n",
      "Layer 4: glass_wool_16K (16.6mm)\n",
      "Layer 5: plasterboard (6.25mm)\n",
      "Layer 6: plasterboard (6.25mm)\n"
     ]
    }
   ],
   "source": [
    "# L個のCell構造体から構成されるwallを作成\n",
    "# L = 6\n",
    "# width = 0.005\n",
    "# wall = [ Cell() for i = 1 : L ];\n",
    "\n",
    "# CSVファイルから壁構成を読込\n",
    "wall = input_cell_data(\"storage_shed_optimal\")\n",
    "L = length(wall)\n",
    "\n",
    "# 壁厚の確認表示\n",
    "total_width = sum([cell.dx for cell in wall])\n",
    "println(\"総壁厚: \", total_width*1000, \"mm\")\n",
    "println(\"セル数: \", L, \"個\")\n",
    "for i = 1:L\n",
    "    println(\"Layer \", i, \": \", wall[i].material_name, \" (\", wall[i].dx*1000, \"mm)\")\n",
    "end"
   ]
  },
  {
   "cell_type": "code",
   "execution_count": 68,
   "metadata": {},
   "outputs": [],
   "source": [
    "# 各CVの情報を入力する。なお、i,dx,dx2,temp,miu（水分化学ポテンシャル）,material_nameは入力必須項目である。\n",
    "# for i = 1 : L\n",
    "#     wall[i].i = [ i, 1, 1 ]\n",
    "#     if i == 1 || i == L     wall[i].dx  = ( width / ( L - 1 ) / 2 )\n",
    "#     else                    wall[i].dx = width / ( L - 1 ) end\n",
    "#     if i == 1               wall[i].dx2 = 0.0\n",
    "#     elseif i == L           wall[i].dx2 = wall[i].dx2\n",
    "#     else                    wall[i].dx2 = wall[i].dx / 2 end\n",
    "#     wall[i].temp = 10.0 + 273.15\n",
    "#     wall[i].rh = 0.6\n",
    "#     wall[i].miu = convertRH2Miu( temp = wall[i].temp, rh = wall[i].rh )\n",
    "#     wall[i].material_name = \"mud_wall\"\n",
    "# end"
   ]
  },
  {
   "attachments": {},
   "cell_type": "markdown",
   "metadata": {},
   "source": [
    "### 1.2 境界条件と空間の構成要素の設定\n",
    "\n",
    "Air構造体を作成する。  \n",
    "Air構造体は空間情報（体積）、熱力学的状態量、伝達係数の主に3つを有する。  \n",
    "Air構造体の詳細はair.ipynbのファイルを確認すること。  \n",
    "Air構造体は手動で情報を入力する必要があり、\n",
    "\n",
    "壁は表面（配列の1側）、裏面（配列のend側）ともに空気に接するものとする。  \n",
    "このとき、表面側を室内側、裏面側を外気とし以下のように設定する。  \n",
    "\n",
    "- air_in （室内側空気）：対流熱伝達率4.9\n",
    "- air_out（外気側空気）：対流熱伝達率18.6  \n",
    "\n",
    "なお、初期の温度、相対湿度に関しては測定した気象データを用いるため適当な値とした。"
   ]
  },
  {
   "cell_type": "code",
   "execution_count": 69,
   "metadata": {},
   "outputs": [
    {
     "data": {
      "text/plain": [
       "2.8834097223745298e-8"
      ]
     },
     "metadata": {},
     "output_type": "display_data"
    }
   ],
   "source": [
    "air_in = BC_Robin()\n",
    "air_in.air.name = \"indoor\"      # 名称\n",
    "air_in.air.temp = 10.0 + 273.15 # 温度\n",
    "air_in.air.rh   = 0.7           # 相対湿度\n",
    "air_in.alphac = 4.9             # 対流熱伝達率\n",
    "air_in.alphar = 4.4             # 放射熱伝達率\n",
    "air_in.alpha  = air_in.alphac + air_in.alphar   # 総合熱伝達率\n",
    "air_in.aldm   = aldm_by_alphac(air_in)          # 湿気伝達率（ルイス関係より算出）"
   ]
  },
  {
   "cell_type": "code",
   "execution_count": 70,
   "metadata": {},
   "outputs": [
    {
     "data": {
      "text/plain": [
       "1.0571823166213907e-7"
      ]
     },
     "metadata": {},
     "output_type": "display_data"
    }
   ],
   "source": [
    "air_out = BC_Robin()\n",
    "air_out.air.name = \"outdoor\"     # 名称\n",
    "air_out.air.temp = 20.0 + 273.15 # 温度\n",
    "air_out.air.rh   = 0.6           # 相対湿度\n",
    "air_out.alphac = 18.6            # 対流熱伝達率\n",
    "air_out.alphar = 4.4             # 放射熱伝達率\n",
    "air_out.alpha  = air_out.alphac + air_out.alphar   # 総合熱伝達率（23.0 W/m²K）\n",
    "air_out.aldm   = aldm_by_alphac(air_out)          # 湿気伝達率（ルイス関係より算出）"
   ]
  },
  {
   "cell_type": "markdown",
   "metadata": {},
   "source": [
    "### 1.3 解析対象モデルの作成（壁と境界条件の結合）\n",
    "1.1および1.2にて作成した壁および境界条件を結合し、解析対象モデルとする。"
   ]
  },
  {
   "cell_type": "code",
   "execution_count": 71,
   "metadata": {},
   "outputs": [
    {
     "data": {
      "text/plain": [
       "8-element Vector{Any}:\n",
       " BC_Robin(\"NoName\", Air(0, \"indoor\", 0.0, 0.0, 0.0, 0.0, 283.15, 0.7, 0.0, 0.0, 101325.0, 0.0, 0.0, 0.0, 0.0, 0.0, 0.0, 0.0, 0.0, 0.0), Cell([1, 1, 1], [0.0, 0.0, 0.0], 1.0, 1.0, 1.0, 1.0, 1.0, 1.0, 0.0, 0.0, 0.0, 0.0, 0.0, 101325.0, \"NoName\", [[0.0, 0.0, 0.0], [0.0, 0.0, 0.0]], [[0.0, 0.0, 0.0], [0.0, 0.0, 0.0]], [[0.0, 0.0, 0.0], [0.0, 0.0, 0.0]]), 0.0, 0.0, 0.0, 0.0, 9.3, 4.9, 4.4, 2.8834097223745298e-8, Dict(\"LATIl\" => 360.0, \"e\" => 0.0, \"ALTIs\" => -180.0, \"LATIs\" => -180.0, \"a\" => 0.0, \"ALTIl\" => 360.0), 0.0, 0.0)\n",
       " Cell([1, 1, 1], [0.0, 0.0, 0.0], 0.0005, 1.0, 1.0, 0.0005, 1.0, 1.0, 283.15, -46647.31840378666, 0.7, 0.0, 0.0, 101325.0, \"metal_plate\", [[0.0, 0.0, 0.0], [0.0, 0.0, 0.0]], [[0.0, 0.0, 0.0], [0.0, 0.0, 0.0]], [[0.0, 0.0, 0.0], [0.0, 0.0, 0.0]])\n",
       " Cell([2, 1, 1], [0.0, 0.0, 0.0], 0.0167, 1.0, 1.0, 0.00835, 1.0, 1.0, 283.15, -46647.31840378666, 0.7, 0.0, 0.0, 101325.0, \"glass_wool_16K\", [[0.0, 0.0, 0.0], [0.0, 0.0, 0.0]], [[0.0, 0.0, 0.0], [0.0, 0.0, 0.0]], [[0.0, 0.0, 0.0], [0.0, 0.0, 0.0]])\n",
       " Cell([3, 1, 1], [0.0, 0.0, 0.0], 0.0167, 1.0, 1.0, 0.00835, 1.0, 1.0, 283.15, -46647.31840378666, 0.7, 0.0, 0.0, 101325.0, \"glass_wool_16K\", [[0.0, 0.0, 0.0], [0.0, 0.0, 0.0]], [[0.0, 0.0, 0.0], [0.0, 0.0, 0.0]], [[0.0, 0.0, 0.0], [0.0, 0.0, 0.0]])\n",
       " Cell([4, 1, 1], [0.0, 0.0, 0.0], 0.0166, 1.0, 1.0, 0.0083, 1.0, 1.0, 283.15, -46647.31840378666, 0.7, 0.0, 0.0, 101325.0, \"glass_wool_16K\", [[0.0, 0.0, 0.0], [0.0, 0.0, 0.0]], [[0.0, 0.0, 0.0], [0.0, 0.0, 0.0]], [[0.0, 0.0, 0.0], [0.0, 0.0, 0.0]])\n",
       " Cell([5, 1, 1], [0.0, 0.0, 0.0], 0.00625, 1.0, 1.0, 0.003125, 1.0, 1.0, 283.15, -46647.31840378666, 0.7, 0.0, 0.0, 101325.0, \"plasterboard\", [[0.0, 0.0, 0.0], [0.0, 0.0, 0.0]], [[0.0, 0.0, 0.0], [0.0, 0.0, 0.0]], [[0.0, 0.0, 0.0], [0.0, 0.0, 0.0]])\n",
       " Cell([6, 1, 1], [0.0, 0.0, 0.0], 0.00625, 1.0, 1.0, 0.00625, 1.0, 1.0, 283.15, -46647.31840378666, 0.7, 0.0, 0.0, 101325.0, \"plasterboard\", [[0.0, 0.0, 0.0], [0.0, 0.0, 0.0]], [[0.0, 0.0, 0.0], [0.0, 0.0, 0.0]], [[0.0, 0.0, 0.0], [0.0, 0.0, 0.0]])\n",
       " BC_Robin(\"NoName\", Air(0, \"outdoor\", 0.0, 0.0, 0.0, 0.0, 293.15, 0.6, 0.0, 0.0, 101325.0, 0.0, 0.0, 0.0, 0.0, 0.0, 0.0, 0.0, 0.0, 0.0), Cell([1, 1, 1], [0.0, 0.0, 0.0], 1.0, 1.0, 1.0, 1.0, 1.0, 1.0, 0.0, 0.0, 0.0, 0.0, 0.0, 101325.0, \"NoName\", [[0.0, 0.0, 0.0], [0.0, 0.0, 0.0]], [[0.0, 0.0, 0.0], [0.0, 0.0, 0.0]], [[0.0, 0.0, 0.0], [0.0, 0.0, 0.0]]), 0.0, 0.0, 0.0, 0.0, 23.0, 18.6, 4.4, 1.0571823166213907e-7, Dict(\"LATIl\" => 360.0, \"e\" => 0.0, \"ALTIs\" => -180.0, \"LATIs\" => -180.0, \"a\" => 0.0, \"ALTIl\" => 360.0), 0.0, 0.0)"
      ]
     },
     "metadata": {},
     "output_type": "display_data"
    }
   ],
   "source": [
    "target_model = vcat(air_in, wall, air_out)"
   ]
  },
  {
   "attachments": {},
   "cell_type": "markdown",
   "metadata": {
    "tags": []
   },
   "source": [
    "## 手順２：流量計算式および収支式を構築する"
   ]
  },
  {
   "attachments": {},
   "cell_type": "markdown",
   "metadata": {},
   "source": [
    "流量計算式および収支計算式は一般的な第三種境界条件とする。  \n",
    "日射や降雨等を考慮せず、水平な壁の場合は以下のような式となる。 \n",
    "この部分は必要な計算に応じて適宜修正すること。"
   ]
  },
  {
   "cell_type": "code",
   "execution_count": 72,
   "metadata": {},
   "outputs": [
    {
     "data": {
      "text/plain": [
       "cal_new_temp_miu_neumann (generic function with 1 method)"
      ]
     },
     "metadata": {},
     "output_type": "display_data"
    }
   ],
   "source": [
    "function cal_new_temp_miu_neumann( target_model, dt )\n",
    "    ###################################\n",
    "    # 壁体内部の流量計算\n",
    "    q =  [ cal_q( target_model[i], target_model[i+1] ) for i = 1:length(target_model)-1 ]\n",
    "    jv = [ cal_jv( target_model[i], target_model[i+1] ) for i = 1:length(target_model)-1 ]\n",
    "    jl = [ cal_jl( target_model[i], target_model[i+1], 0.0 ) for i = 1:length(target_model)-1 ]\n",
    "\n",
    "    ###################################\n",
    "    # 熱・水分の収支計算\n",
    "    ntemp = [ cal_newtemp( target_model[i+1], q[i] - q[i+1], - ( jv[i] - jv[i+1] ), dt ) for i = 1:length(target_model)-2 ]\n",
    "    nmiu  = [ cal_newmiu(  target_model[i+1], jv[i] - jv[i+1], jl[i] - jl[i+1], dt ) for i = 1:length(target_model)-2 ]    \n",
    "    \n",
    "    return ntemp, nmiu\n",
    "end"
   ]
  },
  {
   "attachments": {},
   "cell_type": "markdown",
   "metadata": {
    "tags": []
   },
   "source": [
    "## 手順３：計算条件に関する設定  \n"
   ]
  },
  {
   "attachments": {},
   "cell_type": "markdown",
   "metadata": {},
   "source": [
    "計算条件として、主に下記の設定を行う。\n",
    "- dt : 計算の時間刻み \n",
    "- date : 計算開始時刻\n",
    "- end_date : 計算終了時刻  \n",
    "\n",
    "なお、dtは実数（小数点以下も可）、dateはJuliaのDateTimeを使って設定すること。"
   ]
  },
  {
   "cell_type": "code",
   "execution_count": null,
   "metadata": {},
   "outputs": [
    {
     "data": {
      "text/plain": [
       "2012-04-08T00:00:00"
      ]
     },
     "metadata": {},
     "output_type": "display_data"
    }
   ],
   "source": [
    "# 計算の時間刻み\n",
    "dt = 5.0\n",
    "\n",
    "# 計算開始時刻\n",
    "calc_date = DateTime(2012,4,1,0,0,0)\n",
    "\n",
    "# 計算終了時刻\n",
    "end_date = DateTime(2012,4,8,00,00,00)"
   ]
  },
  {
   "attachments": {},
   "cell_type": "markdown",
   "metadata": {
    "tags": []
   },
   "source": [
    "## 手順４：外界気象条件に関する設定  \n",
    "\n",
    "外界気象の扱い方の詳細はclimate.ipynbに示してあるため、詳細はそちらを参照のこと。\n",
    "\n",
    "読み込み方は、関数input_climate_data()を用い、input_data/climate_data内にある気象データ（CSV形式）のディレクトリを指定する。  \n",
    "ヘッダー位置（header）はデフォルトで3行目としてあるため、変更が必要な場合記載すること。 \n",
    "読み込んだ気象データはClimate型として保存される。  \n",
    "\n",
    "※1 読み込めるのはcsvファイルだけであるためExcelファイルは読み込めない。  \n",
    "※2 入力される温度・相対湿度は「℃」セルシウス度、「％」の単位を想定している。  \n",
    "温度をケルビンあるいは相対湿度を無次元「－」で利用する場合は要注意のこと。"
   ]
  },
  {
   "cell_type": "markdown",
   "metadata": {},
   "source": [
    "### 室内側環境条件の読み込み"
   ]
  },
  {
   "cell_type": "code",
   "execution_count": 74,
   "metadata": {},
   "outputs": [
    {
     "data": {
      "text/plain": [
       "60"
      ]
     },
     "metadata": {},
     "output_type": "display_data"
    }
   ],
   "source": [
    "climate_data_in  = input_climate_data(\n",
    "    file_name = \"./input_data/climate_data/sample_climate_data.csv\", \n",
    "    header = 3 );\n",
    "\n",
    "climate_data_in.air = air_in.air\n",
    "\n",
    "# ロギングインターバルの確認\n",
    "climate_data_in.logging_interval"
   ]
  },
  {
   "attachments": {},
   "cell_type": "markdown",
   "metadata": {},
   "source": [
    "### 外気側環境条件の読み込み"
   ]
  },
  {
   "cell_type": "code",
   "execution_count": 75,
   "metadata": {},
   "outputs": [
    {
     "data": {
      "text/plain": [
       "60"
      ]
     },
     "metadata": {},
     "output_type": "display_data"
    }
   ],
   "source": [
    "climate_data_out = input_climate_data( \n",
    "    file_name = \"./input_data/climate_data/sample_climate_data.csv\", \n",
    "    header = 3);\n",
    "\n",
    "climate_data_out.air = air_out.air\n",
    "\n",
    "# ロギングインターバルの確認\n",
    "climate_data_out.logging_interval"
   ]
  },
  {
   "attachments": {},
   "cell_type": "markdown",
   "metadata": {
    "tags": []
   },
   "source": [
    "## 手順５：計算結果の保存"
   ]
  },
  {
   "cell_type": "markdown",
   "metadata": {},
   "source": [
    "計算結果の保存方法はlogger.ipynbファイルに記載してある。  \n",
    "\n",
    "基本的な手順としては、open関数を用いて計算結果を保存するファイルを開き、print関数を用いて計算結果をファイルに書き込むという手順である。  "
   ]
  },
  {
   "cell_type": "code",
   "execution_count": 76,
   "metadata": {},
   "outputs": [],
   "source": [
    "# ロガーの設定\n",
    "logger_room = set_logger(\"result_storage_shed\", 10.0, [\"temp\",\"rh\",\"ah\"], target_model)\n",
    "# ヘッダーの書き込み\n",
    "write_header_to_logger( logger_room )\n",
    "\n",
    "# 初期値の書き込み\n",
    "write_data_to_logger( logger_room, calc_date )"
   ]
  },
  {
   "attachments": {},
   "cell_type": "markdown",
   "metadata": {
    "tags": []
   },
   "source": [
    "## 手順６：繰り返し（ループ）計算  \n",
    "\n",
    "ループ計算は手順３で設定した終了時刻まで計算を行うようなプログラムである。  "
   ]
  },
  {
   "cell_type": "code",
   "execution_count": 77,
   "metadata": {
    "tags": []
   },
   "outputs": [
    {
     "name": "stdout",
     "output_type": "stream",
     "text": [
      "2012/04/01 00:00 外気：温度3.7[℃] 湿度0.77[-]\n",
      "2012/04/02 00:00 外気：温度6.7[℃] 湿度0.68[-]\n",
      "2012/04/03 00:00 外気：温度17.1[℃] 湿度0.63[-]\n",
      "2012/04/04 00:00 外気：温度8.6[℃] 湿度0.39[-]\n",
      "2012/04/05 00:00 外気：温度11.5[℃] 湿度0.5[-]\n",
      "2012/04/06 00:00 外気：温度14.1[℃] 湿度0.45[-]\n",
      "2012/04/07 00:00 外気：温度11.0[℃] 湿度0.38[-]\n"
     ]
    }
   ],
   "source": [
    "# 計算回数の設定\n",
    "while calc_date ≠ end_date\n",
    "    \n",
    "    # １：環境データの更新\n",
    "    reset_climate_data( climate_data_in )\n",
    "    reset_climate_data( climate_data_out )\n",
    "\n",
    "    # ２：新値の計算\n",
    "    ntemp, nmiu = cal_new_temp_miu_neumann( target_model, dt )\n",
    "    \n",
    "    # ３：値の上書き\n",
    "    for i = 1:length(wall)\n",
    "        wall[i].temp = ntemp[i]\n",
    "        wall[i].miu  = nmiu[i]\n",
    "    end\n",
    "    \n",
    "    # 計算時刻の表示\n",
    "    if hour(calc_date) == 0 && minute(calc_date) == 0 && second(calc_date) == 0 && millisecond(calc_date) == 0;\n",
    "        println(Dates.format(calc_date, \"yyyy/mm/dd HH:MM\"), \" 外気：温度\" *  string( round(air_out.air.temp -273.15, digits = 1 ) ) * \"[℃]\" * \" 湿度\" * string( round( air_out.air.rh, digits = 2 ) ) * \"[-]\" )\n",
    "    end\n",
    "        \n",
    "    # ４：時間経過の計算\n",
    "    calc_date = calc_date + Millisecond(dt*1000)\n",
    "    climate_data_in.date    = calc_date\n",
    "    climate_data_out.date   = calc_date\n",
    "    \n",
    "    # ５：データのロギング  \n",
    "    if mod(minute(calc_date), 5) == 0 && second(calc_date) == 0 && millisecond(calc_date) == 0\n",
    "        write_data_to_logger( logger_room, calc_date )\n",
    "    end\n",
    "    \n",
    "end"
   ]
  },
  {
   "cell_type": "code",
   "execution_count": 78,
   "metadata": {},
   "outputs": [],
   "source": [
    "for file in logger_room.file\n",
    "    close(file)\n",
    "end"
   ]
  },
  {
   "cell_type": "code",
   "execution_count": 79,
   "metadata": {},
   "outputs": [
    {
     "data": {
      "text/plain": [
       "2012-04-08T00:00:00"
      ]
     },
     "metadata": {},
     "output_type": "display_data"
    }
   ],
   "source": [
    "calc_date"
   ]
  },
  {
   "cell_type": "code",
   "execution_count": 80,
   "metadata": {},
   "outputs": [],
   "source": []
  }
 ],
 "metadata": {
  "kernelspec": {
   "display_name": "Julia 1.11.5",
   "language": "julia",
   "name": "julia-1.11"
  },
  "language_info": {
   "file_extension": ".jl",
   "mimetype": "application/julia",
   "name": "julia",
   "version": "1.11.5"
  }
 },
 "nbformat": 4,
 "nbformat_minor": 4
}
